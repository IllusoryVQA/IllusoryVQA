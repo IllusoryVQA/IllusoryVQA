{
  "nbformat": 4,
  "nbformat_minor": 0,
  "metadata": {
    "colab": {
      "provenance": []
    },
    "kernelspec": {
      "name": "python3",
      "display_name": "Python 3"
    },
    "language_info": {
      "name": "python"
    }
  },
  "cells": [
    {
      "cell_type": "code",
      "execution_count": null,
      "metadata": {
        "id": "VsWc1Y-JdlHX"
      },
      "outputs": [],
      "source": [
        "from sklearn.metrics import accuracy_score, precision_score, recall_score, f1_score\n",
        "import pandas as pd\n",
        "dataset = 'IllusionAnimals'\n",
        "\n",
        "df = pd.read_csv(f'LLaVa_{dataset}_results.csv')"
      ]
    },
    {
      "cell_type": "code",
      "source": [
        "df"
      ],
      "metadata": {
        "colab": {
          "base_uri": "https://localhost:8080/",
          "height": 1000
        },
        "id": "M-KbtFqDfeRD",
        "outputId": "cf30ee03-dca3-4f96-a5b9-7a0151772e69"
      },
      "execution_count": null,
      "outputs": [
        {
          "output_type": "execute_result",
          "data": {
            "text/plain": [
              "               image_name                                            Pprompt  \\\n",
              "0       IllusionAnimals_1  A raging river flowing through a dense jungle ...   \n",
              "1       IllusionAnimals_2            A starry night sky over a tranquil lake   \n",
              "2       IllusionAnimals_3  Jaguar (Panthera Onca) patrolling South Americ...   \n",
              "3       IllusionAnimals_4  Flowing lava illuminates cavern walls, ancient...   \n",
              "4       IllusionAnimals_5  Dense forest canopy, sunlight filters through,...   \n",
              "..                    ...                                                ...   \n",
              "995   IllusionAnimals_996    Saharan sandstorm turning daytime into darkness   \n",
              "996   IllusionAnimals_997            Urban city with skyscrapers and traffic   \n",
              "997   IllusionAnimals_998   A serene meadow with wildflowers and butterflies   \n",
              "998   IllusionAnimals_999                    Elk bugling in crisp autumn air   \n",
              "999  IllusionAnimals_1000  Misty waterfall cascading, mossy rocks glow, s...   \n",
              "\n",
              "         Nprompt  illusion_strength    label LLaVa_IllusionAnimals_ill_images  \\\n",
              "0    low quality                2.5      cat                      No illusion   \n",
              "1    low quality                2.5      cat                      No illusion   \n",
              "2    low quality                2.5      cat                      No illusion   \n",
              "3    low quality                2.5      cat                      No illusion   \n",
              "4    low quality                2.5      cat                      No illusion   \n",
              "..           ...                ...      ...                              ...   \n",
              "995  low quality                2.5  rooster                          Rooster   \n",
              "996  low quality                2.5  rooster                      No illusion   \n",
              "997  low quality                2.5  rooster                      No illusion   \n",
              "998  low quality                2.5  rooster                             Deer   \n",
              "999  low quality                2.5  rooster                      No illusion   \n",
              "\n",
              "    LLaVa_IllusionAnimals_illusion_images_filtered  \\\n",
              "0                                              Cat   \n",
              "1                                      No illusion   \n",
              "2                                      No illusion   \n",
              "3                                      No illusion   \n",
              "4                                              Cat   \n",
              "..                                             ...   \n",
              "995                                        Rooster   \n",
              "996                                        Rooster   \n",
              "997                                        Rooster   \n",
              "998                                        Rooster   \n",
              "999                                        Rooster   \n",
              "\n",
              "    LLaVa_IllusionAnimals_illusionless_images  \\\n",
              "0                                 No illusion   \n",
              "1                                 No illusion   \n",
              "2                                 No illusion   \n",
              "3                                 No illusion   \n",
              "4                                 No illusion   \n",
              "..                                        ...   \n",
              "995                               No illusion   \n",
              "996                               No illusion   \n",
              "997                               No illusion   \n",
              "998                                      Deer   \n",
              "999                               No illusion   \n",
              "\n",
              "    LLaVa_IllusionAnimals_illusionless_images_filtered  \\\n",
              "0                                          No illusion   \n",
              "1                                          No illusion   \n",
              "2                                          No illusion   \n",
              "3                                          No illusion   \n",
              "4                                          No illusion   \n",
              "..                                                 ...   \n",
              "995                                        No illusion   \n",
              "996                                        No illusion   \n",
              "997                                        No illusion   \n",
              "998                                               Deer   \n",
              "999                                        No illusion   \n",
              "\n",
              "    LLaVa_IllusionAnimals_raw_images  \n",
              "0                                Cat  \n",
              "1                                Cat  \n",
              "2                                Cat  \n",
              "3                                Cat  \n",
              "4                                Cat  \n",
              "..                               ...  \n",
              "995                          Rooster  \n",
              "996                          Rooster  \n",
              "997                          Rooster  \n",
              "998                          Rooster  \n",
              "999                          Rooster  \n",
              "\n",
              "[1000 rows x 10 columns]"
            ],
            "text/html": [
              "\n",
              "  <div id=\"df-1c482a13-ff28-42d8-ae34-5e507089cddf\" class=\"colab-df-container\">\n",
              "    <div>\n",
              "<style scoped>\n",
              "    .dataframe tbody tr th:only-of-type {\n",
              "        vertical-align: middle;\n",
              "    }\n",
              "\n",
              "    .dataframe tbody tr th {\n",
              "        vertical-align: top;\n",
              "    }\n",
              "\n",
              "    .dataframe thead th {\n",
              "        text-align: right;\n",
              "    }\n",
              "</style>\n",
              "<table border=\"1\" class=\"dataframe\">\n",
              "  <thead>\n",
              "    <tr style=\"text-align: right;\">\n",
              "      <th></th>\n",
              "      <th>image_name</th>\n",
              "      <th>Pprompt</th>\n",
              "      <th>Nprompt</th>\n",
              "      <th>illusion_strength</th>\n",
              "      <th>label</th>\n",
              "      <th>LLaVa_IllusionAnimals_ill_images</th>\n",
              "      <th>LLaVa_IllusionAnimals_illusion_images_filtered</th>\n",
              "      <th>LLaVa_IllusionAnimals_illusionless_images</th>\n",
              "      <th>LLaVa_IllusionAnimals_illusionless_images_filtered</th>\n",
              "      <th>LLaVa_IllusionAnimals_raw_images</th>\n",
              "    </tr>\n",
              "  </thead>\n",
              "  <tbody>\n",
              "    <tr>\n",
              "      <th>0</th>\n",
              "      <td>IllusionAnimals_1</td>\n",
              "      <td>A raging river flowing through a dense jungle ...</td>\n",
              "      <td>low quality</td>\n",
              "      <td>2.5</td>\n",
              "      <td>cat</td>\n",
              "      <td>No illusion</td>\n",
              "      <td>Cat</td>\n",
              "      <td>No illusion</td>\n",
              "      <td>No illusion</td>\n",
              "      <td>Cat</td>\n",
              "    </tr>\n",
              "    <tr>\n",
              "      <th>1</th>\n",
              "      <td>IllusionAnimals_2</td>\n",
              "      <td>A starry night sky over a tranquil lake</td>\n",
              "      <td>low quality</td>\n",
              "      <td>2.5</td>\n",
              "      <td>cat</td>\n",
              "      <td>No illusion</td>\n",
              "      <td>No illusion</td>\n",
              "      <td>No illusion</td>\n",
              "      <td>No illusion</td>\n",
              "      <td>Cat</td>\n",
              "    </tr>\n",
              "    <tr>\n",
              "      <th>2</th>\n",
              "      <td>IllusionAnimals_3</td>\n",
              "      <td>Jaguar (Panthera Onca) patrolling South Americ...</td>\n",
              "      <td>low quality</td>\n",
              "      <td>2.5</td>\n",
              "      <td>cat</td>\n",
              "      <td>No illusion</td>\n",
              "      <td>No illusion</td>\n",
              "      <td>No illusion</td>\n",
              "      <td>No illusion</td>\n",
              "      <td>Cat</td>\n",
              "    </tr>\n",
              "    <tr>\n",
              "      <th>3</th>\n",
              "      <td>IllusionAnimals_4</td>\n",
              "      <td>Flowing lava illuminates cavern walls, ancient...</td>\n",
              "      <td>low quality</td>\n",
              "      <td>2.5</td>\n",
              "      <td>cat</td>\n",
              "      <td>No illusion</td>\n",
              "      <td>No illusion</td>\n",
              "      <td>No illusion</td>\n",
              "      <td>No illusion</td>\n",
              "      <td>Cat</td>\n",
              "    </tr>\n",
              "    <tr>\n",
              "      <th>4</th>\n",
              "      <td>IllusionAnimals_5</td>\n",
              "      <td>Dense forest canopy, sunlight filters through,...</td>\n",
              "      <td>low quality</td>\n",
              "      <td>2.5</td>\n",
              "      <td>cat</td>\n",
              "      <td>No illusion</td>\n",
              "      <td>Cat</td>\n",
              "      <td>No illusion</td>\n",
              "      <td>No illusion</td>\n",
              "      <td>Cat</td>\n",
              "    </tr>\n",
              "    <tr>\n",
              "      <th>...</th>\n",
              "      <td>...</td>\n",
              "      <td>...</td>\n",
              "      <td>...</td>\n",
              "      <td>...</td>\n",
              "      <td>...</td>\n",
              "      <td>...</td>\n",
              "      <td>...</td>\n",
              "      <td>...</td>\n",
              "      <td>...</td>\n",
              "      <td>...</td>\n",
              "    </tr>\n",
              "    <tr>\n",
              "      <th>995</th>\n",
              "      <td>IllusionAnimals_996</td>\n",
              "      <td>Saharan sandstorm turning daytime into darkness</td>\n",
              "      <td>low quality</td>\n",
              "      <td>2.5</td>\n",
              "      <td>rooster</td>\n",
              "      <td>Rooster</td>\n",
              "      <td>Rooster</td>\n",
              "      <td>No illusion</td>\n",
              "      <td>No illusion</td>\n",
              "      <td>Rooster</td>\n",
              "    </tr>\n",
              "    <tr>\n",
              "      <th>996</th>\n",
              "      <td>IllusionAnimals_997</td>\n",
              "      <td>Urban city with skyscrapers and traffic</td>\n",
              "      <td>low quality</td>\n",
              "      <td>2.5</td>\n",
              "      <td>rooster</td>\n",
              "      <td>No illusion</td>\n",
              "      <td>Rooster</td>\n",
              "      <td>No illusion</td>\n",
              "      <td>No illusion</td>\n",
              "      <td>Rooster</td>\n",
              "    </tr>\n",
              "    <tr>\n",
              "      <th>997</th>\n",
              "      <td>IllusionAnimals_998</td>\n",
              "      <td>A serene meadow with wildflowers and butterflies</td>\n",
              "      <td>low quality</td>\n",
              "      <td>2.5</td>\n",
              "      <td>rooster</td>\n",
              "      <td>No illusion</td>\n",
              "      <td>Rooster</td>\n",
              "      <td>No illusion</td>\n",
              "      <td>No illusion</td>\n",
              "      <td>Rooster</td>\n",
              "    </tr>\n",
              "    <tr>\n",
              "      <th>998</th>\n",
              "      <td>IllusionAnimals_999</td>\n",
              "      <td>Elk bugling in crisp autumn air</td>\n",
              "      <td>low quality</td>\n",
              "      <td>2.5</td>\n",
              "      <td>rooster</td>\n",
              "      <td>Deer</td>\n",
              "      <td>Rooster</td>\n",
              "      <td>Deer</td>\n",
              "      <td>Deer</td>\n",
              "      <td>Rooster</td>\n",
              "    </tr>\n",
              "    <tr>\n",
              "      <th>999</th>\n",
              "      <td>IllusionAnimals_1000</td>\n",
              "      <td>Misty waterfall cascading, mossy rocks glow, s...</td>\n",
              "      <td>low quality</td>\n",
              "      <td>2.5</td>\n",
              "      <td>rooster</td>\n",
              "      <td>No illusion</td>\n",
              "      <td>Rooster</td>\n",
              "      <td>No illusion</td>\n",
              "      <td>No illusion</td>\n",
              "      <td>Rooster</td>\n",
              "    </tr>\n",
              "  </tbody>\n",
              "</table>\n",
              "<p>1000 rows × 10 columns</p>\n",
              "</div>\n",
              "    <div class=\"colab-df-buttons\">\n",
              "\n",
              "  <div class=\"colab-df-container\">\n",
              "    <button class=\"colab-df-convert\" onclick=\"convertToInteractive('df-1c482a13-ff28-42d8-ae34-5e507089cddf')\"\n",
              "            title=\"Convert this dataframe to an interactive table.\"\n",
              "            style=\"display:none;\">\n",
              "\n",
              "  <svg xmlns=\"http://www.w3.org/2000/svg\" height=\"24px\" viewBox=\"0 -960 960 960\">\n",
              "    <path d=\"M120-120v-720h720v720H120Zm60-500h600v-160H180v160Zm220 220h160v-160H400v160Zm0 220h160v-160H400v160ZM180-400h160v-160H180v160Zm440 0h160v-160H620v160ZM180-180h160v-160H180v160Zm440 0h160v-160H620v160Z\"/>\n",
              "  </svg>\n",
              "    </button>\n",
              "\n",
              "  <style>\n",
              "    .colab-df-container {\n",
              "      display:flex;\n",
              "      gap: 12px;\n",
              "    }\n",
              "\n",
              "    .colab-df-convert {\n",
              "      background-color: #E8F0FE;\n",
              "      border: none;\n",
              "      border-radius: 50%;\n",
              "      cursor: pointer;\n",
              "      display: none;\n",
              "      fill: #1967D2;\n",
              "      height: 32px;\n",
              "      padding: 0 0 0 0;\n",
              "      width: 32px;\n",
              "    }\n",
              "\n",
              "    .colab-df-convert:hover {\n",
              "      background-color: #E2EBFA;\n",
              "      box-shadow: 0px 1px 2px rgba(60, 64, 67, 0.3), 0px 1px 3px 1px rgba(60, 64, 67, 0.15);\n",
              "      fill: #174EA6;\n",
              "    }\n",
              "\n",
              "    .colab-df-buttons div {\n",
              "      margin-bottom: 4px;\n",
              "    }\n",
              "\n",
              "    [theme=dark] .colab-df-convert {\n",
              "      background-color: #3B4455;\n",
              "      fill: #D2E3FC;\n",
              "    }\n",
              "\n",
              "    [theme=dark] .colab-df-convert:hover {\n",
              "      background-color: #434B5C;\n",
              "      box-shadow: 0px 1px 3px 1px rgba(0, 0, 0, 0.15);\n",
              "      filter: drop-shadow(0px 1px 2px rgba(0, 0, 0, 0.3));\n",
              "      fill: #FFFFFF;\n",
              "    }\n",
              "  </style>\n",
              "\n",
              "    <script>\n",
              "      const buttonEl =\n",
              "        document.querySelector('#df-1c482a13-ff28-42d8-ae34-5e507089cddf button.colab-df-convert');\n",
              "      buttonEl.style.display =\n",
              "        google.colab.kernel.accessAllowed ? 'block' : 'none';\n",
              "\n",
              "      async function convertToInteractive(key) {\n",
              "        const element = document.querySelector('#df-1c482a13-ff28-42d8-ae34-5e507089cddf');\n",
              "        const dataTable =\n",
              "          await google.colab.kernel.invokeFunction('convertToInteractive',\n",
              "                                                    [key], {});\n",
              "        if (!dataTable) return;\n",
              "\n",
              "        const docLinkHtml = 'Like what you see? Visit the ' +\n",
              "          '<a target=\"_blank\" href=https://colab.research.google.com/notebooks/data_table.ipynb>data table notebook</a>'\n",
              "          + ' to learn more about interactive tables.';\n",
              "        element.innerHTML = '';\n",
              "        dataTable['output_type'] = 'display_data';\n",
              "        await google.colab.output.renderOutput(dataTable, element);\n",
              "        const docLink = document.createElement('div');\n",
              "        docLink.innerHTML = docLinkHtml;\n",
              "        element.appendChild(docLink);\n",
              "      }\n",
              "    </script>\n",
              "  </div>\n",
              "\n",
              "\n",
              "<div id=\"df-de2f939f-4f2c-4fd4-8dec-09e0bb4df3b7\">\n",
              "  <button class=\"colab-df-quickchart\" onclick=\"quickchart('df-de2f939f-4f2c-4fd4-8dec-09e0bb4df3b7')\"\n",
              "            title=\"Suggest charts\"\n",
              "            style=\"display:none;\">\n",
              "\n",
              "<svg xmlns=\"http://www.w3.org/2000/svg\" height=\"24px\"viewBox=\"0 0 24 24\"\n",
              "     width=\"24px\">\n",
              "    <g>\n",
              "        <path d=\"M19 3H5c-1.1 0-2 .9-2 2v14c0 1.1.9 2 2 2h14c1.1 0 2-.9 2-2V5c0-1.1-.9-2-2-2zM9 17H7v-7h2v7zm4 0h-2V7h2v10zm4 0h-2v-4h2v4z\"/>\n",
              "    </g>\n",
              "</svg>\n",
              "  </button>\n",
              "\n",
              "<style>\n",
              "  .colab-df-quickchart {\n",
              "      --bg-color: #E8F0FE;\n",
              "      --fill-color: #1967D2;\n",
              "      --hover-bg-color: #E2EBFA;\n",
              "      --hover-fill-color: #174EA6;\n",
              "      --disabled-fill-color: #AAA;\n",
              "      --disabled-bg-color: #DDD;\n",
              "  }\n",
              "\n",
              "  [theme=dark] .colab-df-quickchart {\n",
              "      --bg-color: #3B4455;\n",
              "      --fill-color: #D2E3FC;\n",
              "      --hover-bg-color: #434B5C;\n",
              "      --hover-fill-color: #FFFFFF;\n",
              "      --disabled-bg-color: #3B4455;\n",
              "      --disabled-fill-color: #666;\n",
              "  }\n",
              "\n",
              "  .colab-df-quickchart {\n",
              "    background-color: var(--bg-color);\n",
              "    border: none;\n",
              "    border-radius: 50%;\n",
              "    cursor: pointer;\n",
              "    display: none;\n",
              "    fill: var(--fill-color);\n",
              "    height: 32px;\n",
              "    padding: 0;\n",
              "    width: 32px;\n",
              "  }\n",
              "\n",
              "  .colab-df-quickchart:hover {\n",
              "    background-color: var(--hover-bg-color);\n",
              "    box-shadow: 0 1px 2px rgba(60, 64, 67, 0.3), 0 1px 3px 1px rgba(60, 64, 67, 0.15);\n",
              "    fill: var(--button-hover-fill-color);\n",
              "  }\n",
              "\n",
              "  .colab-df-quickchart-complete:disabled,\n",
              "  .colab-df-quickchart-complete:disabled:hover {\n",
              "    background-color: var(--disabled-bg-color);\n",
              "    fill: var(--disabled-fill-color);\n",
              "    box-shadow: none;\n",
              "  }\n",
              "\n",
              "  .colab-df-spinner {\n",
              "    border: 2px solid var(--fill-color);\n",
              "    border-color: transparent;\n",
              "    border-bottom-color: var(--fill-color);\n",
              "    animation:\n",
              "      spin 1s steps(1) infinite;\n",
              "  }\n",
              "\n",
              "  @keyframes spin {\n",
              "    0% {\n",
              "      border-color: transparent;\n",
              "      border-bottom-color: var(--fill-color);\n",
              "      border-left-color: var(--fill-color);\n",
              "    }\n",
              "    20% {\n",
              "      border-color: transparent;\n",
              "      border-left-color: var(--fill-color);\n",
              "      border-top-color: var(--fill-color);\n",
              "    }\n",
              "    30% {\n",
              "      border-color: transparent;\n",
              "      border-left-color: var(--fill-color);\n",
              "      border-top-color: var(--fill-color);\n",
              "      border-right-color: var(--fill-color);\n",
              "    }\n",
              "    40% {\n",
              "      border-color: transparent;\n",
              "      border-right-color: var(--fill-color);\n",
              "      border-top-color: var(--fill-color);\n",
              "    }\n",
              "    60% {\n",
              "      border-color: transparent;\n",
              "      border-right-color: var(--fill-color);\n",
              "    }\n",
              "    80% {\n",
              "      border-color: transparent;\n",
              "      border-right-color: var(--fill-color);\n",
              "      border-bottom-color: var(--fill-color);\n",
              "    }\n",
              "    90% {\n",
              "      border-color: transparent;\n",
              "      border-bottom-color: var(--fill-color);\n",
              "    }\n",
              "  }\n",
              "</style>\n",
              "\n",
              "  <script>\n",
              "    async function quickchart(key) {\n",
              "      const quickchartButtonEl =\n",
              "        document.querySelector('#' + key + ' button');\n",
              "      quickchartButtonEl.disabled = true;  // To prevent multiple clicks.\n",
              "      quickchartButtonEl.classList.add('colab-df-spinner');\n",
              "      try {\n",
              "        const charts = await google.colab.kernel.invokeFunction(\n",
              "            'suggestCharts', [key], {});\n",
              "      } catch (error) {\n",
              "        console.error('Error during call to suggestCharts:', error);\n",
              "      }\n",
              "      quickchartButtonEl.classList.remove('colab-df-spinner');\n",
              "      quickchartButtonEl.classList.add('colab-df-quickchart-complete');\n",
              "    }\n",
              "    (() => {\n",
              "      let quickchartButtonEl =\n",
              "        document.querySelector('#df-de2f939f-4f2c-4fd4-8dec-09e0bb4df3b7 button');\n",
              "      quickchartButtonEl.style.display =\n",
              "        google.colab.kernel.accessAllowed ? 'block' : 'none';\n",
              "    })();\n",
              "  </script>\n",
              "</div>\n",
              "    </div>\n",
              "  </div>\n"
            ],
            "application/vnd.google.colaboratory.intrinsic+json": {
              "type": "dataframe",
              "variable_name": "df",
              "summary": "{\n  \"name\": \"df\",\n  \"rows\": 1000,\n  \"fields\": [\n    {\n      \"column\": \"image_name\",\n      \"properties\": {\n        \"dtype\": \"string\",\n        \"num_unique_values\": 1000,\n        \"samples\": [\n          \"IllusionAnimals_522\",\n          \"IllusionAnimals_738\",\n          \"IllusionAnimals_741\"\n        ],\n        \"semantic_type\": \"\",\n        \"description\": \"\"\n      }\n    },\n    {\n      \"column\": \"Pprompt\",\n      \"properties\": {\n        \"dtype\": \"string\",\n        \"num_unique_values\": 635,\n        \"samples\": [\n          \"A busy airport with planes taking off and landing\",\n          \"A serene lake with lush forest and mountains\",\n          \"Jellyfish undulating rhythmically\"\n        ],\n        \"semantic_type\": \"\",\n        \"description\": \"\"\n      }\n    },\n    {\n      \"column\": \"Nprompt\",\n      \"properties\": {\n        \"dtype\": \"category\",\n        \"num_unique_values\": 1,\n        \"samples\": [\n          \"low quality\"\n        ],\n        \"semantic_type\": \"\",\n        \"description\": \"\"\n      }\n    },\n    {\n      \"column\": \"illusion_strength\",\n      \"properties\": {\n        \"dtype\": \"number\",\n        \"std\": 0.0,\n        \"min\": 2.5,\n        \"max\": 2.5,\n        \"num_unique_values\": 1,\n        \"samples\": [\n          2.5\n        ],\n        \"semantic_type\": \"\",\n        \"description\": \"\"\n      }\n    },\n    {\n      \"column\": \"label\",\n      \"properties\": {\n        \"dtype\": \"category\",\n        \"num_unique_values\": 10,\n        \"samples\": [\n          \"fish\"\n        ],\n        \"semantic_type\": \"\",\n        \"description\": \"\"\n      }\n    },\n    {\n      \"column\": \"LLaVa_IllusionAnimals_ill_images\",\n      \"properties\": {\n        \"dtype\": \"category\",\n        \"num_unique_values\": 9,\n        \"samples\": [\n          \" Snake\"\n        ],\n        \"semantic_type\": \"\",\n        \"description\": \"\"\n      }\n    },\n    {\n      \"column\": \"LLaVa_IllusionAnimals_illusion_images_filtered\",\n      \"properties\": {\n        \"dtype\": \"category\",\n        \"num_unique_values\": 11,\n        \"samples\": [\n          \" Butterfly\"\n        ],\n        \"semantic_type\": \"\",\n        \"description\": \"\"\n      }\n    },\n    {\n      \"column\": \"LLaVa_IllusionAnimals_illusionless_images\",\n      \"properties\": {\n        \"dtype\": \"category\",\n        \"num_unique_values\": 11,\n        \"samples\": [\n          \" Pigeon\"\n        ],\n        \"semantic_type\": \"\",\n        \"description\": \"\"\n      }\n    },\n    {\n      \"column\": \"LLaVa_IllusionAnimals_illusionless_images_filtered\",\n      \"properties\": {\n        \"dtype\": \"category\",\n        \"num_unique_values\": 6,\n        \"samples\": [\n          \" No illusion\"\n        ],\n        \"semantic_type\": \"\",\n        \"description\": \"\"\n      }\n    },\n    {\n      \"column\": \"LLaVa_IllusionAnimals_raw_images\",\n      \"properties\": {\n        \"dtype\": \"category\",\n        \"num_unique_values\": 10,\n        \"samples\": [\n          \" Fish\"\n        ],\n        \"semantic_type\": \"\",\n        \"description\": \"\"\n      }\n    }\n  ]\n}"
            }
          },
          "metadata": {},
          "execution_count": 67
        }
      ]
    },
    {
      "cell_type": "code",
      "source": [
        "raw_classes = {\n",
        "    'FashionMnist': ['T-shirt/top', 'Trouser', 'Pullover', 'Dress', 'Coat', 'Sandal', 'Shirt', 'Sneaker', 'Bag', 'Ankle boot'],\n",
        "    'Mnist': ['digit 0', 'digit 1', 'digit 2', 'digit 3', 'digit 4', 'digit 5', 'digit 6', 'digit 7', 'digit 8', 'digit 9'],\n",
        "    'IllusionAnimals': ['cat', 'dog', 'pigeon', 'butterfly', 'elephant', 'horse', 'deer', 'snake', 'fish', 'rooster' ],\n",
        "}\n",
        "\n",
        "classes = {\n",
        "    'FashionMnist': ['T-shirt/top', 'Trouser', 'Pullover', 'Dress', 'Coat', 'Sandal', 'Shirt', 'Sneaker', 'Bag', 'Ankle boot', 'No illusion'],\n",
        "    'Mnist': ['digit 0', 'digit 1', 'digit 2', 'digit 3', 'digit 4', 'digit 5', 'digit 6', 'digit 7', 'digit 8', 'digit 9', 'No illusion'],\n",
        "    'IllusionAnimals': ['cat', 'dog', 'pigeon', 'butterfly', 'elephant', 'horse', 'deer', 'snake', 'fish', 'rooster', 'No illusion' ],\n",
        "}\n",
        "\n",
        "assert {item.strip().lower() for item in df[f'LLaVa_{dataset}_ill_images'].unique()}.issubset({item.strip().lower() for item in classes[dataset]})\n",
        "assert {item.strip().lower() for item in df[f'LLaVa_{dataset}_illusion_images_filtered'].unique()}.issubset({item.strip().lower() for item in classes[dataset]})\n",
        "assert {item.strip().lower() for item in df[f'LLaVa_{dataset}_illusionless_images'].unique()}.issubset({item.strip().lower() for item in classes[dataset]})\n",
        "assert {item.strip().lower() for item in df[f'LLaVa_{dataset}_illusionless_images_filtered'].unique()}.issubset({item.strip().lower() for item in classes[dataset]})\n",
        "assert {item.strip().lower() for item in df[f'LLaVa_{dataset}_raw_images'].unique()}.issubset({item.strip().lower() for item in raw_classes[dataset]})"
      ],
      "metadata": {
        "id": "9OQ9pwW9gfXb",
        "colab": {
          "base_uri": "https://localhost:8080/",
          "height": 297
        },
        "outputId": "e57a62f4-318a-4bf3-d97e-7cf5d116b7fc"
      },
      "execution_count": null,
      "outputs": [
        {
          "output_type": "error",
          "ename": "AssertionError",
          "evalue": "",
          "traceback": [
            "\u001b[0;31m---------------------------------------------------------------------------\u001b[0m",
            "\u001b[0;31mAssertionError\u001b[0m                            Traceback (most recent call last)",
            "\u001b[0;32m<ipython-input-57-59d5051b6e4e>\u001b[0m in \u001b[0;36m<cell line: 15>\u001b[0;34m()\u001b[0m\n\u001b[1;32m     13\u001b[0m \u001b[0;32massert\u001b[0m \u001b[0;34m{\u001b[0m\u001b[0mitem\u001b[0m\u001b[0;34m.\u001b[0m\u001b[0mstrip\u001b[0m\u001b[0;34m(\u001b[0m\u001b[0;34m)\u001b[0m\u001b[0;34m.\u001b[0m\u001b[0mlower\u001b[0m\u001b[0;34m(\u001b[0m\u001b[0;34m)\u001b[0m \u001b[0;32mfor\u001b[0m \u001b[0mitem\u001b[0m \u001b[0;32min\u001b[0m \u001b[0mdf\u001b[0m\u001b[0;34m[\u001b[0m\u001b[0;34mf'LLaVa_{dataset}_ill_images'\u001b[0m\u001b[0;34m]\u001b[0m\u001b[0;34m.\u001b[0m\u001b[0munique\u001b[0m\u001b[0;34m(\u001b[0m\u001b[0;34m)\u001b[0m\u001b[0;34m}\u001b[0m\u001b[0;34m.\u001b[0m\u001b[0missubset\u001b[0m\u001b[0;34m(\u001b[0m\u001b[0;34m{\u001b[0m\u001b[0mitem\u001b[0m\u001b[0;34m.\u001b[0m\u001b[0mstrip\u001b[0m\u001b[0;34m(\u001b[0m\u001b[0;34m)\u001b[0m\u001b[0;34m.\u001b[0m\u001b[0mlower\u001b[0m\u001b[0;34m(\u001b[0m\u001b[0;34m)\u001b[0m \u001b[0;32mfor\u001b[0m \u001b[0mitem\u001b[0m \u001b[0;32min\u001b[0m \u001b[0mclasses\u001b[0m\u001b[0;34m[\u001b[0m\u001b[0mdataset\u001b[0m\u001b[0;34m]\u001b[0m\u001b[0;34m}\u001b[0m\u001b[0;34m)\u001b[0m\u001b[0;34m\u001b[0m\u001b[0;34m\u001b[0m\u001b[0m\n\u001b[1;32m     14\u001b[0m \u001b[0;32massert\u001b[0m \u001b[0;34m{\u001b[0m\u001b[0mitem\u001b[0m\u001b[0;34m.\u001b[0m\u001b[0mstrip\u001b[0m\u001b[0;34m(\u001b[0m\u001b[0;34m)\u001b[0m\u001b[0;34m.\u001b[0m\u001b[0mlower\u001b[0m\u001b[0;34m(\u001b[0m\u001b[0;34m)\u001b[0m \u001b[0;32mfor\u001b[0m \u001b[0mitem\u001b[0m \u001b[0;32min\u001b[0m \u001b[0mdf\u001b[0m\u001b[0;34m[\u001b[0m\u001b[0;34mf'LLaVa_{dataset}_illusion_images_filtered'\u001b[0m\u001b[0;34m]\u001b[0m\u001b[0;34m.\u001b[0m\u001b[0munique\u001b[0m\u001b[0;34m(\u001b[0m\u001b[0;34m)\u001b[0m\u001b[0;34m}\u001b[0m\u001b[0;34m.\u001b[0m\u001b[0missubset\u001b[0m\u001b[0;34m(\u001b[0m\u001b[0;34m{\u001b[0m\u001b[0mitem\u001b[0m\u001b[0;34m.\u001b[0m\u001b[0mstrip\u001b[0m\u001b[0;34m(\u001b[0m\u001b[0;34m)\u001b[0m\u001b[0;34m.\u001b[0m\u001b[0mlower\u001b[0m\u001b[0;34m(\u001b[0m\u001b[0;34m)\u001b[0m \u001b[0;32mfor\u001b[0m \u001b[0mitem\u001b[0m \u001b[0;32min\u001b[0m \u001b[0mclasses\u001b[0m\u001b[0;34m[\u001b[0m\u001b[0mdataset\u001b[0m\u001b[0;34m]\u001b[0m\u001b[0;34m}\u001b[0m\u001b[0;34m)\u001b[0m\u001b[0;34m\u001b[0m\u001b[0;34m\u001b[0m\u001b[0m\n\u001b[0;32m---> 15\u001b[0;31m \u001b[0;32massert\u001b[0m \u001b[0;34m{\u001b[0m\u001b[0mitem\u001b[0m\u001b[0;34m.\u001b[0m\u001b[0mstrip\u001b[0m\u001b[0;34m(\u001b[0m\u001b[0;34m)\u001b[0m\u001b[0;34m.\u001b[0m\u001b[0mlower\u001b[0m\u001b[0;34m(\u001b[0m\u001b[0;34m)\u001b[0m \u001b[0;32mfor\u001b[0m \u001b[0mitem\u001b[0m \u001b[0;32min\u001b[0m \u001b[0mdf\u001b[0m\u001b[0;34m[\u001b[0m\u001b[0;34mf'LLaVa_{dataset}_illusionless_images'\u001b[0m\u001b[0;34m]\u001b[0m\u001b[0;34m.\u001b[0m\u001b[0munique\u001b[0m\u001b[0;34m(\u001b[0m\u001b[0;34m)\u001b[0m\u001b[0;34m}\u001b[0m\u001b[0;34m.\u001b[0m\u001b[0missubset\u001b[0m\u001b[0;34m(\u001b[0m\u001b[0;34m{\u001b[0m\u001b[0mitem\u001b[0m\u001b[0;34m.\u001b[0m\u001b[0mstrip\u001b[0m\u001b[0;34m(\u001b[0m\u001b[0;34m)\u001b[0m\u001b[0;34m.\u001b[0m\u001b[0mlower\u001b[0m\u001b[0;34m(\u001b[0m\u001b[0;34m)\u001b[0m \u001b[0;32mfor\u001b[0m \u001b[0mitem\u001b[0m \u001b[0;32min\u001b[0m \u001b[0mclasses\u001b[0m\u001b[0;34m[\u001b[0m\u001b[0mdataset\u001b[0m\u001b[0;34m]\u001b[0m\u001b[0;34m}\u001b[0m\u001b[0;34m)\u001b[0m\u001b[0;34m\u001b[0m\u001b[0;34m\u001b[0m\u001b[0m\n\u001b[0m\u001b[1;32m     16\u001b[0m \u001b[0;32massert\u001b[0m \u001b[0;34m{\u001b[0m\u001b[0mitem\u001b[0m\u001b[0;34m.\u001b[0m\u001b[0mstrip\u001b[0m\u001b[0;34m(\u001b[0m\u001b[0;34m)\u001b[0m\u001b[0;34m.\u001b[0m\u001b[0mlower\u001b[0m\u001b[0;34m(\u001b[0m\u001b[0;34m)\u001b[0m \u001b[0;32mfor\u001b[0m \u001b[0mitem\u001b[0m \u001b[0;32min\u001b[0m \u001b[0mdf\u001b[0m\u001b[0;34m[\u001b[0m\u001b[0;34mf'LLaVa_{dataset}_illusionless_images_filtered'\u001b[0m\u001b[0;34m]\u001b[0m\u001b[0;34m.\u001b[0m\u001b[0munique\u001b[0m\u001b[0;34m(\u001b[0m\u001b[0;34m)\u001b[0m\u001b[0;34m}\u001b[0m\u001b[0;34m.\u001b[0m\u001b[0missubset\u001b[0m\u001b[0;34m(\u001b[0m\u001b[0;34m{\u001b[0m\u001b[0mitem\u001b[0m\u001b[0;34m.\u001b[0m\u001b[0mstrip\u001b[0m\u001b[0;34m(\u001b[0m\u001b[0;34m)\u001b[0m\u001b[0;34m.\u001b[0m\u001b[0mlower\u001b[0m\u001b[0;34m(\u001b[0m\u001b[0;34m)\u001b[0m \u001b[0;32mfor\u001b[0m \u001b[0mitem\u001b[0m \u001b[0;32min\u001b[0m \u001b[0mclasses\u001b[0m\u001b[0;34m[\u001b[0m\u001b[0mdataset\u001b[0m\u001b[0;34m]\u001b[0m\u001b[0;34m}\u001b[0m\u001b[0;34m)\u001b[0m\u001b[0;34m\u001b[0m\u001b[0;34m\u001b[0m\u001b[0m\n\u001b[1;32m     17\u001b[0m \u001b[0;32massert\u001b[0m \u001b[0;34m{\u001b[0m\u001b[0mitem\u001b[0m\u001b[0;34m.\u001b[0m\u001b[0mstrip\u001b[0m\u001b[0;34m(\u001b[0m\u001b[0;34m)\u001b[0m\u001b[0;34m.\u001b[0m\u001b[0mlower\u001b[0m\u001b[0;34m(\u001b[0m\u001b[0;34m)\u001b[0m \u001b[0;32mfor\u001b[0m \u001b[0mitem\u001b[0m \u001b[0;32min\u001b[0m \u001b[0mdf\u001b[0m\u001b[0;34m[\u001b[0m\u001b[0;34mf'LLaVa_{dataset}_raw_images'\u001b[0m\u001b[0;34m]\u001b[0m\u001b[0;34m.\u001b[0m\u001b[0munique\u001b[0m\u001b[0;34m(\u001b[0m\u001b[0;34m)\u001b[0m\u001b[0;34m}\u001b[0m\u001b[0;34m.\u001b[0m\u001b[0missubset\u001b[0m\u001b[0;34m(\u001b[0m\u001b[0;34m{\u001b[0m\u001b[0mitem\u001b[0m\u001b[0;34m.\u001b[0m\u001b[0mstrip\u001b[0m\u001b[0;34m(\u001b[0m\u001b[0;34m)\u001b[0m\u001b[0;34m.\u001b[0m\u001b[0mlower\u001b[0m\u001b[0;34m(\u001b[0m\u001b[0;34m)\u001b[0m \u001b[0;32mfor\u001b[0m \u001b[0mitem\u001b[0m \u001b[0;32min\u001b[0m \u001b[0mraw_classes\u001b[0m\u001b[0;34m[\u001b[0m\u001b[0mdataset\u001b[0m\u001b[0;34m]\u001b[0m\u001b[0;34m}\u001b[0m\u001b[0;34m)\u001b[0m\u001b[0;34m\u001b[0m\u001b[0;34m\u001b[0m\u001b[0m\n",
            "\u001b[0;31mAssertionError\u001b[0m: "
          ]
        }
      ]
    },
    {
      "cell_type": "code",
      "source": [
        "{item.strip().replace('\\'', '').lower() for item in df[f'LLaVa_{dataset}_raw_images'].unique()}"
      ],
      "metadata": {
        "colab": {
          "base_uri": "https://localhost:8080/"
        },
        "id": "ypae7je4l3_z",
        "outputId": "8565a8c2-aa80-45d0-8023-db478bcf370e"
      },
      "execution_count": null,
      "outputs": [
        {
          "output_type": "execute_result",
          "data": {
            "text/plain": [
              "{'3',\n",
              " 'digit 0',\n",
              " 'digit 1',\n",
              " 'digit 2',\n",
              " 'digit 3',\n",
              " 'digit 4',\n",
              " 'digit 5',\n",
              " 'digit 6',\n",
              " 'digit 7',\n",
              " 'digit 8',\n",
              " 'digit 9'}"
            ]
          },
          "metadata": {},
          "execution_count": 28
        }
      ]
    },
    {
      "cell_type": "code",
      "source": [
        "{item.strip().lower() for item in df[f'LLaVa_{dataset}_illusionless_images'].unique()}"
      ],
      "metadata": {
        "colab": {
          "base_uri": "https://localhost:8080/"
        },
        "id": "VOtZ_HUQpi34",
        "outputId": "adb7bf5a-338e-44a1-f756-57aa5751f579"
      },
      "execution_count": null,
      "outputs": [
        {
          "output_type": "execute_result",
          "data": {
            "text/plain": [
              "{'butterfly',\n",
              " 'deer',\n",
              " 'dog',\n",
              " 'dolphin',\n",
              " 'elephant',\n",
              " 'fish',\n",
              " 'horse',\n",
              " 'no illusion',\n",
              " 'pigeon',\n",
              " 'snake',\n",
              " 'swan'}"
            ]
          },
          "metadata": {},
          "execution_count": 58
        }
      ]
    },
    {
      "cell_type": "code",
      "source": [
        "{item.strip().lower() for item in classes[dataset]}"
      ],
      "metadata": {
        "colab": {
          "base_uri": "https://localhost:8080/"
        },
        "id": "1Vlq5DMxpsIK",
        "outputId": "82284cec-e81d-46dd-d10a-c4d6a7de9448"
      },
      "execution_count": null,
      "outputs": [
        {
          "output_type": "execute_result",
          "data": {
            "text/plain": [
              "{'butterfly',\n",
              " 'cat',\n",
              " 'deer',\n",
              " 'dog',\n",
              " 'elephant',\n",
              " 'fish',\n",
              " 'horse',\n",
              " 'no illusion',\n",
              " 'pigeon',\n",
              " 'rooster',\n",
              " 'snake'}"
            ]
          },
          "metadata": {},
          "execution_count": 59
        }
      ]
    },
    {
      "cell_type": "code",
      "source": [
        "sum(df[f'LLaVa_Mnist_raw_images']=='3')\n",
        "df[f'LLaVa_Mnist_raw_images'].unique()"
      ],
      "metadata": {
        "colab": {
          "base_uri": "https://localhost:8080/"
        },
        "id": "sMBI19c1mDLw",
        "outputId": "a4a82935-db83-407c-acce-be47423e13d2"
      },
      "execution_count": null,
      "outputs": [
        {
          "output_type": "execute_result",
          "data": {
            "text/plain": [
              "array([\" 'digit 7'\", \" 'digit 2'\", \" 'digit 0'\", \" 'digit 4'\",\n",
              "       \" 'digit 6'\", \" 'digit 1'\", \" 'digit 5'\", \" 'digit 9'\",\n",
              "       \" 'digit 3'\", \" 'digit 8'\", ' digit 1', ' digit 0', ' digit 2',\n",
              "       ' 3'], dtype=object)"
            ]
          },
          "metadata": {},
          "execution_count": 26
        }
      ]
    },
    {
      "cell_type": "code",
      "source": [
        "if dataset == 'Mnist':\n",
        "    df.loc[df['LLaVa_Mnist_raw_images'] == ' 3', 'LLaVa_Mnist_raw_images'] = 'digit 3'"
      ],
      "metadata": {
        "id": "YKx_IZ3anH9A"
      },
      "execution_count": null,
      "outputs": []
    },
    {
      "cell_type": "code",
      "source": [
        "{item.strip().replace('\\'', '').lower() for item in df[f'LLaVa_{dataset}_raw_images'].unique()}"
      ],
      "metadata": {
        "colab": {
          "base_uri": "https://localhost:8080/"
        },
        "id": "MkqmEgGuoBYE",
        "outputId": "104de378-8232-4c2e-9c8b-bf696b537615"
      },
      "execution_count": null,
      "outputs": [
        {
          "output_type": "execute_result",
          "data": {
            "text/plain": [
              "{'digit 0',\n",
              " 'digit 1',\n",
              " 'digit 2',\n",
              " 'digit 3',\n",
              " 'digit 4',\n",
              " 'digit 5',\n",
              " 'digit 6',\n",
              " 'digit 7',\n",
              " 'digit 8',\n",
              " 'digit 9'}"
            ]
          },
          "metadata": {},
          "execution_count": 36
        }
      ]
    },
    {
      "cell_type": "markdown",
      "source": [
        "# Raw"
      ],
      "metadata": {
        "id": "oI9F9xNynfHO"
      }
    },
    {
      "cell_type": "code",
      "source": [
        "idx2label"
      ],
      "metadata": {
        "colab": {
          "base_uri": "https://localhost:8080/"
        },
        "id": "FW8VTgltqkxU",
        "outputId": "57a7ff55-2817-41df-dc2f-fa6f18c0444e"
      },
      "execution_count": null,
      "outputs": [
        {
          "output_type": "execute_result",
          "data": {
            "text/plain": [
              "{0: 'cat',\n",
              " 1: 'dog',\n",
              " 2: 'pigeon',\n",
              " 3: 'butterfly',\n",
              " 4: 'elephant',\n",
              " 5: 'horse',\n",
              " 6: 'deer',\n",
              " 7: 'snake',\n",
              " 8: 'fish',\n",
              " 9: 'rooster',\n",
              " 10: 'no illusion'}"
            ]
          },
          "metadata": {},
          "execution_count": 62
        }
      ]
    },
    {
      "cell_type": "code",
      "source": [
        "idx2label = {idx: label.strip().lower() for idx, label in enumerate(classes[dataset])}\n",
        "if dataset == 'IllusionAnimals':\n",
        "    y_true = df['label'].apply(lambda x: x.strip().lower())\n",
        "else:\n",
        "    y_true = df['label'].apply(lambda x: idx2label[x].strip().lower())\n",
        "y_pred = df[f'LLaVa_{dataset}_raw_images'].apply(lambda x: x.strip().replace('\\'', '').lower())"
      ],
      "metadata": {
        "id": "DgIM4YU7feh8"
      },
      "execution_count": null,
      "outputs": []
    },
    {
      "cell_type": "code",
      "source": [
        "set(list(y_pred))"
      ],
      "metadata": {
        "colab": {
          "base_uri": "https://localhost:8080/"
        },
        "id": "7V_kwGpjoGbB",
        "outputId": "9ed09815-ff0a-45ad-cfa9-2369739bc9a5"
      },
      "execution_count": null,
      "outputs": [
        {
          "output_type": "execute_result",
          "data": {
            "text/plain": [
              "{'butterfly',\n",
              " 'cat',\n",
              " 'deer',\n",
              " 'dog',\n",
              " 'elephant',\n",
              " 'fish',\n",
              " 'horse',\n",
              " 'pigeon',\n",
              " 'rooster',\n",
              " 'snake'}"
            ]
          },
          "metadata": {},
          "execution_count": 64
        }
      ]
    },
    {
      "cell_type": "code",
      "source": [
        "unique_classes = [item.strip().replace('\\'', '').lower() for item in classes[dataset]]\n",
        "for item in y_pred:\n",
        "    assert item in unique_classes"
      ],
      "metadata": {
        "id": "z_mdZeKEmpKQ"
      },
      "execution_count": null,
      "outputs": []
    },
    {
      "cell_type": "code",
      "source": [
        "accuracy = accuracy_score(y_true, y_pred)\n",
        "precision = precision_score(y_true, y_pred, average='macro')\n",
        "recall = recall_score(y_true, y_pred, average='macro')\n",
        "f1 = f1_score(y_true, y_pred, average='macro')\n",
        "\n",
        "print(\"Accuracy:\", accuracy)\n",
        "print(\"Precision:\", precision)\n",
        "print(\"Recall:\", recall)\n",
        "print(\"F1 score:\", f1)"
      ],
      "metadata": {
        "colab": {
          "base_uri": "https://localhost:8080/"
        },
        "id": "xsafoBSZkM0Z",
        "outputId": "9c6357c0-8a90-432e-84e7-f897e21d68cb"
      },
      "execution_count": null,
      "outputs": [
        {
          "output_type": "stream",
          "name": "stdout",
          "text": [
            "Accuracy: 1.0\n",
            "Precision: 1.0\n",
            "Recall: 1.0\n",
            "F1 score: 1.0\n"
          ]
        }
      ]
    },
    {
      "cell_type": "markdown",
      "source": [
        "# Illusion"
      ],
      "metadata": {
        "id": "-AGnN4dPnhTY"
      }
    },
    {
      "cell_type": "code",
      "source": [
        "classes = {\n",
        "    'FashionMnist': ['T-shirt/top', 'Trouser', 'Pullover', 'Dress', 'Coat', 'Sandal', 'Shirt', 'Sneaker', 'Bag', 'Ankle boot', 'no illusion'],\n",
        "    'Mnist': ['digit 0', 'digit 1', 'digit 2', 'digit 3', 'digit 4', 'digit 5', 'digit 6', 'digit 7', 'digit 8', 'digit 9', 'no illusion'],\n",
        "    'IllusionAnimals': ['cat', 'dog', 'pigeon', 'butterfly', 'elephant', 'horse', 'deer', 'snake', 'fish', 'rooster' , 'no illusion'],\n",
        "}\n",
        "idx2label = {idx: label.strip().lower() for idx, label in enumerate(classes[dataset])}\n",
        "if dataset == 'IllusionAnimals':\n",
        "    y_true = list(df['label'].apply(lambda x: x.strip().lower())) + list(df['label'].apply(lambda x: 'no illusion'))\n",
        "else:\n",
        "    y_true = list(df['label'].apply(lambda x: idx2label[x].strip().lower())) + list(df['label'].apply(lambda x: 'no illusion'))\n",
        "\n",
        "# y_true = list(df['label'].apply(lambda x: idx2label[x].strip().lower())) + list(df['label'].apply(lambda x: 'no illusion'))\n",
        "\n",
        "y_pred = list(df[f'LLaVa_{dataset}_ill_images'].apply(lambda x: x.strip().lower())) + list(df[f'LLaVa_{dataset}_illusionless_images'].apply(lambda x: x.strip().lower()))"
      ],
      "metadata": {
        "id": "Gj7nigIkllO4"
      },
      "execution_count": null,
      "outputs": []
    },
    {
      "cell_type": "code",
      "source": [
        "set(y_pred)"
      ],
      "metadata": {
        "colab": {
          "base_uri": "https://localhost:8080/"
        },
        "id": "b6ksn32hrkVY",
        "outputId": "9fcb601c-a36a-45dc-c495-8df64f61019f"
      },
      "execution_count": null,
      "outputs": [
        {
          "output_type": "execute_result",
          "data": {
            "text/plain": [
              "{'butterfly',\n",
              " 'deer',\n",
              " 'dog',\n",
              " 'dolphin',\n",
              " 'elephant',\n",
              " 'fish',\n",
              " 'horse',\n",
              " 'no illusion',\n",
              " 'pigeon',\n",
              " 'rooster',\n",
              " 'snake',\n",
              " 'swan'}"
            ]
          },
          "metadata": {},
          "execution_count": 71
        }
      ]
    },
    {
      "cell_type": "code",
      "source": [
        "set(y_true)"
      ],
      "metadata": {
        "colab": {
          "base_uri": "https://localhost:8080/"
        },
        "id": "oaOLXqL8rnbs",
        "outputId": "0596ec72-1bf3-4f51-b81b-21d98ea62762"
      },
      "execution_count": null,
      "outputs": [
        {
          "output_type": "execute_result",
          "data": {
            "text/plain": [
              "{'butterfly',\n",
              " 'cat',\n",
              " 'deer',\n",
              " 'dog',\n",
              " 'elephant',\n",
              " 'fish',\n",
              " 'horse',\n",
              " 'no illusion',\n",
              " 'pigeon',\n",
              " 'rooster',\n",
              " 'snake'}"
            ]
          },
          "metadata": {},
          "execution_count": 72
        }
      ]
    },
    {
      "cell_type": "code",
      "source": [
        "accuracy = accuracy_score(y_true, y_pred)\n",
        "precision = precision_score(y_true, y_pred, average='macro')\n",
        "recall = recall_score(y_true, y_pred, average='macro')\n",
        "f1 = f1_score(y_true, y_pred, average='macro')\n",
        "\n",
        "print(\"Accuracy:\", accuracy)\n",
        "print(\"Precision:\", precision)\n",
        "print(\"Recall:\", recall)\n",
        "print(\"F1 score:\", f1)"
      ],
      "metadata": {
        "id": "dW9xwrAqkRBE",
        "colab": {
          "base_uri": "https://localhost:8080/"
        },
        "outputId": "3176a9be-ac31-4818-e7f7-153868483092"
      },
      "execution_count": null,
      "outputs": [
        {
          "output_type": "stream",
          "name": "stdout",
          "text": [
            "Accuracy: 0.511\n",
            "Precision: 0.32549936814642694\n",
            "Recall: 0.11807692307692307\n",
            "F1 score: 0.12386779495628684\n"
          ]
        },
        {
          "output_type": "stream",
          "name": "stderr",
          "text": [
            "/usr/local/lib/python3.10/dist-packages/sklearn/metrics/_classification.py:1344: UndefinedMetricWarning: Precision is ill-defined and being set to 0.0 in labels with no predicted samples. Use `zero_division` parameter to control this behavior.\n",
            "  _warn_prf(average, modifier, msg_start, len(result))\n",
            "/usr/local/lib/python3.10/dist-packages/sklearn/metrics/_classification.py:1344: UndefinedMetricWarning: Recall is ill-defined and being set to 0.0 in labels with no true samples. Use `zero_division` parameter to control this behavior.\n",
            "  _warn_prf(average, modifier, msg_start, len(result))\n"
          ]
        }
      ]
    },
    {
      "cell_type": "markdown",
      "source": [
        "# Illusion Filtered"
      ],
      "metadata": {
        "id": "1aMoHSH8piVd"
      }
    },
    {
      "cell_type": "code",
      "source": [
        "classes = {\n",
        "    'FashionMnist': ['T-shirt/top', 'Trouser', 'Pullover', 'Dress', 'Coat', 'Sandal', 'Shirt', 'Sneaker', 'Bag', 'Ankle boot', 'no illusion'],\n",
        "    'Mnist': ['digit 0', 'digit 1', 'digit 2', 'digit 3', 'digit 4', 'digit 5', 'digit 6', 'digit 7', 'digit 8', 'digit 9', 'no illusion'],\n",
        "    'IllusionAnimals': ['cat', 'dog', 'pigeon', 'butterfly', 'elephant', 'horse', 'deer', 'snake', 'fish', 'rooster' , 'no illusion'],\n",
        "}\n",
        "idx2label = {idx: label.strip().lower() for idx, label in enumerate(classes[dataset])}\n",
        "# y_true = list(df['label'].apply(lambda x: idx2label[x].strip().lower())) + list(df['label'].apply(lambda x: 'no illusion'))\n",
        "if dataset == 'IllusionAnimals':\n",
        "    y_true = list(df['label'].apply(lambda x: x.strip().lower())) + list(df['label'].apply(lambda x: 'no illusion'))\n",
        "else:\n",
        "    y_true = list(df['label'].apply(lambda x: idx2label[x].strip().lower())) + list(df['label'].apply(lambda x: 'no illusion'))\n",
        "\n",
        "\n",
        "y_pred = list(df[f'LLaVa_{dataset}_illusion_images_filtered'].apply(lambda x: x.strip().lower())) + list(df[f'LLaVa_{dataset}_illusionless_images_filtered'].apply(lambda x: x.strip().lower()))"
      ],
      "metadata": {
        "id": "lJTiGlVFkQ-a"
      },
      "execution_count": null,
      "outputs": []
    },
    {
      "cell_type": "code",
      "source": [
        "accuracy = accuracy_score(y_true, y_pred)\n",
        "precision = precision_score(y_true, y_pred, average='macro')\n",
        "recall = recall_score(y_true, y_pred, average='macro')\n",
        "f1 = f1_score(y_true, y_pred, average='macro')\n",
        "\n",
        "print(\"Accuracy:\", accuracy)\n",
        "print(\"Precision:\", precision)\n",
        "print(\"Recall:\", recall)\n",
        "print(\"F1 score:\", f1)"
      ],
      "metadata": {
        "id": "-oI4HYT6kQ78",
        "colab": {
          "base_uri": "https://localhost:8080/"
        },
        "outputId": "834ffe4d-6e0d-4d58-ea95-1640455f4801"
      },
      "execution_count": null,
      "outputs": [
        {
          "output_type": "stream",
          "name": "stdout",
          "text": [
            "Accuracy: 0.726\n",
            "Precision: 0.8647041173345728\n",
            "Recall: 0.5132727272727273\n",
            "F1 score: 0.5716780335644384\n"
          ]
        }
      ]
    },
    {
      "cell_type": "code",
      "source": [],
      "metadata": {
        "id": "0FDe5rBTf7CK"
      },
      "execution_count": null,
      "outputs": []
    }
  ]
}