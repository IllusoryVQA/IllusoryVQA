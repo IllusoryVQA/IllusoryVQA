{
  "nbformat": 4,
  "nbformat_minor": 0,
  "metadata": {
    "colab": {
      "provenance": [],
      "toc_visible": true
    },
    "kernelspec": {
      "name": "python3",
      "display_name": "Python 3"
    },
    "language_info": {
      "name": "python"
    }
  },
  "cells": [
    {
      "cell_type": "code",
      "source": [
        "from google.colab import drive\n",
        "drive.mount('/content/drive')"
      ],
      "metadata": {
        "colab": {
          "base_uri": "https://localhost:8080/"
        },
        "id": "WFpwdImDhJvV",
        "outputId": "b088edb6-95b8-4d6c-e632-7c9eb62b8be0"
      },
      "execution_count": null,
      "outputs": [
        {
          "output_type": "stream",
          "name": "stdout",
          "text": [
            "Mounted at /content/drive\n"
          ]
        }
      ]
    },
    {
      "cell_type": "markdown",
      "source": [
        "# Mnist"
      ],
      "metadata": {
        "id": "oOeCcgjuECqN"
      }
    },
    {
      "cell_type": "code",
      "execution_count": null,
      "metadata": {
        "id": "VsWc1Y-JdlHX"
      },
      "outputs": [],
      "source": [
        "from sklearn.metrics import accuracy_score, precision_score, recall_score, f1_score\n",
        "import pandas as pd\n",
        "dataset = 'Mnist'\n",
        "# dataset = 'IllusionAnimals'\n",
        "\n",
        "df_raw = pd.read_csv(f'/content/drive/MyDrive/GPT-4_results/GPT-4_{dataset}_raw.csv')\n",
        "df_illusion = pd.read_csv(f'/content/drive/MyDrive/GPT-4_results/GPT-4_{dataset}_illusion.csv')\n",
        "df_illusionless = pd.read_csv(f'/content/drive/MyDrive/GPT-4_results/GPT-4_{dataset}_illusionless.csv')\n",
        "df_illusion_filtered = pd.read_csv(f'/content/drive/MyDrive/GPT-4_results/GPT-4_{dataset}_illusion_filtered.csv')\n",
        "df_illusionless_filtered = pd.read_csv(f'/content/drive/MyDrive/GPT-4_results/GPT-4_{dataset}_illusionless_filtered.csv')\n"
      ]
    },
    {
      "cell_type": "code",
      "source": [
        "df_raw"
      ],
      "metadata": {
        "colab": {
          "base_uri": "https://localhost:8080/",
          "height": 424
        },
        "id": "ztZkIA88jPEj",
        "outputId": "6cb143c9-e754-42b7-a0cd-ec57d39bf915"
      },
      "execution_count": null,
      "outputs": [
        {
          "output_type": "execute_result",
          "data": {
            "text/plain": [
              "      Unnamed: 0  image_name  \\\n",
              "0              0     Mnist_1   \n",
              "1              1     Mnist_2   \n",
              "2              2     Mnist_3   \n",
              "3              3     Mnist_4   \n",
              "4              4     Mnist_5   \n",
              "...          ...         ...   \n",
              "1104        1104  Mnist_1105   \n",
              "1105        1105  Mnist_1106   \n",
              "1106        1106  Mnist_1107   \n",
              "1107        1107  Mnist_1108   \n",
              "1108        1108  Mnist_1109   \n",
              "\n",
              "                                                Pprompt      Nprompt  \\\n",
              "0     A field of blooming sunflowers swaying in the ...  low quality   \n",
              "1     A peaceful countryside scene with grazing shee...  low quality   \n",
              "2     A tranquil pond with lily pads floating on the...  low quality   \n",
              "3             A sunny vineyard with rows of ripe grapes  low quality   \n",
              "4     A picturesque vineyard at sunset with the sky ...  low quality   \n",
              "...                                                 ...          ...   \n",
              "1104  Misty jungle surrounded by vibrant flowers and...  low quality   \n",
              "1105                     A forest with blooming flowers  low quality   \n",
              "1106  Desolate desert landscape, shifting sands illu...  low quality   \n",
              "1107  A vast desert with a towering canyon in the di...  low quality   \n",
              "1108  A steampunk world powered by gears and clockworks  low quality   \n",
              "\n",
              "      illusion_strength  label   gpt-4o  \n",
              "0                   1.5      7  digit 7  \n",
              "1                   1.5      2    error  \n",
              "2                   1.5      1    error  \n",
              "3                   1.5      0    error  \n",
              "4                   1.5      4    error  \n",
              "...                 ...    ...      ...  \n",
              "1104                1.5      8    error  \n",
              "1105                1.5      0    error  \n",
              "1106                1.5      5    error  \n",
              "1107                1.5      0  Digit 0  \n",
              "1108                1.5      9    error  \n",
              "\n",
              "[1109 rows x 7 columns]"
            ],
            "text/html": [
              "\n",
              "  <div id=\"df-b80d0401-af30-4b70-8722-999a98f6d11f\" class=\"colab-df-container\">\n",
              "    <div>\n",
              "<style scoped>\n",
              "    .dataframe tbody tr th:only-of-type {\n",
              "        vertical-align: middle;\n",
              "    }\n",
              "\n",
              "    .dataframe tbody tr th {\n",
              "        vertical-align: top;\n",
              "    }\n",
              "\n",
              "    .dataframe thead th {\n",
              "        text-align: right;\n",
              "    }\n",
              "</style>\n",
              "<table border=\"1\" class=\"dataframe\">\n",
              "  <thead>\n",
              "    <tr style=\"text-align: right;\">\n",
              "      <th></th>\n",
              "      <th>Unnamed: 0</th>\n",
              "      <th>image_name</th>\n",
              "      <th>Pprompt</th>\n",
              "      <th>Nprompt</th>\n",
              "      <th>illusion_strength</th>\n",
              "      <th>label</th>\n",
              "      <th>gpt-4o</th>\n",
              "    </tr>\n",
              "  </thead>\n",
              "  <tbody>\n",
              "    <tr>\n",
              "      <th>0</th>\n",
              "      <td>0</td>\n",
              "      <td>Mnist_1</td>\n",
              "      <td>A field of blooming sunflowers swaying in the ...</td>\n",
              "      <td>low quality</td>\n",
              "      <td>1.5</td>\n",
              "      <td>7</td>\n",
              "      <td>digit 7</td>\n",
              "    </tr>\n",
              "    <tr>\n",
              "      <th>1</th>\n",
              "      <td>1</td>\n",
              "      <td>Mnist_2</td>\n",
              "      <td>A peaceful countryside scene with grazing shee...</td>\n",
              "      <td>low quality</td>\n",
              "      <td>1.5</td>\n",
              "      <td>2</td>\n",
              "      <td>error</td>\n",
              "    </tr>\n",
              "    <tr>\n",
              "      <th>2</th>\n",
              "      <td>2</td>\n",
              "      <td>Mnist_3</td>\n",
              "      <td>A tranquil pond with lily pads floating on the...</td>\n",
              "      <td>low quality</td>\n",
              "      <td>1.5</td>\n",
              "      <td>1</td>\n",
              "      <td>error</td>\n",
              "    </tr>\n",
              "    <tr>\n",
              "      <th>3</th>\n",
              "      <td>3</td>\n",
              "      <td>Mnist_4</td>\n",
              "      <td>A sunny vineyard with rows of ripe grapes</td>\n",
              "      <td>low quality</td>\n",
              "      <td>1.5</td>\n",
              "      <td>0</td>\n",
              "      <td>error</td>\n",
              "    </tr>\n",
              "    <tr>\n",
              "      <th>4</th>\n",
              "      <td>4</td>\n",
              "      <td>Mnist_5</td>\n",
              "      <td>A picturesque vineyard at sunset with the sky ...</td>\n",
              "      <td>low quality</td>\n",
              "      <td>1.5</td>\n",
              "      <td>4</td>\n",
              "      <td>error</td>\n",
              "    </tr>\n",
              "    <tr>\n",
              "      <th>...</th>\n",
              "      <td>...</td>\n",
              "      <td>...</td>\n",
              "      <td>...</td>\n",
              "      <td>...</td>\n",
              "      <td>...</td>\n",
              "      <td>...</td>\n",
              "      <td>...</td>\n",
              "    </tr>\n",
              "    <tr>\n",
              "      <th>1104</th>\n",
              "      <td>1104</td>\n",
              "      <td>Mnist_1105</td>\n",
              "      <td>Misty jungle surrounded by vibrant flowers and...</td>\n",
              "      <td>low quality</td>\n",
              "      <td>1.5</td>\n",
              "      <td>8</td>\n",
              "      <td>error</td>\n",
              "    </tr>\n",
              "    <tr>\n",
              "      <th>1105</th>\n",
              "      <td>1105</td>\n",
              "      <td>Mnist_1106</td>\n",
              "      <td>A forest with blooming flowers</td>\n",
              "      <td>low quality</td>\n",
              "      <td>1.5</td>\n",
              "      <td>0</td>\n",
              "      <td>error</td>\n",
              "    </tr>\n",
              "    <tr>\n",
              "      <th>1106</th>\n",
              "      <td>1106</td>\n",
              "      <td>Mnist_1107</td>\n",
              "      <td>Desolate desert landscape, shifting sands illu...</td>\n",
              "      <td>low quality</td>\n",
              "      <td>1.5</td>\n",
              "      <td>5</td>\n",
              "      <td>error</td>\n",
              "    </tr>\n",
              "    <tr>\n",
              "      <th>1107</th>\n",
              "      <td>1107</td>\n",
              "      <td>Mnist_1108</td>\n",
              "      <td>A vast desert with a towering canyon in the di...</td>\n",
              "      <td>low quality</td>\n",
              "      <td>1.5</td>\n",
              "      <td>0</td>\n",
              "      <td>Digit 0</td>\n",
              "    </tr>\n",
              "    <tr>\n",
              "      <th>1108</th>\n",
              "      <td>1108</td>\n",
              "      <td>Mnist_1109</td>\n",
              "      <td>A steampunk world powered by gears and clockworks</td>\n",
              "      <td>low quality</td>\n",
              "      <td>1.5</td>\n",
              "      <td>9</td>\n",
              "      <td>error</td>\n",
              "    </tr>\n",
              "  </tbody>\n",
              "</table>\n",
              "<p>1109 rows × 7 columns</p>\n",
              "</div>\n",
              "    <div class=\"colab-df-buttons\">\n",
              "\n",
              "  <div class=\"colab-df-container\">\n",
              "    <button class=\"colab-df-convert\" onclick=\"convertToInteractive('df-b80d0401-af30-4b70-8722-999a98f6d11f')\"\n",
              "            title=\"Convert this dataframe to an interactive table.\"\n",
              "            style=\"display:none;\">\n",
              "\n",
              "  <svg xmlns=\"http://www.w3.org/2000/svg\" height=\"24px\" viewBox=\"0 -960 960 960\">\n",
              "    <path d=\"M120-120v-720h720v720H120Zm60-500h600v-160H180v160Zm220 220h160v-160H400v160Zm0 220h160v-160H400v160ZM180-400h160v-160H180v160Zm440 0h160v-160H620v160ZM180-180h160v-160H180v160Zm440 0h160v-160H620v160Z\"/>\n",
              "  </svg>\n",
              "    </button>\n",
              "\n",
              "  <style>\n",
              "    .colab-df-container {\n",
              "      display:flex;\n",
              "      gap: 12px;\n",
              "    }\n",
              "\n",
              "    .colab-df-convert {\n",
              "      background-color: #E8F0FE;\n",
              "      border: none;\n",
              "      border-radius: 50%;\n",
              "      cursor: pointer;\n",
              "      display: none;\n",
              "      fill: #1967D2;\n",
              "      height: 32px;\n",
              "      padding: 0 0 0 0;\n",
              "      width: 32px;\n",
              "    }\n",
              "\n",
              "    .colab-df-convert:hover {\n",
              "      background-color: #E2EBFA;\n",
              "      box-shadow: 0px 1px 2px rgba(60, 64, 67, 0.3), 0px 1px 3px 1px rgba(60, 64, 67, 0.15);\n",
              "      fill: #174EA6;\n",
              "    }\n",
              "\n",
              "    .colab-df-buttons div {\n",
              "      margin-bottom: 4px;\n",
              "    }\n",
              "\n",
              "    [theme=dark] .colab-df-convert {\n",
              "      background-color: #3B4455;\n",
              "      fill: #D2E3FC;\n",
              "    }\n",
              "\n",
              "    [theme=dark] .colab-df-convert:hover {\n",
              "      background-color: #434B5C;\n",
              "      box-shadow: 0px 1px 3px 1px rgba(0, 0, 0, 0.15);\n",
              "      filter: drop-shadow(0px 1px 2px rgba(0, 0, 0, 0.3));\n",
              "      fill: #FFFFFF;\n",
              "    }\n",
              "  </style>\n",
              "\n",
              "    <script>\n",
              "      const buttonEl =\n",
              "        document.querySelector('#df-b80d0401-af30-4b70-8722-999a98f6d11f button.colab-df-convert');\n",
              "      buttonEl.style.display =\n",
              "        google.colab.kernel.accessAllowed ? 'block' : 'none';\n",
              "\n",
              "      async function convertToInteractive(key) {\n",
              "        const element = document.querySelector('#df-b80d0401-af30-4b70-8722-999a98f6d11f');\n",
              "        const dataTable =\n",
              "          await google.colab.kernel.invokeFunction('convertToInteractive',\n",
              "                                                    [key], {});\n",
              "        if (!dataTable) return;\n",
              "\n",
              "        const docLinkHtml = 'Like what you see? Visit the ' +\n",
              "          '<a target=\"_blank\" href=https://colab.research.google.com/notebooks/data_table.ipynb>data table notebook</a>'\n",
              "          + ' to learn more about interactive tables.';\n",
              "        element.innerHTML = '';\n",
              "        dataTable['output_type'] = 'display_data';\n",
              "        await google.colab.output.renderOutput(dataTable, element);\n",
              "        const docLink = document.createElement('div');\n",
              "        docLink.innerHTML = docLinkHtml;\n",
              "        element.appendChild(docLink);\n",
              "      }\n",
              "    </script>\n",
              "  </div>\n",
              "\n",
              "\n",
              "<div id=\"df-84e18b16-0872-4e99-8faf-125962676421\">\n",
              "  <button class=\"colab-df-quickchart\" onclick=\"quickchart('df-84e18b16-0872-4e99-8faf-125962676421')\"\n",
              "            title=\"Suggest charts\"\n",
              "            style=\"display:none;\">\n",
              "\n",
              "<svg xmlns=\"http://www.w3.org/2000/svg\" height=\"24px\"viewBox=\"0 0 24 24\"\n",
              "     width=\"24px\">\n",
              "    <g>\n",
              "        <path d=\"M19 3H5c-1.1 0-2 .9-2 2v14c0 1.1.9 2 2 2h14c1.1 0 2-.9 2-2V5c0-1.1-.9-2-2-2zM9 17H7v-7h2v7zm4 0h-2V7h2v10zm4 0h-2v-4h2v4z\"/>\n",
              "    </g>\n",
              "</svg>\n",
              "  </button>\n",
              "\n",
              "<style>\n",
              "  .colab-df-quickchart {\n",
              "      --bg-color: #E8F0FE;\n",
              "      --fill-color: #1967D2;\n",
              "      --hover-bg-color: #E2EBFA;\n",
              "      --hover-fill-color: #174EA6;\n",
              "      --disabled-fill-color: #AAA;\n",
              "      --disabled-bg-color: #DDD;\n",
              "  }\n",
              "\n",
              "  [theme=dark] .colab-df-quickchart {\n",
              "      --bg-color: #3B4455;\n",
              "      --fill-color: #D2E3FC;\n",
              "      --hover-bg-color: #434B5C;\n",
              "      --hover-fill-color: #FFFFFF;\n",
              "      --disabled-bg-color: #3B4455;\n",
              "      --disabled-fill-color: #666;\n",
              "  }\n",
              "\n",
              "  .colab-df-quickchart {\n",
              "    background-color: var(--bg-color);\n",
              "    border: none;\n",
              "    border-radius: 50%;\n",
              "    cursor: pointer;\n",
              "    display: none;\n",
              "    fill: var(--fill-color);\n",
              "    height: 32px;\n",
              "    padding: 0;\n",
              "    width: 32px;\n",
              "  }\n",
              "\n",
              "  .colab-df-quickchart:hover {\n",
              "    background-color: var(--hover-bg-color);\n",
              "    box-shadow: 0 1px 2px rgba(60, 64, 67, 0.3), 0 1px 3px 1px rgba(60, 64, 67, 0.15);\n",
              "    fill: var(--button-hover-fill-color);\n",
              "  }\n",
              "\n",
              "  .colab-df-quickchart-complete:disabled,\n",
              "  .colab-df-quickchart-complete:disabled:hover {\n",
              "    background-color: var(--disabled-bg-color);\n",
              "    fill: var(--disabled-fill-color);\n",
              "    box-shadow: none;\n",
              "  }\n",
              "\n",
              "  .colab-df-spinner {\n",
              "    border: 2px solid var(--fill-color);\n",
              "    border-color: transparent;\n",
              "    border-bottom-color: var(--fill-color);\n",
              "    animation:\n",
              "      spin 1s steps(1) infinite;\n",
              "  }\n",
              "\n",
              "  @keyframes spin {\n",
              "    0% {\n",
              "      border-color: transparent;\n",
              "      border-bottom-color: var(--fill-color);\n",
              "      border-left-color: var(--fill-color);\n",
              "    }\n",
              "    20% {\n",
              "      border-color: transparent;\n",
              "      border-left-color: var(--fill-color);\n",
              "      border-top-color: var(--fill-color);\n",
              "    }\n",
              "    30% {\n",
              "      border-color: transparent;\n",
              "      border-left-color: var(--fill-color);\n",
              "      border-top-color: var(--fill-color);\n",
              "      border-right-color: var(--fill-color);\n",
              "    }\n",
              "    40% {\n",
              "      border-color: transparent;\n",
              "      border-right-color: var(--fill-color);\n",
              "      border-top-color: var(--fill-color);\n",
              "    }\n",
              "    60% {\n",
              "      border-color: transparent;\n",
              "      border-right-color: var(--fill-color);\n",
              "    }\n",
              "    80% {\n",
              "      border-color: transparent;\n",
              "      border-right-color: var(--fill-color);\n",
              "      border-bottom-color: var(--fill-color);\n",
              "    }\n",
              "    90% {\n",
              "      border-color: transparent;\n",
              "      border-bottom-color: var(--fill-color);\n",
              "    }\n",
              "  }\n",
              "</style>\n",
              "\n",
              "  <script>\n",
              "    async function quickchart(key) {\n",
              "      const quickchartButtonEl =\n",
              "        document.querySelector('#' + key + ' button');\n",
              "      quickchartButtonEl.disabled = true;  // To prevent multiple clicks.\n",
              "      quickchartButtonEl.classList.add('colab-df-spinner');\n",
              "      try {\n",
              "        const charts = await google.colab.kernel.invokeFunction(\n",
              "            'suggestCharts', [key], {});\n",
              "      } catch (error) {\n",
              "        console.error('Error during call to suggestCharts:', error);\n",
              "      }\n",
              "      quickchartButtonEl.classList.remove('colab-df-spinner');\n",
              "      quickchartButtonEl.classList.add('colab-df-quickchart-complete');\n",
              "    }\n",
              "    (() => {\n",
              "      let quickchartButtonEl =\n",
              "        document.querySelector('#df-84e18b16-0872-4e99-8faf-125962676421 button');\n",
              "      quickchartButtonEl.style.display =\n",
              "        google.colab.kernel.accessAllowed ? 'block' : 'none';\n",
              "    })();\n",
              "  </script>\n",
              "</div>\n",
              "    </div>\n",
              "  </div>\n"
            ],
            "application/vnd.google.colaboratory.intrinsic+json": {
              "type": "dataframe",
              "variable_name": "df_raw",
              "summary": "{\n  \"name\": \"df_raw\",\n  \"rows\": 1109,\n  \"fields\": [\n    {\n      \"column\": \"Unnamed: 0\",\n      \"properties\": {\n        \"dtype\": \"number\",\n        \"std\": 320,\n        \"min\": 0,\n        \"max\": 1108,\n        \"num_unique_values\": 1109,\n        \"samples\": [\n          883,\n          342,\n          56\n        ],\n        \"semantic_type\": \"\",\n        \"description\": \"\"\n      }\n    },\n    {\n      \"column\": \"image_name\",\n      \"properties\": {\n        \"dtype\": \"string\",\n        \"num_unique_values\": 1109,\n        \"samples\": [\n          \"Mnist_884\",\n          \"Mnist_343\",\n          \"Mnist_57\"\n        ],\n        \"semantic_type\": \"\",\n        \"description\": \"\"\n      }\n    },\n    {\n      \"column\": \"Pprompt\",\n      \"properties\": {\n        \"dtype\": \"string\",\n        \"num_unique_values\": 675,\n        \"samples\": [\n          \"Sunbeams filter through forest canopy, river winds through valleys, birds chirp merrily\",\n          \"A sunny meadow with purple flowers and green grass\",\n          \"Misty jungle surrounded by vibrant flowers and tall palm trees\"\n        ],\n        \"semantic_type\": \"\",\n        \"description\": \"\"\n      }\n    },\n    {\n      \"column\": \"Nprompt\",\n      \"properties\": {\n        \"dtype\": \"category\",\n        \"num_unique_values\": 1,\n        \"samples\": [\n          \"low quality\"\n        ],\n        \"semantic_type\": \"\",\n        \"description\": \"\"\n      }\n    },\n    {\n      \"column\": \"illusion_strength\",\n      \"properties\": {\n        \"dtype\": \"number\",\n        \"std\": 0.0,\n        \"min\": 1.5,\n        \"max\": 1.5,\n        \"num_unique_values\": 1,\n        \"samples\": [\n          1.5\n        ],\n        \"semantic_type\": \"\",\n        \"description\": \"\"\n      }\n    },\n    {\n      \"column\": \"label\",\n      \"properties\": {\n        \"dtype\": \"number\",\n        \"std\": 2,\n        \"min\": 0,\n        \"max\": 9,\n        \"num_unique_values\": 10,\n        \"samples\": [\n          3\n        ],\n        \"semantic_type\": \"\",\n        \"description\": \"\"\n      }\n    },\n    {\n      \"column\": \"gpt-4o\",\n      \"properties\": {\n        \"dtype\": \"category\",\n        \"num_unique_values\": 23,\n        \"samples\": [\n          \"digit 5\"\n        ],\n        \"semantic_type\": \"\",\n        \"description\": \"\"\n      }\n    }\n  ]\n}"
            }
          },
          "metadata": {},
          "execution_count": 11
        }
      ]
    },
    {
      "cell_type": "code",
      "source": [
        "import torch\n",
        "import numpy as np\n",
        "import random\n",
        "\n",
        "# Make reproducible code\n",
        "GLOBAL_SEED = 10\n",
        "\n",
        "np.random.seed(GLOBAL_SEED)\n",
        "random.seed(GLOBAL_SEED)\n",
        "torch.manual_seed(GLOBAL_SEED)\n",
        "torch.use_deterministic_algorithms(True)\n",
        "%env CUBLAS_WORKSPACE_CONFIG=:4096:8\n",
        "\n",
        "torch.backends.cudnn.deterministic = True\n",
        "torch.backends.cudnn.benchmark = False\n",
        "\n",
        "# illusionless_indexes = random.sample(range(len(df_illusion)), int(len(df_illusion)*0.1))"
      ],
      "metadata": {
        "colab": {
          "base_uri": "https://localhost:8080/"
        },
        "id": "NYZ2hm_SCHD5",
        "outputId": "edb1abbb-324d-4c34-d429-d8474c668828"
      },
      "execution_count": null,
      "outputs": [
        {
          "output_type": "stream",
          "name": "stdout",
          "text": [
            "env: CUBLAS_WORKSPACE_CONFIG=:4096:8\n"
          ]
        }
      ]
    },
    {
      "cell_type": "code",
      "source": [
        "raw_classes = {\n",
        "    'FashionMnist': ['T-shirt/top', 'Trouser', 'Pullover', 'Dress', 'Coat', 'Sandal', 'Shirt', 'Sneaker', 'Bag', 'Ankle boot'],\n",
        "    'Mnist': ['digit 0', 'digit 1', 'digit 2', 'digit 3', 'digit 4', 'digit 5', 'digit 6', 'digit 7', 'digit 8', 'digit 9'],\n",
        "    'IllusionAnimals': ['cat', 'dog', 'pigeon', 'butterfly', 'elephant', 'horse', 'deer', 'snake', 'fish', 'rooster' ],\n",
        "}\n",
        "\n",
        "classes = {\n",
        "    'FashionMnist': ['T-shirt/top', 'Trouser', 'Pullover', 'Dress', 'Coat', 'Sandal', 'Shirt', 'Sneaker', 'Bag', 'Ankle boot', 'No illusion'],\n",
        "    'Mnist': ['digit 0', 'digit 1', 'digit 2', 'digit 3', 'digit 4', 'digit 5', 'digit 6', 'digit 7', 'digit 8', 'digit 9', 'No illusion'],\n",
        "    'IllusionAnimals': ['cat', 'dog', 'pigeon', 'butterfly', 'elephant', 'horse', 'deer', 'snake', 'fish', 'rooster', 'No illusion' ],\n",
        "}\n",
        "\n",
        "# assert {item.strip().lower() for item in df[f'LLaVa_{dataset}_ill_images'].unique()}.issubset({item.strip().lower() for item in classes[dataset]})\n",
        "# assert {item.strip().lower() for item in df[f'LLaVa_{dataset}_illusion_images_filtered'].unique()}.issubset({item.strip().lower() for item in classes[dataset]})\n",
        "# assert {item.strip().lower() for item in df[f'LLaVa_{dataset}_illusionless_images'].unique()}.issubset({item.strip().lower() for item in classes[dataset]})\n",
        "# assert {item.strip().lower() for item in df[f'LLaVa_{dataset}_illusionless_images_filtered'].unique()}.issubset({item.strip().lower() for item in classes[dataset]})\n",
        "# assert {item.strip().lower() for item in df[f'LLaVa_{dataset}_raw_images'].unique()}.issubset({item.strip().lower() for item in raw_classes[dataset]})"
      ],
      "metadata": {
        "id": "9OQ9pwW9gfXb"
      },
      "execution_count": null,
      "outputs": []
    },
    {
      "cell_type": "code",
      "source": [
        "{item.strip().replace('\\'', '').lower() for item in df_raw[f'gpt-4o'].unique()}"
      ],
      "metadata": {
        "colab": {
          "base_uri": "https://localhost:8080/"
        },
        "id": "lE98p-Ehjjps",
        "outputId": "cdbe166c-ef3c-4eaf-f608-8b34fd9b16ba"
      },
      "execution_count": null,
      "outputs": [
        {
          "output_type": "execute_result",
          "data": {
            "text/plain": [
              "{'digit 0',\n",
              " 'digit 1',\n",
              " 'digit 2',\n",
              " 'digit 3',\n",
              " 'digit 4',\n",
              " 'digit 5',\n",
              " 'digit 6',\n",
              " 'digit 7',\n",
              " 'digit 8',\n",
              " 'digit 9',\n",
              " 'error'}"
            ]
          },
          "metadata": {},
          "execution_count": 12
        }
      ]
    },
    {
      "cell_type": "code",
      "source": [
        "{item.strip().replace('\\'', '').replace('‘','').replace('’','').lower() for item in df_illusion[f'gpt-4o'].unique()}"
      ],
      "metadata": {
        "colab": {
          "base_uri": "https://localhost:8080/"
        },
        "id": "ypae7je4l3_z",
        "outputId": "b248f7e9-007d-4bb2-a1c0-45464dbe3175"
      },
      "execution_count": null,
      "outputs": [
        {
          "output_type": "execute_result",
          "data": {
            "text/plain": [
              "{'digit 0',\n",
              " 'digit 1',\n",
              " 'digit 2',\n",
              " 'digit 3',\n",
              " 'digit 4',\n",
              " 'digit 5',\n",
              " 'digit 6',\n",
              " 'digit 7',\n",
              " 'digit 8',\n",
              " 'digit 9',\n",
              " 'error, you uploaded an unsupported image. please make sure your image is below 20 mb in size and is of one the following formats: [png, jpeg, gif, webp].',\n",
              " 'no illusion'}"
            ]
          },
          "metadata": {},
          "execution_count": 13
        }
      ]
    },
    {
      "cell_type": "code",
      "source": [
        "{item.strip().replace('\\'', '').lower() for item in df_illusionless[f'gpt-4o'].unique()}"
      ],
      "metadata": {
        "colab": {
          "base_uri": "https://localhost:8080/"
        },
        "id": "P23EGPilkINm",
        "outputId": "6135680d-9ea2-4164-ecc3-43c0c28399f7"
      },
      "execution_count": null,
      "outputs": [
        {
          "output_type": "execute_result",
          "data": {
            "text/plain": [
              "{'digit 0',\n",
              " 'digit 1',\n",
              " 'digit 2',\n",
              " 'digit 3',\n",
              " 'digit 6',\n",
              " 'digit 7',\n",
              " 'digit 8',\n",
              " 'error, you uploaded an unsupported image. please make sure your image is below 20 mb in size and is of one the following formats: [png, jpeg, gif, webp].',\n",
              " 'no illusion'}"
            ]
          },
          "metadata": {},
          "execution_count": 14
        }
      ]
    },
    {
      "cell_type": "code",
      "source": [
        "{item.strip().replace('\\'', '').lower() for item in df_illusion_filtered[f'gpt-4o'].unique()}"
      ],
      "metadata": {
        "colab": {
          "base_uri": "https://localhost:8080/"
        },
        "id": "lRnp7sdIkNbj",
        "outputId": "fd240388-aa54-4b0e-f5b8-4a99f12d3ab8"
      },
      "execution_count": null,
      "outputs": [
        {
          "output_type": "execute_result",
          "data": {
            "text/plain": [
              "{'digit 0',\n",
              " 'digit 1',\n",
              " 'digit 2',\n",
              " 'digit 3',\n",
              " 'digit 4',\n",
              " 'digit 5',\n",
              " 'digit 6',\n",
              " 'digit 7',\n",
              " 'digit 8',\n",
              " 'digit 9',\n",
              " 'error, the server had an error processing your request. sorry about that! you can retry your request, or contact us through our help center at help.openai.com if you keep seeing this error. (please include the request id req_14019500bf362a4b2e7f24b3644e7175 in your email.)',\n",
              " 'error, the server had an error processing your request. sorry about that! you can retry your request, or contact us through our help center at help.openai.com if you keep seeing this error. (please include the request id req_c5768bd293b4dcd6496557c002db3073 in your email.)',\n",
              " 'error, you uploaded an unsupported image. please make sure your image is below 20 mb in size and is of one the following formats: [png, jpeg, gif, webp].',\n",
              " 'error, your input image may contain content that is not allowed by our safety system.',\n",
              " 'no illusion'}"
            ]
          },
          "metadata": {},
          "execution_count": 15
        }
      ]
    },
    {
      "cell_type": "code",
      "source": [
        "{item.strip().replace('\\'', '').lower() for item in df_illusionless_filtered[f'gpt-4o'].unique()}"
      ],
      "metadata": {
        "colab": {
          "base_uri": "https://localhost:8080/"
        },
        "id": "_-qTrCyYkTA3",
        "outputId": "f7ae4e9d-3a7c-4c60-daee-422d441b5dfb"
      },
      "execution_count": null,
      "outputs": [
        {
          "output_type": "execute_result",
          "data": {
            "text/plain": [
              "{'digit 0',\n",
              " 'digit 1',\n",
              " 'digit 2',\n",
              " 'digit 3',\n",
              " 'digit 4',\n",
              " 'digit 5',\n",
              " 'digit 6',\n",
              " 'digit 7',\n",
              " 'digit 8',\n",
              " 'digit 9',\n",
              " 'no illusion'}"
            ]
          },
          "metadata": {},
          "execution_count": 16
        }
      ]
    },
    {
      "cell_type": "code",
      "source": [
        "raw_classes[dataset]"
      ],
      "metadata": {
        "colab": {
          "base_uri": "https://localhost:8080/"
        },
        "id": "v8mTBWmG_43b",
        "outputId": "5fe3ffa6-452b-40fa-81ae-ef9beab0f93a"
      },
      "execution_count": null,
      "outputs": [
        {
          "output_type": "execute_result",
          "data": {
            "text/plain": [
              "['digit 0',\n",
              " 'digit 1',\n",
              " 'digit 2',\n",
              " 'digit 3',\n",
              " 'digit 4',\n",
              " 'digit 5',\n",
              " 'digit 6',\n",
              " 'digit 7',\n",
              " 'digit 8',\n",
              " 'digit 9']"
            ]
          },
          "metadata": {},
          "execution_count": 28
        }
      ]
    },
    {
      "cell_type": "markdown",
      "source": [
        "## Raw"
      ],
      "metadata": {
        "id": "oI9F9xNynfHO"
      }
    },
    {
      "cell_type": "code",
      "source": [
        "idx2label = {idx: label.strip().lower() for idx, label in enumerate(classes[dataset])}\n",
        "y_true = df_raw['label'].apply(lambda x: idx2label[x].strip().lower())\n",
        "y_pred = df_raw[f'gpt-4o'].apply(lambda x: x.strip().replace('\\'', '').lower())"
      ],
      "metadata": {
        "id": "DgIM4YU7feh8"
      },
      "execution_count": null,
      "outputs": []
    },
    {
      "cell_type": "code",
      "source": [
        "filtered_df = df_raw[~y_pred.str.contains('error')]\n",
        "filtered_y_true = y_true[~y_pred.str.contains('error')]\n",
        "filtered_y_pred = y_pred[~y_pred.str.contains('error')]"
      ],
      "metadata": {
        "id": "3qjCeJ96mBFL"
      },
      "execution_count": null,
      "outputs": []
    },
    {
      "cell_type": "code",
      "source": [
        "filtered_y_pred"
      ],
      "metadata": {
        "colab": {
          "base_uri": "https://localhost:8080/"
        },
        "id": "XsJP_7fxmCmu",
        "outputId": "420e9824-d37c-423f-8b82-43de6746e630"
      },
      "execution_count": null,
      "outputs": [
        {
          "output_type": "execute_result",
          "data": {
            "text/plain": [
              "0       digit 7\n",
              "5       digit 1\n",
              "14      digit 1\n",
              "34      digit 7\n",
              "37      digit 1\n",
              "         ...   \n",
              "1086    digit 5\n",
              "1087    digit 5\n",
              "1093    digit 0\n",
              "1101    digit 1\n",
              "1107    digit 0\n",
              "Name: gpt-4o, Length: 247, dtype: object"
            ]
          },
          "metadata": {},
          "execution_count": 40
        }
      ]
    },
    {
      "cell_type": "code",
      "source": [
        "filtered_y_true"
      ],
      "metadata": {
        "colab": {
          "base_uri": "https://localhost:8080/"
        },
        "id": "Ttx1R4GlmMKf",
        "outputId": "8f9d4920-343f-4f7d-a093-6fce26ac23ac"
      },
      "execution_count": null,
      "outputs": [
        {
          "output_type": "execute_result",
          "data": {
            "text/plain": [
              "0       digit 7\n",
              "5       digit 1\n",
              "14      digit 1\n",
              "34      digit 7\n",
              "37      digit 1\n",
              "         ...   \n",
              "1086    digit 5\n",
              "1087    digit 5\n",
              "1093    digit 0\n",
              "1101    digit 6\n",
              "1107    digit 0\n",
              "Name: label, Length: 247, dtype: object"
            ]
          },
          "metadata": {},
          "execution_count": 41
        }
      ]
    },
    {
      "cell_type": "code",
      "source": [
        "set(list(filtered_y_pred))"
      ],
      "metadata": {
        "colab": {
          "base_uri": "https://localhost:8080/"
        },
        "id": "7V_kwGpjoGbB",
        "outputId": "478c8865-4282-4809-c723-a2e177c46ac2"
      },
      "execution_count": null,
      "outputs": [
        {
          "output_type": "execute_result",
          "data": {
            "text/plain": [
              "{'digit 0',\n",
              " 'digit 1',\n",
              " 'digit 2',\n",
              " 'digit 3',\n",
              " 'digit 4',\n",
              " 'digit 5',\n",
              " 'digit 6',\n",
              " 'digit 7',\n",
              " 'digit 8',\n",
              " 'digit 9'}"
            ]
          },
          "metadata": {},
          "execution_count": 42
        }
      ]
    },
    {
      "cell_type": "code",
      "source": [
        "set(list(filtered_y_true))"
      ],
      "metadata": {
        "colab": {
          "base_uri": "https://localhost:8080/"
        },
        "id": "jIoHX7aHlSna",
        "outputId": "24331b59-66af-4880-eece-0eeacb2eeffd"
      },
      "execution_count": null,
      "outputs": [
        {
          "output_type": "execute_result",
          "data": {
            "text/plain": [
              "{'digit 0',\n",
              " 'digit 1',\n",
              " 'digit 2',\n",
              " 'digit 3',\n",
              " 'digit 4',\n",
              " 'digit 5',\n",
              " 'digit 6',\n",
              " 'digit 7',\n",
              " 'digit 8',\n",
              " 'digit 9'}"
            ]
          },
          "metadata": {},
          "execution_count": 43
        }
      ]
    },
    {
      "cell_type": "code",
      "source": [
        "coverage = len(filtered_y_pred)/len(y_true)\n",
        "accuracy = accuracy_score(filtered_y_true, filtered_y_pred)\n",
        "precision = precision_score(filtered_y_true, filtered_y_pred, average='macro')\n",
        "recall = recall_score(filtered_y_true, filtered_y_pred, average='macro')\n",
        "f1 = f1_score(filtered_y_true, filtered_y_pred, average='macro')\n",
        "\n",
        "print(\"Coverage:\", coverage)\n",
        "print(\"Accuracy:\", accuracy)\n",
        "print(\"Precision:\", precision)\n",
        "print(\"Recall:\", recall)\n",
        "print(\"F1 score:\", f1)"
      ],
      "metadata": {
        "colab": {
          "base_uri": "https://localhost:8080/"
        },
        "id": "xsafoBSZkM0Z",
        "outputId": "f345974c-8fec-4f91-bbe3-92c2ce125385"
      },
      "execution_count": null,
      "outputs": [
        {
          "output_type": "stream",
          "name": "stdout",
          "text": [
            "Coverage: 0.22272317403065825\n",
            "Accuracy: 0.8987854251012146\n",
            "Precision: 0.9026076140171885\n",
            "Recall: 0.8589381347082714\n",
            "F1 score: 0.8698863566230989\n"
          ]
        }
      ]
    },
    {
      "cell_type": "code",
      "source": [
        "print(\"Coverage:\", round(coverage*100,2))\n",
        "print(\"Accuracy:\", round(accuracy*100,2))\n",
        "print(\"Precision:\", round(precision*100,2))\n",
        "print(\"Recall:\", round(recall*100,2))\n",
        "print(\"F1 score:\", round(f1*100,2))"
      ],
      "metadata": {
        "colab": {
          "base_uri": "https://localhost:8080/"
        },
        "id": "aVJVqvntFFqd",
        "outputId": "7a0e763f-e4fd-425f-e488-307412c36823"
      },
      "execution_count": null,
      "outputs": [
        {
          "output_type": "stream",
          "name": "stdout",
          "text": [
            "Coverage: 22.27\n",
            "Accuracy: 89.88\n",
            "Precision: 90.26\n",
            "Recall: 85.89\n",
            "F1 score: 86.99\n"
          ]
        }
      ]
    },
    {
      "cell_type": "markdown",
      "source": [
        "## Illusion"
      ],
      "metadata": {
        "id": "-AGnN4dPnhTY"
      }
    },
    {
      "cell_type": "code",
      "source": [
        "classes = {\n",
        "    'FashionMnist': ['T-shirt/top', 'Trouser', 'Pullover', 'Dress', 'Coat', 'Sandal', 'Shirt', 'Sneaker', 'Bag', 'Ankle boot', 'no illusion'],\n",
        "    'Mnist': ['digit 0', 'digit 1', 'digit 2', 'digit 3', 'digit 4', 'digit 5', 'digit 6', 'digit 7', 'digit 8', 'digit 9', 'no illusion'],\n",
        "    'IllusionAnimals': ['cat', 'dog', 'pigeon', 'butterfly', 'elephant', 'horse', 'deer', 'snake', 'fish', 'rooster' , 'no illusion'],\n",
        "}\n",
        "idx2label = {idx: label.strip().lower() for idx, label in enumerate(classes[dataset])}\n",
        "y_true = list(df_illusion['label'].apply(lambda x: idx2label[x].strip().lower())) + list(df_illusionless['label'].apply(lambda x: 'no illusion'))\n",
        "\n",
        "y_pred = list(df_illusion[f'gpt-4o'].apply(lambda x: x.strip().replace('\\'', '').replace('‘','').replace('’','').lower())) + list(df_illusionless[f'gpt-4o'].apply(lambda x: x.strip().replace('\\'', '').lower()))"
      ],
      "metadata": {
        "id": "Gj7nigIkllO4"
      },
      "execution_count": null,
      "outputs": []
    },
    {
      "cell_type": "code",
      "source": [
        "y_true_illusion = list(df_illusion['label'].apply(lambda x: idx2label[x].strip().lower()))\n",
        "y_true_illusionless = list(df_illusionless['label'].apply(lambda x: 'no illusion'))\n",
        "y_pred_illusion = list(df_illusion[f'gpt-4o'].apply(lambda x: x.strip().replace('\\'', '').replace('‘','').replace('’','').lower()))\n",
        "y_pred_illusionless = list(df_illusionless[f'gpt-4o'].apply(lambda x: x.strip().replace('\\'', '').lower()))"
      ],
      "metadata": {
        "id": "pDe5rJiSn91p"
      },
      "execution_count": null,
      "outputs": []
    },
    {
      "cell_type": "code",
      "source": [
        "set(y_pred_illusion)"
      ],
      "metadata": {
        "colab": {
          "base_uri": "https://localhost:8080/"
        },
        "id": "QCIklSU3okv3",
        "outputId": "9cc40218-702e-4821-fb35-1d02740b38ec"
      },
      "execution_count": null,
      "outputs": [
        {
          "output_type": "execute_result",
          "data": {
            "text/plain": [
              "{'digit 0',\n",
              " 'digit 1',\n",
              " 'digit 2',\n",
              " 'digit 3',\n",
              " 'digit 4',\n",
              " 'digit 5',\n",
              " 'digit 6',\n",
              " 'digit 7',\n",
              " 'digit 8',\n",
              " 'digit 9',\n",
              " 'error, you uploaded an unsupported image. please make sure your image is below 20 mb in size and is of one the following formats: [png, jpeg, gif, webp].',\n",
              " 'no illusion'}"
            ]
          },
          "metadata": {},
          "execution_count": 32
        }
      ]
    },
    {
      "cell_type": "code",
      "source": [
        "filtered_indices_illusion = [i for i, pred in enumerate(y_pred_illusion) if 'error' in pred]\n",
        "y_pred_illusion_filtered = [pred for i, pred in enumerate(y_pred_illusion) if i not in filtered_indices_illusion]\n",
        "y_true_illusion_filtered = [true for i, true in enumerate(y_true_illusion) if i not in filtered_indices_illusion]\n",
        "\n",
        "filtered_indices_illusionless = [i for i, pred in enumerate(y_pred_illusionless) if 'error' in pred]\n",
        "y_pred_illusionless_filtered = [pred for i, pred in enumerate(y_pred_illusionless) if i not in filtered_indices_illusionless]\n",
        "y_true_illusionless_filtered = [true for i, true in enumerate(y_true_illusionless) if i not in filtered_indices_illusionless]"
      ],
      "metadata": {
        "id": "sVjOllcBoUo7"
      },
      "execution_count": null,
      "outputs": []
    },
    {
      "cell_type": "code",
      "source": [
        "whole_y_true = y_true_illusion_filtered + y_true_illusionless_filtered\n",
        "whole_y_pred = y_pred_illusion_filtered + y_pred_illusionless_filtered"
      ],
      "metadata": {
        "id": "b9CrknMhqP3b"
      },
      "execution_count": null,
      "outputs": []
    },
    {
      "cell_type": "code",
      "source": [
        "coverage = len(whole_y_true)/(len(y_true_illusion)+len(y_true_illusionless))\n",
        "accuracy = accuracy_score(whole_y_true, whole_y_pred)\n",
        "precision = precision_score(whole_y_true, whole_y_pred, average='macro')\n",
        "recall = recall_score(whole_y_true, whole_y_pred, average='macro')\n",
        "f1 = f1_score(whole_y_true, whole_y_pred, average='macro')\n",
        "\n",
        "print(\"Coverage:\", coverage)\n",
        "print(\"Accuracy:\", accuracy)\n",
        "print(\"Precision:\", precision)\n",
        "print(\"Recall:\", recall)\n",
        "print(\"F1 score:\", f1)"
      ],
      "metadata": {
        "id": "dW9xwrAqkRBE",
        "colab": {
          "base_uri": "https://localhost:8080/"
        },
        "outputId": "4f705c48-8e76-44ae-902a-3c2db92e7214"
      },
      "execution_count": null,
      "outputs": [
        {
          "output_type": "stream",
          "name": "stdout",
          "text": [
            "Coverage: 0.9983593109105825\n",
            "Accuracy: 0.37469186524239934\n",
            "Precision: 0.4494363843370843\n",
            "Recall: 0.37397266377310207\n",
            "F1 score: 0.36953191320413925\n"
          ]
        }
      ]
    },
    {
      "cell_type": "code",
      "source": [
        "print(\"Coverage:\", round(coverage*100,2))\n",
        "print(\"Accuracy:\", round(accuracy*100,2))\n",
        "print(\"Precision:\", round(precision*100,2))\n",
        "print(\"Recall:\", round(recall*100,2))\n",
        "print(\"F1 score:\", round(f1*100,2))"
      ],
      "metadata": {
        "colab": {
          "base_uri": "https://localhost:8080/"
        },
        "id": "kgFfruriFVKd",
        "outputId": "de4d87c6-fadb-4994-a963-e4ac73a0d14d"
      },
      "execution_count": null,
      "outputs": [
        {
          "output_type": "stream",
          "name": "stdout",
          "text": [
            "Coverage: 99.84\n",
            "Accuracy: 37.47\n",
            "Precision: 44.94\n",
            "Recall: 37.4\n",
            "F1 score: 36.95\n"
          ]
        }
      ]
    },
    {
      "cell_type": "markdown",
      "source": [
        "## Illusion Filtered"
      ],
      "metadata": {
        "id": "1aMoHSH8piVd"
      }
    },
    {
      "cell_type": "code",
      "source": [
        "classes = {\n",
        "    'FashionMnist': ['T-shirt/top', 'Trouser', 'Pullover', 'Dress', 'Coat', 'Sandal', 'Shirt', 'Sneaker', 'Bag', 'Ankle boot', 'no illusion'],\n",
        "    'Mnist': ['digit 0', 'digit 1', 'digit 2', 'digit 3', 'digit 4', 'digit 5', 'digit 6', 'digit 7', 'digit 8', 'digit 9', 'no illusion'],\n",
        "    'IllusionAnimals': ['cat', 'dog', 'pigeon', 'butterfly', 'elephant', 'horse', 'deer', 'snake', 'fish', 'rooster' , 'no illusion'],\n",
        "}\n",
        "idx2label = {idx: label.strip().lower() for idx, label in enumerate(classes[dataset])}\n",
        "# y_true = list(df_illusion_filtered['label'].apply(lambda x: idx2label[x].strip().lower())) + list(df_illusionless_filtered.filter(items=illusionless_indexes, axis=0)['label'].apply(lambda x: 'no illusion'))\n",
        "\n",
        "\n",
        "# y_pred = list(df[f'illusion_images_filtered'].apply(lambda x: x.strip().replace('\\'', '').lower())) + list(df.filter(items=illusionless_indexes, axis=0)[f'illusionless_images_filtered'].apply(lambda x: x.strip().replace('\\'', '').lower()))"
      ],
      "metadata": {
        "id": "lJTiGlVFkQ-a"
      },
      "execution_count": null,
      "outputs": []
    },
    {
      "cell_type": "code",
      "source": [
        "y_true_illusion_f = list(df_illusion_filtered['label'].apply(lambda x: idx2label[x].strip().lower()))\n",
        "y_true_illusionless_f = list(df_illusionless_filtered['label'].apply(lambda x: 'no illusion'))\n",
        "y_pred_illusion_f = list(df_illusion_filtered[f'gpt-4o'].apply(lambda x: x.strip().replace('\\'', '').replace('‘','').replace('’','').lower()))\n",
        "y_pred_illusionless_f = list(df_illusionless_filtered[f'gpt-4o'].apply(lambda x: x.strip().replace('\\'', '').lower()))"
      ],
      "metadata": {
        "id": "3loTJYRUF6m9"
      },
      "execution_count": null,
      "outputs": []
    },
    {
      "cell_type": "code",
      "source": [
        "filtered_indices_illusion_filtered = [i for i, pred in enumerate(y_pred_illusion_f) if 'error' in pred]\n",
        "y_pred_illusion_f_filtered = [pred for i, pred in enumerate(y_pred_illusion_f) if i not in filtered_indices_illusion_filtered]\n",
        "y_true_illusion_f_filtered = [true for i, true in enumerate(y_true_illusion_f) if i not in filtered_indices_illusion_filtered]\n",
        "\n",
        "filtered_indices_illusionless_filtered = [i for i, pred in enumerate(y_pred_illusionless_f) if 'error' in pred]\n",
        "y_pred_illusionless_f_filtered = [pred for i, pred in enumerate(y_pred_illusionless_f) if i not in filtered_indices_illusionless_filtered]\n",
        "y_true_illusionless_f_filtered = [true for i, true in enumerate(y_true_illusionless_f) if i not in filtered_indices_illusionless_filtered]"
      ],
      "metadata": {
        "id": "tCXnJsRzFXJV"
      },
      "execution_count": null,
      "outputs": []
    },
    {
      "cell_type": "code",
      "source": [
        "whole_y_true = y_true_illusion_f_filtered + y_true_illusionless_f_filtered\n",
        "whole_y_pred = y_pred_illusion_f_filtered + y_pred_illusionless_f_filtered"
      ],
      "metadata": {
        "id": "3pTDFwSnFZFG"
      },
      "execution_count": null,
      "outputs": []
    },
    {
      "cell_type": "code",
      "source": [
        "coverage = len(whole_y_true)/(len(y_true_illusion_f)+len(y_true_illusionless_f))\n",
        "accuracy = accuracy_score(whole_y_true, whole_y_pred)\n",
        "precision = precision_score(whole_y_true, whole_y_pred, average='macro')\n",
        "recall = recall_score(whole_y_true, whole_y_pred, average='macro')\n",
        "f1 = f1_score(whole_y_true, whole_y_pred, average='macro')\n",
        "\n",
        "print(\"Coverage:\", coverage)\n",
        "print(\"Accuracy:\", accuracy)\n",
        "print(\"Precision:\", precision)\n",
        "print(\"Recall:\", recall)\n",
        "print(\"F1 score:\", f1)"
      ],
      "metadata": {
        "id": "-oI4HYT6kQ78",
        "colab": {
          "base_uri": "https://localhost:8080/"
        },
        "outputId": "8fb32662-f746-4fd8-c1eb-b4312b8f8500"
      },
      "execution_count": null,
      "outputs": [
        {
          "output_type": "stream",
          "name": "stdout",
          "text": [
            "Coverage: 0.9680065627563577\n",
            "Accuracy: 0.6796610169491526\n",
            "Precision: 0.7039038335822556\n",
            "Recall: 0.6798719438482809\n",
            "F1 score: 0.6832106056176457\n"
          ]
        }
      ]
    },
    {
      "cell_type": "code",
      "source": [
        "print(\"Coverage:\", round(coverage*100,2))\n",
        "print(\"Accuracy:\", round(accuracy*100,2))\n",
        "print(\"Precision:\", round(precision*100,2))\n",
        "print(\"Recall:\", round(recall*100,2))\n",
        "print(\"F1 score:\", round(f1*100,2))"
      ],
      "metadata": {
        "colab": {
          "base_uri": "https://localhost:8080/"
        },
        "id": "33himxzsFUMG",
        "outputId": "c053b058-6051-410f-e37b-0ade205370ec"
      },
      "execution_count": null,
      "outputs": [
        {
          "output_type": "stream",
          "name": "stdout",
          "text": [
            "Coverage: 96.8\n",
            "Accuracy: 67.97\n",
            "Precision: 70.39\n",
            "Recall: 67.99\n",
            "F1 score: 68.32\n"
          ]
        }
      ]
    },
    {
      "cell_type": "code",
      "source": [],
      "metadata": {
        "id": "SoE2qG0PG5p1"
      },
      "execution_count": null,
      "outputs": []
    },
    {
      "cell_type": "code",
      "source": [],
      "metadata": {
        "id": "3f2TRI10irCD"
      },
      "execution_count": null,
      "outputs": []
    },
    {
      "cell_type": "markdown",
      "source": [
        "# FashionMnist"
      ],
      "metadata": {
        "id": "5jb4F4S1irYe"
      }
    },
    {
      "cell_type": "code",
      "execution_count": null,
      "metadata": {
        "id": "1kC6FCYairYe"
      },
      "outputs": [],
      "source": [
        "from sklearn.metrics import accuracy_score, precision_score, recall_score, f1_score\n",
        "import pandas as pd\n",
        "dataset = 'FashionMnist'\n",
        "# dataset = 'IllusionAnimals'\n",
        "\n",
        "df_raw = pd.read_csv(f'/content/drive/MyDrive/GPT-4_results/GPT-4_{dataset}_raw.csv')\n",
        "df_illusion = pd.read_csv(f'/content/drive/MyDrive/GPT-4_results/GPT-4_{dataset}_illusion.csv')\n",
        "df_illusionless = pd.read_csv(f'/content/drive/MyDrive/GPT-4_results/GPT-4_{dataset}_illusionless.csv')\n",
        "df_illusion_filtered = pd.read_csv(f'/content/drive/MyDrive/GPT-4_results/GPT-4_{dataset}_illusion_filtered.csv')\n",
        "df_illusionless_filtered = pd.read_csv(f'/content/drive/MyDrive/GPT-4_results/GPT-4_{dataset}_illusionless_filtered.csv')\n"
      ]
    },
    {
      "cell_type": "code",
      "source": [
        "df_raw"
      ],
      "metadata": {
        "colab": {
          "base_uri": "https://localhost:8080/",
          "height": 615
        },
        "outputId": "531997df-e6ee-4fce-aa59-1a126ba176b6",
        "id": "HNMpKN3xirYe"
      },
      "execution_count": null,
      "outputs": [
        {
          "output_type": "execute_result",
          "data": {
            "text/plain": [
              "      Unnamed: 0         image_name  \\\n",
              "0              0     FashionMnist_1   \n",
              "1              1     FashionMnist_2   \n",
              "2              2     FashionMnist_3   \n",
              "3              3     FashionMnist_4   \n",
              "4              4     FashionMnist_5   \n",
              "...          ...                ...   \n",
              "1147        1147  FashionMnist_1148   \n",
              "1148        1148  FashionMnist_1149   \n",
              "1149        1149  FashionMnist_1150   \n",
              "1150        1150  FashionMnist_1151   \n",
              "1151        1151  FashionMnist_1152   \n",
              "\n",
              "                                                Pprompt      Nprompt  \\\n",
              "0        Two friends hiking on a mountain during sunset  low quality   \n",
              "1        A starry night sky with constellations glowing  low quality   \n",
              "2           A Thanksgiving feast giving thanks and love  low quality   \n",
              "3      A gecko on a large leaf in a tropical rainforest  low quality   \n",
              "4         A Hanukkah menorah lighting symbolizing faith  low quality   \n",
              "...                                                 ...          ...   \n",
              "1147  Electrified waterfalls cascade, neon rivers re...  low quality   \n",
              "1148  A rocky desert landscape with cacti and tumble...  low quality   \n",
              "1149  A majestic waterfall plunging into a crystal-c...  low quality   \n",
              "1150  Eerie silence surrounds snowy mountains, glowi...  low quality   \n",
              "1151  A quaint village nestled in the rolling green ...  low quality   \n",
              "\n",
              "      illusion_strength  label  \\\n",
              "0                   1.5      9   \n",
              "1                   1.5      2   \n",
              "2                   1.5      1   \n",
              "3                   1.5      1   \n",
              "4                   1.5      6   \n",
              "...                 ...    ...   \n",
              "1147                1.5      2   \n",
              "1148                1.5      2   \n",
              "1149                1.5      5   \n",
              "1150                1.5      3   \n",
              "1151                1.5      7   \n",
              "\n",
              "                                                 gpt-4o  \n",
              "0                                               Sneaker  \n",
              "1                                              Pullover  \n",
              "2                                                 error  \n",
              "3                                                 error  \n",
              "4                                                 error  \n",
              "...                                                 ...  \n",
              "1147                                         'Pullover'  \n",
              "1148                                           Pullover  \n",
              "1149                                           'Sandal'  \n",
              "1150  error, Your input image may contain content th...  \n",
              "1151                                            Sneaker  \n",
              "\n",
              "[1152 rows x 7 columns]"
            ],
            "text/html": [
              "\n",
              "  <div id=\"df-be93c318-4a03-4a90-a99f-d3350847bb7f\" class=\"colab-df-container\">\n",
              "    <div>\n",
              "<style scoped>\n",
              "    .dataframe tbody tr th:only-of-type {\n",
              "        vertical-align: middle;\n",
              "    }\n",
              "\n",
              "    .dataframe tbody tr th {\n",
              "        vertical-align: top;\n",
              "    }\n",
              "\n",
              "    .dataframe thead th {\n",
              "        text-align: right;\n",
              "    }\n",
              "</style>\n",
              "<table border=\"1\" class=\"dataframe\">\n",
              "  <thead>\n",
              "    <tr style=\"text-align: right;\">\n",
              "      <th></th>\n",
              "      <th>Unnamed: 0</th>\n",
              "      <th>image_name</th>\n",
              "      <th>Pprompt</th>\n",
              "      <th>Nprompt</th>\n",
              "      <th>illusion_strength</th>\n",
              "      <th>label</th>\n",
              "      <th>gpt-4o</th>\n",
              "    </tr>\n",
              "  </thead>\n",
              "  <tbody>\n",
              "    <tr>\n",
              "      <th>0</th>\n",
              "      <td>0</td>\n",
              "      <td>FashionMnist_1</td>\n",
              "      <td>Two friends hiking on a mountain during sunset</td>\n",
              "      <td>low quality</td>\n",
              "      <td>1.5</td>\n",
              "      <td>9</td>\n",
              "      <td>Sneaker</td>\n",
              "    </tr>\n",
              "    <tr>\n",
              "      <th>1</th>\n",
              "      <td>1</td>\n",
              "      <td>FashionMnist_2</td>\n",
              "      <td>A starry night sky with constellations glowing</td>\n",
              "      <td>low quality</td>\n",
              "      <td>1.5</td>\n",
              "      <td>2</td>\n",
              "      <td>Pullover</td>\n",
              "    </tr>\n",
              "    <tr>\n",
              "      <th>2</th>\n",
              "      <td>2</td>\n",
              "      <td>FashionMnist_3</td>\n",
              "      <td>A Thanksgiving feast giving thanks and love</td>\n",
              "      <td>low quality</td>\n",
              "      <td>1.5</td>\n",
              "      <td>1</td>\n",
              "      <td>error</td>\n",
              "    </tr>\n",
              "    <tr>\n",
              "      <th>3</th>\n",
              "      <td>3</td>\n",
              "      <td>FashionMnist_4</td>\n",
              "      <td>A gecko on a large leaf in a tropical rainforest</td>\n",
              "      <td>low quality</td>\n",
              "      <td>1.5</td>\n",
              "      <td>1</td>\n",
              "      <td>error</td>\n",
              "    </tr>\n",
              "    <tr>\n",
              "      <th>4</th>\n",
              "      <td>4</td>\n",
              "      <td>FashionMnist_5</td>\n",
              "      <td>A Hanukkah menorah lighting symbolizing faith</td>\n",
              "      <td>low quality</td>\n",
              "      <td>1.5</td>\n",
              "      <td>6</td>\n",
              "      <td>error</td>\n",
              "    </tr>\n",
              "    <tr>\n",
              "      <th>...</th>\n",
              "      <td>...</td>\n",
              "      <td>...</td>\n",
              "      <td>...</td>\n",
              "      <td>...</td>\n",
              "      <td>...</td>\n",
              "      <td>...</td>\n",
              "      <td>...</td>\n",
              "    </tr>\n",
              "    <tr>\n",
              "      <th>1147</th>\n",
              "      <td>1147</td>\n",
              "      <td>FashionMnist_1148</td>\n",
              "      <td>Electrified waterfalls cascade, neon rivers re...</td>\n",
              "      <td>low quality</td>\n",
              "      <td>1.5</td>\n",
              "      <td>2</td>\n",
              "      <td>'Pullover'</td>\n",
              "    </tr>\n",
              "    <tr>\n",
              "      <th>1148</th>\n",
              "      <td>1148</td>\n",
              "      <td>FashionMnist_1149</td>\n",
              "      <td>A rocky desert landscape with cacti and tumble...</td>\n",
              "      <td>low quality</td>\n",
              "      <td>1.5</td>\n",
              "      <td>2</td>\n",
              "      <td>Pullover</td>\n",
              "    </tr>\n",
              "    <tr>\n",
              "      <th>1149</th>\n",
              "      <td>1149</td>\n",
              "      <td>FashionMnist_1150</td>\n",
              "      <td>A majestic waterfall plunging into a crystal-c...</td>\n",
              "      <td>low quality</td>\n",
              "      <td>1.5</td>\n",
              "      <td>5</td>\n",
              "      <td>'Sandal'</td>\n",
              "    </tr>\n",
              "    <tr>\n",
              "      <th>1150</th>\n",
              "      <td>1150</td>\n",
              "      <td>FashionMnist_1151</td>\n",
              "      <td>Eerie silence surrounds snowy mountains, glowi...</td>\n",
              "      <td>low quality</td>\n",
              "      <td>1.5</td>\n",
              "      <td>3</td>\n",
              "      <td>error, Your input image may contain content th...</td>\n",
              "    </tr>\n",
              "    <tr>\n",
              "      <th>1151</th>\n",
              "      <td>1151</td>\n",
              "      <td>FashionMnist_1152</td>\n",
              "      <td>A quaint village nestled in the rolling green ...</td>\n",
              "      <td>low quality</td>\n",
              "      <td>1.5</td>\n",
              "      <td>7</td>\n",
              "      <td>Sneaker</td>\n",
              "    </tr>\n",
              "  </tbody>\n",
              "</table>\n",
              "<p>1152 rows × 7 columns</p>\n",
              "</div>\n",
              "    <div class=\"colab-df-buttons\">\n",
              "\n",
              "  <div class=\"colab-df-container\">\n",
              "    <button class=\"colab-df-convert\" onclick=\"convertToInteractive('df-be93c318-4a03-4a90-a99f-d3350847bb7f')\"\n",
              "            title=\"Convert this dataframe to an interactive table.\"\n",
              "            style=\"display:none;\">\n",
              "\n",
              "  <svg xmlns=\"http://www.w3.org/2000/svg\" height=\"24px\" viewBox=\"0 -960 960 960\">\n",
              "    <path d=\"M120-120v-720h720v720H120Zm60-500h600v-160H180v160Zm220 220h160v-160H400v160Zm0 220h160v-160H400v160ZM180-400h160v-160H180v160Zm440 0h160v-160H620v160ZM180-180h160v-160H180v160Zm440 0h160v-160H620v160Z\"/>\n",
              "  </svg>\n",
              "    </button>\n",
              "\n",
              "  <style>\n",
              "    .colab-df-container {\n",
              "      display:flex;\n",
              "      gap: 12px;\n",
              "    }\n",
              "\n",
              "    .colab-df-convert {\n",
              "      background-color: #E8F0FE;\n",
              "      border: none;\n",
              "      border-radius: 50%;\n",
              "      cursor: pointer;\n",
              "      display: none;\n",
              "      fill: #1967D2;\n",
              "      height: 32px;\n",
              "      padding: 0 0 0 0;\n",
              "      width: 32px;\n",
              "    }\n",
              "\n",
              "    .colab-df-convert:hover {\n",
              "      background-color: #E2EBFA;\n",
              "      box-shadow: 0px 1px 2px rgba(60, 64, 67, 0.3), 0px 1px 3px 1px rgba(60, 64, 67, 0.15);\n",
              "      fill: #174EA6;\n",
              "    }\n",
              "\n",
              "    .colab-df-buttons div {\n",
              "      margin-bottom: 4px;\n",
              "    }\n",
              "\n",
              "    [theme=dark] .colab-df-convert {\n",
              "      background-color: #3B4455;\n",
              "      fill: #D2E3FC;\n",
              "    }\n",
              "\n",
              "    [theme=dark] .colab-df-convert:hover {\n",
              "      background-color: #434B5C;\n",
              "      box-shadow: 0px 1px 3px 1px rgba(0, 0, 0, 0.15);\n",
              "      filter: drop-shadow(0px 1px 2px rgba(0, 0, 0, 0.3));\n",
              "      fill: #FFFFFF;\n",
              "    }\n",
              "  </style>\n",
              "\n",
              "    <script>\n",
              "      const buttonEl =\n",
              "        document.querySelector('#df-be93c318-4a03-4a90-a99f-d3350847bb7f button.colab-df-convert');\n",
              "      buttonEl.style.display =\n",
              "        google.colab.kernel.accessAllowed ? 'block' : 'none';\n",
              "\n",
              "      async function convertToInteractive(key) {\n",
              "        const element = document.querySelector('#df-be93c318-4a03-4a90-a99f-d3350847bb7f');\n",
              "        const dataTable =\n",
              "          await google.colab.kernel.invokeFunction('convertToInteractive',\n",
              "                                                    [key], {});\n",
              "        if (!dataTable) return;\n",
              "\n",
              "        const docLinkHtml = 'Like what you see? Visit the ' +\n",
              "          '<a target=\"_blank\" href=https://colab.research.google.com/notebooks/data_table.ipynb>data table notebook</a>'\n",
              "          + ' to learn more about interactive tables.';\n",
              "        element.innerHTML = '';\n",
              "        dataTable['output_type'] = 'display_data';\n",
              "        await google.colab.output.renderOutput(dataTable, element);\n",
              "        const docLink = document.createElement('div');\n",
              "        docLink.innerHTML = docLinkHtml;\n",
              "        element.appendChild(docLink);\n",
              "      }\n",
              "    </script>\n",
              "  </div>\n",
              "\n",
              "\n",
              "<div id=\"df-2a8d6de2-15db-4dbf-ba3c-067acbc38858\">\n",
              "  <button class=\"colab-df-quickchart\" onclick=\"quickchart('df-2a8d6de2-15db-4dbf-ba3c-067acbc38858')\"\n",
              "            title=\"Suggest charts\"\n",
              "            style=\"display:none;\">\n",
              "\n",
              "<svg xmlns=\"http://www.w3.org/2000/svg\" height=\"24px\"viewBox=\"0 0 24 24\"\n",
              "     width=\"24px\">\n",
              "    <g>\n",
              "        <path d=\"M19 3H5c-1.1 0-2 .9-2 2v14c0 1.1.9 2 2 2h14c1.1 0 2-.9 2-2V5c0-1.1-.9-2-2-2zM9 17H7v-7h2v7zm4 0h-2V7h2v10zm4 0h-2v-4h2v4z\"/>\n",
              "    </g>\n",
              "</svg>\n",
              "  </button>\n",
              "\n",
              "<style>\n",
              "  .colab-df-quickchart {\n",
              "      --bg-color: #E8F0FE;\n",
              "      --fill-color: #1967D2;\n",
              "      --hover-bg-color: #E2EBFA;\n",
              "      --hover-fill-color: #174EA6;\n",
              "      --disabled-fill-color: #AAA;\n",
              "      --disabled-bg-color: #DDD;\n",
              "  }\n",
              "\n",
              "  [theme=dark] .colab-df-quickchart {\n",
              "      --bg-color: #3B4455;\n",
              "      --fill-color: #D2E3FC;\n",
              "      --hover-bg-color: #434B5C;\n",
              "      --hover-fill-color: #FFFFFF;\n",
              "      --disabled-bg-color: #3B4455;\n",
              "      --disabled-fill-color: #666;\n",
              "  }\n",
              "\n",
              "  .colab-df-quickchart {\n",
              "    background-color: var(--bg-color);\n",
              "    border: none;\n",
              "    border-radius: 50%;\n",
              "    cursor: pointer;\n",
              "    display: none;\n",
              "    fill: var(--fill-color);\n",
              "    height: 32px;\n",
              "    padding: 0;\n",
              "    width: 32px;\n",
              "  }\n",
              "\n",
              "  .colab-df-quickchart:hover {\n",
              "    background-color: var(--hover-bg-color);\n",
              "    box-shadow: 0 1px 2px rgba(60, 64, 67, 0.3), 0 1px 3px 1px rgba(60, 64, 67, 0.15);\n",
              "    fill: var(--button-hover-fill-color);\n",
              "  }\n",
              "\n",
              "  .colab-df-quickchart-complete:disabled,\n",
              "  .colab-df-quickchart-complete:disabled:hover {\n",
              "    background-color: var(--disabled-bg-color);\n",
              "    fill: var(--disabled-fill-color);\n",
              "    box-shadow: none;\n",
              "  }\n",
              "\n",
              "  .colab-df-spinner {\n",
              "    border: 2px solid var(--fill-color);\n",
              "    border-color: transparent;\n",
              "    border-bottom-color: var(--fill-color);\n",
              "    animation:\n",
              "      spin 1s steps(1) infinite;\n",
              "  }\n",
              "\n",
              "  @keyframes spin {\n",
              "    0% {\n",
              "      border-color: transparent;\n",
              "      border-bottom-color: var(--fill-color);\n",
              "      border-left-color: var(--fill-color);\n",
              "    }\n",
              "    20% {\n",
              "      border-color: transparent;\n",
              "      border-left-color: var(--fill-color);\n",
              "      border-top-color: var(--fill-color);\n",
              "    }\n",
              "    30% {\n",
              "      border-color: transparent;\n",
              "      border-left-color: var(--fill-color);\n",
              "      border-top-color: var(--fill-color);\n",
              "      border-right-color: var(--fill-color);\n",
              "    }\n",
              "    40% {\n",
              "      border-color: transparent;\n",
              "      border-right-color: var(--fill-color);\n",
              "      border-top-color: var(--fill-color);\n",
              "    }\n",
              "    60% {\n",
              "      border-color: transparent;\n",
              "      border-right-color: var(--fill-color);\n",
              "    }\n",
              "    80% {\n",
              "      border-color: transparent;\n",
              "      border-right-color: var(--fill-color);\n",
              "      border-bottom-color: var(--fill-color);\n",
              "    }\n",
              "    90% {\n",
              "      border-color: transparent;\n",
              "      border-bottom-color: var(--fill-color);\n",
              "    }\n",
              "  }\n",
              "</style>\n",
              "\n",
              "  <script>\n",
              "    async function quickchart(key) {\n",
              "      const quickchartButtonEl =\n",
              "        document.querySelector('#' + key + ' button');\n",
              "      quickchartButtonEl.disabled = true;  // To prevent multiple clicks.\n",
              "      quickchartButtonEl.classList.add('colab-df-spinner');\n",
              "      try {\n",
              "        const charts = await google.colab.kernel.invokeFunction(\n",
              "            'suggestCharts', [key], {});\n",
              "      } catch (error) {\n",
              "        console.error('Error during call to suggestCharts:', error);\n",
              "      }\n",
              "      quickchartButtonEl.classList.remove('colab-df-spinner');\n",
              "      quickchartButtonEl.classList.add('colab-df-quickchart-complete');\n",
              "    }\n",
              "    (() => {\n",
              "      let quickchartButtonEl =\n",
              "        document.querySelector('#df-2a8d6de2-15db-4dbf-ba3c-067acbc38858 button');\n",
              "      quickchartButtonEl.style.display =\n",
              "        google.colab.kernel.accessAllowed ? 'block' : 'none';\n",
              "    })();\n",
              "  </script>\n",
              "</div>\n",
              "    </div>\n",
              "  </div>\n"
            ],
            "application/vnd.google.colaboratory.intrinsic+json": {
              "type": "dataframe",
              "variable_name": "df_raw",
              "summary": "{\n  \"name\": \"df_raw\",\n  \"rows\": 1152,\n  \"fields\": [\n    {\n      \"column\": \"Unnamed: 0\",\n      \"properties\": {\n        \"dtype\": \"number\",\n        \"std\": 332,\n        \"min\": 0,\n        \"max\": 1151,\n        \"num_unique_values\": 1152,\n        \"samples\": [\n          174,\n          754,\n          584\n        ],\n        \"semantic_type\": \"\",\n        \"description\": \"\"\n      }\n    },\n    {\n      \"column\": \"image_name\",\n      \"properties\": {\n        \"dtype\": \"string\",\n        \"num_unique_values\": 1152,\n        \"samples\": [\n          \"FashionMnist_175\",\n          \"FashionMnist_755\",\n          \"FashionMnist_585\"\n        ],\n        \"semantic_type\": \"\",\n        \"description\": \"\"\n      }\n    },\n    {\n      \"column\": \"Pprompt\",\n      \"properties\": {\n        \"dtype\": \"string\",\n        \"num_unique_values\": 710,\n        \"samples\": [\n          \"A mystical forest enchanted by soft glowing fireflies\",\n          \"A lonely cottage in autumn forest\",\n          \"A bustling city street with neon lights and towering skyscrapers\"\n        ],\n        \"semantic_type\": \"\",\n        \"description\": \"\"\n      }\n    },\n    {\n      \"column\": \"Nprompt\",\n      \"properties\": {\n        \"dtype\": \"category\",\n        \"num_unique_values\": 1,\n        \"samples\": [\n          \"low quality\"\n        ],\n        \"semantic_type\": \"\",\n        \"description\": \"\"\n      }\n    },\n    {\n      \"column\": \"illusion_strength\",\n      \"properties\": {\n        \"dtype\": \"number\",\n        \"std\": 0.0,\n        \"min\": 1.5,\n        \"max\": 1.5,\n        \"num_unique_values\": 1,\n        \"samples\": [\n          1.5\n        ],\n        \"semantic_type\": \"\",\n        \"description\": \"\"\n      }\n    },\n    {\n      \"column\": \"label\",\n      \"properties\": {\n        \"dtype\": \"number\",\n        \"std\": 2,\n        \"min\": 0,\n        \"max\": 9,\n        \"num_unique_values\": 10,\n        \"samples\": [\n          8\n        ],\n        \"semantic_type\": \"\",\n        \"description\": \"\"\n      }\n    },\n    {\n      \"column\": \"gpt-4o\",\n      \"properties\": {\n        \"dtype\": \"category\",\n        \"num_unique_values\": 27,\n        \"samples\": [\n          \"'Bag'\"\n        ],\n        \"semantic_type\": \"\",\n        \"description\": \"\"\n      }\n    }\n  ]\n}"
            }
          },
          "metadata": {},
          "execution_count": 75
        }
      ]
    },
    {
      "cell_type": "code",
      "source": [
        "import torch\n",
        "import numpy as np\n",
        "import random\n",
        "\n",
        "# Make reproducible code\n",
        "GLOBAL_SEED = 10\n",
        "\n",
        "np.random.seed(GLOBAL_SEED)\n",
        "random.seed(GLOBAL_SEED)\n",
        "torch.manual_seed(GLOBAL_SEED)\n",
        "torch.use_deterministic_algorithms(True)\n",
        "%env CUBLAS_WORKSPACE_CONFIG=:4096:8\n",
        "\n",
        "torch.backends.cudnn.deterministic = True\n",
        "torch.backends.cudnn.benchmark = False\n",
        "\n",
        "# illusionless_indexes = random.sample(range(len(df_illusion)), int(len(df_illusion)*0.1))"
      ],
      "metadata": {
        "colab": {
          "base_uri": "https://localhost:8080/"
        },
        "outputId": "2c0b50bc-c91b-4ef2-f81d-f36fbf5a19ea",
        "id": "ay6xDeT0irYe"
      },
      "execution_count": null,
      "outputs": [
        {
          "output_type": "stream",
          "name": "stdout",
          "text": [
            "env: CUBLAS_WORKSPACE_CONFIG=:4096:8\n"
          ]
        }
      ]
    },
    {
      "cell_type": "code",
      "source": [
        "raw_classes = {\n",
        "    'FashionMnist': ['T-shirt/top', 'Trouser', 'Pullover', 'Dress', 'Coat', 'Sandal', 'Shirt', 'Sneaker', 'Bag', 'Ankle boot'],\n",
        "    'Mnist': ['digit 0', 'digit 1', 'digit 2', 'digit 3', 'digit 4', 'digit 5', 'digit 6', 'digit 7', 'digit 8', 'digit 9'],\n",
        "    'IllusionAnimals': ['cat', 'dog', 'pigeon', 'butterfly', 'elephant', 'horse', 'deer', 'snake', 'fish', 'rooster' ],\n",
        "}\n",
        "\n",
        "classes = {\n",
        "    'FashionMnist': ['T-shirt/top', 'Trouser', 'Pullover', 'Dress', 'Coat', 'Sandal', 'Shirt', 'Sneaker', 'Bag', 'Ankle boot', 'No illusion'],\n",
        "    'Mnist': ['digit 0', 'digit 1', 'digit 2', 'digit 3', 'digit 4', 'digit 5', 'digit 6', 'digit 7', 'digit 8', 'digit 9', 'No illusion'],\n",
        "    'IllusionAnimals': ['cat', 'dog', 'pigeon', 'butterfly', 'elephant', 'horse', 'deer', 'snake', 'fish', 'rooster', 'No illusion' ],\n",
        "}\n",
        "\n",
        "# assert {item.strip().lower() for item in df[f'LLaVa_{dataset}_ill_images'].unique()}.issubset({item.strip().lower() for item in classes[dataset]})\n",
        "# assert {item.strip().lower() for item in df[f'LLaVa_{dataset}_illusion_images_filtered'].unique()}.issubset({item.strip().lower() for item in classes[dataset]})\n",
        "# assert {item.strip().lower() for item in df[f'LLaVa_{dataset}_illusionless_images'].unique()}.issubset({item.strip().lower() for item in classes[dataset]})\n",
        "# assert {item.strip().lower() for item in df[f'LLaVa_{dataset}_illusionless_images_filtered'].unique()}.issubset({item.strip().lower() for item in classes[dataset]})\n",
        "# assert {item.strip().lower() for item in df[f'LLaVa_{dataset}_raw_images'].unique()}.issubset({item.strip().lower() for item in raw_classes[dataset]})"
      ],
      "metadata": {
        "id": "Er1_d06TirYe"
      },
      "execution_count": null,
      "outputs": []
    },
    {
      "cell_type": "code",
      "source": [
        "{item.strip().replace('\\'', '').lower() for item in df_raw[f'gpt-4o'].unique()}"
      ],
      "metadata": {
        "colab": {
          "base_uri": "https://localhost:8080/"
        },
        "outputId": "8500097a-2634-4fbe-90da-d815815df3f0",
        "id": "urdpHJdWirYe"
      },
      "execution_count": null,
      "outputs": [
        {
          "output_type": "execute_result",
          "data": {
            "text/plain": [
              "{'ankle boot',\n",
              " 'ankle boot.',\n",
              " 'bag',\n",
              " 'coat',\n",
              " 'dress',\n",
              " 'error',\n",
              " 'error, the server had an error processing your request. sorry about that! you can retry your request, or contact us through our help center at help.openai.com if you keep seeing this error. (please include the request id req_27c8625ce826d4865451267af46d0aba in your email.)',\n",
              " 'error, your input image may contain content that is not allowed by our safety system.',\n",
              " 'pullover',\n",
              " 'pullover.',\n",
              " 'sandal',\n",
              " 'shirt',\n",
              " 'sneaker',\n",
              " 'sneaker.',\n",
              " 't-shirt/top',\n",
              " 'trouser'}"
            ]
          },
          "metadata": {},
          "execution_count": 78
        }
      ]
    },
    {
      "cell_type": "code",
      "source": [
        "{item.strip().replace('\\'', '').replace('‘','').replace('’','').lower() for item in df_illusion[f'gpt-4o'].unique()}"
      ],
      "metadata": {
        "colab": {
          "base_uri": "https://localhost:8080/"
        },
        "outputId": "81ef5ee8-c08e-4526-de24-a98633e92b62",
        "id": "SDOe1pM-irYe"
      },
      "execution_count": null,
      "outputs": [
        {
          "output_type": "execute_result",
          "data": {
            "text/plain": [
              "{'ankle boot',\n",
              " 'bag',\n",
              " 'coat',\n",
              " 'dress',\n",
              " 'error, you uploaded an unsupported image. please make sure your image is below 20 mb in size and is of one the following formats: [png, jpeg, gif, webp].',\n",
              " 'no illusion',\n",
              " 'no illusion.',\n",
              " 'pullover',\n",
              " 'sandal',\n",
              " 'shirt',\n",
              " 'sneaker',\n",
              " 't-shirt/top',\n",
              " 'trouser'}"
            ]
          },
          "metadata": {},
          "execution_count": 79
        }
      ]
    },
    {
      "cell_type": "code",
      "source": [
        "{item.strip().replace('\\'', '').lower() for item in df_illusionless[f'gpt-4o'].unique()}"
      ],
      "metadata": {
        "colab": {
          "base_uri": "https://localhost:8080/"
        },
        "outputId": "d6952f4a-4f2b-43a4-fc25-83f49b05d48e",
        "id": "WDxj85fcirYf"
      },
      "execution_count": null,
      "outputs": [
        {
          "output_type": "execute_result",
          "data": {
            "text/plain": [
              "{'dress', 'no illusion', 't-shirt/top'}"
            ]
          },
          "metadata": {},
          "execution_count": 80
        }
      ]
    },
    {
      "cell_type": "code",
      "source": [
        "{item.strip().replace('\\'', '').lower() for item in df_illusion_filtered[f'gpt-4o'].unique()}"
      ],
      "metadata": {
        "colab": {
          "base_uri": "https://localhost:8080/"
        },
        "outputId": "19be484a-039e-42d2-9a8c-6f08f21c3ce9",
        "id": "s16g4ZZJirYf"
      },
      "execution_count": null,
      "outputs": [
        {
          "output_type": "execute_result",
          "data": {
            "text/plain": [
              "{'ankle boot',\n",
              " 'bag',\n",
              " 'coat',\n",
              " 'dress',\n",
              " 'error, the server had an error processing your request. sorry about that! you can retry your request, or contact us through our help center at help.openai.com if you keep seeing this error. (please include the request id req_4a146828222c77f5dd47997eadb05340 in your email.)',\n",
              " 'error, the server had an error processing your request. sorry about that! you can retry your request, or contact us through our help center at help.openai.com if you keep seeing this error. (please include the request id req_a221d634884e4497697e39ed3f12b753 in your email.)',\n",
              " 'error, you uploaded an unsupported image. please make sure your image is below 20 mb in size and is of one the following formats: [png, jpeg, gif, webp].',\n",
              " 'error, your input image may contain content that is not allowed by our safety system.',\n",
              " 'no illusion',\n",
              " 'puller',\n",
              " 'pullover',\n",
              " 'sandal',\n",
              " 'shirt',\n",
              " 'sneaker',\n",
              " 't-shirt/top',\n",
              " 'trouser'}"
            ]
          },
          "metadata": {},
          "execution_count": 81
        }
      ]
    },
    {
      "cell_type": "code",
      "source": [
        "{item.strip().replace('\\'', '').lower() for item in df_illusionless_filtered[f'gpt-4o'].unique()}"
      ],
      "metadata": {
        "colab": {
          "base_uri": "https://localhost:8080/"
        },
        "outputId": "6565e912-7eb1-417d-cbe2-5feea06a4215",
        "id": "dw8mSCkRirYf"
      },
      "execution_count": null,
      "outputs": [
        {
          "output_type": "execute_result",
          "data": {
            "text/plain": [
              "{'ankle boot',\n",
              " 'bag',\n",
              " 'dress',\n",
              " 'no illusion',\n",
              " 'pullover',\n",
              " 't-shirt/top',\n",
              " 'trouser'}"
            ]
          },
          "metadata": {},
          "execution_count": 82
        }
      ]
    },
    {
      "cell_type": "code",
      "source": [
        "raw_classes[dataset]"
      ],
      "metadata": {
        "colab": {
          "base_uri": "https://localhost:8080/"
        },
        "outputId": "c4790687-ceee-4ead-cce9-387d218b3cf4",
        "id": "xlOs5satirYf"
      },
      "execution_count": null,
      "outputs": [
        {
          "output_type": "execute_result",
          "data": {
            "text/plain": [
              "['T-shirt/top',\n",
              " 'Trouser',\n",
              " 'Pullover',\n",
              " 'Dress',\n",
              " 'Coat',\n",
              " 'Sandal',\n",
              " 'Shirt',\n",
              " 'Sneaker',\n",
              " 'Bag',\n",
              " 'Ankle boot']"
            ]
          },
          "metadata": {},
          "execution_count": 83
        }
      ]
    },
    {
      "cell_type": "markdown",
      "source": [
        "## Raw"
      ],
      "metadata": {
        "id": "Hadvf_cTirYf"
      }
    },
    {
      "cell_type": "code",
      "source": [
        "idx2label = {idx: label.strip().lower() for idx, label in enumerate(classes[dataset])}\n",
        "y_true = df_raw['label'].apply(lambda x: idx2label[x].strip().lower())\n",
        "y_pred = df_raw[f'gpt-4o'].apply(lambda x: x.strip().replace('\\'', '').replace('.', '').lower())"
      ],
      "metadata": {
        "id": "K8G9ZzzOirYf"
      },
      "execution_count": null,
      "outputs": []
    },
    {
      "cell_type": "code",
      "source": [
        "set(list(y_pred))"
      ],
      "metadata": {
        "colab": {
          "base_uri": "https://localhost:8080/"
        },
        "id": "TTrbuKZ9jLLc",
        "outputId": "ad877f36-1719-4c95-c74c-fc1a538b61b1"
      },
      "execution_count": null,
      "outputs": [
        {
          "output_type": "execute_result",
          "data": {
            "text/plain": [
              "{'ankle boot',\n",
              " 'bag',\n",
              " 'coat',\n",
              " 'dress',\n",
              " 'error',\n",
              " 'error, the server had an error processing your request sorry about that! you can retry your request, or contact us through our help center at helpopenaicom if you keep seeing this error (please include the request id req_27c8625ce826d4865451267af46d0aba in your email)',\n",
              " 'error, your input image may contain content that is not allowed by our safety system',\n",
              " 'pullover',\n",
              " 'sandal',\n",
              " 'shirt',\n",
              " 'sneaker',\n",
              " 't-shirt/top',\n",
              " 'trouser'}"
            ]
          },
          "metadata": {},
          "execution_count": 87
        }
      ]
    },
    {
      "cell_type": "code",
      "source": [
        "filtered_df = df_raw[~y_pred.str.contains('error')]\n",
        "filtered_y_true = y_true[~y_pred.str.contains('error')]\n",
        "filtered_y_pred = y_pred[~y_pred.str.contains('error')]"
      ],
      "metadata": {
        "id": "dmNezKjcirYf"
      },
      "execution_count": null,
      "outputs": []
    },
    {
      "cell_type": "code",
      "source": [
        "set(filtered_y_pred)"
      ],
      "metadata": {
        "colab": {
          "base_uri": "https://localhost:8080/"
        },
        "outputId": "55d60d35-79f5-4857-b266-5cc7044f04a2",
        "id": "VuoMuZvsirYf"
      },
      "execution_count": null,
      "outputs": [
        {
          "output_type": "execute_result",
          "data": {
            "text/plain": [
              "{'ankle boot',\n",
              " 'bag',\n",
              " 'coat',\n",
              " 'dress',\n",
              " 'pullover',\n",
              " 'sandal',\n",
              " 'shirt',\n",
              " 'sneaker',\n",
              " 't-shirt/top',\n",
              " 'trouser'}"
            ]
          },
          "metadata": {},
          "execution_count": 89
        }
      ]
    },
    {
      "cell_type": "code",
      "source": [
        "filtered_y_true"
      ],
      "metadata": {
        "colab": {
          "base_uri": "https://localhost:8080/"
        },
        "outputId": "8f9d4920-343f-4f7d-a093-6fce26ac23ac",
        "id": "JvfxL2-eirYg"
      },
      "execution_count": null,
      "outputs": [
        {
          "output_type": "execute_result",
          "data": {
            "text/plain": [
              "0       digit 7\n",
              "5       digit 1\n",
              "14      digit 1\n",
              "34      digit 7\n",
              "37      digit 1\n",
              "         ...   \n",
              "1086    digit 5\n",
              "1087    digit 5\n",
              "1093    digit 0\n",
              "1101    digit 6\n",
              "1107    digit 0\n",
              "Name: label, Length: 247, dtype: object"
            ]
          },
          "metadata": {},
          "execution_count": 41
        }
      ]
    },
    {
      "cell_type": "code",
      "source": [
        "set(list(filtered_y_pred))"
      ],
      "metadata": {
        "colab": {
          "base_uri": "https://localhost:8080/"
        },
        "outputId": "478c8865-4282-4809-c723-a2e177c46ac2",
        "id": "oUWTFVbPirYg"
      },
      "execution_count": null,
      "outputs": [
        {
          "output_type": "execute_result",
          "data": {
            "text/plain": [
              "{'digit 0',\n",
              " 'digit 1',\n",
              " 'digit 2',\n",
              " 'digit 3',\n",
              " 'digit 4',\n",
              " 'digit 5',\n",
              " 'digit 6',\n",
              " 'digit 7',\n",
              " 'digit 8',\n",
              " 'digit 9'}"
            ]
          },
          "metadata": {},
          "execution_count": 42
        }
      ]
    },
    {
      "cell_type": "code",
      "source": [
        "set(list(filtered_y_true))"
      ],
      "metadata": {
        "colab": {
          "base_uri": "https://localhost:8080/"
        },
        "outputId": "24331b59-66af-4880-eece-0eeacb2eeffd",
        "id": "rqdTpl96irYg"
      },
      "execution_count": null,
      "outputs": [
        {
          "output_type": "execute_result",
          "data": {
            "text/plain": [
              "{'digit 0',\n",
              " 'digit 1',\n",
              " 'digit 2',\n",
              " 'digit 3',\n",
              " 'digit 4',\n",
              " 'digit 5',\n",
              " 'digit 6',\n",
              " 'digit 7',\n",
              " 'digit 8',\n",
              " 'digit 9'}"
            ]
          },
          "metadata": {},
          "execution_count": 43
        }
      ]
    },
    {
      "cell_type": "code",
      "source": [
        "coverage = len(filtered_y_pred)/len(y_true)\n",
        "accuracy = accuracy_score(filtered_y_true, filtered_y_pred)\n",
        "precision = precision_score(filtered_y_true, filtered_y_pred, average='macro')\n",
        "recall = recall_score(filtered_y_true, filtered_y_pred, average='macro')\n",
        "f1 = f1_score(filtered_y_true, filtered_y_pred, average='macro')\n",
        "\n",
        "print(\"Coverage:\", coverage)\n",
        "print(\"Accuracy:\", accuracy)\n",
        "print(\"Precision:\", precision)\n",
        "print(\"Recall:\", recall)\n",
        "print(\"F1 score:\", f1)"
      ],
      "metadata": {
        "colab": {
          "base_uri": "https://localhost:8080/"
        },
        "outputId": "f4635781-35a6-4413-a556-dff93054d462",
        "id": "QQiVkArmirYg"
      },
      "execution_count": null,
      "outputs": [
        {
          "output_type": "stream",
          "name": "stdout",
          "text": [
            "Coverage: 0.7074652777777778\n",
            "Accuracy: 0.6711656441717792\n",
            "Precision: 0.7105354859806012\n",
            "Recall: 0.6788639531473122\n",
            "F1 score: 0.659301091821997\n"
          ]
        }
      ]
    },
    {
      "cell_type": "code",
      "source": [
        "print(\"Coverage:\", round(coverage*100,2))\n",
        "print(\"Accuracy:\", round(accuracy*100,2))\n",
        "print(\"Precision:\", round(precision*100,2))\n",
        "print(\"Recall:\", round(recall*100,2))\n",
        "print(\"F1 score:\", round(f1*100,2))"
      ],
      "metadata": {
        "colab": {
          "base_uri": "https://localhost:8080/"
        },
        "outputId": "bf5ee24b-7537-4fb7-ed9b-167cbc564264",
        "id": "EJTTmHENirYg"
      },
      "execution_count": null,
      "outputs": [
        {
          "output_type": "stream",
          "name": "stdout",
          "text": [
            "Coverage: 70.75\n",
            "Accuracy: 67.12\n",
            "Precision: 71.05\n",
            "Recall: 67.89\n",
            "F1 score: 65.93\n"
          ]
        }
      ]
    },
    {
      "cell_type": "markdown",
      "source": [
        "## Illusion"
      ],
      "metadata": {
        "id": "eqCk6AsLirYg"
      }
    },
    {
      "cell_type": "code",
      "source": [
        "classes = {\n",
        "    'FashionMnist': ['T-shirt/top', 'Trouser', 'Pullover', 'Dress', 'Coat', 'Sandal', 'Shirt', 'Sneaker', 'Bag', 'Ankle boot', 'no illusion'],\n",
        "    'Mnist': ['digit 0', 'digit 1', 'digit 2', 'digit 3', 'digit 4', 'digit 5', 'digit 6', 'digit 7', 'digit 8', 'digit 9', 'no illusion'],\n",
        "    'IllusionAnimals': ['cat', 'dog', 'pigeon', 'butterfly', 'elephant', 'horse', 'deer', 'snake', 'fish', 'rooster' , 'no illusion'],\n",
        "}\n",
        "idx2label = {idx: label.strip().lower() for idx, label in enumerate(classes[dataset])}\n",
        "y_true = list(df_illusion['label'].apply(lambda x: idx2label[x].strip().lower())) + list(df_illusionless['label'].apply(lambda x: 'no illusion'))\n",
        "\n",
        "y_pred = list(df_illusion[f'gpt-4o'].apply(lambda x: x.strip().replace('\\'', '').replace('‘','').replace('’','').lower())) + list(df_illusionless[f'gpt-4o'].apply(lambda x: x.strip().replace('\\'', '').lower()))"
      ],
      "metadata": {
        "id": "-FZncAK6irYg"
      },
      "execution_count": null,
      "outputs": []
    },
    {
      "cell_type": "code",
      "source": [
        "y_true_illusion = list(df_illusion['label'].apply(lambda x: idx2label[x].strip().lower()))\n",
        "y_true_illusionless = list(df_illusionless['label'].apply(lambda x: 'no illusion'))\n",
        "y_pred_illusion = list(df_illusion[f'gpt-4o'].apply(lambda x: x.strip().replace('\\'', '').replace('‘','').replace('’','').replace('.','').lower()))\n",
        "y_pred_illusionless = list(df_illusionless[f'gpt-4o'].apply(lambda x: x.strip().replace('\\'', '').lower()))"
      ],
      "metadata": {
        "id": "NV32uVpJirYh"
      },
      "execution_count": null,
      "outputs": []
    },
    {
      "cell_type": "code",
      "source": [
        "set(y_pred_illusion)"
      ],
      "metadata": {
        "colab": {
          "base_uri": "https://localhost:8080/"
        },
        "outputId": "f5228df9-8afa-4014-daa2-5f3e954f1994",
        "id": "BOvgtWtUirYh"
      },
      "execution_count": null,
      "outputs": [
        {
          "output_type": "execute_result",
          "data": {
            "text/plain": [
              "{'ankle boot',\n",
              " 'bag',\n",
              " 'coat',\n",
              " 'dress',\n",
              " 'error, you uploaded an unsupported image please make sure your image is below 20 mb in size and is of one the following formats: [png, jpeg, gif, webp]',\n",
              " 'no illusion',\n",
              " 'pullover',\n",
              " 'sandal',\n",
              " 'shirt',\n",
              " 'sneaker',\n",
              " 't-shirt/top',\n",
              " 'trouser'}"
            ]
          },
          "metadata": {},
          "execution_count": 100
        }
      ]
    },
    {
      "cell_type": "code",
      "source": [
        "filtered_indices_illusion = [i for i, pred in enumerate(y_pred_illusion) if 'error' in pred]\n",
        "y_pred_illusion_filtered = [pred for i, pred in enumerate(y_pred_illusion) if i not in filtered_indices_illusion]\n",
        "y_true_illusion_filtered = [true for i, true in enumerate(y_true_illusion) if i not in filtered_indices_illusion]\n",
        "\n",
        "filtered_indices_illusionless = [i for i, pred in enumerate(y_pred_illusionless) if 'error' in pred]\n",
        "y_pred_illusionless_filtered = [pred for i, pred in enumerate(y_pred_illusionless) if i not in filtered_indices_illusionless]\n",
        "y_true_illusionless_filtered = [true for i, true in enumerate(y_true_illusionless) if i not in filtered_indices_illusionless]"
      ],
      "metadata": {
        "id": "HrRStKriirYh"
      },
      "execution_count": null,
      "outputs": []
    },
    {
      "cell_type": "code",
      "source": [
        "whole_y_true = y_true_illusion_filtered + y_true_illusionless_filtered\n",
        "whole_y_pred = y_pred_illusion_filtered + y_pred_illusionless_filtered"
      ],
      "metadata": {
        "id": "O-mgwuX3irYh"
      },
      "execution_count": null,
      "outputs": []
    },
    {
      "cell_type": "code",
      "source": [
        "coverage = len(whole_y_true)/(len(y_true_illusion)+len(y_true_illusionless))\n",
        "accuracy = accuracy_score(whole_y_true, whole_y_pred)\n",
        "precision = precision_score(whole_y_true, whole_y_pred, average='macro')\n",
        "recall = recall_score(whole_y_true, whole_y_pred, average='macro')\n",
        "f1 = f1_score(whole_y_true, whole_y_pred, average='macro')\n",
        "\n",
        "print(\"Coverage:\", coverage)\n",
        "print(\"Accuracy:\", accuracy)\n",
        "print(\"Precision:\", precision)\n",
        "print(\"Recall:\", recall)\n",
        "print(\"F1 score:\", f1)"
      ],
      "metadata": {
        "colab": {
          "base_uri": "https://localhost:8080/"
        },
        "outputId": "b806bb2b-a7c8-4b52-ec52-3a2549e3c30b",
        "id": "3ZVYNBHPirYh"
      },
      "execution_count": null,
      "outputs": [
        {
          "output_type": "stream",
          "name": "stdout",
          "text": [
            "Coverage: 0.9992107340173638\n",
            "Accuracy: 0.16666666666666666\n",
            "Precision: 0.27762110515297295\n",
            "Recall: 0.16609674370633892\n",
            "F1 score: 0.12718988129724898\n"
          ]
        }
      ]
    },
    {
      "cell_type": "code",
      "source": [
        "print(\"Coverage:\", round(coverage*100,2))\n",
        "print(\"Accuracy:\", round(accuracy*100,2))\n",
        "print(\"Precision:\", round(precision*100,2))\n",
        "print(\"Recall:\", round(recall*100,2))\n",
        "print(\"F1 score:\", round(f1*100,2))"
      ],
      "metadata": {
        "colab": {
          "base_uri": "https://localhost:8080/"
        },
        "outputId": "bc0dda27-4fff-4291-cea2-35a6fe3dedfd",
        "id": "Gt9PBLMRirYh"
      },
      "execution_count": null,
      "outputs": [
        {
          "output_type": "stream",
          "name": "stdout",
          "text": [
            "Coverage: 99.92\n",
            "Accuracy: 16.67\n",
            "Precision: 27.76\n",
            "Recall: 16.61\n",
            "F1 score: 12.72\n"
          ]
        }
      ]
    },
    {
      "cell_type": "markdown",
      "source": [
        "## Illusion Filtered"
      ],
      "metadata": {
        "id": "SnDsdcOuirYh"
      }
    },
    {
      "cell_type": "code",
      "source": [
        "classes = {\n",
        "    'FashionMnist': ['T-shirt/top', 'Trouser', 'Pullover', 'Dress', 'Coat', 'Sandal', 'Shirt', 'Sneaker', 'Bag', 'Ankle boot', 'no illusion'],\n",
        "    'Mnist': ['digit 0', 'digit 1', 'digit 2', 'digit 3', 'digit 4', 'digit 5', 'digit 6', 'digit 7', 'digit 8', 'digit 9', 'no illusion'],\n",
        "    'IllusionAnimals': ['cat', 'dog', 'pigeon', 'butterfly', 'elephant', 'horse', 'deer', 'snake', 'fish', 'rooster' , 'no illusion'],\n",
        "}\n",
        "idx2label = {idx: label.strip().lower() for idx, label in enumerate(classes[dataset])}\n",
        "# y_true = list(df_illusion_filtered['label'].apply(lambda x: idx2label[x].strip().lower())) + list(df_illusionless_filtered.filter(items=illusionless_indexes, axis=0)['label'].apply(lambda x: 'no illusion'))\n",
        "\n",
        "\n",
        "# y_pred = list(df[f'illusion_images_filtered'].apply(lambda x: x.strip().replace('\\'', '').lower())) + list(df.filter(items=illusionless_indexes, axis=0)[f'illusionless_images_filtered'].apply(lambda x: x.strip().replace('\\'', '').lower()))"
      ],
      "metadata": {
        "id": "I20tbEqeirYi"
      },
      "execution_count": null,
      "outputs": []
    },
    {
      "cell_type": "code",
      "source": [
        "y_true_illusion_f = list(df_illusion_filtered['label'].apply(lambda x: idx2label[x].strip().lower()))\n",
        "y_true_illusionless_f = list(df_illusionless_filtered['label'].apply(lambda x: 'no illusion'))\n",
        "y_pred_illusion_f = list(df_illusion_filtered[f'gpt-4o'].apply(lambda x: x.strip().replace('\\'', '').replace('‘','').replace('’','').lower()))\n",
        "y_pred_illusionless_f = list(df_illusionless_filtered[f'gpt-4o'].apply(lambda x: x.strip().replace('\\'', '').lower()))"
      ],
      "metadata": {
        "id": "wbKMpHugirYi"
      },
      "execution_count": null,
      "outputs": []
    },
    {
      "cell_type": "code",
      "source": [
        "set(y_pred_illusionless_f)"
      ],
      "metadata": {
        "colab": {
          "base_uri": "https://localhost:8080/"
        },
        "id": "GK3T9zxKj9Af",
        "outputId": "21a92ea8-9339-4982-d548-2ce432b8993c"
      },
      "execution_count": null,
      "outputs": [
        {
          "output_type": "execute_result",
          "data": {
            "text/plain": [
              "{'ankle boot',\n",
              " 'bag',\n",
              " 'dress',\n",
              " 'no illusion',\n",
              " 'pullover',\n",
              " 't-shirt/top',\n",
              " 'trouser'}"
            ]
          },
          "metadata": {},
          "execution_count": 108
        }
      ]
    },
    {
      "cell_type": "code",
      "source": [
        "filtered_indices_illusion_filtered = [i for i, pred in enumerate(y_pred_illusion_f) if 'error' in pred]\n",
        "y_pred_illusion_f_filtered = [pred for i, pred in enumerate(y_pred_illusion_f) if i not in filtered_indices_illusion_filtered]\n",
        "y_true_illusion_f_filtered = [true for i, true in enumerate(y_true_illusion_f) if i not in filtered_indices_illusion_filtered]\n",
        "\n",
        "filtered_indices_illusionless_filtered = [i for i, pred in enumerate(y_pred_illusionless_f) if 'error' in pred]\n",
        "y_pred_illusionless_f_filtered = [pred for i, pred in enumerate(y_pred_illusionless_f) if i not in filtered_indices_illusionless_filtered]\n",
        "y_true_illusionless_f_filtered = [true for i, true in enumerate(y_true_illusionless_f) if i not in filtered_indices_illusionless_filtered]"
      ],
      "metadata": {
        "id": "mpDT72HTirYi"
      },
      "execution_count": null,
      "outputs": []
    },
    {
      "cell_type": "code",
      "source": [
        "whole_y_true = y_true_illusion_f_filtered + y_true_illusionless_f_filtered\n",
        "whole_y_pred = y_pred_illusion_f_filtered + y_pred_illusionless_f_filtered"
      ],
      "metadata": {
        "id": "1iKR4lJMirYi"
      },
      "execution_count": null,
      "outputs": []
    },
    {
      "cell_type": "code",
      "source": [
        "coverage = len(whole_y_true)/(len(y_true_illusion_f)+len(y_true_illusionless_f))\n",
        "accuracy = accuracy_score(whole_y_true, whole_y_pred)\n",
        "precision = precision_score(whole_y_true, whole_y_pred, average='macro')\n",
        "recall = recall_score(whole_y_true, whole_y_pred, average='macro')\n",
        "f1 = f1_score(whole_y_true, whole_y_pred, average='macro')\n",
        "\n",
        "print(\"Coverage:\", coverage)\n",
        "print(\"Accuracy:\", accuracy)\n",
        "print(\"Precision:\", precision)\n",
        "print(\"Recall:\", recall)\n",
        "print(\"F1 score:\", f1)"
      ],
      "metadata": {
        "colab": {
          "base_uri": "https://localhost:8080/"
        },
        "outputId": "eee459d3-a39b-4622-abeb-81add9f7996d",
        "id": "XpmGGkiLirYi"
      },
      "execution_count": null,
      "outputs": [
        {
          "output_type": "stream",
          "name": "stdout",
          "text": [
            "Coverage: 0.994475138121547\n",
            "Accuracy: 0.4873015873015873\n",
            "Precision: 0.48761683776395076\n",
            "Recall: 0.4472995225288339\n",
            "F1 score: 0.41583784066681445\n"
          ]
        },
        {
          "output_type": "stream",
          "name": "stderr",
          "text": [
            "/usr/local/lib/python3.10/dist-packages/sklearn/metrics/_classification.py:1344: UndefinedMetricWarning: Recall is ill-defined and being set to 0.0 in labels with no true samples. Use `zero_division` parameter to control this behavior.\n",
            "  _warn_prf(average, modifier, msg_start, len(result))\n"
          ]
        }
      ]
    },
    {
      "cell_type": "code",
      "source": [
        "print(\"Coverage:\", round(coverage*100,2))\n",
        "print(\"Accuracy:\", round(accuracy*100,2))\n",
        "print(\"Precision:\", round(precision*100,2))\n",
        "print(\"Recall:\", round(recall*100,2))\n",
        "print(\"F1 score:\", round(f1*100,2))"
      ],
      "metadata": {
        "colab": {
          "base_uri": "https://localhost:8080/"
        },
        "outputId": "fc9b0542-74b6-4383-c088-9331fb909d0d",
        "id": "gDPQUDwTirYi"
      },
      "execution_count": null,
      "outputs": [
        {
          "output_type": "stream",
          "name": "stdout",
          "text": [
            "Coverage: 99.45\n",
            "Accuracy: 48.73\n",
            "Precision: 48.76\n",
            "Recall: 44.73\n",
            "F1 score: 41.58\n"
          ]
        }
      ]
    },
    {
      "cell_type": "code",
      "source": [],
      "metadata": {
        "id": "xfBpRqHqirYj"
      },
      "execution_count": null,
      "outputs": []
    },
    {
      "cell_type": "code",
      "source": [],
      "metadata": {
        "id": "Dw6q-GH2kLxH"
      },
      "execution_count": null,
      "outputs": []
    },
    {
      "cell_type": "markdown",
      "source": [
        "# IllusionAnimals"
      ],
      "metadata": {
        "id": "2eDCB2qZkMa3"
      }
    },
    {
      "cell_type": "code",
      "execution_count": null,
      "metadata": {
        "id": "50b7qYuCkMa3"
      },
      "outputs": [],
      "source": [
        "from sklearn.metrics import accuracy_score, precision_score, recall_score, f1_score\n",
        "import pandas as pd\n",
        "dataset = 'IllusionAnimals'\n",
        "# dataset = 'IllusionAnimals'\n",
        "\n",
        "df_raw = pd.read_csv(f'/content/drive/MyDrive/GPT-4_results/GPT-4_{dataset}_raw.csv')\n",
        "df_illusion = pd.read_csv(f'/content/drive/MyDrive/GPT-4_results/GPT-4_{dataset}_illusion.csv')\n",
        "df_illusionless = pd.read_csv(f'/content/drive/MyDrive/GPT-4_results/GPT-4_{dataset}_illusionless.csv')\n",
        "df_illusion_filtered = pd.read_csv(f'/content/drive/MyDrive/GPT-4_results/GPT-4_{dataset}_illusion_filtered.csv')\n",
        "df_illusionless_filtered = pd.read_csv(f'/content/drive/MyDrive/GPT-4_results/GPT-4_{dataset}_illusionless_filtered.csv')\n"
      ]
    },
    {
      "cell_type": "code",
      "source": [
        "df_raw"
      ],
      "metadata": {
        "colab": {
          "base_uri": "https://localhost:8080/",
          "height": 424
        },
        "outputId": "39e3e7e2-3e35-4b03-a697-2f83cb9b0a3e",
        "id": "404oQBMJkMa3"
      },
      "execution_count": null,
      "outputs": [
        {
          "output_type": "execute_result",
          "data": {
            "text/plain": [
              "     Unnamed: 0            image_name  \\\n",
              "0             0     IllusionAnimals_1   \n",
              "1             1     IllusionAnimals_2   \n",
              "2             2     IllusionAnimals_3   \n",
              "3             3     IllusionAnimals_4   \n",
              "4             4     IllusionAnimals_5   \n",
              "..          ...                   ...   \n",
              "995         995   IllusionAnimals_996   \n",
              "996         996   IllusionAnimals_997   \n",
              "997         997   IllusionAnimals_998   \n",
              "998         998   IllusionAnimals_999   \n",
              "999         999  IllusionAnimals_1000   \n",
              "\n",
              "                                               Pprompt      Nprompt  \\\n",
              "0    A raging river flowing through a dense jungle ...  low quality   \n",
              "1              A starry night sky over a tranquil lake  low quality   \n",
              "2    Jaguar (Panthera Onca) patrolling South Americ...  low quality   \n",
              "3    Flowing lava illuminates cavern walls, ancient...  low quality   \n",
              "4    Dense forest canopy, sunlight filters through,...  low quality   \n",
              "..                                                 ...          ...   \n",
              "995    Saharan sandstorm turning daytime into darkness  low quality   \n",
              "996            Urban city with skyscrapers and traffic  low quality   \n",
              "997   A serene meadow with wildflowers and butterflies  low quality   \n",
              "998                    Elk bugling in crisp autumn air  low quality   \n",
              "999  Misty waterfall cascading, mossy rocks glow, s...  low quality   \n",
              "\n",
              "     illusion_strength    label    gpt-4o  \n",
              "0                  2.5      cat       cat  \n",
              "1                  2.5      cat       Cat  \n",
              "2                  2.5      cat       Cat  \n",
              "3                  2.5      cat       cat  \n",
              "4                  2.5      cat       cat  \n",
              "..                 ...      ...       ...  \n",
              "995                2.5  rooster   Rooster  \n",
              "996                2.5  rooster   Rooster  \n",
              "997                2.5  rooster   rooster  \n",
              "998                2.5  rooster   Rooster  \n",
              "999                2.5  rooster  Rooster.  \n",
              "\n",
              "[1000 rows x 7 columns]"
            ],
            "text/html": [
              "\n",
              "  <div id=\"df-4299314f-c67a-4abe-a521-e7c59f1ef3a2\" class=\"colab-df-container\">\n",
              "    <div>\n",
              "<style scoped>\n",
              "    .dataframe tbody tr th:only-of-type {\n",
              "        vertical-align: middle;\n",
              "    }\n",
              "\n",
              "    .dataframe tbody tr th {\n",
              "        vertical-align: top;\n",
              "    }\n",
              "\n",
              "    .dataframe thead th {\n",
              "        text-align: right;\n",
              "    }\n",
              "</style>\n",
              "<table border=\"1\" class=\"dataframe\">\n",
              "  <thead>\n",
              "    <tr style=\"text-align: right;\">\n",
              "      <th></th>\n",
              "      <th>Unnamed: 0</th>\n",
              "      <th>image_name</th>\n",
              "      <th>Pprompt</th>\n",
              "      <th>Nprompt</th>\n",
              "      <th>illusion_strength</th>\n",
              "      <th>label</th>\n",
              "      <th>gpt-4o</th>\n",
              "    </tr>\n",
              "  </thead>\n",
              "  <tbody>\n",
              "    <tr>\n",
              "      <th>0</th>\n",
              "      <td>0</td>\n",
              "      <td>IllusionAnimals_1</td>\n",
              "      <td>A raging river flowing through a dense jungle ...</td>\n",
              "      <td>low quality</td>\n",
              "      <td>2.5</td>\n",
              "      <td>cat</td>\n",
              "      <td>cat</td>\n",
              "    </tr>\n",
              "    <tr>\n",
              "      <th>1</th>\n",
              "      <td>1</td>\n",
              "      <td>IllusionAnimals_2</td>\n",
              "      <td>A starry night sky over a tranquil lake</td>\n",
              "      <td>low quality</td>\n",
              "      <td>2.5</td>\n",
              "      <td>cat</td>\n",
              "      <td>Cat</td>\n",
              "    </tr>\n",
              "    <tr>\n",
              "      <th>2</th>\n",
              "      <td>2</td>\n",
              "      <td>IllusionAnimals_3</td>\n",
              "      <td>Jaguar (Panthera Onca) patrolling South Americ...</td>\n",
              "      <td>low quality</td>\n",
              "      <td>2.5</td>\n",
              "      <td>cat</td>\n",
              "      <td>Cat</td>\n",
              "    </tr>\n",
              "    <tr>\n",
              "      <th>3</th>\n",
              "      <td>3</td>\n",
              "      <td>IllusionAnimals_4</td>\n",
              "      <td>Flowing lava illuminates cavern walls, ancient...</td>\n",
              "      <td>low quality</td>\n",
              "      <td>2.5</td>\n",
              "      <td>cat</td>\n",
              "      <td>cat</td>\n",
              "    </tr>\n",
              "    <tr>\n",
              "      <th>4</th>\n",
              "      <td>4</td>\n",
              "      <td>IllusionAnimals_5</td>\n",
              "      <td>Dense forest canopy, sunlight filters through,...</td>\n",
              "      <td>low quality</td>\n",
              "      <td>2.5</td>\n",
              "      <td>cat</td>\n",
              "      <td>cat</td>\n",
              "    </tr>\n",
              "    <tr>\n",
              "      <th>...</th>\n",
              "      <td>...</td>\n",
              "      <td>...</td>\n",
              "      <td>...</td>\n",
              "      <td>...</td>\n",
              "      <td>...</td>\n",
              "      <td>...</td>\n",
              "      <td>...</td>\n",
              "    </tr>\n",
              "    <tr>\n",
              "      <th>995</th>\n",
              "      <td>995</td>\n",
              "      <td>IllusionAnimals_996</td>\n",
              "      <td>Saharan sandstorm turning daytime into darkness</td>\n",
              "      <td>low quality</td>\n",
              "      <td>2.5</td>\n",
              "      <td>rooster</td>\n",
              "      <td>Rooster</td>\n",
              "    </tr>\n",
              "    <tr>\n",
              "      <th>996</th>\n",
              "      <td>996</td>\n",
              "      <td>IllusionAnimals_997</td>\n",
              "      <td>Urban city with skyscrapers and traffic</td>\n",
              "      <td>low quality</td>\n",
              "      <td>2.5</td>\n",
              "      <td>rooster</td>\n",
              "      <td>Rooster</td>\n",
              "    </tr>\n",
              "    <tr>\n",
              "      <th>997</th>\n",
              "      <td>997</td>\n",
              "      <td>IllusionAnimals_998</td>\n",
              "      <td>A serene meadow with wildflowers and butterflies</td>\n",
              "      <td>low quality</td>\n",
              "      <td>2.5</td>\n",
              "      <td>rooster</td>\n",
              "      <td>rooster</td>\n",
              "    </tr>\n",
              "    <tr>\n",
              "      <th>998</th>\n",
              "      <td>998</td>\n",
              "      <td>IllusionAnimals_999</td>\n",
              "      <td>Elk bugling in crisp autumn air</td>\n",
              "      <td>low quality</td>\n",
              "      <td>2.5</td>\n",
              "      <td>rooster</td>\n",
              "      <td>Rooster</td>\n",
              "    </tr>\n",
              "    <tr>\n",
              "      <th>999</th>\n",
              "      <td>999</td>\n",
              "      <td>IllusionAnimals_1000</td>\n",
              "      <td>Misty waterfall cascading, mossy rocks glow, s...</td>\n",
              "      <td>low quality</td>\n",
              "      <td>2.5</td>\n",
              "      <td>rooster</td>\n",
              "      <td>Rooster.</td>\n",
              "    </tr>\n",
              "  </tbody>\n",
              "</table>\n",
              "<p>1000 rows × 7 columns</p>\n",
              "</div>\n",
              "    <div class=\"colab-df-buttons\">\n",
              "\n",
              "  <div class=\"colab-df-container\">\n",
              "    <button class=\"colab-df-convert\" onclick=\"convertToInteractive('df-4299314f-c67a-4abe-a521-e7c59f1ef3a2')\"\n",
              "            title=\"Convert this dataframe to an interactive table.\"\n",
              "            style=\"display:none;\">\n",
              "\n",
              "  <svg xmlns=\"http://www.w3.org/2000/svg\" height=\"24px\" viewBox=\"0 -960 960 960\">\n",
              "    <path d=\"M120-120v-720h720v720H120Zm60-500h600v-160H180v160Zm220 220h160v-160H400v160Zm0 220h160v-160H400v160ZM180-400h160v-160H180v160Zm440 0h160v-160H620v160ZM180-180h160v-160H180v160Zm440 0h160v-160H620v160Z\"/>\n",
              "  </svg>\n",
              "    </button>\n",
              "\n",
              "  <style>\n",
              "    .colab-df-container {\n",
              "      display:flex;\n",
              "      gap: 12px;\n",
              "    }\n",
              "\n",
              "    .colab-df-convert {\n",
              "      background-color: #E8F0FE;\n",
              "      border: none;\n",
              "      border-radius: 50%;\n",
              "      cursor: pointer;\n",
              "      display: none;\n",
              "      fill: #1967D2;\n",
              "      height: 32px;\n",
              "      padding: 0 0 0 0;\n",
              "      width: 32px;\n",
              "    }\n",
              "\n",
              "    .colab-df-convert:hover {\n",
              "      background-color: #E2EBFA;\n",
              "      box-shadow: 0px 1px 2px rgba(60, 64, 67, 0.3), 0px 1px 3px 1px rgba(60, 64, 67, 0.15);\n",
              "      fill: #174EA6;\n",
              "    }\n",
              "\n",
              "    .colab-df-buttons div {\n",
              "      margin-bottom: 4px;\n",
              "    }\n",
              "\n",
              "    [theme=dark] .colab-df-convert {\n",
              "      background-color: #3B4455;\n",
              "      fill: #D2E3FC;\n",
              "    }\n",
              "\n",
              "    [theme=dark] .colab-df-convert:hover {\n",
              "      background-color: #434B5C;\n",
              "      box-shadow: 0px 1px 3px 1px rgba(0, 0, 0, 0.15);\n",
              "      filter: drop-shadow(0px 1px 2px rgba(0, 0, 0, 0.3));\n",
              "      fill: #FFFFFF;\n",
              "    }\n",
              "  </style>\n",
              "\n",
              "    <script>\n",
              "      const buttonEl =\n",
              "        document.querySelector('#df-4299314f-c67a-4abe-a521-e7c59f1ef3a2 button.colab-df-convert');\n",
              "      buttonEl.style.display =\n",
              "        google.colab.kernel.accessAllowed ? 'block' : 'none';\n",
              "\n",
              "      async function convertToInteractive(key) {\n",
              "        const element = document.querySelector('#df-4299314f-c67a-4abe-a521-e7c59f1ef3a2');\n",
              "        const dataTable =\n",
              "          await google.colab.kernel.invokeFunction('convertToInteractive',\n",
              "                                                    [key], {});\n",
              "        if (!dataTable) return;\n",
              "\n",
              "        const docLinkHtml = 'Like what you see? Visit the ' +\n",
              "          '<a target=\"_blank\" href=https://colab.research.google.com/notebooks/data_table.ipynb>data table notebook</a>'\n",
              "          + ' to learn more about interactive tables.';\n",
              "        element.innerHTML = '';\n",
              "        dataTable['output_type'] = 'display_data';\n",
              "        await google.colab.output.renderOutput(dataTable, element);\n",
              "        const docLink = document.createElement('div');\n",
              "        docLink.innerHTML = docLinkHtml;\n",
              "        element.appendChild(docLink);\n",
              "      }\n",
              "    </script>\n",
              "  </div>\n",
              "\n",
              "\n",
              "<div id=\"df-876282a4-a9d1-4c13-a11f-35d6ac1a7ced\">\n",
              "  <button class=\"colab-df-quickchart\" onclick=\"quickchart('df-876282a4-a9d1-4c13-a11f-35d6ac1a7ced')\"\n",
              "            title=\"Suggest charts\"\n",
              "            style=\"display:none;\">\n",
              "\n",
              "<svg xmlns=\"http://www.w3.org/2000/svg\" height=\"24px\"viewBox=\"0 0 24 24\"\n",
              "     width=\"24px\">\n",
              "    <g>\n",
              "        <path d=\"M19 3H5c-1.1 0-2 .9-2 2v14c0 1.1.9 2 2 2h14c1.1 0 2-.9 2-2V5c0-1.1-.9-2-2-2zM9 17H7v-7h2v7zm4 0h-2V7h2v10zm4 0h-2v-4h2v4z\"/>\n",
              "    </g>\n",
              "</svg>\n",
              "  </button>\n",
              "\n",
              "<style>\n",
              "  .colab-df-quickchart {\n",
              "      --bg-color: #E8F0FE;\n",
              "      --fill-color: #1967D2;\n",
              "      --hover-bg-color: #E2EBFA;\n",
              "      --hover-fill-color: #174EA6;\n",
              "      --disabled-fill-color: #AAA;\n",
              "      --disabled-bg-color: #DDD;\n",
              "  }\n",
              "\n",
              "  [theme=dark] .colab-df-quickchart {\n",
              "      --bg-color: #3B4455;\n",
              "      --fill-color: #D2E3FC;\n",
              "      --hover-bg-color: #434B5C;\n",
              "      --hover-fill-color: #FFFFFF;\n",
              "      --disabled-bg-color: #3B4455;\n",
              "      --disabled-fill-color: #666;\n",
              "  }\n",
              "\n",
              "  .colab-df-quickchart {\n",
              "    background-color: var(--bg-color);\n",
              "    border: none;\n",
              "    border-radius: 50%;\n",
              "    cursor: pointer;\n",
              "    display: none;\n",
              "    fill: var(--fill-color);\n",
              "    height: 32px;\n",
              "    padding: 0;\n",
              "    width: 32px;\n",
              "  }\n",
              "\n",
              "  .colab-df-quickchart:hover {\n",
              "    background-color: var(--hover-bg-color);\n",
              "    box-shadow: 0 1px 2px rgba(60, 64, 67, 0.3), 0 1px 3px 1px rgba(60, 64, 67, 0.15);\n",
              "    fill: var(--button-hover-fill-color);\n",
              "  }\n",
              "\n",
              "  .colab-df-quickchart-complete:disabled,\n",
              "  .colab-df-quickchart-complete:disabled:hover {\n",
              "    background-color: var(--disabled-bg-color);\n",
              "    fill: var(--disabled-fill-color);\n",
              "    box-shadow: none;\n",
              "  }\n",
              "\n",
              "  .colab-df-spinner {\n",
              "    border: 2px solid var(--fill-color);\n",
              "    border-color: transparent;\n",
              "    border-bottom-color: var(--fill-color);\n",
              "    animation:\n",
              "      spin 1s steps(1) infinite;\n",
              "  }\n",
              "\n",
              "  @keyframes spin {\n",
              "    0% {\n",
              "      border-color: transparent;\n",
              "      border-bottom-color: var(--fill-color);\n",
              "      border-left-color: var(--fill-color);\n",
              "    }\n",
              "    20% {\n",
              "      border-color: transparent;\n",
              "      border-left-color: var(--fill-color);\n",
              "      border-top-color: var(--fill-color);\n",
              "    }\n",
              "    30% {\n",
              "      border-color: transparent;\n",
              "      border-left-color: var(--fill-color);\n",
              "      border-top-color: var(--fill-color);\n",
              "      border-right-color: var(--fill-color);\n",
              "    }\n",
              "    40% {\n",
              "      border-color: transparent;\n",
              "      border-right-color: var(--fill-color);\n",
              "      border-top-color: var(--fill-color);\n",
              "    }\n",
              "    60% {\n",
              "      border-color: transparent;\n",
              "      border-right-color: var(--fill-color);\n",
              "    }\n",
              "    80% {\n",
              "      border-color: transparent;\n",
              "      border-right-color: var(--fill-color);\n",
              "      border-bottom-color: var(--fill-color);\n",
              "    }\n",
              "    90% {\n",
              "      border-color: transparent;\n",
              "      border-bottom-color: var(--fill-color);\n",
              "    }\n",
              "  }\n",
              "</style>\n",
              "\n",
              "  <script>\n",
              "    async function quickchart(key) {\n",
              "      const quickchartButtonEl =\n",
              "        document.querySelector('#' + key + ' button');\n",
              "      quickchartButtonEl.disabled = true;  // To prevent multiple clicks.\n",
              "      quickchartButtonEl.classList.add('colab-df-spinner');\n",
              "      try {\n",
              "        const charts = await google.colab.kernel.invokeFunction(\n",
              "            'suggestCharts', [key], {});\n",
              "      } catch (error) {\n",
              "        console.error('Error during call to suggestCharts:', error);\n",
              "      }\n",
              "      quickchartButtonEl.classList.remove('colab-df-spinner');\n",
              "      quickchartButtonEl.classList.add('colab-df-quickchart-complete');\n",
              "    }\n",
              "    (() => {\n",
              "      let quickchartButtonEl =\n",
              "        document.querySelector('#df-876282a4-a9d1-4c13-a11f-35d6ac1a7ced button');\n",
              "      quickchartButtonEl.style.display =\n",
              "        google.colab.kernel.accessAllowed ? 'block' : 'none';\n",
              "    })();\n",
              "  </script>\n",
              "</div>\n",
              "    </div>\n",
              "  </div>\n"
            ],
            "application/vnd.google.colaboratory.intrinsic+json": {
              "type": "dataframe",
              "variable_name": "df_raw",
              "summary": "{\n  \"name\": \"df_raw\",\n  \"rows\": 1000,\n  \"fields\": [\n    {\n      \"column\": \"Unnamed: 0\",\n      \"properties\": {\n        \"dtype\": \"number\",\n        \"std\": 288,\n        \"min\": 0,\n        \"max\": 999,\n        \"num_unique_values\": 1000,\n        \"samples\": [\n          521,\n          737,\n          740\n        ],\n        \"semantic_type\": \"\",\n        \"description\": \"\"\n      }\n    },\n    {\n      \"column\": \"image_name\",\n      \"properties\": {\n        \"dtype\": \"string\",\n        \"num_unique_values\": 1000,\n        \"samples\": [\n          \"IllusionAnimals_522\",\n          \"IllusionAnimals_738\",\n          \"IllusionAnimals_741\"\n        ],\n        \"semantic_type\": \"\",\n        \"description\": \"\"\n      }\n    },\n    {\n      \"column\": \"Pprompt\",\n      \"properties\": {\n        \"dtype\": \"string\",\n        \"num_unique_values\": 635,\n        \"samples\": [\n          \"A busy airport with planes taking off and landing\",\n          \"A serene lake with lush forest and mountains\",\n          \"Jellyfish undulating rhythmically\"\n        ],\n        \"semantic_type\": \"\",\n        \"description\": \"\"\n      }\n    },\n    {\n      \"column\": \"Nprompt\",\n      \"properties\": {\n        \"dtype\": \"category\",\n        \"num_unique_values\": 1,\n        \"samples\": [\n          \"low quality\"\n        ],\n        \"semantic_type\": \"\",\n        \"description\": \"\"\n      }\n    },\n    {\n      \"column\": \"illusion_strength\",\n      \"properties\": {\n        \"dtype\": \"number\",\n        \"std\": 0.0,\n        \"min\": 2.5,\n        \"max\": 2.5,\n        \"num_unique_values\": 1,\n        \"samples\": [\n          2.5\n        ],\n        \"semantic_type\": \"\",\n        \"description\": \"\"\n      }\n    },\n    {\n      \"column\": \"label\",\n      \"properties\": {\n        \"dtype\": \"category\",\n        \"num_unique_values\": 10,\n        \"samples\": [\n          \"fish\"\n        ],\n        \"semantic_type\": \"\",\n        \"description\": \"\"\n      }\n    },\n    {\n      \"column\": \"gpt-4o\",\n      \"properties\": {\n        \"dtype\": \"category\",\n        \"num_unique_values\": 36,\n        \"samples\": [\n          \"'rooster'\"\n        ],\n        \"semantic_type\": \"\",\n        \"description\": \"\"\n      }\n    }\n  ]\n}"
            }
          },
          "metadata": {},
          "execution_count": 114
        }
      ]
    },
    {
      "cell_type": "code",
      "source": [
        "import torch\n",
        "import numpy as np\n",
        "import random\n",
        "\n",
        "# Make reproducible code\n",
        "GLOBAL_SEED = 10\n",
        "\n",
        "np.random.seed(GLOBAL_SEED)\n",
        "random.seed(GLOBAL_SEED)\n",
        "torch.manual_seed(GLOBAL_SEED)\n",
        "torch.use_deterministic_algorithms(True)\n",
        "%env CUBLAS_WORKSPACE_CONFIG=:4096:8\n",
        "\n",
        "torch.backends.cudnn.deterministic = True\n",
        "torch.backends.cudnn.benchmark = False\n",
        "\n",
        "# illusionless_indexes = random.sample(range(len(df_illusion)), int(len(df_illusion)*0.1))"
      ],
      "metadata": {
        "colab": {
          "base_uri": "https://localhost:8080/"
        },
        "outputId": "490ee3c3-dcad-499b-9999-33db9202232e",
        "id": "xficgHiEkMa3"
      },
      "execution_count": null,
      "outputs": [
        {
          "output_type": "stream",
          "name": "stdout",
          "text": [
            "env: CUBLAS_WORKSPACE_CONFIG=:4096:8\n"
          ]
        }
      ]
    },
    {
      "cell_type": "code",
      "source": [
        "raw_classes = {\n",
        "    'FashionMnist': ['T-shirt/top', 'Trouser', 'Pullover', 'Dress', 'Coat', 'Sandal', 'Shirt', 'Sneaker', 'Bag', 'Ankle boot'],\n",
        "    'Mnist': ['digit 0', 'digit 1', 'digit 2', 'digit 3', 'digit 4', 'digit 5', 'digit 6', 'digit 7', 'digit 8', 'digit 9'],\n",
        "    'IllusionAnimals': ['cat', 'dog', 'pigeon', 'butterfly', 'elephant', 'horse', 'deer', 'snake', 'fish', 'rooster' ],\n",
        "}\n",
        "\n",
        "classes = {\n",
        "    'FashionMnist': ['T-shirt/top', 'Trouser', 'Pullover', 'Dress', 'Coat', 'Sandal', 'Shirt', 'Sneaker', 'Bag', 'Ankle boot', 'No illusion'],\n",
        "    'Mnist': ['digit 0', 'digit 1', 'digit 2', 'digit 3', 'digit 4', 'digit 5', 'digit 6', 'digit 7', 'digit 8', 'digit 9', 'No illusion'],\n",
        "    'IllusionAnimals': ['cat', 'dog', 'pigeon', 'butterfly', 'elephant', 'horse', 'deer', 'snake', 'fish', 'rooster', 'No illusion' ],\n",
        "}\n",
        "\n",
        "# assert {item.strip().lower() for item in df[f'LLaVa_{dataset}_ill_images'].unique()}.issubset({item.strip().lower() for item in classes[dataset]})\n",
        "# assert {item.strip().lower() for item in df[f'LLaVa_{dataset}_illusion_images_filtered'].unique()}.issubset({item.strip().lower() for item in classes[dataset]})\n",
        "# assert {item.strip().lower() for item in df[f'LLaVa_{dataset}_illusionless_images'].unique()}.issubset({item.strip().lower() for item in classes[dataset]})\n",
        "# assert {item.strip().lower() for item in df[f'LLaVa_{dataset}_illusionless_images_filtered'].unique()}.issubset({item.strip().lower() for item in classes[dataset]})\n",
        "# assert {item.strip().lower() for item in df[f'LLaVa_{dataset}_raw_images'].unique()}.issubset({item.strip().lower() for item in raw_classes[dataset]})"
      ],
      "metadata": {
        "id": "eeXH1A7akMa3"
      },
      "execution_count": null,
      "outputs": []
    },
    {
      "cell_type": "code",
      "source": [
        "{item.strip().replace('\\'', '').lower() for item in df_raw[f'gpt-4o'].unique()}"
      ],
      "metadata": {
        "colab": {
          "base_uri": "https://localhost:8080/"
        },
        "outputId": "692d2714-db24-4805-f0cb-8c838732d978",
        "id": "MfkD0BXYkMa4"
      },
      "execution_count": null,
      "outputs": [
        {
          "output_type": "execute_result",
          "data": {
            "text/plain": [
              "{'butterfly',\n",
              " 'butterfly.',\n",
              " 'cat',\n",
              " 'cat.',\n",
              " 'deer',\n",
              " 'dog',\n",
              " 'dog.',\n",
              " 'elephant',\n",
              " 'elephant.',\n",
              " 'error, you uploaded an unsupported image. please make sure your image is below 20 mb in size and is of one the following formats: [png, jpeg, gif, webp].',\n",
              " 'fish',\n",
              " 'horse',\n",
              " 'horse.',\n",
              " 'pigeon',\n",
              " 'pigeon.',\n",
              " 'rooster',\n",
              " 'rooster.',\n",
              " 'snake'}"
            ]
          },
          "metadata": {},
          "execution_count": 117
        }
      ]
    },
    {
      "cell_type": "code",
      "source": [
        "{item.strip().replace('\\'', '').replace('‘','').replace('’','').lower() for item in df_illusion[f'gpt-4o'].unique()}"
      ],
      "metadata": {
        "colab": {
          "base_uri": "https://localhost:8080/"
        },
        "outputId": "ced63064-8b68-47e1-f05d-6ab6a2d54f89",
        "id": "nhR4hqATkMa4"
      },
      "execution_count": null,
      "outputs": [
        {
          "output_type": "execute_result",
          "data": {
            "text/plain": [
              "{'bear',\n",
              " 'bird',\n",
              " 'bird,',\n",
              " 'butterfly',\n",
              " 'cat',\n",
              " 'deer',\n",
              " 'dog',\n",
              " 'elephant',\n",
              " 'error, the server had an error processing your request. sorry about that! you can retry your request, or contact us through our help center at help.openai.com if you keep seeing this error. (please include the request id req_59a745199938d2ea6c8dee5090d7893a in your email.)',\n",
              " 'error, the server had an error processing your request. sorry about that! you can retry your request, or contact us through our help center at help.openai.com if you keep seeing this error. (please include the request id req_d85499d1e3e6cbf42c8ca0d318831d3c in your email.)',\n",
              " 'error, you uploaded an unsupported image. please make sure your image is below 20 mb in size and is of one the following formats: [png, jpeg, gif, webp].',\n",
              " 'fish',\n",
              " 'frog',\n",
              " 'horse',\n",
              " 'no illusion',\n",
              " 'pigeon',\n",
              " 'rooster',\n",
              " 'snake'}"
            ]
          },
          "metadata": {},
          "execution_count": 118
        }
      ]
    },
    {
      "cell_type": "code",
      "source": [
        "{item.strip().replace('\\'', '').lower() for item in df_illusionless[f'gpt-4o'].unique()}"
      ],
      "metadata": {
        "colab": {
          "base_uri": "https://localhost:8080/"
        },
        "outputId": "05485edc-3069-4fcb-bcd1-425604717d2b",
        "id": "t7gKdMH4kMa4"
      },
      "execution_count": null,
      "outputs": [
        {
          "output_type": "execute_result",
          "data": {
            "text/plain": [
              "{'butterfly',\n",
              " 'cat',\n",
              " 'deer',\n",
              " 'elephant',\n",
              " 'error, the server had an error processing your request. sorry about that! you can retry your request, or contact us through our help center at help.openai.com if you keep seeing this error. (please include the request id req_a68394e2402c1fcce8365e8d992a4110 in your email.)',\n",
              " 'fish',\n",
              " 'horse',\n",
              " 'no illusion',\n",
              " 'pigeon',\n",
              " 'snake'}"
            ]
          },
          "metadata": {},
          "execution_count": 119
        }
      ]
    },
    {
      "cell_type": "code",
      "source": [
        "{item.strip().replace('\\'', '').lower() for item in df_illusion_filtered[f'gpt-4o'].unique()}"
      ],
      "metadata": {
        "colab": {
          "base_uri": "https://localhost:8080/"
        },
        "outputId": "a384931c-b8d3-46d0-8dd8-e91eeb7aae34",
        "id": "RD7cyiNIkMa4"
      },
      "execution_count": null,
      "outputs": [
        {
          "output_type": "execute_result",
          "data": {
            "text/plain": [
              "{'bird',\n",
              " 'butterfly',\n",
              " 'cat',\n",
              " 'deer',\n",
              " 'dog',\n",
              " 'elephant',\n",
              " 'error, you uploaded an unsupported image. please make sure your image is below 20 mb in size and is of one the following formats: [png, jpeg, gif, webp].',\n",
              " 'fish',\n",
              " 'horse',\n",
              " 'no illusion',\n",
              " 'pigeon',\n",
              " 'rooster',\n",
              " 'snake'}"
            ]
          },
          "metadata": {},
          "execution_count": 120
        }
      ]
    },
    {
      "cell_type": "code",
      "source": [
        "{item.strip().replace('\\'', '').lower() for item in df_illusionless_filtered[f'gpt-4o'].unique()}"
      ],
      "metadata": {
        "colab": {
          "base_uri": "https://localhost:8080/"
        },
        "outputId": "2c6bfe3c-1b50-4d07-9b01-d9a4571ed996",
        "id": "3zPH3XJHkMa4"
      },
      "execution_count": null,
      "outputs": [
        {
          "output_type": "execute_result",
          "data": {
            "text/plain": [
              "{'bear',\n",
              " 'butterfly',\n",
              " 'cat',\n",
              " 'deer',\n",
              " 'dog',\n",
              " 'elephant',\n",
              " 'fish',\n",
              " 'horse',\n",
              " 'no illusion',\n",
              " 'pigeon',\n",
              " 'snake'}"
            ]
          },
          "metadata": {},
          "execution_count": 121
        }
      ]
    },
    {
      "cell_type": "code",
      "source": [
        "raw_classes[dataset]"
      ],
      "metadata": {
        "colab": {
          "base_uri": "https://localhost:8080/"
        },
        "outputId": "b16b8d1c-2969-4630-cdff-5f0ac1ac24ec",
        "id": "w6bDipjYkMa4"
      },
      "execution_count": null,
      "outputs": [
        {
          "output_type": "execute_result",
          "data": {
            "text/plain": [
              "['cat',\n",
              " 'dog',\n",
              " 'pigeon',\n",
              " 'butterfly',\n",
              " 'elephant',\n",
              " 'horse',\n",
              " 'deer',\n",
              " 'snake',\n",
              " 'fish',\n",
              " 'rooster']"
            ]
          },
          "metadata": {},
          "execution_count": 125
        }
      ]
    },
    {
      "cell_type": "markdown",
      "source": [
        "## Raw"
      ],
      "metadata": {
        "id": "Xvta-i6kkMa5"
      }
    },
    {
      "cell_type": "code",
      "source": [
        "idx2label = {idx: label.strip().lower() for idx, label in enumerate(classes[dataset])}\n",
        "y_true = df_raw['label'].apply(lambda x: x.strip().lower())\n",
        "y_pred = df_raw[f'gpt-4o'].apply(lambda x: x.strip().replace('\\'', '').replace('.', '').lower())"
      ],
      "metadata": {
        "id": "DOEOzdSBkMa5"
      },
      "execution_count": null,
      "outputs": []
    },
    {
      "cell_type": "code",
      "source": [
        "set(list(y_pred))"
      ],
      "metadata": {
        "colab": {
          "base_uri": "https://localhost:8080/"
        },
        "outputId": "216feb00-f4f8-4493-e325-fc4b9ebf4d6c",
        "id": "6uOYnHsVkMa5"
      },
      "execution_count": null,
      "outputs": [
        {
          "output_type": "execute_result",
          "data": {
            "text/plain": [
              "{'butterfly',\n",
              " 'cat',\n",
              " 'deer',\n",
              " 'dog',\n",
              " 'elephant',\n",
              " 'error, you uploaded an unsupported image please make sure your image is below 20 mb in size and is of one the following formats: [png, jpeg, gif, webp]',\n",
              " 'fish',\n",
              " 'horse',\n",
              " 'pigeon',\n",
              " 'rooster',\n",
              " 'snake'}"
            ]
          },
          "metadata": {},
          "execution_count": 127
        }
      ]
    },
    {
      "cell_type": "code",
      "source": [
        "set(y_true)"
      ],
      "metadata": {
        "colab": {
          "base_uri": "https://localhost:8080/"
        },
        "id": "-MNV4F3zkw8D",
        "outputId": "9b4b5527-ea7c-4468-e381-565530de0009"
      },
      "execution_count": null,
      "outputs": [
        {
          "output_type": "execute_result",
          "data": {
            "text/plain": [
              "{'butterfly',\n",
              " 'cat',\n",
              " 'deer',\n",
              " 'dog',\n",
              " 'elephant',\n",
              " 'fish',\n",
              " 'horse',\n",
              " 'pigeon',\n",
              " 'rooster',\n",
              " 'snake'}"
            ]
          },
          "metadata": {},
          "execution_count": 128
        }
      ]
    },
    {
      "cell_type": "code",
      "source": [
        "filtered_df = df_raw[~y_pred.str.contains('error')]\n",
        "filtered_y_true = y_true[~y_pred.str.contains('error')]\n",
        "filtered_y_pred = y_pred[~y_pred.str.contains('error')]"
      ],
      "metadata": {
        "id": "piJYxh53kMa5"
      },
      "execution_count": null,
      "outputs": []
    },
    {
      "cell_type": "code",
      "source": [
        "set(filtered_y_pred)"
      ],
      "metadata": {
        "colab": {
          "base_uri": "https://localhost:8080/"
        },
        "outputId": "1c29b7d5-c068-4a15-d378-df561d51aded",
        "id": "ymWIrlXSkMa5"
      },
      "execution_count": null,
      "outputs": [
        {
          "output_type": "execute_result",
          "data": {
            "text/plain": [
              "{'butterfly',\n",
              " 'cat',\n",
              " 'deer',\n",
              " 'dog',\n",
              " 'elephant',\n",
              " 'fish',\n",
              " 'horse',\n",
              " 'pigeon',\n",
              " 'rooster',\n",
              " 'snake'}"
            ]
          },
          "metadata": {},
          "execution_count": 130
        }
      ]
    },
    {
      "cell_type": "code",
      "source": [
        "filtered_y_true"
      ],
      "metadata": {
        "colab": {
          "base_uri": "https://localhost:8080/"
        },
        "outputId": "8f3e5cdb-916d-4f4d-a0f0-a55e7b0e00ec",
        "id": "oPU68doskMa5"
      },
      "execution_count": null,
      "outputs": [
        {
          "output_type": "execute_result",
          "data": {
            "text/plain": [
              "0          cat\n",
              "1          cat\n",
              "2          cat\n",
              "3          cat\n",
              "4          cat\n",
              "        ...   \n",
              "995    rooster\n",
              "996    rooster\n",
              "997    rooster\n",
              "998    rooster\n",
              "999    rooster\n",
              "Name: label, Length: 999, dtype: object"
            ]
          },
          "metadata": {},
          "execution_count": 131
        }
      ]
    },
    {
      "cell_type": "code",
      "source": [
        "set(list(filtered_y_pred))"
      ],
      "metadata": {
        "colab": {
          "base_uri": "https://localhost:8080/"
        },
        "outputId": "f766f2f9-6c5e-47e6-b2dc-bc33671f9245",
        "id": "NzGQaLs6kMa6"
      },
      "execution_count": null,
      "outputs": [
        {
          "output_type": "execute_result",
          "data": {
            "text/plain": [
              "{'butterfly',\n",
              " 'cat',\n",
              " 'deer',\n",
              " 'dog',\n",
              " 'elephant',\n",
              " 'fish',\n",
              " 'horse',\n",
              " 'pigeon',\n",
              " 'rooster',\n",
              " 'snake'}"
            ]
          },
          "metadata": {},
          "execution_count": 132
        }
      ]
    },
    {
      "cell_type": "code",
      "source": [
        "set(list(filtered_y_true))"
      ],
      "metadata": {
        "colab": {
          "base_uri": "https://localhost:8080/"
        },
        "outputId": "1994135f-db15-47ee-ab24-8ca4bd884df8",
        "id": "dzJEPUKukMa6"
      },
      "execution_count": null,
      "outputs": [
        {
          "output_type": "execute_result",
          "data": {
            "text/plain": [
              "{'butterfly',\n",
              " 'cat',\n",
              " 'deer',\n",
              " 'dog',\n",
              " 'elephant',\n",
              " 'fish',\n",
              " 'horse',\n",
              " 'pigeon',\n",
              " 'rooster',\n",
              " 'snake'}"
            ]
          },
          "metadata": {},
          "execution_count": 133
        }
      ]
    },
    {
      "cell_type": "code",
      "source": [
        "coverage = len(filtered_y_pred)/len(y_true)\n",
        "accuracy = accuracy_score(filtered_y_true, filtered_y_pred)\n",
        "precision = precision_score(filtered_y_true, filtered_y_pred, average='macro')\n",
        "recall = recall_score(filtered_y_true, filtered_y_pred, average='macro')\n",
        "f1 = f1_score(filtered_y_true, filtered_y_pred, average='macro')\n",
        "\n",
        "print(\"Coverage:\", coverage)\n",
        "print(\"Accuracy:\", accuracy)\n",
        "print(\"Precision:\", precision)\n",
        "print(\"Recall:\", recall)\n",
        "print(\"F1 score:\", f1)"
      ],
      "metadata": {
        "colab": {
          "base_uri": "https://localhost:8080/"
        },
        "outputId": "c7a9da51-dcbb-472c-d34b-26574440e976",
        "id": "MTo1qe9LkMa6"
      },
      "execution_count": null,
      "outputs": [
        {
          "output_type": "stream",
          "name": "stdout",
          "text": [
            "Coverage: 0.999\n",
            "Accuracy: 1.0\n",
            "Precision: 1.0\n",
            "Recall: 1.0\n",
            "F1 score: 1.0\n"
          ]
        }
      ]
    },
    {
      "cell_type": "code",
      "source": [
        "print(\"Coverage:\", round(coverage*100,2))\n",
        "print(\"Accuracy:\", round(accuracy*100,2))\n",
        "print(\"Precision:\", round(precision*100,2))\n",
        "print(\"Recall:\", round(recall*100,2))\n",
        "print(\"F1 score:\", round(f1*100,2))"
      ],
      "metadata": {
        "colab": {
          "base_uri": "https://localhost:8080/"
        },
        "outputId": "f96d1b64-a7f9-4ddf-e4fe-5123f93220ab",
        "id": "MFTiKQcxkMa6"
      },
      "execution_count": null,
      "outputs": [
        {
          "output_type": "stream",
          "name": "stdout",
          "text": [
            "Coverage: 99.9\n",
            "Accuracy: 100.0\n",
            "Precision: 100.0\n",
            "Recall: 100.0\n",
            "F1 score: 100.0\n"
          ]
        }
      ]
    },
    {
      "cell_type": "markdown",
      "source": [
        "## Illusion"
      ],
      "metadata": {
        "id": "ntuKH1UbkMa6"
      }
    },
    {
      "cell_type": "code",
      "source": [
        "classes = {\n",
        "    'FashionMnist': ['T-shirt/top', 'Trouser', 'Pullover', 'Dress', 'Coat', 'Sandal', 'Shirt', 'Sneaker', 'Bag', 'Ankle boot', 'no illusion'],\n",
        "    'Mnist': ['digit 0', 'digit 1', 'digit 2', 'digit 3', 'digit 4', 'digit 5', 'digit 6', 'digit 7', 'digit 8', 'digit 9', 'no illusion'],\n",
        "    'IllusionAnimals': ['cat', 'dog', 'pigeon', 'butterfly', 'elephant', 'horse', 'deer', 'snake', 'fish', 'rooster' , 'no illusion'],\n",
        "}\n",
        "idx2label = {idx: label.strip().lower() for idx, label in enumerate(classes[dataset])}\n",
        "y_true = list(df_illusion['label'].apply(lambda x: x.strip().lower())) + list(df_illusionless['label'].apply(lambda x: 'no illusion'))\n",
        "\n",
        "y_pred = list(df_illusion[f'gpt-4o'].apply(lambda x: x.strip().replace('\\'', '').replace('‘','').replace('’','').replace(',', '').lower())) + list(df_illusionless[f'gpt-4o'].apply(lambda x: x.strip().replace('\\'', '').lower()))"
      ],
      "metadata": {
        "id": "XKXpOrTxkMa6"
      },
      "execution_count": null,
      "outputs": []
    },
    {
      "cell_type": "code",
      "source": [
        "set(y_pred)"
      ],
      "metadata": {
        "colab": {
          "base_uri": "https://localhost:8080/"
        },
        "id": "pypg8jJ0lCCn",
        "outputId": "66e04f69-015e-484b-fbff-24ff92df5bd9"
      },
      "execution_count": null,
      "outputs": [
        {
          "output_type": "execute_result",
          "data": {
            "text/plain": [
              "{'bear',\n",
              " 'bird',\n",
              " 'butterfly',\n",
              " 'cat',\n",
              " 'deer',\n",
              " 'dog',\n",
              " 'elephant',\n",
              " 'error the server had an error processing your request. sorry about that! you can retry your request or contact us through our help center at help.openai.com if you keep seeing this error. (please include the request id req_59a745199938d2ea6c8dee5090d7893a in your email.)',\n",
              " 'error the server had an error processing your request. sorry about that! you can retry your request or contact us through our help center at help.openai.com if you keep seeing this error. (please include the request id req_d85499d1e3e6cbf42c8ca0d318831d3c in your email.)',\n",
              " 'error you uploaded an unsupported image. please make sure your image is below 20 mb in size and is of one the following formats: [png jpeg gif webp].',\n",
              " 'error, the server had an error processing your request. sorry about that! you can retry your request, or contact us through our help center at help.openai.com if you keep seeing this error. (please include the request id req_a68394e2402c1fcce8365e8d992a4110 in your email.)',\n",
              " 'fish',\n",
              " 'frog',\n",
              " 'horse',\n",
              " 'no illusion',\n",
              " 'pigeon',\n",
              " 'rooster',\n",
              " 'snake'}"
            ]
          },
          "metadata": {},
          "execution_count": 139
        }
      ]
    },
    {
      "cell_type": "code",
      "source": [
        "y_true_illusion = list(df_illusion['label'].apply(lambda x: x.strip().lower()))\n",
        "y_true_illusionless = list(df_illusionless['label'].apply(lambda x: 'no illusion'))\n",
        "y_pred_illusion = list(df_illusion[f'gpt-4o'].apply(lambda x: x.strip().replace('\\'', '').replace('‘','').replace('’','').replace('.','').replace(',','').lower()))\n",
        "y_pred_illusionless = list(df_illusionless[f'gpt-4o'].apply(lambda x: x.strip().replace('\\'', '').lower()))"
      ],
      "metadata": {
        "id": "Lu1ieP2OkMa7"
      },
      "execution_count": null,
      "outputs": []
    },
    {
      "cell_type": "code",
      "source": [
        "set(y_pred_illusionless)"
      ],
      "metadata": {
        "colab": {
          "base_uri": "https://localhost:8080/"
        },
        "outputId": "816a362e-a1fc-4143-b0a3-0c3f68010b19",
        "id": "xK7k4b5SkMa7"
      },
      "execution_count": null,
      "outputs": [
        {
          "output_type": "execute_result",
          "data": {
            "text/plain": [
              "{'butterfly',\n",
              " 'cat',\n",
              " 'deer',\n",
              " 'elephant',\n",
              " 'error, the server had an error processing your request. sorry about that! you can retry your request, or contact us through our help center at help.openai.com if you keep seeing this error. (please include the request id req_a68394e2402c1fcce8365e8d992a4110 in your email.)',\n",
              " 'fish',\n",
              " 'horse',\n",
              " 'no illusion',\n",
              " 'pigeon',\n",
              " 'snake'}"
            ]
          },
          "metadata": {},
          "execution_count": 145
        }
      ]
    },
    {
      "cell_type": "code",
      "source": [
        "filtered_indices_illusion = [i for i, pred in enumerate(y_pred_illusion) if 'error' in pred]\n",
        "y_pred_illusion_filtered = [pred for i, pred in enumerate(y_pred_illusion) if i not in filtered_indices_illusion]\n",
        "y_true_illusion_filtered = [true for i, true in enumerate(y_true_illusion) if i not in filtered_indices_illusion]\n",
        "\n",
        "filtered_indices_illusionless = [i for i, pred in enumerate(y_pred_illusionless) if 'error' in pred]\n",
        "y_pred_illusionless_filtered = [pred for i, pred in enumerate(y_pred_illusionless) if i not in filtered_indices_illusionless]\n",
        "y_true_illusionless_filtered = [true for i, true in enumerate(y_true_illusionless) if i not in filtered_indices_illusionless]"
      ],
      "metadata": {
        "id": "3y4dLooxkMa7"
      },
      "execution_count": null,
      "outputs": []
    },
    {
      "cell_type": "code",
      "source": [
        "set(y_pred_illusionless_filtered)"
      ],
      "metadata": {
        "colab": {
          "base_uri": "https://localhost:8080/"
        },
        "id": "1XjkrtuYlnix",
        "outputId": "2fe8b710-f847-44d3-808f-fead2ee0ca33"
      },
      "execution_count": null,
      "outputs": [
        {
          "output_type": "execute_result",
          "data": {
            "text/plain": [
              "{'butterfly',\n",
              " 'cat',\n",
              " 'deer',\n",
              " 'elephant',\n",
              " 'fish',\n",
              " 'horse',\n",
              " 'no illusion',\n",
              " 'pigeon',\n",
              " 'snake'}"
            ]
          },
          "metadata": {},
          "execution_count": 149
        }
      ]
    },
    {
      "cell_type": "code",
      "source": [
        "whole_y_true = y_true_illusion_filtered + y_true_illusionless_filtered\n",
        "whole_y_pred = y_pred_illusion_filtered + y_pred_illusionless_filtered"
      ],
      "metadata": {
        "id": "uz9rO741kMa7"
      },
      "execution_count": null,
      "outputs": []
    },
    {
      "cell_type": "code",
      "source": [
        "coverage = len(whole_y_true)/(len(y_true_illusion)+len(y_true_illusionless))\n",
        "accuracy = accuracy_score(whole_y_true, whole_y_pred)\n",
        "precision = precision_score(whole_y_true, whole_y_pred, average='macro')\n",
        "recall = recall_score(whole_y_true, whole_y_pred, average='macro')\n",
        "f1 = f1_score(whole_y_true, whole_y_pred, average='macro')\n",
        "\n",
        "print(\"Coverage:\", coverage)\n",
        "print(\"Accuracy:\", accuracy)\n",
        "print(\"Precision:\", precision)\n",
        "print(\"Recall:\", recall)\n",
        "print(\"F1 score:\", f1)"
      ],
      "metadata": {
        "colab": {
          "base_uri": "https://localhost:8080/"
        },
        "outputId": "64d9ad7b-3034-4d0b-9c19-308d9e7f8e56",
        "id": "hCdntCxRkMa7"
      },
      "execution_count": null,
      "outputs": [
        {
          "output_type": "stream",
          "name": "stdout",
          "text": [
            "Coverage: 0.9954545454545455\n",
            "Accuracy: 0.34885844748858447\n",
            "Precision: 0.3588741424943717\n",
            "Recall: 0.27445165945165945\n",
            "F1 score: 0.27077113097859773\n"
          ]
        },
        {
          "output_type": "stream",
          "name": "stderr",
          "text": [
            "/usr/local/lib/python3.10/dist-packages/sklearn/metrics/_classification.py:1344: UndefinedMetricWarning: Recall is ill-defined and being set to 0.0 in labels with no true samples. Use `zero_division` parameter to control this behavior.\n",
            "  _warn_prf(average, modifier, msg_start, len(result))\n"
          ]
        }
      ]
    },
    {
      "cell_type": "code",
      "source": [
        "print(\"Coverage:\", round(coverage*100,2))\n",
        "print(\"Accuracy:\", round(accuracy*100,2))\n",
        "print(\"Precision:\", round(precision*100,2))\n",
        "print(\"Recall:\", round(recall*100,2))\n",
        "print(\"F1 score:\", round(f1*100,2))"
      ],
      "metadata": {
        "colab": {
          "base_uri": "https://localhost:8080/"
        },
        "outputId": "9927398c-d675-4c00-d3c6-7d522d51f9e9",
        "id": "VT9Hgqt2kMa7"
      },
      "execution_count": null,
      "outputs": [
        {
          "output_type": "stream",
          "name": "stdout",
          "text": [
            "Coverage: 99.55\n",
            "Accuracy: 34.89\n",
            "Precision: 35.89\n",
            "Recall: 27.45\n",
            "F1 score: 27.08\n"
          ]
        }
      ]
    },
    {
      "cell_type": "markdown",
      "source": [
        "## Illusion Filtered"
      ],
      "metadata": {
        "id": "4XLMNPT1kMa7"
      }
    },
    {
      "cell_type": "code",
      "source": [
        "classes = {\n",
        "    'FashionMnist': ['T-shirt/top', 'Trouser', 'Pullover', 'Dress', 'Coat', 'Sandal', 'Shirt', 'Sneaker', 'Bag', 'Ankle boot', 'no illusion'],\n",
        "    'Mnist': ['digit 0', 'digit 1', 'digit 2', 'digit 3', 'digit 4', 'digit 5', 'digit 6', 'digit 7', 'digit 8', 'digit 9', 'no illusion'],\n",
        "    'IllusionAnimals': ['cat', 'dog', 'pigeon', 'butterfly', 'elephant', 'horse', 'deer', 'snake', 'fish', 'rooster' , 'no illusion'],\n",
        "}\n",
        "idx2label = {idx: label.strip().lower() for idx, label in enumerate(classes[dataset])}\n",
        "# y_true = list(df_illusion_filtered['label'].apply(lambda x: idx2label[x].strip().lower())) + list(df_illusionless_filtered.filter(items=illusionless_indexes, axis=0)['label'].apply(lambda x: 'no illusion'))\n",
        "\n",
        "\n",
        "# y_pred = list(df[f'illusion_images_filtered'].apply(lambda x: x.strip().replace('\\'', '').lower())) + list(df.filter(items=illusionless_indexes, axis=0)[f'illusionless_images_filtered'].apply(lambda x: x.strip().replace('\\'', '').lower()))"
      ],
      "metadata": {
        "id": "AffR5fTgkMa7"
      },
      "execution_count": null,
      "outputs": []
    },
    {
      "cell_type": "code",
      "source": [
        "y_true_illusion_f = list(df_illusion_filtered['label'].apply(lambda x: x.strip().lower()))\n",
        "y_true_illusionless_f = list(df_illusionless_filtered['label'].apply(lambda x: 'no illusion'))\n",
        "y_pred_illusion_f = list(df_illusion_filtered[f'gpt-4o'].apply(lambda x: x.strip().replace('\\'', '').replace('‘','').replace('’','').lower()))\n",
        "y_pred_illusionless_f = list(df_illusionless_filtered[f'gpt-4o'].apply(lambda x: x.strip().replace('\\'', '').lower()))"
      ],
      "metadata": {
        "id": "CVVFfrGIkMa8"
      },
      "execution_count": null,
      "outputs": []
    },
    {
      "cell_type": "code",
      "source": [
        "set(y_pred_illusion_f)"
      ],
      "metadata": {
        "colab": {
          "base_uri": "https://localhost:8080/"
        },
        "outputId": "aee03a20-c675-4ba4-c1d3-add7d72a9b95",
        "id": "LM1NXnpwkMa8"
      },
      "execution_count": null,
      "outputs": [
        {
          "output_type": "execute_result",
          "data": {
            "text/plain": [
              "{'bird',\n",
              " 'butterfly',\n",
              " 'cat',\n",
              " 'deer',\n",
              " 'dog',\n",
              " 'elephant',\n",
              " 'error, you uploaded an unsupported image. please make sure your image is below 20 mb in size and is of one the following formats: [png, jpeg, gif, webp].',\n",
              " 'fish',\n",
              " 'horse',\n",
              " 'no illusion',\n",
              " 'pigeon',\n",
              " 'rooster',\n",
              " 'snake'}"
            ]
          },
          "metadata": {},
          "execution_count": 156
        }
      ]
    },
    {
      "cell_type": "code",
      "source": [
        "filtered_indices_illusion_filtered = [i for i, pred in enumerate(y_pred_illusion_f) if 'error' in pred]\n",
        "y_pred_illusion_f_filtered = [pred for i, pred in enumerate(y_pred_illusion_f) if i not in filtered_indices_illusion_filtered]\n",
        "y_true_illusion_f_filtered = [true for i, true in enumerate(y_true_illusion_f) if i not in filtered_indices_illusion_filtered]\n",
        "\n",
        "filtered_indices_illusionless_filtered = [i for i, pred in enumerate(y_pred_illusionless_f) if 'error' in pred]\n",
        "y_pred_illusionless_f_filtered = [pred for i, pred in enumerate(y_pred_illusionless_f) if i not in filtered_indices_illusionless_filtered]\n",
        "y_true_illusionless_f_filtered = [true for i, true in enumerate(y_true_illusionless_f) if i not in filtered_indices_illusionless_filtered]"
      ],
      "metadata": {
        "id": "TFuO9D4ukMa8"
      },
      "execution_count": null,
      "outputs": []
    },
    {
      "cell_type": "code",
      "source": [
        "set(y_pred_illusion_f_filtered)"
      ],
      "metadata": {
        "colab": {
          "base_uri": "https://localhost:8080/"
        },
        "id": "g6OmP_p4l8PJ",
        "outputId": "b8998684-a7e4-431b-8aa5-a2b994fd3920"
      },
      "execution_count": null,
      "outputs": [
        {
          "output_type": "execute_result",
          "data": {
            "text/plain": [
              "{'bird',\n",
              " 'butterfly',\n",
              " 'cat',\n",
              " 'deer',\n",
              " 'dog',\n",
              " 'elephant',\n",
              " 'fish',\n",
              " 'horse',\n",
              " 'no illusion',\n",
              " 'pigeon',\n",
              " 'rooster',\n",
              " 'snake'}"
            ]
          },
          "metadata": {},
          "execution_count": 158
        }
      ]
    },
    {
      "cell_type": "code",
      "source": [
        "whole_y_true = y_true_illusion_f_filtered + y_true_illusionless_f_filtered\n",
        "whole_y_pred = y_pred_illusion_f_filtered + y_pred_illusionless_f_filtered"
      ],
      "metadata": {
        "id": "6elzJ2LskMa8"
      },
      "execution_count": null,
      "outputs": []
    },
    {
      "cell_type": "code",
      "source": [
        "coverage = len(whole_y_true)/(len(y_true_illusion_f)+len(y_true_illusionless_f))\n",
        "accuracy = accuracy_score(whole_y_true, whole_y_pred)\n",
        "precision = precision_score(whole_y_true, whole_y_pred, average='macro')\n",
        "recall = recall_score(whole_y_true, whole_y_pred, average='macro')\n",
        "f1 = f1_score(whole_y_true, whole_y_pred, average='macro')\n",
        "\n",
        "print(\"Coverage:\", coverage)\n",
        "print(\"Accuracy:\", accuracy)\n",
        "print(\"Precision:\", precision)\n",
        "print(\"Recall:\", recall)\n",
        "print(\"F1 score:\", f1)"
      ],
      "metadata": {
        "colab": {
          "base_uri": "https://localhost:8080/"
        },
        "outputId": "93aac8f6-45e6-4491-954e-d07d49282571",
        "id": "Ju6_NBJ7kMa8"
      },
      "execution_count": null,
      "outputs": [
        {
          "output_type": "stream",
          "name": "stdout",
          "text": [
            "Coverage: 0.9990909090909091\n",
            "Accuracy: 0.8398544131028207\n",
            "Precision: 0.7259980807561524\n",
            "Recall: 0.7107614607614607\n",
            "F1 score: 0.7039231892022909\n"
          ]
        },
        {
          "output_type": "stream",
          "name": "stderr",
          "text": [
            "/usr/local/lib/python3.10/dist-packages/sklearn/metrics/_classification.py:1344: UndefinedMetricWarning: Recall is ill-defined and being set to 0.0 in labels with no true samples. Use `zero_division` parameter to control this behavior.\n",
            "  _warn_prf(average, modifier, msg_start, len(result))\n"
          ]
        }
      ]
    },
    {
      "cell_type": "code",
      "source": [
        "print(\"Coverage:\", round(coverage*100,2))\n",
        "print(\"Accuracy:\", round(accuracy*100,2))\n",
        "print(\"Precision:\", round(precision*100,2))\n",
        "print(\"Recall:\", round(recall*100,2))\n",
        "print(\"F1 score:\", round(f1*100,2))"
      ],
      "metadata": {
        "colab": {
          "base_uri": "https://localhost:8080/"
        },
        "outputId": "8f58f52c-294c-435a-81ab-4ab9bc9bd242",
        "id": "On-0TvUgkMa8"
      },
      "execution_count": null,
      "outputs": [
        {
          "output_type": "stream",
          "name": "stdout",
          "text": [
            "Coverage: 99.91\n",
            "Accuracy: 83.99\n",
            "Precision: 72.6\n",
            "Recall: 71.08\n",
            "F1 score: 70.39\n"
          ]
        }
      ]
    },
    {
      "cell_type": "code",
      "source": [],
      "metadata": {
        "id": "jhK5di_hkMa8"
      },
      "execution_count": null,
      "outputs": []
    }
  ]
}