{
  "nbformat": 4,
  "nbformat_minor": 0,
  "metadata": {
    "colab": {
      "provenance": []
    },
    "kernelspec": {
      "name": "python3",
      "display_name": "Python 3"
    },
    "language_info": {
      "name": "python"
    }
  },
  "cells": [
    {
      "cell_type": "code",
      "source": [
        "# from google.colab import drive\n",
        "# drive.mount('/content/drive')"
      ],
      "metadata": {
        "colab": {
          "base_uri": "https://localhost:8080/"
        },
        "id": "DxO1GWU88P0D",
        "outputId": "e29f752c-c2c3-4cb6-ab8f-9f4c1f582e90"
      },
      "execution_count": null,
      "outputs": [
        {
          "output_type": "stream",
          "name": "stdout",
          "text": [
            "Mounted at /content/drive\n"
          ]
        }
      ]
    },
    {
      "cell_type": "code",
      "source": [
        "from sklearn.metrics import accuracy_score, precision_score, recall_score, f1_score\n",
        "import pandas as pd\n",
        "dataset = 'IllusionAnimals'\n",
        "file_name = 'CLIP_IllusionAnimals_test'\n",
        "\n",
        "df = pd.read_csv(f'./{file_name}.csv')"
      ],
      "metadata": {
        "id": "Xip_wupi7K5I"
      },
      "execution_count": 1,
      "outputs": []
    },
    {
      "cell_type": "code",
      "source": [
        "df"
      ],
      "metadata": {
        "colab": {
          "base_uri": "https://localhost:8080/",
          "height": 597
        },
        "id": "buq3XjiYGjc3",
        "outputId": "d65e0f7b-0a32-4165-ad33-c74260faa8a3"
      },
      "execution_count": 2,
      "outputs": [
        {
          "output_type": "execute_result",
          "data": {
            "text/plain": [
              "               image_name                                            Pprompt  \\\n",
              "0       IllusionAnimals_1  A raging river flowing through a dense jungle ...   \n",
              "1       IllusionAnimals_2            A starry night sky over a tranquil lake   \n",
              "2       IllusionAnimals_3  Jaguar (Panthera Onca) patrolling South Americ...   \n",
              "3       IllusionAnimals_4  Flowing lava illuminates cavern walls, ancient...   \n",
              "4       IllusionAnimals_5  Dense forest canopy, sunlight filters through,...   \n",
              "..                    ...                                                ...   \n",
              "995   IllusionAnimals_996    Saharan sandstorm turning daytime into darkness   \n",
              "996   IllusionAnimals_997            Urban city with skyscrapers and traffic   \n",
              "997   IllusionAnimals_998   A serene meadow with wildflowers and butterflies   \n",
              "998   IllusionAnimals_999                    Elk bugling in crisp autumn air   \n",
              "999  IllusionAnimals_1000  Misty waterfall cascading, mossy rocks glow, s...   \n",
              "\n",
              "         Nprompt  illusion_strength    label raw_answer  \\\n",
              "0    low quality                2.5      cat        cat   \n",
              "1    low quality                2.5      cat        cat   \n",
              "2    low quality                2.5      cat        cat   \n",
              "3    low quality                2.5      cat        cat   \n",
              "4    low quality                2.5      cat        cat   \n",
              "..           ...                ...      ...        ...   \n",
              "995  low quality                2.5  rooster    rooster   \n",
              "996  low quality                2.5  rooster    rooster   \n",
              "997  low quality                2.5  rooster    rooster   \n",
              "998  low quality                2.5  rooster    rooster   \n",
              "999  low quality                2.5  rooster    rooster   \n",
              "\n",
              "                   ill_answer         illless_answer        ill_filter_answer  \\\n",
              "0    illusion animal elephant     no illusion animal      illusion animal cat   \n",
              "1        illusion animal deer   illusion animal deer      illusion animal cat   \n",
              "2        illusion animal deer     no illusion animal      illusion animal cat   \n",
              "3    illusion animal elephant     no illusion animal      illusion animal cat   \n",
              "4        illusion animal deer   illusion animal deer      illusion animal cat   \n",
              "..                        ...                    ...                      ...   \n",
              "995   illusion animal rooster  illusion animal snake  illusion animal rooster   \n",
              "996  illusion animal elephant  illusion animal snake  illusion animal rooster   \n",
              "997     illusion animal horse     no illusion animal  illusion animal rooster   \n",
              "998      illusion animal deer   illusion animal deer  illusion animal rooster   \n",
              "999  illusion animal elephant     no illusion animal    illusion animal snake   \n",
              "\n",
              "        illless_filter_answer  \n",
              "0        illusion animal deer  \n",
              "1          no illusion animal  \n",
              "2         illusion animal cat  \n",
              "3          no illusion animal  \n",
              "4    illusion animal elephant  \n",
              "..                        ...  \n",
              "995     illusion animal snake  \n",
              "996        no illusion animal  \n",
              "997      illusion animal deer  \n",
              "998      illusion animal deer  \n",
              "999        no illusion animal  \n",
              "\n",
              "[1000 rows x 10 columns]"
            ],
            "text/html": [
              "\n",
              "  <div id=\"df-78748472-d89f-48d7-be08-28d1dae80709\" class=\"colab-df-container\">\n",
              "    <div>\n",
              "<style scoped>\n",
              "    .dataframe tbody tr th:only-of-type {\n",
              "        vertical-align: middle;\n",
              "    }\n",
              "\n",
              "    .dataframe tbody tr th {\n",
              "        vertical-align: top;\n",
              "    }\n",
              "\n",
              "    .dataframe thead th {\n",
              "        text-align: right;\n",
              "    }\n",
              "</style>\n",
              "<table border=\"1\" class=\"dataframe\">\n",
              "  <thead>\n",
              "    <tr style=\"text-align: right;\">\n",
              "      <th></th>\n",
              "      <th>image_name</th>\n",
              "      <th>Pprompt</th>\n",
              "      <th>Nprompt</th>\n",
              "      <th>illusion_strength</th>\n",
              "      <th>label</th>\n",
              "      <th>raw_answer</th>\n",
              "      <th>ill_answer</th>\n",
              "      <th>illless_answer</th>\n",
              "      <th>ill_filter_answer</th>\n",
              "      <th>illless_filter_answer</th>\n",
              "    </tr>\n",
              "  </thead>\n",
              "  <tbody>\n",
              "    <tr>\n",
              "      <th>0</th>\n",
              "      <td>IllusionAnimals_1</td>\n",
              "      <td>A raging river flowing through a dense jungle ...</td>\n",
              "      <td>low quality</td>\n",
              "      <td>2.5</td>\n",
              "      <td>cat</td>\n",
              "      <td>cat</td>\n",
              "      <td>illusion animal elephant</td>\n",
              "      <td>no illusion animal</td>\n",
              "      <td>illusion animal cat</td>\n",
              "      <td>illusion animal deer</td>\n",
              "    </tr>\n",
              "    <tr>\n",
              "      <th>1</th>\n",
              "      <td>IllusionAnimals_2</td>\n",
              "      <td>A starry night sky over a tranquil lake</td>\n",
              "      <td>low quality</td>\n",
              "      <td>2.5</td>\n",
              "      <td>cat</td>\n",
              "      <td>cat</td>\n",
              "      <td>illusion animal deer</td>\n",
              "      <td>illusion animal deer</td>\n",
              "      <td>illusion animal cat</td>\n",
              "      <td>no illusion animal</td>\n",
              "    </tr>\n",
              "    <tr>\n",
              "      <th>2</th>\n",
              "      <td>IllusionAnimals_3</td>\n",
              "      <td>Jaguar (Panthera Onca) patrolling South Americ...</td>\n",
              "      <td>low quality</td>\n",
              "      <td>2.5</td>\n",
              "      <td>cat</td>\n",
              "      <td>cat</td>\n",
              "      <td>illusion animal deer</td>\n",
              "      <td>no illusion animal</td>\n",
              "      <td>illusion animal cat</td>\n",
              "      <td>illusion animal cat</td>\n",
              "    </tr>\n",
              "    <tr>\n",
              "      <th>3</th>\n",
              "      <td>IllusionAnimals_4</td>\n",
              "      <td>Flowing lava illuminates cavern walls, ancient...</td>\n",
              "      <td>low quality</td>\n",
              "      <td>2.5</td>\n",
              "      <td>cat</td>\n",
              "      <td>cat</td>\n",
              "      <td>illusion animal elephant</td>\n",
              "      <td>no illusion animal</td>\n",
              "      <td>illusion animal cat</td>\n",
              "      <td>no illusion animal</td>\n",
              "    </tr>\n",
              "    <tr>\n",
              "      <th>4</th>\n",
              "      <td>IllusionAnimals_5</td>\n",
              "      <td>Dense forest canopy, sunlight filters through,...</td>\n",
              "      <td>low quality</td>\n",
              "      <td>2.5</td>\n",
              "      <td>cat</td>\n",
              "      <td>cat</td>\n",
              "      <td>illusion animal deer</td>\n",
              "      <td>illusion animal deer</td>\n",
              "      <td>illusion animal cat</td>\n",
              "      <td>illusion animal elephant</td>\n",
              "    </tr>\n",
              "    <tr>\n",
              "      <th>...</th>\n",
              "      <td>...</td>\n",
              "      <td>...</td>\n",
              "      <td>...</td>\n",
              "      <td>...</td>\n",
              "      <td>...</td>\n",
              "      <td>...</td>\n",
              "      <td>...</td>\n",
              "      <td>...</td>\n",
              "      <td>...</td>\n",
              "      <td>...</td>\n",
              "    </tr>\n",
              "    <tr>\n",
              "      <th>995</th>\n",
              "      <td>IllusionAnimals_996</td>\n",
              "      <td>Saharan sandstorm turning daytime into darkness</td>\n",
              "      <td>low quality</td>\n",
              "      <td>2.5</td>\n",
              "      <td>rooster</td>\n",
              "      <td>rooster</td>\n",
              "      <td>illusion animal rooster</td>\n",
              "      <td>illusion animal snake</td>\n",
              "      <td>illusion animal rooster</td>\n",
              "      <td>illusion animal snake</td>\n",
              "    </tr>\n",
              "    <tr>\n",
              "      <th>996</th>\n",
              "      <td>IllusionAnimals_997</td>\n",
              "      <td>Urban city with skyscrapers and traffic</td>\n",
              "      <td>low quality</td>\n",
              "      <td>2.5</td>\n",
              "      <td>rooster</td>\n",
              "      <td>rooster</td>\n",
              "      <td>illusion animal elephant</td>\n",
              "      <td>illusion animal snake</td>\n",
              "      <td>illusion animal rooster</td>\n",
              "      <td>no illusion animal</td>\n",
              "    </tr>\n",
              "    <tr>\n",
              "      <th>997</th>\n",
              "      <td>IllusionAnimals_998</td>\n",
              "      <td>A serene meadow with wildflowers and butterflies</td>\n",
              "      <td>low quality</td>\n",
              "      <td>2.5</td>\n",
              "      <td>rooster</td>\n",
              "      <td>rooster</td>\n",
              "      <td>illusion animal horse</td>\n",
              "      <td>no illusion animal</td>\n",
              "      <td>illusion animal rooster</td>\n",
              "      <td>illusion animal deer</td>\n",
              "    </tr>\n",
              "    <tr>\n",
              "      <th>998</th>\n",
              "      <td>IllusionAnimals_999</td>\n",
              "      <td>Elk bugling in crisp autumn air</td>\n",
              "      <td>low quality</td>\n",
              "      <td>2.5</td>\n",
              "      <td>rooster</td>\n",
              "      <td>rooster</td>\n",
              "      <td>illusion animal deer</td>\n",
              "      <td>illusion animal deer</td>\n",
              "      <td>illusion animal rooster</td>\n",
              "      <td>illusion animal deer</td>\n",
              "    </tr>\n",
              "    <tr>\n",
              "      <th>999</th>\n",
              "      <td>IllusionAnimals_1000</td>\n",
              "      <td>Misty waterfall cascading, mossy rocks glow, s...</td>\n",
              "      <td>low quality</td>\n",
              "      <td>2.5</td>\n",
              "      <td>rooster</td>\n",
              "      <td>rooster</td>\n",
              "      <td>illusion animal elephant</td>\n",
              "      <td>no illusion animal</td>\n",
              "      <td>illusion animal snake</td>\n",
              "      <td>no illusion animal</td>\n",
              "    </tr>\n",
              "  </tbody>\n",
              "</table>\n",
              "<p>1000 rows × 10 columns</p>\n",
              "</div>\n",
              "    <div class=\"colab-df-buttons\">\n",
              "\n",
              "  <div class=\"colab-df-container\">\n",
              "    <button class=\"colab-df-convert\" onclick=\"convertToInteractive('df-78748472-d89f-48d7-be08-28d1dae80709')\"\n",
              "            title=\"Convert this dataframe to an interactive table.\"\n",
              "            style=\"display:none;\">\n",
              "\n",
              "  <svg xmlns=\"http://www.w3.org/2000/svg\" height=\"24px\" viewBox=\"0 -960 960 960\">\n",
              "    <path d=\"M120-120v-720h720v720H120Zm60-500h600v-160H180v160Zm220 220h160v-160H400v160Zm0 220h160v-160H400v160ZM180-400h160v-160H180v160Zm440 0h160v-160H620v160ZM180-180h160v-160H180v160Zm440 0h160v-160H620v160Z\"/>\n",
              "  </svg>\n",
              "    </button>\n",
              "\n",
              "  <style>\n",
              "    .colab-df-container {\n",
              "      display:flex;\n",
              "      gap: 12px;\n",
              "    }\n",
              "\n",
              "    .colab-df-convert {\n",
              "      background-color: #E8F0FE;\n",
              "      border: none;\n",
              "      border-radius: 50%;\n",
              "      cursor: pointer;\n",
              "      display: none;\n",
              "      fill: #1967D2;\n",
              "      height: 32px;\n",
              "      padding: 0 0 0 0;\n",
              "      width: 32px;\n",
              "    }\n",
              "\n",
              "    .colab-df-convert:hover {\n",
              "      background-color: #E2EBFA;\n",
              "      box-shadow: 0px 1px 2px rgba(60, 64, 67, 0.3), 0px 1px 3px 1px rgba(60, 64, 67, 0.15);\n",
              "      fill: #174EA6;\n",
              "    }\n",
              "\n",
              "    .colab-df-buttons div {\n",
              "      margin-bottom: 4px;\n",
              "    }\n",
              "\n",
              "    [theme=dark] .colab-df-convert {\n",
              "      background-color: #3B4455;\n",
              "      fill: #D2E3FC;\n",
              "    }\n",
              "\n",
              "    [theme=dark] .colab-df-convert:hover {\n",
              "      background-color: #434B5C;\n",
              "      box-shadow: 0px 1px 3px 1px rgba(0, 0, 0, 0.15);\n",
              "      filter: drop-shadow(0px 1px 2px rgba(0, 0, 0, 0.3));\n",
              "      fill: #FFFFFF;\n",
              "    }\n",
              "  </style>\n",
              "\n",
              "    <script>\n",
              "      const buttonEl =\n",
              "        document.querySelector('#df-78748472-d89f-48d7-be08-28d1dae80709 button.colab-df-convert');\n",
              "      buttonEl.style.display =\n",
              "        google.colab.kernel.accessAllowed ? 'block' : 'none';\n",
              "\n",
              "      async function convertToInteractive(key) {\n",
              "        const element = document.querySelector('#df-78748472-d89f-48d7-be08-28d1dae80709');\n",
              "        const dataTable =\n",
              "          await google.colab.kernel.invokeFunction('convertToInteractive',\n",
              "                                                    [key], {});\n",
              "        if (!dataTable) return;\n",
              "\n",
              "        const docLinkHtml = 'Like what you see? Visit the ' +\n",
              "          '<a target=\"_blank\" href=https://colab.research.google.com/notebooks/data_table.ipynb>data table notebook</a>'\n",
              "          + ' to learn more about interactive tables.';\n",
              "        element.innerHTML = '';\n",
              "        dataTable['output_type'] = 'display_data';\n",
              "        await google.colab.output.renderOutput(dataTable, element);\n",
              "        const docLink = document.createElement('div');\n",
              "        docLink.innerHTML = docLinkHtml;\n",
              "        element.appendChild(docLink);\n",
              "      }\n",
              "    </script>\n",
              "  </div>\n",
              "\n",
              "\n",
              "<div id=\"df-7728300d-4313-46a9-a964-8d953d2485a3\">\n",
              "  <button class=\"colab-df-quickchart\" onclick=\"quickchart('df-7728300d-4313-46a9-a964-8d953d2485a3')\"\n",
              "            title=\"Suggest charts\"\n",
              "            style=\"display:none;\">\n",
              "\n",
              "<svg xmlns=\"http://www.w3.org/2000/svg\" height=\"24px\"viewBox=\"0 0 24 24\"\n",
              "     width=\"24px\">\n",
              "    <g>\n",
              "        <path d=\"M19 3H5c-1.1 0-2 .9-2 2v14c0 1.1.9 2 2 2h14c1.1 0 2-.9 2-2V5c0-1.1-.9-2-2-2zM9 17H7v-7h2v7zm4 0h-2V7h2v10zm4 0h-2v-4h2v4z\"/>\n",
              "    </g>\n",
              "</svg>\n",
              "  </button>\n",
              "\n",
              "<style>\n",
              "  .colab-df-quickchart {\n",
              "      --bg-color: #E8F0FE;\n",
              "      --fill-color: #1967D2;\n",
              "      --hover-bg-color: #E2EBFA;\n",
              "      --hover-fill-color: #174EA6;\n",
              "      --disabled-fill-color: #AAA;\n",
              "      --disabled-bg-color: #DDD;\n",
              "  }\n",
              "\n",
              "  [theme=dark] .colab-df-quickchart {\n",
              "      --bg-color: #3B4455;\n",
              "      --fill-color: #D2E3FC;\n",
              "      --hover-bg-color: #434B5C;\n",
              "      --hover-fill-color: #FFFFFF;\n",
              "      --disabled-bg-color: #3B4455;\n",
              "      --disabled-fill-color: #666;\n",
              "  }\n",
              "\n",
              "  .colab-df-quickchart {\n",
              "    background-color: var(--bg-color);\n",
              "    border: none;\n",
              "    border-radius: 50%;\n",
              "    cursor: pointer;\n",
              "    display: none;\n",
              "    fill: var(--fill-color);\n",
              "    height: 32px;\n",
              "    padding: 0;\n",
              "    width: 32px;\n",
              "  }\n",
              "\n",
              "  .colab-df-quickchart:hover {\n",
              "    background-color: var(--hover-bg-color);\n",
              "    box-shadow: 0 1px 2px rgba(60, 64, 67, 0.3), 0 1px 3px 1px rgba(60, 64, 67, 0.15);\n",
              "    fill: var(--button-hover-fill-color);\n",
              "  }\n",
              "\n",
              "  .colab-df-quickchart-complete:disabled,\n",
              "  .colab-df-quickchart-complete:disabled:hover {\n",
              "    background-color: var(--disabled-bg-color);\n",
              "    fill: var(--disabled-fill-color);\n",
              "    box-shadow: none;\n",
              "  }\n",
              "\n",
              "  .colab-df-spinner {\n",
              "    border: 2px solid var(--fill-color);\n",
              "    border-color: transparent;\n",
              "    border-bottom-color: var(--fill-color);\n",
              "    animation:\n",
              "      spin 1s steps(1) infinite;\n",
              "  }\n",
              "\n",
              "  @keyframes spin {\n",
              "    0% {\n",
              "      border-color: transparent;\n",
              "      border-bottom-color: var(--fill-color);\n",
              "      border-left-color: var(--fill-color);\n",
              "    }\n",
              "    20% {\n",
              "      border-color: transparent;\n",
              "      border-left-color: var(--fill-color);\n",
              "      border-top-color: var(--fill-color);\n",
              "    }\n",
              "    30% {\n",
              "      border-color: transparent;\n",
              "      border-left-color: var(--fill-color);\n",
              "      border-top-color: var(--fill-color);\n",
              "      border-right-color: var(--fill-color);\n",
              "    }\n",
              "    40% {\n",
              "      border-color: transparent;\n",
              "      border-right-color: var(--fill-color);\n",
              "      border-top-color: var(--fill-color);\n",
              "    }\n",
              "    60% {\n",
              "      border-color: transparent;\n",
              "      border-right-color: var(--fill-color);\n",
              "    }\n",
              "    80% {\n",
              "      border-color: transparent;\n",
              "      border-right-color: var(--fill-color);\n",
              "      border-bottom-color: var(--fill-color);\n",
              "    }\n",
              "    90% {\n",
              "      border-color: transparent;\n",
              "      border-bottom-color: var(--fill-color);\n",
              "    }\n",
              "  }\n",
              "</style>\n",
              "\n",
              "  <script>\n",
              "    async function quickchart(key) {\n",
              "      const quickchartButtonEl =\n",
              "        document.querySelector('#' + key + ' button');\n",
              "      quickchartButtonEl.disabled = true;  // To prevent multiple clicks.\n",
              "      quickchartButtonEl.classList.add('colab-df-spinner');\n",
              "      try {\n",
              "        const charts = await google.colab.kernel.invokeFunction(\n",
              "            'suggestCharts', [key], {});\n",
              "      } catch (error) {\n",
              "        console.error('Error during call to suggestCharts:', error);\n",
              "      }\n",
              "      quickchartButtonEl.classList.remove('colab-df-spinner');\n",
              "      quickchartButtonEl.classList.add('colab-df-quickchart-complete');\n",
              "    }\n",
              "    (() => {\n",
              "      let quickchartButtonEl =\n",
              "        document.querySelector('#df-7728300d-4313-46a9-a964-8d953d2485a3 button');\n",
              "      quickchartButtonEl.style.display =\n",
              "        google.colab.kernel.accessAllowed ? 'block' : 'none';\n",
              "    })();\n",
              "  </script>\n",
              "</div>\n",
              "\n",
              "  <div id=\"id_c0ea33f8-17de-4d79-832f-f1d5e8bc380e\">\n",
              "    <style>\n",
              "      .colab-df-generate {\n",
              "        background-color: #E8F0FE;\n",
              "        border: none;\n",
              "        border-radius: 50%;\n",
              "        cursor: pointer;\n",
              "        display: none;\n",
              "        fill: #1967D2;\n",
              "        height: 32px;\n",
              "        padding: 0 0 0 0;\n",
              "        width: 32px;\n",
              "      }\n",
              "\n",
              "      .colab-df-generate:hover {\n",
              "        background-color: #E2EBFA;\n",
              "        box-shadow: 0px 1px 2px rgba(60, 64, 67, 0.3), 0px 1px 3px 1px rgba(60, 64, 67, 0.15);\n",
              "        fill: #174EA6;\n",
              "      }\n",
              "\n",
              "      [theme=dark] .colab-df-generate {\n",
              "        background-color: #3B4455;\n",
              "        fill: #D2E3FC;\n",
              "      }\n",
              "\n",
              "      [theme=dark] .colab-df-generate:hover {\n",
              "        background-color: #434B5C;\n",
              "        box-shadow: 0px 1px 3px 1px rgba(0, 0, 0, 0.15);\n",
              "        filter: drop-shadow(0px 1px 2px rgba(0, 0, 0, 0.3));\n",
              "        fill: #FFFFFF;\n",
              "      }\n",
              "    </style>\n",
              "    <button class=\"colab-df-generate\" onclick=\"generateWithVariable('df')\"\n",
              "            title=\"Generate code using this dataframe.\"\n",
              "            style=\"display:none;\">\n",
              "\n",
              "  <svg xmlns=\"http://www.w3.org/2000/svg\" height=\"24px\"viewBox=\"0 0 24 24\"\n",
              "       width=\"24px\">\n",
              "    <path d=\"M7,19H8.4L18.45,9,17,7.55,7,17.6ZM5,21V16.75L18.45,3.32a2,2,0,0,1,2.83,0l1.4,1.43a1.91,1.91,0,0,1,.58,1.4,1.91,1.91,0,0,1-.58,1.4L9.25,21ZM18.45,9,17,7.55Zm-12,3A5.31,5.31,0,0,0,4.9,8.1,5.31,5.31,0,0,0,1,6.5,5.31,5.31,0,0,0,4.9,4.9,5.31,5.31,0,0,0,6.5,1,5.31,5.31,0,0,0,8.1,4.9,5.31,5.31,0,0,0,12,6.5,5.46,5.46,0,0,0,6.5,12Z\"/>\n",
              "  </svg>\n",
              "    </button>\n",
              "    <script>\n",
              "      (() => {\n",
              "      const buttonEl =\n",
              "        document.querySelector('#id_c0ea33f8-17de-4d79-832f-f1d5e8bc380e button.colab-df-generate');\n",
              "      buttonEl.style.display =\n",
              "        google.colab.kernel.accessAllowed ? 'block' : 'none';\n",
              "\n",
              "      buttonEl.onclick = () => {\n",
              "        google.colab.notebook.generateWithVariable('df');\n",
              "      }\n",
              "      })();\n",
              "    </script>\n",
              "  </div>\n",
              "\n",
              "    </div>\n",
              "  </div>\n"
            ],
            "application/vnd.google.colaboratory.intrinsic+json": {
              "type": "dataframe",
              "variable_name": "df",
              "summary": "{\n  \"name\": \"df\",\n  \"rows\": 1000,\n  \"fields\": [\n    {\n      \"column\": \"image_name\",\n      \"properties\": {\n        \"dtype\": \"string\",\n        \"num_unique_values\": 1000,\n        \"samples\": [\n          \"IllusionAnimals_522\",\n          \"IllusionAnimals_738\",\n          \"IllusionAnimals_741\"\n        ],\n        \"semantic_type\": \"\",\n        \"description\": \"\"\n      }\n    },\n    {\n      \"column\": \"Pprompt\",\n      \"properties\": {\n        \"dtype\": \"string\",\n        \"num_unique_values\": 635,\n        \"samples\": [\n          \"A busy airport with planes taking off and landing\",\n          \"A serene lake with lush forest and mountains\",\n          \"Jellyfish undulating rhythmically\"\n        ],\n        \"semantic_type\": \"\",\n        \"description\": \"\"\n      }\n    },\n    {\n      \"column\": \"Nprompt\",\n      \"properties\": {\n        \"dtype\": \"category\",\n        \"num_unique_values\": 1,\n        \"samples\": [\n          \"low quality\"\n        ],\n        \"semantic_type\": \"\",\n        \"description\": \"\"\n      }\n    },\n    {\n      \"column\": \"illusion_strength\",\n      \"properties\": {\n        \"dtype\": \"number\",\n        \"std\": 0.0,\n        \"min\": 2.5,\n        \"max\": 2.5,\n        \"num_unique_values\": 1,\n        \"samples\": [\n          2.5\n        ],\n        \"semantic_type\": \"\",\n        \"description\": \"\"\n      }\n    },\n    {\n      \"column\": \"label\",\n      \"properties\": {\n        \"dtype\": \"category\",\n        \"num_unique_values\": 10,\n        \"samples\": [\n          \"fish\"\n        ],\n        \"semantic_type\": \"\",\n        \"description\": \"\"\n      }\n    },\n    {\n      \"column\": \"raw_answer\",\n      \"properties\": {\n        \"dtype\": \"category\",\n        \"num_unique_values\": 10,\n        \"samples\": [\n          \"fish\"\n        ],\n        \"semantic_type\": \"\",\n        \"description\": \"\"\n      }\n    },\n    {\n      \"column\": \"ill_answer\",\n      \"properties\": {\n        \"dtype\": \"category\",\n        \"num_unique_values\": 11,\n        \"samples\": [\n          \"illusion animal rooster\"\n        ],\n        \"semantic_type\": \"\",\n        \"description\": \"\"\n      }\n    },\n    {\n      \"column\": \"illless_answer\",\n      \"properties\": {\n        \"dtype\": \"category\",\n        \"num_unique_values\": 11,\n        \"samples\": [\n          \"illusion animal pigeon\"\n        ],\n        \"semantic_type\": \"\",\n        \"description\": \"\"\n      }\n    },\n    {\n      \"column\": \"ill_filter_answer\",\n      \"properties\": {\n        \"dtype\": \"category\",\n        \"num_unique_values\": 11,\n        \"samples\": [\n          \"no illusion animal\"\n        ],\n        \"semantic_type\": \"\",\n        \"description\": \"\"\n      }\n    },\n    {\n      \"column\": \"illless_filter_answer\",\n      \"properties\": {\n        \"dtype\": \"category\",\n        \"num_unique_values\": 11,\n        \"samples\": [\n          \"illusion animal snake\"\n        ],\n        \"semantic_type\": \"\",\n        \"description\": \"\"\n      }\n    }\n  ]\n}"
            }
          },
          "metadata": {},
          "execution_count": 2
        }
      ]
    },
    {
      "cell_type": "code",
      "execution_count": 3,
      "metadata": {
        "colab": {
          "base_uri": "https://localhost:8080/"
        },
        "id": "n9gfdgeo22Ek",
        "outputId": "0aa6083c-a456-4236-a0ea-b75036154b35"
      },
      "outputs": [
        {
          "output_type": "stream",
          "name": "stdout",
          "text": [
            "env: CUBLAS_WORKSPACE_CONFIG=:4096:8\n"
          ]
        }
      ],
      "source": [
        "import torch\n",
        "import numpy as np\n",
        "import random\n",
        "\n",
        "# Make reproducible code\n",
        "GLOBAL_SEED = 10\n",
        "\n",
        "np.random.seed(GLOBAL_SEED)\n",
        "random.seed(GLOBAL_SEED)\n",
        "torch.manual_seed(GLOBAL_SEED)\n",
        "torch.use_deterministic_algorithms(True)\n",
        "%env CUBLAS_WORKSPACE_CONFIG=:4096:8\n",
        "\n",
        "torch.backends.cudnn.deterministic = True\n",
        "torch.backends.cudnn.benchmark = False\n",
        "\n",
        "illusionless_indexes = random.sample(range(len(df)), int(len(df)*0.1))"
      ]
    },
    {
      "cell_type": "markdown",
      "source": [
        "# **Raw**"
      ],
      "metadata": {
        "id": "90YrfOWRRvsz"
      }
    },
    {
      "cell_type": "code",
      "source": [
        "y_true = []\n",
        "y_pred = []"
      ],
      "metadata": {
        "id": "fO_H40hPZ-p1"
      },
      "execution_count": 4,
      "outputs": []
    },
    {
      "cell_type": "code",
      "source": [
        "y_true = df['label'].apply(lambda x: str(x)).tolist()\n",
        "y_pred = df[f'raw_answer'].apply(lambda x: x.strip().lower()).tolist()"
      ],
      "metadata": {
        "id": "39oDyub15T4_"
      },
      "execution_count": 5,
      "outputs": []
    },
    {
      "cell_type": "code",
      "source": [
        "y_pred_ = [item.split()[-1] for item in y_pred]"
      ],
      "metadata": {
        "id": "vZT-2vEfRZ80"
      },
      "execution_count": 6,
      "outputs": []
    },
    {
      "cell_type": "code",
      "source": [
        "accuracy = accuracy_score(y_true, y_pred_)\n",
        "precision = precision_score(y_true, y_pred_, average='macro')\n",
        "recall = recall_score(y_true, y_pred_, average='macro')\n",
        "f1 = f1_score(y_true, y_pred_, average='macro')\n",
        "\n",
        "print(\"Accuracy:\", round(accuracy, 4))\n",
        "print(\"Precision:\", round(precision, 4))\n",
        "print(\"Recall:\", round(recall, 4))\n",
        "print(\"F1 score:\", round(f1, 4))"
      ],
      "metadata": {
        "colab": {
          "base_uri": "https://localhost:8080/"
        },
        "id": "92R3HiXiNubV",
        "outputId": "0bac9473-82cc-47be-ba74-8504509f3047"
      },
      "execution_count": 7,
      "outputs": [
        {
          "output_type": "stream",
          "name": "stdout",
          "text": [
            "Accuracy: 1.0\n",
            "Precision: 1.0\n",
            "Recall: 1.0\n",
            "F1 score: 1.0\n"
          ]
        }
      ]
    },
    {
      "cell_type": "markdown",
      "source": [
        "# **Illusion**"
      ],
      "metadata": {
        "id": "8gcRREahRzQR"
      }
    },
    {
      "cell_type": "code",
      "source": [
        "y_true = []\n",
        "y_pred = []"
      ],
      "metadata": {
        "id": "GPrwtNV6ZNyO"
      },
      "execution_count": 8,
      "outputs": []
    },
    {
      "cell_type": "code",
      "source": [
        "y_pred_illless = [df.at[row, 'illless_answer'].split()[-1] for row in illusionless_indexes]\n",
        "y_true_illless = ['animal' for i in range(len(y_pred_illless))]"
      ],
      "metadata": {
        "id": "OKGm-Jb_SyrF"
      },
      "execution_count": 9,
      "outputs": []
    },
    {
      "cell_type": "code",
      "source": [
        "y_true_ill = df['label'].apply(lambda x: str(x)).tolist()\n",
        "y_pred_ill = df[f'ill_answer'].apply(lambda x: x.strip().lower().split()[-1]).tolist()"
      ],
      "metadata": {
        "id": "Zt-UvjP4Twzl"
      },
      "execution_count": 10,
      "outputs": []
    },
    {
      "cell_type": "code",
      "source": [
        "y_true = y_true_ill + y_true_illless\n",
        "y_pred = y_pred_ill + y_pred_illless"
      ],
      "metadata": {
        "id": "WDHj9BX1XI7k"
      },
      "execution_count": 11,
      "outputs": []
    },
    {
      "cell_type": "code",
      "source": [
        "accuracy = accuracy_score(y_true, y_pred)\n",
        "precision = precision_score(y_true, y_pred, average='macro')\n",
        "recall = recall_score(y_true, y_pred, average='macro')\n",
        "f1 = f1_score(y_true, y_pred, average='macro')\n",
        "\n",
        "print(\"Accuracy:\", round(accuracy, 4))\n",
        "print(\"Precision:\", round(precision, 4))\n",
        "print(\"Recall:\", round(recall, 4))\n",
        "print(\"F1 score:\", round(f1, 4))"
      ],
      "metadata": {
        "colab": {
          "base_uri": "https://localhost:8080/"
        },
        "id": "dMPvG3_yXao2",
        "outputId": "c84b2471-0855-4b45-f2fc-5fc04964636f"
      },
      "execution_count": 12,
      "outputs": [
        {
          "output_type": "stream",
          "name": "stdout",
          "text": [
            "Accuracy: 0.4264\n",
            "Precision: 0.462\n",
            "Recall: 0.4264\n",
            "F1 score: 0.3956\n"
          ]
        }
      ]
    },
    {
      "cell_type": "markdown",
      "source": [
        "# **Filtered**"
      ],
      "metadata": {
        "id": "3HiUto9JZ0xp"
      }
    },
    {
      "cell_type": "code",
      "source": [
        "y_true = []\n",
        "y_pred = []"
      ],
      "metadata": {
        "id": "RPIOwYV1Z34O"
      },
      "execution_count": 13,
      "outputs": []
    },
    {
      "cell_type": "code",
      "source": [
        "y_pred_illless = [df.at[row, 'illless_filter_answer'].split()[-1] for row in illusionless_indexes]\n",
        "y_true_illless = ['animal' for i in range(len(y_pred_illless))]"
      ],
      "metadata": {
        "id": "hXTDj76iaG33"
      },
      "execution_count": 14,
      "outputs": []
    },
    {
      "cell_type": "code",
      "source": [
        "y_true_ill = df['label'].apply(lambda x: str(x)).tolist()\n",
        "y_pred_ill = df[f'ill_filter_answer'].apply(lambda x: x.strip().lower().split()[-1]).tolist()"
      ],
      "metadata": {
        "id": "Hc67QolyaWRo"
      },
      "execution_count": 15,
      "outputs": []
    },
    {
      "cell_type": "code",
      "source": [
        "y_true = y_true_ill + y_true_illless\n",
        "y_pred = y_pred_ill + y_pred_illless"
      ],
      "metadata": {
        "id": "4EHE3Y2daXhw"
      },
      "execution_count": 16,
      "outputs": []
    },
    {
      "cell_type": "code",
      "source": [
        "accuracy = accuracy_score(y_true, y_pred)\n",
        "precision = precision_score(y_true, y_pred, average='macro')\n",
        "recall = recall_score(y_true, y_pred, average='macro')\n",
        "f1 = f1_score(y_true, y_pred, average='macro')\n",
        "\n",
        "print(\"Accuracy:\", round(accuracy, 4))\n",
        "print(\"Precision:\", round(precision, 4))\n",
        "print(\"Recall:\", round(recall, 4))\n",
        "print(\"F1 score:\", round(f1, 4))"
      ],
      "metadata": {
        "colab": {
          "base_uri": "https://localhost:8080/"
        },
        "id": "IPztOVyraY_I",
        "outputId": "b4b8c744-6aad-45ba-a45f-a5e0c2f18239"
      },
      "execution_count": 17,
      "outputs": [
        {
          "output_type": "stream",
          "name": "stdout",
          "text": [
            "Accuracy: 0.8545\n",
            "Precision: 0.8637\n",
            "Recall: 0.8545\n",
            "F1 score: 0.8519\n"
          ]
        }
      ]
    }
  ]
}