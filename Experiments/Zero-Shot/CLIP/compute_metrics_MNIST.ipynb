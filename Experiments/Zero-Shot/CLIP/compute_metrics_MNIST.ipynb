{
  "nbformat": 4,
  "nbformat_minor": 0,
  "metadata": {
    "colab": {
      "provenance": []
    },
    "kernelspec": {
      "name": "python3",
      "display_name": "Python 3"
    },
    "language_info": {
      "name": "python"
    }
  },
  "cells": [
    {
      "cell_type": "code",
      "source": [
        "# from google.colab import drive\n",
        "# drive.mount('/content/drive')"
      ],
      "metadata": {
        "colab": {
          "base_uri": "https://localhost:8080/"
        },
        "id": "DxO1GWU88P0D",
        "outputId": "9807cb19-bc70-43c7-f5e3-49b371126708"
      },
      "execution_count": null,
      "outputs": [
        {
          "output_type": "stream",
          "name": "stdout",
          "text": [
            "Mounted at /content/drive\n"
          ]
        }
      ]
    },
    {
      "cell_type": "code",
      "source": [
        "from sklearn.metrics import accuracy_score, precision_score, recall_score, f1_score\n",
        "import pandas as pd\n",
        "dataset = 'Mnist'\n",
        "file_name = 'CLIP_MNIST_test'\n",
        "\n",
        "df = pd.read_csv(f'./{file_name}.csv')"
      ],
      "metadata": {
        "id": "Xip_wupi7K5I"
      },
      "execution_count": 1,
      "outputs": []
    },
    {
      "cell_type": "code",
      "source": [
        "df"
      ],
      "metadata": {
        "colab": {
          "base_uri": "https://localhost:8080/",
          "height": 597
        },
        "id": "buq3XjiYGjc3",
        "outputId": "5bb1e069-51f7-40ea-d6ea-a529fce1b2f2"
      },
      "execution_count": 2,
      "outputs": [
        {
          "output_type": "execute_result",
          "data": {
            "text/plain": [
              "      image_name                                            Pprompt  \\\n",
              "0        Mnist_1  A field of blooming sunflowers swaying in the ...   \n",
              "1        Mnist_2  A peaceful countryside scene with grazing shee...   \n",
              "2        Mnist_3  A tranquil pond with lily pads floating on the...   \n",
              "3        Mnist_4          A sunny vineyard with rows of ripe grapes   \n",
              "4        Mnist_5  A picturesque vineyard at sunset with the sky ...   \n",
              "...          ...                                                ...   \n",
              "1104  Mnist_1105  Misty jungle surrounded by vibrant flowers and...   \n",
              "1105  Mnist_1106                     A forest with blooming flowers   \n",
              "1106  Mnist_1107  Desolate desert landscape, shifting sands illu...   \n",
              "1107  Mnist_1108  A vast desert with a towering canyon in the di...   \n",
              "1108  Mnist_1109  A steampunk world powered by gears and clockworks   \n",
              "\n",
              "          Nprompt  illusion_strength  label raw_answer         ill_answer  \\\n",
              "0     low quality                1.5      7    digit 7   illusion digit 8   \n",
              "1     low quality                1.5      2    digit 7   illusion digit 2   \n",
              "2     low quality                1.5      1    digit 6   illusion digit 8   \n",
              "3     low quality                1.5      0    digit 0   illusion digit 9   \n",
              "4     low quality                1.5      4    digit 3  no illusion digit   \n",
              "...           ...                ...    ...        ...                ...   \n",
              "1104  low quality                1.5      8    digit 6   illusion digit 9   \n",
              "1105  low quality                1.5      0    digit 0  no illusion digit   \n",
              "1106  low quality                1.5      5    digit 5   illusion digit 0   \n",
              "1107  low quality                1.5      0    digit 0  no illusion digit   \n",
              "1108  low quality                1.5      9    digit 3   illusion digit 9   \n",
              "\n",
              "         illless_answer ill_filter_answer illless_filter_answer  \n",
              "0      illusion digit 8  illusion digit 1      illusion digit 9  \n",
              "1     no illusion digit  illusion digit 4      illusion digit 6  \n",
              "2      illusion digit 8  illusion digit 7      illusion digit 7  \n",
              "3     no illusion digit  illusion digit 9      illusion digit 1  \n",
              "4      illusion digit 2  illusion digit 7      illusion digit 6  \n",
              "...                 ...               ...                   ...  \n",
              "1104  no illusion digit  illusion digit 7     no illusion digit  \n",
              "1105  no illusion digit  illusion digit 7      illusion digit 7  \n",
              "1106  no illusion digit  illusion digit 7      illusion digit 9  \n",
              "1107  no illusion digit  illusion digit 0      illusion digit 9  \n",
              "1108   illusion digit 9  illusion digit 7      illusion digit 1  \n",
              "\n",
              "[1109 rows x 10 columns]"
            ],
            "text/html": [
              "\n",
              "  <div id=\"df-0deed522-b7cd-4ebe-b614-d6f3a156f4c1\" class=\"colab-df-container\">\n",
              "    <div>\n",
              "<style scoped>\n",
              "    .dataframe tbody tr th:only-of-type {\n",
              "        vertical-align: middle;\n",
              "    }\n",
              "\n",
              "    .dataframe tbody tr th {\n",
              "        vertical-align: top;\n",
              "    }\n",
              "\n",
              "    .dataframe thead th {\n",
              "        text-align: right;\n",
              "    }\n",
              "</style>\n",
              "<table border=\"1\" class=\"dataframe\">\n",
              "  <thead>\n",
              "    <tr style=\"text-align: right;\">\n",
              "      <th></th>\n",
              "      <th>image_name</th>\n",
              "      <th>Pprompt</th>\n",
              "      <th>Nprompt</th>\n",
              "      <th>illusion_strength</th>\n",
              "      <th>label</th>\n",
              "      <th>raw_answer</th>\n",
              "      <th>ill_answer</th>\n",
              "      <th>illless_answer</th>\n",
              "      <th>ill_filter_answer</th>\n",
              "      <th>illless_filter_answer</th>\n",
              "    </tr>\n",
              "  </thead>\n",
              "  <tbody>\n",
              "    <tr>\n",
              "      <th>0</th>\n",
              "      <td>Mnist_1</td>\n",
              "      <td>A field of blooming sunflowers swaying in the ...</td>\n",
              "      <td>low quality</td>\n",
              "      <td>1.5</td>\n",
              "      <td>7</td>\n",
              "      <td>digit 7</td>\n",
              "      <td>illusion digit 8</td>\n",
              "      <td>illusion digit 8</td>\n",
              "      <td>illusion digit 1</td>\n",
              "      <td>illusion digit 9</td>\n",
              "    </tr>\n",
              "    <tr>\n",
              "      <th>1</th>\n",
              "      <td>Mnist_2</td>\n",
              "      <td>A peaceful countryside scene with grazing shee...</td>\n",
              "      <td>low quality</td>\n",
              "      <td>1.5</td>\n",
              "      <td>2</td>\n",
              "      <td>digit 7</td>\n",
              "      <td>illusion digit 2</td>\n",
              "      <td>no illusion digit</td>\n",
              "      <td>illusion digit 4</td>\n",
              "      <td>illusion digit 6</td>\n",
              "    </tr>\n",
              "    <tr>\n",
              "      <th>2</th>\n",
              "      <td>Mnist_3</td>\n",
              "      <td>A tranquil pond with lily pads floating on the...</td>\n",
              "      <td>low quality</td>\n",
              "      <td>1.5</td>\n",
              "      <td>1</td>\n",
              "      <td>digit 6</td>\n",
              "      <td>illusion digit 8</td>\n",
              "      <td>illusion digit 8</td>\n",
              "      <td>illusion digit 7</td>\n",
              "      <td>illusion digit 7</td>\n",
              "    </tr>\n",
              "    <tr>\n",
              "      <th>3</th>\n",
              "      <td>Mnist_4</td>\n",
              "      <td>A sunny vineyard with rows of ripe grapes</td>\n",
              "      <td>low quality</td>\n",
              "      <td>1.5</td>\n",
              "      <td>0</td>\n",
              "      <td>digit 0</td>\n",
              "      <td>illusion digit 9</td>\n",
              "      <td>no illusion digit</td>\n",
              "      <td>illusion digit 9</td>\n",
              "      <td>illusion digit 1</td>\n",
              "    </tr>\n",
              "    <tr>\n",
              "      <th>4</th>\n",
              "      <td>Mnist_5</td>\n",
              "      <td>A picturesque vineyard at sunset with the sky ...</td>\n",
              "      <td>low quality</td>\n",
              "      <td>1.5</td>\n",
              "      <td>4</td>\n",
              "      <td>digit 3</td>\n",
              "      <td>no illusion digit</td>\n",
              "      <td>illusion digit 2</td>\n",
              "      <td>illusion digit 7</td>\n",
              "      <td>illusion digit 6</td>\n",
              "    </tr>\n",
              "    <tr>\n",
              "      <th>...</th>\n",
              "      <td>...</td>\n",
              "      <td>...</td>\n",
              "      <td>...</td>\n",
              "      <td>...</td>\n",
              "      <td>...</td>\n",
              "      <td>...</td>\n",
              "      <td>...</td>\n",
              "      <td>...</td>\n",
              "      <td>...</td>\n",
              "      <td>...</td>\n",
              "    </tr>\n",
              "    <tr>\n",
              "      <th>1104</th>\n",
              "      <td>Mnist_1105</td>\n",
              "      <td>Misty jungle surrounded by vibrant flowers and...</td>\n",
              "      <td>low quality</td>\n",
              "      <td>1.5</td>\n",
              "      <td>8</td>\n",
              "      <td>digit 6</td>\n",
              "      <td>illusion digit 9</td>\n",
              "      <td>no illusion digit</td>\n",
              "      <td>illusion digit 7</td>\n",
              "      <td>no illusion digit</td>\n",
              "    </tr>\n",
              "    <tr>\n",
              "      <th>1105</th>\n",
              "      <td>Mnist_1106</td>\n",
              "      <td>A forest with blooming flowers</td>\n",
              "      <td>low quality</td>\n",
              "      <td>1.5</td>\n",
              "      <td>0</td>\n",
              "      <td>digit 0</td>\n",
              "      <td>no illusion digit</td>\n",
              "      <td>no illusion digit</td>\n",
              "      <td>illusion digit 7</td>\n",
              "      <td>illusion digit 7</td>\n",
              "    </tr>\n",
              "    <tr>\n",
              "      <th>1106</th>\n",
              "      <td>Mnist_1107</td>\n",
              "      <td>Desolate desert landscape, shifting sands illu...</td>\n",
              "      <td>low quality</td>\n",
              "      <td>1.5</td>\n",
              "      <td>5</td>\n",
              "      <td>digit 5</td>\n",
              "      <td>illusion digit 0</td>\n",
              "      <td>no illusion digit</td>\n",
              "      <td>illusion digit 7</td>\n",
              "      <td>illusion digit 9</td>\n",
              "    </tr>\n",
              "    <tr>\n",
              "      <th>1107</th>\n",
              "      <td>Mnist_1108</td>\n",
              "      <td>A vast desert with a towering canyon in the di...</td>\n",
              "      <td>low quality</td>\n",
              "      <td>1.5</td>\n",
              "      <td>0</td>\n",
              "      <td>digit 0</td>\n",
              "      <td>no illusion digit</td>\n",
              "      <td>no illusion digit</td>\n",
              "      <td>illusion digit 0</td>\n",
              "      <td>illusion digit 9</td>\n",
              "    </tr>\n",
              "    <tr>\n",
              "      <th>1108</th>\n",
              "      <td>Mnist_1109</td>\n",
              "      <td>A steampunk world powered by gears and clockworks</td>\n",
              "      <td>low quality</td>\n",
              "      <td>1.5</td>\n",
              "      <td>9</td>\n",
              "      <td>digit 3</td>\n",
              "      <td>illusion digit 9</td>\n",
              "      <td>illusion digit 9</td>\n",
              "      <td>illusion digit 7</td>\n",
              "      <td>illusion digit 1</td>\n",
              "    </tr>\n",
              "  </tbody>\n",
              "</table>\n",
              "<p>1109 rows × 10 columns</p>\n",
              "</div>\n",
              "    <div class=\"colab-df-buttons\">\n",
              "\n",
              "  <div class=\"colab-df-container\">\n",
              "    <button class=\"colab-df-convert\" onclick=\"convertToInteractive('df-0deed522-b7cd-4ebe-b614-d6f3a156f4c1')\"\n",
              "            title=\"Convert this dataframe to an interactive table.\"\n",
              "            style=\"display:none;\">\n",
              "\n",
              "  <svg xmlns=\"http://www.w3.org/2000/svg\" height=\"24px\" viewBox=\"0 -960 960 960\">\n",
              "    <path d=\"M120-120v-720h720v720H120Zm60-500h600v-160H180v160Zm220 220h160v-160H400v160Zm0 220h160v-160H400v160ZM180-400h160v-160H180v160Zm440 0h160v-160H620v160ZM180-180h160v-160H180v160Zm440 0h160v-160H620v160Z\"/>\n",
              "  </svg>\n",
              "    </button>\n",
              "\n",
              "  <style>\n",
              "    .colab-df-container {\n",
              "      display:flex;\n",
              "      gap: 12px;\n",
              "    }\n",
              "\n",
              "    .colab-df-convert {\n",
              "      background-color: #E8F0FE;\n",
              "      border: none;\n",
              "      border-radius: 50%;\n",
              "      cursor: pointer;\n",
              "      display: none;\n",
              "      fill: #1967D2;\n",
              "      height: 32px;\n",
              "      padding: 0 0 0 0;\n",
              "      width: 32px;\n",
              "    }\n",
              "\n",
              "    .colab-df-convert:hover {\n",
              "      background-color: #E2EBFA;\n",
              "      box-shadow: 0px 1px 2px rgba(60, 64, 67, 0.3), 0px 1px 3px 1px rgba(60, 64, 67, 0.15);\n",
              "      fill: #174EA6;\n",
              "    }\n",
              "\n",
              "    .colab-df-buttons div {\n",
              "      margin-bottom: 4px;\n",
              "    }\n",
              "\n",
              "    [theme=dark] .colab-df-convert {\n",
              "      background-color: #3B4455;\n",
              "      fill: #D2E3FC;\n",
              "    }\n",
              "\n",
              "    [theme=dark] .colab-df-convert:hover {\n",
              "      background-color: #434B5C;\n",
              "      box-shadow: 0px 1px 3px 1px rgba(0, 0, 0, 0.15);\n",
              "      filter: drop-shadow(0px 1px 2px rgba(0, 0, 0, 0.3));\n",
              "      fill: #FFFFFF;\n",
              "    }\n",
              "  </style>\n",
              "\n",
              "    <script>\n",
              "      const buttonEl =\n",
              "        document.querySelector('#df-0deed522-b7cd-4ebe-b614-d6f3a156f4c1 button.colab-df-convert');\n",
              "      buttonEl.style.display =\n",
              "        google.colab.kernel.accessAllowed ? 'block' : 'none';\n",
              "\n",
              "      async function convertToInteractive(key) {\n",
              "        const element = document.querySelector('#df-0deed522-b7cd-4ebe-b614-d6f3a156f4c1');\n",
              "        const dataTable =\n",
              "          await google.colab.kernel.invokeFunction('convertToInteractive',\n",
              "                                                    [key], {});\n",
              "        if (!dataTable) return;\n",
              "\n",
              "        const docLinkHtml = 'Like what you see? Visit the ' +\n",
              "          '<a target=\"_blank\" href=https://colab.research.google.com/notebooks/data_table.ipynb>data table notebook</a>'\n",
              "          + ' to learn more about interactive tables.';\n",
              "        element.innerHTML = '';\n",
              "        dataTable['output_type'] = 'display_data';\n",
              "        await google.colab.output.renderOutput(dataTable, element);\n",
              "        const docLink = document.createElement('div');\n",
              "        docLink.innerHTML = docLinkHtml;\n",
              "        element.appendChild(docLink);\n",
              "      }\n",
              "    </script>\n",
              "  </div>\n",
              "\n",
              "\n",
              "<div id=\"df-3bb11e96-6bcf-4440-b901-045abd2539e5\">\n",
              "  <button class=\"colab-df-quickchart\" onclick=\"quickchart('df-3bb11e96-6bcf-4440-b901-045abd2539e5')\"\n",
              "            title=\"Suggest charts\"\n",
              "            style=\"display:none;\">\n",
              "\n",
              "<svg xmlns=\"http://www.w3.org/2000/svg\" height=\"24px\"viewBox=\"0 0 24 24\"\n",
              "     width=\"24px\">\n",
              "    <g>\n",
              "        <path d=\"M19 3H5c-1.1 0-2 .9-2 2v14c0 1.1.9 2 2 2h14c1.1 0 2-.9 2-2V5c0-1.1-.9-2-2-2zM9 17H7v-7h2v7zm4 0h-2V7h2v10zm4 0h-2v-4h2v4z\"/>\n",
              "    </g>\n",
              "</svg>\n",
              "  </button>\n",
              "\n",
              "<style>\n",
              "  .colab-df-quickchart {\n",
              "      --bg-color: #E8F0FE;\n",
              "      --fill-color: #1967D2;\n",
              "      --hover-bg-color: #E2EBFA;\n",
              "      --hover-fill-color: #174EA6;\n",
              "      --disabled-fill-color: #AAA;\n",
              "      --disabled-bg-color: #DDD;\n",
              "  }\n",
              "\n",
              "  [theme=dark] .colab-df-quickchart {\n",
              "      --bg-color: #3B4455;\n",
              "      --fill-color: #D2E3FC;\n",
              "      --hover-bg-color: #434B5C;\n",
              "      --hover-fill-color: #FFFFFF;\n",
              "      --disabled-bg-color: #3B4455;\n",
              "      --disabled-fill-color: #666;\n",
              "  }\n",
              "\n",
              "  .colab-df-quickchart {\n",
              "    background-color: var(--bg-color);\n",
              "    border: none;\n",
              "    border-radius: 50%;\n",
              "    cursor: pointer;\n",
              "    display: none;\n",
              "    fill: var(--fill-color);\n",
              "    height: 32px;\n",
              "    padding: 0;\n",
              "    width: 32px;\n",
              "  }\n",
              "\n",
              "  .colab-df-quickchart:hover {\n",
              "    background-color: var(--hover-bg-color);\n",
              "    box-shadow: 0 1px 2px rgba(60, 64, 67, 0.3), 0 1px 3px 1px rgba(60, 64, 67, 0.15);\n",
              "    fill: var(--button-hover-fill-color);\n",
              "  }\n",
              "\n",
              "  .colab-df-quickchart-complete:disabled,\n",
              "  .colab-df-quickchart-complete:disabled:hover {\n",
              "    background-color: var(--disabled-bg-color);\n",
              "    fill: var(--disabled-fill-color);\n",
              "    box-shadow: none;\n",
              "  }\n",
              "\n",
              "  .colab-df-spinner {\n",
              "    border: 2px solid var(--fill-color);\n",
              "    border-color: transparent;\n",
              "    border-bottom-color: var(--fill-color);\n",
              "    animation:\n",
              "      spin 1s steps(1) infinite;\n",
              "  }\n",
              "\n",
              "  @keyframes spin {\n",
              "    0% {\n",
              "      border-color: transparent;\n",
              "      border-bottom-color: var(--fill-color);\n",
              "      border-left-color: var(--fill-color);\n",
              "    }\n",
              "    20% {\n",
              "      border-color: transparent;\n",
              "      border-left-color: var(--fill-color);\n",
              "      border-top-color: var(--fill-color);\n",
              "    }\n",
              "    30% {\n",
              "      border-color: transparent;\n",
              "      border-left-color: var(--fill-color);\n",
              "      border-top-color: var(--fill-color);\n",
              "      border-right-color: var(--fill-color);\n",
              "    }\n",
              "    40% {\n",
              "      border-color: transparent;\n",
              "      border-right-color: var(--fill-color);\n",
              "      border-top-color: var(--fill-color);\n",
              "    }\n",
              "    60% {\n",
              "      border-color: transparent;\n",
              "      border-right-color: var(--fill-color);\n",
              "    }\n",
              "    80% {\n",
              "      border-color: transparent;\n",
              "      border-right-color: var(--fill-color);\n",
              "      border-bottom-color: var(--fill-color);\n",
              "    }\n",
              "    90% {\n",
              "      border-color: transparent;\n",
              "      border-bottom-color: var(--fill-color);\n",
              "    }\n",
              "  }\n",
              "</style>\n",
              "\n",
              "  <script>\n",
              "    async function quickchart(key) {\n",
              "      const quickchartButtonEl =\n",
              "        document.querySelector('#' + key + ' button');\n",
              "      quickchartButtonEl.disabled = true;  // To prevent multiple clicks.\n",
              "      quickchartButtonEl.classList.add('colab-df-spinner');\n",
              "      try {\n",
              "        const charts = await google.colab.kernel.invokeFunction(\n",
              "            'suggestCharts', [key], {});\n",
              "      } catch (error) {\n",
              "        console.error('Error during call to suggestCharts:', error);\n",
              "      }\n",
              "      quickchartButtonEl.classList.remove('colab-df-spinner');\n",
              "      quickchartButtonEl.classList.add('colab-df-quickchart-complete');\n",
              "    }\n",
              "    (() => {\n",
              "      let quickchartButtonEl =\n",
              "        document.querySelector('#df-3bb11e96-6bcf-4440-b901-045abd2539e5 button');\n",
              "      quickchartButtonEl.style.display =\n",
              "        google.colab.kernel.accessAllowed ? 'block' : 'none';\n",
              "    })();\n",
              "  </script>\n",
              "</div>\n",
              "\n",
              "  <div id=\"id_cf7d6a6f-3ebb-480b-82b2-f918533b67fe\">\n",
              "    <style>\n",
              "      .colab-df-generate {\n",
              "        background-color: #E8F0FE;\n",
              "        border: none;\n",
              "        border-radius: 50%;\n",
              "        cursor: pointer;\n",
              "        display: none;\n",
              "        fill: #1967D2;\n",
              "        height: 32px;\n",
              "        padding: 0 0 0 0;\n",
              "        width: 32px;\n",
              "      }\n",
              "\n",
              "      .colab-df-generate:hover {\n",
              "        background-color: #E2EBFA;\n",
              "        box-shadow: 0px 1px 2px rgba(60, 64, 67, 0.3), 0px 1px 3px 1px rgba(60, 64, 67, 0.15);\n",
              "        fill: #174EA6;\n",
              "      }\n",
              "\n",
              "      [theme=dark] .colab-df-generate {\n",
              "        background-color: #3B4455;\n",
              "        fill: #D2E3FC;\n",
              "      }\n",
              "\n",
              "      [theme=dark] .colab-df-generate:hover {\n",
              "        background-color: #434B5C;\n",
              "        box-shadow: 0px 1px 3px 1px rgba(0, 0, 0, 0.15);\n",
              "        filter: drop-shadow(0px 1px 2px rgba(0, 0, 0, 0.3));\n",
              "        fill: #FFFFFF;\n",
              "      }\n",
              "    </style>\n",
              "    <button class=\"colab-df-generate\" onclick=\"generateWithVariable('df')\"\n",
              "            title=\"Generate code using this dataframe.\"\n",
              "            style=\"display:none;\">\n",
              "\n",
              "  <svg xmlns=\"http://www.w3.org/2000/svg\" height=\"24px\"viewBox=\"0 0 24 24\"\n",
              "       width=\"24px\">\n",
              "    <path d=\"M7,19H8.4L18.45,9,17,7.55,7,17.6ZM5,21V16.75L18.45,3.32a2,2,0,0,1,2.83,0l1.4,1.43a1.91,1.91,0,0,1,.58,1.4,1.91,1.91,0,0,1-.58,1.4L9.25,21ZM18.45,9,17,7.55Zm-12,3A5.31,5.31,0,0,0,4.9,8.1,5.31,5.31,0,0,0,1,6.5,5.31,5.31,0,0,0,4.9,4.9,5.31,5.31,0,0,0,6.5,1,5.31,5.31,0,0,0,8.1,4.9,5.31,5.31,0,0,0,12,6.5,5.46,5.46,0,0,0,6.5,12Z\"/>\n",
              "  </svg>\n",
              "    </button>\n",
              "    <script>\n",
              "      (() => {\n",
              "      const buttonEl =\n",
              "        document.querySelector('#id_cf7d6a6f-3ebb-480b-82b2-f918533b67fe button.colab-df-generate');\n",
              "      buttonEl.style.display =\n",
              "        google.colab.kernel.accessAllowed ? 'block' : 'none';\n",
              "\n",
              "      buttonEl.onclick = () => {\n",
              "        google.colab.notebook.generateWithVariable('df');\n",
              "      }\n",
              "      })();\n",
              "    </script>\n",
              "  </div>\n",
              "\n",
              "    </div>\n",
              "  </div>\n"
            ],
            "application/vnd.google.colaboratory.intrinsic+json": {
              "type": "dataframe",
              "variable_name": "df",
              "summary": "{\n  \"name\": \"df\",\n  \"rows\": 1109,\n  \"fields\": [\n    {\n      \"column\": \"image_name\",\n      \"properties\": {\n        \"dtype\": \"string\",\n        \"num_unique_values\": 1109,\n        \"samples\": [\n          \"Mnist_884\",\n          \"Mnist_343\",\n          \"Mnist_57\"\n        ],\n        \"semantic_type\": \"\",\n        \"description\": \"\"\n      }\n    },\n    {\n      \"column\": \"Pprompt\",\n      \"properties\": {\n        \"dtype\": \"string\",\n        \"num_unique_values\": 675,\n        \"samples\": [\n          \"Sunbeams filter through forest canopy, river winds through valleys, birds chirp merrily\",\n          \"A sunny meadow with purple flowers and green grass\",\n          \"Misty jungle surrounded by vibrant flowers and tall palm trees\"\n        ],\n        \"semantic_type\": \"\",\n        \"description\": \"\"\n      }\n    },\n    {\n      \"column\": \"Nprompt\",\n      \"properties\": {\n        \"dtype\": \"category\",\n        \"num_unique_values\": 1,\n        \"samples\": [\n          \"low quality\"\n        ],\n        \"semantic_type\": \"\",\n        \"description\": \"\"\n      }\n    },\n    {\n      \"column\": \"illusion_strength\",\n      \"properties\": {\n        \"dtype\": \"number\",\n        \"std\": 0.0,\n        \"min\": 1.5,\n        \"max\": 1.5,\n        \"num_unique_values\": 1,\n        \"samples\": [\n          1.5\n        ],\n        \"semantic_type\": \"\",\n        \"description\": \"\"\n      }\n    },\n    {\n      \"column\": \"label\",\n      \"properties\": {\n        \"dtype\": \"number\",\n        \"std\": 2,\n        \"min\": 0,\n        \"max\": 9,\n        \"num_unique_values\": 10,\n        \"samples\": [\n          3\n        ],\n        \"semantic_type\": \"\",\n        \"description\": \"\"\n      }\n    },\n    {\n      \"column\": \"raw_answer\",\n      \"properties\": {\n        \"dtype\": \"category\",\n        \"num_unique_values\": 8,\n        \"samples\": [\n          \"digit 6\"\n        ],\n        \"semantic_type\": \"\",\n        \"description\": \"\"\n      }\n    },\n    {\n      \"column\": \"ill_answer\",\n      \"properties\": {\n        \"dtype\": \"category\",\n        \"num_unique_values\": 11,\n        \"samples\": [\n          \"illusion digit 0\"\n        ],\n        \"semantic_type\": \"\",\n        \"description\": \"\"\n      }\n    },\n    {\n      \"column\": \"illless_answer\",\n      \"properties\": {\n        \"dtype\": \"category\",\n        \"num_unique_values\": 9,\n        \"samples\": [\n          \"illusion digit 1\"\n        ],\n        \"semantic_type\": \"\",\n        \"description\": \"\"\n      }\n    },\n    {\n      \"column\": \"ill_filter_answer\",\n      \"properties\": {\n        \"dtype\": \"category\",\n        \"num_unique_values\": 11,\n        \"samples\": [\n          \"illusion digit 6\"\n        ],\n        \"semantic_type\": \"\",\n        \"description\": \"\"\n      }\n    },\n    {\n      \"column\": \"illless_filter_answer\",\n      \"properties\": {\n        \"dtype\": \"category\",\n        \"num_unique_values\": 9,\n        \"samples\": [\n          \"illusion digit 8\"\n        ],\n        \"semantic_type\": \"\",\n        \"description\": \"\"\n      }\n    }\n  ]\n}"
            }
          },
          "metadata": {},
          "execution_count": 2
        }
      ]
    },
    {
      "cell_type": "code",
      "execution_count": 3,
      "metadata": {
        "colab": {
          "base_uri": "https://localhost:8080/"
        },
        "id": "n9gfdgeo22Ek",
        "outputId": "2cade615-0c8b-4c1a-9626-7703273d20e7"
      },
      "outputs": [
        {
          "output_type": "stream",
          "name": "stdout",
          "text": [
            "env: CUBLAS_WORKSPACE_CONFIG=:4096:8\n"
          ]
        }
      ],
      "source": [
        "import torch\n",
        "import numpy as np\n",
        "import random\n",
        "\n",
        "# Make reproducible code\n",
        "GLOBAL_SEED = 10\n",
        "\n",
        "np.random.seed(GLOBAL_SEED)\n",
        "random.seed(GLOBAL_SEED)\n",
        "torch.manual_seed(GLOBAL_SEED)\n",
        "torch.use_deterministic_algorithms(True)\n",
        "%env CUBLAS_WORKSPACE_CONFIG=:4096:8\n",
        "\n",
        "torch.backends.cudnn.deterministic = True\n",
        "torch.backends.cudnn.benchmark = False\n",
        "\n",
        "illusionless_indexes = random.sample(range(len(df)), int(len(df)*0.1))"
      ]
    },
    {
      "cell_type": "markdown",
      "source": [
        "# **Raw**"
      ],
      "metadata": {
        "id": "90YrfOWRRvsz"
      }
    },
    {
      "cell_type": "code",
      "source": [
        "y_true = []\n",
        "y_pred = []"
      ],
      "metadata": {
        "id": "fO_H40hPZ-p1"
      },
      "execution_count": 4,
      "outputs": []
    },
    {
      "cell_type": "code",
      "source": [
        "y_true = df['label'].apply(lambda x: str(x)).tolist()\n",
        "y_pred = df[f'raw_answer'].apply(lambda x: x.strip().lower()).tolist()"
      ],
      "metadata": {
        "id": "39oDyub15T4_"
      },
      "execution_count": 5,
      "outputs": []
    },
    {
      "cell_type": "code",
      "source": [
        "y_pred_ = [item.split()[1] for item in y_pred]"
      ],
      "metadata": {
        "id": "vZT-2vEfRZ80"
      },
      "execution_count": 6,
      "outputs": []
    },
    {
      "cell_type": "code",
      "source": [
        "accuracy = accuracy_score(y_true, y_pred_)\n",
        "precision = precision_score(y_true, y_pred_, average='macro')\n",
        "recall = recall_score(y_true, y_pred_, average='macro')\n",
        "f1 = f1_score(y_true, y_pred_, average='macro')\n",
        "\n",
        "print(\"Accuracy:\", round(accuracy, 4))\n",
        "print(\"Precision:\", round(precision, 4))\n",
        "print(\"Recall:\", round(recall, 4))\n",
        "print(\"F1 score:\", round(f1, 4))"
      ],
      "metadata": {
        "colab": {
          "base_uri": "https://localhost:8080/"
        },
        "id": "92R3HiXiNubV",
        "outputId": "054eda7f-0886-4ebd-d44d-cb4f1dfd657f"
      },
      "execution_count": 7,
      "outputs": [
        {
          "output_type": "stream",
          "name": "stdout",
          "text": [
            "Accuracy: 0.2597\n",
            "Precision: 0.2801\n",
            "Recall: 0.277\n",
            "F1 score: 0.2014\n"
          ]
        },
        {
          "output_type": "stream",
          "name": "stderr",
          "text": [
            "/usr/local/lib/python3.10/dist-packages/sklearn/metrics/_classification.py:1531: UndefinedMetricWarning: Precision is ill-defined and being set to 0.0 in labels with no predicted samples. Use `zero_division` parameter to control this behavior.\n",
            "  _warn_prf(average, modifier, f\"{metric.capitalize()} is\", len(result))\n"
          ]
        }
      ]
    },
    {
      "cell_type": "markdown",
      "source": [
        "# **Illusion**"
      ],
      "metadata": {
        "id": "8gcRREahRzQR"
      }
    },
    {
      "cell_type": "code",
      "source": [
        "y_true = []\n",
        "y_pred = []"
      ],
      "metadata": {
        "id": "GPrwtNV6ZNyO"
      },
      "execution_count": 8,
      "outputs": []
    },
    {
      "cell_type": "code",
      "source": [
        "y_pred_illless = [df.at[row, 'illless_answer'].split()[-1] for row in illusionless_indexes]\n",
        "y_true_illless = ['digit' for i in range(len(y_pred_illless))]"
      ],
      "metadata": {
        "id": "OKGm-Jb_SyrF"
      },
      "execution_count": 9,
      "outputs": []
    },
    {
      "cell_type": "code",
      "source": [
        "y_true_ill = df['label'].apply(lambda x: str(x)).tolist()\n",
        "y_pred_ill = df[f'ill_answer'].apply(lambda x: x.strip().lower().split()[-1]).tolist()"
      ],
      "metadata": {
        "id": "Zt-UvjP4Twzl"
      },
      "execution_count": 10,
      "outputs": []
    },
    {
      "cell_type": "code",
      "source": [
        "y_true = y_true_ill + y_true_illless\n",
        "y_pred = y_pred_ill + y_pred_illless"
      ],
      "metadata": {
        "id": "WDHj9BX1XI7k"
      },
      "execution_count": 11,
      "outputs": []
    },
    {
      "cell_type": "code",
      "source": [
        "accuracy = accuracy_score(y_true, y_pred)\n",
        "precision = precision_score(y_true, y_pred, average='macro')\n",
        "recall = recall_score(y_true, y_pred, average='macro')\n",
        "f1 = f1_score(y_true, y_pred, average='macro')\n",
        "\n",
        "print(\"Accuracy:\", round(accuracy, 4))\n",
        "print(\"Precision:\", round(precision, 4))\n",
        "print(\"Recall:\", round(recall, 4))\n",
        "print(\"F1 score:\", round(f1, 4))"
      ],
      "metadata": {
        "colab": {
          "base_uri": "https://localhost:8080/"
        },
        "id": "dMPvG3_yXao2",
        "outputId": "d579a042-8908-4cd3-9c19-cd6f4a1f7460"
      },
      "execution_count": 12,
      "outputs": [
        {
          "output_type": "stream",
          "name": "stdout",
          "text": [
            "Accuracy: 0.1526\n",
            "Precision: 0.1807\n",
            "Recall: 0.1532\n",
            "F1 score: 0.1302\n"
          ]
        }
      ]
    },
    {
      "cell_type": "markdown",
      "source": [
        "# **Filtered**"
      ],
      "metadata": {
        "id": "3HiUto9JZ0xp"
      }
    },
    {
      "cell_type": "code",
      "source": [
        "y_true = []\n",
        "y_pred = []"
      ],
      "metadata": {
        "id": "RPIOwYV1Z34O"
      },
      "execution_count": 13,
      "outputs": []
    },
    {
      "cell_type": "code",
      "source": [
        "y_pred_illless = [df.at[row, 'illless_filter_answer'].split()[-1] for row in illusionless_indexes]\n",
        "y_true_illless = ['digit' for i in range(len(y_pred_illless))]"
      ],
      "metadata": {
        "id": "hXTDj76iaG33"
      },
      "execution_count": 14,
      "outputs": []
    },
    {
      "cell_type": "code",
      "source": [
        "y_true_ill = df['label'].apply(lambda x: str(x)).tolist()\n",
        "y_pred_ill = df[f'ill_filter_answer'].apply(lambda x: x.strip().lower().split()[-1]).tolist()"
      ],
      "metadata": {
        "id": "Hc67QolyaWRo"
      },
      "execution_count": 15,
      "outputs": []
    },
    {
      "cell_type": "code",
      "source": [
        "y_true = y_true_ill + y_true_illless\n",
        "y_pred = y_pred_ill + y_pred_illless"
      ],
      "metadata": {
        "id": "4EHE3Y2daXhw"
      },
      "execution_count": 16,
      "outputs": []
    },
    {
      "cell_type": "code",
      "source": [
        "accuracy = accuracy_score(y_true, y_pred)\n",
        "precision = precision_score(y_true, y_pred, average='macro')\n",
        "recall = recall_score(y_true, y_pred, average='macro')\n",
        "f1 = f1_score(y_true, y_pred, average='macro')\n",
        "\n",
        "print(\"Accuracy:\", round(accuracy, 4))\n",
        "print(\"Precision:\", round(precision, 4))\n",
        "print(\"Recall:\", round(recall, 4))\n",
        "print(\"F1 score:\", round(f1, 4))"
      ],
      "metadata": {
        "colab": {
          "base_uri": "https://localhost:8080/"
        },
        "id": "IPztOVyraY_I",
        "outputId": "8b57965e-acf5-4a6e-ea80-b316d1181985"
      },
      "execution_count": 17,
      "outputs": [
        {
          "output_type": "stream",
          "name": "stdout",
          "text": [
            "Accuracy: 0.2116\n",
            "Precision: 0.2117\n",
            "Recall: 0.2163\n",
            "F1 score: 0.1893\n"
          ]
        }
      ]
    }
  ]
}