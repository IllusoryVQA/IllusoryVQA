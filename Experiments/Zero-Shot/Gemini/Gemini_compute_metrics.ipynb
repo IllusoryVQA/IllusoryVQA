{
  "nbformat": 4,
  "nbformat_minor": 0,
  "metadata": {
    "colab": {
      "provenance": []
    },
    "kernelspec": {
      "name": "python3",
      "display_name": "Python 3"
    },
    "language_info": {
      "name": "python"
    }
  },
  "cells": [
    {
      "cell_type": "markdown",
      "source": [
        "# Mnist"
      ],
      "metadata": {
        "id": "oOeCcgjuECqN"
      }
    },
    {
      "cell_type": "code",
      "execution_count": null,
      "metadata": {
        "id": "VsWc1Y-JdlHX"
      },
      "outputs": [],
      "source": [
        "from sklearn.metrics import accuracy_score, precision_score, recall_score, f1_score\n",
        "import pandas as pd\n",
        "dataset = 'Mnist'\n",
        "# dataset = 'IllusionAnimals'\n",
        "\n",
        "df = pd.read_csv(f'Gemini_{dataset}_results.csv')"
      ]
    },
    {
      "cell_type": "code",
      "source": [
        "df"
      ],
      "metadata": {
        "colab": {
          "base_uri": "https://localhost:8080/",
          "height": 1000
        },
        "id": "M-KbtFqDfeRD",
        "outputId": "e7c50bba-8cd4-4acf-8a61-ddec6f86ea65"
      },
      "execution_count": null,
      "outputs": [
        {
          "output_type": "execute_result",
          "data": {
            "text/plain": [
              "      image_name                                            Pprompt  \\\n",
              "0        Mnist_1  A field of blooming sunflowers swaying in the ...   \n",
              "1        Mnist_2  A peaceful countryside scene with grazing shee...   \n",
              "2        Mnist_3  A tranquil pond with lily pads floating on the...   \n",
              "3        Mnist_4          A sunny vineyard with rows of ripe grapes   \n",
              "4        Mnist_5  A picturesque vineyard at sunset with the sky ...   \n",
              "...          ...                                                ...   \n",
              "1104  Mnist_1105  Misty jungle surrounded by vibrant flowers and...   \n",
              "1105  Mnist_1106                     A forest with blooming flowers   \n",
              "1106  Mnist_1107  Desolate desert landscape, shifting sands illu...   \n",
              "1107  Mnist_1108  A vast desert with a towering canyon in the di...   \n",
              "1108  Mnist_1109  A steampunk world powered by gears and clockworks   \n",
              "\n",
              "          Nprompt  illusion_strength  label      ill_images  \\\n",
              "0     low quality                1.5      7       'digit 3'   \n",
              "1     low quality                1.5      2   'No illusion'   \n",
              "2     low quality                1.5      1   'No illusion'   \n",
              "3     low quality                1.5      0   'No illusion'   \n",
              "4     low quality                1.5      4   'No illusion'   \n",
              "...           ...                ...    ...             ...   \n",
              "1104  low quality                1.5      8   'No illusion'   \n",
              "1105  low quality                1.5      0   'No illusion'   \n",
              "1106  low quality                1.5      5   'No illusion'   \n",
              "1107  low quality                1.5      0   'No illusion'   \n",
              "1108  low quality                1.5      9   'No illusion'   \n",
              "\n",
              "     illusion_images_filtered illusionless_images  \\\n",
              "0                   'digit 7'       'No illusion'   \n",
              "1                   'digit 2'       'No illusion'   \n",
              "2                   'digit 7'       'No illusion'   \n",
              "3                   'digit 8'       'No illusion'   \n",
              "4                   'digit 4'       'No illusion'   \n",
              "...                       ...                 ...   \n",
              "1104                'digit 9'       'No illusion'   \n",
              "1105                'digit 0'       'No illusion'   \n",
              "1106                'digit 5'       'No illusion'   \n",
              "1107            'No illusion'       'No illusion'   \n",
              "1108                'digit 9'       'No illusion'   \n",
              "\n",
              "     illusionless_images_filtered                        raw_images  \n",
              "0                   'No illusion'                         'digit 7'  \n",
              "1                   'No illusion'   The correct class is 'digit 2'.  \n",
              "2                   'No illusion'                         'digit 1'  \n",
              "3                   'No illusion'   The correct class is 'digit 0'.  \n",
              "4                   'No illusion'                         'digit 4'  \n",
              "...                           ...                               ...  \n",
              "1104                'No illusion'                         'digit 9'  \n",
              "1105                'No illusion'   The correct class is 'digit 0'.  \n",
              "1106                'No illusion'                         'digit 5'  \n",
              "1107                'No illusion'   The correct class is 'digit 0'.  \n",
              "1108                'No illusion'                         'digit 9'  \n",
              "\n",
              "[1109 rows x 10 columns]"
            ],
            "text/html": [
              "\n",
              "  <div id=\"df-51a5368a-1027-48ef-9df2-3c631583c376\" class=\"colab-df-container\">\n",
              "    <div>\n",
              "<style scoped>\n",
              "    .dataframe tbody tr th:only-of-type {\n",
              "        vertical-align: middle;\n",
              "    }\n",
              "\n",
              "    .dataframe tbody tr th {\n",
              "        vertical-align: top;\n",
              "    }\n",
              "\n",
              "    .dataframe thead th {\n",
              "        text-align: right;\n",
              "    }\n",
              "</style>\n",
              "<table border=\"1\" class=\"dataframe\">\n",
              "  <thead>\n",
              "    <tr style=\"text-align: right;\">\n",
              "      <th></th>\n",
              "      <th>image_name</th>\n",
              "      <th>Pprompt</th>\n",
              "      <th>Nprompt</th>\n",
              "      <th>illusion_strength</th>\n",
              "      <th>label</th>\n",
              "      <th>ill_images</th>\n",
              "      <th>illusion_images_filtered</th>\n",
              "      <th>illusionless_images</th>\n",
              "      <th>illusionless_images_filtered</th>\n",
              "      <th>raw_images</th>\n",
              "    </tr>\n",
              "  </thead>\n",
              "  <tbody>\n",
              "    <tr>\n",
              "      <th>0</th>\n",
              "      <td>Mnist_1</td>\n",
              "      <td>A field of blooming sunflowers swaying in the ...</td>\n",
              "      <td>low quality</td>\n",
              "      <td>1.5</td>\n",
              "      <td>7</td>\n",
              "      <td>'digit 3'</td>\n",
              "      <td>'digit 7'</td>\n",
              "      <td>'No illusion'</td>\n",
              "      <td>'No illusion'</td>\n",
              "      <td>'digit 7'</td>\n",
              "    </tr>\n",
              "    <tr>\n",
              "      <th>1</th>\n",
              "      <td>Mnist_2</td>\n",
              "      <td>A peaceful countryside scene with grazing shee...</td>\n",
              "      <td>low quality</td>\n",
              "      <td>1.5</td>\n",
              "      <td>2</td>\n",
              "      <td>'No illusion'</td>\n",
              "      <td>'digit 2'</td>\n",
              "      <td>'No illusion'</td>\n",
              "      <td>'No illusion'</td>\n",
              "      <td>The correct class is 'digit 2'.</td>\n",
              "    </tr>\n",
              "    <tr>\n",
              "      <th>2</th>\n",
              "      <td>Mnist_3</td>\n",
              "      <td>A tranquil pond with lily pads floating on the...</td>\n",
              "      <td>low quality</td>\n",
              "      <td>1.5</td>\n",
              "      <td>1</td>\n",
              "      <td>'No illusion'</td>\n",
              "      <td>'digit 7'</td>\n",
              "      <td>'No illusion'</td>\n",
              "      <td>'No illusion'</td>\n",
              "      <td>'digit 1'</td>\n",
              "    </tr>\n",
              "    <tr>\n",
              "      <th>3</th>\n",
              "      <td>Mnist_4</td>\n",
              "      <td>A sunny vineyard with rows of ripe grapes</td>\n",
              "      <td>low quality</td>\n",
              "      <td>1.5</td>\n",
              "      <td>0</td>\n",
              "      <td>'No illusion'</td>\n",
              "      <td>'digit 8'</td>\n",
              "      <td>'No illusion'</td>\n",
              "      <td>'No illusion'</td>\n",
              "      <td>The correct class is 'digit 0'.</td>\n",
              "    </tr>\n",
              "    <tr>\n",
              "      <th>4</th>\n",
              "      <td>Mnist_5</td>\n",
              "      <td>A picturesque vineyard at sunset with the sky ...</td>\n",
              "      <td>low quality</td>\n",
              "      <td>1.5</td>\n",
              "      <td>4</td>\n",
              "      <td>'No illusion'</td>\n",
              "      <td>'digit 4'</td>\n",
              "      <td>'No illusion'</td>\n",
              "      <td>'No illusion'</td>\n",
              "      <td>'digit 4'</td>\n",
              "    </tr>\n",
              "    <tr>\n",
              "      <th>...</th>\n",
              "      <td>...</td>\n",
              "      <td>...</td>\n",
              "      <td>...</td>\n",
              "      <td>...</td>\n",
              "      <td>...</td>\n",
              "      <td>...</td>\n",
              "      <td>...</td>\n",
              "      <td>...</td>\n",
              "      <td>...</td>\n",
              "      <td>...</td>\n",
              "    </tr>\n",
              "    <tr>\n",
              "      <th>1104</th>\n",
              "      <td>Mnist_1105</td>\n",
              "      <td>Misty jungle surrounded by vibrant flowers and...</td>\n",
              "      <td>low quality</td>\n",
              "      <td>1.5</td>\n",
              "      <td>8</td>\n",
              "      <td>'No illusion'</td>\n",
              "      <td>'digit 9'</td>\n",
              "      <td>'No illusion'</td>\n",
              "      <td>'No illusion'</td>\n",
              "      <td>'digit 9'</td>\n",
              "    </tr>\n",
              "    <tr>\n",
              "      <th>1105</th>\n",
              "      <td>Mnist_1106</td>\n",
              "      <td>A forest with blooming flowers</td>\n",
              "      <td>low quality</td>\n",
              "      <td>1.5</td>\n",
              "      <td>0</td>\n",
              "      <td>'No illusion'</td>\n",
              "      <td>'digit 0'</td>\n",
              "      <td>'No illusion'</td>\n",
              "      <td>'No illusion'</td>\n",
              "      <td>The correct class is 'digit 0'.</td>\n",
              "    </tr>\n",
              "    <tr>\n",
              "      <th>1106</th>\n",
              "      <td>Mnist_1107</td>\n",
              "      <td>Desolate desert landscape, shifting sands illu...</td>\n",
              "      <td>low quality</td>\n",
              "      <td>1.5</td>\n",
              "      <td>5</td>\n",
              "      <td>'No illusion'</td>\n",
              "      <td>'digit 5'</td>\n",
              "      <td>'No illusion'</td>\n",
              "      <td>'No illusion'</td>\n",
              "      <td>'digit 5'</td>\n",
              "    </tr>\n",
              "    <tr>\n",
              "      <th>1107</th>\n",
              "      <td>Mnist_1108</td>\n",
              "      <td>A vast desert with a towering canyon in the di...</td>\n",
              "      <td>low quality</td>\n",
              "      <td>1.5</td>\n",
              "      <td>0</td>\n",
              "      <td>'No illusion'</td>\n",
              "      <td>'No illusion'</td>\n",
              "      <td>'No illusion'</td>\n",
              "      <td>'No illusion'</td>\n",
              "      <td>The correct class is 'digit 0'.</td>\n",
              "    </tr>\n",
              "    <tr>\n",
              "      <th>1108</th>\n",
              "      <td>Mnist_1109</td>\n",
              "      <td>A steampunk world powered by gears and clockworks</td>\n",
              "      <td>low quality</td>\n",
              "      <td>1.5</td>\n",
              "      <td>9</td>\n",
              "      <td>'No illusion'</td>\n",
              "      <td>'digit 9'</td>\n",
              "      <td>'No illusion'</td>\n",
              "      <td>'No illusion'</td>\n",
              "      <td>'digit 9'</td>\n",
              "    </tr>\n",
              "  </tbody>\n",
              "</table>\n",
              "<p>1109 rows × 10 columns</p>\n",
              "</div>\n",
              "    <div class=\"colab-df-buttons\">\n",
              "\n",
              "  <div class=\"colab-df-container\">\n",
              "    <button class=\"colab-df-convert\" onclick=\"convertToInteractive('df-51a5368a-1027-48ef-9df2-3c631583c376')\"\n",
              "            title=\"Convert this dataframe to an interactive table.\"\n",
              "            style=\"display:none;\">\n",
              "\n",
              "  <svg xmlns=\"http://www.w3.org/2000/svg\" height=\"24px\" viewBox=\"0 -960 960 960\">\n",
              "    <path d=\"M120-120v-720h720v720H120Zm60-500h600v-160H180v160Zm220 220h160v-160H400v160Zm0 220h160v-160H400v160ZM180-400h160v-160H180v160Zm440 0h160v-160H620v160ZM180-180h160v-160H180v160Zm440 0h160v-160H620v160Z\"/>\n",
              "  </svg>\n",
              "    </button>\n",
              "\n",
              "  <style>\n",
              "    .colab-df-container {\n",
              "      display:flex;\n",
              "      gap: 12px;\n",
              "    }\n",
              "\n",
              "    .colab-df-convert {\n",
              "      background-color: #E8F0FE;\n",
              "      border: none;\n",
              "      border-radius: 50%;\n",
              "      cursor: pointer;\n",
              "      display: none;\n",
              "      fill: #1967D2;\n",
              "      height: 32px;\n",
              "      padding: 0 0 0 0;\n",
              "      width: 32px;\n",
              "    }\n",
              "\n",
              "    .colab-df-convert:hover {\n",
              "      background-color: #E2EBFA;\n",
              "      box-shadow: 0px 1px 2px rgba(60, 64, 67, 0.3), 0px 1px 3px 1px rgba(60, 64, 67, 0.15);\n",
              "      fill: #174EA6;\n",
              "    }\n",
              "\n",
              "    .colab-df-buttons div {\n",
              "      margin-bottom: 4px;\n",
              "    }\n",
              "\n",
              "    [theme=dark] .colab-df-convert {\n",
              "      background-color: #3B4455;\n",
              "      fill: #D2E3FC;\n",
              "    }\n",
              "\n",
              "    [theme=dark] .colab-df-convert:hover {\n",
              "      background-color: #434B5C;\n",
              "      box-shadow: 0px 1px 3px 1px rgba(0, 0, 0, 0.15);\n",
              "      filter: drop-shadow(0px 1px 2px rgba(0, 0, 0, 0.3));\n",
              "      fill: #FFFFFF;\n",
              "    }\n",
              "  </style>\n",
              "\n",
              "    <script>\n",
              "      const buttonEl =\n",
              "        document.querySelector('#df-51a5368a-1027-48ef-9df2-3c631583c376 button.colab-df-convert');\n",
              "      buttonEl.style.display =\n",
              "        google.colab.kernel.accessAllowed ? 'block' : 'none';\n",
              "\n",
              "      async function convertToInteractive(key) {\n",
              "        const element = document.querySelector('#df-51a5368a-1027-48ef-9df2-3c631583c376');\n",
              "        const dataTable =\n",
              "          await google.colab.kernel.invokeFunction('convertToInteractive',\n",
              "                                                    [key], {});\n",
              "        if (!dataTable) return;\n",
              "\n",
              "        const docLinkHtml = 'Like what you see? Visit the ' +\n",
              "          '<a target=\"_blank\" href=https://colab.research.google.com/notebooks/data_table.ipynb>data table notebook</a>'\n",
              "          + ' to learn more about interactive tables.';\n",
              "        element.innerHTML = '';\n",
              "        dataTable['output_type'] = 'display_data';\n",
              "        await google.colab.output.renderOutput(dataTable, element);\n",
              "        const docLink = document.createElement('div');\n",
              "        docLink.innerHTML = docLinkHtml;\n",
              "        element.appendChild(docLink);\n",
              "      }\n",
              "    </script>\n",
              "  </div>\n",
              "\n",
              "\n",
              "<div id=\"df-9b094cfa-8869-4ec6-96a3-239887e2f921\">\n",
              "  <button class=\"colab-df-quickchart\" onclick=\"quickchart('df-9b094cfa-8869-4ec6-96a3-239887e2f921')\"\n",
              "            title=\"Suggest charts\"\n",
              "            style=\"display:none;\">\n",
              "\n",
              "<svg xmlns=\"http://www.w3.org/2000/svg\" height=\"24px\"viewBox=\"0 0 24 24\"\n",
              "     width=\"24px\">\n",
              "    <g>\n",
              "        <path d=\"M19 3H5c-1.1 0-2 .9-2 2v14c0 1.1.9 2 2 2h14c1.1 0 2-.9 2-2V5c0-1.1-.9-2-2-2zM9 17H7v-7h2v7zm4 0h-2V7h2v10zm4 0h-2v-4h2v4z\"/>\n",
              "    </g>\n",
              "</svg>\n",
              "  </button>\n",
              "\n",
              "<style>\n",
              "  .colab-df-quickchart {\n",
              "      --bg-color: #E8F0FE;\n",
              "      --fill-color: #1967D2;\n",
              "      --hover-bg-color: #E2EBFA;\n",
              "      --hover-fill-color: #174EA6;\n",
              "      --disabled-fill-color: #AAA;\n",
              "      --disabled-bg-color: #DDD;\n",
              "  }\n",
              "\n",
              "  [theme=dark] .colab-df-quickchart {\n",
              "      --bg-color: #3B4455;\n",
              "      --fill-color: #D2E3FC;\n",
              "      --hover-bg-color: #434B5C;\n",
              "      --hover-fill-color: #FFFFFF;\n",
              "      --disabled-bg-color: #3B4455;\n",
              "      --disabled-fill-color: #666;\n",
              "  }\n",
              "\n",
              "  .colab-df-quickchart {\n",
              "    background-color: var(--bg-color);\n",
              "    border: none;\n",
              "    border-radius: 50%;\n",
              "    cursor: pointer;\n",
              "    display: none;\n",
              "    fill: var(--fill-color);\n",
              "    height: 32px;\n",
              "    padding: 0;\n",
              "    width: 32px;\n",
              "  }\n",
              "\n",
              "  .colab-df-quickchart:hover {\n",
              "    background-color: var(--hover-bg-color);\n",
              "    box-shadow: 0 1px 2px rgba(60, 64, 67, 0.3), 0 1px 3px 1px rgba(60, 64, 67, 0.15);\n",
              "    fill: var(--button-hover-fill-color);\n",
              "  }\n",
              "\n",
              "  .colab-df-quickchart-complete:disabled,\n",
              "  .colab-df-quickchart-complete:disabled:hover {\n",
              "    background-color: var(--disabled-bg-color);\n",
              "    fill: var(--disabled-fill-color);\n",
              "    box-shadow: none;\n",
              "  }\n",
              "\n",
              "  .colab-df-spinner {\n",
              "    border: 2px solid var(--fill-color);\n",
              "    border-color: transparent;\n",
              "    border-bottom-color: var(--fill-color);\n",
              "    animation:\n",
              "      spin 1s steps(1) infinite;\n",
              "  }\n",
              "\n",
              "  @keyframes spin {\n",
              "    0% {\n",
              "      border-color: transparent;\n",
              "      border-bottom-color: var(--fill-color);\n",
              "      border-left-color: var(--fill-color);\n",
              "    }\n",
              "    20% {\n",
              "      border-color: transparent;\n",
              "      border-left-color: var(--fill-color);\n",
              "      border-top-color: var(--fill-color);\n",
              "    }\n",
              "    30% {\n",
              "      border-color: transparent;\n",
              "      border-left-color: var(--fill-color);\n",
              "      border-top-color: var(--fill-color);\n",
              "      border-right-color: var(--fill-color);\n",
              "    }\n",
              "    40% {\n",
              "      border-color: transparent;\n",
              "      border-right-color: var(--fill-color);\n",
              "      border-top-color: var(--fill-color);\n",
              "    }\n",
              "    60% {\n",
              "      border-color: transparent;\n",
              "      border-right-color: var(--fill-color);\n",
              "    }\n",
              "    80% {\n",
              "      border-color: transparent;\n",
              "      border-right-color: var(--fill-color);\n",
              "      border-bottom-color: var(--fill-color);\n",
              "    }\n",
              "    90% {\n",
              "      border-color: transparent;\n",
              "      border-bottom-color: var(--fill-color);\n",
              "    }\n",
              "  }\n",
              "</style>\n",
              "\n",
              "  <script>\n",
              "    async function quickchart(key) {\n",
              "      const quickchartButtonEl =\n",
              "        document.querySelector('#' + key + ' button');\n",
              "      quickchartButtonEl.disabled = true;  // To prevent multiple clicks.\n",
              "      quickchartButtonEl.classList.add('colab-df-spinner');\n",
              "      try {\n",
              "        const charts = await google.colab.kernel.invokeFunction(\n",
              "            'suggestCharts', [key], {});\n",
              "      } catch (error) {\n",
              "        console.error('Error during call to suggestCharts:', error);\n",
              "      }\n",
              "      quickchartButtonEl.classList.remove('colab-df-spinner');\n",
              "      quickchartButtonEl.classList.add('colab-df-quickchart-complete');\n",
              "    }\n",
              "    (() => {\n",
              "      let quickchartButtonEl =\n",
              "        document.querySelector('#df-9b094cfa-8869-4ec6-96a3-239887e2f921 button');\n",
              "      quickchartButtonEl.style.display =\n",
              "        google.colab.kernel.accessAllowed ? 'block' : 'none';\n",
              "    })();\n",
              "  </script>\n",
              "</div>\n",
              "    </div>\n",
              "  </div>\n"
            ],
            "application/vnd.google.colaboratory.intrinsic+json": {
              "type": "dataframe",
              "variable_name": "df",
              "summary": "{\n  \"name\": \"df\",\n  \"rows\": 1109,\n  \"fields\": [\n    {\n      \"column\": \"image_name\",\n      \"properties\": {\n        \"dtype\": \"string\",\n        \"num_unique_values\": 1109,\n        \"samples\": [\n          \"Mnist_884\",\n          \"Mnist_343\",\n          \"Mnist_57\"\n        ],\n        \"semantic_type\": \"\",\n        \"description\": \"\"\n      }\n    },\n    {\n      \"column\": \"Pprompt\",\n      \"properties\": {\n        \"dtype\": \"string\",\n        \"num_unique_values\": 675,\n        \"samples\": [\n          \"Sunbeams filter through forest canopy, river winds through valleys, birds chirp merrily\",\n          \"A sunny meadow with purple flowers and green grass\",\n          \"Misty jungle surrounded by vibrant flowers and tall palm trees\"\n        ],\n        \"semantic_type\": \"\",\n        \"description\": \"\"\n      }\n    },\n    {\n      \"column\": \"Nprompt\",\n      \"properties\": {\n        \"dtype\": \"category\",\n        \"num_unique_values\": 1,\n        \"samples\": [\n          \"low quality\"\n        ],\n        \"semantic_type\": \"\",\n        \"description\": \"\"\n      }\n    },\n    {\n      \"column\": \"illusion_strength\",\n      \"properties\": {\n        \"dtype\": \"number\",\n        \"std\": 0.0,\n        \"min\": 1.5,\n        \"max\": 1.5,\n        \"num_unique_values\": 1,\n        \"samples\": [\n          1.5\n        ],\n        \"semantic_type\": \"\",\n        \"description\": \"\"\n      }\n    },\n    {\n      \"column\": \"label\",\n      \"properties\": {\n        \"dtype\": \"number\",\n        \"std\": 2,\n        \"min\": 0,\n        \"max\": 9,\n        \"num_unique_values\": 10,\n        \"samples\": [\n          3\n        ],\n        \"semantic_type\": \"\",\n        \"description\": \"\"\n      }\n    },\n    {\n      \"column\": \"ill_images\",\n      \"properties\": {\n        \"dtype\": \"category\",\n        \"num_unique_values\": 17,\n        \"samples\": [\n          \" 'digit 3'\"\n        ],\n        \"semantic_type\": \"\",\n        \"description\": \"\"\n      }\n    },\n    {\n      \"column\": \"illusion_images_filtered\",\n      \"properties\": {\n        \"dtype\": \"category\",\n        \"num_unique_values\": 14,\n        \"samples\": [\n          \" 'digit 5'\"\n        ],\n        \"semantic_type\": \"\",\n        \"description\": \"\"\n      }\n    },\n    {\n      \"column\": \"illusionless_images\",\n      \"properties\": {\n        \"dtype\": \"category\",\n        \"num_unique_values\": 4,\n        \"samples\": [\n          \" No illusion\"\n        ],\n        \"semantic_type\": \"\",\n        \"description\": \"\"\n      }\n    },\n    {\n      \"column\": \"illusionless_images_filtered\",\n      \"properties\": {\n        \"dtype\": \"category\",\n        \"num_unique_values\": 7,\n        \"samples\": [\n          \" 'No illusion'\"\n        ],\n        \"semantic_type\": \"\",\n        \"description\": \"\"\n      }\n    },\n    {\n      \"column\": \"raw_images\",\n      \"properties\": {\n        \"dtype\": \"category\",\n        \"num_unique_values\": 42,\n        \"samples\": [\n          \" The class of the picture is 'digit 3'.\"\n        ],\n        \"semantic_type\": \"\",\n        \"description\": \"\"\n      }\n    }\n  ]\n}"
            }
          },
          "metadata": {},
          "execution_count": 16
        }
      ]
    },
    {
      "cell_type": "code",
      "source": [
        "raw_classes = {\n",
        "    'FashionMnist': ['T-shirt/top', 'Trouser', 'Pullover', 'Dress', 'Coat', 'Sandal', 'Shirt', 'Sneaker', 'Bag', 'Ankle boot'],\n",
        "    'Mnist': ['digit 0', 'digit 1', 'digit 2', 'digit 3', 'digit 4', 'digit 5', 'digit 6', 'digit 7', 'digit 8', 'digit 9'],\n",
        "    'IllusionAnimals': ['cat', 'dog', 'pigeon', 'butterfly', 'elephant', 'horse', 'deer', 'snake', 'fish', 'rooster' ],\n",
        "}\n",
        "\n",
        "classes = {\n",
        "    'FashionMnist': ['T-shirt/top', 'Trouser', 'Pullover', 'Dress', 'Coat', 'Sandal', 'Shirt', 'Sneaker', 'Bag', 'Ankle boot', 'No illusion'],\n",
        "    'Mnist': ['digit 0', 'digit 1', 'digit 2', 'digit 3', 'digit 4', 'digit 5', 'digit 6', 'digit 7', 'digit 8', 'digit 9', 'No illusion'],\n",
        "    'IllusionAnimals': ['cat', 'dog', 'pigeon', 'butterfly', 'elephant', 'horse', 'deer', 'snake', 'fish', 'rooster', 'No illusion' ],\n",
        "}\n",
        "\n",
        "# assert {item.strip().lower() for item in df[f'LLaVa_{dataset}_ill_images'].unique()}.issubset({item.strip().lower() for item in classes[dataset]})\n",
        "# assert {item.strip().lower() for item in df[f'LLaVa_{dataset}_illusion_images_filtered'].unique()}.issubset({item.strip().lower() for item in classes[dataset]})\n",
        "# assert {item.strip().lower() for item in df[f'LLaVa_{dataset}_illusionless_images'].unique()}.issubset({item.strip().lower() for item in classes[dataset]})\n",
        "# assert {item.strip().lower() for item in df[f'LLaVa_{dataset}_illusionless_images_filtered'].unique()}.issubset({item.strip().lower() for item in classes[dataset]})\n",
        "# assert {item.strip().lower() for item in df[f'LLaVa_{dataset}_raw_images'].unique()}.issubset({item.strip().lower() for item in raw_classes[dataset]})"
      ],
      "metadata": {
        "id": "9OQ9pwW9gfXb"
      },
      "execution_count": null,
      "outputs": []
    },
    {
      "cell_type": "code",
      "source": [
        "{item.strip().replace('\\'', '').lower() for item in df[f'raw_images'].unique()}"
      ],
      "metadata": {
        "colab": {
          "base_uri": "https://localhost:8080/"
        },
        "id": "ypae7je4l3_z",
        "outputId": "a6366981-8ebb-4705-afc4-5f8bed26f89f"
      },
      "execution_count": null,
      "outputs": [
        {
          "output_type": "execute_result",
          "data": {
            "text/plain": [
              "{'capital letter z',\n",
              " 'digit 0',\n",
              " 'digit 1',\n",
              " 'digit 2',\n",
              " 'digit 3',\n",
              " 'digit 4',\n",
              " 'digit 5',\n",
              " 'digit 6',\n",
              " 'digit 7',\n",
              " 'digit 8',\n",
              " 'digit 9',\n",
              " 'letter s',\n",
              " 'the class of the object in the picture is digit 1.',\n",
              " 'the class of the object in the picture is digit 7.',\n",
              " 'the class of the picture is digit 0.',\n",
              " 'the class of the picture is digit 1.',\n",
              " 'the class of the picture is digit 2.',\n",
              " 'the class of the picture is digit 3.',\n",
              " 'the class of the picture is digit 4.',\n",
              " 'the class of the picture is digit 5.',\n",
              " 'the class of the picture is digit 6.',\n",
              " 'the class of the picture is digit 7.',\n",
              " 'the class of the picture is digit 9.',\n",
              " 'the correct class is digit 0.',\n",
              " 'the correct class is digit 1.',\n",
              " 'the correct class is digit 2.',\n",
              " 'the correct class is digit 3.',\n",
              " 'the correct class is digit 4.',\n",
              " 'the correct class is digit 5.',\n",
              " 'the correct class is digit 7.',\n",
              " 'the correct class is digit 8.',\n",
              " 'the correct class is digit 9.'}"
            ]
          },
          "metadata": {},
          "execution_count": 18
        }
      ]
    },
    {
      "cell_type": "code",
      "source": [
        "df[f'raw_images'].unique()"
      ],
      "metadata": {
        "colab": {
          "base_uri": "https://localhost:8080/"
        },
        "id": "p4tuKurmAmQF",
        "outputId": "1b675e56-824b-422f-a581-00e6f3822261"
      },
      "execution_count": null,
      "outputs": [
        {
          "output_type": "execute_result",
          "data": {
            "text/plain": [
              "array([\" 'digit 7'\", \" The correct class is 'digit 2'.\", \" 'digit 1'\",\n",
              "       \" The correct class is 'digit 0'.\", \" 'digit 4'\", \" 'digit 9'\",\n",
              "       \" 'digit 5'\", ' digit 6',\n",
              "       \" The class of the picture is 'digit 0'.\", ' digit 5',\n",
              "       \" 'digit 3'\", ' digit 4', \" 'digit 6'\",\n",
              "       \" The correct class is 'digit 3'.\", ' digit 2',\n",
              "       \" The class of the picture is 'digit 1'.\", \" 'digit 2'\",\n",
              "       ' digit 3', \" The class of the picture is 'digit 5'.\",\n",
              "       \" The correct class is 'digit 5'.\", ' digit 9',\n",
              "       \" The class of the picture is 'digit 7'.\", \" 'digit 8'\",\n",
              "       \" The correct class is 'digit 8'.\",\n",
              "       \" The class of the object in the picture is 'digit 1'.\",\n",
              "       \" The class of the picture is 'digit 3'.\", \" 'capital letter z'\",\n",
              "       ' digit 8', \" 'digit 0'\", \" The correct class is 'digit 9'.\",\n",
              "       ' digit 7', \" The correct class is 'digit 7'.\",\n",
              "       \" The correct class is 'digit 4'.\",\n",
              "       \" The class of the picture is 'digit 9'.\",\n",
              "       \" The class of the picture is 'digit 2'.\", \" 'letter S'\",\n",
              "       \" The correct class is 'digit 1'.\", ' digit 1',\n",
              "       \" The class of the picture is 'digit 6'.\",\n",
              "       \" The class of the picture is 'digit 4'.\",\n",
              "       \" The class of the object in the picture is 'digit 7'.\", 'digit 2'],\n",
              "      dtype=object)"
            ]
          },
          "metadata": {},
          "execution_count": 19
        }
      ]
    },
    {
      "cell_type": "code",
      "source": [
        "raw_classes[dataset]"
      ],
      "metadata": {
        "colab": {
          "base_uri": "https://localhost:8080/"
        },
        "id": "v8mTBWmG_43b",
        "outputId": "aea85377-9927-4ff2-9f42-739cd4253f89"
      },
      "execution_count": null,
      "outputs": [
        {
          "output_type": "execute_result",
          "data": {
            "text/plain": [
              "['digit 0',\n",
              " 'digit 1',\n",
              " 'digit 2',\n",
              " 'digit 3',\n",
              " 'digit 4',\n",
              " 'digit 5',\n",
              " 'digit 6',\n",
              " 'digit 7',\n",
              " 'digit 8',\n",
              " 'digit 9']"
            ]
          },
          "metadata": {},
          "execution_count": 20
        }
      ]
    },
    {
      "cell_type": "code",
      "source": [
        "def find_class(x, classes):\n",
        "    for item in classes:\n",
        "        if item in x:\n",
        "            return item\n",
        "    return x"
      ],
      "metadata": {
        "id": "NdU8-XPtAC8j"
      },
      "execution_count": null,
      "outputs": []
    },
    {
      "cell_type": "code",
      "source": [
        "# df['raw_images'] = df['raw_images'].apply(lambda x: x if x in raw_classes[dataset] else x)\n",
        "df['raw_images'] = df['raw_images'].apply(lambda x: find_class(x, raw_classes[dataset]))"
      ],
      "metadata": {
        "id": "YKx_IZ3anH9A"
      },
      "execution_count": null,
      "outputs": []
    },
    {
      "cell_type": "code",
      "source": [
        "{item.strip().replace('\\'', '').lower() for item in df[f'raw_images'].unique()}"
      ],
      "metadata": {
        "colab": {
          "base_uri": "https://localhost:8080/"
        },
        "id": "m1t4xNsU_yo7",
        "outputId": "dc29354b-16c1-40d7-be84-b378482afaa3"
      },
      "execution_count": null,
      "outputs": [
        {
          "output_type": "execute_result",
          "data": {
            "text/plain": [
              "{'capital letter z',\n",
              " 'digit 0',\n",
              " 'digit 1',\n",
              " 'digit 2',\n",
              " 'digit 3',\n",
              " 'digit 4',\n",
              " 'digit 5',\n",
              " 'digit 6',\n",
              " 'digit 7',\n",
              " 'digit 8',\n",
              " 'digit 9',\n",
              " 'letter s'}"
            ]
          },
          "metadata": {},
          "execution_count": 23
        }
      ]
    },
    {
      "cell_type": "code",
      "source": [
        "{item.strip().replace('\\'', '').lower() for item in df[f'raw_images'].unique()}"
      ],
      "metadata": {
        "colab": {
          "base_uri": "https://localhost:8080/"
        },
        "id": "MkqmEgGuoBYE",
        "outputId": "107d0c4c-7efd-4068-f440-2fa10d908b3b"
      },
      "execution_count": null,
      "outputs": [
        {
          "output_type": "execute_result",
          "data": {
            "text/plain": [
              "{'capital letter z',\n",
              " 'digit 0',\n",
              " 'digit 1',\n",
              " 'digit 2',\n",
              " 'digit 3',\n",
              " 'digit 4',\n",
              " 'digit 5',\n",
              " 'digit 6',\n",
              " 'digit 7',\n",
              " 'digit 8',\n",
              " 'digit 9',\n",
              " 'letter s'}"
            ]
          },
          "metadata": {},
          "execution_count": 26
        }
      ]
    },
    {
      "cell_type": "markdown",
      "source": [
        "## Raw"
      ],
      "metadata": {
        "id": "oI9F9xNynfHO"
      }
    },
    {
      "cell_type": "code",
      "source": [
        "idx2label = {idx: label.strip().lower() for idx, label in enumerate(classes[dataset])}\n",
        "if dataset == 'IllusionAnimals':\n",
        "    y_true = df['label'].apply(lambda x: x.strip().lower())\n",
        "else:\n",
        "    y_true = df['label'].apply(lambda x: idx2label[x].strip().lower())\n",
        "y_pred = df[f'raw_images'].apply(lambda x: x.strip().replace('\\'', '').lower())"
      ],
      "metadata": {
        "id": "DgIM4YU7feh8"
      },
      "execution_count": null,
      "outputs": []
    },
    {
      "cell_type": "code",
      "source": [
        "set(list(y_pred))"
      ],
      "metadata": {
        "colab": {
          "base_uri": "https://localhost:8080/"
        },
        "id": "7V_kwGpjoGbB",
        "outputId": "b89a988e-87cf-4a8f-dc4c-30b93a259dd3"
      },
      "execution_count": null,
      "outputs": [
        {
          "output_type": "execute_result",
          "data": {
            "text/plain": [
              "{'capital letter z',\n",
              " 'digit 0',\n",
              " 'digit 1',\n",
              " 'digit 2',\n",
              " 'digit 3',\n",
              " 'digit 4',\n",
              " 'digit 5',\n",
              " 'digit 6',\n",
              " 'digit 7',\n",
              " 'digit 8',\n",
              " 'digit 9',\n",
              " 'letter s'}"
            ]
          },
          "metadata": {},
          "execution_count": 28
        }
      ]
    },
    {
      "cell_type": "code",
      "source": [
        "accuracy = accuracy_score(y_true, y_pred)\n",
        "precision = precision_score(y_true, y_pred, average='macro')\n",
        "recall = recall_score(y_true, y_pred, average='macro')\n",
        "f1 = f1_score(y_true, y_pred, average='macro')\n",
        "\n",
        "print(\"Accuracy:\", accuracy)\n",
        "print(\"Precision:\", precision)\n",
        "print(\"Recall:\", recall)\n",
        "print(\"F1 score:\", f1)"
      ],
      "metadata": {
        "colab": {
          "base_uri": "https://localhost:8080/"
        },
        "id": "xsafoBSZkM0Z",
        "outputId": "932c2780-538b-4dde-bd20-486edf9018d3"
      },
      "execution_count": null,
      "outputs": [
        {
          "output_type": "stream",
          "name": "stdout",
          "text": [
            "Accuracy: 0.8935978358881875\n",
            "Precision: 0.7623450638582546\n",
            "Recall: 0.7426516618445741\n",
            "F1 score: 0.7445538396409276\n"
          ]
        },
        {
          "output_type": "stream",
          "name": "stderr",
          "text": [
            "/usr/local/lib/python3.10/dist-packages/sklearn/metrics/_classification.py:1344: UndefinedMetricWarning: Recall is ill-defined and being set to 0.0 in labels with no true samples. Use `zero_division` parameter to control this behavior.\n",
            "  _warn_prf(average, modifier, msg_start, len(result))\n"
          ]
        }
      ]
    },
    {
      "cell_type": "markdown",
      "source": [
        "## Illusion"
      ],
      "metadata": {
        "id": "-AGnN4dPnhTY"
      }
    },
    {
      "cell_type": "code",
      "source": [
        "classes = {\n",
        "    'FashionMnist': ['T-shirt/top', 'Trouser', 'Pullover', 'Dress', 'Coat', 'Sandal', 'Shirt', 'Sneaker', 'Bag', 'Ankle boot', 'no illusion'],\n",
        "    'Mnist': ['digit 0', 'digit 1', 'digit 2', 'digit 3', 'digit 4', 'digit 5', 'digit 6', 'digit 7', 'digit 8', 'digit 9', 'no illusion'],\n",
        "    'IllusionAnimals': ['cat', 'dog', 'pigeon', 'butterfly', 'elephant', 'horse', 'deer', 'snake', 'fish', 'rooster' , 'no illusion'],\n",
        "}\n",
        "idx2label = {idx: label.strip().lower() for idx, label in enumerate(classes[dataset])}\n",
        "if dataset == 'IllusionAnimals':\n",
        "    y_true = list(df['label'].apply(lambda x: x.strip().lower())) + list(df['label'].apply(lambda x: 'no illusion'))\n",
        "else:\n",
        "    y_true = list(df['label'].apply(lambda x: idx2label[x].strip().lower())) + list(df['label'].apply(lambda x: 'no illusion'))\n",
        "\n",
        "# y_true = list(df['label'].apply(lambda x: idx2label[x].strip().lower())) + list(df['label'].apply(lambda x: 'no illusion'))\n",
        "\n",
        "y_pred = list(df[f'ill_images'].apply(lambda x: x.strip().replace('\\'', '').lower())) + list(df[f'illusionless_images'].apply(lambda x: x.strip().replace('\\'', '').lower()))"
      ],
      "metadata": {
        "id": "Gj7nigIkllO4"
      },
      "execution_count": null,
      "outputs": []
    },
    {
      "cell_type": "code",
      "source": [
        "set(y_pred)"
      ],
      "metadata": {
        "colab": {
          "base_uri": "https://localhost:8080/"
        },
        "id": "b6ksn32hrkVY",
        "outputId": "22fed6de-06e2-4f19-c079-929fe2bbfd67"
      },
      "execution_count": null,
      "outputs": [
        {
          "output_type": "execute_result",
          "data": {
            "text/plain": [
              "{'digit 0',\n",
              " 'digit 1',\n",
              " 'digit 2',\n",
              " 'digit 3',\n",
              " 'digit 4',\n",
              " 'digit 5',\n",
              " 'digit 6',\n",
              " 'digit 7',\n",
              " 'digit 8',\n",
              " 'digit 9',\n",
              " 'no illusion'}"
            ]
          },
          "metadata": {},
          "execution_count": 34
        }
      ]
    },
    {
      "cell_type": "code",
      "source": [
        "set(y_true)"
      ],
      "metadata": {
        "colab": {
          "base_uri": "https://localhost:8080/"
        },
        "id": "oaOLXqL8rnbs",
        "outputId": "0e666b26-2679-4fd1-8bd8-c2a0e6ebdd4d"
      },
      "execution_count": null,
      "outputs": [
        {
          "output_type": "execute_result",
          "data": {
            "text/plain": [
              "{'digit 0',\n",
              " 'digit 1',\n",
              " 'digit 2',\n",
              " 'digit 3',\n",
              " 'digit 4',\n",
              " 'digit 5',\n",
              " 'digit 6',\n",
              " 'digit 7',\n",
              " 'digit 8',\n",
              " 'digit 9',\n",
              " 'no illusion'}"
            ]
          },
          "metadata": {},
          "execution_count": 35
        }
      ]
    },
    {
      "cell_type": "code",
      "source": [
        "accuracy = accuracy_score(y_true, y_pred)\n",
        "precision = precision_score(y_true, y_pred, average='macro')\n",
        "recall = recall_score(y_true, y_pred, average='macro')\n",
        "f1 = f1_score(y_true, y_pred, average='macro')\n",
        "\n",
        "print(\"Accuracy:\", accuracy)\n",
        "print(\"Precision:\", precision)\n",
        "print(\"Recall:\", recall)\n",
        "print(\"F1 score:\", f1)"
      ],
      "metadata": {
        "id": "dW9xwrAqkRBE",
        "colab": {
          "base_uri": "https://localhost:8080/"
        },
        "outputId": "72fcb072-fad3-435e-8400-fac1f0d195d4"
      },
      "execution_count": null,
      "outputs": [
        {
          "output_type": "stream",
          "name": "stdout",
          "text": [
            "Accuracy: 0.5694319206492335\n",
            "Precision: 0.7625386885823686\n",
            "Recall: 0.22130991899430336\n",
            "F1 score: 0.2800923791802581\n"
          ]
        }
      ]
    },
    {
      "cell_type": "markdown",
      "source": [
        "## Illusion Filtered"
      ],
      "metadata": {
        "id": "1aMoHSH8piVd"
      }
    },
    {
      "cell_type": "code",
      "source": [
        "{item.strip().replace('\\'', '').lower() for item in df[f''].unique()}"
      ],
      "metadata": {
        "id": "_-V7wPdSDU_n"
      },
      "execution_count": null,
      "outputs": []
    },
    {
      "cell_type": "code",
      "source": [
        "classes = {\n",
        "    'FashionMnist': ['T-shirt/top', 'Trouser', 'Pullover', 'Dress', 'Coat', 'Sandal', 'Shirt', 'Sneaker', 'Bag', 'Ankle boot', 'no illusion'],\n",
        "    'Mnist': ['digit 0', 'digit 1', 'digit 2', 'digit 3', 'digit 4', 'digit 5', 'digit 6', 'digit 7', 'digit 8', 'digit 9', 'no illusion'],\n",
        "    'IllusionAnimals': ['cat', 'dog', 'pigeon', 'butterfly', 'elephant', 'horse', 'deer', 'snake', 'fish', 'rooster' , 'no illusion'],\n",
        "}\n",
        "idx2label = {idx: label.strip().lower() for idx, label in enumerate(classes[dataset])}\n",
        "# y_true = list(df['label'].apply(lambda x: idx2label[x].strip().lower())) + list(df['label'].apply(lambda x: 'no illusion'))\n",
        "if dataset == 'IllusionAnimals':\n",
        "    y_true = list(df['label'].apply(lambda x: x.strip().lower())) + list(df['label'].apply(lambda x: 'no illusion'))\n",
        "else:\n",
        "    y_true = list(df['label'].apply(lambda x: idx2label[x].strip().lower())) + list(df['label'].apply(lambda x: 'no illusion'))\n",
        "\n",
        "\n",
        "y_pred = list(df[f'illusion_images_filtered'].apply(lambda x: x.strip().replace('\\'', '').lower())) + list(df[f'illusionless_images_filtered'].apply(lambda x: x.strip().replace('\\'', '').lower()))"
      ],
      "metadata": {
        "id": "lJTiGlVFkQ-a"
      },
      "execution_count": null,
      "outputs": []
    },
    {
      "cell_type": "code",
      "source": [
        "set(y_pred)"
      ],
      "metadata": {
        "colab": {
          "base_uri": "https://localhost:8080/"
        },
        "id": "7o3_aIU3DsQA",
        "outputId": "2858660b-ef5b-449c-bbf4-657d136f5149"
      },
      "execution_count": null,
      "outputs": [
        {
          "output_type": "execute_result",
          "data": {
            "text/plain": [
              "{'digit 0',\n",
              " 'digit 1',\n",
              " 'digit 2',\n",
              " 'digit 3',\n",
              " 'digit 4',\n",
              " 'digit 5',\n",
              " 'digit 6',\n",
              " 'digit 7',\n",
              " 'digit 8',\n",
              " 'digit 9',\n",
              " 'no illusion'}"
            ]
          },
          "metadata": {},
          "execution_count": 40
        }
      ]
    },
    {
      "cell_type": "code",
      "source": [
        "accuracy = accuracy_score(y_true, y_pred)\n",
        "precision = precision_score(y_true, y_pred, average='macro')\n",
        "recall = recall_score(y_true, y_pred, average='macro')\n",
        "f1 = f1_score(y_true, y_pred, average='macro')\n",
        "\n",
        "print(\"Accuracy:\", accuracy)\n",
        "print(\"Precision:\", precision)\n",
        "print(\"Recall:\", recall)\n",
        "print(\"F1 score:\", f1)"
      ],
      "metadata": {
        "id": "-oI4HYT6kQ78",
        "colab": {
          "base_uri": "https://localhost:8080/"
        },
        "outputId": "776d672d-3939-4248-9086-4be78ebe21a2"
      },
      "execution_count": null,
      "outputs": [
        {
          "output_type": "stream",
          "name": "stdout",
          "text": [
            "Accuracy: 0.7948602344454464\n",
            "Precision: 0.8679170298610515\n",
            "Recall: 0.6440911561057804\n",
            "F1 score: 0.7208156535593825\n"
          ]
        }
      ]
    },
    {
      "cell_type": "markdown",
      "source": [
        "# FashionMnist"
      ],
      "metadata": {
        "id": "3gtFmv5DEa8x"
      }
    },
    {
      "cell_type": "code",
      "execution_count": null,
      "metadata": {
        "id": "qq1jf25ZEhjP"
      },
      "outputs": [],
      "source": [
        "from sklearn.metrics import accuracy_score, precision_score, recall_score, f1_score\n",
        "import pandas as pd\n",
        "dataset = 'FashionMnist'\n",
        "# dataset = 'IllusionAnimals'\n",
        "\n",
        "df = pd.read_csv(f'Gemini_{dataset}_results.csv')"
      ]
    },
    {
      "cell_type": "code",
      "source": [
        "df"
      ],
      "metadata": {
        "colab": {
          "base_uri": "https://localhost:8080/",
          "height": 1000
        },
        "outputId": "c788a42b-ff3a-4f26-f45f-febac5411d8c",
        "id": "RFGCVYaaEhjP"
      },
      "execution_count": null,
      "outputs": [
        {
          "output_type": "execute_result",
          "data": {
            "text/plain": [
              "             image_name                                            Pprompt  \\\n",
              "0        FashionMnist_1     Two friends hiking on a mountain during sunset   \n",
              "1        FashionMnist_2     A starry night sky with constellations glowing   \n",
              "2        FashionMnist_3        A Thanksgiving feast giving thanks and love   \n",
              "3        FashionMnist_4   A gecko on a large leaf in a tropical rainforest   \n",
              "4        FashionMnist_5      A Hanukkah menorah lighting symbolizing faith   \n",
              "...                 ...                                                ...   \n",
              "1147  FashionMnist_1148  Electrified waterfalls cascade, neon rivers re...   \n",
              "1148  FashionMnist_1149  A rocky desert landscape with cacti and tumble...   \n",
              "1149  FashionMnist_1150  A majestic waterfall plunging into a crystal-c...   \n",
              "1150  FashionMnist_1151  Eerie silence surrounds snowy mountains, glowi...   \n",
              "1151  FashionMnist_1152  A quaint village nestled in the rolling green ...   \n",
              "\n",
              "          Nprompt  illusion_strength  label      ill_images  \\\n",
              "0     low quality                1.5      9   'No illusion'   \n",
              "1     low quality                1.5      2   'No illusion'   \n",
              "2     low quality                1.5      1         Trouser   \n",
              "3     low quality                1.5      1   'No illusion'   \n",
              "4     low quality                1.5      6            Coat   \n",
              "...           ...                ...    ...             ...   \n",
              "1147  low quality                1.5      2   'No illusion'   \n",
              "1148  low quality                1.5      2   'No illusion'   \n",
              "1149  low quality                1.5      5   'No illusion'   \n",
              "1150  low quality                1.5      3     No illusion   \n",
              "1151  low quality                1.5      7   'No illusion'   \n",
              "\n",
              "     illusion_images_filtered illusionless_images  \\\n",
              "0                     Sneaker             Trouser   \n",
              "1               'No illusion'       'No illusion'   \n",
              "2                     Trouser         No illusion   \n",
              "3               'No illusion'       'No illusion'   \n",
              "4                        Coat         No illusion   \n",
              "...                       ...                 ...   \n",
              "1147                     Coat       'No illusion'   \n",
              "1148            'T-shirt/top'       'No illusion'   \n",
              "1149            'No illusion'       'No illusion'   \n",
              "1150                   'Coat'       'No illusion'   \n",
              "1151            'No illusion'       'No illusion'   \n",
              "\n",
              "     illusionless_images_filtered                         raw_images  \n",
              "0                   'No illusion'                         Ankle boot  \n",
              "1                   'No illusion'                         'Pullover'  \n",
              "2                   'No illusion'                            Trouser  \n",
              "3                   'No illusion'                            Trouser  \n",
              "4                   'No illusion'                               Coat  \n",
              "...                           ...                                ...  \n",
              "1147                'No illusion'   The correct class is 'Pullover'.  \n",
              "1148                'No illusion'                         'Pullover'  \n",
              "1149                'No illusion'                             Sandal  \n",
              "1150                'No illusion'                              Dress  \n",
              "1151                'No illusion'                            Trouser  \n",
              "\n",
              "[1152 rows x 10 columns]"
            ],
            "text/html": [
              "\n",
              "  <div id=\"df-6c589f65-678a-47d2-8fcb-5758e4cdaa60\" class=\"colab-df-container\">\n",
              "    <div>\n",
              "<style scoped>\n",
              "    .dataframe tbody tr th:only-of-type {\n",
              "        vertical-align: middle;\n",
              "    }\n",
              "\n",
              "    .dataframe tbody tr th {\n",
              "        vertical-align: top;\n",
              "    }\n",
              "\n",
              "    .dataframe thead th {\n",
              "        text-align: right;\n",
              "    }\n",
              "</style>\n",
              "<table border=\"1\" class=\"dataframe\">\n",
              "  <thead>\n",
              "    <tr style=\"text-align: right;\">\n",
              "      <th></th>\n",
              "      <th>image_name</th>\n",
              "      <th>Pprompt</th>\n",
              "      <th>Nprompt</th>\n",
              "      <th>illusion_strength</th>\n",
              "      <th>label</th>\n",
              "      <th>ill_images</th>\n",
              "      <th>illusion_images_filtered</th>\n",
              "      <th>illusionless_images</th>\n",
              "      <th>illusionless_images_filtered</th>\n",
              "      <th>raw_images</th>\n",
              "    </tr>\n",
              "  </thead>\n",
              "  <tbody>\n",
              "    <tr>\n",
              "      <th>0</th>\n",
              "      <td>FashionMnist_1</td>\n",
              "      <td>Two friends hiking on a mountain during sunset</td>\n",
              "      <td>low quality</td>\n",
              "      <td>1.5</td>\n",
              "      <td>9</td>\n",
              "      <td>'No illusion'</td>\n",
              "      <td>Sneaker</td>\n",
              "      <td>Trouser</td>\n",
              "      <td>'No illusion'</td>\n",
              "      <td>Ankle boot</td>\n",
              "    </tr>\n",
              "    <tr>\n",
              "      <th>1</th>\n",
              "      <td>FashionMnist_2</td>\n",
              "      <td>A starry night sky with constellations glowing</td>\n",
              "      <td>low quality</td>\n",
              "      <td>1.5</td>\n",
              "      <td>2</td>\n",
              "      <td>'No illusion'</td>\n",
              "      <td>'No illusion'</td>\n",
              "      <td>'No illusion'</td>\n",
              "      <td>'No illusion'</td>\n",
              "      <td>'Pullover'</td>\n",
              "    </tr>\n",
              "    <tr>\n",
              "      <th>2</th>\n",
              "      <td>FashionMnist_3</td>\n",
              "      <td>A Thanksgiving feast giving thanks and love</td>\n",
              "      <td>low quality</td>\n",
              "      <td>1.5</td>\n",
              "      <td>1</td>\n",
              "      <td>Trouser</td>\n",
              "      <td>Trouser</td>\n",
              "      <td>No illusion</td>\n",
              "      <td>'No illusion'</td>\n",
              "      <td>Trouser</td>\n",
              "    </tr>\n",
              "    <tr>\n",
              "      <th>3</th>\n",
              "      <td>FashionMnist_4</td>\n",
              "      <td>A gecko on a large leaf in a tropical rainforest</td>\n",
              "      <td>low quality</td>\n",
              "      <td>1.5</td>\n",
              "      <td>1</td>\n",
              "      <td>'No illusion'</td>\n",
              "      <td>'No illusion'</td>\n",
              "      <td>'No illusion'</td>\n",
              "      <td>'No illusion'</td>\n",
              "      <td>Trouser</td>\n",
              "    </tr>\n",
              "    <tr>\n",
              "      <th>4</th>\n",
              "      <td>FashionMnist_5</td>\n",
              "      <td>A Hanukkah menorah lighting symbolizing faith</td>\n",
              "      <td>low quality</td>\n",
              "      <td>1.5</td>\n",
              "      <td>6</td>\n",
              "      <td>Coat</td>\n",
              "      <td>Coat</td>\n",
              "      <td>No illusion</td>\n",
              "      <td>'No illusion'</td>\n",
              "      <td>Coat</td>\n",
              "    </tr>\n",
              "    <tr>\n",
              "      <th>...</th>\n",
              "      <td>...</td>\n",
              "      <td>...</td>\n",
              "      <td>...</td>\n",
              "      <td>...</td>\n",
              "      <td>...</td>\n",
              "      <td>...</td>\n",
              "      <td>...</td>\n",
              "      <td>...</td>\n",
              "      <td>...</td>\n",
              "      <td>...</td>\n",
              "    </tr>\n",
              "    <tr>\n",
              "      <th>1147</th>\n",
              "      <td>FashionMnist_1148</td>\n",
              "      <td>Electrified waterfalls cascade, neon rivers re...</td>\n",
              "      <td>low quality</td>\n",
              "      <td>1.5</td>\n",
              "      <td>2</td>\n",
              "      <td>'No illusion'</td>\n",
              "      <td>Coat</td>\n",
              "      <td>'No illusion'</td>\n",
              "      <td>'No illusion'</td>\n",
              "      <td>The correct class is 'Pullover'.</td>\n",
              "    </tr>\n",
              "    <tr>\n",
              "      <th>1148</th>\n",
              "      <td>FashionMnist_1149</td>\n",
              "      <td>A rocky desert landscape with cacti and tumble...</td>\n",
              "      <td>low quality</td>\n",
              "      <td>1.5</td>\n",
              "      <td>2</td>\n",
              "      <td>'No illusion'</td>\n",
              "      <td>'T-shirt/top'</td>\n",
              "      <td>'No illusion'</td>\n",
              "      <td>'No illusion'</td>\n",
              "      <td>'Pullover'</td>\n",
              "    </tr>\n",
              "    <tr>\n",
              "      <th>1149</th>\n",
              "      <td>FashionMnist_1150</td>\n",
              "      <td>A majestic waterfall plunging into a crystal-c...</td>\n",
              "      <td>low quality</td>\n",
              "      <td>1.5</td>\n",
              "      <td>5</td>\n",
              "      <td>'No illusion'</td>\n",
              "      <td>'No illusion'</td>\n",
              "      <td>'No illusion'</td>\n",
              "      <td>'No illusion'</td>\n",
              "      <td>Sandal</td>\n",
              "    </tr>\n",
              "    <tr>\n",
              "      <th>1150</th>\n",
              "      <td>FashionMnist_1151</td>\n",
              "      <td>Eerie silence surrounds snowy mountains, glowi...</td>\n",
              "      <td>low quality</td>\n",
              "      <td>1.5</td>\n",
              "      <td>3</td>\n",
              "      <td>No illusion</td>\n",
              "      <td>'Coat'</td>\n",
              "      <td>'No illusion'</td>\n",
              "      <td>'No illusion'</td>\n",
              "      <td>Dress</td>\n",
              "    </tr>\n",
              "    <tr>\n",
              "      <th>1151</th>\n",
              "      <td>FashionMnist_1152</td>\n",
              "      <td>A quaint village nestled in the rolling green ...</td>\n",
              "      <td>low quality</td>\n",
              "      <td>1.5</td>\n",
              "      <td>7</td>\n",
              "      <td>'No illusion'</td>\n",
              "      <td>'No illusion'</td>\n",
              "      <td>'No illusion'</td>\n",
              "      <td>'No illusion'</td>\n",
              "      <td>Trouser</td>\n",
              "    </tr>\n",
              "  </tbody>\n",
              "</table>\n",
              "<p>1152 rows × 10 columns</p>\n",
              "</div>\n",
              "    <div class=\"colab-df-buttons\">\n",
              "\n",
              "  <div class=\"colab-df-container\">\n",
              "    <button class=\"colab-df-convert\" onclick=\"convertToInteractive('df-6c589f65-678a-47d2-8fcb-5758e4cdaa60')\"\n",
              "            title=\"Convert this dataframe to an interactive table.\"\n",
              "            style=\"display:none;\">\n",
              "\n",
              "  <svg xmlns=\"http://www.w3.org/2000/svg\" height=\"24px\" viewBox=\"0 -960 960 960\">\n",
              "    <path d=\"M120-120v-720h720v720H120Zm60-500h600v-160H180v160Zm220 220h160v-160H400v160Zm0 220h160v-160H400v160ZM180-400h160v-160H180v160Zm440 0h160v-160H620v160ZM180-180h160v-160H180v160Zm440 0h160v-160H620v160Z\"/>\n",
              "  </svg>\n",
              "    </button>\n",
              "\n",
              "  <style>\n",
              "    .colab-df-container {\n",
              "      display:flex;\n",
              "      gap: 12px;\n",
              "    }\n",
              "\n",
              "    .colab-df-convert {\n",
              "      background-color: #E8F0FE;\n",
              "      border: none;\n",
              "      border-radius: 50%;\n",
              "      cursor: pointer;\n",
              "      display: none;\n",
              "      fill: #1967D2;\n",
              "      height: 32px;\n",
              "      padding: 0 0 0 0;\n",
              "      width: 32px;\n",
              "    }\n",
              "\n",
              "    .colab-df-convert:hover {\n",
              "      background-color: #E2EBFA;\n",
              "      box-shadow: 0px 1px 2px rgba(60, 64, 67, 0.3), 0px 1px 3px 1px rgba(60, 64, 67, 0.15);\n",
              "      fill: #174EA6;\n",
              "    }\n",
              "\n",
              "    .colab-df-buttons div {\n",
              "      margin-bottom: 4px;\n",
              "    }\n",
              "\n",
              "    [theme=dark] .colab-df-convert {\n",
              "      background-color: #3B4455;\n",
              "      fill: #D2E3FC;\n",
              "    }\n",
              "\n",
              "    [theme=dark] .colab-df-convert:hover {\n",
              "      background-color: #434B5C;\n",
              "      box-shadow: 0px 1px 3px 1px rgba(0, 0, 0, 0.15);\n",
              "      filter: drop-shadow(0px 1px 2px rgba(0, 0, 0, 0.3));\n",
              "      fill: #FFFFFF;\n",
              "    }\n",
              "  </style>\n",
              "\n",
              "    <script>\n",
              "      const buttonEl =\n",
              "        document.querySelector('#df-6c589f65-678a-47d2-8fcb-5758e4cdaa60 button.colab-df-convert');\n",
              "      buttonEl.style.display =\n",
              "        google.colab.kernel.accessAllowed ? 'block' : 'none';\n",
              "\n",
              "      async function convertToInteractive(key) {\n",
              "        const element = document.querySelector('#df-6c589f65-678a-47d2-8fcb-5758e4cdaa60');\n",
              "        const dataTable =\n",
              "          await google.colab.kernel.invokeFunction('convertToInteractive',\n",
              "                                                    [key], {});\n",
              "        if (!dataTable) return;\n",
              "\n",
              "        const docLinkHtml = 'Like what you see? Visit the ' +\n",
              "          '<a target=\"_blank\" href=https://colab.research.google.com/notebooks/data_table.ipynb>data table notebook</a>'\n",
              "          + ' to learn more about interactive tables.';\n",
              "        element.innerHTML = '';\n",
              "        dataTable['output_type'] = 'display_data';\n",
              "        await google.colab.output.renderOutput(dataTable, element);\n",
              "        const docLink = document.createElement('div');\n",
              "        docLink.innerHTML = docLinkHtml;\n",
              "        element.appendChild(docLink);\n",
              "      }\n",
              "    </script>\n",
              "  </div>\n",
              "\n",
              "\n",
              "<div id=\"df-7a482984-596a-4ebd-8e91-aa56569e2826\">\n",
              "  <button class=\"colab-df-quickchart\" onclick=\"quickchart('df-7a482984-596a-4ebd-8e91-aa56569e2826')\"\n",
              "            title=\"Suggest charts\"\n",
              "            style=\"display:none;\">\n",
              "\n",
              "<svg xmlns=\"http://www.w3.org/2000/svg\" height=\"24px\"viewBox=\"0 0 24 24\"\n",
              "     width=\"24px\">\n",
              "    <g>\n",
              "        <path d=\"M19 3H5c-1.1 0-2 .9-2 2v14c0 1.1.9 2 2 2h14c1.1 0 2-.9 2-2V5c0-1.1-.9-2-2-2zM9 17H7v-7h2v7zm4 0h-2V7h2v10zm4 0h-2v-4h2v4z\"/>\n",
              "    </g>\n",
              "</svg>\n",
              "  </button>\n",
              "\n",
              "<style>\n",
              "  .colab-df-quickchart {\n",
              "      --bg-color: #E8F0FE;\n",
              "      --fill-color: #1967D2;\n",
              "      --hover-bg-color: #E2EBFA;\n",
              "      --hover-fill-color: #174EA6;\n",
              "      --disabled-fill-color: #AAA;\n",
              "      --disabled-bg-color: #DDD;\n",
              "  }\n",
              "\n",
              "  [theme=dark] .colab-df-quickchart {\n",
              "      --bg-color: #3B4455;\n",
              "      --fill-color: #D2E3FC;\n",
              "      --hover-bg-color: #434B5C;\n",
              "      --hover-fill-color: #FFFFFF;\n",
              "      --disabled-bg-color: #3B4455;\n",
              "      --disabled-fill-color: #666;\n",
              "  }\n",
              "\n",
              "  .colab-df-quickchart {\n",
              "    background-color: var(--bg-color);\n",
              "    border: none;\n",
              "    border-radius: 50%;\n",
              "    cursor: pointer;\n",
              "    display: none;\n",
              "    fill: var(--fill-color);\n",
              "    height: 32px;\n",
              "    padding: 0;\n",
              "    width: 32px;\n",
              "  }\n",
              "\n",
              "  .colab-df-quickchart:hover {\n",
              "    background-color: var(--hover-bg-color);\n",
              "    box-shadow: 0 1px 2px rgba(60, 64, 67, 0.3), 0 1px 3px 1px rgba(60, 64, 67, 0.15);\n",
              "    fill: var(--button-hover-fill-color);\n",
              "  }\n",
              "\n",
              "  .colab-df-quickchart-complete:disabled,\n",
              "  .colab-df-quickchart-complete:disabled:hover {\n",
              "    background-color: var(--disabled-bg-color);\n",
              "    fill: var(--disabled-fill-color);\n",
              "    box-shadow: none;\n",
              "  }\n",
              "\n",
              "  .colab-df-spinner {\n",
              "    border: 2px solid var(--fill-color);\n",
              "    border-color: transparent;\n",
              "    border-bottom-color: var(--fill-color);\n",
              "    animation:\n",
              "      spin 1s steps(1) infinite;\n",
              "  }\n",
              "\n",
              "  @keyframes spin {\n",
              "    0% {\n",
              "      border-color: transparent;\n",
              "      border-bottom-color: var(--fill-color);\n",
              "      border-left-color: var(--fill-color);\n",
              "    }\n",
              "    20% {\n",
              "      border-color: transparent;\n",
              "      border-left-color: var(--fill-color);\n",
              "      border-top-color: var(--fill-color);\n",
              "    }\n",
              "    30% {\n",
              "      border-color: transparent;\n",
              "      border-left-color: var(--fill-color);\n",
              "      border-top-color: var(--fill-color);\n",
              "      border-right-color: var(--fill-color);\n",
              "    }\n",
              "    40% {\n",
              "      border-color: transparent;\n",
              "      border-right-color: var(--fill-color);\n",
              "      border-top-color: var(--fill-color);\n",
              "    }\n",
              "    60% {\n",
              "      border-color: transparent;\n",
              "      border-right-color: var(--fill-color);\n",
              "    }\n",
              "    80% {\n",
              "      border-color: transparent;\n",
              "      border-right-color: var(--fill-color);\n",
              "      border-bottom-color: var(--fill-color);\n",
              "    }\n",
              "    90% {\n",
              "      border-color: transparent;\n",
              "      border-bottom-color: var(--fill-color);\n",
              "    }\n",
              "  }\n",
              "</style>\n",
              "\n",
              "  <script>\n",
              "    async function quickchart(key) {\n",
              "      const quickchartButtonEl =\n",
              "        document.querySelector('#' + key + ' button');\n",
              "      quickchartButtonEl.disabled = true;  // To prevent multiple clicks.\n",
              "      quickchartButtonEl.classList.add('colab-df-spinner');\n",
              "      try {\n",
              "        const charts = await google.colab.kernel.invokeFunction(\n",
              "            'suggestCharts', [key], {});\n",
              "      } catch (error) {\n",
              "        console.error('Error during call to suggestCharts:', error);\n",
              "      }\n",
              "      quickchartButtonEl.classList.remove('colab-df-spinner');\n",
              "      quickchartButtonEl.classList.add('colab-df-quickchart-complete');\n",
              "    }\n",
              "    (() => {\n",
              "      let quickchartButtonEl =\n",
              "        document.querySelector('#df-7a482984-596a-4ebd-8e91-aa56569e2826 button');\n",
              "      quickchartButtonEl.style.display =\n",
              "        google.colab.kernel.accessAllowed ? 'block' : 'none';\n",
              "    })();\n",
              "  </script>\n",
              "</div>\n",
              "    </div>\n",
              "  </div>\n"
            ],
            "application/vnd.google.colaboratory.intrinsic+json": {
              "type": "dataframe",
              "variable_name": "df",
              "summary": "{\n  \"name\": \"df\",\n  \"rows\": 1152,\n  \"fields\": [\n    {\n      \"column\": \"image_name\",\n      \"properties\": {\n        \"dtype\": \"string\",\n        \"num_unique_values\": 1152,\n        \"samples\": [\n          \"FashionMnist_175\",\n          \"FashionMnist_755\",\n          \"FashionMnist_585\"\n        ],\n        \"semantic_type\": \"\",\n        \"description\": \"\"\n      }\n    },\n    {\n      \"column\": \"Pprompt\",\n      \"properties\": {\n        \"dtype\": \"string\",\n        \"num_unique_values\": 710,\n        \"samples\": [\n          \"A mystical forest enchanted by soft glowing fireflies\",\n          \"A lonely cottage in autumn forest\",\n          \"A bustling city street with neon lights and towering skyscrapers\"\n        ],\n        \"semantic_type\": \"\",\n        \"description\": \"\"\n      }\n    },\n    {\n      \"column\": \"Nprompt\",\n      \"properties\": {\n        \"dtype\": \"category\",\n        \"num_unique_values\": 1,\n        \"samples\": [\n          \"low quality\"\n        ],\n        \"semantic_type\": \"\",\n        \"description\": \"\"\n      }\n    },\n    {\n      \"column\": \"illusion_strength\",\n      \"properties\": {\n        \"dtype\": \"number\",\n        \"std\": 0.0,\n        \"min\": 1.5,\n        \"max\": 1.5,\n        \"num_unique_values\": 1,\n        \"samples\": [\n          1.5\n        ],\n        \"semantic_type\": \"\",\n        \"description\": \"\"\n      }\n    },\n    {\n      \"column\": \"label\",\n      \"properties\": {\n        \"dtype\": \"number\",\n        \"std\": 2,\n        \"min\": 0,\n        \"max\": 9,\n        \"num_unique_values\": 10,\n        \"samples\": [\n          8\n        ],\n        \"semantic_type\": \"\",\n        \"description\": \"\"\n      }\n    },\n    {\n      \"column\": \"ill_images\",\n      \"properties\": {\n        \"dtype\": \"category\",\n        \"num_unique_values\": 21,\n        \"samples\": [\n          \" 'No illusion'\"\n        ],\n        \"semantic_type\": \"\",\n        \"description\": \"\"\n      }\n    },\n    {\n      \"column\": \"illusion_images_filtered\",\n      \"properties\": {\n        \"dtype\": \"category\",\n        \"num_unique_values\": 26,\n        \"samples\": [\n          \" 'Bag'\"\n        ],\n        \"semantic_type\": \"\",\n        \"description\": \"\"\n      }\n    },\n    {\n      \"column\": \"illusionless_images\",\n      \"properties\": {\n        \"dtype\": \"category\",\n        \"num_unique_values\": 18,\n        \"samples\": [\n          \" Trouser\"\n        ],\n        \"semantic_type\": \"\",\n        \"description\": \"\"\n      }\n    },\n    {\n      \"column\": \"illusionless_images_filtered\",\n      \"properties\": {\n        \"dtype\": \"category\",\n        \"num_unique_values\": 5,\n        \"samples\": [\n          \" No illusion\"\n        ],\n        \"semantic_type\": \"\",\n        \"description\": \"\"\n      }\n    },\n    {\n      \"column\": \"raw_images\",\n      \"properties\": {\n        \"dtype\": \"category\",\n        \"num_unique_values\": 39,\n        \"samples\": [\n          \" The class of the picture is 'Pullover'.\"\n        ],\n        \"semantic_type\": \"\",\n        \"description\": \"\"\n      }\n    }\n  ]\n}"
            }
          },
          "metadata": {},
          "execution_count": 43
        }
      ]
    },
    {
      "cell_type": "code",
      "source": [
        "raw_classes = {\n",
        "    'FashionMnist': ['T-shirt/top', 'Trouser', 'Pullover', 'Dress', 'Coat', 'Sandal', 'Shirt', 'Sneaker', 'Bag', 'Ankle boot'],\n",
        "    'Mnist': ['digit 0', 'digit 1', 'digit 2', 'digit 3', 'digit 4', 'digit 5', 'digit 6', 'digit 7', 'digit 8', 'digit 9'],\n",
        "    'IllusionAnimals': ['cat', 'dog', 'pigeon', 'butterfly', 'elephant', 'horse', 'deer', 'snake', 'fish', 'rooster' ],\n",
        "}\n",
        "\n",
        "classes = {\n",
        "    'FashionMnist': ['T-shirt/top', 'Trouser', 'Pullover', 'Dress', 'Coat', 'Sandal', 'Shirt', 'Sneaker', 'Bag', 'Ankle boot', 'No illusion'],\n",
        "    'Mnist': ['digit 0', 'digit 1', 'digit 2', 'digit 3', 'digit 4', 'digit 5', 'digit 6', 'digit 7', 'digit 8', 'digit 9', 'No illusion'],\n",
        "    'IllusionAnimals': ['cat', 'dog', 'pigeon', 'butterfly', 'elephant', 'horse', 'deer', 'snake', 'fish', 'rooster', 'No illusion' ],\n",
        "}\n"
      ],
      "metadata": {
        "id": "gyM22DZWEhjQ"
      },
      "execution_count": null,
      "outputs": []
    },
    {
      "cell_type": "code",
      "source": [
        "{item.strip().replace('\\'', '').lower() for item in df[f'raw_images'].unique()}"
      ],
      "metadata": {
        "colab": {
          "base_uri": "https://localhost:8080/"
        },
        "outputId": "f5c3c794-b08f-41e6-abca-561e82ad38c0",
        "id": "ucLNnQi4EhjQ"
      },
      "execution_count": null,
      "outputs": [
        {
          "output_type": "execute_result",
          "data": {
            "text/plain": [
              "{'ankle boot',\n",
              " 'bag',\n",
              " 'camera',\n",
              " 'coat',\n",
              " 'dress',\n",
              " 'engine',\n",
              " 'fish',\n",
              " 'hat',\n",
              " 'helmet',\n",
              " 'kimono',\n",
              " 'pullover',\n",
              " 'sandal',\n",
              " 'shirt',\n",
              " 'sneaker',\n",
              " 't-shirt/top',\n",
              " 'the class of the object in the picture is bag.',\n",
              " 'the class of the object in the picture is coat.',\n",
              " 'the class of the object in the picture is dress.',\n",
              " 'the class of the object in the picture is pullover.',\n",
              " 'the class of the picture is bag.',\n",
              " 'the class of the picture is pullover.',\n",
              " 'the class of the picture is t-shirt/top.',\n",
              " 'the correct class is bag.',\n",
              " 'the correct class is bird.',\n",
              " 'the correct class is bodysuit.',\n",
              " 'the correct class is coat.',\n",
              " 'the correct class is dress.',\n",
              " 'the correct class is pullover.',\n",
              " 'the correct class is sandal.',\n",
              " 'the correct class is shirt.',\n",
              " 'the correct class is sneaker.',\n",
              " 'the correct class is t-shirt/top.',\n",
              " 'trouser'}"
            ]
          },
          "metadata": {},
          "execution_count": 45
        }
      ]
    },
    {
      "cell_type": "code",
      "source": [
        "raw_classes[dataset]"
      ],
      "metadata": {
        "colab": {
          "base_uri": "https://localhost:8080/"
        },
        "outputId": "96dd6f5f-2f60-44f7-f79c-a0dd9883072b",
        "id": "b8XBoA1XEhjQ"
      },
      "execution_count": null,
      "outputs": [
        {
          "output_type": "execute_result",
          "data": {
            "text/plain": [
              "['T-shirt/top',\n",
              " 'Trouser',\n",
              " 'Pullover',\n",
              " 'Dress',\n",
              " 'Coat',\n",
              " 'Sandal',\n",
              " 'Shirt',\n",
              " 'Sneaker',\n",
              " 'Bag',\n",
              " 'Ankle boot']"
            ]
          },
          "metadata": {},
          "execution_count": 47
        }
      ]
    },
    {
      "cell_type": "code",
      "source": [
        "def find_class(x, classes):\n",
        "    for item in classes:\n",
        "        if item.lower() in x.lower():\n",
        "            return item\n",
        "    return x"
      ],
      "metadata": {
        "id": "G2VZ_VB6EhjR"
      },
      "execution_count": null,
      "outputs": []
    },
    {
      "cell_type": "code",
      "source": [
        "# df['raw_images'] = df['raw_images'].apply(lambda x: x if x in raw_classes[dataset] else x)\n",
        "df['raw_images'] = df['raw_images'].apply(lambda x: find_class(x, raw_classes[dataset]))"
      ],
      "metadata": {
        "id": "H6wMf9NoEhjR"
      },
      "execution_count": null,
      "outputs": []
    },
    {
      "cell_type": "code",
      "source": [
        "{item.strip().replace('\\'', '').lower() for item in df[f'raw_images'].unique()}"
      ],
      "metadata": {
        "colab": {
          "base_uri": "https://localhost:8080/"
        },
        "outputId": "9bc757ef-a54c-4211-859f-36d3db97824b",
        "id": "9bRea89ZEhjR"
      },
      "execution_count": null,
      "outputs": [
        {
          "output_type": "execute_result",
          "data": {
            "text/plain": [
              "{'ankle boot',\n",
              " 'bag',\n",
              " 'camera',\n",
              " 'coat',\n",
              " 'dress',\n",
              " 'engine',\n",
              " 'fish',\n",
              " 'hat',\n",
              " 'helmet',\n",
              " 'kimono',\n",
              " 'pullover',\n",
              " 'sandal',\n",
              " 'shirt',\n",
              " 'sneaker',\n",
              " 't-shirt/top',\n",
              " 'the correct class is bird.',\n",
              " 'the correct class is bodysuit.',\n",
              " 'trouser'}"
            ]
          },
          "metadata": {},
          "execution_count": 50
        }
      ]
    },
    {
      "cell_type": "code",
      "source": [
        "{item.strip().replace('\\'', '').lower() for item in df[f'raw_images'].unique()}"
      ],
      "metadata": {
        "colab": {
          "base_uri": "https://localhost:8080/"
        },
        "outputId": "e02d43be-1db8-4bf1-becc-2f35a3e42f05",
        "id": "MWc5_OtXEhjR"
      },
      "execution_count": null,
      "outputs": [
        {
          "output_type": "execute_result",
          "data": {
            "text/plain": [
              "{'ankle boot',\n",
              " 'bag',\n",
              " 'camera',\n",
              " 'coat',\n",
              " 'dress',\n",
              " 'engine',\n",
              " 'fish',\n",
              " 'hat',\n",
              " 'helmet',\n",
              " 'kimono',\n",
              " 'pullover',\n",
              " 'sandal',\n",
              " 'shirt',\n",
              " 'sneaker',\n",
              " 't-shirt/top',\n",
              " 'the correct class is bird.',\n",
              " 'the correct class is bodysuit.',\n",
              " 'trouser'}"
            ]
          },
          "metadata": {},
          "execution_count": 51
        }
      ]
    },
    {
      "cell_type": "markdown",
      "source": [
        "## Raw"
      ],
      "metadata": {
        "id": "qR-2I2guEhjS"
      }
    },
    {
      "cell_type": "code",
      "source": [
        "idx2label = {idx: label.strip().lower() for idx, label in enumerate(classes[dataset])}\n",
        "if dataset == 'IllusionAnimals':\n",
        "    y_true = df['label'].apply(lambda x: x.strip().lower())\n",
        "else:\n",
        "    y_true = df['label'].apply(lambda x: idx2label[x].strip().lower())\n",
        "y_pred = df[f'raw_images'].apply(lambda x: x.strip().replace('\\'', '').lower())"
      ],
      "metadata": {
        "id": "7dry-P97EhjS"
      },
      "execution_count": null,
      "outputs": []
    },
    {
      "cell_type": "code",
      "source": [
        "set(list(y_pred))"
      ],
      "metadata": {
        "colab": {
          "base_uri": "https://localhost:8080/"
        },
        "outputId": "4bb290d1-dfd2-4725-af2a-0e8e79116422",
        "id": "vSWZFu5qEhjS"
      },
      "execution_count": null,
      "outputs": [
        {
          "output_type": "execute_result",
          "data": {
            "text/plain": [
              "{'ankle boot',\n",
              " 'bag',\n",
              " 'camera',\n",
              " 'coat',\n",
              " 'dress',\n",
              " 'engine',\n",
              " 'fish',\n",
              " 'hat',\n",
              " 'helmet',\n",
              " 'kimono',\n",
              " 'pullover',\n",
              " 'sandal',\n",
              " 'shirt',\n",
              " 'sneaker',\n",
              " 't-shirt/top',\n",
              " 'the correct class is bird.',\n",
              " 'the correct class is bodysuit.',\n",
              " 'trouser'}"
            ]
          },
          "metadata": {},
          "execution_count": 53
        }
      ]
    },
    {
      "cell_type": "code",
      "source": [
        "accuracy = accuracy_score(y_true, y_pred)\n",
        "precision = precision_score(y_true, y_pred, average='macro')\n",
        "recall = recall_score(y_true, y_pred, average='macro')\n",
        "f1 = f1_score(y_true, y_pred, average='macro')\n",
        "\n",
        "print(\"Accuracy:\", accuracy)\n",
        "print(\"Precision:\", precision)\n",
        "print(\"Recall:\", recall)\n",
        "print(\"F1 score:\", f1)"
      ],
      "metadata": {
        "colab": {
          "base_uri": "https://localhost:8080/"
        },
        "outputId": "e091b2ce-448c-4a67-eab6-e77b913c8018",
        "id": "7WXcN8nzEhjS"
      },
      "execution_count": null,
      "outputs": [
        {
          "output_type": "stream",
          "name": "stdout",
          "text": [
            "Accuracy: 0.6727430555555556\n",
            "Precision: 0.4056070039428924\n",
            "Recall: 0.3743022151226429\n",
            "F1 score: 0.3674093877383753\n"
          ]
        },
        {
          "output_type": "stream",
          "name": "stderr",
          "text": [
            "/usr/local/lib/python3.10/dist-packages/sklearn/metrics/_classification.py:1344: UndefinedMetricWarning: Recall is ill-defined and being set to 0.0 in labels with no true samples. Use `zero_division` parameter to control this behavior.\n",
            "  _warn_prf(average, modifier, msg_start, len(result))\n"
          ]
        }
      ]
    },
    {
      "cell_type": "markdown",
      "source": [
        "## Illusion"
      ],
      "metadata": {
        "id": "jkkopyEhEhjS"
      }
    },
    {
      "cell_type": "code",
      "source": [
        "classes = {\n",
        "    'FashionMnist': ['T-shirt/top', 'Trouser', 'Pullover', 'Dress', 'Coat', 'Sandal', 'Shirt', 'Sneaker', 'Bag', 'Ankle boot', 'no illusion'],\n",
        "    'Mnist': ['digit 0', 'digit 1', 'digit 2', 'digit 3', 'digit 4', 'digit 5', 'digit 6', 'digit 7', 'digit 8', 'digit 9', 'no illusion'],\n",
        "    'IllusionAnimals': ['cat', 'dog', 'pigeon', 'butterfly', 'elephant', 'horse', 'deer', 'snake', 'fish', 'rooster' , 'no illusion'],\n",
        "}\n",
        "idx2label = {idx: label.strip().lower() for idx, label in enumerate(classes[dataset])}\n",
        "if dataset == 'IllusionAnimals':\n",
        "    y_true = list(df['label'].apply(lambda x: x.strip().lower())) + list(df['label'].apply(lambda x: 'no illusion'))\n",
        "else:\n",
        "    y_true = list(df['label'].apply(lambda x: idx2label[x].strip().lower())) + list(df['label'].apply(lambda x: 'no illusion'))\n",
        "\n",
        "# y_true = list(df['label'].apply(lambda x: idx2label[x].strip().lower())) + list(df['label'].apply(lambda x: 'no illusion'))\n",
        "\n",
        "# y_pred = list(df[f'ill_images'].apply(lambda x: x.strip().replace('\\'', '').lower())) + list(df[f'illusionless_images'].apply(lambda x: x.strip().replace('\\'', '').lower()))\n",
        "y_pred = list(df[f'ill_images'].apply(lambda x: find_class(x, classes[dataset]).strip().replace('\\'', '').lower())) + list(df[f'illusionless_images'].apply(lambda x: find_class(x, classes[dataset]).strip().replace('\\'', '').lower()))"
      ],
      "metadata": {
        "id": "yEGVsddXEhjS"
      },
      "execution_count": null,
      "outputs": []
    },
    {
      "cell_type": "code",
      "source": [
        "classes[dataset]"
      ],
      "metadata": {
        "colab": {
          "base_uri": "https://localhost:8080/"
        },
        "id": "T1cI6_4ZGomk",
        "outputId": "8ab2b942-c43d-46c1-baae-5c7b50772dd9"
      },
      "execution_count": null,
      "outputs": [
        {
          "output_type": "execute_result",
          "data": {
            "text/plain": [
              "['T-shirt/top',\n",
              " 'Trouser',\n",
              " 'Pullover',\n",
              " 'Dress',\n",
              " 'Coat',\n",
              " 'Sandal',\n",
              " 'Shirt',\n",
              " 'Sneaker',\n",
              " 'Bag',\n",
              " 'Ankle boot',\n",
              " 'no illusion']"
            ]
          },
          "metadata": {},
          "execution_count": 64
        }
      ]
    },
    {
      "cell_type": "code",
      "source": [
        "set(y_pred)"
      ],
      "metadata": {
        "colab": {
          "base_uri": "https://localhost:8080/"
        },
        "outputId": "a0af47d0-d3e9-41b9-85e2-67ba8d796b81",
        "id": "4AogypZDEhjT"
      },
      "execution_count": null,
      "outputs": [
        {
          "output_type": "execute_result",
          "data": {
            "text/plain": [
              "{'ankle boot',\n",
              " 'bag',\n",
              " 'car',\n",
              " 'coat',\n",
              " 'dress',\n",
              " 'hat',\n",
              " 'hot air balloon',\n",
              " 'no illusion',\n",
              " 'pullover',\n",
              " 'sandal',\n",
              " 'saree',\n",
              " 'shirt',\n",
              " 'shorts',\n",
              " 'sneaker',\n",
              " 't-shirt/top',\n",
              " 'trouser'}"
            ]
          },
          "metadata": {},
          "execution_count": 62
        }
      ]
    },
    {
      "cell_type": "code",
      "source": [
        "set(y_true)"
      ],
      "metadata": {
        "colab": {
          "base_uri": "https://localhost:8080/"
        },
        "outputId": "6d34466c-e8b1-48c0-b243-e06b684b8fcb",
        "id": "7gfLsQhcEhjT"
      },
      "execution_count": null,
      "outputs": [
        {
          "output_type": "execute_result",
          "data": {
            "text/plain": [
              "{'ankle boot',\n",
              " 'bag',\n",
              " 'coat',\n",
              " 'dress',\n",
              " 'no illusion',\n",
              " 'pullover',\n",
              " 'sandal',\n",
              " 'shirt',\n",
              " 'sneaker',\n",
              " 't-shirt/top',\n",
              " 'trouser'}"
            ]
          },
          "metadata": {},
          "execution_count": 63
        }
      ]
    },
    {
      "cell_type": "code",
      "source": [
        "accuracy = accuracy_score(y_true, y_pred)\n",
        "precision = precision_score(y_true, y_pred, average='macro')\n",
        "recall = recall_score(y_true, y_pred, average='macro')\n",
        "f1 = f1_score(y_true, y_pred, average='macro')\n",
        "\n",
        "print(\"Accuracy:\", accuracy)\n",
        "print(\"Precision:\", precision)\n",
        "print(\"Recall:\", recall)\n",
        "print(\"F1 score:\", f1)"
      ],
      "metadata": {
        "colab": {
          "base_uri": "https://localhost:8080/"
        },
        "outputId": "97208cd4-e9d9-42d0-cced-c82093a392e1",
        "id": "21HX6E7vEhjT"
      },
      "execution_count": null,
      "outputs": [
        {
          "output_type": "stream",
          "name": "stdout",
          "text": [
            "Accuracy: 0.4965277777777778\n",
            "Precision: 0.2934307577112809\n",
            "Recall: 0.07631753612804278\n",
            "F1 score: 0.06994972189918086\n"
          ]
        },
        {
          "output_type": "stream",
          "name": "stderr",
          "text": [
            "/usr/local/lib/python3.10/dist-packages/sklearn/metrics/_classification.py:1344: UndefinedMetricWarning: Recall is ill-defined and being set to 0.0 in labels with no true samples. Use `zero_division` parameter to control this behavior.\n",
            "  _warn_prf(average, modifier, msg_start, len(result))\n"
          ]
        }
      ]
    },
    {
      "cell_type": "markdown",
      "source": [
        "## Illusion Filtered"
      ],
      "metadata": {
        "id": "zOJ0y5wqEhjT"
      }
    },
    {
      "cell_type": "code",
      "source": [
        "classes = {\n",
        "    'FashionMnist': ['T-shirt/top', 'Trouser', 'Pullover', 'Dress', 'Coat', 'Sandal', 'Shirt', 'Sneaker', 'Bag', 'Ankle boot', 'no illusion'],\n",
        "    'Mnist': ['digit 0', 'digit 1', 'digit 2', 'digit 3', 'digit 4', 'digit 5', 'digit 6', 'digit 7', 'digit 8', 'digit 9', 'no illusion'],\n",
        "    'IllusionAnimals': ['cat', 'dog', 'pigeon', 'butterfly', 'elephant', 'horse', 'deer', 'snake', 'fish', 'rooster' , 'no illusion'],\n",
        "}\n",
        "idx2label = {idx: label.strip().lower() for idx, label in enumerate(classes[dataset])}\n",
        "# y_true = list(df['label'].apply(lambda x: idx2label[x].strip().lower())) + list(df['label'].apply(lambda x: 'no illusion'))\n",
        "if dataset == 'IllusionAnimals':\n",
        "    y_true = list(df['label'].apply(lambda x: x.strip().lower())) + list(df['label'].apply(lambda x: 'no illusion'))\n",
        "else:\n",
        "    y_true = list(df['label'].apply(lambda x: idx2label[x].strip().lower())) + list(df['label'].apply(lambda x: 'no illusion'))\n",
        "\n",
        "\n",
        "y_pred = list(df[f'illusion_images_filtered'].apply(lambda x: x.strip().replace('\\'', '').lower())) + list(df[f'illusionless_images_filtered'].apply(lambda x: x.strip().replace('\\'', '').lower()))"
      ],
      "metadata": {
        "id": "2i0T6WhEEhjT"
      },
      "execution_count": null,
      "outputs": []
    },
    {
      "cell_type": "code",
      "source": [
        "set(y_pred)"
      ],
      "metadata": {
        "colab": {
          "base_uri": "https://localhost:8080/"
        },
        "outputId": "7a034f20-eb3d-4cd7-c965-423f69bb7d62",
        "id": "zOuChJKrEhjT"
      },
      "execution_count": null,
      "outputs": [
        {
          "output_type": "execute_result",
          "data": {
            "text/plain": [
              "{'ankle boot',\n",
              " 'bag',\n",
              " 'car',\n",
              " 'coat',\n",
              " 'dress',\n",
              " 'hat',\n",
              " 'kimono',\n",
              " 'no illusion',\n",
              " 'pullover',\n",
              " 'sandal',\n",
              " 'shirt',\n",
              " 'sneaker',\n",
              " 't-shirt/top',\n",
              " 'trouser'}"
            ]
          },
          "metadata": {},
          "execution_count": 67
        }
      ]
    },
    {
      "cell_type": "code",
      "source": [
        "accuracy = accuracy_score(y_true, y_pred)\n",
        "precision = precision_score(y_true, y_pred, average='macro')\n",
        "recall = recall_score(y_true, y_pred, average='macro')\n",
        "f1 = f1_score(y_true, y_pred, average='macro')\n",
        "\n",
        "print(\"Accuracy:\", accuracy)\n",
        "print(\"Precision:\", precision)\n",
        "print(\"Recall:\", recall)\n",
        "print(\"F1 score:\", f1)"
      ],
      "metadata": {
        "colab": {
          "base_uri": "https://localhost:8080/"
        },
        "outputId": "7f3f0f95-fbb1-4460-e246-d33a5bb273c8",
        "id": "P1X8d8-CEhjU"
      },
      "execution_count": null,
      "outputs": [
        {
          "output_type": "stream",
          "name": "stdout",
          "text": [
            "Accuracy: 0.6710069444444444\n",
            "Precision: 0.5759320402437417\n",
            "Recall: 0.31944997295519023\n",
            "F1 score: 0.36829417453665075\n"
          ]
        },
        {
          "output_type": "stream",
          "name": "stderr",
          "text": [
            "/usr/local/lib/python3.10/dist-packages/sklearn/metrics/_classification.py:1344: UndefinedMetricWarning: Recall is ill-defined and being set to 0.0 in labels with no true samples. Use `zero_division` parameter to control this behavior.\n",
            "  _warn_prf(average, modifier, msg_start, len(result))\n"
          ]
        }
      ]
    },
    {
      "cell_type": "markdown",
      "source": [
        "# IllusionAnimals"
      ],
      "metadata": {
        "id": "kBBHOvjGEmJd"
      }
    },
    {
      "cell_type": "code",
      "execution_count": null,
      "metadata": {
        "id": "qczdxfZHIbp4"
      },
      "outputs": [],
      "source": [
        "from sklearn.metrics import accuracy_score, precision_score, recall_score, f1_score\n",
        "import pandas as pd\n",
        "# dataset = 'FashionMnist'\n",
        "dataset = 'IllusionAnimals'\n",
        "\n",
        "df = pd.read_csv(f'Gemini_{dataset}_results.csv')"
      ]
    },
    {
      "cell_type": "code",
      "source": [
        "df"
      ],
      "metadata": {
        "colab": {
          "base_uri": "https://localhost:8080/",
          "height": 1000
        },
        "outputId": "15ea5fc0-2a76-40b7-d975-b6661374b3e7",
        "id": "6EfySlcoIbp4"
      },
      "execution_count": null,
      "outputs": [
        {
          "output_type": "execute_result",
          "data": {
            "text/plain": [
              "               image_name                                            Pprompt  \\\n",
              "0       IllusionAnimals_1  A raging river flowing through a dense jungle ...   \n",
              "1       IllusionAnimals_2            A starry night sky over a tranquil lake   \n",
              "2       IllusionAnimals_3  Jaguar (Panthera Onca) patrolling South Americ...   \n",
              "3       IllusionAnimals_4  Flowing lava illuminates cavern walls, ancient...   \n",
              "4       IllusionAnimals_5  Dense forest canopy, sunlight filters through,...   \n",
              "..                    ...                                                ...   \n",
              "995   IllusionAnimals_996    Saharan sandstorm turning daytime into darkness   \n",
              "996   IllusionAnimals_997            Urban city with skyscrapers and traffic   \n",
              "997   IllusionAnimals_998   A serene meadow with wildflowers and butterflies   \n",
              "998   IllusionAnimals_999                    Elk bugling in crisp autumn air   \n",
              "999  IllusionAnimals_1000  Misty waterfall cascading, mossy rocks glow, s...   \n",
              "\n",
              "         Nprompt  illusion_strength    label      ill_images  \\\n",
              "0    low quality                2.5      cat   'No illusion'   \n",
              "1    low quality                2.5      cat   'No illusion'   \n",
              "2    low quality                2.5      cat        'jaguar'   \n",
              "3    low quality                2.5      cat   'No illusion'   \n",
              "4    low quality                2.5      cat             cat   \n",
              "..           ...                ...      ...             ...   \n",
              "995  low quality                2.5  rooster       'rooster'   \n",
              "996  low quality                2.5  rooster         Rooster   \n",
              "997  low quality                2.5  rooster     'butterfly'   \n",
              "998  low quality                2.5  rooster   'No illusion'   \n",
              "999  low quality                2.5  rooster   'No illusion'   \n",
              "\n",
              "    illusion_images_filtered illusionless_images illusionless_images_filtered  \\\n",
              "0                      'dog'       'No illusion'                'No illusion'   \n",
              "1                      'cat'       'No illusion'                'No illusion'   \n",
              "2                      'cat'            'jaguar'                        'cat'   \n",
              "3                      'cat'       'No illusion'                'No illusion'   \n",
              "4                      'cat'       'No illusion'                'No illusion'   \n",
              "..                       ...                 ...                          ...   \n",
              "995                'rooster'       'No illusion'                'No illusion'   \n",
              "996                  rooster       'No illusion'                'No illusion'   \n",
              "997                  rooster       'No illusion'                'No illusion'   \n",
              "998                  rooster              'deer'                       'deer'   \n",
              "999                  rooster       'No illusion'                'No illusion'   \n",
              "\n",
              "                                            raw_images  \n",
              "0     The class of the animal in the picture is 'cat'.  \n",
              "1     The class of the animal in the picture is 'cat'.  \n",
              "2     The class of the animal in the picture is 'cat'.  \n",
              "3     The class of the animal in the picture is 'cat'.  \n",
              "4     The class of the animal in the picture is 'cat'.  \n",
              "..                                                 ...  \n",
              "995                                          'rooster'  \n",
              "996                                          'rooster'  \n",
              "997                                          'rooster'  \n",
              "998                                          'rooster'  \n",
              "999                                          'rooster'  \n",
              "\n",
              "[1000 rows x 10 columns]"
            ],
            "text/html": [
              "\n",
              "  <div id=\"df-04f0cfa7-582e-4cbc-8ff4-30decc9efde1\" class=\"colab-df-container\">\n",
              "    <div>\n",
              "<style scoped>\n",
              "    .dataframe tbody tr th:only-of-type {\n",
              "        vertical-align: middle;\n",
              "    }\n",
              "\n",
              "    .dataframe tbody tr th {\n",
              "        vertical-align: top;\n",
              "    }\n",
              "\n",
              "    .dataframe thead th {\n",
              "        text-align: right;\n",
              "    }\n",
              "</style>\n",
              "<table border=\"1\" class=\"dataframe\">\n",
              "  <thead>\n",
              "    <tr style=\"text-align: right;\">\n",
              "      <th></th>\n",
              "      <th>image_name</th>\n",
              "      <th>Pprompt</th>\n",
              "      <th>Nprompt</th>\n",
              "      <th>illusion_strength</th>\n",
              "      <th>label</th>\n",
              "      <th>ill_images</th>\n",
              "      <th>illusion_images_filtered</th>\n",
              "      <th>illusionless_images</th>\n",
              "      <th>illusionless_images_filtered</th>\n",
              "      <th>raw_images</th>\n",
              "    </tr>\n",
              "  </thead>\n",
              "  <tbody>\n",
              "    <tr>\n",
              "      <th>0</th>\n",
              "      <td>IllusionAnimals_1</td>\n",
              "      <td>A raging river flowing through a dense jungle ...</td>\n",
              "      <td>low quality</td>\n",
              "      <td>2.5</td>\n",
              "      <td>cat</td>\n",
              "      <td>'No illusion'</td>\n",
              "      <td>'dog'</td>\n",
              "      <td>'No illusion'</td>\n",
              "      <td>'No illusion'</td>\n",
              "      <td>The class of the animal in the picture is 'cat'.</td>\n",
              "    </tr>\n",
              "    <tr>\n",
              "      <th>1</th>\n",
              "      <td>IllusionAnimals_2</td>\n",
              "      <td>A starry night sky over a tranquil lake</td>\n",
              "      <td>low quality</td>\n",
              "      <td>2.5</td>\n",
              "      <td>cat</td>\n",
              "      <td>'No illusion'</td>\n",
              "      <td>'cat'</td>\n",
              "      <td>'No illusion'</td>\n",
              "      <td>'No illusion'</td>\n",
              "      <td>The class of the animal in the picture is 'cat'.</td>\n",
              "    </tr>\n",
              "    <tr>\n",
              "      <th>2</th>\n",
              "      <td>IllusionAnimals_3</td>\n",
              "      <td>Jaguar (Panthera Onca) patrolling South Americ...</td>\n",
              "      <td>low quality</td>\n",
              "      <td>2.5</td>\n",
              "      <td>cat</td>\n",
              "      <td>'jaguar'</td>\n",
              "      <td>'cat'</td>\n",
              "      <td>'jaguar'</td>\n",
              "      <td>'cat'</td>\n",
              "      <td>The class of the animal in the picture is 'cat'.</td>\n",
              "    </tr>\n",
              "    <tr>\n",
              "      <th>3</th>\n",
              "      <td>IllusionAnimals_4</td>\n",
              "      <td>Flowing lava illuminates cavern walls, ancient...</td>\n",
              "      <td>low quality</td>\n",
              "      <td>2.5</td>\n",
              "      <td>cat</td>\n",
              "      <td>'No illusion'</td>\n",
              "      <td>'cat'</td>\n",
              "      <td>'No illusion'</td>\n",
              "      <td>'No illusion'</td>\n",
              "      <td>The class of the animal in the picture is 'cat'.</td>\n",
              "    </tr>\n",
              "    <tr>\n",
              "      <th>4</th>\n",
              "      <td>IllusionAnimals_5</td>\n",
              "      <td>Dense forest canopy, sunlight filters through,...</td>\n",
              "      <td>low quality</td>\n",
              "      <td>2.5</td>\n",
              "      <td>cat</td>\n",
              "      <td>cat</td>\n",
              "      <td>'cat'</td>\n",
              "      <td>'No illusion'</td>\n",
              "      <td>'No illusion'</td>\n",
              "      <td>The class of the animal in the picture is 'cat'.</td>\n",
              "    </tr>\n",
              "    <tr>\n",
              "      <th>...</th>\n",
              "      <td>...</td>\n",
              "      <td>...</td>\n",
              "      <td>...</td>\n",
              "      <td>...</td>\n",
              "      <td>...</td>\n",
              "      <td>...</td>\n",
              "      <td>...</td>\n",
              "      <td>...</td>\n",
              "      <td>...</td>\n",
              "      <td>...</td>\n",
              "    </tr>\n",
              "    <tr>\n",
              "      <th>995</th>\n",
              "      <td>IllusionAnimals_996</td>\n",
              "      <td>Saharan sandstorm turning daytime into darkness</td>\n",
              "      <td>low quality</td>\n",
              "      <td>2.5</td>\n",
              "      <td>rooster</td>\n",
              "      <td>'rooster'</td>\n",
              "      <td>'rooster'</td>\n",
              "      <td>'No illusion'</td>\n",
              "      <td>'No illusion'</td>\n",
              "      <td>'rooster'</td>\n",
              "    </tr>\n",
              "    <tr>\n",
              "      <th>996</th>\n",
              "      <td>IllusionAnimals_997</td>\n",
              "      <td>Urban city with skyscrapers and traffic</td>\n",
              "      <td>low quality</td>\n",
              "      <td>2.5</td>\n",
              "      <td>rooster</td>\n",
              "      <td>Rooster</td>\n",
              "      <td>rooster</td>\n",
              "      <td>'No illusion'</td>\n",
              "      <td>'No illusion'</td>\n",
              "      <td>'rooster'</td>\n",
              "    </tr>\n",
              "    <tr>\n",
              "      <th>997</th>\n",
              "      <td>IllusionAnimals_998</td>\n",
              "      <td>A serene meadow with wildflowers and butterflies</td>\n",
              "      <td>low quality</td>\n",
              "      <td>2.5</td>\n",
              "      <td>rooster</td>\n",
              "      <td>'butterfly'</td>\n",
              "      <td>rooster</td>\n",
              "      <td>'No illusion'</td>\n",
              "      <td>'No illusion'</td>\n",
              "      <td>'rooster'</td>\n",
              "    </tr>\n",
              "    <tr>\n",
              "      <th>998</th>\n",
              "      <td>IllusionAnimals_999</td>\n",
              "      <td>Elk bugling in crisp autumn air</td>\n",
              "      <td>low quality</td>\n",
              "      <td>2.5</td>\n",
              "      <td>rooster</td>\n",
              "      <td>'No illusion'</td>\n",
              "      <td>rooster</td>\n",
              "      <td>'deer'</td>\n",
              "      <td>'deer'</td>\n",
              "      <td>'rooster'</td>\n",
              "    </tr>\n",
              "    <tr>\n",
              "      <th>999</th>\n",
              "      <td>IllusionAnimals_1000</td>\n",
              "      <td>Misty waterfall cascading, mossy rocks glow, s...</td>\n",
              "      <td>low quality</td>\n",
              "      <td>2.5</td>\n",
              "      <td>rooster</td>\n",
              "      <td>'No illusion'</td>\n",
              "      <td>rooster</td>\n",
              "      <td>'No illusion'</td>\n",
              "      <td>'No illusion'</td>\n",
              "      <td>'rooster'</td>\n",
              "    </tr>\n",
              "  </tbody>\n",
              "</table>\n",
              "<p>1000 rows × 10 columns</p>\n",
              "</div>\n",
              "    <div class=\"colab-df-buttons\">\n",
              "\n",
              "  <div class=\"colab-df-container\">\n",
              "    <button class=\"colab-df-convert\" onclick=\"convertToInteractive('df-04f0cfa7-582e-4cbc-8ff4-30decc9efde1')\"\n",
              "            title=\"Convert this dataframe to an interactive table.\"\n",
              "            style=\"display:none;\">\n",
              "\n",
              "  <svg xmlns=\"http://www.w3.org/2000/svg\" height=\"24px\" viewBox=\"0 -960 960 960\">\n",
              "    <path d=\"M120-120v-720h720v720H120Zm60-500h600v-160H180v160Zm220 220h160v-160H400v160Zm0 220h160v-160H400v160ZM180-400h160v-160H180v160Zm440 0h160v-160H620v160ZM180-180h160v-160H180v160Zm440 0h160v-160H620v160Z\"/>\n",
              "  </svg>\n",
              "    </button>\n",
              "\n",
              "  <style>\n",
              "    .colab-df-container {\n",
              "      display:flex;\n",
              "      gap: 12px;\n",
              "    }\n",
              "\n",
              "    .colab-df-convert {\n",
              "      background-color: #E8F0FE;\n",
              "      border: none;\n",
              "      border-radius: 50%;\n",
              "      cursor: pointer;\n",
              "      display: none;\n",
              "      fill: #1967D2;\n",
              "      height: 32px;\n",
              "      padding: 0 0 0 0;\n",
              "      width: 32px;\n",
              "    }\n",
              "\n",
              "    .colab-df-convert:hover {\n",
              "      background-color: #E2EBFA;\n",
              "      box-shadow: 0px 1px 2px rgba(60, 64, 67, 0.3), 0px 1px 3px 1px rgba(60, 64, 67, 0.15);\n",
              "      fill: #174EA6;\n",
              "    }\n",
              "\n",
              "    .colab-df-buttons div {\n",
              "      margin-bottom: 4px;\n",
              "    }\n",
              "\n",
              "    [theme=dark] .colab-df-convert {\n",
              "      background-color: #3B4455;\n",
              "      fill: #D2E3FC;\n",
              "    }\n",
              "\n",
              "    [theme=dark] .colab-df-convert:hover {\n",
              "      background-color: #434B5C;\n",
              "      box-shadow: 0px 1px 3px 1px rgba(0, 0, 0, 0.15);\n",
              "      filter: drop-shadow(0px 1px 2px rgba(0, 0, 0, 0.3));\n",
              "      fill: #FFFFFF;\n",
              "    }\n",
              "  </style>\n",
              "\n",
              "    <script>\n",
              "      const buttonEl =\n",
              "        document.querySelector('#df-04f0cfa7-582e-4cbc-8ff4-30decc9efde1 button.colab-df-convert');\n",
              "      buttonEl.style.display =\n",
              "        google.colab.kernel.accessAllowed ? 'block' : 'none';\n",
              "\n",
              "      async function convertToInteractive(key) {\n",
              "        const element = document.querySelector('#df-04f0cfa7-582e-4cbc-8ff4-30decc9efde1');\n",
              "        const dataTable =\n",
              "          await google.colab.kernel.invokeFunction('convertToInteractive',\n",
              "                                                    [key], {});\n",
              "        if (!dataTable) return;\n",
              "\n",
              "        const docLinkHtml = 'Like what you see? Visit the ' +\n",
              "          '<a target=\"_blank\" href=https://colab.research.google.com/notebooks/data_table.ipynb>data table notebook</a>'\n",
              "          + ' to learn more about interactive tables.';\n",
              "        element.innerHTML = '';\n",
              "        dataTable['output_type'] = 'display_data';\n",
              "        await google.colab.output.renderOutput(dataTable, element);\n",
              "        const docLink = document.createElement('div');\n",
              "        docLink.innerHTML = docLinkHtml;\n",
              "        element.appendChild(docLink);\n",
              "      }\n",
              "    </script>\n",
              "  </div>\n",
              "\n",
              "\n",
              "<div id=\"df-ac661b91-e813-4422-b055-dd1fe44b2a2c\">\n",
              "  <button class=\"colab-df-quickchart\" onclick=\"quickchart('df-ac661b91-e813-4422-b055-dd1fe44b2a2c')\"\n",
              "            title=\"Suggest charts\"\n",
              "            style=\"display:none;\">\n",
              "\n",
              "<svg xmlns=\"http://www.w3.org/2000/svg\" height=\"24px\"viewBox=\"0 0 24 24\"\n",
              "     width=\"24px\">\n",
              "    <g>\n",
              "        <path d=\"M19 3H5c-1.1 0-2 .9-2 2v14c0 1.1.9 2 2 2h14c1.1 0 2-.9 2-2V5c0-1.1-.9-2-2-2zM9 17H7v-7h2v7zm4 0h-2V7h2v10zm4 0h-2v-4h2v4z\"/>\n",
              "    </g>\n",
              "</svg>\n",
              "  </button>\n",
              "\n",
              "<style>\n",
              "  .colab-df-quickchart {\n",
              "      --bg-color: #E8F0FE;\n",
              "      --fill-color: #1967D2;\n",
              "      --hover-bg-color: #E2EBFA;\n",
              "      --hover-fill-color: #174EA6;\n",
              "      --disabled-fill-color: #AAA;\n",
              "      --disabled-bg-color: #DDD;\n",
              "  }\n",
              "\n",
              "  [theme=dark] .colab-df-quickchart {\n",
              "      --bg-color: #3B4455;\n",
              "      --fill-color: #D2E3FC;\n",
              "      --hover-bg-color: #434B5C;\n",
              "      --hover-fill-color: #FFFFFF;\n",
              "      --disabled-bg-color: #3B4455;\n",
              "      --disabled-fill-color: #666;\n",
              "  }\n",
              "\n",
              "  .colab-df-quickchart {\n",
              "    background-color: var(--bg-color);\n",
              "    border: none;\n",
              "    border-radius: 50%;\n",
              "    cursor: pointer;\n",
              "    display: none;\n",
              "    fill: var(--fill-color);\n",
              "    height: 32px;\n",
              "    padding: 0;\n",
              "    width: 32px;\n",
              "  }\n",
              "\n",
              "  .colab-df-quickchart:hover {\n",
              "    background-color: var(--hover-bg-color);\n",
              "    box-shadow: 0 1px 2px rgba(60, 64, 67, 0.3), 0 1px 3px 1px rgba(60, 64, 67, 0.15);\n",
              "    fill: var(--button-hover-fill-color);\n",
              "  }\n",
              "\n",
              "  .colab-df-quickchart-complete:disabled,\n",
              "  .colab-df-quickchart-complete:disabled:hover {\n",
              "    background-color: var(--disabled-bg-color);\n",
              "    fill: var(--disabled-fill-color);\n",
              "    box-shadow: none;\n",
              "  }\n",
              "\n",
              "  .colab-df-spinner {\n",
              "    border: 2px solid var(--fill-color);\n",
              "    border-color: transparent;\n",
              "    border-bottom-color: var(--fill-color);\n",
              "    animation:\n",
              "      spin 1s steps(1) infinite;\n",
              "  }\n",
              "\n",
              "  @keyframes spin {\n",
              "    0% {\n",
              "      border-color: transparent;\n",
              "      border-bottom-color: var(--fill-color);\n",
              "      border-left-color: var(--fill-color);\n",
              "    }\n",
              "    20% {\n",
              "      border-color: transparent;\n",
              "      border-left-color: var(--fill-color);\n",
              "      border-top-color: var(--fill-color);\n",
              "    }\n",
              "    30% {\n",
              "      border-color: transparent;\n",
              "      border-left-color: var(--fill-color);\n",
              "      border-top-color: var(--fill-color);\n",
              "      border-right-color: var(--fill-color);\n",
              "    }\n",
              "    40% {\n",
              "      border-color: transparent;\n",
              "      border-right-color: var(--fill-color);\n",
              "      border-top-color: var(--fill-color);\n",
              "    }\n",
              "    60% {\n",
              "      border-color: transparent;\n",
              "      border-right-color: var(--fill-color);\n",
              "    }\n",
              "    80% {\n",
              "      border-color: transparent;\n",
              "      border-right-color: var(--fill-color);\n",
              "      border-bottom-color: var(--fill-color);\n",
              "    }\n",
              "    90% {\n",
              "      border-color: transparent;\n",
              "      border-bottom-color: var(--fill-color);\n",
              "    }\n",
              "  }\n",
              "</style>\n",
              "\n",
              "  <script>\n",
              "    async function quickchart(key) {\n",
              "      const quickchartButtonEl =\n",
              "        document.querySelector('#' + key + ' button');\n",
              "      quickchartButtonEl.disabled = true;  // To prevent multiple clicks.\n",
              "      quickchartButtonEl.classList.add('colab-df-spinner');\n",
              "      try {\n",
              "        const charts = await google.colab.kernel.invokeFunction(\n",
              "            'suggestCharts', [key], {});\n",
              "      } catch (error) {\n",
              "        console.error('Error during call to suggestCharts:', error);\n",
              "      }\n",
              "      quickchartButtonEl.classList.remove('colab-df-spinner');\n",
              "      quickchartButtonEl.classList.add('colab-df-quickchart-complete');\n",
              "    }\n",
              "    (() => {\n",
              "      let quickchartButtonEl =\n",
              "        document.querySelector('#df-ac661b91-e813-4422-b055-dd1fe44b2a2c button');\n",
              "      quickchartButtonEl.style.display =\n",
              "        google.colab.kernel.accessAllowed ? 'block' : 'none';\n",
              "    })();\n",
              "  </script>\n",
              "</div>\n",
              "    </div>\n",
              "  </div>\n"
            ],
            "application/vnd.google.colaboratory.intrinsic+json": {
              "type": "dataframe",
              "variable_name": "df",
              "summary": "{\n  \"name\": \"df\",\n  \"rows\": 1000,\n  \"fields\": [\n    {\n      \"column\": \"image_name\",\n      \"properties\": {\n        \"dtype\": \"string\",\n        \"num_unique_values\": 1000,\n        \"samples\": [\n          \"IllusionAnimals_522\",\n          \"IllusionAnimals_738\",\n          \"IllusionAnimals_741\"\n        ],\n        \"semantic_type\": \"\",\n        \"description\": \"\"\n      }\n    },\n    {\n      \"column\": \"Pprompt\",\n      \"properties\": {\n        \"dtype\": \"string\",\n        \"num_unique_values\": 635,\n        \"samples\": [\n          \"A busy airport with planes taking off and landing\",\n          \"A serene lake with lush forest and mountains\",\n          \"Jellyfish undulating rhythmically\"\n        ],\n        \"semantic_type\": \"\",\n        \"description\": \"\"\n      }\n    },\n    {\n      \"column\": \"Nprompt\",\n      \"properties\": {\n        \"dtype\": \"category\",\n        \"num_unique_values\": 1,\n        \"samples\": [\n          \"low quality\"\n        ],\n        \"semantic_type\": \"\",\n        \"description\": \"\"\n      }\n    },\n    {\n      \"column\": \"illusion_strength\",\n      \"properties\": {\n        \"dtype\": \"number\",\n        \"std\": 0.0,\n        \"min\": 2.5,\n        \"max\": 2.5,\n        \"num_unique_values\": 1,\n        \"samples\": [\n          2.5\n        ],\n        \"semantic_type\": \"\",\n        \"description\": \"\"\n      }\n    },\n    {\n      \"column\": \"label\",\n      \"properties\": {\n        \"dtype\": \"category\",\n        \"num_unique_values\": 10,\n        \"samples\": [\n          \"fish\"\n        ],\n        \"semantic_type\": \"\",\n        \"description\": \"\"\n      }\n    },\n    {\n      \"column\": \"ill_images\",\n      \"properties\": {\n        \"dtype\": \"category\",\n        \"num_unique_values\": 61,\n        \"samples\": [\n          \" 'No illusion'\"\n        ],\n        \"semantic_type\": \"\",\n        \"description\": \"\"\n      }\n    },\n    {\n      \"column\": \"illusion_images_filtered\",\n      \"properties\": {\n        \"dtype\": \"category\",\n        \"num_unique_values\": 25,\n        \"samples\": [\n          \" 'pigeon'\"\n        ],\n        \"semantic_type\": \"\",\n        \"description\": \"\"\n      }\n    },\n    {\n      \"column\": \"illusionless_images\",\n      \"properties\": {\n        \"dtype\": \"category\",\n        \"num_unique_values\": 39,\n        \"samples\": [\n          \" cat\"\n        ],\n        \"semantic_type\": \"\",\n        \"description\": \"\"\n      }\n    },\n    {\n      \"column\": \"illusionless_images_filtered\",\n      \"properties\": {\n        \"dtype\": \"category\",\n        \"num_unique_values\": 50,\n        \"samples\": [\n          \" Horse\"\n        ],\n        \"semantic_type\": \"\",\n        \"description\": \"\"\n      }\n    },\n    {\n      \"column\": \"raw_images\",\n      \"properties\": {\n        \"dtype\": \"category\",\n        \"num_unique_values\": 33,\n        \"samples\": [\n          \" The class of the animal in the picture is 'rooster'.\"\n        ],\n        \"semantic_type\": \"\",\n        \"description\": \"\"\n      }\n    }\n  ]\n}"
            }
          },
          "metadata": {},
          "execution_count": 87
        }
      ]
    },
    {
      "cell_type": "code",
      "source": [
        "raw_classes = {\n",
        "    'FashionMnist': ['T-shirt/top', 'Trouser', 'Pullover', 'Dress', 'Coat', 'Sandal', 'Shirt', 'Sneaker', 'Bag', 'Ankle boot'],\n",
        "    'Mnist': ['digit 0', 'digit 1', 'digit 2', 'digit 3', 'digit 4', 'digit 5', 'digit 6', 'digit 7', 'digit 8', 'digit 9'],\n",
        "    'IllusionAnimals': ['cat', 'dog', 'pigeon', 'butterfly', 'elephant', 'horse', 'deer', 'snake', 'fish', 'rooster' ],\n",
        "}\n",
        "\n",
        "classes = {\n",
        "    'FashionMnist': ['T-shirt/top', 'Trouser', 'Pullover', 'Dress', 'Coat', 'Sandal', 'Shirt', 'Sneaker', 'Bag', 'Ankle boot', 'No illusion'],\n",
        "    'Mnist': ['digit 0', 'digit 1', 'digit 2', 'digit 3', 'digit 4', 'digit 5', 'digit 6', 'digit 7', 'digit 8', 'digit 9', 'No illusion'],\n",
        "    'IllusionAnimals': ['cat', 'dog', 'pigeon', 'butterfly', 'elephant', 'horse', 'deer', 'snake', 'fish', 'rooster', 'No illusion' ],\n",
        "}\n"
      ],
      "metadata": {
        "id": "Kb7xw2TXIbp4"
      },
      "execution_count": null,
      "outputs": []
    },
    {
      "cell_type": "code",
      "source": [
        "{item.strip().replace('\\'', '').lower() for item in df[f'raw_images'].unique()}"
      ],
      "metadata": {
        "colab": {
          "base_uri": "https://localhost:8080/"
        },
        "outputId": "8637ef3b-0c5b-4f63-da65-28468a540b2b",
        "id": "0SNnAWHGIbp5"
      },
      "execution_count": null,
      "outputs": [
        {
          "output_type": "execute_result",
          "data": {
            "text/plain": [
              "{'butterfly',\n",
              " 'elephant',\n",
              " 'fish',\n",
              " 'horse',\n",
              " 'insect',\n",
              " 'pigeon',\n",
              " 'rooster',\n",
              " 'snake',\n",
              " 'the class of the animal in the picture is butterfly.',\n",
              " 'the class of the animal in the picture is cat.',\n",
              " 'the class of the animal in the picture is deer.',\n",
              " 'the class of the animal in the picture is dog.',\n",
              " 'the class of the animal in the picture is elephant.',\n",
              " 'the class of the animal in the picture is fish.',\n",
              " 'the class of the animal in the picture is horse.',\n",
              " 'the class of the animal in the picture is insect.',\n",
              " 'the class of the animal in the picture is pigeon.',\n",
              " 'the class of the animal in the picture is reptile.',\n",
              " 'the class of the animal in the picture is rooster.',\n",
              " 'the class of the animal in the picture is snake.',\n",
              " 'the class of the object in the picture is butterfly.',\n",
              " 'the class of the object in the picture is cat.',\n",
              " 'the class of the object in the picture is deer.',\n",
              " 'the class of the object in the picture is dog.',\n",
              " 'the class of the object in the picture is fish.',\n",
              " 'the class of the object in the picture is horse.',\n",
              " 'the class of the object in the picture is pigeon.',\n",
              " 'the class of the picture is butterfly.',\n",
              " 'the class of the picture is deer.',\n",
              " 'the class of the picture is dog.',\n",
              " 'the class of the picture is fish.',\n",
              " 'the class of the picture is horse.',\n",
              " 'the class of the picture is rooster.'}"
            ]
          },
          "metadata": {},
          "execution_count": 89
        }
      ]
    },
    {
      "cell_type": "code",
      "source": [
        "raw_classes[dataset]"
      ],
      "metadata": {
        "colab": {
          "base_uri": "https://localhost:8080/"
        },
        "outputId": "314d2de3-5e08-4b56-e7a5-94e93bc53de6",
        "id": "hNL-5yoKIbp5"
      },
      "execution_count": null,
      "outputs": [
        {
          "output_type": "execute_result",
          "data": {
            "text/plain": [
              "['cat',\n",
              " 'dog',\n",
              " 'pigeon',\n",
              " 'butterfly',\n",
              " 'elephant',\n",
              " 'horse',\n",
              " 'deer',\n",
              " 'snake',\n",
              " 'fish',\n",
              " 'rooster']"
            ]
          },
          "metadata": {},
          "execution_count": 90
        }
      ]
    },
    {
      "cell_type": "code",
      "source": [
        "def find_class(x, classes):\n",
        "    for item in classes:\n",
        "        if item.lower() in x.lower():\n",
        "            return item\n",
        "    return x"
      ],
      "metadata": {
        "id": "3TBHklokIbp5"
      },
      "execution_count": null,
      "outputs": []
    },
    {
      "cell_type": "code",
      "source": [
        "# df['raw_images'] = df['raw_images'].apply(lambda x: x if x in raw_classes[dataset] else x)\n",
        "df['raw_images'] = df['raw_images'].apply(lambda x: find_class(x, raw_classes[dataset]))"
      ],
      "metadata": {
        "id": "T-oMlhrGIbp5"
      },
      "execution_count": null,
      "outputs": []
    },
    {
      "cell_type": "code",
      "source": [
        "{item.strip().replace('\\'', '').lower() for item in df[f'raw_images'].unique()}"
      ],
      "metadata": {
        "colab": {
          "base_uri": "https://localhost:8080/"
        },
        "outputId": "0c0b6535-6f97-497d-9a7d-5a24e78e3ab9",
        "id": "stC7Ckr0Ibp5"
      },
      "execution_count": null,
      "outputs": [
        {
          "output_type": "execute_result",
          "data": {
            "text/plain": [
              "{'butterfly',\n",
              " 'cat',\n",
              " 'deer',\n",
              " 'dog',\n",
              " 'elephant',\n",
              " 'fish',\n",
              " 'horse',\n",
              " 'insect',\n",
              " 'pigeon',\n",
              " 'rooster',\n",
              " 'snake',\n",
              " 'the class of the animal in the picture is insect.',\n",
              " 'the class of the animal in the picture is reptile.'}"
            ]
          },
          "metadata": {},
          "execution_count": 93
        }
      ]
    },
    {
      "cell_type": "code",
      "source": [
        "{item.strip().replace('\\'', '').lower() for item in df[f'raw_images'].unique()}"
      ],
      "metadata": {
        "colab": {
          "base_uri": "https://localhost:8080/"
        },
        "outputId": "19652cca-0f10-43c5-c3fd-e36d82cd7aeb",
        "id": "82kKSYbNIbp5"
      },
      "execution_count": null,
      "outputs": [
        {
          "output_type": "execute_result",
          "data": {
            "text/plain": [
              "{'butterfly',\n",
              " 'cat',\n",
              " 'deer',\n",
              " 'dog',\n",
              " 'elephant',\n",
              " 'fish',\n",
              " 'horse',\n",
              " 'insect',\n",
              " 'pigeon',\n",
              " 'rooster',\n",
              " 'snake',\n",
              " 'the class of the animal in the picture is insect.',\n",
              " 'the class of the animal in the picture is reptile.'}"
            ]
          },
          "metadata": {},
          "execution_count": 94
        }
      ]
    },
    {
      "cell_type": "markdown",
      "source": [
        "## Raw"
      ],
      "metadata": {
        "id": "U5pQTHnYIbp5"
      }
    },
    {
      "cell_type": "code",
      "source": [
        "idx2label = {idx: label.strip().lower() for idx, label in enumerate(classes[dataset])}\n",
        "if dataset == 'IllusionAnimals':\n",
        "    y_true = df['label'].apply(lambda x: x.strip().lower())\n",
        "else:\n",
        "    y_true = df['label'].apply(lambda x: idx2label[x].strip().lower())\n",
        "y_pred = df[f'raw_images'].apply(lambda x: x.strip().replace('\\'', '').lower())"
      ],
      "metadata": {
        "id": "XsX7MHwEIbp6"
      },
      "execution_count": null,
      "outputs": []
    },
    {
      "cell_type": "code",
      "source": [
        "set(list(y_pred))"
      ],
      "metadata": {
        "colab": {
          "base_uri": "https://localhost:8080/"
        },
        "outputId": "84d0dfc0-0f6d-41e9-eed7-bf79a40ff954",
        "id": "fwlhLPYqIbp6"
      },
      "execution_count": null,
      "outputs": [
        {
          "output_type": "execute_result",
          "data": {
            "text/plain": [
              "{'butterfly',\n",
              " 'cat',\n",
              " 'deer',\n",
              " 'dog',\n",
              " 'elephant',\n",
              " 'fish',\n",
              " 'horse',\n",
              " 'insect',\n",
              " 'pigeon',\n",
              " 'rooster',\n",
              " 'snake',\n",
              " 'the class of the animal in the picture is insect.',\n",
              " 'the class of the animal in the picture is reptile.'}"
            ]
          },
          "metadata": {},
          "execution_count": 96
        }
      ]
    },
    {
      "cell_type": "code",
      "source": [
        "accuracy = accuracy_score(y_true, y_pred)\n",
        "precision = precision_score(y_true, y_pred, average='macro')\n",
        "recall = recall_score(y_true, y_pred, average='macro')\n",
        "f1 = f1_score(y_true, y_pred, average='macro')\n",
        "\n",
        "print(\"Accuracy:\", accuracy)\n",
        "print(\"Precision:\", precision)\n",
        "print(\"Recall:\", recall)\n",
        "print(\"F1 score:\", f1)"
      ],
      "metadata": {
        "colab": {
          "base_uri": "https://localhost:8080/"
        },
        "outputId": "5d248ac8-cd11-4584-9381-e508fe0da9b3",
        "id": "x2UTx4cJIbp6"
      },
      "execution_count": null,
      "outputs": [
        {
          "output_type": "stream",
          "name": "stdout",
          "text": [
            "Accuracy: 0.872\n",
            "Precision: 0.7692307692307693\n",
            "Recall: 0.6707692307692308\n",
            "F1 score: 0.6868181502327845\n"
          ]
        },
        {
          "output_type": "stream",
          "name": "stderr",
          "text": [
            "/usr/local/lib/python3.10/dist-packages/sklearn/metrics/_classification.py:1344: UndefinedMetricWarning: Recall is ill-defined and being set to 0.0 in labels with no true samples. Use `zero_division` parameter to control this behavior.\n",
            "  _warn_prf(average, modifier, msg_start, len(result))\n"
          ]
        }
      ]
    },
    {
      "cell_type": "markdown",
      "source": [
        "## Illusion"
      ],
      "metadata": {
        "id": "lMLR5J0rIbp6"
      }
    },
    {
      "cell_type": "code",
      "source": [
        "classes = {\n",
        "    'FashionMnist': ['T-shirt/top', 'Trouser', 'Pullover', 'Dress', 'Coat', 'Sandal', 'Shirt', 'Sneaker', 'Bag', 'Ankle boot', 'no illusion'],\n",
        "    'Mnist': ['digit 0', 'digit 1', 'digit 2', 'digit 3', 'digit 4', 'digit 5', 'digit 6', 'digit 7', 'digit 8', 'digit 9', 'no illusion'],\n",
        "    'IllusionAnimals': ['cat', 'dog', 'pigeon', 'butterfly', 'elephant', 'horse', 'deer', 'snake', 'fish', 'rooster' , 'no illusion'],\n",
        "}\n",
        "idx2label = {idx: label.strip().lower() for idx, label in enumerate(classes[dataset])}\n",
        "if dataset == 'IllusionAnimals':\n",
        "    y_true = list(df['label'].apply(lambda x: x.strip().lower())) + list(df['label'].apply(lambda x: 'no illusion'))\n",
        "else:\n",
        "    y_true = list(df['label'].apply(lambda x: idx2label[x].strip().lower())) + list(df['label'].apply(lambda x: 'no illusion'))\n",
        "\n",
        "# y_true = list(df['label'].apply(lambda x: idx2label[x].strip().lower())) + list(df['label'].apply(lambda x: 'no illusion'))\n",
        "\n",
        "# y_pred = list(df[f'ill_images'].apply(lambda x: x.strip().replace('\\'', '').lower())) + list(df[f'illusionless_images'].apply(lambda x: x.strip().replace('\\'', '').lower()))\n",
        "y_pred = list(df[f'ill_images'].apply(lambda x: find_class(x, classes[dataset]).strip().replace('\\'', '').lower())) + list(df[f'illusionless_images'].apply(lambda x: find_class(x, classes[dataset]).strip().replace('\\'', '').lower()))"
      ],
      "metadata": {
        "id": "9g07tOKNIbp6"
      },
      "execution_count": null,
      "outputs": []
    },
    {
      "cell_type": "code",
      "source": [
        "classes[dataset]"
      ],
      "metadata": {
        "colab": {
          "base_uri": "https://localhost:8080/"
        },
        "outputId": "77b8fd03-d694-4bc5-bc7e-f0a6574de0b7",
        "id": "6DgpZ_MNIbp6"
      },
      "execution_count": null,
      "outputs": [
        {
          "output_type": "execute_result",
          "data": {
            "text/plain": [
              "['cat',\n",
              " 'dog',\n",
              " 'pigeon',\n",
              " 'butterfly',\n",
              " 'elephant',\n",
              " 'horse',\n",
              " 'deer',\n",
              " 'snake',\n",
              " 'fish',\n",
              " 'rooster',\n",
              " 'no illusion']"
            ]
          },
          "metadata": {},
          "execution_count": 99
        }
      ]
    },
    {
      "cell_type": "code",
      "source": [
        "set(y_pred)"
      ],
      "metadata": {
        "colab": {
          "base_uri": "https://localhost:8080/"
        },
        "outputId": "c352eb52-6e9c-491a-a7dd-facf0d920556",
        "id": "eHSJo2usIbp6"
      },
      "execution_count": null,
      "outputs": [
        {
          "output_type": "execute_result",
          "data": {
            "text/plain": [
              "{'arctic fox',\n",
              " 'bear',\n",
              " 'bee',\n",
              " 'bird',\n",
              " 'bison',\n",
              " 'butterfly',\n",
              " 'camel',\n",
              " 'cat',\n",
              " 'deer',\n",
              " 'dog',\n",
              " 'elephant',\n",
              " 'fish',\n",
              " 'fox',\n",
              " 'horse',\n",
              " 'jaguar',\n",
              " 'kangaroo',\n",
              " 'leopard',\n",
              " 'lion',\n",
              " 'no illusion',\n",
              " 'owl',\n",
              " 'peacock',\n",
              " 'pigeon',\n",
              " 'polar bear',\n",
              " 'rooster',\n",
              " 'shark',\n",
              " 'sheep',\n",
              " 'sloth',\n",
              " 'snake',\n",
              " 'squirrel',\n",
              " 'swan',\n",
              " 'the correct class is bear.',\n",
              " 'the correct class is giraffe.',\n",
              " 'the correct class is hyena.',\n",
              " 'the correct class is kangaroo.',\n",
              " 'the correct class is lion.',\n",
              " 'the correct class is manatee.',\n",
              " 'the correct class is octopus.',\n",
              " 'the correct class is puffin.',\n",
              " 'the correct class is shark.',\n",
              " 'the correct class is tiger.',\n",
              " 'the correct class is turtle.',\n",
              " 'tractor',\n",
              " 'turtle',\n",
              " 'wolf',\n",
              " 'zebra'}"
            ]
          },
          "metadata": {},
          "execution_count": 100
        }
      ]
    },
    {
      "cell_type": "code",
      "source": [
        "set(y_true)"
      ],
      "metadata": {
        "colab": {
          "base_uri": "https://localhost:8080/"
        },
        "outputId": "85f483fe-4849-43c6-a9d1-658a48a5c682",
        "id": "UGm1adLcIbp7"
      },
      "execution_count": null,
      "outputs": [
        {
          "output_type": "execute_result",
          "data": {
            "text/plain": [
              "{'butterfly',\n",
              " 'cat',\n",
              " 'deer',\n",
              " 'dog',\n",
              " 'elephant',\n",
              " 'fish',\n",
              " 'horse',\n",
              " 'no illusion',\n",
              " 'pigeon',\n",
              " 'rooster',\n",
              " 'snake'}"
            ]
          },
          "metadata": {},
          "execution_count": 101
        }
      ]
    },
    {
      "cell_type": "code",
      "source": [
        "accuracy = accuracy_score(y_true, y_pred)\n",
        "precision = precision_score(y_true, y_pred, average='macro')\n",
        "recall = recall_score(y_true, y_pred, average='macro')\n",
        "f1 = f1_score(y_true, y_pred, average='macro')\n",
        "\n",
        "print(\"Accuracy:\", accuracy)\n",
        "print(\"Precision:\", precision)\n",
        "print(\"Recall:\", recall)\n",
        "print(\"F1 score:\", f1)"
      ],
      "metadata": {
        "colab": {
          "base_uri": "https://localhost:8080/"
        },
        "outputId": "167fcb1d-88c8-49ad-bd0a-fd0996498722",
        "id": "XCOPYcmEIbp7"
      },
      "execution_count": null,
      "outputs": [
        {
          "output_type": "stream",
          "name": "stdout",
          "text": [
            "Accuracy: 0.549\n",
            "Precision: 0.14786855889006428\n",
            "Recall: 0.0626\n",
            "F1 score: 0.07719774399633532\n"
          ]
        },
        {
          "output_type": "stream",
          "name": "stderr",
          "text": [
            "/usr/local/lib/python3.10/dist-packages/sklearn/metrics/_classification.py:1344: UndefinedMetricWarning: Recall is ill-defined and being set to 0.0 in labels with no true samples. Use `zero_division` parameter to control this behavior.\n",
            "  _warn_prf(average, modifier, msg_start, len(result))\n"
          ]
        }
      ]
    },
    {
      "cell_type": "markdown",
      "source": [
        "## Illusion Filtered"
      ],
      "metadata": {
        "id": "2l1nhDehIbp7"
      }
    },
    {
      "cell_type": "code",
      "source": [
        "classes = {\n",
        "    'FashionMnist': ['T-shirt/top', 'Trouser', 'Pullover', 'Dress', 'Coat', 'Sandal', 'Shirt', 'Sneaker', 'Bag', 'Ankle boot', 'no illusion'],\n",
        "    'Mnist': ['digit 0', 'digit 1', 'digit 2', 'digit 3', 'digit 4', 'digit 5', 'digit 6', 'digit 7', 'digit 8', 'digit 9', 'no illusion'],\n",
        "    'IllusionAnimals': ['cat', 'dog', 'pigeon', 'butterfly', 'elephant', 'horse', 'deer', 'snake', 'fish', 'rooster' , 'no illusion'],\n",
        "}\n",
        "idx2label = {idx: label.strip().lower() for idx, label in enumerate(classes[dataset])}\n",
        "# y_true = list(df['label'].apply(lambda x: idx2label[x].strip().lower())) + list(df['label'].apply(lambda x: 'no illusion'))\n",
        "if dataset == 'IllusionAnimals':\n",
        "    y_true = list(df['label'].apply(lambda x: x.strip().lower())) + list(df['label'].apply(lambda x: 'no illusion'))\n",
        "else:\n",
        "    y_true = list(df['label'].apply(lambda x: idx2label[x].strip().lower())) + list(df['label'].apply(lambda x: 'no illusion'))\n",
        "\n",
        "\n",
        "y_pred = list(df[f'illusion_images_filtered'].apply(lambda x: find_class(x, classes[dataset]).strip().replace('\\'', '').lower())) + list(df[f'illusionless_images_filtered'].apply(lambda x: find_class(x, classes[dataset]).strip().replace('\\'', '').lower()))"
      ],
      "metadata": {
        "id": "nexJjSNUIbp7"
      },
      "execution_count": null,
      "outputs": []
    },
    {
      "cell_type": "code",
      "source": [
        "set(y_pred)"
      ],
      "metadata": {
        "colab": {
          "base_uri": "https://localhost:8080/"
        },
        "outputId": "5425ef2c-ab3b-4823-93f0-a603e7cb1796",
        "id": "5hO7bbshIbp7"
      },
      "execution_count": null,
      "outputs": [
        {
          "output_type": "execute_result",
          "data": {
            "text/plain": [
              "{'arctic fox',\n",
              " 'bear',\n",
              " 'bison',\n",
              " 'butterfly',\n",
              " 'camel',\n",
              " 'cat',\n",
              " 'cow',\n",
              " 'deer',\n",
              " 'dog',\n",
              " 'dolphin',\n",
              " 'dragon',\n",
              " 'elephant',\n",
              " 'fish',\n",
              " 'fox',\n",
              " 'horse',\n",
              " 'hummingbird',\n",
              " 'hyena',\n",
              " 'kangaroo',\n",
              " 'komodo dragon',\n",
              " 'lion',\n",
              " 'no illusion',\n",
              " 'octopus',\n",
              " 'otter',\n",
              " 'owl',\n",
              " 'peacock',\n",
              " 'pigeon',\n",
              " 'polar bear',\n",
              " 'rooster',\n",
              " 'shark',\n",
              " 'sheep',\n",
              " 'skier',\n",
              " 'sloth',\n",
              " 'snake',\n",
              " 'sphinx',\n",
              " 'squirrel',\n",
              " 'sunflower',\n",
              " 'swan',\n",
              " 'the correct class is giraffe.',\n",
              " 'tiger',\n",
              " 'tractor',\n",
              " 'turtle',\n",
              " 'wolf'}"
            ]
          },
          "metadata": {},
          "execution_count": 106
        }
      ]
    },
    {
      "cell_type": "code",
      "source": [
        "accuracy = accuracy_score(y_true, y_pred)\n",
        "precision = precision_score(y_true, y_pred, average='macro')\n",
        "recall = recall_score(y_true, y_pred, average='macro')\n",
        "f1 = f1_score(y_true, y_pred, average='macro')\n",
        "\n",
        "print(\"Accuracy:\", accuracy)\n",
        "print(\"Precision:\", precision)\n",
        "print(\"Recall:\", recall)\n",
        "print(\"F1 score:\", f1)"
      ],
      "metadata": {
        "colab": {
          "base_uri": "https://localhost:8080/"
        },
        "outputId": "bbc47b3e-4cca-4b12-82c6-0f5b3187a8b5",
        "id": "BwS8pIKsIbp7"
      },
      "execution_count": null,
      "outputs": [
        {
          "output_type": "stream",
          "name": "stdout",
          "text": [
            "Accuracy: 0.8815\n",
            "Precision: 0.24736349183709905\n",
            "Recall: 0.22540476190476189\n",
            "F1 score: 0.23358557425409368\n"
          ]
        },
        {
          "output_type": "stream",
          "name": "stderr",
          "text": [
            "/usr/local/lib/python3.10/dist-packages/sklearn/metrics/_classification.py:1344: UndefinedMetricWarning: Recall is ill-defined and being set to 0.0 in labels with no true samples. Use `zero_division` parameter to control this behavior.\n",
            "  _warn_prf(average, modifier, msg_start, len(result))\n"
          ]
        }
      ]
    },
    {
      "cell_type": "code",
      "source": [],
      "metadata": {
        "id": "dDKO1imSJRhJ"
      },
      "execution_count": null,
      "outputs": []
    }
  ]
}