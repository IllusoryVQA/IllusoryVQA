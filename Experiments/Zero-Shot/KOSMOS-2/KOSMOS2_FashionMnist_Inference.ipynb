{
  "cells": [
    {
      "cell_type": "markdown",
      "metadata": {
        "id": "8a9KFMYn6eQN"
      },
      "source": [
        "# Test on a single example"
      ]
    },
    {
      "cell_type": "markdown",
      "metadata": {
        "id": "doEtuIlFlN7T"
      },
      "source": [
        "## import libraries and load dataset"
      ]
    },
    {
      "cell_type": "markdown",
      "metadata": {
        "id": "qLZWhkim6jAM"
      },
      "source": [
        "### mount google drive"
      ]
    },
    {
      "cell_type": "code",
      "execution_count": null,
      "metadata": {
        "colab": {
          "base_uri": "https://localhost:8080/"
        },
        "id": "awZ74use52xM",
        "outputId": "32e5bd6d-973a-4a2b-fac5-61764962c503"
      },
      "outputs": [
        {
          "output_type": "stream",
          "name": "stdout",
          "text": [
            "Mounted at /content/drive\n"
          ]
        }
      ],
      "source": [
        "from google.colab import drive\n",
        "drive.mount('/content/drive')"
      ]
    },
    {
      "cell_type": "markdown",
      "metadata": {
        "id": "2WEkhUuM6omd"
      },
      "source": [
        "### install dependancies"
      ]
    },
    {
      "cell_type": "code",
      "execution_count": null,
      "metadata": {
        "id": "jaLJCXwH6qjr"
      },
      "outputs": [],
      "source": [
        "# !pip install accelerate -q\n",
        "# !pip install transformers -q"
      ]
    },
    {
      "cell_type": "markdown",
      "metadata": {
        "id": "5RWYeQKt6v8e"
      },
      "source": [
        "###  import libraries"
      ]
    },
    {
      "cell_type": "code",
      "execution_count": null,
      "metadata": {
        "id": "SE20h44y6x1-"
      },
      "outputs": [],
      "source": [
        "from PIL import Image\n",
        "import requests\n",
        "from transformers import AutoProcessor, AutoModel, Kosmos2ForConditionalGeneration, AutoModelForVision2Seq # AutoModelForCausalLM\n",
        "\n",
        "import requests\n",
        "from torch.utils.data import Dataset\n",
        "from tqdm.notebook import tqdm\n",
        "import torch\n",
        "import requests\n",
        "# from torchvision.transforms import *\n",
        "import random\n",
        "import pandas as pd\n",
        "from numpy.random import choice\n",
        "import os\n",
        "\n",
        "import torch\n",
        "import torch.nn as nn\n",
        "import torch.optim as optim\n",
        "from torch.utils.data import DataLoader\n",
        "from torchvision import transforms\n",
        "\n",
        "import cv2\n",
        "import numpy as np\n",
        "import torchvision.transforms as T\n",
        "import sys"
      ]
    },
    {
      "cell_type": "code",
      "execution_count": null,
      "metadata": {
        "id": "o3aRtin5UsuL"
      },
      "outputs": [],
      "source": [
        "def is_overlapping(rect1, rect2):\n",
        "    x1, y1, x2, y2 = rect1\n",
        "    x3, y3, x4, y4 = rect2\n",
        "    return not (x2 < x3 or x1 > x4 or y2 < y3 or y1 > y4)\n",
        "\n",
        "\n",
        "def draw_entity_boxes_on_image(image, entities, show=False, save_path=None):\n",
        "    \"\"\"_summary_\n",
        "    Args:\n",
        "        image (_type_): image or image path\n",
        "        collect_entity_location (_type_): _description_\n",
        "    \"\"\"\n",
        "    if isinstance(image, Image.Image):\n",
        "        image_h = image.height\n",
        "        image_w = image.width\n",
        "        image = np.array(image)[:, :, [2, 1, 0]]\n",
        "    elif isinstance(image, str):\n",
        "        if os.path.exists(image):\n",
        "            pil_img = Image.open(image).convert(\"RGB\")\n",
        "            image = np.array(pil_img)[:, :, [2, 1, 0]]\n",
        "            image_h = pil_img.height\n",
        "            image_w = pil_img.width\n",
        "        else:\n",
        "            raise ValueError(f\"invaild image path, {image}\")\n",
        "    elif isinstance(image, torch.Tensor):\n",
        "        image_tensor = image.cpu()\n",
        "        reverse_norm_mean = torch.tensor([0.48145466, 0.4578275, 0.40821073])[:, None, None]\n",
        "        reverse_norm_std = torch.tensor([0.26862954, 0.26130258, 0.27577711])[:, None, None]\n",
        "        image_tensor = image_tensor * reverse_norm_std + reverse_norm_mean\n",
        "        pil_img = T.ToPILImage()(image_tensor)\n",
        "        image_h = pil_img.height\n",
        "        image_w = pil_img.width\n",
        "        image = np.array(pil_img)[:, :, [2, 1, 0]]\n",
        "    else:\n",
        "        raise ValueError(f\"invaild image format, {type(image)} for {image}\")\n",
        "\n",
        "    if len(entities) == 0:\n",
        "        return image\n",
        "\n",
        "    new_image = image.copy()\n",
        "    previous_bboxes = []\n",
        "    # size of text\n",
        "    text_size = 1\n",
        "    # thickness of text\n",
        "    text_line = 1  # int(max(1 * min(image_h, image_w) / 512, 1))\n",
        "    box_line = 3\n",
        "    (c_width, text_height), _ = cv2.getTextSize(\"F\", cv2.FONT_HERSHEY_COMPLEX, text_size, text_line)\n",
        "    base_height = int(text_height * 0.675)\n",
        "    text_offset_original = text_height - base_height\n",
        "    text_spaces = 3\n",
        "\n",
        "    for entity_name, (start, end), bboxes in entities:\n",
        "        for (x1_norm, y1_norm, x2_norm, y2_norm) in bboxes:\n",
        "            orig_x1, orig_y1, orig_x2, orig_y2 = int(x1_norm * image_w), int(y1_norm * image_h), int(x2_norm * image_w), int(y2_norm * image_h)\n",
        "            # draw bbox\n",
        "            # random color\n",
        "            color = tuple(np.random.randint(0, 255, size=3).tolist())\n",
        "            new_image = cv2.rectangle(new_image, (orig_x1, orig_y1), (orig_x2, orig_y2), color, box_line)\n",
        "\n",
        "            l_o, r_o = box_line // 2 + box_line % 2, box_line // 2 + box_line % 2 + 1\n",
        "\n",
        "            x1 = orig_x1 - l_o\n",
        "            y1 = orig_y1 - l_o\n",
        "\n",
        "            if y1 < text_height + text_offset_original + 2 * text_spaces:\n",
        "                y1 = orig_y1 + r_o + text_height + text_offset_original + 2 * text_spaces\n",
        "                x1 = orig_x1 + r_o\n",
        "\n",
        "            # add text background\n",
        "            (text_width, text_height), _ = cv2.getTextSize(f\"  {entity_name}\", cv2.FONT_HERSHEY_COMPLEX, text_size, text_line)\n",
        "            text_bg_x1, text_bg_y1, text_bg_x2, text_bg_y2 = x1, y1 - (text_height + text_offset_original + 2 * text_spaces), x1 + text_width, y1\n",
        "\n",
        "            for prev_bbox in previous_bboxes:\n",
        "                while is_overlapping((text_bg_x1, text_bg_y1, text_bg_x2, text_bg_y2), prev_bbox):\n",
        "                    text_bg_y1 += (text_height + text_offset_original + 2 * text_spaces)\n",
        "                    text_bg_y2 += (text_height + text_offset_original + 2 * text_spaces)\n",
        "                    y1 += (text_height + text_offset_original + 2 * text_spaces)\n",
        "\n",
        "                    if text_bg_y2 >= image_h:\n",
        "                        text_bg_y1 = max(0, image_h - (text_height + text_offset_original + 2 * text_spaces))\n",
        "                        text_bg_y2 = image_h\n",
        "                        y1 = image_h\n",
        "                        break\n",
        "\n",
        "            alpha = 0.5\n",
        "            for i in range(text_bg_y1, text_bg_y2):\n",
        "                for j in range(text_bg_x1, text_bg_x2):\n",
        "                    if i < image_h and j < image_w:\n",
        "                        if j < text_bg_x1 + 1.35 * c_width:\n",
        "                            # original color\n",
        "                            bg_color = color\n",
        "                        else:\n",
        "                            # white\n",
        "                            bg_color = [255, 255, 255]\n",
        "                        new_image[i, j] = (alpha * new_image[i, j] + (1 - alpha) * np.array(bg_color)).astype(np.uint8)\n",
        "\n",
        "            cv2.putText(\n",
        "                new_image, f\"  {entity_name}\", (x1, y1 - text_offset_original - 1 * text_spaces), cv2.FONT_HERSHEY_COMPLEX, text_size, (0, 0, 0), text_line, cv2.LINE_AA\n",
        "            )\n",
        "            # previous_locations.append((x1, y1))\n",
        "            previous_bboxes.append((text_bg_x1, text_bg_y1, text_bg_x2, text_bg_y2))\n",
        "\n",
        "    pil_image = Image.fromarray(new_image[:, :, [2, 1, 0]])\n",
        "    if save_path:\n",
        "        pil_image.save(save_path)\n",
        "    if show:\n",
        "        pil_image.show()\n",
        "\n",
        "    return new_image\n",
        "\n",
        "\n",
        "# # (The same image from the previous code example)\n",
        "# url = \"https://huggingface.co/microsoft/kosmos-2-patch14-224/resolve/main/snowman.png\"\n",
        "# image = Image.open(requests.get(url, stream=True).raw)\n",
        "\n",
        "# # From the previous code example\n",
        "# entities = [('a snowman', (12, 21), [(0.390625, 0.046875, 0.984375, 0.828125)]), ('a fire', (41, 47), [(0.171875, 0.015625, 0.484375, 0.890625)])]"
      ]
    },
    {
      "cell_type": "markdown",
      "source": [
        "### reproducibility in inference"
      ],
      "metadata": {
        "id": "EFtZHRle2qkj"
      }
    },
    {
      "cell_type": "code",
      "source": [
        "GLOBAL_SEED = 10\n",
        "\n",
        "np.random.seed(GLOBAL_SEED)\n",
        "random.seed(GLOBAL_SEED)\n",
        "torch.manual_seed(GLOBAL_SEED)\n",
        "torch.use_deterministic_algorithms(True)\n",
        "%env CUBLAS_WORKSPACE_CONFIG=:4096:8\n",
        "\n",
        "torch.backends.cudnn.deterministic = True\n",
        "torch.backends.cudnn.benchmark = False"
      ],
      "metadata": {
        "colab": {
          "base_uri": "https://localhost:8080/"
        },
        "id": "-TLmdi9Y2xiD",
        "outputId": "b5c1c7dc-6a5b-421b-fda1-8b5ede196296"
      },
      "execution_count": null,
      "outputs": [
        {
          "output_type": "stream",
          "name": "stdout",
          "text": [
            "env: CUBLAS_WORKSPACE_CONFIG=:4096:8\n"
          ]
        }
      ]
    },
    {
      "cell_type": "markdown",
      "metadata": {
        "id": "IQgEkcj27QZU"
      },
      "source": [
        "### load a test image"
      ]
    },
    {
      "cell_type": "code",
      "execution_count": null,
      "metadata": {
        "id": "VGTOKIBp7P91"
      },
      "outputs": [],
      "source": [
        "# url = \"https://huggingface.co/microsoft/kosmos-2-patch14-224/resolve/main/snowman.jpg\"\n",
        "# image = Image.open(requests.get(url, stream=True).raw)\n",
        "\n",
        "fashion_mnist_images_folder = \"/content/drive/MyDrive/Final_project/FashionMnist\"\n",
        "illusionless_fashion_mnist_images_folder = \"/content/drive/MyDrive/Final_project/Illusionless_FashionMnist_captions\"\n",
        "\n",
        "data_df = pd.read_csv(\"/content/drive/MyDrive/Final_project/FashionMnist/df_data.csv\")\n",
        "# class_names = ['T-shirt/top', 'Trouser', 'Pullover', 'Dress', 'Coat',\n",
        "#                'Sandal', 'Shirt', 'Sneaker', 'Bag', 'Ankle boot']\n",
        "\n",
        "illusion_image_name = \"FashionMnist_1.jpg\"\n",
        "illusion_image_path = os.path.join(fashion_mnist_images_folder, \"ill_images\", illusion_image_name)\n",
        "illusion_image = Image.open(illusion_image_path) # .convert(\"RGB\")\n",
        "# \"/content/drive/MyDrive/Final_project/FashionMnist/ill_images/FashionMnist_1.jpg\"\n",
        "\n",
        "raw_image_name = \"FashionMnist_1.jpg\"\n",
        "raw_image_path = f\"{fashion_mnist_images_folder}/raw_images/{raw_image_name}\"\n",
        "raw_image = Image.open(raw_image_path) # .convert(\"RGB\")\n",
        "# \"/content/drive/MyDrive/Final_project/FashionMnist/raw_images/FashionMnist_1.jpg\"\n",
        "\n",
        "illusionless_image_name = \"FashionMnist_1.png\"\n",
        "illusionless_image_path = f\"{illusionless_fashion_mnist_images_folder}/illusionless_images/{illusionless_image_name}\"\n",
        "illusionless_image = Image.open(illusionless_image_path) # .convert(\"RGB\")\n",
        "# \"/content/drive/MyDrive/Final_project/Illusionless_FashionMnist_captions/illusionless_images/FashionMnist_1.png\"\n",
        "\n",
        "# illusion_image = Image.open(requests.get(url, stream=True).raw)"
      ]
    },
    {
      "cell_type": "code",
      "execution_count": null,
      "metadata": {
        "colab": {
          "base_uri": "https://localhost:8080/"
        },
        "id": "0gK423DElMHs",
        "outputId": "88a8e6fd-4ff0-4d5b-d20e-a602af4b0cb7"
      },
      "outputs": [
        {
          "name": "stdout",
          "output_type": "stream",
          "text": [
            "/content/drive/MyDrive/Final_Project/FashionMnist/ill_images/FashionMnist_1.jpg\n",
            "/content/drive/MyDrive/Final_project/FashionMnist/ill_images/FashionMnist_1.jpg\n"
          ]
        }
      ],
      "source": [
        "print(illusion_image_path)\n",
        "print(\"/content/drive/MyDrive/Final_project/FashionMnist/ill_images/FashionMnist_1.jpg\")"
      ]
    },
    {
      "cell_type": "code",
      "execution_count": null,
      "metadata": {
        "colab": {
          "base_uri": "https://localhost:8080/"
        },
        "id": "M-hPIPi-Egjd",
        "outputId": "bef7c130-ee90-45be-941a-19fbd3d9a9d3"
      },
      "outputs": [
        {
          "name": "stdout",
          "output_type": "stream",
          "text": [
            "The configuration and caption(Pprompt) for generating photo:\n"
          ]
        },
        {
          "data": {
            "text/plain": [
              "image_name                                           FashionMnist_1\n",
              "Pprompt              Two friends hiking on a mountain during sunset\n",
              "Nprompt                                                 low quality\n",
              "illusion_strength                                               1.5\n",
              "label                                                             9\n",
              "Name: 0, dtype: object"
            ]
          },
          "execution_count": 5,
          "metadata": {},
          "output_type": "execute_result"
        }
      ],
      "source": [
        "print(\"The configuration and caption(Pprompt) for generating photo:\")\n",
        "data_df.iloc[0]"
      ]
    },
    {
      "cell_type": "code",
      "execution_count": null,
      "metadata": {
        "colab": {
          "base_uri": "https://localhost:8080/",
          "height": 290
        },
        "id": "Q7SCqZb1B0fO",
        "outputId": "d1964e2d-4c3a-4268-a343-d329d9f66208"
      },
      "outputs": [
        {
          "name": "stdout",
          "output_type": "stream",
          "text": [
            "raw fashion mnist image (FashionMnist_1.jpg):\n"
          ]
        },
        {
          "data": {
            "image/png": "[encoded data removed]",
            "text/plain": [
              "<PIL.Image.Image image mode=L size=256x256>"
            ]
          },
          "execution_count": 6,
          "metadata": {},
          "output_type": "execute_result"
        }
      ],
      "source": [
        "print(\"raw fashion mnist image (FashionMnist_1.jpg):\")\n",
        "raw_image.resize((256, 256), Image.Resampling.LANCZOS)"
      ]
    },
    {
      "cell_type": "code",
      "execution_count": null,
      "metadata": {
        "colab": {
          "base_uri": "https://localhost:8080/",
          "height": 290
        },
        "id": "Z-_aUBGOBE8b",
        "outputId": "5a0e7d66-831b-408e-c945-9ae29312c0a6"
      },
      "outputs": [
        {
          "name": "stdout",
          "output_type": "stream",
          "text": [
            "illusion fashion mnist image (FashionMnist_1.jpg):\n"
          ]
        },
        {
          "data": {
            "image/png": "[encoded data removed]",
            "text/plain": [
              "<PIL.Image.Image image mode=RGB size=256x256>"
            ]
          },
          "execution_count": 7,
          "metadata": {},
          "output_type": "execute_result"
        }
      ],
      "source": [
        "print(\"illusion fashion mnist image (FashionMnist_1.jpg):\")\n",
        "illusion_image.resize((256, 256), Image.Resampling.LANCZOS)"
      ]
    },
    {
      "cell_type": "code",
      "execution_count": null,
      "metadata": {
        "colab": {
          "base_uri": "https://localhost:8080/",
          "height": 290
        },
        "id": "kopafQHhB_oc",
        "outputId": "9997ceb3-323e-40b4-a985-a7cd872d9667"
      },
      "outputs": [
        {
          "name": "stdout",
          "output_type": "stream",
          "text": [
            "illusionless fashion mnist image generated with same caption (FashionMnist_1.png):\n"
          ]
        },
        {
          "data": {
            "image/png": "[encoded data removed]",
            "text/plain": [
              "<PIL.Image.Image image mode=RGB size=256x256>"
            ]
          },
          "execution_count": 8,
          "metadata": {},
          "output_type": "execute_result"
        }
      ],
      "source": [
        "print(\"illusionless fashion mnist image generated with same caption (FashionMnist_1.png):\")\n",
        "illusionless_image.resize((256, 256), Image.Resampling.LANCZOS)"
      ]
    },
    {
      "cell_type": "markdown",
      "metadata": {
        "id": "mrI2_jT0ZKoh"
      },
      "source": [
        "## conditional Generation"
      ]
    },
    {
      "cell_type": "markdown",
      "metadata": {
        "id": "Qi0mImrJbH7u"
      },
      "source": [
        "### load model and processor"
      ]
    },
    {
      "cell_type": "code",
      "execution_count": null,
      "metadata": {
        "colab": {
          "base_uri": "https://localhost:8080/",
          "height": 446
        },
        "id": "xknv8wDY7JfM",
        "outputId": "caf7a896-7b80-4f9b-cf74-d77d83b115d8"
      },
      "outputs": [
        {
          "name": "stderr",
          "output_type": "stream",
          "text": [
            "/usr/local/lib/python3.10/dist-packages/huggingface_hub/utils/_token.py:88: UserWarning: \n",
            "The secret `HF_TOKEN` does not exist in your Colab secrets.\n",
            "To authenticate with the Hugging Face Hub, create a token in your settings tab (https://huggingface.co/settings/tokens), set it as secret in your Google Colab and restart your session.\n",
            "You will be able to reuse this secret in all of your notebooks.\n",
            "Please note that authentication is recommended but still optional to access public models or datasets.\n",
            "  warnings.warn(\n"
          ]
        },
        {
          "data": {
            "application/vnd.jupyter.widget-view+json": {
              "model_id": "bc6e854b67ba4c9bb2eff930ec105349",
              "version_major": 2,
              "version_minor": 0
            },
            "text/plain": [
              "config.json:   0%|          | 0.00/4.45k [00:00<?, ?B/s]"
            ]
          },
          "metadata": {},
          "output_type": "display_data"
        },
        {
          "data": {
            "application/vnd.jupyter.widget-view+json": {
              "model_id": "85839302dec04b5e8515ccacb1a826bf",
              "version_major": 2,
              "version_minor": 0
            },
            "text/plain": [
              "model.safetensors:   0%|          | 0.00/6.66G [00:00<?, ?B/s]"
            ]
          },
          "metadata": {},
          "output_type": "display_data"
        },
        {
          "data": {
            "application/vnd.jupyter.widget-view+json": {
              "model_id": "1e5f7466da2746459778b3cb6f81a93a",
              "version_major": 2,
              "version_minor": 0
            },
            "text/plain": [
              "generation_config.json:   0%|          | 0.00/137 [00:00<?, ?B/s]"
            ]
          },
          "metadata": {},
          "output_type": "display_data"
        },
        {
          "data": {
            "application/vnd.jupyter.widget-view+json": {
              "model_id": "6c1591552b3d4d2ba7daa1e1d935341b",
              "version_major": 2,
              "version_minor": 0
            },
            "text/plain": [
              "preprocessor_config.json:   0%|          | 0.00/534 [00:00<?, ?B/s]"
            ]
          },
          "metadata": {},
          "output_type": "display_data"
        },
        {
          "data": {
            "application/vnd.jupyter.widget-view+json": {
              "model_id": "394f19be993f4bc9b813d5a596c7ee67",
              "version_major": 2,
              "version_minor": 0
            },
            "text/plain": [
              "tokenizer_config.json:   0%|          | 0.00/191k [00:00<?, ?B/s]"
            ]
          },
          "metadata": {},
          "output_type": "display_data"
        },
        {
          "data": {
            "application/vnd.jupyter.widget-view+json": {
              "model_id": "ef5686e043f14c8a9639b76d9f2cad0e",
              "version_major": 2,
              "version_minor": 0
            },
            "text/plain": [
              "sentencepiece.bpe.model:   0%|          | 0.00/1.36M [00:00<?, ?B/s]"
            ]
          },
          "metadata": {},
          "output_type": "display_data"
        },
        {
          "data": {
            "application/vnd.jupyter.widget-view+json": {
              "model_id": "bd7947ade6d4452889a5825eafd8595d",
              "version_major": 2,
              "version_minor": 0
            },
            "text/plain": [
              "tokenizer.json:   0%|          | 0.00/4.70M [00:00<?, ?B/s]"
            ]
          },
          "metadata": {},
          "output_type": "display_data"
        },
        {
          "data": {
            "application/vnd.jupyter.widget-view+json": {
              "model_id": "439bac48e78d4462b986e4a9614c87df",
              "version_major": 2,
              "version_minor": 0
            },
            "text/plain": [
              "added_tokens.json:   0%|          | 0.00/32.0k [00:00<?, ?B/s]"
            ]
          },
          "metadata": {},
          "output_type": "display_data"
        },
        {
          "data": {
            "application/vnd.jupyter.widget-view+json": {
              "model_id": "b486717713db4e2db95a9f4aeb3138b0",
              "version_major": 2,
              "version_minor": 0
            },
            "text/plain": [
              "special_tokens_map.json:   0%|          | 0.00/1.06k [00:00<?, ?B/s]"
            ]
          },
          "metadata": {},
          "output_type": "display_data"
        },
        {
          "name": "stderr",
          "output_type": "stream",
          "text": [
            "Special tokens have been added in the vocabulary, make sure the associated word embeddings are fine-tuned or trained.\n"
          ]
        }
      ],
      "source": [
        "model = Kosmos2ForConditionalGeneration.from_pretrained(\"microsoft/kosmos-2-patch14-224\")\n",
        "processor = AutoProcessor.from_pretrained(\"microsoft/kosmos-2-patch14-224\")"
      ]
    },
    {
      "cell_type": "markdown",
      "metadata": {
        "id": "cuFIwNyxGOkZ"
      },
      "source": [
        "### inference on conditional generation model with prompt (say that it contains illuison)"
      ]
    },
    {
      "cell_type": "code",
      "execution_count": null,
      "metadata": {
        "colab": {
          "base_uri": "https://localhost:8080/",
          "height": 157
        },
        "id": "iiMstGvfGKJv",
        "outputId": "fb0e6142-a957-487b-a739-65f3494fcb15"
      },
      "outputs": [
        {
          "name": "stdout",
          "output_type": "stream",
          "text": [
            ">>    generated_text:\n"
          ]
        },
        {
          "data": {
            "application/vnd.google.colaboratory.intrinsic+json": {
              "type": "string"
            },
            "text/plain": [
              "'<image>. the, to and of as in I that\\' for is was- on’ it with The as at bet he have from by are \" you his “ this said not has an ( but had we her they will my or were their): up about out who one all been she can more would It</image><grounding> An image of a hidden illusioned object from fashion mnist dataset that contains following 10 classes: \\'T-shirt/top\\', \\'Trouser\\', \\'Pullover\\', \\'Dress\\', \\'Coat\\', \\'Sandal\\', \\'Shirt\\', \\'Sneaker\\', \\'Bag\\', \\'Ankle boot\\'. We just want to find The hidden object in a single word. The hidden object is: \\'top\\'.<phrase> The image</phrase><object><patch_index_0000><patch_index_1023></object> shows a group of people walking on a mountain trail at sunset.'"
            ]
          },
          "execution_count": 34,
          "metadata": {},
          "output_type": "execute_result"
        }
      ],
      "source": [
        "prompt = \"<grounding> An image of a hidden illusioned object from fashion mnist dataset that\\\n",
        "    contains following 10 classes: 'T-shirt/top' , 'Trouser' , 'Pullover' , 'Dress' , 'Coat' , 'Sandal' , 'Shirt' , 'Sneaker' , 'Bag' , 'Ankle boot'. We just\\\n",
        "    want to find The hidden object in a single word. The hidden object is:\"\n",
        "\n",
        "# prompt = \"<grounding> This image contains latent and hidden object in it. It was generated by an optical illusion diffuion model. \\\n",
        "#     In fact, it contains a illusioned hidden object from fashion mnsit dataset. The dataset has 10 different objects. These objects are: \\\n",
        "#     'T-shirt/top' , 'Trouser' , 'Pullover' , 'Dress' , 'Coat' , 'Sandal' , 'Shirt' , 'Sneaker' , 'Bag' , 'Ankle boot' . \\\n",
        "#     Please just generate answer in a single word one of the 10 classes above. For example, if you detect a 'T-shirt/top' just generate 'T-shirt/top'.\"\n",
        "\n",
        "# prompt = \"This image contains latent and hidden object in it. It was generated by an optical illusion diffuion model. \\\n",
        "#     In fact, it contains a illusioned hidden object from fashion mnsit dataset. The dataset has 10 different objects. These objects are: \\\n",
        "#     'T-shirt/top' , 'Trouser' , 'Pullover' , 'Dress' , 'Coat' , 'Sandal' , 'Shirt' , 'Sneaker' , 'Bag' , 'Ankle boot' . \\\n",
        "#     Please just generate answer in a single word one of the 10 classes above. For example, if you detect a 'T-shirt/top' just generate 'T-shirt/top'.\"\n",
        "\n",
        "image = illusion_image\n",
        "inputs = processor(text=prompt, images=image, return_tensors=\"pt\")\n",
        "\n",
        "generated_ids = model.generate(\n",
        "    pixel_values=inputs[\"pixel_values\"],\n",
        "    input_ids=inputs[\"input_ids\"],\n",
        "    attention_mask=inputs[\"attention_mask\"],\n",
        "    image_embeds=None,\n",
        "    image_embeds_position_mask=inputs[\"image_embeds_position_mask\"],\n",
        "    use_cache=True,\n",
        "    max_new_tokens=64,\n",
        ")\n",
        "\n",
        "generated_text = processor.batch_decode(generated_ids, skip_special_tokens=True)[0]\n",
        "print(\">>    generated_text:\")\n",
        "generated_text"
      ]
    },
    {
      "cell_type": "code",
      "execution_count": null,
      "metadata": {
        "colab": {
          "base_uri": "https://localhost:8080/"
        },
        "id": "FLzEPipAGgac",
        "outputId": "907fe3d4-6864-40f8-f1f6-88e85e405467"
      },
      "outputs": [
        {
          "name": "stdout",
          "output_type": "stream",
          "text": [
            ">>    processed_text:\n",
            "<grounding> An image of a hidden illusioned object from fashion mnist dataset that contains following 10 classes: 'T-shirt/top', 'Trouser', 'Pullover', 'Dress', 'Coat', 'Sandal', 'Shirt', 'Sneaker', 'Bag', 'Ankle boot'. We just want to find The hidden object in a single word. The hidden object is: 'top'.<phrase> The image</phrase><object><patch_index_0000><patch_index_1023></object> shows a group of people walking on a mountain trail at sunset.\n",
            ">>    caption:\n",
            "An image of a hidden illusioned object from fashion mnist dataset that contains following 10 classes: 'T-shirt/top', 'Trouser', 'Pullover', 'Dress', 'Coat', 'Sandal', 'Shirt', 'Sneaker', 'Bag', 'Ankle boot'. We just want to find The hidden object in a single word. The hidden object is: 'top'. The image shows a group of people walking on a mountain trail at sunset.\n",
            ">>    entities:\n",
            "[('The image', (294, 303), [(0.015625, 0.015625, 0.984375, 0.984375)])]\n",
            ">>    answer:\n",
            "'top'. The image shows a group of people walking on a mountain trail at sunset.\n",
            ">>    extracted answer:\n",
            "top\n"
          ]
        }
      ],
      "source": [
        "processed_text = processor.post_process_generation(generated_text, cleanup_and_extract=False)\n",
        "print(\">>    processed_text:\")\n",
        "print(processed_text)\n",
        "\n",
        "caption, entities = processor.post_process_generation(generated_text)\n",
        "print(\">>    caption:\")\n",
        "print(caption)\n",
        "\n",
        "print(\">>    entities:\")\n",
        "print(entities)\n",
        "\n",
        "print(\">>    answer:\")\n",
        "print(caption.split(\"The hidden object is:\")[1].strip())\n",
        "\n",
        "print(\">>    extracted answer:\")\n",
        "print(caption.split(\"The hidden object is:\")[1].strip().split(\"'\")[1])"
      ]
    },
    {
      "cell_type": "markdown",
      "metadata": {
        "id": "N2mRkmYXMORk"
      },
      "source": [
        "### inference inference on conditional generation model with prompt (say that it may contains illuison)\n",
        "\n"
      ]
    },
    {
      "cell_type": "code",
      "execution_count": null,
      "metadata": {
        "colab": {
          "base_uri": "https://localhost:8080/",
          "height": 157
        },
        "id": "bCu5MrmuMR3u",
        "outputId": "b981f806-710a-4ee8-9c25-073a81cce61e"
      },
      "outputs": [
        {
          "name": "stdout",
          "output_type": "stream",
          "text": [
            ">>    generated_text:\n"
          ]
        },
        {
          "data": {
            "application/vnd.google.colaboratory.intrinsic+json": {
              "type": "string"
            },
            "text/plain": [
              "'<image>. the, to and of as in I that\\' for is was- on’ it with The as at bet he have from by are \" you his “ this said not has an ( but had we her they will my or were their): up about out who one all been she can more would It</image><grounding> This image may have a hidden illusioned object from fashion mnist dataset that contains following 11 classes: \\'T-shirt/top\\', \\'Trouser\\', \\'Pullover\\', \\'Dress\\', \\'Coat\\', \\'Sandal\\', \\'Shirt\\', \\'Sneaker\\', \\'Bag\\', \\'Ankle boot\\', \\'No hidden object\\'. We just want to find The hidden object in a single word. The hidden object is: \\'backpack\\'.<phrase> The image</phrase><object><patch_index_0000><patch_index_1023></object> is a beautiful mountain landscape with a group of people walking towards the sunset.'"
            ]
          },
          "execution_count": 32,
          "metadata": {},
          "output_type": "execute_result"
        }
      ],
      "source": [
        "prompt = \"<grounding> This image may have a hidden illusioned object from fashion mnist dataset that\\\n",
        "    contains following 11 classes: 'T-shirt/top' , 'Trouser' , 'Pullover' , 'Dress' , 'Coat' , 'Sandal' , 'Shirt' , 'Sneaker' , 'Bag' , 'Ankle boot' , 'No hidden object' . We just\\\n",
        "    want to find The hidden object in a single word. The hidden object is: \"\n",
        "\n",
        "# prompt = \"<grounding> This image may contains latent and hidden object in it or not. Either It was generated by an optical illusion diffuion model \\\n",
        "#     that contains an illusioned hidden object, or tt was generated by a text to image stable illusion model that does not contain an illusioned hidden object . \\\n",
        "#     If it contains a hidden object, it contains an illusioned hidden object from fashion mnsit dataset. The dataset has 10 different objects. These objects are: \\\n",
        "#     'T-shirt/top' , 'Trouser' , 'Pullover' , 'Dress' , 'Coat' , 'Sandal' , 'Shirt' , 'Sneaker' , 'Bag' , 'Ankle boot' . \\\n",
        "#     Please just generate answer in a single word. If it does not contain a hidden object just generate 'no'. \\\n",
        "#     Otherwise if it contains a hidden object just generate one of the 10 classes above in one word. \\\n",
        "#     For example, if you detect a 'T-shirt/top' just generate 'T-shirt/top'. and if you do not detect any hidden obeject just generate 'no' .\"\n",
        "\n",
        "# prompt = \"This image may contains latent and hidden object in it or not. Either It was generated by an optical illusion diffuion model \\\n",
        "#     that contains an illusioned hidden object, or tt was generated by a text to image stable illusion model that does not contain an illusioned hidden object . \\\n",
        "#     If it contains a hidden object, it contains an illusioned hidden object from fashion mnsit dataset. The dataset has 10 different objects. These objects are: \\\n",
        "#     'T-shirt/top' , 'Trouser' , 'Pullover' , 'Dress' , 'Coat' , 'Sandal' , 'Shirt' , 'Sneaker' , 'Bag' , 'Ankle boot' . \\\n",
        "#     Please just generate answer in a single word. If it does not contain a hidden object just generate 'no'. \\\n",
        "#     Otherwise if it contains a hidden object just generate one of the 10 classes above in one word. \\\n",
        "#     For example, if you detect a 'T-shirt/top' just generate 'T-shirt/top'. and if you do not detect any hidden obeject just generate 'no' .\"\n",
        "\n",
        "image = illusionless_image\n",
        "inputs = processor(text=prompt, images=image, return_tensors=\"pt\")\n",
        "\n",
        "generated_ids = model.generate(\n",
        "    pixel_values=inputs[\"pixel_values\"],\n",
        "    input_ids=inputs[\"input_ids\"],\n",
        "    attention_mask=inputs[\"attention_mask\"],\n",
        "    image_embeds=None,\n",
        "    image_embeds_position_mask=inputs[\"image_embeds_position_mask\"],\n",
        "    use_cache=True,\n",
        "    max_new_tokens=64,\n",
        ")\n",
        "\n",
        "generated_text = processor.batch_decode(generated_ids, skip_special_tokens=True)[0]\n",
        "print(\">>    generated_text:\")\n",
        "generated_text"
      ]
    },
    {
      "cell_type": "code",
      "execution_count": null,
      "metadata": {
        "colab": {
          "base_uri": "https://localhost:8080/"
        },
        "id": "4xxt9t_BWPoU",
        "outputId": "d6eabc00-54c3-4592-eb70-8b473b18cb8b"
      },
      "outputs": [
        {
          "name": "stdout",
          "output_type": "stream",
          "text": [
            ">>    processed_text:\n",
            "<grounding> This image may have a hidden illusioned object from fashion mnist dataset that contains following 11 classes: 'T-shirt/top', 'Trouser', 'Pullover', 'Dress', 'Coat', 'Sandal', 'Shirt', 'Sneaker', 'Bag', 'Ankle boot', 'No hidden object'. We just want to find The hidden object in a single word. The hidden object is: 'backpack'.<phrase> The image</phrase><object><patch_index_0000><patch_index_1023></object> is a beautiful mountain landscape with a group of people walking towards the sunset.\n",
            ">>    caption:\n",
            "This image may have a hidden illusioned object from fashion mnist dataset that contains following 11 classes: 'T-shirt/top', 'Trouser', 'Pullover', 'Dress', 'Coat', 'Sandal', 'Shirt', 'Sneaker', 'Bag', 'Ankle boot', 'No hidden object'. We just want to find The hidden object in a single word. The hidden object is: 'backpack'. The image is a beautiful mountain landscape with a group of people walking towards the sunset.\n",
            ">>    entities:\n",
            "[('The image', (327, 336), [(0.015625, 0.015625, 0.984375, 0.984375)])]\n",
            ">>    answer:\n",
            "'backpack'. The image is a beautiful mountain landscape with a group of people walking towards the sunset.\n",
            ">>    extracted answer:\n",
            "backpack\n"
          ]
        }
      ],
      "source": [
        "processed_text = processor.post_process_generation(generated_text, cleanup_and_extract=False)\n",
        "print(\">>    processed_text:\")\n",
        "print(processed_text)\n",
        "\n",
        "caption, entities = processor.post_process_generation(generated_text)\n",
        "print(\">>    caption:\")\n",
        "print(caption)\n",
        "\n",
        "print(\">>    entities:\")\n",
        "print(entities)\n",
        "\n",
        "print(\">>    answer:\")\n",
        "print(caption.split(\"The hidden object is:\")[1].strip())\n",
        "\n",
        "print(\">>    extracted answer:\")\n",
        "print(caption.split(\"The hidden object is:\")[1].strip().split(\"'\")[1])"
      ]
    },
    {
      "cell_type": "code",
      "execution_count": null,
      "metadata": {
        "colab": {
          "base_uri": "https://localhost:8080/",
          "height": 157
        },
        "id": "Q7s-YxTXS1vk",
        "outputId": "5979eea8-ff6a-45b6-f5a4-8bd6ddf98ef2"
      },
      "outputs": [
        {
          "name": "stdout",
          "output_type": "stream",
          "text": [
            ">>    generated_text:\n"
          ]
        },
        {
          "data": {
            "application/vnd.google.colaboratory.intrinsic+json": {
              "type": "string"
            },
            "text/plain": [
              "'<image>. the, to and of as in I that\\' for is was- on’ it with The as at bet he have from by are \" you his “ this said not has an ( but had we her they will my or were their): up about out who one all been she can more would It</image><grounding> This image may have a hidden illusioned object from fashion mnist dataset that contains following 11 classes: \\'T-shirt/top\\', \\'Trouser\\', \\'Pullover\\', \\'Dress\\', \\'Coat\\', \\'Sandal\\', \\'Shirt\\', \\'Sneaker\\', \\'Bag\\', \\'Ankle boot\\', \\'No hidden object\\'. We just want to find The hidden object in a single word. The hidden object is: \\'Fashion\\'.<phrase> The image</phrase><object><patch_index_0000><patch_index_1023></object> is a beautiful sunset on a mountain top.'"
            ]
          },
          "execution_count": 30,
          "metadata": {},
          "output_type": "execute_result"
        }
      ],
      "source": [
        "prompt = \"<grounding> This image may have a hidden illusioned object from fashion mnist dataset that\\\n",
        "    contains following 11 classes: 'T-shirt/top' , 'Trouser' , 'Pullover' , 'Dress' , 'Coat' , 'Sandal' , 'Shirt' , 'Sneaker' , 'Bag' , 'Ankle boot' , 'No hidden object' . We just\\\n",
        "    want to find The hidden object in a single word. The hidden object is: \"\n",
        "\n",
        "# prompt = \"<grounding> This image may contains latent and hidden object in it or not. Either It was generated by an optical illusion diffuion model \\\n",
        "#     that contains an illusioned hidden object, or tt was generated by a text to image stable illusion model that does not contain an illusioned hidden object . \\\n",
        "#     If it contains a hidden object, it contains an illusioned hidden object from fashion mnsit dataset. The dataset has 10 different objects. These objects are: \\\n",
        "#     'T-shirt/top' , 'Trouser' , 'Pullover' , 'Dress' , 'Coat' , 'Sandal' , 'Shirt' , 'Sneaker' , 'Bag' , 'Ankle boot' . \\\n",
        "#     Please just generate answer in a single word. If it does not contain a hidden object just generate 'no'. \\\n",
        "#     Otherwise if it contains a hidden object just generate one of the 10 classes above in one word. \\\n",
        "#     For example, if you detect a 'T-shirt/top' just generate 'T-shirt/top'. and if you do not detect any hidden obeject just generate 'no' .\"\n",
        "\n",
        "# prompt = \"This image may contains latent and hidden object in it or not. Either It was generated by an optical illusion diffuion model \\\n",
        "#     that contains an illusioned hidden object, or tt was generated by a text to image stable illusion model that does not contain an illusioned hidden object . \\\n",
        "#     If it contains a hidden object, it contains an illusioned hidden object from fashion mnsit dataset. The dataset has 10 different objects. These objects are: \\\n",
        "#     'T-shirt/top' , 'Trouser' , 'Pullover' , 'Dress' , 'Coat' , 'Sandal' , 'Shirt' , 'Sneaker' , 'Bag' , 'Ankle boot' . \\\n",
        "#     Please just generate answer in a single word. If it does not contain a hidden object just generate 'no'. \\\n",
        "#     Otherwise if it contains a hidden object just generate one of the 10 classes above in one word. \\\n",
        "#     For example, if you detect a 'T-shirt/top' just generate 'T-shirt/top'. and if you do not detect any hidden obeject just generate 'no' .\"\n",
        "\n",
        "image = illusion_image\n",
        "inputs = processor(text=prompt, images=image, return_tensors=\"pt\")\n",
        "\n",
        "generated_ids = model.generate(\n",
        "    pixel_values=inputs[\"pixel_values\"],\n",
        "    input_ids=inputs[\"input_ids\"],\n",
        "    attention_mask=inputs[\"attention_mask\"],\n",
        "    image_embeds=None,\n",
        "    image_embeds_position_mask=inputs[\"image_embeds_position_mask\"],\n",
        "    use_cache=True,\n",
        "    max_new_tokens=64,\n",
        ")\n",
        "\n",
        "generated_text = processor.batch_decode(generated_ids, skip_special_tokens=True)[0]\n",
        "print(\">>    generated_text:\")\n",
        "generated_text"
      ]
    },
    {
      "cell_type": "code",
      "execution_count": null,
      "metadata": {
        "colab": {
          "base_uri": "https://localhost:8080/"
        },
        "id": "eaZ4zuv3Wbkl",
        "outputId": "b6efb97e-2963-47b9-ff7c-30fed264681b"
      },
      "outputs": [
        {
          "name": "stdout",
          "output_type": "stream",
          "text": [
            ">>    processed_text:\n",
            "<grounding> This image may have a hidden illusioned object from fashion mnist dataset that contains following 11 classes: 'T-shirt/top', 'Trouser', 'Pullover', 'Dress', 'Coat', 'Sandal', 'Shirt', 'Sneaker', 'Bag', 'Ankle boot', 'No hidden object'. We just want to find The hidden object in a single word. The hidden object is: 'Fashion'.<phrase> The image</phrase><object><patch_index_0000><patch_index_1023></object> is a beautiful sunset on a mountain top.\n",
            ">>    caption:\n",
            "This image may have a hidden illusioned object from fashion mnist dataset that contains following 11 classes: 'T-shirt/top', 'Trouser', 'Pullover', 'Dress', 'Coat', 'Sandal', 'Shirt', 'Sneaker', 'Bag', 'Ankle boot', 'No hidden object'. We just want to find The hidden object in a single word. The hidden object is: 'Fashion'. The image is a beautiful sunset on a mountain top.\n",
            ">>    entities:\n",
            "[('The image', (326, 335), [(0.015625, 0.015625, 0.984375, 0.984375)])]\n",
            ">>    answer:\n",
            "'Fashion'. The image is a beautiful sunset on a mountain top.\n",
            ">>    extracted answer:\n",
            "Fashion\n"
          ]
        }
      ],
      "source": [
        "processed_text = processor.post_process_generation(generated_text, cleanup_and_extract=False)\n",
        "print(\">>    processed_text:\")\n",
        "print(processed_text)\n",
        "\n",
        "caption, entities = processor.post_process_generation(generated_text)\n",
        "print(\">>    caption:\")\n",
        "print(caption)\n",
        "\n",
        "print(\">>    entities:\")\n",
        "print(entities)\n",
        "\n",
        "print(\">>    answer:\")\n",
        "print(caption.split(\"The hidden object is:\")[1].strip())\n",
        "\n",
        "print(\">>    extracted answer:\")\n",
        "print(caption.split(\"The hidden object is:\")[1].strip().split(\"'\")[1])"
      ]
    },
    {
      "cell_type": "markdown",
      "metadata": {
        "id": "xEWzf1TbTMHd"
      },
      "source": [
        "### giving raw image to detect suitable class the conditional generation model"
      ]
    },
    {
      "cell_type": "code",
      "execution_count": null,
      "metadata": {
        "colab": {
          "base_uri": "https://localhost:8080/",
          "height": 157
        },
        "id": "wU1GSCNsTLzl",
        "outputId": "a78f9bfa-2e00-42ab-d5a2-6d2d692b41fc"
      },
      "outputs": [
        {
          "name": "stdout",
          "output_type": "stream",
          "text": [
            ">>    generated_text:\n"
          ]
        },
        {
          "data": {
            "application/vnd.google.colaboratory.intrinsic+json": {
              "type": "string"
            },
            "text/plain": [
              "'<image>. the, to and of as in I that\\' for is was- on’ it with The as at bet he have from by are \" you his “ this said not has an ( but had we her they will my or were their): up about out who one all been she can more would It</image><grounding> This image is from fashion mnist dataset. The dataset has 10 different objects. These objects are: \\'T-shirt/top\\', \\'Trouser\\', \\'Pullover\\', \\'Dress\\', \\'Coat\\', \\'Sandal\\', \\'Shirt\\', \\'Sneaker\\', \\'Bag\\', \\'Ankle boot\\'. Please just generate answer that says which class this image belongs to in a single word. For example, if you detect a \\'T-shirt/top\\' just generate \\'T-shirt/top\\'. The object in this image is: \\'Trousers\\'.<phrase> The dataset</phrase><object><patch_index_0000><patch_index_1023></object> has 10 objects.'"
            ]
          },
          "execution_count": 24,
          "metadata": {},
          "output_type": "execute_result"
        }
      ],
      "source": [
        "# prompt = \"<grounding> This image is from fashion mnist dataset. The dataset has 10 different objects. These objects are: \\\n",
        "#     'T-shirt/top' , 'Trouser' , 'Pullover' , 'Dress' , 'Coat' , 'Sandal' , 'Shirt' , 'Sneaker' , 'Bag' , 'Ankle boot' . \\\n",
        "#     Please just generate answer that says which class this image belongs to in a single word. \\\n",
        "#     The object in this image is: \"\n",
        "\n",
        "prompt = \"<grounding> This image is from fashion mnist dataset. The dataset has 10 different objects. These objects are: \\\n",
        "    'T-shirt/top' , 'Trouser' , 'Pullover' , 'Dress' , 'Coat' , 'Sandal' , 'Shirt' , 'Sneaker' , 'Bag' , 'Ankle boot' . \\\n",
        "    Please just generate answer that says which class this image belongs to in a single word. \\\n",
        "    For example, if you detect a 'T-shirt/top' just generate 'T-shirt/top'. \\\n",
        "    The object in this image is: \"\n",
        "\n",
        "image = raw_image.convert(\"RGB\")\n",
        "inputs = processor(text=prompt, images=image, return_tensors=\"pt\")\n",
        "\n",
        "generated_ids = model.generate(\n",
        "    pixel_values=inputs[\"pixel_values\"],\n",
        "    input_ids=inputs[\"input_ids\"],\n",
        "    attention_mask=inputs[\"attention_mask\"],\n",
        "    image_embeds=None,\n",
        "    image_embeds_position_mask=inputs[\"image_embeds_position_mask\"],\n",
        "    use_cache=True,\n",
        "    max_new_tokens=64,\n",
        ")\n",
        "\n",
        "generated_text = processor.batch_decode(generated_ids, skip_special_tokens=True)[0]\n",
        "print(\">>    generated_text:\")\n",
        "generated_text"
      ]
    },
    {
      "cell_type": "code",
      "execution_count": null,
      "metadata": {
        "colab": {
          "base_uri": "https://localhost:8080/"
        },
        "id": "DBA3D4Z2WlxK",
        "outputId": "34642ce9-9ae7-4d90-da83-fd6a6643dec2"
      },
      "outputs": [
        {
          "name": "stdout",
          "output_type": "stream",
          "text": [
            ">>    processed_text:\n",
            "<grounding> This image is from fashion mnist dataset. The dataset has 10 different objects. These objects are: 'T-shirt/top', 'Trouser', 'Pullover', 'Dress', 'Coat', 'Sandal', 'Shirt', 'Sneaker', 'Bag', 'Ankle boot'. Please just generate answer that says which class this image belongs to in a single word. For example, if you detect a 'T-shirt/top' just generate 'T-shirt/top'. The object in this image is: 'Trousers'.<phrase> The dataset</phrase><object><patch_index_0000><patch_index_1023></object> has 10 objects.\n",
            ">>    caption:\n",
            "This image is from fashion mnist dataset. The dataset has 10 different objects. These objects are: 'T-shirt/top', 'Trouser', 'Pullover', 'Dress', 'Coat', 'Sandal', 'Shirt', 'Sneaker', 'Bag', 'Ankle boot'. Please just generate answer that says which class this image belongs to in a single word. For example, if you detect a 'T-shirt/top' just generate 'T-shirt/top'. The object in this image is: 'Trousers'. The dataset has 10 objects.\n",
            ">>    entities:\n",
            "[('The dataset', (408, 419), [(0.015625, 0.015625, 0.984375, 0.984375)])]\n",
            ">>    answer:\n",
            "'Trousers'. The dataset has 10 objects.\n",
            ">>    extracted answer:\n",
            "Trousers\n"
          ]
        }
      ],
      "source": [
        "processed_text = processor.post_process_generation(generated_text, cleanup_and_extract=False)\n",
        "print(\">>    processed_text:\")\n",
        "print(processed_text)\n",
        "\n",
        "caption, entities = processor.post_process_generation(generated_text)\n",
        "print(\">>    caption:\")\n",
        "print(caption)\n",
        "\n",
        "print(\">>    entities:\")\n",
        "print(entities)\n",
        "\n",
        "print(\">>    answer:\")\n",
        "print(caption.split(\"The object in this image is:\")[1].strip())\n",
        "\n",
        "print(\">>    extracted answer:\")\n",
        "print(caption.split(\"The object in this image is:\")[1].strip().split(\"'\")[1])"
      ]
    },
    {
      "cell_type": "code",
      "execution_count": null,
      "metadata": {
        "colab": {
          "base_uri": "https://localhost:8080/",
          "height": 552
        },
        "id": "aU2gKcezUOfu",
        "outputId": "5b2b45dd-2c97-44e2-b95c-725052921d5f"
      },
      "outputs": [
        {
          "data": {
            "text/html": [
              "<style>\n",
              "      .ndarray_repr .ndarray_raw_data {\n",
              "        display: none;\n",
              "      }\n",
              "      .ndarray_repr.show_array .ndarray_raw_data {\n",
              "        display: block;\n",
              "      }\n",
              "      .ndarray_repr.show_array .ndarray_image_preview {\n",
              "        display: none;\n",
              "      }\n",
              "      </style>\n",
              "      <div id=\"id-090cc680-db8f-41ed-80a8-a92ef24d11fa\" class=\"ndarray_repr\"><pre>ndarray (512, 512, 3) <button style=\"padding: 0 2px;\">show data</button></pre><img src=\"data:image/png;base64,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\" class=\"ndarray_image_preview\" /><pre class=\"ndarray_raw_data\">array([[[1, 1, 1],\n",
              "        [1, 1, 1],\n",
              "        [1, 1, 1],\n",
              "        ...,\n",
              "        [1, 1, 1],\n",
              "        [1, 1, 1],\n",
              "        [1, 1, 1]],\n",
              "\n",
              "       [[1, 1, 1],\n",
              "        [1, 1, 1],\n",
              "        [1, 1, 1],\n",
              "        ...,\n",
              "        [1, 1, 1],\n",
              "        [1, 1, 1],\n",
              "        [1, 1, 1]],\n",
              "\n",
              "       [[1, 1, 1],\n",
              "        [1, 1, 1],\n",
              "        [1, 1, 1],\n",
              "        ...,\n",
              "        [1, 1, 1],\n",
              "        [1, 1, 1],\n",
              "        [1, 1, 1]],\n",
              "\n",
              "       ...,\n",
              "\n",
              "       [[1, 1, 1],\n",
              "        [1, 1, 1],\n",
              "        [1, 1, 1],\n",
              "        ...,\n",
              "        [1, 1, 1],\n",
              "        [1, 1, 1],\n",
              "        [1, 1, 1]],\n",
              "\n",
              "       [[1, 1, 1],\n",
              "        [1, 1, 1],\n",
              "        [1, 1, 1],\n",
              "        ...,\n",
              "        [1, 1, 1],\n",
              "        [1, 1, 1],\n",
              "        [1, 1, 1]],\n",
              "\n",
              "       [[1, 1, 1],\n",
              "        [1, 1, 1],\n",
              "        [1, 1, 1],\n",
              "        ...,\n",
              "        [1, 1, 1],\n",
              "        [1, 1, 1],\n",
              "        [1, 1, 1]]], dtype=uint8)</pre></div><script>\n",
              "      (() => {\n",
              "      const titles = ['show data', 'hide data'];\n",
              "      let index = 0\n",
              "      document.querySelector('#id-090cc680-db8f-41ed-80a8-a92ef24d11fa button').onclick = (e) => {\n",
              "        document.querySelector('#id-090cc680-db8f-41ed-80a8-a92ef24d11fa').classList.toggle('show_array');\n",
              "        index = (++index) % 2;\n",
              "        document.querySelector('#id-090cc680-db8f-41ed-80a8-a92ef24d11fa button').textContent = titles[index];\n",
              "        e.preventDefault();\n",
              "        e.stopPropagation();\n",
              "      }\n",
              "      })();\n",
              "    </script>"
            ],
            "text/plain": [
              "array([[[1, 1, 1],\n",
              "        [1, 1, 1],\n",
              "        [1, 1, 1],\n",
              "        ...,\n",
              "        [1, 1, 1],\n",
              "        [1, 1, 1],\n",
              "        [1, 1, 1]],\n",
              "\n",
              "       [[1, 1, 1],\n",
              "        [1, 1, 1],\n",
              "        [1, 1, 1],\n",
              "        ...,\n",
              "        [1, 1, 1],\n",
              "        [1, 1, 1],\n",
              "        [1, 1, 1]],\n",
              "\n",
              "       [[1, 1, 1],\n",
              "        [1, 1, 1],\n",
              "        [1, 1, 1],\n",
              "        ...,\n",
              "        [1, 1, 1],\n",
              "        [1, 1, 1],\n",
              "        [1, 1, 1]],\n",
              "\n",
              "       ...,\n",
              "\n",
              "       [[1, 1, 1],\n",
              "        [1, 1, 1],\n",
              "        [1, 1, 1],\n",
              "        ...,\n",
              "        [1, 1, 1],\n",
              "        [1, 1, 1],\n",
              "        [1, 1, 1]],\n",
              "\n",
              "       [[1, 1, 1],\n",
              "        [1, 1, 1],\n",
              "        [1, 1, 1],\n",
              "        ...,\n",
              "        [1, 1, 1],\n",
              "        [1, 1, 1],\n",
              "        [1, 1, 1]],\n",
              "\n",
              "       [[1, 1, 1],\n",
              "        [1, 1, 1],\n",
              "        [1, 1, 1],\n",
              "        ...,\n",
              "        [1, 1, 1],\n",
              "        [1, 1, 1],\n",
              "        [1, 1, 1]]], dtype=uint8)"
            ]
          },
          "execution_count": 26,
          "metadata": {},
          "output_type": "execute_result"
        }
      ],
      "source": [
        "# Draw the bounding bboxes\n",
        "new_image = draw_entity_boxes_on_image(image, entities, show=True, save_path=\"/content/bbox_image.jpg\")\n",
        "new_image"
      ]
    },
    {
      "cell_type": "code",
      "execution_count": null,
      "metadata": {
        "colab": {
          "base_uri": "https://localhost:8080/",
          "height": 105
        },
        "id": "0fzORcT1iMQm",
        "outputId": "aef2780b-3d98-488b-d42e-c320e886ebfc"
      },
      "outputs": [
        {
          "name": "stdout",
          "output_type": "stream",
          "text": [
            ">>    generated_text:\n"
          ]
        },
        {
          "data": {
            "application/vnd.google.colaboratory.intrinsic+json": {
              "type": "string"
            },
            "text/plain": [
              "'<image>. the, to and of as in I that\\' for is was- on’ it with The as at bet he have from by are \" you his “ this said not has an ( but had we her they will my or were their): up about out who one all been she can more would It</image><grounding> An image of<phrase> a shoe</phrase><object><patch_index_0256><patch_index_0831></object> and<phrase> a building</phrase><object><patch_index_0338><patch_index_0733></object>, with<phrase> a black background</phrase><object><patch_index_0000><patch_index_1023></object>'"
            ]
          },
          "execution_count": 6,
          "metadata": {},
          "output_type": "execute_result"
        }
      ],
      "source": [
        "# prompt = \"<grounding> This image is from fashion mnist dataset. The dataset has 10 different objects. These objects are: \\\n",
        "#     'T-shirt/top' , 'Trouser' , 'Pullover' , 'Dress' , 'Coat' , 'Sandal' , 'Shirt' , 'Sneaker' , 'Bag' , 'Ankle boot' . \\\n",
        "#     Please just generate answer that says which class this image belongs to in a single word. \\\n",
        "#     The object in this image is: \"\n",
        "\n",
        "prompt = \"<grounding> An image of \"\n",
        "\n",
        "image = raw_image.convert(\"RGB\")\n",
        "inputs = processor(text=prompt, images=image, return_tensors=\"pt\")\n",
        "\n",
        "generated_ids = model.generate(\n",
        "    pixel_values=inputs[\"pixel_values\"],\n",
        "    input_ids=inputs[\"input_ids\"],\n",
        "    attention_mask=inputs[\"attention_mask\"],\n",
        "    image_embeds=None,\n",
        "    image_embeds_position_mask=inputs[\"image_embeds_position_mask\"],\n",
        "    use_cache=True,\n",
        "    max_new_tokens=64,\n",
        ")\n",
        "\n",
        "generated_text = processor.batch_decode(generated_ids, skip_special_tokens=True)[0]\n",
        "print(\">>    generated_text:\")\n",
        "generated_text"
      ]
    },
    {
      "cell_type": "code",
      "execution_count": null,
      "metadata": {
        "colab": {
          "base_uri": "https://localhost:8080/"
        },
        "id": "GNlrpHVNiTDO",
        "outputId": "a4fe294b-8f7d-44e5-cc72-3153b78c4330"
      },
      "outputs": [
        {
          "name": "stdout",
          "output_type": "stream",
          "text": [
            ">>    processed_text:\n",
            "<grounding> An image of<phrase> a shoe</phrase><object><patch_index_0256><patch_index_0831></object> and<phrase> a building</phrase><object><patch_index_0338><patch_index_0733></object>, with<phrase> a black background</phrase><object><patch_index_0000><patch_index_1023></object>\n",
            ">>    caption:\n",
            "An image of a shoe and a building, with a black background\n",
            ">>    entities:\n",
            "[('a shoe', (12, 18), [(0.015625, 0.265625, 0.984375, 0.796875)]), ('a building', (23, 33), [(0.578125, 0.328125, 0.921875, 0.703125)]), ('a black background', (40, 58), [(0.015625, 0.015625, 0.984375, 0.984375)])]\n",
            ">>    answer:\n",
            "a shoe and a building, with a black background\n"
          ]
        }
      ],
      "source": [
        "processed_text = processor.post_process_generation(generated_text, cleanup_and_extract=False)\n",
        "print(\">>    processed_text:\")\n",
        "print(processed_text)\n",
        "\n",
        "caption, entities = processor.post_process_generation(generated_text)\n",
        "print(\">>    caption:\")\n",
        "print(caption)\n",
        "\n",
        "print(\">>    entities:\")\n",
        "print(entities)\n",
        "\n",
        "print(\">>    answer:\")\n",
        "print(caption.split(\"An image of\")[1].strip())\n",
        "\n",
        "# print(\">>    extracted answer:\")\n",
        "# print(caption.split(\"The object in this image is:\")[1].strip().split(\"'\")[1])"
      ]
    },
    {
      "cell_type": "markdown",
      "metadata": {
        "id": "WrskY2D-Zdwu"
      },
      "source": [
        "## question answering"
      ]
    },
    {
      "cell_type": "markdown",
      "metadata": {
        "id": "_7wW5r92lk0Z"
      },
      "source": [
        "### load model"
      ]
    },
    {
      "cell_type": "code",
      "execution_count": null,
      "metadata": {
        "id": "ugP5jGcMZgbA"
      },
      "outputs": [],
      "source": [
        "# https://medium.com/@csv610/visual-question-answering-using-kosmos-2-25418ee3b16b\n",
        "class Kosmos2QuestionAnswering:\n",
        "    def __init__(self):\n",
        "        model_name = \"microsoft/kosmos-2-patch14-224\"\n",
        "        self.model = AutoModelForVision2Seq.from_pretrained(model_name).to(\"cuda\")\n",
        "        self.processor = AutoProcessor.from_pretrained(model_name)\n",
        "\n",
        "    def get_answer(self, image, question):\n",
        "        # Convert OpenCV image to PIL image\n",
        "        image_pil = Image.fromarray(cv2.cvtColor(image, cv2.COLOR_BGR2RGB))\n",
        "\n",
        "        prompt = \"<grounding> Question: \" + question + \" Answer: \"\n",
        "\n",
        "        inputs = self.processor(text=prompt, images=image_pil, return_tensors=\"pt\").to(\"cuda\")\n",
        "\n",
        "        generated_ids = self.model.generate(\n",
        "            pixel_values=inputs[\"pixel_values\"],\n",
        "            input_ids=inputs[\"input_ids\"],\n",
        "            attention_mask=inputs[\"attention_mask\"],\n",
        "            image_embeds=None,\n",
        "            image_embeds_position_mask=inputs[\"image_embeds_position_mask\"],\n",
        "            use_cache=True,\n",
        "            max_new_tokens=128,\n",
        "        )\n",
        "\n",
        "        generated_text = self.processor.batch_decode(generated_ids, skip_special_tokens=True)[0]\n",
        "\n",
        "        processed_text, _= self.processor.post_process_generation(generated_text, cleanup_and_extract=True)\n",
        "\n",
        "        return processed_text"
      ]
    },
    {
      "cell_type": "code",
      "execution_count": null,
      "metadata": {
        "colab": {
          "base_uri": "https://localhost:8080/"
        },
        "id": "t78WZLrJaZ85",
        "outputId": "765903ca-c839-49d8-e665-c4dad55a110c"
      },
      "outputs": [
        {
          "name": "stderr",
          "output_type": "stream",
          "text": [
            "/usr/local/lib/python3.10/dist-packages/huggingface_hub/utils/_token.py:88: UserWarning: \n",
            "The secret `HF_TOKEN` does not exist in your Colab secrets.\n",
            "To authenticate with the Hugging Face Hub, create a token in your settings tab (https://huggingface.co/settings/tokens), set it as secret in your Google Colab and restart your session.\n",
            "You will be able to reuse this secret in all of your notebooks.\n",
            "Please note that authentication is recommended but still optional to access public models or datasets.\n",
            "  warnings.warn(\n",
            "Special tokens have been added in the vocabulary, make sure the associated word embeddings are fine-tuned or trained.\n"
          ]
        }
      ],
      "source": [
        "vqa = Kosmos2QuestionAnswering()"
      ]
    },
    {
      "cell_type": "markdown",
      "metadata": {
        "id": "T5d6guRzZylp"
      },
      "source": [
        "### inference on conditional generation model with prompt (say that it contains illuison)"
      ]
    },
    {
      "cell_type": "code",
      "execution_count": null,
      "metadata": {
        "colab": {
          "base_uri": "https://localhost:8080/"
        },
        "id": "WavHVJRyZoux",
        "outputId": "6d650c69-edf1-437c-b006-7138ef88fc21"
      },
      "outputs": [
        {
          "name": "stdout",
          "output_type": "stream",
          "text": [
            ">>    answer:\n",
            "Question: This image contains latent and hidden object in it. It was generated by an optical illusion diffuion model. In fact, it contains a illusioned hidden object from fashion mnsit dataset. The dataset has 10 different objects. These objects are: 'T-shirt/top', 'Trouser', 'Pullover', 'Dress', 'Coat', 'Sandal', 'Shirt', 'Sneaker', 'Bag', 'Ankle boot'. Please just generate answer in a single word one of the 10 classes above. For example, if you detect a 'T-shirt/top' just generate 'T-shirt/top'. Answer: T-shirt\n",
            ">>    answer.split(\"Answer:\")[1]:\n",
            "T-shirt\n"
          ]
        }
      ],
      "source": [
        "question = \"This image contains latent and hidden object in it. It was generated by an optical illusion diffuion model. \\\n",
        "    In fact, it contains a illusioned hidden object from fashion mnsit dataset. The dataset has 10 different objects. These objects are: \\\n",
        "    'T-shirt/top' , 'Trouser' , 'Pullover' , 'Dress' , 'Coat' , 'Sandal' , 'Shirt' , 'Sneaker' , 'Bag' , 'Ankle boot' . \\\n",
        "    Please just generate answer in a single word one of the 10 classes above. For example, if you detect a 'T-shirt/top' just generate 'T-shirt/top'.\"\n",
        "# image_path = illusion_image_path\n",
        "image_path = \"/content/drive/MyDrive/Final_project/FashionMnist/ill_images/FashionMnist_1.jpg\"\n",
        "\n",
        "# Load OpenCV image\n",
        "image_cv2 = cv2.imread(image_path)\n",
        "\n",
        "answer = vqa.get_answer(image_cv2, question)\n",
        "\n",
        "print(\">>    answer:\")\n",
        "print(answer)\n",
        "print('>>    answer.split(\"Answer:\")[1]:')\n",
        "print(answer.split(\"Answer:\")[1].strip())"
      ]
    },
    {
      "cell_type": "markdown",
      "metadata": {
        "id": "zOKguMdkb3Yt"
      },
      "source": [
        "### inference inference on conditional generation model with prompt (say that it may contains illuison)"
      ]
    },
    {
      "cell_type": "code",
      "execution_count": null,
      "metadata": {
        "colab": {
          "base_uri": "https://localhost:8080/"
        },
        "id": "TWV4PHVLb4O_",
        "outputId": "fdafbf2f-eebb-4b51-ef75-7d9ed772dc15"
      },
      "outputs": [
        {
          "name": "stdout",
          "output_type": "stream",
          "text": [
            ">>    answer:\n",
            "Question: The image may contains latent and hidden object in it or not. Either it contains an illusioned hidden object, or it does not contain an illusioned hidden object. If it contains a hidden object, the hidden object is from fashion mnsit dataset. The dataset has 10 different objects. These objects are: 'T-shirt/top', 'Trouser', 'Pullover', 'Dress', 'Coat', 'Sandal', 'Shirt', 'Sneaker', 'Bag', 'Ankle boot'. Please just generate answer in a single word. If it does not contain a hidden object just generate 'no'. Otherwise if it contains a hidden object just generate one of the 10 classes above in one word. For example, if you detect a 'T-shirt/top' just generate 'T-shirt/top'. if you do not detect any hidden obeject just generate 'no'. Answer: no\n",
            ">>    answer.split(\"Answer:\")[1]:\n",
            "no\n"
          ]
        }
      ],
      "source": [
        "# question = \"This image may contains latent and hidden object in it or not. Either It was generated by an optical illusion diffuion model \\\n",
        "#     that contains an illusioned hidden object, or tt was generated by a text to image stable illusion model that does not contain an illusioned hidden object . \\\n",
        "#     If it contains a hidden object, it contains an illusioned hidden object from fashion mnsit dataset. The dataset has 10 different objects. These objects are: \\\n",
        "#     'T-shirt/top' , 'Trouser' , 'Pullover' , 'Dress' , 'Coat' , 'Sandal' , 'Shirt' , 'Sneaker' , 'Bag' , 'Ankle boot' . \\\n",
        "#     Please just generate answer in a single word. If it does not contain a hidden object just generate 'no'. \\\n",
        "#     Otherwise if it contains a hidden object just generate one of the 10 classes above in one word. \\\n",
        "#     For example, if you detect a 'T-shirt/top' just generate 'T-shirt/top'. and if you do not detect any hidden obeject just generate 'no' .\"\n",
        "\n",
        "question = \"The image may contains latent and hidden object in it or not. Either it contains an illusioned hidden object, or it does not contain an illusioned hidden object. \\\n",
        "    If it contains a hidden object, the hidden object is from fashion mnsit dataset. The dataset has 10 different objects. These objects are: \\\n",
        "    'T-shirt/top' , 'Trouser' , 'Pullover' , 'Dress' , 'Coat' , 'Sandal' , 'Shirt' , 'Sneaker' , 'Bag' , 'Ankle boot' . \\\n",
        "    Please just generate answer in a single word. If it does not contain a hidden object just generate 'no' . \\\n",
        "    Otherwise if it contains a hidden object just generate one of the 10 classes above in one word. \\\n",
        "    For example, if you detect a 'T-shirt/top' just generate 'T-shirt/top'. if you do not detect any hidden obeject just generate 'no' .\"\n",
        "\n",
        "# image_path = illusionless_image_path\n",
        "image_path = \"/content/drive/MyDrive/Final_project/Illusionless_FashionMnist_captions/illusionless_images/FashionMnist_1.png\"\n",
        "\n",
        "# Load OpenCV image\n",
        "image_cv2 = cv2.imread(image_path)\n",
        "\n",
        "answer = vqa.get_answer(image_cv2, question)\n",
        "\n",
        "print(\">>    answer:\")\n",
        "print(answer)\n",
        "print('>>    answer.split(\"Answer:\")[1]:')\n",
        "print(answer.split(\"Answer:\")[1].strip())"
      ]
    },
    {
      "cell_type": "code",
      "execution_count": null,
      "metadata": {
        "colab": {
          "base_uri": "https://localhost:8080/"
        },
        "id": "GbQxpNAgdI3_",
        "outputId": "7b6518a8-d8a1-4e14-cb87-ff65c9bc999b"
      },
      "outputs": [
        {
          "name": "stdout",
          "output_type": "stream",
          "text": [
            ">>    answer:\n",
            "Question: The image may contains latent and hidden object in it or not. Either it contains an illusioned hidden object, or it does not contain an illusioned hidden object. If it contains a hidden object, the hidden object is from fashion mnsit dataset. The dataset has 10 different objects. These objects are: 'T-shirt/top', 'Trouser', 'Pullover', 'Dress', 'Coat', 'Sandal', 'Shirt', 'Sneaker', 'Bag', 'Ankle boot'. Please just generate answer in a single word. If it does not contain a hidden object just generate 'no'. Otherwise if it contains a hidden object just generate one of the 10 classes above in one word. For example, if you detect a 'T-shirt/top' just generate 'T-shirt/top'. if you do not detect any hidden obeject just generate 'no'. Answer: yes\n",
            ">>    answer.split(\"Answer:\")[1]:\n",
            "yes\n"
          ]
        }
      ],
      "source": [
        "# question = \"This image may contains latent and hidden object in it or not. Either It was generated by an optical illusion diffuion model \\\n",
        "#     that contains an illusioned hidden object, or tt was generated by a text to image stable illusion model that does not contain an illusioned hidden object . \\\n",
        "#     If it contains a hidden object, it contains an illusioned hidden object from fashion mnsit dataset. The dataset has 10 different objects. These objects are: \\\n",
        "#     'T-shirt/top' , 'Trouser' , 'Pullover' , 'Dress' , 'Coat' , 'Sandal' , 'Shirt' , 'Sneaker' , 'Bag' , 'Ankle boot' . \\\n",
        "#     Please just generate answer in a single word. If it does not contain a hidden object just generate 'no'. \\\n",
        "#     Otherwise if it contains a hidden object just generate one of the 10 classes above in one word. \\\n",
        "#     For example, if you detect a 'T-shirt/top' just generate 'T-shirt/top'. and if you do not detect any hidden obeject just generate 'no' .\"\n",
        "\n",
        "question = \"The image may contains latent and hidden object in it or not. Either it contains an illusioned hidden object, or it does not contain an illusioned hidden object. \\\n",
        "    If it contains a hidden object, the hidden object is from fashion mnsit dataset. The dataset has 10 different objects. These objects are: \\\n",
        "    'T-shirt/top' , 'Trouser' , 'Pullover' , 'Dress' , 'Coat' , 'Sandal' , 'Shirt' , 'Sneaker' , 'Bag' , 'Ankle boot' . \\\n",
        "    Please just generate answer in a single word. If it does not contain a hidden object just generate 'no' . \\\n",
        "    Otherwise if it contains a hidden object just generate one of the 10 classes above in one word. \\\n",
        "    For example, if you detect a 'T-shirt/top' just generate 'T-shirt/top'. if you do not detect any hidden obeject just generate 'no' .\"\n",
        "\n",
        "image = illusion_image\n",
        "\n",
        "# image_path = illusion_image_path\n",
        "image_path = \"/content/drive/MyDrive/Final_project/FashionMnist/ill_images/FashionMnist_1.jpg\"\n",
        "\n",
        "# Load OpenCV image\n",
        "image_cv2 = cv2.imread(image_path)\n",
        "\n",
        "answer = vqa.get_answer(image_cv2, question)\n",
        "\n",
        "print(\">>    answer:\")\n",
        "print(answer)\n",
        "print('>>    answer.split(\"Answer:\")[1]:')\n",
        "print(answer.split(\"Answer:\")[1].strip())"
      ]
    },
    {
      "cell_type": "markdown",
      "metadata": {
        "id": "knuwrsMTdjgg"
      },
      "source": [
        "### giving raw image to detect suitable class the conditional generation model"
      ]
    },
    {
      "cell_type": "code",
      "execution_count": null,
      "metadata": {
        "colab": {
          "base_uri": "https://localhost:8080/"
        },
        "id": "L3wp3xoPdlDi",
        "outputId": "579fae63-28ec-4d1d-e683-7cfb04156eb1"
      },
      "outputs": [
        {
          "name": "stdout",
          "output_type": "stream",
          "text": [
            ">>    answer:\n",
            "Question: This image is from fashion mnist dataset. The dataset has 10 different objects. These objects are: 'T-shirt/top', 'Trouser', 'Pullover', 'Dress', 'Coat', 'Sandal', 'Shirt', 'Sneaker', 'Bag', 'Ankle boot'. Please just generate answer that says which class this image belongs to in a single word. For example, if you detect a 'T-shirt/top' just generate 'Ankle boot'. if you do not detect any hidden obeject just generate 'no'. Answer: T-shirt\n",
            ">>    answer.split(\"Answer:\")[1]:\n",
            "T-shirt\n"
          ]
        }
      ],
      "source": [
        "question = \"<grounding> This image is from fashion mnist dataset. The dataset has 10 different objects. These objects are: \\\n",
        "    'T-shirt/top' , 'Trouser' , 'Pullover' , 'Dress' , 'Coat' , 'Sandal' , 'Shirt' , 'Sneaker' , 'Bag' , 'Ankle boot' . \\\n",
        "    Please just generate answer that says which class this image belongs to in a single word. \\\n",
        "    For example, if you detect a 'Ankle boot' just generate 'Ankle boot'. \\\n",
        "    if you do not detect any hidden obeject just generate 'no' .\"\n",
        "\n",
        "# image_path = raw_image_path\n",
        "image_path = \"/content/drive/MyDrive/Final_project/FashionMnist/raw_images/FashionMnist_40.jpg\"\n",
        "\n",
        "# Load OpenCV image\n",
        "image_cv2 = cv2.imread(image_path)\n",
        "\n",
        "answer = vqa.get_answer(image_cv2, question)\n",
        "\n",
        "print(\">>    answer:\")\n",
        "print(answer)\n",
        "print('>>    answer.split(\"Answer:\")[1]:')\n",
        "print(answer.split(\"Answer:\")[1].strip())"
      ]
    },
    {
      "cell_type": "markdown",
      "metadata": {
        "id": "807J7zPCl9YL"
      },
      "source": [
        "# Inference on whole dataset and batches of data"
      ]
    },
    {
      "cell_type": "code",
      "execution_count": null,
      "metadata": {
        "id": "sBCE30TmmUMv"
      },
      "outputs": [],
      "source": [
        "# https://colab.research.google.com/drive/1bsa7pw2gVE8EPXVF5PptNXFPgZGYMu4o?usp=sharing\n",
        "# https://colab.research.google.com/drive/1cF5pdwI1SDnO8fyRuMMc2P86xMEkyij6?usp=sharing"
      ]
    },
    {
      "cell_type": "markdown",
      "metadata": {
        "id": "1I6_S6U0nMkZ"
      },
      "source": [
        "## Inference of visual question answering KOSMOS-2"
      ]
    },
    {
      "cell_type": "code",
      "execution_count": null,
      "metadata": {
        "colab": {
          "base_uri": "https://localhost:8080/",
          "height": 446,
          "referenced_widgets": [
            "858d3f2802f54c64b16e0d1504746361",
            "3cf8a51fc6724c31ae5379b5d0797ef1",
            "10d39e3ef41248caa41e0f4ffc9076f4",
            "2de946d141c34da4ba12f648cd17f13a",
            "74668f2846a3494f80f54dd10338f9ff",
            "a6f19575eb6647a08908a4e1e71bbc04",
            "603061bf15fc4d3c8f9a17785d060f41",
            "7ed3ea5a24034174a1d345abf7cdd8a3",
            "a415d224d98946348f47b6178cb25ab9",
            "39b661f7e39a44548d81d3c3d736027b",
            "2fc02bb11225485aa222e35b97e29608",
            "816b20945dbf42cebba897210bfdbd14",
            "eb9b97b32f1d46cea98c32494b11c4e4",
            "f33d6b28c5c24c07ba26ce0de9713abd",
            "4cdca767d9ad44ff893a02c8fe3980ed",
            "7714ddc3846540dcb689eb73024293e8",
            "b16852a6d3a54d6aa4fa0462e416090d",
            "b38caaa3c42848f98ec2831ba11f3245",
            "b658d20b1a5843fe8ad16919b9a9a4fb",
            "669ce5d07e07425d8eb8caa8c4820d34",
            "467089f288774baba0585611addd4314",
            "46b8642fc61b49b898ca01bd95ab8491",
            "42077894218946dbbd14ae8a944d98e5",
            "87fae76d5ff8470d9ee69f52dcf2f4ed",
            "31735dc725db412a93167bec51d9e836",
            "14ea5760c10041dda2e97f4c108c7b74",
            "355935a855e04deb8d5b1c08898bf684",
            "ac21abcdcd5141c78f7b84abc44221ee",
            "fd37457a59744ca3a55e8d1311322e35",
            "29b0dacd92244236ae832dbe2de27d0a",
            "0b0591bdb2d5488fabd7c1ad682ad6e3",
            "558a7449a3e5437b962c4cdc386e624a",
            "2de4ac75aabd4c0db53365533fa5c933",
            "495dca6175d3457fb16290998ab02035",
            "c0e7a2b15e44452ba925308703717565",
            "6ea4856ed727468098ef7fc7cd12b252",
            "7d40355c2c6c4927bd7a5f1ef919300a",
            "e5ea98a9d23b46b683bc4cb581be666c",
            "234130cb1e734e0795d092c6bbb2791c",
            "fde773a5be4d4233b4d70372e86a7489",
            "004f34d39d744d98893d423d8729609b",
            "71c9b087ddd4415a933f6d6f03ddc841",
            "43b69b1457bf4654a7b76472d5926308",
            "eb1901427446466b8f597751a95efc4b",
            "32783c07045649428833be7e3607b004",
            "1ddf7e049af049f5a150dea4ec6b6017",
            "1f9af3ea3e3f413bac798aa1453b7cd1",
            "9c95512eb22742978d34db2166bf0abf",
            "acab4b16e0984ae3bbc5fafb5f5ac07b",
            "4bdda3c0730b42abafcfbb8de1ac025b",
            "d33fd442a01c45f0a4035079e97a18f3",
            "4218d98e8a5e4f7eb6a1ad3c83006245",
            "386a501957c945b19eda5bdc653c3e85",
            "fe85d3d97ba64f0691c06488b887bbd5",
            "2abf7a4379cc4324af05c66260df8b59",
            "c5bc523c5bb2434ba2c6d64843f138b7",
            "66427fa60b334589bd0bdd9b6b6f7714",
            "18fd9141f3ce49bcaf069aa4e2b3bbf7",
            "99969dcdf9054821a98c0781426e2cb5",
            "6eb2e17ffd384f2e9ecefe52e8ea158f",
            "38792ea3a791491f88b28d3da5f44ea3",
            "a9602ec90e564cf09219ae3952ad66a3",
            "a414356b20a74e02ba2d41c741e10a81",
            "15756504ad0344f4aeea9fa9ff1c448e",
            "76900f8b16454e9e99d5a170b1734222",
            "e6ce31ccc23149028d12fe6ef4e32cc3",
            "9b0ba2dcf3b84455bbd0b8635cfd1e25",
            "5f959547402a4610acfed8a467c0c13f",
            "47b1ce65b0a34a3ea44e0007cb7eae50",
            "3a7ed9d4af794d929c031903fe124769",
            "fc6ff0bf160e41139d7120335893b295",
            "49af498cb29b451e939d0cde007e6bed",
            "f8a92a3fe3b8433da682e5e049b73627",
            "2b1da29e9a7c499cb7f661ca1519cd25",
            "e40795194ec3469ab494c66cd50a2501",
            "423559fda34647c6a66de7c4e25528cd",
            "3f22b440e4e44d79a5df98f2ed30ebe4",
            "1fd96f37d8074abdb5a1776ae81cb503",
            "b847ddba484247a6bedc02a79241b39b",
            "ae52db73ae9b4aa3bf45e0731d0118ab",
            "960a70f8aa2a4ea3b325ed3e96897a10",
            "30cf785f37de413fb49a66fbbfa44e1f",
            "7e3049b0bba44ed7ababf2e19dabac73",
            "587f5ee350224a75b8cdc6ea280e7037",
            "d9c773eafbd44ddfb5a21728d2eb5d3e",
            "ab9c6b24d1074c74a348ac45a771b25b",
            "1d4197cd11ee4de6ad3c560bddda34c7",
            "3591772e48f34ca7a9c4b618fedad486",
            "b9d6968ad2264aaf96b2a0fadb7aeb9a",
            "283fa0d2c1394007bc67794f8663c1de",
            "ad0f490fc5e8419883c78b57d94026c6",
            "8d30ee1d80924d1184b9e24cf76de8a7",
            "4310a531c5174070a67de96e7f1028ac",
            "bb79cd0ee43347f3ba77ba8cbd3d57bc",
            "11d833389a3a492b9d0fc6a10de55f37",
            "f3842caf17f9408eba4d097454764bb2",
            "8ae14f69ce49467e95c97c2bb6b2d067",
            "0fb50de7cc8e44068993d8686e8af048",
            "c15ca0a75e33496fb56ac05aa6f3026e"
          ]
        },
        "id": "6-thgC9LYdJu",
        "outputId": "0bc70b6c-e026-4781-925a-213493ddf5a7"
      },
      "outputs": [
        {
          "output_type": "stream",
          "name": "stderr",
          "text": [
            "/usr/local/lib/python3.10/dist-packages/huggingface_hub/utils/_token.py:88: UserWarning: \n",
            "The secret `HF_TOKEN` does not exist in your Colab secrets.\n",
            "To authenticate with the Hugging Face Hub, create a token in your settings tab (https://huggingface.co/settings/tokens), set it as secret in your Google Colab and restart your session.\n",
            "You will be able to reuse this secret in all of your notebooks.\n",
            "Please note that authentication is recommended but still optional to access public models or datasets.\n",
            "  warnings.warn(\n"
          ]
        },
        {
          "output_type": "display_data",
          "data": {
            "text/plain": [
              "config.json:   0%|          | 0.00/4.45k [00:00<?, ?B/s]"
            ],
            "application/vnd.jupyter.widget-view+json": {
              "version_major": 2,
              "version_minor": 0,
              "model_id": "858d3f2802f54c64b16e0d1504746361"
            }
          },
          "metadata": {}
        },
        {
          "output_type": "display_data",
          "data": {
            "text/plain": [
              "model.safetensors:   0%|          | 0.00/6.66G [00:00<?, ?B/s]"
            ],
            "application/vnd.jupyter.widget-view+json": {
              "version_major": 2,
              "version_minor": 0,
              "model_id": "816b20945dbf42cebba897210bfdbd14"
            }
          },
          "metadata": {}
        },
        {
          "output_type": "display_data",
          "data": {
            "text/plain": [
              "generation_config.json:   0%|          | 0.00/137 [00:00<?, ?B/s]"
            ],
            "application/vnd.jupyter.widget-view+json": {
              "version_major": 2,
              "version_minor": 0,
              "model_id": "42077894218946dbbd14ae8a944d98e5"
            }
          },
          "metadata": {}
        },
        {
          "output_type": "display_data",
          "data": {
            "text/plain": [
              "preprocessor_config.json:   0%|          | 0.00/534 [00:00<?, ?B/s]"
            ],
            "application/vnd.jupyter.widget-view+json": {
              "version_major": 2,
              "version_minor": 0,
              "model_id": "495dca6175d3457fb16290998ab02035"
            }
          },
          "metadata": {}
        },
        {
          "output_type": "display_data",
          "data": {
            "text/plain": [
              "tokenizer_config.json:   0%|          | 0.00/191k [00:00<?, ?B/s]"
            ],
            "application/vnd.jupyter.widget-view+json": {
              "version_major": 2,
              "version_minor": 0,
              "model_id": "32783c07045649428833be7e3607b004"
            }
          },
          "metadata": {}
        },
        {
          "output_type": "display_data",
          "data": {
            "text/plain": [
              "sentencepiece.bpe.model:   0%|          | 0.00/1.36M [00:00<?, ?B/s]"
            ],
            "application/vnd.jupyter.widget-view+json": {
              "version_major": 2,
              "version_minor": 0,
              "model_id": "c5bc523c5bb2434ba2c6d64843f138b7"
            }
          },
          "metadata": {}
        },
        {
          "output_type": "display_data",
          "data": {
            "text/plain": [
              "tokenizer.json:   0%|          | 0.00/4.70M [00:00<?, ?B/s]"
            ],
            "application/vnd.jupyter.widget-view+json": {
              "version_major": 2,
              "version_minor": 0,
              "model_id": "9b0ba2dcf3b84455bbd0b8635cfd1e25"
            }
          },
          "metadata": {}
        },
        {
          "output_type": "display_data",
          "data": {
            "text/plain": [
              "added_tokens.json:   0%|          | 0.00/32.0k [00:00<?, ?B/s]"
            ],
            "application/vnd.jupyter.widget-view+json": {
              "version_major": 2,
              "version_minor": 0,
              "model_id": "1fd96f37d8074abdb5a1776ae81cb503"
            }
          },
          "metadata": {}
        },
        {
          "output_type": "display_data",
          "data": {
            "text/plain": [
              "special_tokens_map.json:   0%|          | 0.00/1.06k [00:00<?, ?B/s]"
            ],
            "application/vnd.jupyter.widget-view+json": {
              "version_major": 2,
              "version_minor": 0,
              "model_id": "b9d6968ad2264aaf96b2a0fadb7aeb9a"
            }
          },
          "metadata": {}
        },
        {
          "output_type": "stream",
          "name": "stderr",
          "text": [
            "Special tokens have been added in the vocabulary, make sure the associated word embeddings are fine-tuned or trained.\n"
          ]
        }
      ],
      "source": [
        "# https://medium.com/@csv610/visual-question-answering-using-kosmos-2-25418ee3b16b\n",
        "class Kosmos2QuestionAnswering:\n",
        "    def __init__(self):\n",
        "        model_name = \"microsoft/kosmos-2-patch14-224\"\n",
        "        self.model = AutoModelForVision2Seq.from_pretrained(model_name).to(\"cuda\")\n",
        "        self.processor = AutoProcessor.from_pretrained(model_name)\n",
        "\n",
        "    def get_answer(self, image, question):\n",
        "        # Convert OpenCV image to PIL image\n",
        "        image_pil = Image.fromarray(cv2.cvtColor(image, cv2.COLOR_BGR2RGB))\n",
        "\n",
        "        prompt = \"<grounding> Question: \" + question + \" Answer: \"\n",
        "\n",
        "        inputs = self.processor(text=prompt, images=image_pil, return_tensors=\"pt\").to(\"cuda\")\n",
        "\n",
        "        generated_ids = self.model.generate(\n",
        "            pixel_values=inputs[\"pixel_values\"],\n",
        "            input_ids=inputs[\"input_ids\"],\n",
        "            attention_mask=inputs[\"attention_mask\"],\n",
        "            image_embeds=None,\n",
        "            image_embeds_position_mask=inputs[\"image_embeds_position_mask\"],\n",
        "            use_cache=True,\n",
        "            max_new_tokens=128,\n",
        "        )\n",
        "\n",
        "        generated_text = self.processor.batch_decode(generated_ids, skip_special_tokens=True)[0]\n",
        "\n",
        "        processed_text, _= self.processor.post_process_generation(generated_text, cleanup_and_extract=True)\n",
        "\n",
        "        return processed_text\n",
        "\n",
        "vqa = Kosmos2QuestionAnswering()"
      ]
    },
    {
      "cell_type": "markdown",
      "source": [
        "### prompt 1: just illusion images"
      ],
      "metadata": {
        "id": "lCKdJG9n678i"
      }
    },
    {
      "cell_type": "code",
      "execution_count": null,
      "metadata": {
        "colab": {
          "base_uri": "https://localhost:8080/"
        },
        "id": "IdO2aMXzYpsm",
        "outputId": "1bd1527f-019d-42b6-b718-e285cb082a88"
      },
      "outputs": [
        {
          "name": "stdout",
          "output_type": "stream",
          "text": [
            "accuracy up to 100 sample is 0.0\n",
            "------------------------------------------\n",
            "accuracy up to 200 sample is 0.0\n",
            "------------------------------------------\n",
            "accuracy up to 300 sample is 0.0\n",
            "------------------------------------------\n",
            "accuracy up to 400 sample is 0.0\n",
            "------------------------------------------\n",
            "accuracy up to 500 sample is 0.0\n",
            "------------------------------------------\n",
            "accuracy up to 600 sample is 0.0\n",
            "------------------------------------------\n",
            "accuracy up to 700 sample is 0.0\n",
            "------------------------------------------\n",
            "accuracy up to 800 sample is 0.0\n",
            "------------------------------------------\n",
            "accuracy up to 900 sample is 0.0\n",
            "------------------------------------------\n",
            "accuracy up to 1000 sample is 0.0\n",
            "------------------------------------------\n",
            "accuracy up to 1100 sample is 0.0\n",
            "------------------------------------------\n",
            "number of total_images: 1152\n",
            "number of correct_images: 0\n",
            "accuracy: 0.0\n"
          ]
        }
      ],
      "source": [
        "fashion_mnist_images_folder = \"/content/drive/MyDrive/Final_project/FashionMnist\"\n",
        "# illusionless_fashion_mnist_images_folder = \"/content/drive/MyDrive/Final_project/Illusionless_FashionMnist_captions\"\n",
        "\n",
        "data_df = pd.read_csv(\"/content/drive/MyDrive/Final_project/FashionMnist/df_data.csv\")\n",
        "class_names = ['T-shirt/top', 'Trouser', 'Pullover', 'Dress', 'Coat',\n",
        "               'Sandal', 'Shirt', 'Sneaker', 'Bag', 'Ankle boot']\n",
        "\n",
        "total_images = 0\n",
        "correct_images = 0\n",
        "\n",
        "for i in range( len(data_df) ):\n",
        "# for i in range(10):\n",
        "    illusion_image_name = f\"FashionMnist_{i + 1}.jpg\" # 1-base in google drive\n",
        "    illusion_image_path = os.path.join(fashion_mnist_images_folder, \"ill_images\", illusion_image_name)\n",
        "    # illusion_image = Image.open(illusion_image_path) # .convert(\"RGB\")\n",
        "\n",
        "    data_row = data_df.iloc[i]\n",
        "    label = class_names[data_row.label]\n",
        "\n",
        "    # question = \"This image may contains latent and hidden object in it or not. Either It was generated by an optical illusion diffuion model \\\n",
        "    # that contains an illusion hidden object, or it was generated by a text to image stable illusion model that does not contain an illusion hidden object . \\\n",
        "    # If it contains a hidden object, it contains an illusion hidden object from fashion mnsit dataset. The dataset has 10 different objects. These objects are: \\\n",
        "    # 'T-shirt/top' , 'Trouser' , 'Pullover' , 'Dress' , 'Coat' , 'Sandal' , 'Shirt' , 'Sneaker' , 'Bag' , 'Ankle boot' . \\\n",
        "    # Please just generate answer in a single word. If it does not contain a hidden object just generate 'no'. \\\n",
        "    # Otherwise if it contains a hidden object just generate one of the 10 classes above in one word. \\\n",
        "    # For example, if you detect a 'T-shirt/top' just generate 'T-shirt/top'. and if you do not detect any hidden obeject just generate 'no' .\"\n",
        "\n",
        "    question = \"The image may contains latent and hidden object in it or not. Either it contains an illusion hidden object, or it does not contain an illusioned hidden object. \\\n",
        "    If it contains a hidden object, the hidden object is from fashion mnsit dataset. The dataset has 10 different objects. These objects are: \\\n",
        "    'T-shirt/top' , 'Trouser' , 'Pullover' , 'Dress' , 'Coat' , 'Sandal' , 'Shirt' , 'Sneaker' , 'Bag' , 'Ankle boot' . \\\n",
        "    Please just generate answer in a single word. If it does not contain a hidden object just generate 'no' . \\\n",
        "    Otherwise if it contains a hidden object just generate one of the 10 classes above in one word. \\\n",
        "    For example, if you detect a 'T-shirt/top' just generate 'T-shirt/top'. if you do not detect any hidden obeject just generate 'no' .\"\n",
        "\n",
        "\n",
        "    # Load OpenCV image\n",
        "    image_cv2 = cv2.imread(illusion_image_path)\n",
        "    answer = vqa.get_answer(image_cv2, question)\n",
        "    extracted_answer = answer.split(\"Answer:\")[1].strip()\n",
        "\n",
        "    extracted_answer = extracted_answer.lower()\n",
        "    label = label.lower()\n",
        "\n",
        "    if (label == 't-shirt/top'):\n",
        "        if (label in extracted_answer) or ('top' in extracted_answer) or ('t-shirt' in extracted_answer):\n",
        "            correct_images += 1\n",
        "    elif (label == 'ankle boot'):\n",
        "        if (label in extracted_answer) or ('ankle' in extracted_answer) or ('boot' in extracted_answer):\n",
        "            correct_images += 1\n",
        "    elif (label in extracted_answer):\n",
        "        correct_images += 1\n",
        "\n",
        "    total_images += 1\n",
        "\n",
        "    accuracy = (correct_images / total_images) * 100\n",
        "    if ( (i+1) % 100 == 0):\n",
        "        print(f\"accuracy up to {i+1} sample is {accuracy}\")\n",
        "        print(\"------------------------------------------\")\n",
        "\n",
        "print(f\"number of total_images: {total_images}\")\n",
        "print(f\"number of correct_images: {correct_images}\")\n",
        "accuracy = (correct_images / total_images) * 100\n",
        "print(f\"accuracy: {accuracy}\")\n"
      ]
    },
    {
      "cell_type": "markdown",
      "source": [
        "### prompt 2: just illusion images"
      ],
      "metadata": {
        "id": "SH3we-Vs7Hto"
      }
    },
    {
      "cell_type": "code",
      "execution_count": null,
      "metadata": {
        "colab": {
          "base_uri": "https://localhost:8080/"
        },
        "id": "VOYIYgpkmjeI",
        "outputId": "8dfa4a71-ce86-4434-8728-c43029cc4fa1"
      },
      "outputs": [
        {
          "name": "stdout",
          "output_type": "stream",
          "text": [
            "accuracy up to 100 sample is 0.0\n",
            "------------------------------------------\n",
            "accuracy up to 200 sample is 0.0\n",
            "------------------------------------------\n",
            "accuracy up to 300 sample is 0.0\n",
            "------------------------------------------\n",
            "accuracy up to 400 sample is 0.0\n",
            "------------------------------------------\n",
            "accuracy up to 500 sample is 0.0\n",
            "------------------------------------------\n",
            "accuracy up to 600 sample is 0.0\n",
            "------------------------------------------\n",
            "accuracy up to 700 sample is 0.0\n",
            "------------------------------------------\n",
            "accuracy up to 800 sample is 0.0\n",
            "------------------------------------------\n",
            "accuracy up to 900 sample is 0.0\n",
            "------------------------------------------\n",
            "accuracy up to 1000 sample is 0.0\n",
            "------------------------------------------\n",
            "accuracy up to 1100 sample is 0.0\n",
            "------------------------------------------\n",
            "number of total_images: 1152\n",
            "number of correct_images: 0\n",
            "accuracy: 0.0\n"
          ]
        }
      ],
      "source": [
        "fashion_mnist_images_folder = \"/content/drive/MyDrive/Final_project/FashionMnist\"\n",
        "# illusionless_fashion_mnist_images_folder = \"/content/drive/MyDrive/Final_project/Illusionless_FashionMnist_captions\"\n",
        "\n",
        "data_df = pd.read_csv(\"/content/drive/MyDrive/Final_project/FashionMnist/df_data.csv\")\n",
        "class_names = ['T-shirt/top', 'Trouser', 'Pullover', 'Dress', 'Coat',\n",
        "               'Sandal', 'Shirt', 'Sneaker', 'Bag', 'Ankle boot']\n",
        "\n",
        "total_images = 0\n",
        "correct_images = 0\n",
        "\n",
        "for i in range( len(data_df) ):\n",
        "# for i in range(10):\n",
        "    illusion_image_name = f\"FashionMnist_{i + 1}.jpg\" # 1-base in google drive\n",
        "    illusion_image_path = os.path.join(fashion_mnist_images_folder, \"ill_images\", illusion_image_name)\n",
        "    # illusion_image = Image.open(illusion_image_path) # .convert(\"RGB\")\n",
        "\n",
        "    data_row = data_df.iloc[i]\n",
        "    label = class_names[data_row.label]\n",
        "\n",
        "    question = \"This image may contains illusion of a hidden object in it or not. Either It was generated by an optical illusion diffuion model \\\n",
        "    that contains illusion of a hidden object, or it was generated by a text to image stable illusion model that does not contain an illusion hidden object . \\\n",
        "    If it contains illusion of a hidden object, it contains a hidden object from fashion mnsit dataset. The dataset has 10 different objects. These objects are: \\\n",
        "    'T-shirt/top' , 'Trouser' , 'Pullover' , 'Dress' , 'Coat' , 'Sandal' , 'Shirt' , 'Sneaker' , 'Bag' , 'Ankle boot' . \\\n",
        "    Please just generate answer in a single word. If it does not contain a hidden object just generate 'no'. \\\n",
        "    Otherwise if it contains a hidden object just generate one of the 10 classes above in one word. \\\n",
        "    For example, if you detect a 'T-shirt/top' just generate 'T-shirt/top'. and if you do not detect any hidden obeject just generate 'no' .\"\n",
        "\n",
        "    # Load OpenCV image\n",
        "    image_cv2 = cv2.imread(illusion_image_path)\n",
        "    answer = vqa.get_answer(image_cv2, question)\n",
        "    extracted_answer = answer.split(\"Answer:\")[1].strip()\n",
        "\n",
        "    extracted_answer = extracted_answer.lower()\n",
        "    label = label.lower()\n",
        "\n",
        "    if (label == 't-shirt/top'):\n",
        "        if (label in extracted_answer) or ('top' in extracted_answer) or ('t-shirt' in extracted_answer):\n",
        "            correct_images += 1\n",
        "    elif (label == 'ankle boot'):\n",
        "        if (label in extracted_answer) or ('ankle' in extracted_answer) or ('boot' in extracted_answer):\n",
        "            correct_images += 1\n",
        "    elif (label in extracted_answer):\n",
        "        correct_images += 1\n",
        "\n",
        "    total_images += 1\n",
        "\n",
        "    accuracy = (correct_images / total_images) * 100\n",
        "    if ( (i+1) % 100 == 0):\n",
        "        print(f\"accuracy up to {i+1} sample is {accuracy}\")\n",
        "        print(\"------------------------------------------\")\n",
        "\n",
        "print(f\"number of total_images: {total_images}\")\n",
        "print(f\"number of correct_images: {correct_images}\")\n",
        "accuracy = (correct_images / total_images) * 100\n",
        "print(f\"accuracy: {accuracy}\")"
      ]
    },
    {
      "cell_type": "markdown",
      "source": [
        "### prompt 3: just illusion images"
      ],
      "metadata": {
        "id": "v5HuOM187MN3"
      }
    },
    {
      "cell_type": "code",
      "source": [
        "fashion_mnist_images_folder = \"/content/drive/MyDrive/Final_project/FashionMnist\"\n",
        "# illusionless_fashion_mnist_images_folder = \"/content/drive/MyDrive/Final_project/Illusionless_FashionMnist_captions\"\n",
        "\n",
        "data_df = pd.read_csv(\"/content/drive/MyDrive/Final_project/FashionMnist/df_data.csv\")\n",
        "class_names = ['T-shirt/top', 'Trouser', 'Pullover', 'Dress', 'Coat',\n",
        "               'Sandal', 'Shirt', 'Sneaker', 'Bag', 'Ankle boot']\n",
        "\n",
        "total_images = 0\n",
        "correct_images = 0\n",
        "\n",
        "for i in range( len(data_df) ):\n",
        "# for i in range(10):\n",
        "    illusion_image_name = f\"FashionMnist_{i + 1}.jpg\" # 1-base in google drive\n",
        "    illusion_image_path = os.path.join(fashion_mnist_images_folder, \"ill_images\", illusion_image_name)\n",
        "    # illusion_image = Image.open(illusion_image_path) # .convert(\"RGB\")\n",
        "\n",
        "    data_row = data_df.iloc[i]\n",
        "    label = class_names[data_row.label]\n",
        "\n",
        "    question = \"This image contains illusion of a hidden object in it. \\\n",
        "    The hidden objects can be 'T-shirt/top' , 'Trouser' , 'Pullover' , 'Dress' , 'Coat' , 'Sandal' , 'Shirt' , 'Sneaker' , 'Bag' , 'Ankle boot' . \\\n",
        "    Please just generate answer in a single word and select one of hidden objects mentioned. \\\n",
        "    For example, if you detect a 'T-shirt/top' as hidden object just generate 'T-shirt/top'.\"\n",
        "\n",
        "    # Load OpenCV image\n",
        "    image_cv2 = cv2.imread(illusion_image_path)\n",
        "    answer = vqa.get_answer(image_cv2, question)\n",
        "    extracted_answer = answer.split(\"Answer:\")[1].strip()\n",
        "\n",
        "    extracted_answer = extracted_answer.lower()\n",
        "    label = label.lower()\n",
        "\n",
        "    if (label == 't-shirt/top'):\n",
        "        if (label in extracted_answer) or ('top' in extracted_answer) or ('t-shirt' in extracted_answer):\n",
        "            correct_images += 1\n",
        "    elif (label == 'ankle boot'):\n",
        "        if (label in extracted_answer) or ('ankle' in extracted_answer) or ('boot' in extracted_answer):\n",
        "            correct_images += 1\n",
        "    elif (label in extracted_answer):\n",
        "        correct_images += 1\n",
        "\n",
        "    total_images += 1\n",
        "\n",
        "    accuracy = (correct_images / total_images) * 100\n",
        "    if ( (i+1) % 100 == 0):\n",
        "        print(f\"accuracy up to {i+1} sample is {accuracy}\")\n",
        "        print(\"------------------------------------------\")\n",
        "\n",
        "print(f\"number of total_images: {total_images}\")\n",
        "print(f\"number of correct_images: {correct_images}\")\n",
        "accuracy = (correct_images / total_images) * 100\n",
        "print(f\"accuracy: {accuracy}\")"
      ],
      "metadata": {
        "colab": {
          "base_uri": "https://localhost:8080/"
        },
        "id": "JbQQ-zWQviTM",
        "outputId": "d9541d39-88da-4433-b536-4d9394025629"
      },
      "execution_count": null,
      "outputs": [
        {
          "output_type": "stream",
          "name": "stdout",
          "text": [
            "accuracy up to 100 sample is 15.0\n",
            "------------------------------------------\n",
            "accuracy up to 200 sample is 15.5\n",
            "------------------------------------------\n",
            "accuracy up to 300 sample is 17.0\n",
            "------------------------------------------\n",
            "accuracy up to 400 sample is 18.0\n",
            "------------------------------------------\n",
            "accuracy up to 500 sample is 17.8\n",
            "------------------------------------------\n",
            "accuracy up to 600 sample is 18.166666666666668\n",
            "------------------------------------------\n",
            "accuracy up to 700 sample is 18.714285714285715\n",
            "------------------------------------------\n",
            "accuracy up to 800 sample is 19.0\n",
            "------------------------------------------\n",
            "accuracy up to 900 sample is 18.666666666666668\n",
            "------------------------------------------\n",
            "accuracy up to 1000 sample is 18.5\n",
            "------------------------------------------\n",
            "accuracy up to 1100 sample is 18.818181818181817\n",
            "------------------------------------------\n",
            "number of total_images: 1152\n",
            "number of correct_images: 213\n",
            "accuracy: 18.489583333333336\n"
          ]
        }
      ]
    },
    {
      "cell_type": "markdown",
      "source": [
        "prompt 3: just raw images"
      ],
      "metadata": {
        "id": "U5PdYnK5Lmk1"
      }
    },
    {
      "cell_type": "code",
      "source": [
        "fashion_mnist_images_folder = \"/content/drive/MyDrive/Final_project/FashionMnist\"\n",
        "\n",
        "data_df = pd.read_csv(f\"{fashion_mnist_images_folder}/df_data.csv\")\n",
        "class_names = ['T-shirt/top', 'Trouser', 'Pullover', 'Dress', 'Coat',\n",
        "               'Sandal', 'Shirt', 'Sneaker', 'Bag', 'Ankle boot']\n",
        "\n",
        "total_images = 0\n",
        "correct_images = 0\n",
        "\n",
        "for i in range( len(data_df) ):\n",
        "# for i in range(10):\n",
        "    illusion_image_name = f\"FashionMnist_{i + 1}.jpg\" # 1-base in google drive\n",
        "    illusion_image_path = os.path.join(fashion_mnist_images_folder, \"raw_images\", illusion_image_name)\n",
        "    # illusion_image = Image.open(illusion_image_path) # .convert(\"RGB\")\n",
        "\n",
        "    data_row = data_df.iloc[i]\n",
        "    label = class_names[data_row.label]\n",
        "\n",
        "    question = \"This image contains an object in it. \\\n",
        "    The objects can be 'T-shirt/top' , 'Trouser' , 'Pullover' , 'Dress' , 'Coat' , 'Sandal' , 'Shirt' , 'Sneaker' , 'Bag' , 'Ankle boot' . \\\n",
        "    Please just generate answer in a single word and select one of the objects mentioned that is in the image. \\\n",
        "    For example, if you detect a 'T-shirt/top' generate 'T-shirt/top'.\"\n",
        "\n",
        "    # Load OpenCV image\n",
        "    image_cv2 = cv2.imread(illusion_image_path)\n",
        "    answer = vqa.get_answer(image_cv2, question)\n",
        "    extracted_answer = answer.split(\"Answer:\")[1].strip()\n",
        "\n",
        "    extracted_answer = extracted_answer.lower()\n",
        "    label = label.lower()\n",
        "\n",
        "    if (label == 't-shirt/top'):\n",
        "        if (label in extracted_answer) or ('top' in extracted_answer) or ('t-shirt' in extracted_answer):\n",
        "            correct_images += 1\n",
        "    elif (label == 'ankle boot'):\n",
        "        if (label in extracted_answer) or ('ankle' in extracted_answer) or ('boot' in extracted_answer):\n",
        "            correct_images += 1\n",
        "    elif (label in extracted_answer):\n",
        "        correct_images += 1\n",
        "\n",
        "    total_images += 1\n",
        "\n",
        "    accuracy = (correct_images / total_images) * 100\n",
        "    if ( (i+1) % 100 == 0):\n",
        "        print(f\"accuracy up to {i+1} sample is {accuracy}\")\n",
        "        print(\"------------------------------------------\")\n",
        "\n",
        "print(f\"number of total_images: {total_images}\")\n",
        "print(f\"number of correct_images: {correct_images}\")\n",
        "accuracy = (correct_images / total_images) * 100\n",
        "print(f\"accuracy: {accuracy}\")"
      ],
      "metadata": {
        "colab": {
          "base_uri": "https://localhost:8080/"
        },
        "id": "tjjz5DStLrMK",
        "outputId": "3f344aa5-9d3e-4d55-b860-1f8c748deef1"
      },
      "execution_count": null,
      "outputs": [
        {
          "output_type": "stream",
          "name": "stdout",
          "text": [
            "accuracy up to 100 sample is 16.0\n",
            "------------------------------------------\n",
            "accuracy up to 200 sample is 18.0\n",
            "------------------------------------------\n",
            "accuracy up to 300 sample is 20.0\n",
            "------------------------------------------\n",
            "accuracy up to 400 sample is 20.25\n",
            "------------------------------------------\n",
            "accuracy up to 500 sample is 20.4\n",
            "------------------------------------------\n",
            "accuracy up to 600 sample is 20.166666666666664\n",
            "------------------------------------------\n",
            "accuracy up to 700 sample is 20.714285714285715\n",
            "------------------------------------------\n",
            "accuracy up to 800 sample is 20.875\n",
            "------------------------------------------\n",
            "accuracy up to 900 sample is 19.666666666666664\n",
            "------------------------------------------\n",
            "accuracy up to 1000 sample is 20.4\n",
            "------------------------------------------\n",
            "accuracy up to 1100 sample is 20.18181818181818\n",
            "------------------------------------------\n",
            "number of total_images: 1152\n",
            "number of correct_images: 232\n",
            "accuracy: 20.13888888888889\n"
          ]
        }
      ]
    },
    {
      "cell_type": "markdown",
      "source": [
        "### prompt4: illusionless and illusion images with each other"
      ],
      "metadata": {
        "id": "wfnvjM8B3mvI"
      }
    },
    {
      "cell_type": "code",
      "source": [
        "class_names = ['T-shirt/top', 'Trouser', 'Pullover', 'Dress', 'Coat',\n",
        "               'Sandal', 'Shirt', 'Sneaker', 'Bag', 'Ankle boot']\n",
        "\n",
        "total_images = 0\n",
        "correct_images = 0\n",
        "\n",
        "fashion_mnist_images_folder = \"/content/drive/MyDrive/Final_project/FashionMnist\"\n",
        "data_df = pd.read_csv(f\"{fashion_mnist_images_folder}/df_data.csv\")\n",
        "\n",
        "for i in range(10):\n",
        "    illusion_image_name = f\"FashionMnist_{i + 1}.jpg\" # 1-base in google drive\n",
        "    illusion_image_path = os.path.join(fashion_mnist_images_folder, \"ill_images\", illusion_image_name)\n",
        "    # illusion_image = Image.open(illusion_image_path) # .convert(\"RGB\")\n",
        "\n",
        "    data_row = data_df.iloc[i]\n",
        "    label = class_names[data_row.label]\n",
        "\n",
        "    # question = \"This image may contains illusion of a hidden object in it or not. \\\n",
        "    # The hidden objects can be 'T-shirt/top' , 'Trouser' , 'Pullover' , 'Dress' , 'Coat' , 'Sandal' , 'Shirt' , 'Sneaker' , 'Bag' , 'Ankle boot' . \\\n",
        "    # Please just generate answer in a single word and select one of hidden objects mentioned. if you do not detect any hidden obeject just generate 'no' . \\\n",
        "    # For example, if you detect a 'T-shirt/top' as hidden object just generate 'T-shirt/top'.  if you do not detect a hidden object just generate 'no'.\"\n",
        "\n",
        "    question = \"This image may contains illusion of a hidden object in it or not. \\\n",
        "    The hidden objects can be 'T-shirt/top' , 'Trouser' , 'Pullover' , 'Dress' , 'Coat' , 'Sandal' , 'Shirt' , 'Sneaker' , 'Bag' , 'Ankle boot' , 'no hidden object' . \\\n",
        "    Please just generate answer in a single word and select one of hidden objects mentioned. \\\n",
        "    For example, if you detect a 'T-shirt/top' as hidden object just generate 'T-shirt/top'.  if you do not detect a hidden object just generate 'no hidden object'.\"\n",
        "\n",
        "    # Load OpenCV image\n",
        "    image_cv2 = cv2.imread(illusion_image_path)\n",
        "    answer = vqa.get_answer(image_cv2, question)\n",
        "    extracted_answer = answer.split(\"Answer:\")[1].strip()\n",
        "    print(extracted_answer)\n",
        "\n",
        "    extracted_answer = extracted_answer.lower()\n",
        "    label = label.lower()\n",
        "\n",
        "    if (label == 't-shirt/top'):\n",
        "        if (label in extracted_answer) or ('top' in extracted_answer) or ('t-shirt' in extracted_answer):\n",
        "            correct_images += 1\n",
        "    elif (label == 'ankle boot'):\n",
        "        if (label in extracted_answer) or ('ankle' in extracted_answer) or ('boot' in extracted_answer):\n",
        "            correct_images += 1\n",
        "    elif (label in extracted_answer):\n",
        "        correct_images += 1\n",
        "    # if (label == 'no'):\n",
        "    #     if (label in extracted_answer):\n",
        "    #         correct_images += 1\n",
        "\n",
        "    total_images += 1\n",
        "\n",
        "    accuracy = (correct_images / total_images) * 100\n",
        "    if ( (i+1) % 100 == 0):\n",
        "        print(f\"accuracy up to {i+1} sample is {accuracy}\")\n",
        "        print(\"------------------------------------------\")\n",
        "\n",
        "print(f\"number of total_images: {total_images}\")\n",
        "print(f\"number of correct_images: {correct_images}\")\n",
        "accuracy = (correct_images / total_images) * 100\n",
        "print(f\"accuracy: {accuracy}\")"
      ],
      "metadata": {
        "colab": {
          "base_uri": "https://localhost:8080/"
        },
        "id": "xMEs067x3fCq",
        "outputId": "d9e0e95e-5c0e-4188-beb4-4e03604a868b"
      },
      "execution_count": null,
      "outputs": [
        {
          "output_type": "stream",
          "name": "stdout",
          "text": [
            "yes\n",
            "no hidden object\n",
            "T-shirt\n",
            "no hidden object\n",
            "'Tshirt/Top'\n",
            "Yes\n",
            "yes\n",
            "'Tshirt/Top'\n",
            "yes\n",
            "no hidden object\n",
            "number of total_images: 10\n",
            "number of correct_images: 2\n",
            "accuracy: 20.0\n"
          ]
        }
      ]
    },
    {
      "cell_type": "code",
      "source": [
        "class_names = ['T-shirt/top', 'Trouser', 'Pullover', 'Dress', 'Coat',\n",
        "               'Sandal', 'Shirt', 'Sneaker', 'Bag', 'Ankle boot']\n",
        "\n",
        "total_images = 0\n",
        "correct_images = 0\n",
        "\n",
        "illusionless_fashion_mnist_images_folder = \"/content/drive/MyDrive/Final_project/Illusionless_FashionMnist_captions\"\n",
        "data_df = pd.read_csv(f\"{illusionless_fashion_mnist_images_folder}/df_data.csv\")\n",
        "\n",
        "# for i in range( len(data_df) ):\n",
        "for i in range(10):\n",
        "    illusion_image_name = f\"FashionMnist_{i + 1}.png\" # 1-base in google drive\n",
        "    illusion_image_path = os.path.join(illusionless_fashion_mnist_images_folder, \"illusionless_images\", illusion_image_name)\n",
        "    # illusion_image = Image.open(illusion_image_path) # .convert(\"RGB\")\n",
        "\n",
        "    data_row = data_df.iloc[i]\n",
        "    label = 'no'\n",
        "\n",
        "    # question = \"This image may contains illusion of a hidden object in it or not. \\\n",
        "    # The hidden objects can be 'T-shirt/top' , 'Trouser' , 'Pullover' , 'Dress' , 'Coat' , 'Sandal' , 'Shirt' , 'Sneaker' , 'Bag' , 'Ankle boot' . \\\n",
        "    # Please just generate answer in a single word and select one of hidden objects mentioned. if you do not detect any hidden obeject just generate 'no' . \\\n",
        "    # For example, if you detect a 'T-shirt/top' as hidden object just generate 'T-shirt/top'.  if you do not detect a hidden object just generate 'no'.\"\n",
        "\n",
        "    question = \"This image may contains illusion of a hidden object in it or not. \\\n",
        "    The hidden objects can be 'T-shirt/top' , 'Trouser' , 'Pullover' , 'Dress' , 'Coat' , 'Sandal' , 'Shirt' , 'Sneaker' , 'Bag' , 'Ankle boot' , 'no hidden object' . \\\n",
        "    Please just generate answer in a single word and select one of hidden objects mentioned. \\\n",
        "    For example, if you detect a 'T-shirt/top' as hidden object just generate 'T-shirt/top'.  if you do not detect a hidden object just generate 'no hidden object'.\"\n",
        "\n",
        "\n",
        "    # Load OpenCV image\n",
        "    image_cv2 = cv2.imread(illusion_image_path)\n",
        "    answer = vqa.get_answer(image_cv2, question)\n",
        "    extracted_answer = answer.split(\"Answer:\")[1].strip()\n",
        "\n",
        "    extracted_answer = extracted_answer.lower()\n",
        "    print(extracted_answer)\n",
        "    label = label.lower()\n",
        "\n",
        "    # if (label == 't-shirt/top'):\n",
        "    #     if (label in extracted_answer) or ('top' in extracted_answer) or ('t-shirt' in extracted_answer):\n",
        "    #         correct_images += 1\n",
        "    # elif (label == 'ankle boot'):\n",
        "    #     if (label in extracted_answer) or ('ankle' in extracted_answer) or ('boot' in extracted_answer):\n",
        "    #         correct_images += 1\n",
        "    # elif (label in extracted_answer):\n",
        "    #     correct_images += 1\n",
        "    if (label == 'no'):\n",
        "        if (label in extracted_answer):\n",
        "            correct_images += 1\n",
        "\n",
        "    total_images += 1\n",
        "\n",
        "    accuracy = (correct_images / total_images) * 100\n",
        "    if ( (i+1) % 100 == 0):\n",
        "    # if ( (i+1+len(data_df)) % 100 == 0):\n",
        "        print(f\"accuracy up to {i+1} sample is {accuracy}\")\n",
        "        print(\"------------------------------------------\")\n",
        "\n",
        "print(f\"number of total_images: {total_images}\")\n",
        "print(f\"number of correct_images: {correct_images}\")\n",
        "accuracy = (correct_images / total_images) * 100\n",
        "print(f\"accuracy: {accuracy}\")"
      ],
      "metadata": {
        "colab": {
          "base_uri": "https://localhost:8080/"
        },
        "id": "WJMK6Wba_bSL",
        "outputId": "c87344c5-a7df-4e74-83b0-757998566c15"
      },
      "execution_count": null,
      "outputs": [
        {
          "output_type": "stream",
          "name": "stdout",
          "text": [
            "t-shirt\n",
            "t-shirt\n",
            "t-shirt\n",
            "no hidden object\n",
            "t-shirt\n",
            "no hidden object\n",
            "no hidden object\n",
            "no hidden object\n",
            "t-shirt\n",
            "t-shirt\n",
            "number of total_images: 10\n",
            "number of correct_images: 4\n",
            "accuracy: 40.0\n"
          ]
        }
      ]
    },
    {
      "cell_type": "code",
      "source": [
        "class_names = ['T-shirt/top', 'Trouser', 'Pullover', 'Dress', 'Coat',\n",
        "               'Sandal', 'Shirt', 'Sneaker', 'Bag', 'Ankle boot']\n",
        "\n",
        "total_images = 0\n",
        "correct_images = 0\n",
        "\n",
        "fashion_mnist_images_folder = \"/content/drive/MyDrive/Final_project/FashionMnist\"\n",
        "data_df = pd.read_csv(f\"{fashion_mnist_images_folder}/df_data.csv\")\n",
        "\n",
        "for i in range( len(data_df) ):\n",
        "# for i in range( 10 ):\n",
        "    illusion_image_name = f\"FashionMnist_{i + 1}.jpg\" # 1-base in google drive\n",
        "    illusion_image_path = os.path.join(fashion_mnist_images_folder, \"ill_images\", illusion_image_name)\n",
        "    # illusion_image = Image.open(illusion_image_path) # .convert(\"RGB\")\n",
        "\n",
        "    data_row = data_df.iloc[i]\n",
        "    label = class_names[data_row.label]\n",
        "\n",
        "    question = \"This image may contains illusion of a hidden object in it or not. \\\n",
        "    The hidden objects can be 'T-shirt/top' , 'Trouser' , 'Pullover' , 'Dress' , 'Coat' , 'Sandal' , 'Shirt' , 'Sneaker' , 'Bag' , 'Ankle boot' , 'no hidden object' . \\\n",
        "    Please just generate answer in a single word and select one of hidden objects mentioned. \\\n",
        "    For example, if you detect a 'T-shirt/top' as hidden object just generate 'T-shirt/top'.  if you do not detect a hidden object just generate 'no hidden object'.\"\n",
        "\n",
        "    # Load OpenCV image\n",
        "    image_cv2 = cv2.imread(illusion_image_path)\n",
        "    answer = vqa.get_answer(image_cv2, question)\n",
        "    extracted_answer = answer.split(\"Answer:\")[1].strip() # bias toward T-shirt\n",
        "\n",
        "    extracted_answer = extracted_answer.lower()\n",
        "    label = label.lower()\n",
        "\n",
        "    if (label == 't-shirt/top'):\n",
        "        if (label in extracted_answer) or ('top' in extracted_answer) or ('t-shirt' in extracted_answer):\n",
        "            correct_images += 1\n",
        "    elif (label == 'ankle boot'):\n",
        "        if (label in extracted_answer) or ('ankle' in extracted_answer) or ('boot' in extracted_answer):\n",
        "            correct_images += 1\n",
        "    elif (label in extracted_answer):\n",
        "        correct_images += 1\n",
        "    # if (label == 'no'):\n",
        "    #     if (label in extracted_answer):\n",
        "    #         correct_images += 1\n",
        "\n",
        "    total_images += 1\n",
        "\n",
        "    accuracy = (correct_images / total_images) * 100\n",
        "    if ( (i+1) % 100 == 0):\n",
        "        print(f\"accuracy up to {i+1} sample is {accuracy}\")\n",
        "        print(\"------------------------------------------\")\n",
        "\n",
        "print(f\"accuracy on illusion images is {(correct_images / total_images) * 100}\")\n",
        "print(\"------------------------------------------\")\n",
        "\n",
        "\n",
        "illusionless_fashion_mnist_images_folder = \"/content/drive/MyDrive/Final_project/Illusionless_FashionMnist_captions\"\n",
        "data_df = pd.read_csv(f\"{illusionless_fashion_mnist_images_folder}/df_data.csv\")\n",
        "ill_less_total_images = 0\n",
        "ill_less_correct_images = 0\n",
        "\n",
        "for i in range( len(data_df) ):\n",
        "# for i in range(10):\n",
        "    illusion_image_name = f\"FashionMnist_{i + 1}.png\" # 1-base in google drive\n",
        "    illusion_image_path = os.path.join(illusionless_fashion_mnist_images_folder, \"illusionless_images\", illusion_image_name)\n",
        "    # illusion_image = Image.open(illusion_image_path) # .convert(\"RGB\")\n",
        "\n",
        "    data_row = data_df.iloc[i]\n",
        "    label = 'no'\n",
        "\n",
        "    question = \"This image may contains illusion of a hidden object in it or not. \\\n",
        "    The hidden objects can be 'T-shirt/top' , 'Trouser' , 'Pullover' , 'Dress' , 'Coat' , 'Sandal' , 'Shirt' , 'Sneaker' , 'Bag' , 'Ankle boot' , 'no hidden object' . \\\n",
        "    Please just generate answer in a single word and select one of hidden objects mentioned. \\\n",
        "    For example, if you detect a 'T-shirt/top' as hidden object just generate 'T-shirt/top'.  if you do not detect a hidden object just generate 'no hidden object'.\"\n",
        "\n",
        "\n",
        "    # Load OpenCV image\n",
        "    image_cv2 = cv2.imread(illusion_image_path)\n",
        "    answer = vqa.get_answer(image_cv2, question)\n",
        "    extracted_answer = answer.split(\"Answer:\")[1].strip()\n",
        "\n",
        "    extracted_answer = extracted_answer.lower()\n",
        "    label = label.lower()\n",
        "\n",
        "    # if (label == 't-shirt/top'):\n",
        "    #     if (label in extracted_answer) or ('top' in extracted_answer) or ('t-shirt' in extracted_answer):\n",
        "    #         correct_images += 1\n",
        "    # elif (label == 'ankle boot'):\n",
        "    #     if (label in extracted_answer) or ('ankle' in extracted_answer) or ('boot' in extracted_answer):\n",
        "    #         correct_images += 1\n",
        "    # elif (label in extracted_answer):\n",
        "    #     correct_images += 1\n",
        "    if (label == 'no'):\n",
        "        if (label in extracted_answer):\n",
        "            correct_images += 1\n",
        "            ill_less_correct_images += 1\n",
        "\n",
        "    total_images += 1\n",
        "    ill_less_total_images += 1\n",
        "\n",
        "    accuracy = (correct_images / total_images) * 100\n",
        "    # if ( (i+1) % 100 == 0):\n",
        "    if ( (i+1+len(data_df)) % 100 == 0):\n",
        "        print(f\"accuracy up to {i+1+len(data_df)} sample is {accuracy}\")\n",
        "        print(\"------------------------------------------\")\n",
        "\n",
        "\n",
        "print(f\"accuracy on illusionless images is {(ill_less_correct_images / ill_less_total_images) * 100}\")\n",
        "print(\"------------------------------------------\")\n",
        "\n",
        "print(f\"number of total_images: {total_images}\")\n",
        "print(f\"number of correct_images: {correct_images}\")\n",
        "accuracy = (correct_images / total_images) * 100\n",
        "print(f\"accuracy: {accuracy}\")"
      ],
      "metadata": {
        "colab": {
          "base_uri": "https://localhost:8080/",
          "height": 1000
        },
        "id": "VrcG5R5RAJxt",
        "outputId": "0d7ea56d-7323-48da-b167-6ba759d31a19"
      },
      "execution_count": null,
      "outputs": [
        {
          "output_type": "stream",
          "name": "stdout",
          "text": [
            "accuracy up to 100 sample is 4.0\n",
            "------------------------------------------\n",
            "accuracy up to 200 sample is 5.0\n",
            "------------------------------------------\n",
            "accuracy up to 300 sample is 6.0\n",
            "------------------------------------------\n",
            "accuracy up to 400 sample is 5.75\n",
            "------------------------------------------\n",
            "accuracy up to 500 sample is 5.2\n",
            "------------------------------------------\n",
            "accuracy up to 600 sample is 5.166666666666667\n",
            "------------------------------------------\n",
            "accuracy up to 700 sample is 5.428571428571429\n",
            "------------------------------------------\n",
            "accuracy up to 800 sample is 5.75\n",
            "------------------------------------------\n",
            "accuracy up to 900 sample is 5.333333333333334\n",
            "------------------------------------------\n",
            "accuracy up to 1000 sample is 5.2\n",
            "------------------------------------------\n",
            "accuracy up to 1100 sample is 5.090909090909091\n",
            "------------------------------------------\n",
            "accuracy on illusion images is 4.947916666666666\n",
            "------------------------------------------\n",
            "accuracy up to 48 sample is 5.75\n",
            "------------------------------------------\n",
            "accuracy up to 148 sample is 6.692307692307692\n",
            "------------------------------------------\n",
            "accuracy up to 248 sample is 8.428571428571429\n",
            "------------------------------------------\n",
            "accuracy up to 348 sample is 9.133333333333333\n",
            "------------------------------------------\n",
            "accuracy up to 448 sample is 10.125\n",
            "------------------------------------------\n",
            "accuracy up to 548 sample is 11.529411764705882\n",
            "------------------------------------------\n",
            "accuracy up to 648 sample is 12.055555555555555\n",
            "------------------------------------------\n",
            "accuracy up to 748 sample is 12.789473684210526\n",
            "------------------------------------------\n",
            "accuracy up to 848 sample is 13.700000000000001\n",
            "------------------------------------------\n",
            "accuracy up to 948 sample is 14.476190476190476\n",
            "------------------------------------------\n"
          ]
        },
        {
          "output_type": "error",
          "ename": "error",
          "evalue": "OpenCV(4.8.0) /io/opencv/modules/imgproc/src/color.cpp:182: error: (-215:Assertion failed) !_src.empty() in function 'cvtColor'\n",
          "traceback": [
            "\u001b[0;31m---------------------------------------------------------------------------\u001b[0m",
            "\u001b[0;31merror\u001b[0m                                     Traceback (most recent call last)",
            "\u001b[0;32m<ipython-input-32-42707e8ab0e2>\u001b[0m in \u001b[0;36m<cell line: 60>\u001b[0;34m()\u001b[0m\n\u001b[1;32m     75\u001b[0m     \u001b[0;31m# Load OpenCV image\u001b[0m\u001b[0;34m\u001b[0m\u001b[0;34m\u001b[0m\u001b[0m\n\u001b[1;32m     76\u001b[0m     \u001b[0mimage_cv2\u001b[0m \u001b[0;34m=\u001b[0m \u001b[0mcv2\u001b[0m\u001b[0;34m.\u001b[0m\u001b[0mimread\u001b[0m\u001b[0;34m(\u001b[0m\u001b[0millusion_image_path\u001b[0m\u001b[0;34m)\u001b[0m\u001b[0;34m\u001b[0m\u001b[0;34m\u001b[0m\u001b[0m\n\u001b[0;32m---> 77\u001b[0;31m     \u001b[0manswer\u001b[0m \u001b[0;34m=\u001b[0m \u001b[0mvqa\u001b[0m\u001b[0;34m.\u001b[0m\u001b[0mget_answer\u001b[0m\u001b[0;34m(\u001b[0m\u001b[0mimage_cv2\u001b[0m\u001b[0;34m,\u001b[0m \u001b[0mquestion\u001b[0m\u001b[0;34m)\u001b[0m\u001b[0;34m\u001b[0m\u001b[0;34m\u001b[0m\u001b[0m\n\u001b[0m\u001b[1;32m     78\u001b[0m     \u001b[0mextracted_answer\u001b[0m \u001b[0;34m=\u001b[0m \u001b[0manswer\u001b[0m\u001b[0;34m.\u001b[0m\u001b[0msplit\u001b[0m\u001b[0;34m(\u001b[0m\u001b[0;34m\"Answer:\"\u001b[0m\u001b[0;34m)\u001b[0m\u001b[0;34m[\u001b[0m\u001b[0;36m1\u001b[0m\u001b[0;34m]\u001b[0m\u001b[0;34m.\u001b[0m\u001b[0mstrip\u001b[0m\u001b[0;34m(\u001b[0m\u001b[0;34m)\u001b[0m\u001b[0;34m\u001b[0m\u001b[0;34m\u001b[0m\u001b[0m\n\u001b[1;32m     79\u001b[0m \u001b[0;34m\u001b[0m\u001b[0m\n",
            "\u001b[0;32m<ipython-input-5-e03180c33cd1>\u001b[0m in \u001b[0;36mget_answer\u001b[0;34m(self, image, question)\u001b[0m\n\u001b[1;32m      8\u001b[0m     \u001b[0;32mdef\u001b[0m \u001b[0mget_answer\u001b[0m\u001b[0;34m(\u001b[0m\u001b[0mself\u001b[0m\u001b[0;34m,\u001b[0m \u001b[0mimage\u001b[0m\u001b[0;34m,\u001b[0m \u001b[0mquestion\u001b[0m\u001b[0;34m)\u001b[0m\u001b[0;34m:\u001b[0m\u001b[0;34m\u001b[0m\u001b[0;34m\u001b[0m\u001b[0m\n\u001b[1;32m      9\u001b[0m         \u001b[0;31m# Convert OpenCV image to PIL image\u001b[0m\u001b[0;34m\u001b[0m\u001b[0;34m\u001b[0m\u001b[0m\n\u001b[0;32m---> 10\u001b[0;31m         \u001b[0mimage_pil\u001b[0m \u001b[0;34m=\u001b[0m \u001b[0mImage\u001b[0m\u001b[0;34m.\u001b[0m\u001b[0mfromarray\u001b[0m\u001b[0;34m(\u001b[0m\u001b[0mcv2\u001b[0m\u001b[0;34m.\u001b[0m\u001b[0mcvtColor\u001b[0m\u001b[0;34m(\u001b[0m\u001b[0mimage\u001b[0m\u001b[0;34m,\u001b[0m \u001b[0mcv2\u001b[0m\u001b[0;34m.\u001b[0m\u001b[0mCOLOR_BGR2RGB\u001b[0m\u001b[0;34m)\u001b[0m\u001b[0;34m)\u001b[0m\u001b[0;34m\u001b[0m\u001b[0;34m\u001b[0m\u001b[0m\n\u001b[0m\u001b[1;32m     11\u001b[0m \u001b[0;34m\u001b[0m\u001b[0m\n\u001b[1;32m     12\u001b[0m         \u001b[0mprompt\u001b[0m \u001b[0;34m=\u001b[0m \u001b[0;34m\"<grounding> Question: \"\u001b[0m \u001b[0;34m+\u001b[0m \u001b[0mquestion\u001b[0m \u001b[0;34m+\u001b[0m \u001b[0;34m\" Answer: \"\u001b[0m\u001b[0;34m\u001b[0m\u001b[0;34m\u001b[0m\u001b[0m\n",
            "\u001b[0;31merror\u001b[0m: OpenCV(4.8.0) /io/opencv/modules/imgproc/src/color.cpp:182: error: (-215:Assertion failed) !_src.empty() in function 'cvtColor'\n"
          ]
        }
      ]
    },
    {
      "cell_type": "code",
      "source": [
        "print(f\"accuracy on illusionless images is {(ill_less_correct_images / ill_less_total_images) * 100}\")\n",
        "print(\"------------------------------------------\")\n",
        "\n",
        "print(f\"number of total_images: {total_images}\")\n",
        "print(f\"number of correct_images: {correct_images}\")\n",
        "accuracy = (correct_images / total_images) * 100\n",
        "print(f\"accuracy: {accuracy}\")"
      ],
      "metadata": {
        "colab": {
          "base_uri": "https://localhost:8080/"
        },
        "id": "JPXTOXOyXPb8",
        "outputId": "69190f4d-de20-4e47-c8f2-9ae953274c41"
      },
      "execution_count": null,
      "outputs": [
        {
          "output_type": "stream",
          "name": "stdout",
          "text": [
            "accuracy on illusionless images is 26.040658276863503\n",
            "------------------------------------------\n",
            "number of total_images: 2185\n",
            "number of correct_images: 326\n",
            "accuracy: 14.919908466819223\n"
          ]
        }
      ]
    },
    {
      "cell_type": "code",
      "source": [
        "GLOBAL_SEED = 10\n",
        "\n",
        "np.random.seed(GLOBAL_SEED)\n",
        "random.seed(GLOBAL_SEED)\n",
        "torch.manual_seed(GLOBAL_SEED)\n",
        "torch.use_deterministic_algorithms(True)\n",
        "%env CUBLAS_WORKSPACE_CONFIG=:4096:8\n",
        "\n",
        "torch.backends.cudnn.deterministic = True\n",
        "torch.backends.cudnn.benchmark = False"
      ],
      "metadata": {
        "colab": {
          "base_uri": "https://localhost:8080/"
        },
        "id": "nxgFDoehahTa",
        "outputId": "92771ed2-0c79-4926-a27c-9cf51d8c0456"
      },
      "execution_count": null,
      "outputs": [
        {
          "output_type": "stream",
          "name": "stdout",
          "text": [
            "env: CUBLAS_WORKSPACE_CONFIG=:4096:8\n"
          ]
        }
      ]
    },
    {
      "cell_type": "code",
      "source": [
        "class_names = ['T-shirt/top', 'Trouser', 'Pullover', 'Dress', 'Coat',\n",
        "               'Sandal', 'Shirt', 'Sneaker', 'Bag', 'Ankle boot']\n",
        "\n",
        "total_images = 0\n",
        "correct_images = 0\n",
        "\n",
        "fashion_mnist_images_folder = \"/content/drive/MyDrive/Final_project/FashionMnist\"\n",
        "data_df = pd.read_csv(f\"{fashion_mnist_images_folder}/df_data.csv\")\n",
        "\n",
        "for i in range( len(data_df) ):\n",
        "# for i in range( 10 ):\n",
        "    illusion_image_name = f\"FashionMnist_{i + 1}.jpg\" # 1-base in google drive\n",
        "    illusion_image_path = os.path.join(fashion_mnist_images_folder, \"ill_images\", illusion_image_name)\n",
        "    # illusion_image = Image.open(illusion_image_path) # .convert(\"RGB\")\n",
        "\n",
        "    data_row = data_df.iloc[i]\n",
        "    label = class_names[data_row.label]\n",
        "\n",
        "    question = \"This image may contains illusion of a hidden object in it or not. \\\n",
        "    The hidden objects can be 'T-shirt/top' , 'Trouser' , 'Pullover' , 'Dress' , 'Coat' , 'Sandal' , 'Shirt' , 'Sneaker' , 'Bag' , 'Ankle boot' , 'no hidden object' . \\\n",
        "    Please just generate answer in a single word and select one of hidden objects mentioned. \\\n",
        "    For example, if you detect a 'T-shirt/top' as hidden object just generate 'T-shirt/top'.  if you do not detect a hidden object just generate 'no hidden object'.\"\n",
        "\n",
        "    # Load OpenCV image\n",
        "    image_cv2 = cv2.imread(illusion_image_path)\n",
        "    answer = vqa.get_answer(image_cv2, question)\n",
        "    extracted_answer = answer.split(\"Answer:\")[1].strip() # bias toward T-shirt\n",
        "\n",
        "    extracted_answer = extracted_answer.lower()\n",
        "    label = label.lower()\n",
        "\n",
        "    if (label == 't-shirt/top'):\n",
        "        if (label in extracted_answer) or ('top' in extracted_answer) or ('t-shirt' in extracted_answer):\n",
        "            correct_images += 1\n",
        "    elif (label == 'ankle boot'):\n",
        "        if (label in extracted_answer) or ('ankle' in extracted_answer) or ('boot' in extracted_answer):\n",
        "            correct_images += 1\n",
        "    elif (label in extracted_answer):\n",
        "        correct_images += 1\n",
        "    # if (label == 'no'):\n",
        "    #     if (label in extracted_answer):\n",
        "    #         correct_images += 1\n",
        "\n",
        "    total_images += 1\n",
        "\n",
        "    accuracy = (correct_images / total_images) * 100\n",
        "    if ( (i+1) % 100 == 0):\n",
        "        print(f\"accuracy up to {i+1} sample is {accuracy}\")\n",
        "        print(\"------------------------------------------\")\n",
        "\n",
        "print(f\"accuracy on illusion images is {(correct_images / total_images) * 100}\")\n",
        "print(\"------------------------------------------\")\n",
        "\n",
        "\n",
        "illusionless_fashion_mnist_images_folder = \"/content/drive/MyDrive/Final_project/Illusionless_FashionMnist_captions\"\n",
        "data_df = pd.read_csv(f\"{illusionless_fashion_mnist_images_folder}/df_data.csv\")\n",
        "ill_less_total_images = 0\n",
        "ill_less_correct_images = 0\n",
        "\n",
        "for i in range( len(data_df) ):\n",
        "# for i in range(10):\n",
        "    illusion_image_name = f\"FashionMnist_{i + 1}.png\" # 1-base in google drive\n",
        "    illusion_image_path = os.path.join(illusionless_fashion_mnist_images_folder, \"illusionless_images\", illusion_image_name)\n",
        "    # illusion_image = Image.open(illusion_image_path) # .convert(\"RGB\")\n",
        "\n",
        "    data_row = data_df.iloc[i]\n",
        "    label = 'no'\n",
        "\n",
        "    question = \"This image may contains illusion of a hidden object in it or not. \\\n",
        "    The hidden objects can be 'T-shirt/top' , 'Trouser' , 'Pullover' , 'Dress' , 'Coat' , 'Sandal' , 'Shirt' , 'Sneaker' , 'Bag' , 'Ankle boot' , 'no hidden object' . \\\n",
        "    Please just generate answer in a single word and select one of hidden objects mentioned. \\\n",
        "    For example, if you detect a 'T-shirt/top' as hidden object just generate 'T-shirt/top'.  if you do not detect a hidden object just generate 'no hidden object'.\"\n",
        "\n",
        "\n",
        "    # Load OpenCV image\n",
        "    image_cv2 = cv2.imread(illusion_image_path)\n",
        "    try:\n",
        "        answer = vqa.get_answer(image_cv2, question)\n",
        "    except:\n",
        "        continue\n",
        "\n",
        "    extracted_answer = answer.split(\"Answer:\")[1].strip()\n",
        "\n",
        "    extracted_answer = extracted_answer.lower()\n",
        "    label = label.lower()\n",
        "\n",
        "    # if (label == 't-shirt/top'):\n",
        "    #     if (label in extracted_answer) or ('top' in extracted_answer) or ('t-shirt' in extracted_answer):\n",
        "    #         correct_images += 1\n",
        "    # elif (label == 'ankle boot'):\n",
        "    #     if (label in extracted_answer) or ('ankle' in extracted_answer) or ('boot' in extracted_answer):\n",
        "    #         correct_images += 1\n",
        "    # elif (label in extracted_answer):\n",
        "    #     correct_images += 1\n",
        "    if (label == 'no'):\n",
        "        if (label in extracted_answer):\n",
        "            correct_images += 1\n",
        "            ill_less_correct_images += 1\n",
        "\n",
        "    total_images += 1\n",
        "    ill_less_total_images += 1\n",
        "\n",
        "    accuracy = (correct_images / total_images) * 100\n",
        "    # if ( (i+1) % 100 == 0):\n",
        "    if ( (i+1+len(data_df)) % 100 == 0):\n",
        "        print(f\"accuracy up to {i+1+len(data_df)} sample is {accuracy}\")\n",
        "        print(\"------------------------------------------\")\n",
        "\n",
        "\n",
        "print(f\"accuracy on illusionless images is {(ill_less_correct_images / ill_less_total_images) * 100}\")\n",
        "print(\"------------------------------------------\")\n",
        "\n",
        "print(f\"number of total_images: {total_images}\")\n",
        "print(f\"number of correct_images: {correct_images}\")\n",
        "accuracy = (correct_images / total_images) * 100\n",
        "print(f\"accuracy: {accuracy}\")"
      ],
      "metadata": {
        "colab": {
          "base_uri": "https://localhost:8080/"
        },
        "id": "krp2THEPZaC9",
        "outputId": "beedee96-a382-44d9-ad1c-03595096314b"
      },
      "execution_count": null,
      "outputs": [
        {
          "output_type": "stream",
          "name": "stdout",
          "text": [
            "accuracy up to 100 sample is 4.0\n",
            "------------------------------------------\n",
            "accuracy up to 200 sample is 5.0\n",
            "------------------------------------------\n",
            "accuracy up to 300 sample is 6.0\n",
            "------------------------------------------\n",
            "accuracy up to 400 sample is 5.75\n",
            "------------------------------------------\n",
            "accuracy up to 500 sample is 5.2\n",
            "------------------------------------------\n",
            "accuracy up to 600 sample is 5.166666666666667\n",
            "------------------------------------------\n",
            "accuracy up to 700 sample is 5.428571428571429\n",
            "------------------------------------------\n",
            "accuracy up to 800 sample is 5.75\n",
            "------------------------------------------\n",
            "accuracy up to 900 sample is 5.333333333333334\n",
            "------------------------------------------\n",
            "accuracy up to 1000 sample is 5.2\n",
            "------------------------------------------\n",
            "accuracy up to 1100 sample is 5.090909090909091\n",
            "------------------------------------------\n",
            "accuracy on illusion images is 4.947916666666666\n",
            "------------------------------------------\n",
            "accuracy up to 1200 sample is 5.75\n",
            "------------------------------------------\n",
            "accuracy up to 1300 sample is 6.692307692307692\n",
            "------------------------------------------\n",
            "accuracy up to 1400 sample is 8.428571428571429\n",
            "------------------------------------------\n",
            "accuracy up to 1500 sample is 9.133333333333333\n",
            "------------------------------------------\n",
            "accuracy up to 1600 sample is 10.125\n",
            "------------------------------------------\n",
            "accuracy up to 1700 sample is 11.529411764705882\n",
            "------------------------------------------\n",
            "accuracy up to 1800 sample is 12.055555555555555\n",
            "------------------------------------------\n",
            "accuracy up to 1900 sample is 12.789473684210526\n",
            "------------------------------------------\n",
            "accuracy up to 2000 sample is 13.700000000000001\n",
            "------------------------------------------\n",
            "accuracy up to 2100 sample is 14.476190476190476\n",
            "------------------------------------------\n",
            "accuracy up to 2200 sample is 15.052296498408369\n",
            "------------------------------------------\n",
            "accuracy up to 2300 sample is 15.57198782079165\n",
            "------------------------------------------\n",
            "accuracy on illusionless images is 26.238053866203302\n",
            "------------------------------------------\n",
            "number of total_images: 2303\n",
            "number of correct_images: 359\n",
            "accuracy: 15.58836300477638\n"
          ]
        }
      ]
    }
  ],
  "metadata": {
    "accelerator": "GPU",
    "colab": {
      "collapsed_sections": [
        "2WEkhUuM6omd",
        "5RWYeQKt6v8e",
        "IQgEkcj27QZU",
        "mrI2_jT0ZKoh",
        "Qi0mImrJbH7u",
        "cuFIwNyxGOkZ",
        "N2mRkmYXMORk",
        "xEWzf1TbTMHd",
        "_7wW5r92lk0Z",
        "T5d6guRzZylp",
        "zOKguMdkb3Yt",
        "knuwrsMTdjgg",
        "807J7zPCl9YL"
      ],
      "gpuType": "T4",
      "provenance": []
    },
    "kernelspec": {
      "display_name": "Python 3",
      "name": "python3"
    },
    "language_info": {
      "name": "python"
    },
    "widgets": {
      "application/vnd.jupyter.widget-state+json": {
        "858d3f2802f54c64b16e0d1504746361": {
          "model_module": "@jupyter-widgets/controls",
          "model_name": "HBoxModel",
          "model_module_version": "1.5.0",
          "state": {
            "_dom_classes": [],
            "_model_module": "@jupyter-widgets/controls",
            "_model_module_version": "1.5.0",
            "_model_name": "HBoxModel",
            "_view_count": null,
            "_view_module": "@jupyter-widgets/controls",
            "_view_module_version": "1.5.0",
            "_view_name": "HBoxView",
            "box_style": "",
            "children": [
              "IPY_MODEL_3cf8a51fc6724c31ae5379b5d0797ef1",
              "IPY_MODEL_10d39e3ef41248caa41e0f4ffc9076f4",
              "IPY_MODEL_2de946d141c34da4ba12f648cd17f13a"
            ],
            "layout": "IPY_MODEL_74668f2846a3494f80f54dd10338f9ff"
          }
        },
        "3cf8a51fc6724c31ae5379b5d0797ef1": {
          "model_module": "@jupyter-widgets/controls",
          "model_name": "HTMLModel",
          "model_module_version": "1.5.0",
          "state": {
            "_dom_classes": [],
            "_model_module": "@jupyter-widgets/controls",
            "_model_module_version": "1.5.0",
            "_model_name": "HTMLModel",
            "_view_count": null,
            "_view_module": "@jupyter-widgets/controls",
            "_view_module_version": "1.5.0",
            "_view_name": "HTMLView",
            "description": "",
            "description_tooltip": null,
            "layout": "IPY_MODEL_a6f19575eb6647a08908a4e1e71bbc04",
            "placeholder": "​",
            "style": "IPY_MODEL_603061bf15fc4d3c8f9a17785d060f41",
            "value": "config.json: 100%"
          }
        },
        "10d39e3ef41248caa41e0f4ffc9076f4": {
          "model_module": "@jupyter-widgets/controls",
          "model_name": "FloatProgressModel",
          "model_module_version": "1.5.0",
          "state": {
            "_dom_classes": [],
            "_model_module": "@jupyter-widgets/controls",
            "_model_module_version": "1.5.0",
            "_model_name": "FloatProgressModel",
            "_view_count": null,
            "_view_module": "@jupyter-widgets/controls",
            "_view_module_version": "1.5.0",
            "_view_name": "ProgressView",
            "bar_style": "success",
            "description": "",
            "description_tooltip": null,
            "layout": "IPY_MODEL_7ed3ea5a24034174a1d345abf7cdd8a3",
            "max": 4452,
            "min": 0,
            "orientation": "horizontal",
            "style": "IPY_MODEL_a415d224d98946348f47b6178cb25ab9",
            "value": 4452
          }
        },
        "2de946d141c34da4ba12f648cd17f13a": {
          "model_module": "@jupyter-widgets/controls",
          "model_name": "HTMLModel",
          "model_module_version": "1.5.0",
          "state": {
            "_dom_classes": [],
            "_model_module": "@jupyter-widgets/controls",
            "_model_module_version": "1.5.0",
            "_model_name": "HTMLModel",
            "_view_count": null,
            "_view_module": "@jupyter-widgets/controls",
            "_view_module_version": "1.5.0",
            "_view_name": "HTMLView",
            "description": "",
            "description_tooltip": null,
            "layout": "IPY_MODEL_39b661f7e39a44548d81d3c3d736027b",
            "placeholder": "​",
            "style": "IPY_MODEL_2fc02bb11225485aa222e35b97e29608",
            "value": " 4.45k/4.45k [00:00&lt;00:00, 89.3kB/s]"
          }
        },
        "74668f2846a3494f80f54dd10338f9ff": {
          "model_module": "@jupyter-widgets/base",
          "model_name": "LayoutModel",
          "model_module_version": "1.2.0",
          "state": {
            "_model_module": "@jupyter-widgets/base",
            "_model_module_version": "1.2.0",
            "_model_name": "LayoutModel",
            "_view_count": null,
            "_view_module": "@jupyter-widgets/base",
            "_view_module_version": "1.2.0",
            "_view_name": "LayoutView",
            "align_content": null,
            "align_items": null,
            "align_self": null,
            "border": null,
            "bottom": null,
            "display": null,
            "flex": null,
            "flex_flow": null,
            "grid_area": null,
            "grid_auto_columns": null,
            "grid_auto_flow": null,
            "grid_auto_rows": null,
            "grid_column": null,
            "grid_gap": null,
            "grid_row": null,
            "grid_template_areas": null,
            "grid_template_columns": null,
            "grid_template_rows": null,
            "height": null,
            "justify_content": null,
            "justify_items": null,
            "left": null,
            "margin": null,
            "max_height": null,
            "max_width": null,
            "min_height": null,
            "min_width": null,
            "object_fit": null,
            "object_position": null,
            "order": null,
            "overflow": null,
            "overflow_x": null,
            "overflow_y": null,
            "padding": null,
            "right": null,
            "top": null,
            "visibility": null,
            "width": null
          }
        },
        "a6f19575eb6647a08908a4e1e71bbc04": {
          "model_module": "@jupyter-widgets/base",
          "model_name": "LayoutModel",
          "model_module_version": "1.2.0",
          "state": {
            "_model_module": "@jupyter-widgets/base",
            "_model_module_version": "1.2.0",
            "_model_name": "LayoutModel",
            "_view_count": null,
            "_view_module": "@jupyter-widgets/base",
            "_view_module_version": "1.2.0",
            "_view_name": "LayoutView",
            "align_content": null,
            "align_items": null,
            "align_self": null,
            "border": null,
            "bottom": null,
            "display": null,
            "flex": null,
            "flex_flow": null,
            "grid_area": null,
            "grid_auto_columns": null,
            "grid_auto_flow": null,
            "grid_auto_rows": null,
            "grid_column": null,
            "grid_gap": null,
            "grid_row": null,
            "grid_template_areas": null,
            "grid_template_columns": null,
            "grid_template_rows": null,
            "height": null,
            "justify_content": null,
            "justify_items": null,
            "left": null,
            "margin": null,
            "max_height": null,
            "max_width": null,
            "min_height": null,
            "min_width": null,
            "object_fit": null,
            "object_position": null,
            "order": null,
            "overflow": null,
            "overflow_x": null,
            "overflow_y": null,
            "padding": null,
            "right": null,
            "top": null,
            "visibility": null,
            "width": null
          }
        },
        "603061bf15fc4d3c8f9a17785d060f41": {
          "model_module": "@jupyter-widgets/controls",
          "model_name": "DescriptionStyleModel",
          "model_module_version": "1.5.0",
          "state": {
            "_model_module": "@jupyter-widgets/controls",
            "_model_module_version": "1.5.0",
            "_model_name": "DescriptionStyleModel",
            "_view_count": null,
            "_view_module": "@jupyter-widgets/base",
            "_view_module_version": "1.2.0",
            "_view_name": "StyleView",
            "description_width": ""
          }
        },
        "7ed3ea5a24034174a1d345abf7cdd8a3": {
          "model_module": "@jupyter-widgets/base",
          "model_name": "LayoutModel",
          "model_module_version": "1.2.0",
          "state": {
            "_model_module": "@jupyter-widgets/base",
            "_model_module_version": "1.2.0",
            "_model_name": "LayoutModel",
            "_view_count": null,
            "_view_module": "@jupyter-widgets/base",
            "_view_module_version": "1.2.0",
            "_view_name": "LayoutView",
            "align_content": null,
            "align_items": null,
            "align_self": null,
            "border": null,
            "bottom": null,
            "display": null,
            "flex": null,
            "flex_flow": null,
            "grid_area": null,
            "grid_auto_columns": null,
            "grid_auto_flow": null,
            "grid_auto_rows": null,
            "grid_column": null,
            "grid_gap": null,
            "grid_row": null,
            "grid_template_areas": null,
            "grid_template_columns": null,
            "grid_template_rows": null,
            "height": null,
            "justify_content": null,
            "justify_items": null,
            "left": null,
            "margin": null,
            "max_height": null,
            "max_width": null,
            "min_height": null,
            "min_width": null,
            "object_fit": null,
            "object_position": null,
            "order": null,
            "overflow": null,
            "overflow_x": null,
            "overflow_y": null,
            "padding": null,
            "right": null,
            "top": null,
            "visibility": null,
            "width": null
          }
        },
        "a415d224d98946348f47b6178cb25ab9": {
          "model_module": "@jupyter-widgets/controls",
          "model_name": "ProgressStyleModel",
          "model_module_version": "1.5.0",
          "state": {
            "_model_module": "@jupyter-widgets/controls",
            "_model_module_version": "1.5.0",
            "_model_name": "ProgressStyleModel",
            "_view_count": null,
            "_view_module": "@jupyter-widgets/base",
            "_view_module_version": "1.2.0",
            "_view_name": "StyleView",
            "bar_color": null,
            "description_width": ""
          }
        },
        "39b661f7e39a44548d81d3c3d736027b": {
          "model_module": "@jupyter-widgets/base",
          "model_name": "LayoutModel",
          "model_module_version": "1.2.0",
          "state": {
            "_model_module": "@jupyter-widgets/base",
            "_model_module_version": "1.2.0",
            "_model_name": "LayoutModel",
            "_view_count": null,
            "_view_module": "@jupyter-widgets/base",
            "_view_module_version": "1.2.0",
            "_view_name": "LayoutView",
            "align_content": null,
            "align_items": null,
            "align_self": null,
            "border": null,
            "bottom": null,
            "display": null,
            "flex": null,
            "flex_flow": null,
            "grid_area": null,
            "grid_auto_columns": null,
            "grid_auto_flow": null,
            "grid_auto_rows": null,
            "grid_column": null,
            "grid_gap": null,
            "grid_row": null,
            "grid_template_areas": null,
            "grid_template_columns": null,
            "grid_template_rows": null,
            "height": null,
            "justify_content": null,
            "justify_items": null,
            "left": null,
            "margin": null,
            "max_height": null,
            "max_width": null,
            "min_height": null,
            "min_width": null,
            "object_fit": null,
            "object_position": null,
            "order": null,
            "overflow": null,
            "overflow_x": null,
            "overflow_y": null,
            "padding": null,
            "right": null,
            "top": null,
            "visibility": null,
            "width": null
          }
        },
        "2fc02bb11225485aa222e35b97e29608": {
          "model_module": "@jupyter-widgets/controls",
          "model_name": "DescriptionStyleModel",
          "model_module_version": "1.5.0",
          "state": {
            "_model_module": "@jupyter-widgets/controls",
            "_model_module_version": "1.5.0",
            "_model_name": "DescriptionStyleModel",
            "_view_count": null,
            "_view_module": "@jupyter-widgets/base",
            "_view_module_version": "1.2.0",
            "_view_name": "StyleView",
            "description_width": ""
          }
        },
        "816b20945dbf42cebba897210bfdbd14": {
          "model_module": "@jupyter-widgets/controls",
          "model_name": "HBoxModel",
          "model_module_version": "1.5.0",
          "state": {
            "_dom_classes": [],
            "_model_module": "@jupyter-widgets/controls",
            "_model_module_version": "1.5.0",
            "_model_name": "HBoxModel",
            "_view_count": null,
            "_view_module": "@jupyter-widgets/controls",
            "_view_module_version": "1.5.0",
            "_view_name": "HBoxView",
            "box_style": "",
            "children": [
              "IPY_MODEL_eb9b97b32f1d46cea98c32494b11c4e4",
              "IPY_MODEL_f33d6b28c5c24c07ba26ce0de9713abd",
              "IPY_MODEL_4cdca767d9ad44ff893a02c8fe3980ed"
            ],
            "layout": "IPY_MODEL_7714ddc3846540dcb689eb73024293e8"
          }
        },
        "eb9b97b32f1d46cea98c32494b11c4e4": {
          "model_module": "@jupyter-widgets/controls",
          "model_name": "HTMLModel",
          "model_module_version": "1.5.0",
          "state": {
            "_dom_classes": [],
            "_model_module": "@jupyter-widgets/controls",
            "_model_module_version": "1.5.0",
            "_model_name": "HTMLModel",
            "_view_count": null,
            "_view_module": "@jupyter-widgets/controls",
            "_view_module_version": "1.5.0",
            "_view_name": "HTMLView",
            "description": "",
            "description_tooltip": null,
            "layout": "IPY_MODEL_b16852a6d3a54d6aa4fa0462e416090d",
            "placeholder": "​",
            "style": "IPY_MODEL_b38caaa3c42848f98ec2831ba11f3245",
            "value": "model.safetensors: 100%"
          }
        },
        "f33d6b28c5c24c07ba26ce0de9713abd": {
          "model_module": "@jupyter-widgets/controls",
          "model_name": "FloatProgressModel",
          "model_module_version": "1.5.0",
          "state": {
            "_dom_classes": [],
            "_model_module": "@jupyter-widgets/controls",
            "_model_module_version": "1.5.0",
            "_model_name": "FloatProgressModel",
            "_view_count": null,
            "_view_module": "@jupyter-widgets/controls",
            "_view_module_version": "1.5.0",
            "_view_name": "ProgressView",
            "bar_style": "success",
            "description": "",
            "description_tooltip": null,
            "layout": "IPY_MODEL_b658d20b1a5843fe8ad16919b9a9a4fb",
            "max": 6658052808,
            "min": 0,
            "orientation": "horizontal",
            "style": "IPY_MODEL_669ce5d07e07425d8eb8caa8c4820d34",
            "value": 6658052808
          }
        },
        "4cdca767d9ad44ff893a02c8fe3980ed": {
          "model_module": "@jupyter-widgets/controls",
          "model_name": "HTMLModel",
          "model_module_version": "1.5.0",
          "state": {
            "_dom_classes": [],
            "_model_module": "@jupyter-widgets/controls",
            "_model_module_version": "1.5.0",
            "_model_name": "HTMLModel",
            "_view_count": null,
            "_view_module": "@jupyter-widgets/controls",
            "_view_module_version": "1.5.0",
            "_view_name": "HTMLView",
            "description": "",
            "description_tooltip": null,
            "layout": "IPY_MODEL_467089f288774baba0585611addd4314",
            "placeholder": "​",
            "style": "IPY_MODEL_46b8642fc61b49b898ca01bd95ab8491",
            "value": " 6.66G/6.66G [00:59&lt;00:00, 201MB/s]"
          }
        },
        "7714ddc3846540dcb689eb73024293e8": {
          "model_module": "@jupyter-widgets/base",
          "model_name": "LayoutModel",
          "model_module_version": "1.2.0",
          "state": {
            "_model_module": "@jupyter-widgets/base",
            "_model_module_version": "1.2.0",
            "_model_name": "LayoutModel",
            "_view_count": null,
            "_view_module": "@jupyter-widgets/base",
            "_view_module_version": "1.2.0",
            "_view_name": "LayoutView",
            "align_content": null,
            "align_items": null,
            "align_self": null,
            "border": null,
            "bottom": null,
            "display": null,
            "flex": null,
            "flex_flow": null,
            "grid_area": null,
            "grid_auto_columns": null,
            "grid_auto_flow": null,
            "grid_auto_rows": null,
            "grid_column": null,
            "grid_gap": null,
            "grid_row": null,
            "grid_template_areas": null,
            "grid_template_columns": null,
            "grid_template_rows": null,
            "height": null,
            "justify_content": null,
            "justify_items": null,
            "left": null,
            "margin": null,
            "max_height": null,
            "max_width": null,
            "min_height": null,
            "min_width": null,
            "object_fit": null,
            "object_position": null,
            "order": null,
            "overflow": null,
            "overflow_x": null,
            "overflow_y": null,
            "padding": null,
            "right": null,
            "top": null,
            "visibility": null,
            "width": null
          }
        },
        "b16852a6d3a54d6aa4fa0462e416090d": {
          "model_module": "@jupyter-widgets/base",
          "model_name": "LayoutModel",
          "model_module_version": "1.2.0",
          "state": {
            "_model_module": "@jupyter-widgets/base",
            "_model_module_version": "1.2.0",
            "_model_name": "LayoutModel",
            "_view_count": null,
            "_view_module": "@jupyter-widgets/base",
            "_view_module_version": "1.2.0",
            "_view_name": "LayoutView",
            "align_content": null,
            "align_items": null,
            "align_self": null,
            "border": null,
            "bottom": null,
            "display": null,
            "flex": null,
            "flex_flow": null,
            "grid_area": null,
            "grid_auto_columns": null,
            "grid_auto_flow": null,
            "grid_auto_rows": null,
            "grid_column": null,
            "grid_gap": null,
            "grid_row": null,
            "grid_template_areas": null,
            "grid_template_columns": null,
            "grid_template_rows": null,
            "height": null,
            "justify_content": null,
            "justify_items": null,
            "left": null,
            "margin": null,
            "max_height": null,
            "max_width": null,
            "min_height": null,
            "min_width": null,
            "object_fit": null,
            "object_position": null,
            "order": null,
            "overflow": null,
            "overflow_x": null,
            "overflow_y": null,
            "padding": null,
            "right": null,
            "top": null,
            "visibility": null,
            "width": null
          }
        },
        "b38caaa3c42848f98ec2831ba11f3245": {
          "model_module": "@jupyter-widgets/controls",
          "model_name": "DescriptionStyleModel",
          "model_module_version": "1.5.0",
          "state": {
            "_model_module": "@jupyter-widgets/controls",
            "_model_module_version": "1.5.0",
            "_model_name": "DescriptionStyleModel",
            "_view_count": null,
            "_view_module": "@jupyter-widgets/base",
            "_view_module_version": "1.2.0",
            "_view_name": "StyleView",
            "description_width": ""
          }
        },
        "b658d20b1a5843fe8ad16919b9a9a4fb": {
          "model_module": "@jupyter-widgets/base",
          "model_name": "LayoutModel",
          "model_module_version": "1.2.0",
          "state": {
            "_model_module": "@jupyter-widgets/base",
            "_model_module_version": "1.2.0",
            "_model_name": "LayoutModel",
            "_view_count": null,
            "_view_module": "@jupyter-widgets/base",
            "_view_module_version": "1.2.0",
            "_view_name": "LayoutView",
            "align_content": null,
            "align_items": null,
            "align_self": null,
            "border": null,
            "bottom": null,
            "display": null,
            "flex": null,
            "flex_flow": null,
            "grid_area": null,
            "grid_auto_columns": null,
            "grid_auto_flow": null,
            "grid_auto_rows": null,
            "grid_column": null,
            "grid_gap": null,
            "grid_row": null,
            "grid_template_areas": null,
            "grid_template_columns": null,
            "grid_template_rows": null,
            "height": null,
            "justify_content": null,
            "justify_items": null,
            "left": null,
            "margin": null,
            "max_height": null,
            "max_width": null,
            "min_height": null,
            "min_width": null,
            "object_fit": null,
            "object_position": null,
            "order": null,
            "overflow": null,
            "overflow_x": null,
            "overflow_y": null,
            "padding": null,
            "right": null,
            "top": null,
            "visibility": null,
            "width": null
          }
        },
        "669ce5d07e07425d8eb8caa8c4820d34": {
          "model_module": "@jupyter-widgets/controls",
          "model_name": "ProgressStyleModel",
          "model_module_version": "1.5.0",
          "state": {
            "_model_module": "@jupyter-widgets/controls",
            "_model_module_version": "1.5.0",
            "_model_name": "ProgressStyleModel",
            "_view_count": null,
            "_view_module": "@jupyter-widgets/base",
            "_view_module_version": "1.2.0",
            "_view_name": "StyleView",
            "bar_color": null,
            "description_width": ""
          }
        },
        "467089f288774baba0585611addd4314": {
          "model_module": "@jupyter-widgets/base",
          "model_name": "LayoutModel",
          "model_module_version": "1.2.0",
          "state": {
            "_model_module": "@jupyter-widgets/base",
            "_model_module_version": "1.2.0",
            "_model_name": "LayoutModel",
            "_view_count": null,
            "_view_module": "@jupyter-widgets/base",
            "_view_module_version": "1.2.0",
            "_view_name": "LayoutView",
            "align_content": null,
            "align_items": null,
            "align_self": null,
            "border": null,
            "bottom": null,
            "display": null,
            "flex": null,
            "flex_flow": null,
            "grid_area": null,
            "grid_auto_columns": null,
            "grid_auto_flow": null,
            "grid_auto_rows": null,
            "grid_column": null,
            "grid_gap": null,
            "grid_row": null,
            "grid_template_areas": null,
            "grid_template_columns": null,
            "grid_template_rows": null,
            "height": null,
            "justify_content": null,
            "justify_items": null,
            "left": null,
            "margin": null,
            "max_height": null,
            "max_width": null,
            "min_height": null,
            "min_width": null,
            "object_fit": null,
            "object_position": null,
            "order": null,
            "overflow": null,
            "overflow_x": null,
            "overflow_y": null,
            "padding": null,
            "right": null,
            "top": null,
            "visibility": null,
            "width": null
          }
        },
        "46b8642fc61b49b898ca01bd95ab8491": {
          "model_module": "@jupyter-widgets/controls",
          "model_name": "DescriptionStyleModel",
          "model_module_version": "1.5.0",
          "state": {
            "_model_module": "@jupyter-widgets/controls",
            "_model_module_version": "1.5.0",
            "_model_name": "DescriptionStyleModel",
            "_view_count": null,
            "_view_module": "@jupyter-widgets/base",
            "_view_module_version": "1.2.0",
            "_view_name": "StyleView",
            "description_width": ""
          }
        },
        "42077894218946dbbd14ae8a944d98e5": {
          "model_module": "@jupyter-widgets/controls",
          "model_name": "HBoxModel",
          "model_module_version": "1.5.0",
          "state": {
            "_dom_classes": [],
            "_model_module": "@jupyter-widgets/controls",
            "_model_module_version": "1.5.0",
            "_model_name": "HBoxModel",
            "_view_count": null,
            "_view_module": "@jupyter-widgets/controls",
            "_view_module_version": "1.5.0",
            "_view_name": "HBoxView",
            "box_style": "",
            "children": [
              "IPY_MODEL_87fae76d5ff8470d9ee69f52dcf2f4ed",
              "IPY_MODEL_31735dc725db412a93167bec51d9e836",
              "IPY_MODEL_14ea5760c10041dda2e97f4c108c7b74"
            ],
            "layout": "IPY_MODEL_355935a855e04deb8d5b1c08898bf684"
          }
        },
        "87fae76d5ff8470d9ee69f52dcf2f4ed": {
          "model_module": "@jupyter-widgets/controls",
          "model_name": "HTMLModel",
          "model_module_version": "1.5.0",
          "state": {
            "_dom_classes": [],
            "_model_module": "@jupyter-widgets/controls",
            "_model_module_version": "1.5.0",
            "_model_name": "HTMLModel",
            "_view_count": null,
            "_view_module": "@jupyter-widgets/controls",
            "_view_module_version": "1.5.0",
            "_view_name": "HTMLView",
            "description": "",
            "description_tooltip": null,
            "layout": "IPY_MODEL_ac21abcdcd5141c78f7b84abc44221ee",
            "placeholder": "​",
            "style": "IPY_MODEL_fd37457a59744ca3a55e8d1311322e35",
            "value": "generation_config.json: 100%"
          }
        },
        "31735dc725db412a93167bec51d9e836": {
          "model_module": "@jupyter-widgets/controls",
          "model_name": "FloatProgressModel",
          "model_module_version": "1.5.0",
          "state": {
            "_dom_classes": [],
            "_model_module": "@jupyter-widgets/controls",
            "_model_module_version": "1.5.0",
            "_model_name": "FloatProgressModel",
            "_view_count": null,
            "_view_module": "@jupyter-widgets/controls",
            "_view_module_version": "1.5.0",
            "_view_name": "ProgressView",
            "bar_style": "success",
            "description": "",
            "description_tooltip": null,
            "layout": "IPY_MODEL_29b0dacd92244236ae832dbe2de27d0a",
            "max": 137,
            "min": 0,
            "orientation": "horizontal",
            "style": "IPY_MODEL_0b0591bdb2d5488fabd7c1ad682ad6e3",
            "value": 137
          }
        },
        "14ea5760c10041dda2e97f4c108c7b74": {
          "model_module": "@jupyter-widgets/controls",
          "model_name": "HTMLModel",
          "model_module_version": "1.5.0",
          "state": {
            "_dom_classes": [],
            "_model_module": "@jupyter-widgets/controls",
            "_model_module_version": "1.5.0",
            "_model_name": "HTMLModel",
            "_view_count": null,
            "_view_module": "@jupyter-widgets/controls",
            "_view_module_version": "1.5.0",
            "_view_name": "HTMLView",
            "description": "",
            "description_tooltip": null,
            "layout": "IPY_MODEL_558a7449a3e5437b962c4cdc386e624a",
            "placeholder": "​",
            "style": "IPY_MODEL_2de4ac75aabd4c0db53365533fa5c933",
            "value": " 137/137 [00:00&lt;00:00, 6.87kB/s]"
          }
        },
        "355935a855e04deb8d5b1c08898bf684": {
          "model_module": "@jupyter-widgets/base",
          "model_name": "LayoutModel",
          "model_module_version": "1.2.0",
          "state": {
            "_model_module": "@jupyter-widgets/base",
            "_model_module_version": "1.2.0",
            "_model_name": "LayoutModel",
            "_view_count": null,
            "_view_module": "@jupyter-widgets/base",
            "_view_module_version": "1.2.0",
            "_view_name": "LayoutView",
            "align_content": null,
            "align_items": null,
            "align_self": null,
            "border": null,
            "bottom": null,
            "display": null,
            "flex": null,
            "flex_flow": null,
            "grid_area": null,
            "grid_auto_columns": null,
            "grid_auto_flow": null,
            "grid_auto_rows": null,
            "grid_column": null,
            "grid_gap": null,
            "grid_row": null,
            "grid_template_areas": null,
            "grid_template_columns": null,
            "grid_template_rows": null,
            "height": null,
            "justify_content": null,
            "justify_items": null,
            "left": null,
            "margin": null,
            "max_height": null,
            "max_width": null,
            "min_height": null,
            "min_width": null,
            "object_fit": null,
            "object_position": null,
            "order": null,
            "overflow": null,
            "overflow_x": null,
            "overflow_y": null,
            "padding": null,
            "right": null,
            "top": null,
            "visibility": null,
            "width": null
          }
        },
        "ac21abcdcd5141c78f7b84abc44221ee": {
          "model_module": "@jupyter-widgets/base",
          "model_name": "LayoutModel",
          "model_module_version": "1.2.0",
          "state": {
            "_model_module": "@jupyter-widgets/base",
            "_model_module_version": "1.2.0",
            "_model_name": "LayoutModel",
            "_view_count": null,
            "_view_module": "@jupyter-widgets/base",
            "_view_module_version": "1.2.0",
            "_view_name": "LayoutView",
            "align_content": null,
            "align_items": null,
            "align_self": null,
            "border": null,
            "bottom": null,
            "display": null,
            "flex": null,
            "flex_flow": null,
            "grid_area": null,
            "grid_auto_columns": null,
            "grid_auto_flow": null,
            "grid_auto_rows": null,
            "grid_column": null,
            "grid_gap": null,
            "grid_row": null,
            "grid_template_areas": null,
            "grid_template_columns": null,
            "grid_template_rows": null,
            "height": null,
            "justify_content": null,
            "justify_items": null,
            "left": null,
            "margin": null,
            "max_height": null,
            "max_width": null,
            "min_height": null,
            "min_width": null,
            "object_fit": null,
            "object_position": null,
            "order": null,
            "overflow": null,
            "overflow_x": null,
            "overflow_y": null,
            "padding": null,
            "right": null,
            "top": null,
            "visibility": null,
            "width": null
          }
        },
        "fd37457a59744ca3a55e8d1311322e35": {
          "model_module": "@jupyter-widgets/controls",
          "model_name": "DescriptionStyleModel",
          "model_module_version": "1.5.0",
          "state": {
            "_model_module": "@jupyter-widgets/controls",
            "_model_module_version": "1.5.0",
            "_model_name": "DescriptionStyleModel",
            "_view_count": null,
            "_view_module": "@jupyter-widgets/base",
            "_view_module_version": "1.2.0",
            "_view_name": "StyleView",
            "description_width": ""
          }
        },
        "29b0dacd92244236ae832dbe2de27d0a": {
          "model_module": "@jupyter-widgets/base",
          "model_name": "LayoutModel",
          "model_module_version": "1.2.0",
          "state": {
            "_model_module": "@jupyter-widgets/base",
            "_model_module_version": "1.2.0",
            "_model_name": "LayoutModel",
            "_view_count": null,
            "_view_module": "@jupyter-widgets/base",
            "_view_module_version": "1.2.0",
            "_view_name": "LayoutView",
            "align_content": null,
            "align_items": null,
            "align_self": null,
            "border": null,
            "bottom": null,
            "display": null,
            "flex": null,
            "flex_flow": null,
            "grid_area": null,
            "grid_auto_columns": null,
            "grid_auto_flow": null,
            "grid_auto_rows": null,
            "grid_column": null,
            "grid_gap": null,
            "grid_row": null,
            "grid_template_areas": null,
            "grid_template_columns": null,
            "grid_template_rows": null,
            "height": null,
            "justify_content": null,
            "justify_items": null,
            "left": null,
            "margin": null,
            "max_height": null,
            "max_width": null,
            "min_height": null,
            "min_width": null,
            "object_fit": null,
            "object_position": null,
            "order": null,
            "overflow": null,
            "overflow_x": null,
            "overflow_y": null,
            "padding": null,
            "right": null,
            "top": null,
            "visibility": null,
            "width": null
          }
        },
        "0b0591bdb2d5488fabd7c1ad682ad6e3": {
          "model_module": "@jupyter-widgets/controls",
          "model_name": "ProgressStyleModel",
          "model_module_version": "1.5.0",
          "state": {
            "_model_module": "@jupyter-widgets/controls",
            "_model_module_version": "1.5.0",
            "_model_name": "ProgressStyleModel",
            "_view_count": null,
            "_view_module": "@jupyter-widgets/base",
            "_view_module_version": "1.2.0",
            "_view_name": "StyleView",
            "bar_color": null,
            "description_width": ""
          }
        },
        "558a7449a3e5437b962c4cdc386e624a": {
          "model_module": "@jupyter-widgets/base",
          "model_name": "LayoutModel",
          "model_module_version": "1.2.0",
          "state": {
            "_model_module": "@jupyter-widgets/base",
            "_model_module_version": "1.2.0",
            "_model_name": "LayoutModel",
            "_view_count": null,
            "_view_module": "@jupyter-widgets/base",
            "_view_module_version": "1.2.0",
            "_view_name": "LayoutView",
            "align_content": null,
            "align_items": null,
            "align_self": null,
            "border": null,
            "bottom": null,
            "display": null,
            "flex": null,
            "flex_flow": null,
            "grid_area": null,
            "grid_auto_columns": null,
            "grid_auto_flow": null,
            "grid_auto_rows": null,
            "grid_column": null,
            "grid_gap": null,
            "grid_row": null,
            "grid_template_areas": null,
            "grid_template_columns": null,
            "grid_template_rows": null,
            "height": null,
            "justify_content": null,
            "justify_items": null,
            "left": null,
            "margin": null,
            "max_height": null,
            "max_width": null,
            "min_height": null,
            "min_width": null,
            "object_fit": null,
            "object_position": null,
            "order": null,
            "overflow": null,
            "overflow_x": null,
            "overflow_y": null,
            "padding": null,
            "right": null,
            "top": null,
            "visibility": null,
            "width": null
          }
        },
        "2de4ac75aabd4c0db53365533fa5c933": {
          "model_module": "@jupyter-widgets/controls",
          "model_name": "DescriptionStyleModel",
          "model_module_version": "1.5.0",
          "state": {
            "_model_module": "@jupyter-widgets/controls",
            "_model_module_version": "1.5.0",
            "_model_name": "DescriptionStyleModel",
            "_view_count": null,
            "_view_module": "@jupyter-widgets/base",
            "_view_module_version": "1.2.0",
            "_view_name": "StyleView",
            "description_width": ""
          }
        },
        "495dca6175d3457fb16290998ab02035": {
          "model_module": "@jupyter-widgets/controls",
          "model_name": "HBoxModel",
          "model_module_version": "1.5.0",
          "state": {
            "_dom_classes": [],
            "_model_module": "@jupyter-widgets/controls",
            "_model_module_version": "1.5.0",
            "_model_name": "HBoxModel",
            "_view_count": null,
            "_view_module": "@jupyter-widgets/controls",
            "_view_module_version": "1.5.0",
            "_view_name": "HBoxView",
            "box_style": "",
            "children": [
              "IPY_MODEL_c0e7a2b15e44452ba925308703717565",
              "IPY_MODEL_6ea4856ed727468098ef7fc7cd12b252",
              "IPY_MODEL_7d40355c2c6c4927bd7a5f1ef919300a"
            ],
            "layout": "IPY_MODEL_e5ea98a9d23b46b683bc4cb581be666c"
          }
        },
        "c0e7a2b15e44452ba925308703717565": {
          "model_module": "@jupyter-widgets/controls",
          "model_name": "HTMLModel",
          "model_module_version": "1.5.0",
          "state": {
            "_dom_classes": [],
            "_model_module": "@jupyter-widgets/controls",
            "_model_module_version": "1.5.0",
            "_model_name": "HTMLModel",
            "_view_count": null,
            "_view_module": "@jupyter-widgets/controls",
            "_view_module_version": "1.5.0",
            "_view_name": "HTMLView",
            "description": "",
            "description_tooltip": null,
            "layout": "IPY_MODEL_234130cb1e734e0795d092c6bbb2791c",
            "placeholder": "​",
            "style": "IPY_MODEL_fde773a5be4d4233b4d70372e86a7489",
            "value": "preprocessor_config.json: 100%"
          }
        },
        "6ea4856ed727468098ef7fc7cd12b252": {
          "model_module": "@jupyter-widgets/controls",
          "model_name": "FloatProgressModel",
          "model_module_version": "1.5.0",
          "state": {
            "_dom_classes": [],
            "_model_module": "@jupyter-widgets/controls",
            "_model_module_version": "1.5.0",
            "_model_name": "FloatProgressModel",
            "_view_count": null,
            "_view_module": "@jupyter-widgets/controls",
            "_view_module_version": "1.5.0",
            "_view_name": "ProgressView",
            "bar_style": "success",
            "description": "",
            "description_tooltip": null,
            "layout": "IPY_MODEL_004f34d39d744d98893d423d8729609b",
            "max": 534,
            "min": 0,
            "orientation": "horizontal",
            "style": "IPY_MODEL_71c9b087ddd4415a933f6d6f03ddc841",
            "value": 534
          }
        },
        "7d40355c2c6c4927bd7a5f1ef919300a": {
          "model_module": "@jupyter-widgets/controls",
          "model_name": "HTMLModel",
          "model_module_version": "1.5.0",
          "state": {
            "_dom_classes": [],
            "_model_module": "@jupyter-widgets/controls",
            "_model_module_version": "1.5.0",
            "_model_name": "HTMLModel",
            "_view_count": null,
            "_view_module": "@jupyter-widgets/controls",
            "_view_module_version": "1.5.0",
            "_view_name": "HTMLView",
            "description": "",
            "description_tooltip": null,
            "layout": "IPY_MODEL_43b69b1457bf4654a7b76472d5926308",
            "placeholder": "​",
            "style": "IPY_MODEL_eb1901427446466b8f597751a95efc4b",
            "value": " 534/534 [00:00&lt;00:00, 33.5kB/s]"
          }
        },
        "e5ea98a9d23b46b683bc4cb581be666c": {
          "model_module": "@jupyter-widgets/base",
          "model_name": "LayoutModel",
          "model_module_version": "1.2.0",
          "state": {
            "_model_module": "@jupyter-widgets/base",
            "_model_module_version": "1.2.0",
            "_model_name": "LayoutModel",
            "_view_count": null,
            "_view_module": "@jupyter-widgets/base",
            "_view_module_version": "1.2.0",
            "_view_name": "LayoutView",
            "align_content": null,
            "align_items": null,
            "align_self": null,
            "border": null,
            "bottom": null,
            "display": null,
            "flex": null,
            "flex_flow": null,
            "grid_area": null,
            "grid_auto_columns": null,
            "grid_auto_flow": null,
            "grid_auto_rows": null,
            "grid_column": null,
            "grid_gap": null,
            "grid_row": null,
            "grid_template_areas": null,
            "grid_template_columns": null,
            "grid_template_rows": null,
            "height": null,
            "justify_content": null,
            "justify_items": null,
            "left": null,
            "margin": null,
            "max_height": null,
            "max_width": null,
            "min_height": null,
            "min_width": null,
            "object_fit": null,
            "object_position": null,
            "order": null,
            "overflow": null,
            "overflow_x": null,
            "overflow_y": null,
            "padding": null,
            "right": null,
            "top": null,
            "visibility": null,
            "width": null
          }
        },
        "234130cb1e734e0795d092c6bbb2791c": {
          "model_module": "@jupyter-widgets/base",
          "model_name": "LayoutModel",
          "model_module_version": "1.2.0",
          "state": {
            "_model_module": "@jupyter-widgets/base",
            "_model_module_version": "1.2.0",
            "_model_name": "LayoutModel",
            "_view_count": null,
            "_view_module": "@jupyter-widgets/base",
            "_view_module_version": "1.2.0",
            "_view_name": "LayoutView",
            "align_content": null,
            "align_items": null,
            "align_self": null,
            "border": null,
            "bottom": null,
            "display": null,
            "flex": null,
            "flex_flow": null,
            "grid_area": null,
            "grid_auto_columns": null,
            "grid_auto_flow": null,
            "grid_auto_rows": null,
            "grid_column": null,
            "grid_gap": null,
            "grid_row": null,
            "grid_template_areas": null,
            "grid_template_columns": null,
            "grid_template_rows": null,
            "height": null,
            "justify_content": null,
            "justify_items": null,
            "left": null,
            "margin": null,
            "max_height": null,
            "max_width": null,
            "min_height": null,
            "min_width": null,
            "object_fit": null,
            "object_position": null,
            "order": null,
            "overflow": null,
            "overflow_x": null,
            "overflow_y": null,
            "padding": null,
            "right": null,
            "top": null,
            "visibility": null,
            "width": null
          }
        },
        "fde773a5be4d4233b4d70372e86a7489": {
          "model_module": "@jupyter-widgets/controls",
          "model_name": "DescriptionStyleModel",
          "model_module_version": "1.5.0",
          "state": {
            "_model_module": "@jupyter-widgets/controls",
            "_model_module_version": "1.5.0",
            "_model_name": "DescriptionStyleModel",
            "_view_count": null,
            "_view_module": "@jupyter-widgets/base",
            "_view_module_version": "1.2.0",
            "_view_name": "StyleView",
            "description_width": ""
          }
        },
        "004f34d39d744d98893d423d8729609b": {
          "model_module": "@jupyter-widgets/base",
          "model_name": "LayoutModel",
          "model_module_version": "1.2.0",
          "state": {
            "_model_module": "@jupyter-widgets/base",
            "_model_module_version": "1.2.0",
            "_model_name": "LayoutModel",
            "_view_count": null,
            "_view_module": "@jupyter-widgets/base",
            "_view_module_version": "1.2.0",
            "_view_name": "LayoutView",
            "align_content": null,
            "align_items": null,
            "align_self": null,
            "border": null,
            "bottom": null,
            "display": null,
            "flex": null,
            "flex_flow": null,
            "grid_area": null,
            "grid_auto_columns": null,
            "grid_auto_flow": null,
            "grid_auto_rows": null,
            "grid_column": null,
            "grid_gap": null,
            "grid_row": null,
            "grid_template_areas": null,
            "grid_template_columns": null,
            "grid_template_rows": null,
            "height": null,
            "justify_content": null,
            "justify_items": null,
            "left": null,
            "margin": null,
            "max_height": null,
            "max_width": null,
            "min_height": null,
            "min_width": null,
            "object_fit": null,
            "object_position": null,
            "order": null,
            "overflow": null,
            "overflow_x": null,
            "overflow_y": null,
            "padding": null,
            "right": null,
            "top": null,
            "visibility": null,
            "width": null
          }
        },
        "71c9b087ddd4415a933f6d6f03ddc841": {
          "model_module": "@jupyter-widgets/controls",
          "model_name": "ProgressStyleModel",
          "model_module_version": "1.5.0",
          "state": {
            "_model_module": "@jupyter-widgets/controls",
            "_model_module_version": "1.5.0",
            "_model_name": "ProgressStyleModel",
            "_view_count": null,
            "_view_module": "@jupyter-widgets/base",
            "_view_module_version": "1.2.0",
            "_view_name": "StyleView",
            "bar_color": null,
            "description_width": ""
          }
        },
        "43b69b1457bf4654a7b76472d5926308": {
          "model_module": "@jupyter-widgets/base",
          "model_name": "LayoutModel",
          "model_module_version": "1.2.0",
          "state": {
            "_model_module": "@jupyter-widgets/base",
            "_model_module_version": "1.2.0",
            "_model_name": "LayoutModel",
            "_view_count": null,
            "_view_module": "@jupyter-widgets/base",
            "_view_module_version": "1.2.0",
            "_view_name": "LayoutView",
            "align_content": null,
            "align_items": null,
            "align_self": null,
            "border": null,
            "bottom": null,
            "display": null,
            "flex": null,
            "flex_flow": null,
            "grid_area": null,
            "grid_auto_columns": null,
            "grid_auto_flow": null,
            "grid_auto_rows": null,
            "grid_column": null,
            "grid_gap": null,
            "grid_row": null,
            "grid_template_areas": null,
            "grid_template_columns": null,
            "grid_template_rows": null,
            "height": null,
            "justify_content": null,
            "justify_items": null,
            "left": null,
            "margin": null,
            "max_height": null,
            "max_width": null,
            "min_height": null,
            "min_width": null,
            "object_fit": null,
            "object_position": null,
            "order": null,
            "overflow": null,
            "overflow_x": null,
            "overflow_y": null,
            "padding": null,
            "right": null,
            "top": null,
            "visibility": null,
            "width": null
          }
        },
        "eb1901427446466b8f597751a95efc4b": {
          "model_module": "@jupyter-widgets/controls",
          "model_name": "DescriptionStyleModel",
          "model_module_version": "1.5.0",
          "state": {
            "_model_module": "@jupyter-widgets/controls",
            "_model_module_version": "1.5.0",
            "_model_name": "DescriptionStyleModel",
            "_view_count": null,
            "_view_module": "@jupyter-widgets/base",
            "_view_module_version": "1.2.0",
            "_view_name": "StyleView",
            "description_width": ""
          }
        },
        "32783c07045649428833be7e3607b004": {
          "model_module": "@jupyter-widgets/controls",
          "model_name": "HBoxModel",
          "model_module_version": "1.5.0",
          "state": {
            "_dom_classes": [],
            "_model_module": "@jupyter-widgets/controls",
            "_model_module_version": "1.5.0",
            "_model_name": "HBoxModel",
            "_view_count": null,
            "_view_module": "@jupyter-widgets/controls",
            "_view_module_version": "1.5.0",
            "_view_name": "HBoxView",
            "box_style": "",
            "children": [
              "IPY_MODEL_1ddf7e049af049f5a150dea4ec6b6017",
              "IPY_MODEL_1f9af3ea3e3f413bac798aa1453b7cd1",
              "IPY_MODEL_9c95512eb22742978d34db2166bf0abf"
            ],
            "layout": "IPY_MODEL_acab4b16e0984ae3bbc5fafb5f5ac07b"
          }
        },
        "1ddf7e049af049f5a150dea4ec6b6017": {
          "model_module": "@jupyter-widgets/controls",
          "model_name": "HTMLModel",
          "model_module_version": "1.5.0",
          "state": {
            "_dom_classes": [],
            "_model_module": "@jupyter-widgets/controls",
            "_model_module_version": "1.5.0",
            "_model_name": "HTMLModel",
            "_view_count": null,
            "_view_module": "@jupyter-widgets/controls",
            "_view_module_version": "1.5.0",
            "_view_name": "HTMLView",
            "description": "",
            "description_tooltip": null,
            "layout": "IPY_MODEL_4bdda3c0730b42abafcfbb8de1ac025b",
            "placeholder": "​",
            "style": "IPY_MODEL_d33fd442a01c45f0a4035079e97a18f3",
            "value": "tokenizer_config.json: 100%"
          }
        },
        "1f9af3ea3e3f413bac798aa1453b7cd1": {
          "model_module": "@jupyter-widgets/controls",
          "model_name": "FloatProgressModel",
          "model_module_version": "1.5.0",
          "state": {
            "_dom_classes": [],
            "_model_module": "@jupyter-widgets/controls",
            "_model_module_version": "1.5.0",
            "_model_name": "FloatProgressModel",
            "_view_count": null,
            "_view_module": "@jupyter-widgets/controls",
            "_view_module_version": "1.5.0",
            "_view_name": "ProgressView",
            "bar_style": "success",
            "description": "",
            "description_tooltip": null,
            "layout": "IPY_MODEL_4218d98e8a5e4f7eb6a1ad3c83006245",
            "max": 190658,
            "min": 0,
            "orientation": "horizontal",
            "style": "IPY_MODEL_386a501957c945b19eda5bdc653c3e85",
            "value": 190658
          }
        },
        "9c95512eb22742978d34db2166bf0abf": {
          "model_module": "@jupyter-widgets/controls",
          "model_name": "HTMLModel",
          "model_module_version": "1.5.0",
          "state": {
            "_dom_classes": [],
            "_model_module": "@jupyter-widgets/controls",
            "_model_module_version": "1.5.0",
            "_model_name": "HTMLModel",
            "_view_count": null,
            "_view_module": "@jupyter-widgets/controls",
            "_view_module_version": "1.5.0",
            "_view_name": "HTMLView",
            "description": "",
            "description_tooltip": null,
            "layout": "IPY_MODEL_fe85d3d97ba64f0691c06488b887bbd5",
            "placeholder": "​",
            "style": "IPY_MODEL_2abf7a4379cc4324af05c66260df8b59",
            "value": " 191k/191k [00:00&lt;00:00, 4.33MB/s]"
          }
        },
        "acab4b16e0984ae3bbc5fafb5f5ac07b": {
          "model_module": "@jupyter-widgets/base",
          "model_name": "LayoutModel",
          "model_module_version": "1.2.0",
          "state": {
            "_model_module": "@jupyter-widgets/base",
            "_model_module_version": "1.2.0",
            "_model_name": "LayoutModel",
            "_view_count": null,
            "_view_module": "@jupyter-widgets/base",
            "_view_module_version": "1.2.0",
            "_view_name": "LayoutView",
            "align_content": null,
            "align_items": null,
            "align_self": null,
            "border": null,
            "bottom": null,
            "display": null,
            "flex": null,
            "flex_flow": null,
            "grid_area": null,
            "grid_auto_columns": null,
            "grid_auto_flow": null,
            "grid_auto_rows": null,
            "grid_column": null,
            "grid_gap": null,
            "grid_row": null,
            "grid_template_areas": null,
            "grid_template_columns": null,
            "grid_template_rows": null,
            "height": null,
            "justify_content": null,
            "justify_items": null,
            "left": null,
            "margin": null,
            "max_height": null,
            "max_width": null,
            "min_height": null,
            "min_width": null,
            "object_fit": null,
            "object_position": null,
            "order": null,
            "overflow": null,
            "overflow_x": null,
            "overflow_y": null,
            "padding": null,
            "right": null,
            "top": null,
            "visibility": null,
            "width": null
          }
        },
        "4bdda3c0730b42abafcfbb8de1ac025b": {
          "model_module": "@jupyter-widgets/base",
          "model_name": "LayoutModel",
          "model_module_version": "1.2.0",
          "state": {
            "_model_module": "@jupyter-widgets/base",
            "_model_module_version": "1.2.0",
            "_model_name": "LayoutModel",
            "_view_count": null,
            "_view_module": "@jupyter-widgets/base",
            "_view_module_version": "1.2.0",
            "_view_name": "LayoutView",
            "align_content": null,
            "align_items": null,
            "align_self": null,
            "border": null,
            "bottom": null,
            "display": null,
            "flex": null,
            "flex_flow": null,
            "grid_area": null,
            "grid_auto_columns": null,
            "grid_auto_flow": null,
            "grid_auto_rows": null,
            "grid_column": null,
            "grid_gap": null,
            "grid_row": null,
            "grid_template_areas": null,
            "grid_template_columns": null,
            "grid_template_rows": null,
            "height": null,
            "justify_content": null,
            "justify_items": null,
            "left": null,
            "margin": null,
            "max_height": null,
            "max_width": null,
            "min_height": null,
            "min_width": null,
            "object_fit": null,
            "object_position": null,
            "order": null,
            "overflow": null,
            "overflow_x": null,
            "overflow_y": null,
            "padding": null,
            "right": null,
            "top": null,
            "visibility": null,
            "width": null
          }
        },
        "d33fd442a01c45f0a4035079e97a18f3": {
          "model_module": "@jupyter-widgets/controls",
          "model_name": "DescriptionStyleModel",
          "model_module_version": "1.5.0",
          "state": {
            "_model_module": "@jupyter-widgets/controls",
            "_model_module_version": "1.5.0",
            "_model_name": "DescriptionStyleModel",
            "_view_count": null,
            "_view_module": "@jupyter-widgets/base",
            "_view_module_version": "1.2.0",
            "_view_name": "StyleView",
            "description_width": ""
          }
        },
        "4218d98e8a5e4f7eb6a1ad3c83006245": {
          "model_module": "@jupyter-widgets/base",
          "model_name": "LayoutModel",
          "model_module_version": "1.2.0",
          "state": {
            "_model_module": "@jupyter-widgets/base",
            "_model_module_version": "1.2.0",
            "_model_name": "LayoutModel",
            "_view_count": null,
            "_view_module": "@jupyter-widgets/base",
            "_view_module_version": "1.2.0",
            "_view_name": "LayoutView",
            "align_content": null,
            "align_items": null,
            "align_self": null,
            "border": null,
            "bottom": null,
            "display": null,
            "flex": null,
            "flex_flow": null,
            "grid_area": null,
            "grid_auto_columns": null,
            "grid_auto_flow": null,
            "grid_auto_rows": null,
            "grid_column": null,
            "grid_gap": null,
            "grid_row": null,
            "grid_template_areas": null,
            "grid_template_columns": null,
            "grid_template_rows": null,
            "height": null,
            "justify_content": null,
            "justify_items": null,
            "left": null,
            "margin": null,
            "max_height": null,
            "max_width": null,
            "min_height": null,
            "min_width": null,
            "object_fit": null,
            "object_position": null,
            "order": null,
            "overflow": null,
            "overflow_x": null,
            "overflow_y": null,
            "padding": null,
            "right": null,
            "top": null,
            "visibility": null,
            "width": null
          }
        },
        "386a501957c945b19eda5bdc653c3e85": {
          "model_module": "@jupyter-widgets/controls",
          "model_name": "ProgressStyleModel",
          "model_module_version": "1.5.0",
          "state": {
            "_model_module": "@jupyter-widgets/controls",
            "_model_module_version": "1.5.0",
            "_model_name": "ProgressStyleModel",
            "_view_count": null,
            "_view_module": "@jupyter-widgets/base",
            "_view_module_version": "1.2.0",
            "_view_name": "StyleView",
            "bar_color": null,
            "description_width": ""
          }
        },
        "fe85d3d97ba64f0691c06488b887bbd5": {
          "model_module": "@jupyter-widgets/base",
          "model_name": "LayoutModel",
          "model_module_version": "1.2.0",
          "state": {
            "_model_module": "@jupyter-widgets/base",
            "_model_module_version": "1.2.0",
            "_model_name": "LayoutModel",
            "_view_count": null,
            "_view_module": "@jupyter-widgets/base",
            "_view_module_version": "1.2.0",
            "_view_name": "LayoutView",
            "align_content": null,
            "align_items": null,
            "align_self": null,
            "border": null,
            "bottom": null,
            "display": null,
            "flex": null,
            "flex_flow": null,
            "grid_area": null,
            "grid_auto_columns": null,
            "grid_auto_flow": null,
            "grid_auto_rows": null,
            "grid_column": null,
            "grid_gap": null,
            "grid_row": null,
            "grid_template_areas": null,
            "grid_template_columns": null,
            "grid_template_rows": null,
            "height": null,
            "justify_content": null,
            "justify_items": null,
            "left": null,
            "margin": null,
            "max_height": null,
            "max_width": null,
            "min_height": null,
            "min_width": null,
            "object_fit": null,
            "object_position": null,
            "order": null,
            "overflow": null,
            "overflow_x": null,
            "overflow_y": null,
            "padding": null,
            "right": null,
            "top": null,
            "visibility": null,
            "width": null
          }
        },
        "2abf7a4379cc4324af05c66260df8b59": {
          "model_module": "@jupyter-widgets/controls",
          "model_name": "DescriptionStyleModel",
          "model_module_version": "1.5.0",
          "state": {
            "_model_module": "@jupyter-widgets/controls",
            "_model_module_version": "1.5.0",
            "_model_name": "DescriptionStyleModel",
            "_view_count": null,
            "_view_module": "@jupyter-widgets/base",
            "_view_module_version": "1.2.0",
            "_view_name": "StyleView",
            "description_width": ""
          }
        },
        "c5bc523c5bb2434ba2c6d64843f138b7": {
          "model_module": "@jupyter-widgets/controls",
          "model_name": "HBoxModel",
          "model_module_version": "1.5.0",
          "state": {
            "_dom_classes": [],
            "_model_module": "@jupyter-widgets/controls",
            "_model_module_version": "1.5.0",
            "_model_name": "HBoxModel",
            "_view_count": null,
            "_view_module": "@jupyter-widgets/controls",
            "_view_module_version": "1.5.0",
            "_view_name": "HBoxView",
            "box_style": "",
            "children": [
              "IPY_MODEL_66427fa60b334589bd0bdd9b6b6f7714",
              "IPY_MODEL_18fd9141f3ce49bcaf069aa4e2b3bbf7",
              "IPY_MODEL_99969dcdf9054821a98c0781426e2cb5"
            ],
            "layout": "IPY_MODEL_6eb2e17ffd384f2e9ecefe52e8ea158f"
          }
        },
        "66427fa60b334589bd0bdd9b6b6f7714": {
          "model_module": "@jupyter-widgets/controls",
          "model_name": "HTMLModel",
          "model_module_version": "1.5.0",
          "state": {
            "_dom_classes": [],
            "_model_module": "@jupyter-widgets/controls",
            "_model_module_version": "1.5.0",
            "_model_name": "HTMLModel",
            "_view_count": null,
            "_view_module": "@jupyter-widgets/controls",
            "_view_module_version": "1.5.0",
            "_view_name": "HTMLView",
            "description": "",
            "description_tooltip": null,
            "layout": "IPY_MODEL_38792ea3a791491f88b28d3da5f44ea3",
            "placeholder": "​",
            "style": "IPY_MODEL_a9602ec90e564cf09219ae3952ad66a3",
            "value": "sentencepiece.bpe.model: 100%"
          }
        },
        "18fd9141f3ce49bcaf069aa4e2b3bbf7": {
          "model_module": "@jupyter-widgets/controls",
          "model_name": "FloatProgressModel",
          "model_module_version": "1.5.0",
          "state": {
            "_dom_classes": [],
            "_model_module": "@jupyter-widgets/controls",
            "_model_module_version": "1.5.0",
            "_model_name": "FloatProgressModel",
            "_view_count": null,
            "_view_module": "@jupyter-widgets/controls",
            "_view_module_version": "1.5.0",
            "_view_name": "ProgressView",
            "bar_style": "success",
            "description": "",
            "description_tooltip": null,
            "layout": "IPY_MODEL_a414356b20a74e02ba2d41c741e10a81",
            "max": 1363614,
            "min": 0,
            "orientation": "horizontal",
            "style": "IPY_MODEL_15756504ad0344f4aeea9fa9ff1c448e",
            "value": 1363614
          }
        },
        "99969dcdf9054821a98c0781426e2cb5": {
          "model_module": "@jupyter-widgets/controls",
          "model_name": "HTMLModel",
          "model_module_version": "1.5.0",
          "state": {
            "_dom_classes": [],
            "_model_module": "@jupyter-widgets/controls",
            "_model_module_version": "1.5.0",
            "_model_name": "HTMLModel",
            "_view_count": null,
            "_view_module": "@jupyter-widgets/controls",
            "_view_module_version": "1.5.0",
            "_view_name": "HTMLView",
            "description": "",
            "description_tooltip": null,
            "layout": "IPY_MODEL_76900f8b16454e9e99d5a170b1734222",
            "placeholder": "​",
            "style": "IPY_MODEL_e6ce31ccc23149028d12fe6ef4e32cc3",
            "value": " 1.36M/1.36M [00:00&lt;00:00, 6.67MB/s]"
          }
        },
        "6eb2e17ffd384f2e9ecefe52e8ea158f": {
          "model_module": "@jupyter-widgets/base",
          "model_name": "LayoutModel",
          "model_module_version": "1.2.0",
          "state": {
            "_model_module": "@jupyter-widgets/base",
            "_model_module_version": "1.2.0",
            "_model_name": "LayoutModel",
            "_view_count": null,
            "_view_module": "@jupyter-widgets/base",
            "_view_module_version": "1.2.0",
            "_view_name": "LayoutView",
            "align_content": null,
            "align_items": null,
            "align_self": null,
            "border": null,
            "bottom": null,
            "display": null,
            "flex": null,
            "flex_flow": null,
            "grid_area": null,
            "grid_auto_columns": null,
            "grid_auto_flow": null,
            "grid_auto_rows": null,
            "grid_column": null,
            "grid_gap": null,
            "grid_row": null,
            "grid_template_areas": null,
            "grid_template_columns": null,
            "grid_template_rows": null,
            "height": null,
            "justify_content": null,
            "justify_items": null,
            "left": null,
            "margin": null,
            "max_height": null,
            "max_width": null,
            "min_height": null,
            "min_width": null,
            "object_fit": null,
            "object_position": null,
            "order": null,
            "overflow": null,
            "overflow_x": null,
            "overflow_y": null,
            "padding": null,
            "right": null,
            "top": null,
            "visibility": null,
            "width": null
          }
        },
        "38792ea3a791491f88b28d3da5f44ea3": {
          "model_module": "@jupyter-widgets/base",
          "model_name": "LayoutModel",
          "model_module_version": "1.2.0",
          "state": {
            "_model_module": "@jupyter-widgets/base",
            "_model_module_version": "1.2.0",
            "_model_name": "LayoutModel",
            "_view_count": null,
            "_view_module": "@jupyter-widgets/base",
            "_view_module_version": "1.2.0",
            "_view_name": "LayoutView",
            "align_content": null,
            "align_items": null,
            "align_self": null,
            "border": null,
            "bottom": null,
            "display": null,
            "flex": null,
            "flex_flow": null,
            "grid_area": null,
            "grid_auto_columns": null,
            "grid_auto_flow": null,
            "grid_auto_rows": null,
            "grid_column": null,
            "grid_gap": null,
            "grid_row": null,
            "grid_template_areas": null,
            "grid_template_columns": null,
            "grid_template_rows": null,
            "height": null,
            "justify_content": null,
            "justify_items": null,
            "left": null,
            "margin": null,
            "max_height": null,
            "max_width": null,
            "min_height": null,
            "min_width": null,
            "object_fit": null,
            "object_position": null,
            "order": null,
            "overflow": null,
            "overflow_x": null,
            "overflow_y": null,
            "padding": null,
            "right": null,
            "top": null,
            "visibility": null,
            "width": null
          }
        },
        "a9602ec90e564cf09219ae3952ad66a3": {
          "model_module": "@jupyter-widgets/controls",
          "model_name": "DescriptionStyleModel",
          "model_module_version": "1.5.0",
          "state": {
            "_model_module": "@jupyter-widgets/controls",
            "_model_module_version": "1.5.0",
            "_model_name": "DescriptionStyleModel",
            "_view_count": null,
            "_view_module": "@jupyter-widgets/base",
            "_view_module_version": "1.2.0",
            "_view_name": "StyleView",
            "description_width": ""
          }
        },
        "a414356b20a74e02ba2d41c741e10a81": {
          "model_module": "@jupyter-widgets/base",
          "model_name": "LayoutModel",
          "model_module_version": "1.2.0",
          "state": {
            "_model_module": "@jupyter-widgets/base",
            "_model_module_version": "1.2.0",
            "_model_name": "LayoutModel",
            "_view_count": null,
            "_view_module": "@jupyter-widgets/base",
            "_view_module_version": "1.2.0",
            "_view_name": "LayoutView",
            "align_content": null,
            "align_items": null,
            "align_self": null,
            "border": null,
            "bottom": null,
            "display": null,
            "flex": null,
            "flex_flow": null,
            "grid_area": null,
            "grid_auto_columns": null,
            "grid_auto_flow": null,
            "grid_auto_rows": null,
            "grid_column": null,
            "grid_gap": null,
            "grid_row": null,
            "grid_template_areas": null,
            "grid_template_columns": null,
            "grid_template_rows": null,
            "height": null,
            "justify_content": null,
            "justify_items": null,
            "left": null,
            "margin": null,
            "max_height": null,
            "max_width": null,
            "min_height": null,
            "min_width": null,
            "object_fit": null,
            "object_position": null,
            "order": null,
            "overflow": null,
            "overflow_x": null,
            "overflow_y": null,
            "padding": null,
            "right": null,
            "top": null,
            "visibility": null,
            "width": null
          }
        },
        "15756504ad0344f4aeea9fa9ff1c448e": {
          "model_module": "@jupyter-widgets/controls",
          "model_name": "ProgressStyleModel",
          "model_module_version": "1.5.0",
          "state": {
            "_model_module": "@jupyter-widgets/controls",
            "_model_module_version": "1.5.0",
            "_model_name": "ProgressStyleModel",
            "_view_count": null,
            "_view_module": "@jupyter-widgets/base",
            "_view_module_version": "1.2.0",
            "_view_name": "StyleView",
            "bar_color": null,
            "description_width": ""
          }
        },
        "76900f8b16454e9e99d5a170b1734222": {
          "model_module": "@jupyter-widgets/base",
          "model_name": "LayoutModel",
          "model_module_version": "1.2.0",
          "state": {
            "_model_module": "@jupyter-widgets/base",
            "_model_module_version": "1.2.0",
            "_model_name": "LayoutModel",
            "_view_count": null,
            "_view_module": "@jupyter-widgets/base",
            "_view_module_version": "1.2.0",
            "_view_name": "LayoutView",
            "align_content": null,
            "align_items": null,
            "align_self": null,
            "border": null,
            "bottom": null,
            "display": null,
            "flex": null,
            "flex_flow": null,
            "grid_area": null,
            "grid_auto_columns": null,
            "grid_auto_flow": null,
            "grid_auto_rows": null,
            "grid_column": null,
            "grid_gap": null,
            "grid_row": null,
            "grid_template_areas": null,
            "grid_template_columns": null,
            "grid_template_rows": null,
            "height": null,
            "justify_content": null,
            "justify_items": null,
            "left": null,
            "margin": null,
            "max_height": null,
            "max_width": null,
            "min_height": null,
            "min_width": null,
            "object_fit": null,
            "object_position": null,
            "order": null,
            "overflow": null,
            "overflow_x": null,
            "overflow_y": null,
            "padding": null,
            "right": null,
            "top": null,
            "visibility": null,
            "width": null
          }
        },
        "e6ce31ccc23149028d12fe6ef4e32cc3": {
          "model_module": "@jupyter-widgets/controls",
          "model_name": "DescriptionStyleModel",
          "model_module_version": "1.5.0",
          "state": {
            "_model_module": "@jupyter-widgets/controls",
            "_model_module_version": "1.5.0",
            "_model_name": "DescriptionStyleModel",
            "_view_count": null,
            "_view_module": "@jupyter-widgets/base",
            "_view_module_version": "1.2.0",
            "_view_name": "StyleView",
            "description_width": ""
          }
        },
        "9b0ba2dcf3b84455bbd0b8635cfd1e25": {
          "model_module": "@jupyter-widgets/controls",
          "model_name": "HBoxModel",
          "model_module_version": "1.5.0",
          "state": {
            "_dom_classes": [],
            "_model_module": "@jupyter-widgets/controls",
            "_model_module_version": "1.5.0",
            "_model_name": "HBoxModel",
            "_view_count": null,
            "_view_module": "@jupyter-widgets/controls",
            "_view_module_version": "1.5.0",
            "_view_name": "HBoxView",
            "box_style": "",
            "children": [
              "IPY_MODEL_5f959547402a4610acfed8a467c0c13f",
              "IPY_MODEL_47b1ce65b0a34a3ea44e0007cb7eae50",
              "IPY_MODEL_3a7ed9d4af794d929c031903fe124769"
            ],
            "layout": "IPY_MODEL_fc6ff0bf160e41139d7120335893b295"
          }
        },
        "5f959547402a4610acfed8a467c0c13f": {
          "model_module": "@jupyter-widgets/controls",
          "model_name": "HTMLModel",
          "model_module_version": "1.5.0",
          "state": {
            "_dom_classes": [],
            "_model_module": "@jupyter-widgets/controls",
            "_model_module_version": "1.5.0",
            "_model_name": "HTMLModel",
            "_view_count": null,
            "_view_module": "@jupyter-widgets/controls",
            "_view_module_version": "1.5.0",
            "_view_name": "HTMLView",
            "description": "",
            "description_tooltip": null,
            "layout": "IPY_MODEL_49af498cb29b451e939d0cde007e6bed",
            "placeholder": "​",
            "style": "IPY_MODEL_f8a92a3fe3b8433da682e5e049b73627",
            "value": "tokenizer.json: 100%"
          }
        },
        "47b1ce65b0a34a3ea44e0007cb7eae50": {
          "model_module": "@jupyter-widgets/controls",
          "model_name": "FloatProgressModel",
          "model_module_version": "1.5.0",
          "state": {
            "_dom_classes": [],
            "_model_module": "@jupyter-widgets/controls",
            "_model_module_version": "1.5.0",
            "_model_name": "FloatProgressModel",
            "_view_count": null,
            "_view_module": "@jupyter-widgets/controls",
            "_view_module_version": "1.5.0",
            "_view_name": "ProgressView",
            "bar_style": "success",
            "description": "",
            "description_tooltip": null,
            "layout": "IPY_MODEL_2b1da29e9a7c499cb7f661ca1519cd25",
            "max": 4698210,
            "min": 0,
            "orientation": "horizontal",
            "style": "IPY_MODEL_e40795194ec3469ab494c66cd50a2501",
            "value": 4698210
          }
        },
        "3a7ed9d4af794d929c031903fe124769": {
          "model_module": "@jupyter-widgets/controls",
          "model_name": "HTMLModel",
          "model_module_version": "1.5.0",
          "state": {
            "_dom_classes": [],
            "_model_module": "@jupyter-widgets/controls",
            "_model_module_version": "1.5.0",
            "_model_name": "HTMLModel",
            "_view_count": null,
            "_view_module": "@jupyter-widgets/controls",
            "_view_module_version": "1.5.0",
            "_view_name": "HTMLView",
            "description": "",
            "description_tooltip": null,
            "layout": "IPY_MODEL_423559fda34647c6a66de7c4e25528cd",
            "placeholder": "​",
            "style": "IPY_MODEL_3f22b440e4e44d79a5df98f2ed30ebe4",
            "value": " 4.70M/4.70M [00:00&lt;00:00, 24.7MB/s]"
          }
        },
        "fc6ff0bf160e41139d7120335893b295": {
          "model_module": "@jupyter-widgets/base",
          "model_name": "LayoutModel",
          "model_module_version": "1.2.0",
          "state": {
            "_model_module": "@jupyter-widgets/base",
            "_model_module_version": "1.2.0",
            "_model_name": "LayoutModel",
            "_view_count": null,
            "_view_module": "@jupyter-widgets/base",
            "_view_module_version": "1.2.0",
            "_view_name": "LayoutView",
            "align_content": null,
            "align_items": null,
            "align_self": null,
            "border": null,
            "bottom": null,
            "display": null,
            "flex": null,
            "flex_flow": null,
            "grid_area": null,
            "grid_auto_columns": null,
            "grid_auto_flow": null,
            "grid_auto_rows": null,
            "grid_column": null,
            "grid_gap": null,
            "grid_row": null,
            "grid_template_areas": null,
            "grid_template_columns": null,
            "grid_template_rows": null,
            "height": null,
            "justify_content": null,
            "justify_items": null,
            "left": null,
            "margin": null,
            "max_height": null,
            "max_width": null,
            "min_height": null,
            "min_width": null,
            "object_fit": null,
            "object_position": null,
            "order": null,
            "overflow": null,
            "overflow_x": null,
            "overflow_y": null,
            "padding": null,
            "right": null,
            "top": null,
            "visibility": null,
            "width": null
          }
        },
        "49af498cb29b451e939d0cde007e6bed": {
          "model_module": "@jupyter-widgets/base",
          "model_name": "LayoutModel",
          "model_module_version": "1.2.0",
          "state": {
            "_model_module": "@jupyter-widgets/base",
            "_model_module_version": "1.2.0",
            "_model_name": "LayoutModel",
            "_view_count": null,
            "_view_module": "@jupyter-widgets/base",
            "_view_module_version": "1.2.0",
            "_view_name": "LayoutView",
            "align_content": null,
            "align_items": null,
            "align_self": null,
            "border": null,
            "bottom": null,
            "display": null,
            "flex": null,
            "flex_flow": null,
            "grid_area": null,
            "grid_auto_columns": null,
            "grid_auto_flow": null,
            "grid_auto_rows": null,
            "grid_column": null,
            "grid_gap": null,
            "grid_row": null,
            "grid_template_areas": null,
            "grid_template_columns": null,
            "grid_template_rows": null,
            "height": null,
            "justify_content": null,
            "justify_items": null,
            "left": null,
            "margin": null,
            "max_height": null,
            "max_width": null,
            "min_height": null,
            "min_width": null,
            "object_fit": null,
            "object_position": null,
            "order": null,
            "overflow": null,
            "overflow_x": null,
            "overflow_y": null,
            "padding": null,
            "right": null,
            "top": null,
            "visibility": null,
            "width": null
          }
        },
        "f8a92a3fe3b8433da682e5e049b73627": {
          "model_module": "@jupyter-widgets/controls",
          "model_name": "DescriptionStyleModel",
          "model_module_version": "1.5.0",
          "state": {
            "_model_module": "@jupyter-widgets/controls",
            "_model_module_version": "1.5.0",
            "_model_name": "DescriptionStyleModel",
            "_view_count": null,
            "_view_module": "@jupyter-widgets/base",
            "_view_module_version": "1.2.0",
            "_view_name": "StyleView",
            "description_width": ""
          }
        },
        "2b1da29e9a7c499cb7f661ca1519cd25": {
          "model_module": "@jupyter-widgets/base",
          "model_name": "LayoutModel",
          "model_module_version": "1.2.0",
          "state": {
            "_model_module": "@jupyter-widgets/base",
            "_model_module_version": "1.2.0",
            "_model_name": "LayoutModel",
            "_view_count": null,
            "_view_module": "@jupyter-widgets/base",
            "_view_module_version": "1.2.0",
            "_view_name": "LayoutView",
            "align_content": null,
            "align_items": null,
            "align_self": null,
            "border": null,
            "bottom": null,
            "display": null,
            "flex": null,
            "flex_flow": null,
            "grid_area": null,
            "grid_auto_columns": null,
            "grid_auto_flow": null,
            "grid_auto_rows": null,
            "grid_column": null,
            "grid_gap": null,
            "grid_row": null,
            "grid_template_areas": null,
            "grid_template_columns": null,
            "grid_template_rows": null,
            "height": null,
            "justify_content": null,
            "justify_items": null,
            "left": null,
            "margin": null,
            "max_height": null,
            "max_width": null,
            "min_height": null,
            "min_width": null,
            "object_fit": null,
            "object_position": null,
            "order": null,
            "overflow": null,
            "overflow_x": null,
            "overflow_y": null,
            "padding": null,
            "right": null,
            "top": null,
            "visibility": null,
            "width": null
          }
        },
        "e40795194ec3469ab494c66cd50a2501": {
          "model_module": "@jupyter-widgets/controls",
          "model_name": "ProgressStyleModel",
          "model_module_version": "1.5.0",
          "state": {
            "_model_module": "@jupyter-widgets/controls",
            "_model_module_version": "1.5.0",
            "_model_name": "ProgressStyleModel",
            "_view_count": null,
            "_view_module": "@jupyter-widgets/base",
            "_view_module_version": "1.2.0",
            "_view_name": "StyleView",
            "bar_color": null,
            "description_width": ""
          }
        },
        "423559fda34647c6a66de7c4e25528cd": {
          "model_module": "@jupyter-widgets/base",
          "model_name": "LayoutModel",
          "model_module_version": "1.2.0",
          "state": {
            "_model_module": "@jupyter-widgets/base",
            "_model_module_version": "1.2.0",
            "_model_name": "LayoutModel",
            "_view_count": null,
            "_view_module": "@jupyter-widgets/base",
            "_view_module_version": "1.2.0",
            "_view_name": "LayoutView",
            "align_content": null,
            "align_items": null,
            "align_self": null,
            "border": null,
            "bottom": null,
            "display": null,
            "flex": null,
            "flex_flow": null,
            "grid_area": null,
            "grid_auto_columns": null,
            "grid_auto_flow": null,
            "grid_auto_rows": null,
            "grid_column": null,
            "grid_gap": null,
            "grid_row": null,
            "grid_template_areas": null,
            "grid_template_columns": null,
            "grid_template_rows": null,
            "height": null,
            "justify_content": null,
            "justify_items": null,
            "left": null,
            "margin": null,
            "max_height": null,
            "max_width": null,
            "min_height": null,
            "min_width": null,
            "object_fit": null,
            "object_position": null,
            "order": null,
            "overflow": null,
            "overflow_x": null,
            "overflow_y": null,
            "padding": null,
            "right": null,
            "top": null,
            "visibility": null,
            "width": null
          }
        },
        "3f22b440e4e44d79a5df98f2ed30ebe4": {
          "model_module": "@jupyter-widgets/controls",
          "model_name": "DescriptionStyleModel",
          "model_module_version": "1.5.0",
          "state": {
            "_model_module": "@jupyter-widgets/controls",
            "_model_module_version": "1.5.0",
            "_model_name": "DescriptionStyleModel",
            "_view_count": null,
            "_view_module": "@jupyter-widgets/base",
            "_view_module_version": "1.2.0",
            "_view_name": "StyleView",
            "description_width": ""
          }
        },
        "1fd96f37d8074abdb5a1776ae81cb503": {
          "model_module": "@jupyter-widgets/controls",
          "model_name": "HBoxModel",
          "model_module_version": "1.5.0",
          "state": {
            "_dom_classes": [],
            "_model_module": "@jupyter-widgets/controls",
            "_model_module_version": "1.5.0",
            "_model_name": "HBoxModel",
            "_view_count": null,
            "_view_module": "@jupyter-widgets/controls",
            "_view_module_version": "1.5.0",
            "_view_name": "HBoxView",
            "box_style": "",
            "children": [
              "IPY_MODEL_b847ddba484247a6bedc02a79241b39b",
              "IPY_MODEL_ae52db73ae9b4aa3bf45e0731d0118ab",
              "IPY_MODEL_960a70f8aa2a4ea3b325ed3e96897a10"
            ],
            "layout": "IPY_MODEL_30cf785f37de413fb49a66fbbfa44e1f"
          }
        },
        "b847ddba484247a6bedc02a79241b39b": {
          "model_module": "@jupyter-widgets/controls",
          "model_name": "HTMLModel",
          "model_module_version": "1.5.0",
          "state": {
            "_dom_classes": [],
            "_model_module": "@jupyter-widgets/controls",
            "_model_module_version": "1.5.0",
            "_model_name": "HTMLModel",
            "_view_count": null,
            "_view_module": "@jupyter-widgets/controls",
            "_view_module_version": "1.5.0",
            "_view_name": "HTMLView",
            "description": "",
            "description_tooltip": null,
            "layout": "IPY_MODEL_7e3049b0bba44ed7ababf2e19dabac73",
            "placeholder": "​",
            "style": "IPY_MODEL_587f5ee350224a75b8cdc6ea280e7037",
            "value": "added_tokens.json: 100%"
          }
        },
        "ae52db73ae9b4aa3bf45e0731d0118ab": {
          "model_module": "@jupyter-widgets/controls",
          "model_name": "FloatProgressModel",
          "model_module_version": "1.5.0",
          "state": {
            "_dom_classes": [],
            "_model_module": "@jupyter-widgets/controls",
            "_model_module_version": "1.5.0",
            "_model_name": "FloatProgressModel",
            "_view_count": null,
            "_view_module": "@jupyter-widgets/controls",
            "_view_module_version": "1.5.0",
            "_view_name": "ProgressView",
            "bar_style": "success",
            "description": "",
            "description_tooltip": null,
            "layout": "IPY_MODEL_d9c773eafbd44ddfb5a21728d2eb5d3e",
            "max": 32001,
            "min": 0,
            "orientation": "horizontal",
            "style": "IPY_MODEL_ab9c6b24d1074c74a348ac45a771b25b",
            "value": 32001
          }
        },
        "960a70f8aa2a4ea3b325ed3e96897a10": {
          "model_module": "@jupyter-widgets/controls",
          "model_name": "HTMLModel",
          "model_module_version": "1.5.0",
          "state": {
            "_dom_classes": [],
            "_model_module": "@jupyter-widgets/controls",
            "_model_module_version": "1.5.0",
            "_model_name": "HTMLModel",
            "_view_count": null,
            "_view_module": "@jupyter-widgets/controls",
            "_view_module_version": "1.5.0",
            "_view_name": "HTMLView",
            "description": "",
            "description_tooltip": null,
            "layout": "IPY_MODEL_1d4197cd11ee4de6ad3c560bddda34c7",
            "placeholder": "​",
            "style": "IPY_MODEL_3591772e48f34ca7a9c4b618fedad486",
            "value": " 32.0k/32.0k [00:00&lt;00:00, 2.21MB/s]"
          }
        },
        "30cf785f37de413fb49a66fbbfa44e1f": {
          "model_module": "@jupyter-widgets/base",
          "model_name": "LayoutModel",
          "model_module_version": "1.2.0",
          "state": {
            "_model_module": "@jupyter-widgets/base",
            "_model_module_version": "1.2.0",
            "_model_name": "LayoutModel",
            "_view_count": null,
            "_view_module": "@jupyter-widgets/base",
            "_view_module_version": "1.2.0",
            "_view_name": "LayoutView",
            "align_content": null,
            "align_items": null,
            "align_self": null,
            "border": null,
            "bottom": null,
            "display": null,
            "flex": null,
            "flex_flow": null,
            "grid_area": null,
            "grid_auto_columns": null,
            "grid_auto_flow": null,
            "grid_auto_rows": null,
            "grid_column": null,
            "grid_gap": null,
            "grid_row": null,
            "grid_template_areas": null,
            "grid_template_columns": null,
            "grid_template_rows": null,
            "height": null,
            "justify_content": null,
            "justify_items": null,
            "left": null,
            "margin": null,
            "max_height": null,
            "max_width": null,
            "min_height": null,
            "min_width": null,
            "object_fit": null,
            "object_position": null,
            "order": null,
            "overflow": null,
            "overflow_x": null,
            "overflow_y": null,
            "padding": null,
            "right": null,
            "top": null,
            "visibility": null,
            "width": null
          }
        },
        "7e3049b0bba44ed7ababf2e19dabac73": {
          "model_module": "@jupyter-widgets/base",
          "model_name": "LayoutModel",
          "model_module_version": "1.2.0",
          "state": {
            "_model_module": "@jupyter-widgets/base",
            "_model_module_version": "1.2.0",
            "_model_name": "LayoutModel",
            "_view_count": null,
            "_view_module": "@jupyter-widgets/base",
            "_view_module_version": "1.2.0",
            "_view_name": "LayoutView",
            "align_content": null,
            "align_items": null,
            "align_self": null,
            "border": null,
            "bottom": null,
            "display": null,
            "flex": null,
            "flex_flow": null,
            "grid_area": null,
            "grid_auto_columns": null,
            "grid_auto_flow": null,
            "grid_auto_rows": null,
            "grid_column": null,
            "grid_gap": null,
            "grid_row": null,
            "grid_template_areas": null,
            "grid_template_columns": null,
            "grid_template_rows": null,
            "height": null,
            "justify_content": null,
            "justify_items": null,
            "left": null,
            "margin": null,
            "max_height": null,
            "max_width": null,
            "min_height": null,
            "min_width": null,
            "object_fit": null,
            "object_position": null,
            "order": null,
            "overflow": null,
            "overflow_x": null,
            "overflow_y": null,
            "padding": null,
            "right": null,
            "top": null,
            "visibility": null,
            "width": null
          }
        },
        "587f5ee350224a75b8cdc6ea280e7037": {
          "model_module": "@jupyter-widgets/controls",
          "model_name": "DescriptionStyleModel",
          "model_module_version": "1.5.0",
          "state": {
            "_model_module": "@jupyter-widgets/controls",
            "_model_module_version": "1.5.0",
            "_model_name": "DescriptionStyleModel",
            "_view_count": null,
            "_view_module": "@jupyter-widgets/base",
            "_view_module_version": "1.2.0",
            "_view_name": "StyleView",
            "description_width": ""
          }
        },
        "d9c773eafbd44ddfb5a21728d2eb5d3e": {
          "model_module": "@jupyter-widgets/base",
          "model_name": "LayoutModel",
          "model_module_version": "1.2.0",
          "state": {
            "_model_module": "@jupyter-widgets/base",
            "_model_module_version": "1.2.0",
            "_model_name": "LayoutModel",
            "_view_count": null,
            "_view_module": "@jupyter-widgets/base",
            "_view_module_version": "1.2.0",
            "_view_name": "LayoutView",
            "align_content": null,
            "align_items": null,
            "align_self": null,
            "border": null,
            "bottom": null,
            "display": null,
            "flex": null,
            "flex_flow": null,
            "grid_area": null,
            "grid_auto_columns": null,
            "grid_auto_flow": null,
            "grid_auto_rows": null,
            "grid_column": null,
            "grid_gap": null,
            "grid_row": null,
            "grid_template_areas": null,
            "grid_template_columns": null,
            "grid_template_rows": null,
            "height": null,
            "justify_content": null,
            "justify_items": null,
            "left": null,
            "margin": null,
            "max_height": null,
            "max_width": null,
            "min_height": null,
            "min_width": null,
            "object_fit": null,
            "object_position": null,
            "order": null,
            "overflow": null,
            "overflow_x": null,
            "overflow_y": null,
            "padding": null,
            "right": null,
            "top": null,
            "visibility": null,
            "width": null
          }
        },
        "ab9c6b24d1074c74a348ac45a771b25b": {
          "model_module": "@jupyter-widgets/controls",
          "model_name": "ProgressStyleModel",
          "model_module_version": "1.5.0",
          "state": {
            "_model_module": "@jupyter-widgets/controls",
            "_model_module_version": "1.5.0",
            "_model_name": "ProgressStyleModel",
            "_view_count": null,
            "_view_module": "@jupyter-widgets/base",
            "_view_module_version": "1.2.0",
            "_view_name": "StyleView",
            "bar_color": null,
            "description_width": ""
          }
        },
        "1d4197cd11ee4de6ad3c560bddda34c7": {
          "model_module": "@jupyter-widgets/base",
          "model_name": "LayoutModel",
          "model_module_version": "1.2.0",
          "state": {
            "_model_module": "@jupyter-widgets/base",
            "_model_module_version": "1.2.0",
            "_model_name": "LayoutModel",
            "_view_count": null,
            "_view_module": "@jupyter-widgets/base",
            "_view_module_version": "1.2.0",
            "_view_name": "LayoutView",
            "align_content": null,
            "align_items": null,
            "align_self": null,
            "border": null,
            "bottom": null,
            "display": null,
            "flex": null,
            "flex_flow": null,
            "grid_area": null,
            "grid_auto_columns": null,
            "grid_auto_flow": null,
            "grid_auto_rows": null,
            "grid_column": null,
            "grid_gap": null,
            "grid_row": null,
            "grid_template_areas": null,
            "grid_template_columns": null,
            "grid_template_rows": null,
            "height": null,
            "justify_content": null,
            "justify_items": null,
            "left": null,
            "margin": null,
            "max_height": null,
            "max_width": null,
            "min_height": null,
            "min_width": null,
            "object_fit": null,
            "object_position": null,
            "order": null,
            "overflow": null,
            "overflow_x": null,
            "overflow_y": null,
            "padding": null,
            "right": null,
            "top": null,
            "visibility": null,
            "width": null
          }
        },
        "3591772e48f34ca7a9c4b618fedad486": {
          "model_module": "@jupyter-widgets/controls",
          "model_name": "DescriptionStyleModel",
          "model_module_version": "1.5.0",
          "state": {
            "_model_module": "@jupyter-widgets/controls",
            "_model_module_version": "1.5.0",
            "_model_name": "DescriptionStyleModel",
            "_view_count": null,
            "_view_module": "@jupyter-widgets/base",
            "_view_module_version": "1.2.0",
            "_view_name": "StyleView",
            "description_width": ""
          }
        },
        "b9d6968ad2264aaf96b2a0fadb7aeb9a": {
          "model_module": "@jupyter-widgets/controls",
          "model_name": "HBoxModel",
          "model_module_version": "1.5.0",
          "state": {
            "_dom_classes": [],
            "_model_module": "@jupyter-widgets/controls",
            "_model_module_version": "1.5.0",
            "_model_name": "HBoxModel",
            "_view_count": null,
            "_view_module": "@jupyter-widgets/controls",
            "_view_module_version": "1.5.0",
            "_view_name": "HBoxView",
            "box_style": "",
            "children": [
              "IPY_MODEL_283fa0d2c1394007bc67794f8663c1de",
              "IPY_MODEL_ad0f490fc5e8419883c78b57d94026c6",
              "IPY_MODEL_8d30ee1d80924d1184b9e24cf76de8a7"
            ],
            "layout": "IPY_MODEL_4310a531c5174070a67de96e7f1028ac"
          }
        },
        "283fa0d2c1394007bc67794f8663c1de": {
          "model_module": "@jupyter-widgets/controls",
          "model_name": "HTMLModel",
          "model_module_version": "1.5.0",
          "state": {
            "_dom_classes": [],
            "_model_module": "@jupyter-widgets/controls",
            "_model_module_version": "1.5.0",
            "_model_name": "HTMLModel",
            "_view_count": null,
            "_view_module": "@jupyter-widgets/controls",
            "_view_module_version": "1.5.0",
            "_view_name": "HTMLView",
            "description": "",
            "description_tooltip": null,
            "layout": "IPY_MODEL_bb79cd0ee43347f3ba77ba8cbd3d57bc",
            "placeholder": "​",
            "style": "IPY_MODEL_11d833389a3a492b9d0fc6a10de55f37",
            "value": "special_tokens_map.json: 100%"
          }
        },
        "ad0f490fc5e8419883c78b57d94026c6": {
          "model_module": "@jupyter-widgets/controls",
          "model_name": "FloatProgressModel",
          "model_module_version": "1.5.0",
          "state": {
            "_dom_classes": [],
            "_model_module": "@jupyter-widgets/controls",
            "_model_module_version": "1.5.0",
            "_model_name": "FloatProgressModel",
            "_view_count": null,
            "_view_module": "@jupyter-widgets/controls",
            "_view_module_version": "1.5.0",
            "_view_name": "ProgressView",
            "bar_style": "success",
            "description": "",
            "description_tooltip": null,
            "layout": "IPY_MODEL_f3842caf17f9408eba4d097454764bb2",
            "max": 1064,
            "min": 0,
            "orientation": "horizontal",
            "style": "IPY_MODEL_8ae14f69ce49467e95c97c2bb6b2d067",
            "value": 1064
          }
        },
        "8d30ee1d80924d1184b9e24cf76de8a7": {
          "model_module": "@jupyter-widgets/controls",
          "model_name": "HTMLModel",
          "model_module_version": "1.5.0",
          "state": {
            "_dom_classes": [],
            "_model_module": "@jupyter-widgets/controls",
            "_model_module_version": "1.5.0",
            "_model_name": "HTMLModel",
            "_view_count": null,
            "_view_module": "@jupyter-widgets/controls",
            "_view_module_version": "1.5.0",
            "_view_name": "HTMLView",
            "description": "",
            "description_tooltip": null,
            "layout": "IPY_MODEL_0fb50de7cc8e44068993d8686e8af048",
            "placeholder": "​",
            "style": "IPY_MODEL_c15ca0a75e33496fb56ac05aa6f3026e",
            "value": " 1.06k/1.06k [00:00&lt;00:00, 21.7kB/s]"
          }
        },
        "4310a531c5174070a67de96e7f1028ac": {
          "model_module": "@jupyter-widgets/base",
          "model_name": "LayoutModel",
          "model_module_version": "1.2.0",
          "state": {
            "_model_module": "@jupyter-widgets/base",
            "_model_module_version": "1.2.0",
            "_model_name": "LayoutModel",
            "_view_count": null,
            "_view_module": "@jupyter-widgets/base",
            "_view_module_version": "1.2.0",
            "_view_name": "LayoutView",
            "align_content": null,
            "align_items": null,
            "align_self": null,
            "border": null,
            "bottom": null,
            "display": null,
            "flex": null,
            "flex_flow": null,
            "grid_area": null,
            "grid_auto_columns": null,
            "grid_auto_flow": null,
            "grid_auto_rows": null,
            "grid_column": null,
            "grid_gap": null,
            "grid_row": null,
            "grid_template_areas": null,
            "grid_template_columns": null,
            "grid_template_rows": null,
            "height": null,
            "justify_content": null,
            "justify_items": null,
            "left": null,
            "margin": null,
            "max_height": null,
            "max_width": null,
            "min_height": null,
            "min_width": null,
            "object_fit": null,
            "object_position": null,
            "order": null,
            "overflow": null,
            "overflow_x": null,
            "overflow_y": null,
            "padding": null,
            "right": null,
            "top": null,
            "visibility": null,
            "width": null
          }
        },
        "bb79cd0ee43347f3ba77ba8cbd3d57bc": {
          "model_module": "@jupyter-widgets/base",
          "model_name": "LayoutModel",
          "model_module_version": "1.2.0",
          "state": {
            "_model_module": "@jupyter-widgets/base",
            "_model_module_version": "1.2.0",
            "_model_name": "LayoutModel",
            "_view_count": null,
            "_view_module": "@jupyter-widgets/base",
            "_view_module_version": "1.2.0",
            "_view_name": "LayoutView",
            "align_content": null,
            "align_items": null,
            "align_self": null,
            "border": null,
            "bottom": null,
            "display": null,
            "flex": null,
            "flex_flow": null,
            "grid_area": null,
            "grid_auto_columns": null,
            "grid_auto_flow": null,
            "grid_auto_rows": null,
            "grid_column": null,
            "grid_gap": null,
            "grid_row": null,
            "grid_template_areas": null,
            "grid_template_columns": null,
            "grid_template_rows": null,
            "height": null,
            "justify_content": null,
            "justify_items": null,
            "left": null,
            "margin": null,
            "max_height": null,
            "max_width": null,
            "min_height": null,
            "min_width": null,
            "object_fit": null,
            "object_position": null,
            "order": null,
            "overflow": null,
            "overflow_x": null,
            "overflow_y": null,
            "padding": null,
            "right": null,
            "top": null,
            "visibility": null,
            "width": null
          }
        },
        "11d833389a3a492b9d0fc6a10de55f37": {
          "model_module": "@jupyter-widgets/controls",
          "model_name": "DescriptionStyleModel",
          "model_module_version": "1.5.0",
          "state": {
            "_model_module": "@jupyter-widgets/controls",
            "_model_module_version": "1.5.0",
            "_model_name": "DescriptionStyleModel",
            "_view_count": null,
            "_view_module": "@jupyter-widgets/base",
            "_view_module_version": "1.2.0",
            "_view_name": "StyleView",
            "description_width": ""
          }
        },
        "f3842caf17f9408eba4d097454764bb2": {
          "model_module": "@jupyter-widgets/base",
          "model_name": "LayoutModel",
          "model_module_version": "1.2.0",
          "state": {
            "_model_module": "@jupyter-widgets/base",
            "_model_module_version": "1.2.0",
            "_model_name": "LayoutModel",
            "_view_count": null,
            "_view_module": "@jupyter-widgets/base",
            "_view_module_version": "1.2.0",
            "_view_name": "LayoutView",
            "align_content": null,
            "align_items": null,
            "align_self": null,
            "border": null,
            "bottom": null,
            "display": null,
            "flex": null,
            "flex_flow": null,
            "grid_area": null,
            "grid_auto_columns": null,
            "grid_auto_flow": null,
            "grid_auto_rows": null,
            "grid_column": null,
            "grid_gap": null,
            "grid_row": null,
            "grid_template_areas": null,
            "grid_template_columns": null,
            "grid_template_rows": null,
            "height": null,
            "justify_content": null,
            "justify_items": null,
            "left": null,
            "margin": null,
            "max_height": null,
            "max_width": null,
            "min_height": null,
            "min_width": null,
            "object_fit": null,
            "object_position": null,
            "order": null,
            "overflow": null,
            "overflow_x": null,
            "overflow_y": null,
            "padding": null,
            "right": null,
            "top": null,
            "visibility": null,
            "width": null
          }
        },
        "8ae14f69ce49467e95c97c2bb6b2d067": {
          "model_module": "@jupyter-widgets/controls",
          "model_name": "ProgressStyleModel",
          "model_module_version": "1.5.0",
          "state": {
            "_model_module": "@jupyter-widgets/controls",
            "_model_module_version": "1.5.0",
            "_model_name": "ProgressStyleModel",
            "_view_count": null,
            "_view_module": "@jupyter-widgets/base",
            "_view_module_version": "1.2.0",
            "_view_name": "StyleView",
            "bar_color": null,
            "description_width": ""
          }
        },
        "0fb50de7cc8e44068993d8686e8af048": {
          "model_module": "@jupyter-widgets/base",
          "model_name": "LayoutModel",
          "model_module_version": "1.2.0",
          "state": {
            "_model_module": "@jupyter-widgets/base",
            "_model_module_version": "1.2.0",
            "_model_name": "LayoutModel",
            "_view_count": null,
            "_view_module": "@jupyter-widgets/base",
            "_view_module_version": "1.2.0",
            "_view_name": "LayoutView",
            "align_content": null,
            "align_items": null,
            "align_self": null,
            "border": null,
            "bottom": null,
            "display": null,
            "flex": null,
            "flex_flow": null,
            "grid_area": null,
            "grid_auto_columns": null,
            "grid_auto_flow": null,
            "grid_auto_rows": null,
            "grid_column": null,
            "grid_gap": null,
            "grid_row": null,
            "grid_template_areas": null,
            "grid_template_columns": null,
            "grid_template_rows": null,
            "height": null,
            "justify_content": null,
            "justify_items": null,
            "left": null,
            "margin": null,
            "max_height": null,
            "max_width": null,
            "min_height": null,
            "min_width": null,
            "object_fit": null,
            "object_position": null,
            "order": null,
            "overflow": null,
            "overflow_x": null,
            "overflow_y": null,
            "padding": null,
            "right": null,
            "top": null,
            "visibility": null,
            "width": null
          }
        },
        "c15ca0a75e33496fb56ac05aa6f3026e": {
          "model_module": "@jupyter-widgets/controls",
          "model_name": "DescriptionStyleModel",
          "model_module_version": "1.5.0",
          "state": {
            "_model_module": "@jupyter-widgets/controls",
            "_model_module_version": "1.5.0",
            "_model_name": "DescriptionStyleModel",
            "_view_count": null,
            "_view_module": "@jupyter-widgets/base",
            "_view_module_version": "1.2.0",
            "_view_name": "StyleView",
            "description_width": ""
          }
        }
      }
    }
  },
  "nbformat": 4,
  "nbformat_minor": 0
}