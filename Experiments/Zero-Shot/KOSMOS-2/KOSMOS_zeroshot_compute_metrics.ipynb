{
  "cells": [
    {
      "cell_type": "markdown",
      "metadata": {
        "id": "oOeCcgjuECqN"
      },
      "source": [
        "# Mnist"
      ]
    },
    {
      "cell_type": "code",
      "execution_count": 1,
      "metadata": {
        "id": "VsWc1Y-JdlHX"
      },
      "outputs": [
        {
          "name": "stderr",
          "output_type": "stream",
          "text": [
            "d:\\anaconda3\\lib\\site-packages\\pandas\\core\\computation\\expressions.py:20: UserWarning: Pandas requires version '2.7.3' or newer of 'numexpr' (version '2.7.1' currently installed).\n",
            "  from pandas.core.computation.check import NUMEXPR_INSTALLED\n"
          ]
        }
      ],
      "source": [
        "from sklearn.metrics import accuracy_score, precision_score, recall_score, f1_score\n",
        "import pandas as pd\n",
        "dataset = 'Mnist'\n",
        "\n",
        "df = pd.read_csv('Mnist_KOSMOS-2_results_rostamP.csv')\n",
        "# df = pd.read_csv(f 'Gemini_{dataset}_results.csv')"
      ]
    },
    {
      "cell_type": "code",
      "execution_count": 2,
      "metadata": {
        "colab": {
          "base_uri": "https://localhost:8080/",
          "height": 1000
        },
        "id": "M-KbtFqDfeRD",
        "outputId": "e7c50bba-8cd4-4acf-8a61-ddec6f86ea65"
      },
      "outputs": [
        {
          "data": {
            "text/html": [
              "<div>\n",
              "<style scoped>\n",
              "    .dataframe tbody tr th:only-of-type {\n",
              "        vertical-align: middle;\n",
              "    }\n",
              "\n",
              "    .dataframe tbody tr th {\n",
              "        vertical-align: top;\n",
              "    }\n",
              "\n",
              "    .dataframe thead th {\n",
              "        text-align: right;\n",
              "    }\n",
              "</style>\n",
              "<table border=\"1\" class=\"dataframe\">\n",
              "  <thead>\n",
              "    <tr style=\"text-align: right;\">\n",
              "      <th></th>\n",
              "      <th>image_name</th>\n",
              "      <th>Pprompt</th>\n",
              "      <th>Nprompt</th>\n",
              "      <th>illusion_strength</th>\n",
              "      <th>label</th>\n",
              "      <th>raw_answer</th>\n",
              "      <th>ill_answer</th>\n",
              "      <th>illless_answer</th>\n",
              "      <th>ill_fliter_answer</th>\n",
              "      <th>illless_filter_answer</th>\n",
              "    </tr>\n",
              "  </thead>\n",
              "  <tbody>\n",
              "    <tr>\n",
              "      <th>0</th>\n",
              "      <td>Mnist_1</td>\n",
              "      <td>A field of blooming sunflowers swaying in the ...</td>\n",
              "      <td>low quality</td>\n",
              "      <td>1.5</td>\n",
              "      <td>7</td>\n",
              "      <td>The number 7</td>\n",
              "      <td>'No Hidden Digit'</td>\n",
              "      <td>'No Hidden Digit'</td>\n",
              "      <td>'No Hidden Digit'</td>\n",
              "      <td>'No Hidden Digit'</td>\n",
              "    </tr>\n",
              "    <tr>\n",
              "      <th>1</th>\n",
              "      <td>Mnist_2</td>\n",
              "      <td>A peaceful countryside scene with grazing shee...</td>\n",
              "      <td>low quality</td>\n",
              "      <td>1.5</td>\n",
              "      <td>2</td>\n",
              "      <td>The class is 'digits'.</td>\n",
              "      <td>'No Hidden Digit'</td>\n",
              "      <td>'No Hidden Digit'</td>\n",
              "      <td>'No Hidden Digit'</td>\n",
              "      <td>'No Hidden Digit'</td>\n",
              "    </tr>\n",
              "    <tr>\n",
              "      <th>2</th>\n",
              "      <td>Mnist_3</td>\n",
              "      <td>A tranquil pond with lily pads floating on the...</td>\n",
              "      <td>low quality</td>\n",
              "      <td>1.5</td>\n",
              "      <td>1</td>\n",
              "      <td>The image shows a white outline of a digit 0, ...</td>\n",
              "      <td>digit 0</td>\n",
              "      <td>digit 0</td>\n",
              "      <td>'No Hidden Digit'</td>\n",
              "      <td>'No Hidden Digit'</td>\n",
              "    </tr>\n",
              "    <tr>\n",
              "      <th>3</th>\n",
              "      <td>Mnist_4</td>\n",
              "      <td>A sunny vineyard with rows of ripe grapes</td>\n",
              "      <td>low quality</td>\n",
              "      <td>1.5</td>\n",
              "      <td>0</td>\n",
              "      <td>The image is a black background.</td>\n",
              "      <td>'No Hidden Digit'</td>\n",
              "      <td>'No Hidden Digit'</td>\n",
              "      <td>'No Hidden Digit'</td>\n",
              "      <td>'No Hidden Digit'</td>\n",
              "    </tr>\n",
              "    <tr>\n",
              "      <th>4</th>\n",
              "      <td>Mnist_5</td>\n",
              "      <td>A picturesque vineyard at sunset with the sky ...</td>\n",
              "      <td>low quality</td>\n",
              "      <td>1.5</td>\n",
              "      <td>4</td>\n",
              "      <td>The class is 'digits'</td>\n",
              "      <td>'No Hidden Digit'</td>\n",
              "      <td>'No Hidden Digit'</td>\n",
              "      <td>'No Hidden Digit'</td>\n",
              "      <td>'No Hidden Digit'</td>\n",
              "    </tr>\n",
              "    <tr>\n",
              "      <th>...</th>\n",
              "      <td>...</td>\n",
              "      <td>...</td>\n",
              "      <td>...</td>\n",
              "      <td>...</td>\n",
              "      <td>...</td>\n",
              "      <td>...</td>\n",
              "      <td>...</td>\n",
              "      <td>...</td>\n",
              "      <td>...</td>\n",
              "      <td>...</td>\n",
              "    </tr>\n",
              "    <tr>\n",
              "      <th>1104</th>\n",
              "      <td>Mnist_1105</td>\n",
              "      <td>Misty jungle surrounded by vibrant flowers and...</td>\n",
              "      <td>low quality</td>\n",
              "      <td>1.5</td>\n",
              "      <td>8</td>\n",
              "      <td>digit 4</td>\n",
              "      <td>Yes</td>\n",
              "      <td>No hidden digit</td>\n",
              "      <td>No hidden digit</td>\n",
              "      <td>No hidden digit</td>\n",
              "    </tr>\n",
              "    <tr>\n",
              "      <th>1105</th>\n",
              "      <td>Mnist_1106</td>\n",
              "      <td>A forest with blooming flowers</td>\n",
              "      <td>low quality</td>\n",
              "      <td>1.5</td>\n",
              "      <td>0</td>\n",
              "      <td>digit 5</td>\n",
              "      <td>Yes</td>\n",
              "      <td>No hidden digit</td>\n",
              "      <td>No hidden digit</td>\n",
              "      <td>Yes</td>\n",
              "    </tr>\n",
              "    <tr>\n",
              "      <th>1106</th>\n",
              "      <td>Mnist_1107</td>\n",
              "      <td>Desolate desert landscape, shifting sands illu...</td>\n",
              "      <td>low quality</td>\n",
              "      <td>1.5</td>\n",
              "      <td>5</td>\n",
              "      <td>digit 6</td>\n",
              "      <td>Yes</td>\n",
              "      <td>Yes</td>\n",
              "      <td>No hidden digit</td>\n",
              "      <td>Yes</td>\n",
              "    </tr>\n",
              "    <tr>\n",
              "      <th>1107</th>\n",
              "      <td>Mnist_1108</td>\n",
              "      <td>A vast desert with a towering canyon in the di...</td>\n",
              "      <td>low quality</td>\n",
              "      <td>1.5</td>\n",
              "      <td>0</td>\n",
              "      <td>digit 7</td>\n",
              "      <td>No hidden digit</td>\n",
              "      <td>No hidden digit</td>\n",
              "      <td>No hidden digit</td>\n",
              "      <td>No hidden digit</td>\n",
              "    </tr>\n",
              "    <tr>\n",
              "      <th>1108</th>\n",
              "      <td>Mnist_1109</td>\n",
              "      <td>A steampunk world powered by gears and clockworks</td>\n",
              "      <td>low quality</td>\n",
              "      <td>1.5</td>\n",
              "      <td>9</td>\n",
              "      <td>digit 8</td>\n",
              "      <td>No hidden digit</td>\n",
              "      <td>No hidden digit</td>\n",
              "      <td>No hidden digit</td>\n",
              "      <td>No hidden digit</td>\n",
              "    </tr>\n",
              "  </tbody>\n",
              "</table>\n",
              "<p>1109 rows × 10 columns</p>\n",
              "</div>"
            ],
            "text/plain": [
              "      image_name                                            Pprompt  \\\n",
              "0        Mnist_1  A field of blooming sunflowers swaying in the ...   \n",
              "1        Mnist_2  A peaceful countryside scene with grazing shee...   \n",
              "2        Mnist_3  A tranquil pond with lily pads floating on the...   \n",
              "3        Mnist_4          A sunny vineyard with rows of ripe grapes   \n",
              "4        Mnist_5  A picturesque vineyard at sunset with the sky ...   \n",
              "...          ...                                                ...   \n",
              "1104  Mnist_1105  Misty jungle surrounded by vibrant flowers and...   \n",
              "1105  Mnist_1106                     A forest with blooming flowers   \n",
              "1106  Mnist_1107  Desolate desert landscape, shifting sands illu...   \n",
              "1107  Mnist_1108  A vast desert with a towering canyon in the di...   \n",
              "1108  Mnist_1109  A steampunk world powered by gears and clockworks   \n",
              "\n",
              "          Nprompt  illusion_strength  label  \\\n",
              "0     low quality                1.5      7   \n",
              "1     low quality                1.5      2   \n",
              "2     low quality                1.5      1   \n",
              "3     low quality                1.5      0   \n",
              "4     low quality                1.5      4   \n",
              "...           ...                ...    ...   \n",
              "1104  low quality                1.5      8   \n",
              "1105  low quality                1.5      0   \n",
              "1106  low quality                1.5      5   \n",
              "1107  low quality                1.5      0   \n",
              "1108  low quality                1.5      9   \n",
              "\n",
              "                                             raw_answer         ill_answer  \\\n",
              "0                                          The number 7  'No Hidden Digit'   \n",
              "1                                The class is 'digits'.  'No Hidden Digit'   \n",
              "2     The image shows a white outline of a digit 0, ...            digit 0   \n",
              "3                      The image is a black background.  'No Hidden Digit'   \n",
              "4                                 The class is 'digits'  'No Hidden Digit'   \n",
              "...                                                 ...                ...   \n",
              "1104                                            digit 4                Yes   \n",
              "1105                                            digit 5                Yes   \n",
              "1106                                            digit 6                Yes   \n",
              "1107                                            digit 7    No hidden digit   \n",
              "1108                                            digit 8    No hidden digit   \n",
              "\n",
              "         illless_answer  ill_fliter_answer illless_filter_answer  \n",
              "0     'No Hidden Digit'  'No Hidden Digit'     'No Hidden Digit'  \n",
              "1     'No Hidden Digit'  'No Hidden Digit'     'No Hidden Digit'  \n",
              "2               digit 0  'No Hidden Digit'     'No Hidden Digit'  \n",
              "3     'No Hidden Digit'  'No Hidden Digit'     'No Hidden Digit'  \n",
              "4     'No Hidden Digit'  'No Hidden Digit'     'No Hidden Digit'  \n",
              "...                 ...                ...                   ...  \n",
              "1104    No hidden digit    No hidden digit       No hidden digit  \n",
              "1105    No hidden digit    No hidden digit                   Yes  \n",
              "1106                Yes    No hidden digit                   Yes  \n",
              "1107    No hidden digit    No hidden digit       No hidden digit  \n",
              "1108    No hidden digit    No hidden digit       No hidden digit  \n",
              "\n",
              "[1109 rows x 10 columns]"
            ]
          },
          "execution_count": 2,
          "metadata": {},
          "output_type": "execute_result"
        }
      ],
      "source": [
        "df"
      ]
    },
    {
      "cell_type": "code",
      "execution_count": 3,
      "metadata": {},
      "outputs": [],
      "source": [
        "# import torch\n",
        "import numpy as np\n",
        "import random\n",
        "\n",
        "# Make reproducible code\n",
        "GLOBAL_SEED = 10\n",
        "\n",
        "np.random.seed(GLOBAL_SEED)\n",
        "random.seed(GLOBAL_SEED)\n",
        "# torch.manual_seed(GLOBAL_SEED)\n",
        "# torch.use_deterministic_algorithms(True)\n",
        "# %env CUBLAS_WORKSPACE_CONFIG=:4096:8\n",
        "\n",
        "# torch.backends.cudnn.deterministic = True\n",
        "# torch.backends.cudnn.benchmark = False\n",
        "\n",
        "illusionless_indexes = random.sample(range(len(df)), int(len(df)*0.1))"
      ]
    },
    {
      "cell_type": "code",
      "execution_count": 4,
      "metadata": {
        "id": "9OQ9pwW9gfXb"
      },
      "outputs": [],
      "source": [
        "raw_classes = {\n",
        "    'FashionMnist': ['T-shirt/top', 'Trouser', 'Pullover', 'Dress', 'Coat', 'Sandal', 'Shirt', 'Sneaker', 'Bag', 'Ankle boot'],\n",
        "    # 'Mnist': ['digit 0', 'digit 1', 'digit 2', 'digit 3', 'digit 4', 'digit 5', 'digit 6', 'digit 7', 'digit 8', 'digit 9'],\n",
        "    'Mnist': ['0', '1', '2', '3', '4', '5', '6', '7', '8', '9'],\n",
        "    'IllusionAnimals': ['cat', 'dog', 'pigeon', 'butterfly', 'elephant', 'horse', 'deer', 'snake', 'fish', 'rooster' ],\n",
        "}\n",
        "\n",
        "classes = {\n",
        "    'FashionMnist': ['T-shirt/top', 'Trouser', 'Pullover', 'Dress', 'Coat', 'Sandal', 'Shirt', 'Sneaker', 'Bag', 'Ankle boot', 'No illusion'],\n",
        "    # 'Mnist': ['digit 0', 'digit 1', 'digit 2', 'digit 3', 'digit 4', 'digit 5', 'digit 6', 'digit 7', 'digit 8', 'digit 9', 'No illusion'],\n",
        "    'Mnist': ['0', '1', '2', '3', '4', '5', '6', '7', '8', '9', 'No hidden digit'],\n",
        "    'IllusionAnimals': ['cat', 'dog', 'pigeon', 'butterfly', 'elephant', 'horse', 'deer', 'snake', 'fish', 'rooster', 'No illusion' ],\n",
        "}\n",
        "\n",
        "# assert {item.strip().lower() for item in df[f'LLaVa_{dataset}_ill_images'].unique()}.issubset({item.strip().lower() for item in classes[dataset]})\n",
        "# assert {item.strip().lower() for item in df[f'LLaVa_{dataset}_illusion_images_filtered'].unique()}.issubset({item.strip().lower() for item in classes[dataset]})\n",
        "# assert {item.strip().lower() for item in df[f'LLaVa_{dataset}_illusionless_images'].unique()}.issubset({item.strip().lower() for item in classes[dataset]})\n",
        "# assert {item.strip().lower() for item in df[f'LLaVa_{dataset}_illusionless_images_filtered'].unique()}.issubset({item.strip().lower() for item in classes[dataset]})\n",
        "# assert {item.strip().lower() for item in df[f'LLaVa_{dataset}_raw_images'].unique()}.issubset({item.strip().lower() for item in raw_classes[dataset]})"
      ]
    },
    {
      "cell_type": "code",
      "execution_count": 5,
      "metadata": {
        "colab": {
          "base_uri": "https://localhost:8080/"
        },
        "id": "ypae7je4l3_z",
        "outputId": "a6366981-8ebb-4705-afc4-5f8bed26f89f"
      },
      "outputs": [
        {
          "data": {
            "text/plain": [
              "{'0',\n",
              " 'a',\n",
              " 'a binary code',\n",
              " 'a binary number',\n",
              " 'a class is a group of objects that share a common attribute, such as a shape, color, or size.',\n",
              " 'a class is a group of objects that share a common characteristic, such as a shape, color, or size.',\n",
              " 'a class is a group of objects that share a common characteristic, such as shape, size, or color.',\n",
              " 'a class is a group of objects that share a common set of properties.',\n",
              " 'a class is in picture.',\n",
              " 'a class is in this picture.',\n",
              " 'a computer programmer',\n",
              " 'a digimon',\n",
              " 'a pencil',\n",
              " 'a snake',\n",
              " 'a tennis racket',\n",
              " 'a worm',\n",
              " 'acorn',\n",
              " 'ballet',\n",
              " 'class 1',\n",
              " 'digit 0',\n",
              " 'digit 1',\n",
              " 'digit 2',\n",
              " 'digit 3',\n",
              " 'digit 4',\n",
              " 'digit 5',\n",
              " 'digit 6',\n",
              " 'digit 7',\n",
              " 'digit 8',\n",
              " 'digits',\n",
              " 'horse',\n",
              " 'number',\n",
              " 'seahorse',\n",
              " 'snake',\n",
              " 'the class is digits',\n",
              " 'the class is digits 0-9',\n",
              " 'the class is digits.',\n",
              " 'the digit 0',\n",
              " 'the digit 0 is a zero.',\n",
              " 'the digit 0 is in a circle',\n",
              " 'the digit 0 is in a class of digits.',\n",
              " 'the digit 0 is in a group of numbers.',\n",
              " 'the digit 4',\n",
              " 'the digit 4 is in a circle',\n",
              " 'the digit 7',\n",
              " 'the digit 7 is a digit',\n",
              " 'the digit 7 is in a class of digits.',\n",
              " 'the digit 8',\n",
              " 'the digit 9',\n",
              " 'the digit 9 is a digit',\n",
              " 'the digit 9 is a zero.',\n",
              " 'the digit is 0',\n",
              " 'the digit is a digit',\n",
              " 'the digit is a hand',\n",
              " 'the digit is a number',\n",
              " 'the digit is a number.',\n",
              " 'the digit is a snake',\n",
              " 'the digit is a zero',\n",
              " 'the digit is a zero.',\n",
              " 'the digit is digit',\n",
              " 'the digit is digits',\n",
              " 'the hammer',\n",
              " 'the image is a black and white image of a ring',\n",
              " 'the image is a black and white image of a road.',\n",
              " 'the image is a black and white image of a spiral.',\n",
              " 'the image is a black and white image.',\n",
              " 'the image is a black and white photograph of a number 0.',\n",
              " 'the image is a black and white picture of a cross.',\n",
              " 'the image is a black and white picture of a digit 6.',\n",
              " 'the image is a black and white picture of a human intestine.',\n",
              " 'the image is a black and white picture of a human stomach.',\n",
              " 'the image is a black and white picture of a map of the united states.',\n",
              " 'the image is a black and white picture of a number 3.',\n",
              " 'the image is a black and white picture of a number 4',\n",
              " 'the image is a black and white picture of a question mark.',\n",
              " 'the image is a black and white picture of a racetrack.',\n",
              " 'the image is a black and white picture of a spiral.',\n",
              " 'the image is a black and white picture of a track.',\n",
              " 'the image is a black and white picture of the digit 0.',\n",
              " 'the image is a black and white picture.',\n",
              " 'the image is a black background with a white digit 9 in the center.',\n",
              " 'the image is a black background with a white digit 9 in the middle.',\n",
              " 'the image is a black background with a white outline of a number 0.',\n",
              " 'the image is a black background with a white outline of the letter i.',\n",
              " 'the image is a black background with a white outline of the state of california.',\n",
              " 'the image is a black background.',\n",
              " 'the image shows a black and white image of a human digestive system.',\n",
              " 'the image shows a black and white image of a number 3.',\n",
              " 'the image shows a black and white image of a number 7.',\n",
              " 'the image shows a black background with a white circle in the middle.',\n",
              " 'the image shows a black background with a white digit 0 and a white 1.',\n",
              " 'the image shows a black background with a white digit 0 in the center.',\n",
              " 'the image shows a black background with a white digit 0 in the middle.',\n",
              " 'the image shows a black background with a white digit 0.',\n",
              " 'the image shows a black background with a white digit 1 and a white digit 2.',\n",
              " 'the image shows a black background with a white digit 1 in the middle.',\n",
              " 'the image shows a black background with a white digit 7.',\n",
              " 'the image shows a black background with a white number 2.',\n",
              " 'the image shows a black background with a white number 3.',\n",
              " 'the image shows a black background with a white number 7 in the middle.',\n",
              " 'the image shows a black background with a white number 7 on it.',\n",
              " 'the image shows a black background with a white number 7.',\n",
              " 'the image shows a black background with a white number seven in the center.',\n",
              " 'the image shows a black background with a white number seven.',\n",
              " 'the image shows a black background with a white outline of a brain.',\n",
              " 'the image shows a black background with a white outline of a circle.',\n",
              " 'the image shows a black background with a white outline of a hand holding a key.',\n",
              " 'the image shows a black background with a white outline of a house.',\n",
              " 'the image shows a black background with a white outline of a human brain.',\n",
              " 'the image shows a black background with a white outline of a number 1.',\n",
              " 'the image shows a black background with a white outline of a pencil.',\n",
              " 'the image shows a black background with a white outline of the letter j.',\n",
              " 'the image shows a black background with a white outline of the number 8.',\n",
              " 'the image shows a black background with a white outline of the state of delaware.',\n",
              " 'the image shows a black background with a white question mark in the middle.',\n",
              " 'the image shows a black background with a white question mark.',\n",
              " 'the image shows a black background with a white rectangle in the middle.',\n",
              " 'the image shows a black background with a white snake outline.',\n",
              " 'the image shows a blackboard with the number 6 written on it.',\n",
              " 'the image shows a brain with a digit 0 in it.',\n",
              " 'the image shows a brain with a digit 0 in the middle.',\n",
              " 'the image shows a cross with the digits 0, 1, 2, 3, 4, 5, 6, 7, 8, 9, and 9.',\n",
              " 'the image shows a digit 0',\n",
              " 'the image shows a digit 0, a digit 1 and a digit 2.',\n",
              " 'the image shows a digit 0.',\n",
              " 'the image shows a digit 7',\n",
              " 'the image shows a digit number 8.',\n",
              " 'the image shows a group of digits, each with a different number of dots.',\n",
              " 'the image shows a group of numbers, each of which is a digit.',\n",
              " 'the image shows a group of numbers, which are all connected to each other.',\n",
              " 'the image shows a group of people standing in a line.',\n",
              " 'the image shows a hand with digits 0, 1, 2, 3, 4, 5, 6, 7, 8, 9, and 10.',\n",
              " 'the image shows a human head with the number 9 in the middle of it.',\n",
              " 'the image shows a key with a digit 0 on it.',\n",
              " 'the image shows a key with a keyhole in it.',\n",
              " 'the image shows a key with the digits 0, 1, 2, 3, 4, 5, 6, 7, 8, 9, and 9.',\n",
              " 'the image shows a keyhole with a key inside.',\n",
              " 'the image shows a ladder with a single rung at the top.',\n",
              " 'the image shows a line drawing of a human body.',\n",
              " 'the image shows a number of numbers.',\n",
              " 'the image shows a person doing yoga.',\n",
              " 'the image shows a picture of a digit 0.',\n",
              " 'the image shows a picture of a number 7',\n",
              " 'the image shows a picture of a wrench.',\n",
              " 'the image shows a pixelated image of a digit 0.',\n",
              " 'the image shows a pixelated number 2.',\n",
              " 'the image shows a question mark',\n",
              " 'the image shows a question mark with the digits 0, 1, 2, 3, 4, 5, 6, 7, 8, 9, and 9.',\n",
              " 'the image shows a question mark.',\n",
              " 'the image shows a racing car.',\n",
              " 'the image shows a racing track with a white outline of a racing car on a black background.',\n",
              " 'the image shows a spiral',\n",
              " 'the image shows a spiral shape with a number of digits.',\n",
              " 'the image shows a spiral shape.',\n",
              " 'the image shows a white circle with a black background.',\n",
              " 'the image shows a white cross with a black background.',\n",
              " 'the image shows a white digit 0',\n",
              " 'the image shows a white digit 0, a white number 1 and a white digit 2.',\n",
              " 'the image shows a white digit 0, a white number 1 and a white symbol 2.',\n",
              " 'the image shows a white digit 0, a white number 1, a white 2 digit, a black digit 3 and a black number 4.',\n",
              " 'the image shows a white digit 0.',\n",
              " 'the image shows a white digit 3',\n",
              " 'the image shows a white digit 5.',\n",
              " 'the image shows a white outline of a digit 0',\n",
              " 'the image shows a white outline of a digit 0, a digit 1 and a digit 2.',\n",
              " 'the image shows a white outline of a digit 0.',\n",
              " 'the image shows a white outline of a hammer with a black background.',\n",
              " 'the image shows a white outline of a hanger with the number 2 in the middle.',\n",
              " 'the image shows a white outline of a heart with a black background.',\n",
              " 'the image shows a white outline of a human body with a heart in the middle.',\n",
              " 'the image shows a white outline of a human brain with a black background.',\n",
              " 'the image shows a white outline of a human brain with the digits 0, 1, 2, 3, 4, 5, 6, 7, 8, 9, and 10 visible.',\n",
              " 'the image shows a white outline of a human brain with the letters q and u inside it.',\n",
              " 'the image shows a white outline of a human figure with a black background.',\n",
              " 'the image shows a white outline of a human stomach with a black background.',\n",
              " 'the image shows a white outline of a human stomach.',\n",
              " 'the image shows a white outline of a key with a black background.',\n",
              " 'the image shows a white outline of a number 0, a white circle with a dot in the middle, and a white line extending from the dot to the circle.',\n",
              " 'the image shows a white outline of a number 3.',\n",
              " 'the image shows a white outline of a person holding a key.',\n",
              " 'the image shows a white outline of a person with a black background.',\n",
              " 'the image shows a white outline of a person with a heart in the middle of their chest.',\n",
              " 'the image shows a white rectangle with a black background.',\n",
              " 'the image shows the letter e',\n",
              " 'the image shows the number 5.',\n",
              " 'the letter a',\n",
              " 'the letter c',\n",
              " 'the letter e',\n",
              " 'the letter g',\n",
              " 'the letter h',\n",
              " 'the letter i',\n",
              " 'the letter k',\n",
              " 'the letter l',\n",
              " 'the letter q',\n",
              " 'the letter r',\n",
              " 'the letter s',\n",
              " 'the letter t',\n",
              " 'the letter u',\n",
              " 'the letter y',\n",
              " 'the letter z',\n",
              " 'the number 3',\n",
              " 'the number 4',\n",
              " 'the number 5',\n",
              " 'the number 6',\n",
              " 'the number 7',\n",
              " 'the number is a digit',\n",
              " 'the number is a racing car.',\n",
              " 'the number is digits.',\n",
              " 'the snake is a class of animals.',\n",
              " 'the snake is a class that represents the number 0.',\n",
              " 'the snake is a class.',\n",
              " 'the snake is a snake.',\n",
              " 'the snake is in a class of digits.',\n",
              " 'the snake is in class digits 0 to 9.',\n",
              " 'the snake is in class digits 0-9.',\n",
              " 'the swan'}"
            ]
          },
          "execution_count": 5,
          "metadata": {},
          "output_type": "execute_result"
        }
      ],
      "source": [
        "{item.strip().replace('\\'', '').lower() for item in df[f'raw_answer'].unique()}"
      ]
    },
    {
      "cell_type": "code",
      "execution_count": 6,
      "metadata": {
        "colab": {
          "base_uri": "https://localhost:8080/"
        },
        "id": "p4tuKurmAmQF",
        "outputId": "1b675e56-824b-422f-a581-00e6f3822261"
      },
      "outputs": [
        {
          "data": {
            "text/plain": [
              "array(['The number 7', \"The class is 'digits'.\",\n",
              "       'The image shows a white outline of a digit 0, a digit 1 and a digit 2.',\n",
              "       'The image is a black background.', \"The class is 'digits'\",\n",
              "       'The image shows a key with a keyhole in it.',\n",
              "       'The image shows a white outline of a person with a black background.',\n",
              "       'The digit 7', \"The digit is 'digit'\", \"The letter 'I'\",\n",
              "       'The image shows a racing track with a white outline of a racing car on a black background.',\n",
              "       \"The image shows a black and white image of a number '7'.\",\n",
              "       'The number 6', \"The digit '0' is in a circle\",\n",
              "       'The image shows a spiral shape.',\n",
              "       \"The image shows a white digit 0, a white number 1 and a white 'digit' 2.\",\n",
              "       'The digit is a number',\n",
              "       'A class is a group of objects that share a common characteristic, such as shape, size, or color.',\n",
              "       'The image shows a digit 0.',\n",
              "       \"The digit 7 is in a class of 'digits'.\", 'The digit is a digit',\n",
              "       \"The digit '0' is in a class of 'digits'.\",\n",
              "       'The image shows a black background with a white digit 0 in the middle.',\n",
              "       'The digit 0 is a zero.',\n",
              "       \"The digit '0' is in a group of numbers.\", \"The letter 'L'\",\n",
              "       'Snake', 'The image shows a number of numbers.', 'The number 5',\n",
              "       'The image shows a spiral',\n",
              "       'A class is a group of objects that share a common characteristic, such as a shape, color, or size.',\n",
              "       'The image shows a white outline of a digit 0',\n",
              "       \"The snake is in a class of 'digits'.\",\n",
              "       'The image shows a digit 0, a digit 1 and a digit 2.',\n",
              "       'The digit 9', \"The number is 'digits'.\",\n",
              "       \"The image shows a black background with a white digit '0' and a white '1'.\",\n",
              "       'The image is a black and white picture of a spiral.',\n",
              "       \"The letter 'H'\",\n",
              "       'The image shows a black and white image of a number 3.',\n",
              "       'The image shows a group of numbers, which are all connected to each other.',\n",
              "       'The image shows a black background with a white number 3.',\n",
              "       'The image shows a black background with a white outline of the state of Delaware.',\n",
              "       \"The letter 'C'\",\n",
              "       'The image shows a black background with a white outline of a brain.',\n",
              "       'The image is a black and white image of a spiral.',\n",
              "       'The image shows a digit 0', \"'class 1'\",\n",
              "       \"The image shows a black background with a white outline of a number '1'.\",\n",
              "       'The letter S', 'A',\n",
              "       'The image shows a black background with a white outline of a house.',\n",
              "       'The image shows a white digit 0', 'A pencil',\n",
              "       'The image is a black and white picture of a digit 6.',\n",
              "       'The image shows a white outline of a hammer with a black background.',\n",
              "       'The image is a black and white picture of a track.',\n",
              "       'The image shows a white digit 0, a white number 1, a white 2 digit, a black digit 3 and a black number 4.',\n",
              "       'The image shows a black background with a white outline of a circle.',\n",
              "       'The digit 4', 'The letter Z', 'The letter R', \"'0'\",\n",
              "       'The image shows a black background with a white outline of the number 8.',\n",
              "       \"'number'\",\n",
              "       'The image shows a black background with a white digit 0.',\n",
              "       'A binary number',\n",
              "       'The image shows a white outline of a person holding a key.',\n",
              "       'The image is a black and white picture.', \"The number '3'\",\n",
              "       \"The letter 'T'\", 'A snake',\n",
              "       'The image shows a black background with a white outline of a human brain.',\n",
              "       'The image shows a key with the digits 0, 1, 2, 3, 4, 5, 6, 7, 8, 9, and 9.',\n",
              "       \"The snake is in class 'digits 0-9'.\",\n",
              "       'The image shows a question mark',\n",
              "       'The image shows a ladder with a single rung at the top.',\n",
              "       'A Digimon',\n",
              "       'The image shows a white outline of a person with a heart in the middle of their chest.',\n",
              "       'The image shows a white outline of a digit 0.',\n",
              "       'The digit is a number.', 'The digit is a zero.',\n",
              "       'The image shows a spiral shape with a number of digits.',\n",
              "       \"The letter 'Q'\", 'The digit 8',\n",
              "       'The image shows a black background with a white rectangle in the middle.',\n",
              "       \"The snake is in class 'digits 0 to 9'.\", 'A class is in picture.',\n",
              "       \"The letter 'S'\",\n",
              "       \"The image is a black and white photograph of a number '0'.\",\n",
              "       'The image shows a white outline of a human brain with the digits 0, 1, 2, 3, 4, 5, 6, 7, 8, 9, and 10 visible.',\n",
              "       'A worm',\n",
              "       'The image shows a white outline of a key with a black background.',\n",
              "       'The image shows a black background with a white question mark in the middle.',\n",
              "       'The letter H', 'The image shows a person doing yoga.',\n",
              "       'The image shows a white cross with a black background.',\n",
              "       'The image shows a question mark.',\n",
              "       'The image shows a black background with a white circle in the middle.',\n",
              "       'The letter Y',\n",
              "       'The image shows a brain with a digit 0 in the middle.',\n",
              "       'The image shows a white digit 0.',\n",
              "       'The image is a black background with a white digit 9 in the center.',\n",
              "       'The image shows a black background with a white outline of a pencil.',\n",
              "       'The image shows a white rectangle with a black background.',\n",
              "       \"The class is 'digits 0-9'\",\n",
              "       'The image shows a white circle with a black background.',\n",
              "       'The image shows a white outline of a human stomach.',\n",
              "       'The image is a black and white picture of a racetrack.',\n",
              "       \"The image is a black background with a white outline of a number '0'.\",\n",
              "       'The image is a black and white image of a road.', 'A binary code',\n",
              "       'The digit is a zero',\n",
              "       'The image shows a black background with a white number seven.',\n",
              "       \"The letter 'A'\", 'Ballet',\n",
              "       \"The image shows a black background with a white digit '0' in the middle.\",\n",
              "       'The image is a black and white image.',\n",
              "       'The snake is a class that represents the number 0.',\n",
              "       'The image shows a hand with digits 0, 1, 2, 3, 4, 5, 6, 7, 8, 9, and 10.',\n",
              "       'The snake is a class.',\n",
              "       \"The image shows a white outline of a number '0', a white circle with a dot in the middle, and a white line extending from the dot to the circle.\",\n",
              "       \"The image is a black and white picture of a number '4'\",\n",
              "       \"The letter 'E'\", 'A computer programmer', 'A tennis racket',\n",
              "       'The number is a digit',\n",
              "       \"The image is a black and white picture of the digit '0'.\",\n",
              "       'The snake is a snake.', \"The letter 'a'\",\n",
              "       'The snake is a class of animals.',\n",
              "       'The image shows a pixelated image of a digit 0.', 'Digits',\n",
              "       \"The image shows a white outline of a number '3'.\", 'The swan',\n",
              "       'The image is a black and white picture of a number 3.',\n",
              "       'The image shows a group of numbers, each of which is a digit.',\n",
              "       'The hammer',\n",
              "       'The image shows a white outline of a human brain with a black background.',\n",
              "       'Horse', 'The digit 4 is in a circle',\n",
              "       'A class is a group of objects that share a common set of properties.',\n",
              "       \"The image shows a white digit '3'\",\n",
              "       'The image shows a keyhole with a key inside.',\n",
              "       'The image shows a white outline of a human body with a heart in the middle.',\n",
              "       \"The letter 'U'\", 'The letter T',\n",
              "       'The image shows a white outline of a human figure with a black background.',\n",
              "       'The image is a black and white picture of a human stomach.',\n",
              "       'The digit 9 is a digit', \"The letter 'K'\", 'The digit 0',\n",
              "       'The image shows a picture of a number 7',\n",
              "       'The image shows a black background with a white digit 1 in the middle.',\n",
              "       'The image shows a group of digits, each with a different number of dots.',\n",
              "       'The image shows a black background with a white number seven in the center.',\n",
              "       'The digit 7 is a digit', 'The image shows a digit 7',\n",
              "       'The image shows a black background with a white question mark.',\n",
              "       'The image shows a white outline of a human stomach with a black background.',\n",
              "       'The image shows a picture of a wrench.', \"The digit is 'digits'\",\n",
              "       'The image is a black background with a white outline of the state of California.',\n",
              "       'The image shows a group of people standing in a line.',\n",
              "       'The image shows a racing car.',\n",
              "       'The image shows a black and white image of a human digestive system.',\n",
              "       'The image is a black and white picture of a map of the United States.',\n",
              "       'The image is a black and white picture of a question mark.',\n",
              "       'The image is a black background with a white digit 9 in the middle.',\n",
              "       'The number 4',\n",
              "       'The image shows a black background with a white number 7 in the middle.',\n",
              "       'The number is a racing car.', 'The digit is a snake',\n",
              "       'The image shows a black background with a white digit 0 in the center.',\n",
              "       'The image shows a blackboard with the number 6 written on it.',\n",
              "       'The image shows a black background with a white number 2.',\n",
              "       \"The image shows a black background with a white digit '7'.\",\n",
              "       'The image shows a key with a digit 0 on it.',\n",
              "       'The image is a black and white picture of a cross.',\n",
              "       'The image shows a picture of a digit 0.',\n",
              "       'The image shows a cross with the digits 0, 1, 2, 3, 4, 5, 6, 7, 8, 9, and 9.',\n",
              "       'A class is in this picture.',\n",
              "       'The image is a black and white image of a ring',\n",
              "       \"The image shows the letter 'E'\",\n",
              "       'The image shows a question mark with the digits 0, 1, 2, 3, 4, 5, 6, 7, 8, 9, and 9.',\n",
              "       'digit 0',\n",
              "       'The image shows a black background with a white snake outline.',\n",
              "       'The image shows a line drawing of a human body.',\n",
              "       'The image shows a white outline of a heart with a black background.',\n",
              "       \"'A'\", 'The digit 9 is a zero.', \"The letter 'G'\",\n",
              "       \"The image shows a black background with a white number '2'.\",\n",
              "       \"The image shows a black background with a white digit '1' and a white 'digit' '2'.\",\n",
              "       \"The image shows a human head with the number '9' in the middle of it.\",\n",
              "       'The image shows a white digit 0, a white number 1 and a white symbol 2.',\n",
              "       'The image is a black and white picture of a human intestine.',\n",
              "       'A class is a group of objects that share a common attribute, such as a shape, color, or size.',\n",
              "       \"The image shows a white outline of a human brain with the letters 'Q' and 'U' inside it.\",\n",
              "       'The image shows a pixelated number 2.',\n",
              "       \"The image shows a black background with a white number '7'.\",\n",
              "       \"The image is a black background with a white outline of the letter 'I'.\",\n",
              "       \"The digit is '0'\",\n",
              "       'The image shows a black background with a white number 7 on it.',\n",
              "       \"The letter 'Y'\",\n",
              "       \"The image shows a white outline of a hanger with the number '2' in the middle.\",\n",
              "       \"The image shows a black background with a white outline of the letter 'J'.\",\n",
              "       'The digit is a hand',\n",
              "       'The image shows a black background with a white outline of a hand holding a key.',\n",
              "       'The image shows a digit number 8.',\n",
              "       \"The image shows a white digit '5'.\",\n",
              "       'The image shows a brain with a digit 0 in it.',\n",
              "       'The image shows the number 5.', 'Acorn', 'Seahorse', 'digit 1',\n",
              "       'digit 2', 'digit 3', 'digit 4', 'digit 5', 'digit 6', 'digit 7',\n",
              "       'digit 8'], dtype=object)"
            ]
          },
          "execution_count": 6,
          "metadata": {},
          "output_type": "execute_result"
        }
      ],
      "source": [
        "df[f'raw_answer'].unique()"
      ]
    },
    {
      "cell_type": "code",
      "execution_count": 7,
      "metadata": {
        "colab": {
          "base_uri": "https://localhost:8080/"
        },
        "id": "v8mTBWmG_43b",
        "outputId": "aea85377-9927-4ff2-9f42-739cd4253f89"
      },
      "outputs": [
        {
          "data": {
            "text/plain": [
              "['0', '1', '2', '3', '4', '5', '6', '7', '8', '9']"
            ]
          },
          "execution_count": 7,
          "metadata": {},
          "output_type": "execute_result"
        }
      ],
      "source": [
        "raw_classes[dataset]"
      ]
    },
    {
      "cell_type": "code",
      "execution_count": 8,
      "metadata": {
        "id": "NdU8-XPtAC8j"
      },
      "outputs": [],
      "source": [
        "def find_class(x, classes):\n",
        "    for item in classes:\n",
        "        if item.lower() == 'T-shirt/top'.lower():\n",
        "            if 'T-shirt'.lower() in x.lower() or 'top'.lower() in x.lower():\n",
        "                return item\n",
        "        elif item.lower() in x.lower():\n",
        "            return item\n",
        "    return x\n",
        "\n",
        "# def find_class(x, correct_label, classes):\n",
        "#     lower_x = x.lower()\n",
        "#     lower_classes = [item.lower() for item in classes]\n",
        "    \n",
        "#     found_classes = []\n",
        "#     for item in classes:\n",
        "#         if item.lower() == 'T-shirt/top'.lower():\n",
        "#             if 'T-shirt'.lower() in x.lower() or 'top'.lower() in x.lower():\n",
        "#                 found_classes.append(item.lower())\n",
        "#         elif item.lower() in x.lower():\n",
        "#             found_classes.append(item.lower())\n",
        "\n",
        "#     if len(found_classes) == len(classes):\n",
        "#         return 'all'\n",
        "#     elif correct_label.lower() in lower_classes and any(item.lower() == correct_label.lower() for item in found_classes):\n",
        "#         return correct_label\n",
        "#     elif found_classes:\n",
        "#         return found_classes[0]\n",
        "#     else:\n",
        "#         return x\n",
        "    \n",
        "# print(find_class('digit 1', '1', raw_classes[dataset]))\n",
        "# print(find_class('digit 1', '2', raw_classes[dataset]))\n",
        "# print(find_class('The image shows a digit 0, a digit 1 and a digit 2.', '1', raw_classes[dataset]))\n",
        "# print(find_class('The image shows a digit 0, a digit 1 and a digit 2.', '2', raw_classes[dataset]))\n",
        "# print(find_class('The image shows a digit 0, a digit 1 and a digit 2.', '4', raw_classes[dataset]))\n",
        "# print(find_class('The image shows a digit 0, a digit 1 and a digit 2.', '8', raw_classes[dataset]))\n",
        "# print(find_class('The image shows a question mark with the digits 0, 1, 2, 3, 4, 5, 6, 7, 8, 9, and 9.', '4', raw_classes[dataset]))\n",
        "# print(find_class('The image shows a question mark with the digits 0, 1, 2, 3, 4, 5, 6, 7, 8, 9, and 9.', '7', raw_classes[dataset]))"
      ]
    },
    {
      "cell_type": "code",
      "execution_count": 9,
      "metadata": {
        "id": "YKx_IZ3anH9A"
      },
      "outputs": [],
      "source": [
        "df['raw_answer'] = df['raw_answer'].apply(lambda x: find_class(x, raw_classes[dataset]))\n",
        "\n",
        "# idx2label = {idx: label.strip().lower() for idx, label in enumerate(classes[dataset])}\n",
        "\n",
        "# df['raw_answer'] = df.apply(lambda row: find_class(row['raw_answer'], idx2label[row['label']].strip().lower(), classes[dataset]), axis=1)"
      ]
    },
    {
      "cell_type": "code",
      "execution_count": 10,
      "metadata": {
        "colab": {
          "base_uri": "https://localhost:8080/"
        },
        "id": "m1t4xNsU_yo7",
        "outputId": "dc29354b-16c1-40d7-be84-b378482afaa3"
      },
      "outputs": [
        {
          "data": {
            "text/plain": [
              "{'0',\n",
              " '1',\n",
              " '2',\n",
              " '3',\n",
              " '4',\n",
              " '5',\n",
              " '6',\n",
              " '7',\n",
              " '8',\n",
              " '9',\n",
              " 'a',\n",
              " 'a binary code',\n",
              " 'a binary number',\n",
              " 'a class is a group of objects that share a common attribute, such as a shape, color, or size.',\n",
              " 'a class is a group of objects that share a common characteristic, such as a shape, color, or size.',\n",
              " 'a class is a group of objects that share a common characteristic, such as shape, size, or color.',\n",
              " 'a class is a group of objects that share a common set of properties.',\n",
              " 'a class is in picture.',\n",
              " 'a class is in this picture.',\n",
              " 'a computer programmer',\n",
              " 'a digimon',\n",
              " 'a pencil',\n",
              " 'a snake',\n",
              " 'a tennis racket',\n",
              " 'a worm',\n",
              " 'acorn',\n",
              " 'ballet',\n",
              " 'digits',\n",
              " 'horse',\n",
              " 'number',\n",
              " 'seahorse',\n",
              " 'snake',\n",
              " 'the class is digits',\n",
              " 'the class is digits.',\n",
              " 'the digit is a digit',\n",
              " 'the digit is a hand',\n",
              " 'the digit is a number',\n",
              " 'the digit is a number.',\n",
              " 'the digit is a snake',\n",
              " 'the digit is a zero',\n",
              " 'the digit is a zero.',\n",
              " 'the digit is digit',\n",
              " 'the digit is digits',\n",
              " 'the hammer',\n",
              " 'the image is a black and white image of a ring',\n",
              " 'the image is a black and white image of a road.',\n",
              " 'the image is a black and white image of a spiral.',\n",
              " 'the image is a black and white image.',\n",
              " 'the image is a black and white picture of a cross.',\n",
              " 'the image is a black and white picture of a human intestine.',\n",
              " 'the image is a black and white picture of a human stomach.',\n",
              " 'the image is a black and white picture of a map of the united states.',\n",
              " 'the image is a black and white picture of a question mark.',\n",
              " 'the image is a black and white picture of a racetrack.',\n",
              " 'the image is a black and white picture of a spiral.',\n",
              " 'the image is a black and white picture of a track.',\n",
              " 'the image is a black and white picture.',\n",
              " 'the image is a black background with a white outline of the letter i.',\n",
              " 'the image is a black background with a white outline of the state of california.',\n",
              " 'the image is a black background.',\n",
              " 'the image shows a black and white image of a human digestive system.',\n",
              " 'the image shows a black background with a white circle in the middle.',\n",
              " 'the image shows a black background with a white number seven in the center.',\n",
              " 'the image shows a black background with a white number seven.',\n",
              " 'the image shows a black background with a white outline of a brain.',\n",
              " 'the image shows a black background with a white outline of a circle.',\n",
              " 'the image shows a black background with a white outline of a hand holding a key.',\n",
              " 'the image shows a black background with a white outline of a house.',\n",
              " 'the image shows a black background with a white outline of a human brain.',\n",
              " 'the image shows a black background with a white outline of a pencil.',\n",
              " 'the image shows a black background with a white outline of the letter j.',\n",
              " 'the image shows a black background with a white outline of the state of delaware.',\n",
              " 'the image shows a black background with a white question mark in the middle.',\n",
              " 'the image shows a black background with a white question mark.',\n",
              " 'the image shows a black background with a white rectangle in the middle.',\n",
              " 'the image shows a black background with a white snake outline.',\n",
              " 'the image shows a group of digits, each with a different number of dots.',\n",
              " 'the image shows a group of numbers, each of which is a digit.',\n",
              " 'the image shows a group of numbers, which are all connected to each other.',\n",
              " 'the image shows a group of people standing in a line.',\n",
              " 'the image shows a key with a keyhole in it.',\n",
              " 'the image shows a keyhole with a key inside.',\n",
              " 'the image shows a ladder with a single rung at the top.',\n",
              " 'the image shows a line drawing of a human body.',\n",
              " 'the image shows a number of numbers.',\n",
              " 'the image shows a person doing yoga.',\n",
              " 'the image shows a picture of a wrench.',\n",
              " 'the image shows a question mark',\n",
              " 'the image shows a question mark.',\n",
              " 'the image shows a racing car.',\n",
              " 'the image shows a racing track with a white outline of a racing car on a black background.',\n",
              " 'the image shows a spiral',\n",
              " 'the image shows a spiral shape with a number of digits.',\n",
              " 'the image shows a spiral shape.',\n",
              " 'the image shows a white circle with a black background.',\n",
              " 'the image shows a white cross with a black background.',\n",
              " 'the image shows a white outline of a hammer with a black background.',\n",
              " 'the image shows a white outline of a heart with a black background.',\n",
              " 'the image shows a white outline of a human body with a heart in the middle.',\n",
              " 'the image shows a white outline of a human brain with a black background.',\n",
              " 'the image shows a white outline of a human brain with the letters q and u inside it.',\n",
              " 'the image shows a white outline of a human figure with a black background.',\n",
              " 'the image shows a white outline of a human stomach with a black background.',\n",
              " 'the image shows a white outline of a human stomach.',\n",
              " 'the image shows a white outline of a key with a black background.',\n",
              " 'the image shows a white outline of a person holding a key.',\n",
              " 'the image shows a white outline of a person with a black background.',\n",
              " 'the image shows a white outline of a person with a heart in the middle of their chest.',\n",
              " 'the image shows a white rectangle with a black background.',\n",
              " 'the image shows the letter e',\n",
              " 'the letter a',\n",
              " 'the letter c',\n",
              " 'the letter e',\n",
              " 'the letter g',\n",
              " 'the letter h',\n",
              " 'the letter i',\n",
              " 'the letter k',\n",
              " 'the letter l',\n",
              " 'the letter q',\n",
              " 'the letter r',\n",
              " 'the letter s',\n",
              " 'the letter t',\n",
              " 'the letter u',\n",
              " 'the letter y',\n",
              " 'the letter z',\n",
              " 'the number is a digit',\n",
              " 'the number is a racing car.',\n",
              " 'the number is digits.',\n",
              " 'the snake is a class of animals.',\n",
              " 'the snake is a class.',\n",
              " 'the snake is a snake.',\n",
              " 'the snake is in a class of digits.',\n",
              " 'the swan'}"
            ]
          },
          "execution_count": 10,
          "metadata": {},
          "output_type": "execute_result"
        }
      ],
      "source": [
        "{item.strip().replace('\\'', '').lower() for item in df[f'raw_answer'].unique()}"
      ]
    },
    {
      "cell_type": "markdown",
      "metadata": {
        "id": "oI9F9xNynfHO"
      },
      "source": [
        "## Raw"
      ]
    },
    {
      "cell_type": "code",
      "execution_count": 11,
      "metadata": {
        "id": "DgIM4YU7feh8"
      },
      "outputs": [],
      "source": [
        "idx2label = {idx: label.strip().lower() for idx, label in enumerate(classes[dataset])}\n",
        "if dataset == 'IllusionAnimals':\n",
        "    y_true = df['label'].apply(lambda x: x.strip().lower())\n",
        "else:\n",
        "    y_true = df['label'].apply(lambda x: idx2label[x].strip().lower())\n",
        "y_pred = df[f'raw_answer'].apply(lambda x: x.strip().replace('\\'', '').lower())"
      ]
    },
    {
      "cell_type": "code",
      "execution_count": 12,
      "metadata": {
        "colab": {
          "base_uri": "https://localhost:8080/"
        },
        "id": "7V_kwGpjoGbB",
        "outputId": "b89a988e-87cf-4a8f-dc4c-30b93a259dd3"
      },
      "outputs": [
        {
          "data": {
            "text/plain": [
              "{'0',\n",
              " '1',\n",
              " '2',\n",
              " '3',\n",
              " '4',\n",
              " '5',\n",
              " '6',\n",
              " '7',\n",
              " '8',\n",
              " '9',\n",
              " 'a',\n",
              " 'a binary code',\n",
              " 'a binary number',\n",
              " 'a class is a group of objects that share a common attribute, such as a shape, color, or size.',\n",
              " 'a class is a group of objects that share a common characteristic, such as a shape, color, or size.',\n",
              " 'a class is a group of objects that share a common characteristic, such as shape, size, or color.',\n",
              " 'a class is a group of objects that share a common set of properties.',\n",
              " 'a class is in picture.',\n",
              " 'a class is in this picture.',\n",
              " 'a computer programmer',\n",
              " 'a digimon',\n",
              " 'a pencil',\n",
              " 'a snake',\n",
              " 'a tennis racket',\n",
              " 'a worm',\n",
              " 'acorn',\n",
              " 'ballet',\n",
              " 'digits',\n",
              " 'horse',\n",
              " 'number',\n",
              " 'seahorse',\n",
              " 'snake',\n",
              " 'the class is digits',\n",
              " 'the class is digits.',\n",
              " 'the digit is a digit',\n",
              " 'the digit is a hand',\n",
              " 'the digit is a number',\n",
              " 'the digit is a number.',\n",
              " 'the digit is a snake',\n",
              " 'the digit is a zero',\n",
              " 'the digit is a zero.',\n",
              " 'the digit is digit',\n",
              " 'the digit is digits',\n",
              " 'the hammer',\n",
              " 'the image is a black and white image of a ring',\n",
              " 'the image is a black and white image of a road.',\n",
              " 'the image is a black and white image of a spiral.',\n",
              " 'the image is a black and white image.',\n",
              " 'the image is a black and white picture of a cross.',\n",
              " 'the image is a black and white picture of a human intestine.',\n",
              " 'the image is a black and white picture of a human stomach.',\n",
              " 'the image is a black and white picture of a map of the united states.',\n",
              " 'the image is a black and white picture of a question mark.',\n",
              " 'the image is a black and white picture of a racetrack.',\n",
              " 'the image is a black and white picture of a spiral.',\n",
              " 'the image is a black and white picture of a track.',\n",
              " 'the image is a black and white picture.',\n",
              " 'the image is a black background with a white outline of the letter i.',\n",
              " 'the image is a black background with a white outline of the state of california.',\n",
              " 'the image is a black background.',\n",
              " 'the image shows a black and white image of a human digestive system.',\n",
              " 'the image shows a black background with a white circle in the middle.',\n",
              " 'the image shows a black background with a white number seven in the center.',\n",
              " 'the image shows a black background with a white number seven.',\n",
              " 'the image shows a black background with a white outline of a brain.',\n",
              " 'the image shows a black background with a white outline of a circle.',\n",
              " 'the image shows a black background with a white outline of a hand holding a key.',\n",
              " 'the image shows a black background with a white outline of a house.',\n",
              " 'the image shows a black background with a white outline of a human brain.',\n",
              " 'the image shows a black background with a white outline of a pencil.',\n",
              " 'the image shows a black background with a white outline of the letter j.',\n",
              " 'the image shows a black background with a white outline of the state of delaware.',\n",
              " 'the image shows a black background with a white question mark in the middle.',\n",
              " 'the image shows a black background with a white question mark.',\n",
              " 'the image shows a black background with a white rectangle in the middle.',\n",
              " 'the image shows a black background with a white snake outline.',\n",
              " 'the image shows a group of digits, each with a different number of dots.',\n",
              " 'the image shows a group of numbers, each of which is a digit.',\n",
              " 'the image shows a group of numbers, which are all connected to each other.',\n",
              " 'the image shows a group of people standing in a line.',\n",
              " 'the image shows a key with a keyhole in it.',\n",
              " 'the image shows a keyhole with a key inside.',\n",
              " 'the image shows a ladder with a single rung at the top.',\n",
              " 'the image shows a line drawing of a human body.',\n",
              " 'the image shows a number of numbers.',\n",
              " 'the image shows a person doing yoga.',\n",
              " 'the image shows a picture of a wrench.',\n",
              " 'the image shows a question mark',\n",
              " 'the image shows a question mark.',\n",
              " 'the image shows a racing car.',\n",
              " 'the image shows a racing track with a white outline of a racing car on a black background.',\n",
              " 'the image shows a spiral',\n",
              " 'the image shows a spiral shape with a number of digits.',\n",
              " 'the image shows a spiral shape.',\n",
              " 'the image shows a white circle with a black background.',\n",
              " 'the image shows a white cross with a black background.',\n",
              " 'the image shows a white outline of a hammer with a black background.',\n",
              " 'the image shows a white outline of a heart with a black background.',\n",
              " 'the image shows a white outline of a human body with a heart in the middle.',\n",
              " 'the image shows a white outline of a human brain with a black background.',\n",
              " 'the image shows a white outline of a human brain with the letters q and u inside it.',\n",
              " 'the image shows a white outline of a human figure with a black background.',\n",
              " 'the image shows a white outline of a human stomach with a black background.',\n",
              " 'the image shows a white outline of a human stomach.',\n",
              " 'the image shows a white outline of a key with a black background.',\n",
              " 'the image shows a white outline of a person holding a key.',\n",
              " 'the image shows a white outline of a person with a black background.',\n",
              " 'the image shows a white outline of a person with a heart in the middle of their chest.',\n",
              " 'the image shows a white rectangle with a black background.',\n",
              " 'the image shows the letter e',\n",
              " 'the letter a',\n",
              " 'the letter c',\n",
              " 'the letter e',\n",
              " 'the letter g',\n",
              " 'the letter h',\n",
              " 'the letter i',\n",
              " 'the letter k',\n",
              " 'the letter l',\n",
              " 'the letter q',\n",
              " 'the letter r',\n",
              " 'the letter s',\n",
              " 'the letter t',\n",
              " 'the letter u',\n",
              " 'the letter y',\n",
              " 'the letter z',\n",
              " 'the number is a digit',\n",
              " 'the number is a racing car.',\n",
              " 'the number is digits.',\n",
              " 'the snake is a class of animals.',\n",
              " 'the snake is a class.',\n",
              " 'the snake is a snake.',\n",
              " 'the snake is in a class of digits.',\n",
              " 'the swan'}"
            ]
          },
          "execution_count": 12,
          "metadata": {},
          "output_type": "execute_result"
        }
      ],
      "source": [
        "set(list(y_pred))"
      ]
    },
    {
      "cell_type": "code",
      "execution_count": 13,
      "metadata": {},
      "outputs": [
        {
          "data": {
            "text/plain": [
              "{'0', '1', '2', '3', '4', '5', '6', '7', '8', '9'}"
            ]
          },
          "execution_count": 13,
          "metadata": {},
          "output_type": "execute_result"
        }
      ],
      "source": [
        "set(list(y_true))"
      ]
    },
    {
      "cell_type": "code",
      "execution_count": 14,
      "metadata": {
        "colab": {
          "base_uri": "https://localhost:8080/"
        },
        "id": "xsafoBSZkM0Z",
        "outputId": "932c2780-538b-4dde-bd20-486edf9018d3"
      },
      "outputs": [
        {
          "name": "stdout",
          "output_type": "stream",
          "text": [
            "Accuracy: 6.22\n",
            "Precision: 4.54\n",
            "Recall: 0.49\n",
            "F1 score: 0.82\n"
          ]
        },
        {
          "name": "stderr",
          "output_type": "stream",
          "text": [
            "d:\\anaconda3\\lib\\site-packages\\sklearn\\metrics\\_classification.py:1221: UndefinedMetricWarning: Recall is ill-defined and being set to 0.0 in labels with no true samples. Use `zero_division` parameter to control this behavior.\n",
            "  _warn_prf(average, modifier, msg_start, len(result))\n"
          ]
        }
      ],
      "source": [
        "accuracy = accuracy_score(y_true, y_pred)\n",
        "precision = precision_score(y_true, y_pred, average='macro')\n",
        "recall = recall_score(y_true, y_pred, average='macro')\n",
        "f1 = f1_score(y_true, y_pred, average='macro')\n",
        "\n",
        "print(\"Accuracy:\", round(accuracy*100, 2))\n",
        "print(\"Precision:\", round(precision*100,2))\n",
        "print(\"Recall:\", round(recall*100,2))\n",
        "print(\"F1 score:\", round(f1*100, 2))\n",
        "\n",
        "# Accuracy: 0.062218214607754736\n",
        "# Precision: 0.04541898867477692\n",
        "# Recall: 0.004856315039905214\n",
        "# F1 score: 0.008221214957433198\n",
        "\n",
        "# modified find_class\n",
        "# Accuracy: 0.07303877366997295\n",
        "# Precision: 0.04941424508513476\n",
        "# Recall: 0.005614853875137003\n",
        "# F1 score: 0.009576940339687331"
      ]
    },
    {
      "cell_type": "markdown",
      "metadata": {
        "id": "-AGnN4dPnhTY"
      },
      "source": [
        "## Illusion"
      ]
    },
    {
      "cell_type": "code",
      "execution_count": 15,
      "metadata": {
        "id": "Gj7nigIkllO4"
      },
      "outputs": [],
      "source": [
        "classes = {\n",
        "    'FashionMnist': ['T-shirt/top', 'Trouser', 'Pullover', 'Dress', 'Coat', 'Sandal', 'Shirt', 'Sneaker', 'Bag', 'Ankle boot', 'no illusion'],\n",
        "    # 'Mnist': ['digit 0', 'digit 1', 'digit 2', 'digit 3', 'digit 4', 'digit 5', 'digit 6', 'digit 7', 'digit 8', 'digit 9', 'No illusion'],\n",
        "    'Mnist': ['0', '1', '2', '3', '4', '5', '6', '7', '8', '9', 'No hidden digit'],\n",
        "    'IllusionAnimals': ['cat', 'dog', 'pigeon', 'butterfly', 'elephant', 'horse', 'deer', 'snake', 'fish', 'rooster', 'No illusion' ],\n",
        "}\n",
        "\n",
        "# idx2label = {idx: label.strip().lower() for idx, label in enumerate(classes[dataset])}\n",
        "# if dataset == 'IllusionAnimals':\n",
        "#     y_true = list(df['label'].apply(lambda x: x.strip().lower())) + list(df['label'].apply(lambda x: 'no hidden digit'))\n",
        "# else:\n",
        "#     y_true = list(df['label'].apply(lambda x: idx2label[x].strip().lower())) + list(df['label'].apply(lambda x: 'no hidden digit'))\n",
        "\n",
        "# # y_true = list(df['label'].apply(lambda x: idx2label[x].strip().lower())) + list(df['label'].apply(lambda x: 'no illusion'))\n",
        "\n",
        "# # y_pred = list(df[f'ill_answer'].apply(lambda x: find_class(x, classes[dataset]).strip().replace('\\'', '').lower())) \\\n",
        "# #     + list(df[f'illless_answer'].apply(lambda x: find_class(x, classes[dataset]).strip().replace('\\'', '').lower()))\n",
        "\n",
        "# y_pred = list(df.apply(lambda row: find_class(row['ill_answer'], idx2label[row['label']].strip().lower(), classes[dataset]).strip().replace('\\'', '').lower(), axis=1)) \\\n",
        "#     + list(df.apply(lambda row: find_class(row['illless_answer'], idx2label[row['label']].strip().lower(), classes[dataset]).strip().replace('\\'', '').lower(), axis=1)) \n",
        "\n",
        "\n",
        "idx2label = {idx: label.strip().lower() for idx, label in enumerate(classes[dataset])}\n",
        "if dataset == 'IllusionAnimals':\n",
        "    # y_true = list(df['label'].apply(lambda x: x.strip().lower())) + list(df['label'].apply(lambda x: 'no illusion'))\n",
        "    y_true = list(df['label'].apply(lambda x: x.strip().lower())) + list(df.filter(items=illusionless_indexes, axis=0)['label'].apply(lambda x: 'no hidden digit'))\n",
        "else:\n",
        "    # y_true = list(df['label'].apply(lambda x: idx2label[x].strip().lower())) + list(df['label'].apply(lambda x: 'no illusion'))\n",
        "    y_true = list(df['label'].apply(lambda x: idx2label[x].strip().lower())) + list(df.filter(items=illusionless_indexes, axis=0)['label'].apply(lambda x: 'no hidden digit'))\n",
        "\n",
        "# y_pred = list(df[f'ill_answer'].apply(lambda x: find_class(x, classes[dataset]).strip().replace('\\'', '').lower())) \\\n",
        "#     + list(df[f'ill_less_answer'].apply(lambda x: find_class(x, classes[dataset]).strip().replace('\\'', '').lower()))\n",
        "y_pred = list(df[f'ill_answer'].apply(lambda x: find_class(x, classes[dataset]).strip().replace('\\'', '').lower())) \\\n",
        "    + list(df.filter(items=illusionless_indexes, axis=0)[f'illless_answer'].apply(lambda x: find_class(x, classes[dataset]).strip().replace('\\'', '').lower()))\n"
      ]
    },
    {
      "cell_type": "code",
      "execution_count": 16,
      "metadata": {
        "colab": {
          "base_uri": "https://localhost:8080/"
        },
        "id": "b6ksn32hrkVY",
        "outputId": "22fed6de-06e2-4f19-c079-929fe2bbfd67"
      },
      "outputs": [
        {
          "data": {
            "text/plain": [
              "{'0', 'no hidden digit', 'yes'}"
            ]
          },
          "execution_count": 16,
          "metadata": {},
          "output_type": "execute_result"
        }
      ],
      "source": [
        "set(y_pred)"
      ]
    },
    {
      "cell_type": "code",
      "execution_count": 17,
      "metadata": {
        "colab": {
          "base_uri": "https://localhost:8080/"
        },
        "id": "oaOLXqL8rnbs",
        "outputId": "0e666b26-2679-4fd1-8bd8-c2a0e6ebdd4d"
      },
      "outputs": [
        {
          "data": {
            "text/plain": [
              "{'0', '1', '2', '3', '4', '5', '6', '7', '8', '9', 'no hidden digit'}"
            ]
          },
          "execution_count": 17,
          "metadata": {},
          "output_type": "execute_result"
        }
      ],
      "source": [
        "set(y_true)"
      ]
    },
    {
      "cell_type": "code",
      "execution_count": 18,
      "metadata": {
        "colab": {
          "base_uri": "https://localhost:8080/"
        },
        "id": "dW9xwrAqkRBE",
        "outputId": "72fcb072-fad3-435e-8400-fac1f0d195d4"
      },
      "outputs": [
        {
          "name": "stdout",
          "output_type": "stream",
          "text": [
            "Accuracy: 8.94\n",
            "Precision: 1.71\n",
            "Recall: 8.36\n",
            "F1 score: 2.29\n"
          ]
        },
        {
          "name": "stderr",
          "output_type": "stream",
          "text": [
            "d:\\anaconda3\\lib\\site-packages\\sklearn\\metrics\\_classification.py:1221: UndefinedMetricWarning: Precision is ill-defined and being set to 0.0 in labels with no predicted samples. Use `zero_division` parameter to control this behavior.\n",
            "  _warn_prf(average, modifier, msg_start, len(result))\n",
            "d:\\anaconda3\\lib\\site-packages\\sklearn\\metrics\\_classification.py:1221: UndefinedMetricWarning: Recall is ill-defined and being set to 0.0 in labels with no true samples. Use `zero_division` parameter to control this behavior.\n",
            "  _warn_prf(average, modifier, msg_start, len(result))\n"
          ]
        }
      ],
      "source": [
        "accuracy = accuracy_score(y_true, y_pred)\n",
        "precision = precision_score(y_true, y_pred, average='macro')\n",
        "recall = recall_score(y_true, y_pred, average='macro')\n",
        "f1 = f1_score(y_true, y_pred, average='macro')\n",
        "\n",
        "print(\"Accuracy:\", round(accuracy*100, 2))\n",
        "print(\"Precision:\", round(precision*100,2))\n",
        "print(\"Recall:\", round(recall*100,2))\n",
        "print(\"F1 score:\", round(f1*100, 2))\n",
        "# before changing find_class\n",
        "# Accuracy: 0.4368800721370604\n",
        "# Precision: 0.044247433248442325\n",
        "# Recall: 0.08134051636885593\n",
        "# F1 score: 0.05722778521294459\n",
        "# after changing\n",
        "# Accuracy: 0.4368800721370604\n",
        "# Precision: 0.044247433248442325\n",
        "# Recall: 0.08134051636885593\n",
        "# F1 score: 0.05722778521294459"
      ]
    },
    {
      "cell_type": "markdown",
      "metadata": {
        "id": "1aMoHSH8piVd"
      },
      "source": [
        "## Illusion Filtered"
      ]
    },
    {
      "cell_type": "code",
      "execution_count": 19,
      "metadata": {
        "id": "_-V7wPdSDU_n"
      },
      "outputs": [
        {
          "data": {
            "text/plain": [
              "{'digits', 'no hidden digit'}"
            ]
          },
          "execution_count": 19,
          "metadata": {},
          "output_type": "execute_result"
        }
      ],
      "source": [
        "{item.strip().replace('\\'', '').lower() for item in df[f'ill_fliter_answer'].unique()}"
      ]
    },
    {
      "cell_type": "code",
      "execution_count": 20,
      "metadata": {
        "id": "lJTiGlVFkQ-a"
      },
      "outputs": [],
      "source": [
        "classes = {\n",
        "    'FashionMnist': ['T-shirt/top', 'Trouser', 'Pullover', 'Dress', 'Coat', 'Sandal', 'Shirt', 'Sneaker', 'Bag', 'Ankle boot', 'No illusion'],\n",
        "    # 'Mnist': ['digit 0', 'digit 1', 'digit 2', 'digit 3', 'digit 4', 'digit 5', 'digit 6', 'digit 7', 'digit 8', 'digit 9', 'No illusion'],\n",
        "    'Mnist': ['0', '1', '2', '3', '4', '5', '6', '7', '8', '9', 'no hidden digit'],\n",
        "    'IllusionAnimals': ['cat', 'dog', 'pigeon', 'butterfly', 'elephant', 'horse', 'deer', 'snake', 'fish', 'rooster', 'No illusion' ],\n",
        "}\n",
        "\n",
        "# idx2label = {idx: label.strip().lower() for idx, label in enumerate(classes[dataset])}\n",
        "# # y_true = list(df['label'].apply(lambda x: idx2label[x].strip().lower())) + list(df['label'].apply(lambda x: 'no illusion'))\n",
        "# if dataset == 'IllusionAnimals':\n",
        "#     y_true = list(df['label'].apply(lambda x: x.strip().lower())) + list(df['label'].apply(lambda x: 'no hidden digit'))\n",
        "# else:\n",
        "#     y_true = list(df['label'].apply(lambda x: idx2label[x].strip().lower())) + list(df['label'].apply(lambda x: 'no hidden digit'))\n",
        "\n",
        "\n",
        "# # y_pred = list(df[f'ill_fliter_answer'].apply(lambda x: x.strip().replace('\\'', '').lower())) + list(df[f'illless_filter_answer'].apply(lambda x: x.strip().replace('\\'', '').lower()))\n",
        "# # y_pred = list(df[f'ill_fliter_answer'].apply(lambda x: find_class(x, classes[dataset]).strip().replace('\\'', '').lower())) + list(df[f'illless_filter_answer'].apply(lambda x: find_class(x, classes[dataset]).strip().replace('\\'', '').lower()))\n",
        "\n",
        "# y_pred = list(df.apply(lambda row: find_class(row['ill_fliter_answer'], idx2label[row['label']].strip().lower(), classes[dataset]).strip().replace('\\'', '').lower(), axis=1)) \\\n",
        "#     + list(df.apply(lambda row: find_class(row['illless_filter_answer'], idx2label[row['label']].strip().lower(), classes[dataset]).strip().replace('\\'', '').lower(), axis=1)) \n",
        "\n",
        "\n",
        "idx2label = {idx: label.strip().lower() for idx, label in enumerate(classes[dataset])}\n",
        "if dataset == 'IllusionAnimals':\n",
        "    # y_true = list(df['label'].apply(lambda x: x.strip().lower())) + list(df['label'].apply(lambda x: 'no illusion'))\n",
        "    y_true = list(df['label'].apply(lambda x: x.strip().lower())) + list(df.filter(items=illusionless_indexes, axis=0)['label'].apply(lambda x: 'no hidden digit'))\n",
        "else:\n",
        "    # y_true = list(df['label'].apply(lambda x: idx2label[x].strip().lower())) + list(df['label'].apply(lambda x: 'no illusion'))\n",
        "    y_true = list(df['label'].apply(lambda x: idx2label[x].strip().lower())) + list(df.filter(items=illusionless_indexes, axis=0)['label'].apply(lambda x: 'no hidden digit'))\n",
        "\n",
        "# y_pred = list(df[f'ill_answer'].apply(lambda x: find_class(x, classes[dataset]).strip().replace('\\'', '').lower())) \\\n",
        "#     + list(df[f'ill_less_answer'].apply(lambda x: find_class(x, classes[dataset]).strip().replace('\\'', '').lower()))\n",
        "y_pred = list(df[f'ill_fliter_answer'].apply(lambda x: find_class(x, classes[dataset]).strip().replace('\\'', '').lower())) \\\n",
        "    + list(df.filter(items=illusionless_indexes, axis=0)[f'illless_filter_answer'].apply(lambda x: find_class(x, classes[dataset]).strip().replace('\\'', '').lower()))\n"
      ]
    },
    {
      "cell_type": "code",
      "execution_count": 21,
      "metadata": {
        "colab": {
          "base_uri": "https://localhost:8080/"
        },
        "id": "7o3_aIU3DsQA",
        "outputId": "2858660b-ef5b-449c-bbf4-657d136f5149"
      },
      "outputs": [
        {
          "data": {
            "text/plain": [
              "{'0', 'digits', 'no hidden digit'}"
            ]
          },
          "execution_count": 21,
          "metadata": {},
          "output_type": "execute_result"
        }
      ],
      "source": [
        "set(y_pred)"
      ]
    },
    {
      "cell_type": "code",
      "execution_count": 22,
      "metadata": {},
      "outputs": [
        {
          "data": {
            "text/plain": [
              "{'0', '1', '2', '3', '4', '5', '6', '7', '8', '9', 'no hidden digit'}"
            ]
          },
          "execution_count": 22,
          "metadata": {},
          "output_type": "execute_result"
        }
      ],
      "source": [
        "set(y_true)"
      ]
    },
    {
      "cell_type": "code",
      "execution_count": 23,
      "metadata": {
        "colab": {
          "base_uri": "https://localhost:8080/"
        },
        "id": "-oI4HYT6kQ78",
        "outputId": "776d672d-3939-4248-9086-4be78ebe21a2"
      },
      "outputs": [
        {
          "name": "stdout",
          "output_type": "stream",
          "text": [
            "Accuracy: 8.86\n",
            "Precision: 0.74\n",
            "Recall: 8.18\n",
            "F1 score: 1.36\n"
          ]
        },
        {
          "name": "stderr",
          "output_type": "stream",
          "text": [
            "d:\\anaconda3\\lib\\site-packages\\sklearn\\metrics\\_classification.py:1221: UndefinedMetricWarning: Precision is ill-defined and being set to 0.0 in labels with no predicted samples. Use `zero_division` parameter to control this behavior.\n",
            "  _warn_prf(average, modifier, msg_start, len(result))\n",
            "d:\\anaconda3\\lib\\site-packages\\sklearn\\metrics\\_classification.py:1221: UndefinedMetricWarning: Recall is ill-defined and being set to 0.0 in labels with no true samples. Use `zero_division` parameter to control this behavior.\n",
            "  _warn_prf(average, modifier, msg_start, len(result))\n"
          ]
        }
      ],
      "source": [
        "accuracy = accuracy_score(y_true, y_pred)\n",
        "precision = precision_score(y_true, y_pred, average='macro')\n",
        "recall = recall_score(y_true, y_pred, average='macro')\n",
        "f1 = f1_score(y_true, y_pred, average='macro')\n",
        "\n",
        "print(\"Accuracy:\", round(accuracy*100, 2))\n",
        "print(\"Precision:\", round(precision*100,2))\n",
        "print(\"Recall:\", round(recall*100,2))\n",
        "print(\"F1 score:\", round(f1*100, 2))\n",
        "# Accuracy: 0.48467087466185754\n",
        "# Precision: 0.037967083421628876\n",
        "# Recall: 0.07456474994797808\n",
        "# F1 score: 0.05031475977627484\n",
        "# after changing\n",
        "# Accuracy: 0.48467087466185754\n",
        "# Precision: 0.037967083421628876\n",
        "# Recall: 0.07456474994797808\n",
        "# F1 score: 0.05031475977627484"
      ]
    },
    {
      "cell_type": "markdown",
      "metadata": {
        "id": "3gtFmv5DEa8x"
      },
      "source": [
        "# FashionMnist"
      ]
    },
    {
      "cell_type": "code",
      "execution_count": 24,
      "metadata": {
        "id": "qq1jf25ZEhjP"
      },
      "outputs": [],
      "source": [
        "from sklearn.metrics import accuracy_score, precision_score, recall_score, f1_score\n",
        "import pandas as pd\n",
        "dataset = 'FashionMnist'\n",
        "# dataset = 'IllusionAnimals'\n",
        "\n",
        "# df = pd.read_csv(f'Gemini_{dataset}_results.csv')\n",
        "df = pd.read_csv(f'FashionMnist_KOSMOS-2_results_rostamP.csv')"
      ]
    },
    {
      "cell_type": "code",
      "execution_count": 25,
      "metadata": {
        "colab": {
          "base_uri": "https://localhost:8080/",
          "height": 1000
        },
        "id": "RFGCVYaaEhjP",
        "outputId": "c788a42b-ff3a-4f26-f45f-febac5411d8c"
      },
      "outputs": [
        {
          "data": {
            "text/html": [
              "<div>\n",
              "<style scoped>\n",
              "    .dataframe tbody tr th:only-of-type {\n",
              "        vertical-align: middle;\n",
              "    }\n",
              "\n",
              "    .dataframe tbody tr th {\n",
              "        vertical-align: top;\n",
              "    }\n",
              "\n",
              "    .dataframe thead th {\n",
              "        text-align: right;\n",
              "    }\n",
              "</style>\n",
              "<table border=\"1\" class=\"dataframe\">\n",
              "  <thead>\n",
              "    <tr style=\"text-align: right;\">\n",
              "      <th></th>\n",
              "      <th>image_name</th>\n",
              "      <th>Pprompt</th>\n",
              "      <th>Nprompt</th>\n",
              "      <th>illusion_strength</th>\n",
              "      <th>label</th>\n",
              "      <th>raw_answer</th>\n",
              "      <th>ill_answer</th>\n",
              "      <th>illless_answer</th>\n",
              "      <th>ill_fliter_answer</th>\n",
              "      <th>illless_filter_answer</th>\n",
              "    </tr>\n",
              "  </thead>\n",
              "  <tbody>\n",
              "    <tr>\n",
              "      <th>0</th>\n",
              "      <td>FashionMnist_1</td>\n",
              "      <td>Two friends hiking on a mountain during sunset</td>\n",
              "      <td>low quality</td>\n",
              "      <td>1.5</td>\n",
              "      <td>9</td>\n",
              "      <td>T-shirt</td>\n",
              "      <td>T-shirt</td>\n",
              "      <td>T-shirt</td>\n",
              "      <td>T-shirt</td>\n",
              "      <td>T-shirt</td>\n",
              "    </tr>\n",
              "    <tr>\n",
              "      <th>1</th>\n",
              "      <td>FashionMnist_2</td>\n",
              "      <td>A starry night sky with constellations glowing</td>\n",
              "      <td>low quality</td>\n",
              "      <td>1.5</td>\n",
              "      <td>2</td>\n",
              "      <td>T-shirt</td>\n",
              "      <td>'Top'</td>\n",
              "      <td>'illusion'</td>\n",
              "      <td>'Top'</td>\n",
              "      <td>T-shirt</td>\n",
              "    </tr>\n",
              "    <tr>\n",
              "      <th>2</th>\n",
              "      <td>FashionMnist_3</td>\n",
              "      <td>A Thanksgiving feast giving thanks and love</td>\n",
              "      <td>low quality</td>\n",
              "      <td>1.5</td>\n",
              "      <td>1</td>\n",
              "      <td>T-shirt</td>\n",
              "      <td>T-shirt, top, trouser, sweater, coat, sweater</td>\n",
              "      <td>T-shirt</td>\n",
              "      <td>'Top'</td>\n",
              "      <td>T-shirt</td>\n",
              "    </tr>\n",
              "    <tr>\n",
              "      <th>3</th>\n",
              "      <td>FashionMnist_4</td>\n",
              "      <td>A gecko on a large leaf in a tropical rainforest</td>\n",
              "      <td>low quality</td>\n",
              "      <td>1.5</td>\n",
              "      <td>1</td>\n",
              "      <td>'Top'</td>\n",
              "      <td>'Top'</td>\n",
              "      <td>'Top'</td>\n",
              "      <td>'Top'</td>\n",
              "      <td>'Top'</td>\n",
              "    </tr>\n",
              "    <tr>\n",
              "      <th>4</th>\n",
              "      <td>FashionMnist_5</td>\n",
              "      <td>A Hanukkah menorah lighting symbolizing faith</td>\n",
              "      <td>low quality</td>\n",
              "      <td>1.5</td>\n",
              "      <td>6</td>\n",
              "      <td>T-shirt</td>\n",
              "      <td>'Top'</td>\n",
              "      <td>T-shirt</td>\n",
              "      <td>T-shirt</td>\n",
              "      <td>T-shirt</td>\n",
              "    </tr>\n",
              "    <tr>\n",
              "      <th>...</th>\n",
              "      <td>...</td>\n",
              "      <td>...</td>\n",
              "      <td>...</td>\n",
              "      <td>...</td>\n",
              "      <td>...</td>\n",
              "      <td>...</td>\n",
              "      <td>...</td>\n",
              "      <td>...</td>\n",
              "      <td>...</td>\n",
              "      <td>...</td>\n",
              "    </tr>\n",
              "    <tr>\n",
              "      <th>1147</th>\n",
              "      <td>FashionMnist_1148</td>\n",
              "      <td>Electrified waterfalls cascade, neon rivers re...</td>\n",
              "      <td>low quality</td>\n",
              "      <td>1.5</td>\n",
              "      <td>2</td>\n",
              "      <td>'Sneakers'</td>\n",
              "      <td>yes</td>\n",
              "      <td>yes</td>\n",
              "      <td>yes</td>\n",
              "      <td>yes</td>\n",
              "    </tr>\n",
              "    <tr>\n",
              "      <th>1148</th>\n",
              "      <td>FashionMnist_1149</td>\n",
              "      <td>A rocky desert landscape with cacti and tumble...</td>\n",
              "      <td>low quality</td>\n",
              "      <td>1.5</td>\n",
              "      <td>2</td>\n",
              "      <td>'Tshirt/Top'</td>\n",
              "      <td>T-shirt</td>\n",
              "      <td>T-shirt</td>\n",
              "      <td>'No Hidden Object'</td>\n",
              "      <td>yes</td>\n",
              "    </tr>\n",
              "    <tr>\n",
              "      <th>1149</th>\n",
              "      <td>FashionMnist_1150</td>\n",
              "      <td>A majestic waterfall plunging into a crystal-c...</td>\n",
              "      <td>low quality</td>\n",
              "      <td>1.5</td>\n",
              "      <td>5</td>\n",
              "      <td>'Anklets'</td>\n",
              "      <td>yes</td>\n",
              "      <td>yes</td>\n",
              "      <td>yes</td>\n",
              "      <td>yes</td>\n",
              "    </tr>\n",
              "    <tr>\n",
              "      <th>1150</th>\n",
              "      <td>FashionMnist_1151</td>\n",
              "      <td>Eerie silence surrounds snowy mountains, glowi...</td>\n",
              "      <td>low quality</td>\n",
              "      <td>1.5</td>\n",
              "      <td>3</td>\n",
              "      <td>T-shirt</td>\n",
              "      <td>yes</td>\n",
              "      <td>Yes</td>\n",
              "      <td>'Tshirt/Top'</td>\n",
              "      <td>yes</td>\n",
              "    </tr>\n",
              "    <tr>\n",
              "      <th>1151</th>\n",
              "      <td>FashionMnist_1152</td>\n",
              "      <td>A quaint village nestled in the rolling green ...</td>\n",
              "      <td>low quality</td>\n",
              "      <td>1.5</td>\n",
              "      <td>7</td>\n",
              "      <td>'Tshirt'</td>\n",
              "      <td>yes</td>\n",
              "      <td>T-shirt</td>\n",
              "      <td>yes</td>\n",
              "      <td>yes</td>\n",
              "    </tr>\n",
              "  </tbody>\n",
              "</table>\n",
              "<p>1152 rows × 10 columns</p>\n",
              "</div>"
            ],
            "text/plain": [
              "             image_name                                            Pprompt  \\\n",
              "0        FashionMnist_1     Two friends hiking on a mountain during sunset   \n",
              "1        FashionMnist_2     A starry night sky with constellations glowing   \n",
              "2        FashionMnist_3        A Thanksgiving feast giving thanks and love   \n",
              "3        FashionMnist_4   A gecko on a large leaf in a tropical rainforest   \n",
              "4        FashionMnist_5      A Hanukkah menorah lighting symbolizing faith   \n",
              "...                 ...                                                ...   \n",
              "1147  FashionMnist_1148  Electrified waterfalls cascade, neon rivers re...   \n",
              "1148  FashionMnist_1149  A rocky desert landscape with cacti and tumble...   \n",
              "1149  FashionMnist_1150  A majestic waterfall plunging into a crystal-c...   \n",
              "1150  FashionMnist_1151  Eerie silence surrounds snowy mountains, glowi...   \n",
              "1151  FashionMnist_1152  A quaint village nestled in the rolling green ...   \n",
              "\n",
              "          Nprompt  illusion_strength  label    raw_answer  \\\n",
              "0     low quality                1.5      9       T-shirt   \n",
              "1     low quality                1.5      2       T-shirt   \n",
              "2     low quality                1.5      1       T-shirt   \n",
              "3     low quality                1.5      1         'Top'   \n",
              "4     low quality                1.5      6       T-shirt   \n",
              "...           ...                ...    ...           ...   \n",
              "1147  low quality                1.5      2    'Sneakers'   \n",
              "1148  low quality                1.5      2  'Tshirt/Top'   \n",
              "1149  low quality                1.5      5     'Anklets'   \n",
              "1150  low quality                1.5      3       T-shirt   \n",
              "1151  low quality                1.5      7      'Tshirt'   \n",
              "\n",
              "                                         ill_answer illless_answer  \\\n",
              "0                                           T-shirt        T-shirt   \n",
              "1                                             'Top'     'illusion'   \n",
              "2     T-shirt, top, trouser, sweater, coat, sweater        T-shirt   \n",
              "3                                             'Top'          'Top'   \n",
              "4                                             'Top'        T-shirt   \n",
              "...                                             ...            ...   \n",
              "1147                                            yes            yes   \n",
              "1148                                        T-shirt        T-shirt   \n",
              "1149                                            yes            yes   \n",
              "1150                                            yes            Yes   \n",
              "1151                                            yes        T-shirt   \n",
              "\n",
              "       ill_fliter_answer illless_filter_answer  \n",
              "0                T-shirt               T-shirt  \n",
              "1                  'Top'               T-shirt  \n",
              "2                  'Top'               T-shirt  \n",
              "3                  'Top'                 'Top'  \n",
              "4                T-shirt               T-shirt  \n",
              "...                  ...                   ...  \n",
              "1147                 yes                   yes  \n",
              "1148  'No Hidden Object'                   yes  \n",
              "1149                 yes                   yes  \n",
              "1150        'Tshirt/Top'                   yes  \n",
              "1151                 yes                   yes  \n",
              "\n",
              "[1152 rows x 10 columns]"
            ]
          },
          "execution_count": 25,
          "metadata": {},
          "output_type": "execute_result"
        }
      ],
      "source": [
        "df"
      ]
    },
    {
      "cell_type": "code",
      "execution_count": 26,
      "metadata": {},
      "outputs": [],
      "source": [
        "# import torch\n",
        "import numpy as np\n",
        "import random\n",
        "\n",
        "# Make reproducible code\n",
        "GLOBAL_SEED = 10\n",
        "\n",
        "np.random.seed(GLOBAL_SEED)\n",
        "random.seed(GLOBAL_SEED)\n",
        "# torch.manual_seed(GLOBAL_SEED)\n",
        "# torch.use_deterministic_algorithms(True)\n",
        "# %env CUBLAS_WORKSPACE_CONFIG=:4096:8\n",
        "\n",
        "# torch.backends.cudnn.deterministic = True\n",
        "# torch.backends.cudnn.benchmark = False\n",
        "\n",
        "illusionless_indexes = random.sample(range(len(df)), int(len(df)*0.1))"
      ]
    },
    {
      "cell_type": "code",
      "execution_count": 27,
      "metadata": {
        "id": "gyM22DZWEhjQ"
      },
      "outputs": [],
      "source": [
        "raw_classes = {\n",
        "    'FashionMnist': ['T-shirt/top', 'Trouser', 'Pullover', 'Dress', 'Coat', 'Sandal', 'Shirt', 'Sneaker', 'Bag', 'Ankle boot'],\n",
        "    'Mnist': ['digit 0', 'digit 1', 'digit 2', 'digit 3', 'digit 4', 'digit 5', 'digit 6', 'digit 7', 'digit 8', 'digit 9'],\n",
        "    'IllusionAnimals': ['cat', 'dog', 'pigeon', 'butterfly', 'elephant', 'horse', 'deer', 'snake', 'fish', 'rooster' ],\n",
        "}\n",
        "\n",
        "classes = {\n",
        "    # 'FashionMnist': ['T-shirt/top', 'Trouser', 'Pullover', 'Dress', 'Coat', 'Sandal', 'Shirt', 'Sneaker', 'Bag', 'Ankle boot', 'No illusion'],\n",
        "    'FashionMnist': ['T-shirt/top', 'Trouser', 'Pullover', 'Dress', 'Coat', 'Sandal', 'Shirt', 'Sneaker', 'Bag', 'Ankle boot', 'No Hidden Object'],\n",
        "    'Mnist': ['digit 0', 'digit 1', 'digit 2', 'digit 3', 'digit 4', 'digit 5', 'digit 6', 'digit 7', 'digit 8', 'digit 9', 'No illusion'],\n",
        "    'IllusionAnimals': ['cat', 'dog', 'pigeon', 'butterfly', 'elephant', 'horse', 'deer', 'snake', 'fish', 'rooster', 'No illusion' ],\n",
        "}\n"
      ]
    },
    {
      "cell_type": "code",
      "execution_count": 28,
      "metadata": {
        "colab": {
          "base_uri": "https://localhost:8080/"
        },
        "id": "ucLNnQi4EhjQ",
        "outputId": "f5c3c794-b08f-41e6-abca-561e82ad38c0"
      },
      "outputs": [
        {
          "data": {
            "text/plain": [
              "{'anklets',\n",
              " 'class',\n",
              " 'footwear',\n",
              " 'gap',\n",
              " 'shoe',\n",
              " 'shoes',\n",
              " 'sneakers',\n",
              " 'sweatpants',\n",
              " 't-shirt',\n",
              " 'top',\n",
              " 'trousers',\n",
              " 'tshirt',\n",
              " 'tshirt/top'}"
            ]
          },
          "execution_count": 28,
          "metadata": {},
          "output_type": "execute_result"
        }
      ],
      "source": [
        "{item.strip().replace('\\'', '').lower() for item in df[f'raw_answer'].unique()}"
      ]
    },
    {
      "cell_type": "code",
      "execution_count": 29,
      "metadata": {
        "colab": {
          "base_uri": "https://localhost:8080/"
        },
        "id": "b8XBoA1XEhjQ",
        "outputId": "96dd6f5f-2f60-44f7-f79c-a0dd9883072b"
      },
      "outputs": [
        {
          "data": {
            "text/plain": [
              "['T-shirt/top',\n",
              " 'Trouser',\n",
              " 'Pullover',\n",
              " 'Dress',\n",
              " 'Coat',\n",
              " 'Sandal',\n",
              " 'Shirt',\n",
              " 'Sneaker',\n",
              " 'Bag',\n",
              " 'Ankle boot']"
            ]
          },
          "execution_count": 29,
          "metadata": {},
          "output_type": "execute_result"
        }
      ],
      "source": [
        "raw_classes[dataset]"
      ]
    },
    {
      "cell_type": "code",
      "execution_count": 30,
      "metadata": {
        "id": "G2VZ_VB6EhjR"
      },
      "outputs": [],
      "source": [
        "def find_class(x, classes):\n",
        "    for item in classes:\n",
        "        if item.lower() == 'T-shirt/top'.lower():\n",
        "            if 'T-shirt'.lower() in x.lower() or 'top'.lower() in x.lower():\n",
        "                return item\n",
        "        elif item.lower() in x.lower():\n",
        "            return item\n",
        "    return x\n",
        "    \n",
        "# def find_class(x, correct_label, classes):\n",
        "#     lower_x = x.lower()\n",
        "#     lower_classes = [item.lower() for item in classes]\n",
        "    \n",
        "#     found_classes = []\n",
        "#     for item in classes:\n",
        "#         if item.lower() == 'T-shirt/top'.lower():\n",
        "#             if 'T-shirt'.lower() in x.lower() or 'top'.lower() in x.lower():\n",
        "#                 found_classes.append(item.lower())\n",
        "#         elif item.lower() in x.lower():\n",
        "#             found_classes.append(item.lower())\n",
        "\n",
        "#     if len(found_classes) == len(classes):\n",
        "#         return 'all'\n",
        "#     elif correct_label.lower() in lower_classes and any(item.lower() == correct_label.lower() for item in found_classes):\n",
        "#         return correct_label\n",
        "#     elif found_classes:\n",
        "#         return found_classes[0]\n",
        "#     else:\n",
        "#         return x\n",
        "    \n",
        "# print(find_class('tshirt/top', 't-shirt/top', raw_classes[dataset]))\n",
        "# print(find_class('top', 'tshirt/top', raw_classes[dataset]))\n",
        "# print(find_class('t-shirt', 'tshirt/top', raw_classes[dataset]))\n",
        "# print(find_class('T-shirt, top, trouser, sweater, coat, pullover, sweater. The image is of a group of dolphins jumping out of the water.', 'trouser', raw_classes[dataset]))\n",
        "# print(find_class('T-shirt, top, trouser, sweater, coat, pullover, sweater. The image is of a group of dolphins jumping out of the water.', 'shirt', raw_classes[dataset]))\n",
        "# print(find_class('T-shirt, top, trouser, sweater, pullover, coat, sweater. The image is a dark alley with a row of lanterns hanging from the walls.', 'coat', raw_classes[dataset]))\n",
        "# print(find_class('T-shirt, top, trouser, sweater, pullover, coat, sweater. The image is a dark alley with a row of lanterns hanging from the walls.', 'dress', raw_classes[dataset]))\n",
        "# print(find_class(\"'T-shirt/top', 'Trouser', 'Pullover', 'Dress', 'Coat', 'Sandal', 'Shirt', 'Sneaker', 'Bag', 'Ankle boot'\", 'Bag', raw_classes[dataset]))"
      ]
    },
    {
      "cell_type": "code",
      "execution_count": 31,
      "metadata": {
        "id": "H6wMf9NoEhjR"
      },
      "outputs": [],
      "source": [
        "df['raw_answer'] = df['raw_answer'].apply(lambda x: find_class(x, raw_classes[dataset]))\n",
        "\n",
        "# idx2label = {idx: label.strip().lower() for idx, label in enumerate(classes[dataset])}\n",
        "\n",
        "# df['raw_answer'] = df.apply(lambda row: find_class(row['raw_answer'], idx2label[row['label']].strip().lower(), classes[dataset]), axis=1)"
      ]
    },
    {
      "cell_type": "code",
      "execution_count": 32,
      "metadata": {
        "colab": {
          "base_uri": "https://localhost:8080/"
        },
        "id": "9bRea89ZEhjR",
        "outputId": "9bc757ef-a54c-4211-859f-36d3db97824b"
      },
      "outputs": [
        {
          "data": {
            "text/plain": [
              "{'anklets',\n",
              " 'class',\n",
              " 'footwear',\n",
              " 'gap',\n",
              " 'shirt',\n",
              " 'shoe',\n",
              " 'shoes',\n",
              " 'sneaker',\n",
              " 'sweatpants',\n",
              " 't-shirt/top',\n",
              " 'trouser'}"
            ]
          },
          "execution_count": 32,
          "metadata": {},
          "output_type": "execute_result"
        }
      ],
      "source": [
        "{item.strip().replace('\\'', '').lower() for item in df[f'raw_answer'].unique()}"
      ]
    },
    {
      "cell_type": "markdown",
      "metadata": {
        "id": "qR-2I2guEhjS"
      },
      "source": [
        "## Raw"
      ]
    },
    {
      "cell_type": "code",
      "execution_count": 33,
      "metadata": {
        "id": "7dry-P97EhjS"
      },
      "outputs": [],
      "source": [
        "idx2label = {idx: label.strip().lower() for idx, label in enumerate(classes[dataset])}\n",
        "if dataset == 'IllusionAnimals':\n",
        "    y_true = df['label'].apply(lambda x: x.strip().lower())\n",
        "else:\n",
        "    y_true = df['label'].apply(lambda x: idx2label[x].strip().lower())\n",
        "y_pred = df[f'raw_answer'].apply(lambda x: x.strip().replace('\\'', '').lower())"
      ]
    },
    {
      "cell_type": "code",
      "execution_count": 34,
      "metadata": {
        "colab": {
          "base_uri": "https://localhost:8080/"
        },
        "id": "vSWZFu5qEhjS",
        "outputId": "4bb290d1-dfd2-4725-af2a-0e8e79116422"
      },
      "outputs": [
        {
          "data": {
            "text/plain": [
              "{'anklets',\n",
              " 'class',\n",
              " 'footwear',\n",
              " 'gap',\n",
              " 'shirt',\n",
              " 'shoe',\n",
              " 'shoes',\n",
              " 'sneaker',\n",
              " 'sweatpants',\n",
              " 't-shirt/top',\n",
              " 'trouser'}"
            ]
          },
          "execution_count": 34,
          "metadata": {},
          "output_type": "execute_result"
        }
      ],
      "source": [
        "set(list(y_pred))"
      ]
    },
    {
      "cell_type": "code",
      "execution_count": 35,
      "metadata": {},
      "outputs": [
        {
          "data": {
            "text/plain": [
              "{'ankle boot',\n",
              " 'bag',\n",
              " 'coat',\n",
              " 'dress',\n",
              " 'pullover',\n",
              " 'sandal',\n",
              " 'shirt',\n",
              " 'sneaker',\n",
              " 't-shirt/top',\n",
              " 'trouser'}"
            ]
          },
          "execution_count": 35,
          "metadata": {},
          "output_type": "execute_result"
        }
      ],
      "source": [
        "set(list(y_true))"
      ]
    },
    {
      "cell_type": "code",
      "execution_count": 36,
      "metadata": {
        "colab": {
          "base_uri": "https://localhost:8080/"
        },
        "id": "7WXcN8nzEhjS",
        "outputId": "e091b2ce-448c-4a67-eab6-e77b913c8018"
      },
      "outputs": [
        {
          "name": "stdout",
          "output_type": "stream",
          "text": [
            "Accuracy: 12.07\n",
            "Precision: 5.82\n",
            "Recall: 6.97\n",
            "F1 score: 2.99\n"
          ]
        },
        {
          "name": "stderr",
          "output_type": "stream",
          "text": [
            "d:\\anaconda3\\lib\\site-packages\\sklearn\\metrics\\_classification.py:1221: UndefinedMetricWarning: Precision is ill-defined and being set to 0.0 in labels with no predicted samples. Use `zero_division` parameter to control this behavior.\n",
            "  _warn_prf(average, modifier, msg_start, len(result))\n",
            "d:\\anaconda3\\lib\\site-packages\\sklearn\\metrics\\_classification.py:1221: UndefinedMetricWarning: Recall is ill-defined and being set to 0.0 in labels with no true samples. Use `zero_division` parameter to control this behavior.\n",
            "  _warn_prf(average, modifier, msg_start, len(result))\n"
          ]
        }
      ],
      "source": [
        "accuracy = accuracy_score(y_true, y_pred)\n",
        "precision = precision_score(y_true, y_pred, average='macro')\n",
        "recall = recall_score(y_true, y_pred, average='macro')\n",
        "f1 = f1_score(y_true, y_pred, average='macro')\n",
        "\n",
        "print(\"Accuracy:\", round(accuracy*100, 2))\n",
        "print(\"Precision:\", round(precision*100,2))\n",
        "print(\"Recall:\", round(recall*100,2))\n",
        "print(\"F1 score:\", round(f1*100, 2))\n",
        "# Accuracy: 0.12065972222222222\n",
        "# Precision: 0.05819461914174168\n",
        "# Recall: 0.0696900177869036\n",
        "# F1 score: 0.029801713788963863\n",
        "# \n",
        "# Accuracy: 0.1440972222222222\n",
        "# Precision: 0.10510238120375176\n",
        "# Recall: 0.08350075947488314\n",
        "# F1 score: 0.05143833983559234"
      ]
    },
    {
      "cell_type": "markdown",
      "metadata": {
        "id": "jkkopyEhEhjS"
      },
      "source": [
        "## Illusion"
      ]
    },
    {
      "cell_type": "code",
      "execution_count": 37,
      "metadata": {
        "id": "yEGVsddXEhjS"
      },
      "outputs": [],
      "source": [
        "classes = {\n",
        "    # 'FashionMnist': ['T-shirt/top', 'Trouser', 'Pullover', 'Dress', 'Coat', 'Sandal', 'Shirt', 'Sneaker', 'Bag', 'Ankle boot', 'no illusion'],\n",
        "    'FashionMnist': ['T-shirt/top', 'Trouser', 'Pullover', 'Dress', 'Coat', 'Sandal', 'Shirt', 'Sneaker', 'Bag', 'Ankle boot', 'No Hidden Object'],\n",
        "    'Mnist': ['digit 0', 'digit 1', 'digit 2', 'digit 3', 'digit 4', 'digit 5', 'digit 6', 'digit 7', 'digit 8', 'digit 9', 'no illusion'],\n",
        "    'IllusionAnimals': ['cat', 'dog', 'pigeon', 'butterfly', 'elephant', 'horse', 'deer', 'snake', 'fish', 'rooster' , 'no illusion'],\n",
        "}\n",
        "# idx2label = {idx: label.strip().lower() for idx, label in enumerate(classes[dataset])}\n",
        "# if dataset == 'IllusionAnimals':\n",
        "#     y_true = list(df['label'].apply(lambda x: x.strip().lower())) + list(df['label'].apply(lambda x: 'no hidden object'))\n",
        "# else:\n",
        "#     y_true = list(df['label'].apply(lambda x: idx2label[x].strip().lower())) + list(df['label'].apply(lambda x: 'no hidden object'))\n",
        "\n",
        "# # y_true = list(df['label'].apply(lambda x: idx2label[x].strip().lower())) + list(df['label'].apply(lambda x: 'no illusion'))\n",
        "\n",
        "# # y_pred = list(df[f'ill_images'].apply(lambda x: x.strip().replace('\\'', '').lower())) + list(df[f'illusionless_images'].apply(lambda x: x.strip().replace('\\'', '').lower()))\n",
        "\n",
        "# # y_pred = list(df[f'ill_answer'].apply(lambda x: find_class(x, classes[dataset]).strip().replace('\\'', '').lower())) \\\n",
        "# #     + list(df[f'illless_answer'].apply(lambda x: find_class(x, classes[dataset]).strip().replace('\\'', '').lower()))\n",
        "\n",
        "# y_pred = list(df.apply(lambda row: find_class(row['ill_answer'], idx2label[row['label']].strip().lower(), classes[dataset]).strip().replace('\\'', '').lower(), axis=1)) \\\n",
        "#     + list(df.apply(lambda row: find_class(row['illless_answer'], idx2label[row['label']].strip().lower(), classes[dataset]).strip().replace('\\'', '').lower(), axis=1)) \n",
        "\n",
        "\n",
        "idx2label = {idx: label.strip().lower() for idx, label in enumerate(classes[dataset])}\n",
        "if dataset == 'IllusionAnimals':\n",
        "    # y_true = list(df['label'].apply(lambda x: x.strip().lower())) + list(df['label'].apply(lambda x: 'no illusion'))\n",
        "    y_true = list(df['label'].apply(lambda x: x.strip().lower())) + list(df.filter(items=illusionless_indexes, axis=0)['label'].apply(lambda x: 'no hidden object'))\n",
        "else:\n",
        "    # y_true = list(df['label'].apply(lambda x: idx2label[x].strip().lower())) + list(df['label'].apply(lambda x: 'no illusion'))\n",
        "    y_true = list(df['label'].apply(lambda x: idx2label[x].strip().lower())) + list(df.filter(items=illusionless_indexes, axis=0)['label'].apply(lambda x: 'no hidden object'))\n",
        "\n",
        "# y_pred = list(df[f'ill_answer'].apply(lambda x: find_class(x, classes[dataset]).strip().replace('\\'', '').lower())) \\\n",
        "#     + list(df[f'ill_less_answer'].apply(lambda x: find_class(x, classes[dataset]).strip().replace('\\'', '').lower()))\n",
        "y_pred = list(df[f'ill_answer'].apply(lambda x: find_class(x, classes[dataset]).strip().replace('\\'', '').lower())) \\\n",
        "    + list(df.filter(items=illusionless_indexes, axis=0)[f'illless_answer'].apply(lambda x: find_class(x, classes[dataset]).strip().replace('\\'', '').lower()))\n"
      ]
    },
    {
      "cell_type": "code",
      "execution_count": 38,
      "metadata": {
        "colab": {
          "base_uri": "https://localhost:8080/"
        },
        "id": "T1cI6_4ZGomk",
        "outputId": "8ab2b942-c43d-46c1-baae-5c7b50772dd9"
      },
      "outputs": [
        {
          "data": {
            "text/plain": [
              "['T-shirt/top',\n",
              " 'Trouser',\n",
              " 'Pullover',\n",
              " 'Dress',\n",
              " 'Coat',\n",
              " 'Sandal',\n",
              " 'Shirt',\n",
              " 'Sneaker',\n",
              " 'Bag',\n",
              " 'Ankle boot',\n",
              " 'No Hidden Object']"
            ]
          },
          "execution_count": 38,
          "metadata": {},
          "output_type": "execute_result"
        }
      ],
      "source": [
        "classes[dataset]"
      ]
    },
    {
      "cell_type": "code",
      "execution_count": 39,
      "metadata": {
        "colab": {
          "base_uri": "https://localhost:8080/"
        },
        "id": "4AogypZDEhjT",
        "outputId": "a0af47d0-d3e9-41b9-85e2-67ba8d796b81"
      },
      "outputs": [
        {
          "data": {
            "text/plain": [
              "{'an illusion',\n",
              " 'an illusion of things',\n",
              " 'ancient',\n",
              " 'answer',\n",
              " 'antler',\n",
              " 'class',\n",
              " 'colorful',\n",
              " 'illusion',\n",
              " 'music',\n",
              " 'sloth',\n",
              " 't-shirt/top',\n",
              " 'underwater',\n",
              " 'waterfall',\n",
              " 'yes'}"
            ]
          },
          "execution_count": 39,
          "metadata": {},
          "output_type": "execute_result"
        }
      ],
      "source": [
        "set(y_pred)"
      ]
    },
    {
      "cell_type": "code",
      "execution_count": 40,
      "metadata": {
        "colab": {
          "base_uri": "https://localhost:8080/"
        },
        "id": "7gfLsQhcEhjT",
        "outputId": "6d34466c-e8b1-48c0-b243-e06b684b8fcb"
      },
      "outputs": [
        {
          "data": {
            "text/plain": [
              "{'ankle boot',\n",
              " 'bag',\n",
              " 'coat',\n",
              " 'dress',\n",
              " 'no hidden object',\n",
              " 'pullover',\n",
              " 'sandal',\n",
              " 'shirt',\n",
              " 'sneaker',\n",
              " 't-shirt/top',\n",
              " 'trouser'}"
            ]
          },
          "execution_count": 40,
          "metadata": {},
          "output_type": "execute_result"
        }
      ],
      "source": [
        "set(y_true)"
      ]
    },
    {
      "cell_type": "code",
      "execution_count": 41,
      "metadata": {
        "colab": {
          "base_uri": "https://localhost:8080/"
        },
        "id": "21HX6E7vEhjT",
        "outputId": "97208cd4-e9d9-42d0-cced-c82093a392e1"
      },
      "outputs": [
        {
          "name": "stdout",
          "output_type": "stream",
          "text": [
            "Accuracy: 8.6\n",
            "Precision: 0.39\n",
            "Recall: 3.88\n",
            "F1 score: 0.71\n"
          ]
        },
        {
          "name": "stderr",
          "output_type": "stream",
          "text": [
            "d:\\anaconda3\\lib\\site-packages\\sklearn\\metrics\\_classification.py:1221: UndefinedMetricWarning: Precision is ill-defined and being set to 0.0 in labels with no predicted samples. Use `zero_division` parameter to control this behavior.\n",
            "  _warn_prf(average, modifier, msg_start, len(result))\n",
            "d:\\anaconda3\\lib\\site-packages\\sklearn\\metrics\\_classification.py:1221: UndefinedMetricWarning: Recall is ill-defined and being set to 0.0 in labels with no true samples. Use `zero_division` parameter to control this behavior.\n",
            "  _warn_prf(average, modifier, msg_start, len(result))\n"
          ]
        }
      ],
      "source": [
        "accuracy = accuracy_score(y_true, y_pred)\n",
        "precision = precision_score(y_true, y_pred, average='macro')\n",
        "recall = recall_score(y_true, y_pred, average='macro')\n",
        "f1 = f1_score(y_true, y_pred, average='macro')\n",
        "\n",
        "print(\"Accuracy:\", round(accuracy*100, 2))\n",
        "print(\"Precision:\", round(precision*100,2))\n",
        "print(\"Recall:\", round(recall*100,2))\n",
        "print(\"F1 score:\", round(f1*100, 2))\n",
        "# Accuracy: 0.047309027777777776\n",
        "# Precision: 0.001508650519031142\n",
        "# Recall: 0.027400703871292106\n",
        "# F1 score: 0.0028598415280474366\n",
        "# \n",
        "# Accuracy: 0.10850694444444445\n",
        "# Precision: 0.13915812072653813\n",
        "# Recall: 0.06277173148684859\n",
        "# F1 score: 0.04151364968930629"
      ]
    },
    {
      "cell_type": "markdown",
      "metadata": {
        "id": "zOJ0y5wqEhjT"
      },
      "source": [
        "## Illusion Filtered"
      ]
    },
    {
      "cell_type": "code",
      "execution_count": 42,
      "metadata": {
        "id": "2i0T6WhEEhjT"
      },
      "outputs": [],
      "source": [
        "classes = {\n",
        "    # 'FashionMnist': ['T-shirt/top', 'Trouser', 'Pullover', 'Dress', 'Coat', 'Sandal', 'Shirt', 'Sneaker', 'Bag', 'Ankle boot', 'no illusion'],\n",
        "    'FashionMnist': ['T-shirt/top', 'Trouser', 'Pullover', 'Dress', 'Coat', 'Sandal', 'Shirt', 'Sneaker', 'Bag', 'Ankle boot', 'No Hidden Object'],\n",
        "    'Mnist': ['digit 0', 'digit 1', 'digit 2', 'digit 3', 'digit 4', 'digit 5', 'digit 6', 'digit 7', 'digit 8', 'digit 9', 'no illusion'],\n",
        "    'IllusionAnimals': ['cat', 'dog', 'pigeon', 'butterfly', 'elephant', 'horse', 'deer', 'snake', 'fish', 'rooster' , 'no illusion'],\n",
        "}\n",
        "# idx2label = {idx: label.strip().lower() for idx, label in enumerate(classes[dataset])}\n",
        "# # y_true = list(df['label'].apply(lambda x: idx2label[x].strip().lower())) + list(df['label'].apply(lambda x: 'no illusion'))\n",
        "# if dataset == 'IllusionAnimals':\n",
        "#     y_true = list(df['label'].apply(lambda x: x.strip().lower())) + list(df['label'].apply(lambda x: 'no hidden object'))\n",
        "# else:\n",
        "#     y_true = list(df['label'].apply(lambda x: idx2label[x].strip().lower())) + list(df['label'].apply(lambda x: 'no hidden object'))\n",
        "\n",
        "\n",
        "# # y_pred = list(df[f'ill_fliter_answer'].apply(lambda x: x.strip().replace('\\'', '').lower())) + list(df[f'illless_filter_answer'].apply(lambda x: x.strip().replace('\\'', '').lower()))\n",
        "# # y_pred = list(df[f'ill_fliter_answer'].apply(lambda x: find_class(x, classes[dataset]).strip().replace('\\'', '').lower())) + list(df[f'illless_filter_answer'].apply(lambda x: find_class(x, classes[dataset]).strip().replace('\\'', '').lower()))\n",
        "\n",
        "# y_pred = list(df.apply(lambda row: find_class(row['ill_fliter_answer'], idx2label[row['label']].strip().lower(), classes[dataset]).strip().replace('\\'', '').lower(), axis=1)) \\\n",
        "#     + list(df.apply(lambda row: find_class(row['illless_filter_answer'], idx2label[row['label']].strip().lower(), classes[dataset]).strip().replace('\\'', '').lower(), axis=1)) \n",
        "\n",
        "\n",
        "\n",
        "idx2label = {idx: label.strip().lower() for idx, label in enumerate(classes[dataset])}\n",
        "if dataset == 'IllusionAnimals':\n",
        "    # y_true = list(df['label'].apply(lambda x: x.strip().lower())) + list(df['label'].apply(lambda x: 'no illusion'))\n",
        "    y_true = list(df['label'].apply(lambda x: x.strip().lower())) + list(df.filter(items=illusionless_indexes, axis=0)['label'].apply(lambda x: 'no hidden object'))\n",
        "else:\n",
        "    # y_true = list(df['label'].apply(lambda x: idx2label[x].strip().lower())) + list(df['label'].apply(lambda x: 'no illusion'))\n",
        "    y_true = list(df['label'].apply(lambda x: idx2label[x].strip().lower())) + list(df.filter(items=illusionless_indexes, axis=0)['label'].apply(lambda x: 'no hidden object'))\n",
        "\n",
        "# y_pred = list(df[f'ill_answer'].apply(lambda x: find_class(x, classes[dataset]).strip().replace('\\'', '').lower())) \\\n",
        "#     + list(df[f'ill_less_answer'].apply(lambda x: find_class(x, classes[dataset]).strip().replace('\\'', '').lower()))\n",
        "y_pred = list(df[f'ill_fliter_answer'].apply(lambda x: find_class(x, classes[dataset]).strip().replace('\\'', '').lower())) \\\n",
        "    + list(df.filter(items=illusionless_indexes, axis=0)[f'illless_filter_answer'].apply(lambda x: find_class(x, classes[dataset]).strip().replace('\\'', '').lower()))\n",
        "\n"
      ]
    },
    {
      "cell_type": "code",
      "execution_count": 43,
      "metadata": {
        "colab": {
          "base_uri": "https://localhost:8080/"
        },
        "id": "zOuChJKrEhjT",
        "outputId": "7a034f20-eb3d-4cd7-c965-423f69bb7d62"
      },
      "outputs": [
        {
          "data": {
            "text/plain": [
              "{'ankle boot',\n",
              " 'bag',\n",
              " 'coat',\n",
              " 'dress',\n",
              " 'no hidden object',\n",
              " 'pullover',\n",
              " 'sandal',\n",
              " 'shirt',\n",
              " 'sneaker',\n",
              " 't-shirt/top',\n",
              " 'trouser'}"
            ]
          },
          "execution_count": 43,
          "metadata": {},
          "output_type": "execute_result"
        }
      ],
      "source": [
        "set(y_true)"
      ]
    },
    {
      "cell_type": "code",
      "execution_count": 44,
      "metadata": {},
      "outputs": [
        {
          "data": {
            "text/plain": [
              "{'no hidden object', 't-shirt/top', 'yes'}"
            ]
          },
          "execution_count": 44,
          "metadata": {},
          "output_type": "execute_result"
        }
      ],
      "source": [
        "set(y_pred)"
      ]
    },
    {
      "cell_type": "code",
      "execution_count": 45,
      "metadata": {
        "colab": {
          "base_uri": "https://localhost:8080/"
        },
        "id": "P1X8d8-CEhjU",
        "outputId": "7f3f0f95-fbb1-4460-e246-d33a5bb273c8"
      },
      "outputs": [
        {
          "name": "stdout",
          "output_type": "stream",
          "text": [
            "Accuracy: 9.23\n",
            "Precision: 0.78\n",
            "Recall: 8.33\n",
            "F1 score: 1.42\n"
          ]
        },
        {
          "name": "stderr",
          "output_type": "stream",
          "text": [
            "d:\\anaconda3\\lib\\site-packages\\sklearn\\metrics\\_classification.py:1221: UndefinedMetricWarning: Precision is ill-defined and being set to 0.0 in labels with no predicted samples. Use `zero_division` parameter to control this behavior.\n",
            "  _warn_prf(average, modifier, msg_start, len(result))\n",
            "d:\\anaconda3\\lib\\site-packages\\sklearn\\metrics\\_classification.py:1221: UndefinedMetricWarning: Recall is ill-defined and being set to 0.0 in labels with no true samples. Use `zero_division` parameter to control this behavior.\n",
            "  _warn_prf(average, modifier, msg_start, len(result))\n"
          ]
        }
      ],
      "source": [
        "accuracy = accuracy_score(y_true, y_pred)\n",
        "precision = precision_score(y_true, y_pred, average='macro')\n",
        "recall = recall_score(y_true, y_pred, average='macro')\n",
        "f1 = f1_score(y_true, y_pred, average='macro')\n",
        "\n",
        "print(\"Accuracy:\", round(accuracy*100, 2))\n",
        "print(\"Precision:\", round(precision*100,2))\n",
        "print(\"Recall:\", round(recall*100,2))\n",
        "print(\"F1 score:\", round(f1*100, 2))\n",
        "# Accuracy: 0.05078125\n",
        "# Precision: 0.003947368421052632\n",
        "# Recall: 0.07692307692307693\n",
        "# F1 score: 0.007509386733416771\n",
        "#\n",
        "# Accuracy: 0.06163194444444445\n",
        "# Precision: 0.021018473409825232\n",
        "# Recall: 0.09364548494983278\n",
        "# F1 score: 0.02466944739062471"
      ]
    },
    {
      "cell_type": "markdown",
      "metadata": {
        "id": "kBBHOvjGEmJd"
      },
      "source": [
        "# IllusionAnimals"
      ]
    },
    {
      "cell_type": "code",
      "execution_count": 46,
      "metadata": {
        "id": "qczdxfZHIbp4"
      },
      "outputs": [],
      "source": [
        "from sklearn.metrics import accuracy_score, precision_score, recall_score, f1_score\n",
        "import pandas as pd\n",
        "# dataset = 'FashionMnist'\n",
        "dataset = 'IllusionAnimals'\n",
        "\n",
        "# df = pd.read_csv(f'Gemini_{dataset}_results.csv')\n",
        "df = pd.read_csv(f'IllusionAnimals_KOSMOS-2_results.csv')"
      ]
    },
    {
      "cell_type": "code",
      "execution_count": 47,
      "metadata": {
        "colab": {
          "base_uri": "https://localhost:8080/",
          "height": 1000
        },
        "id": "6EfySlcoIbp4",
        "outputId": "15ea5fc0-2a76-40b7-d975-b6661374b3e7"
      },
      "outputs": [
        {
          "data": {
            "text/html": [
              "<div>\n",
              "<style scoped>\n",
              "    .dataframe tbody tr th:only-of-type {\n",
              "        vertical-align: middle;\n",
              "    }\n",
              "\n",
              "    .dataframe tbody tr th {\n",
              "        vertical-align: top;\n",
              "    }\n",
              "\n",
              "    .dataframe thead th {\n",
              "        text-align: right;\n",
              "    }\n",
              "</style>\n",
              "<table border=\"1\" class=\"dataframe\">\n",
              "  <thead>\n",
              "    <tr style=\"text-align: right;\">\n",
              "      <th></th>\n",
              "      <th>image_name</th>\n",
              "      <th>Pprompt</th>\n",
              "      <th>Nprompt</th>\n",
              "      <th>illusion_strength</th>\n",
              "      <th>label</th>\n",
              "      <th>raw_answer</th>\n",
              "      <th>ill_answer</th>\n",
              "      <th>illless_answer</th>\n",
              "      <th>ill_fliter_answer</th>\n",
              "      <th>illless_filter_answer</th>\n",
              "    </tr>\n",
              "  </thead>\n",
              "  <tbody>\n",
              "    <tr>\n",
              "      <th>0</th>\n",
              "      <td>IllusionAnimals_1</td>\n",
              "      <td>A raging river flowing through a dense jungle ...</td>\n",
              "      <td>low quality</td>\n",
              "      <td>2.5</td>\n",
              "      <td>cat</td>\n",
              "      <td>cat</td>\n",
              "      <td>'horses'</td>\n",
              "      <td>'horses'</td>\n",
              "      <td>'Cat'</td>\n",
              "      <td>'horses'</td>\n",
              "    </tr>\n",
              "    <tr>\n",
              "      <th>1</th>\n",
              "      <td>IllusionAnimals_2</td>\n",
              "      <td>A starry night sky over a tranquil lake</td>\n",
              "      <td>low quality</td>\n",
              "      <td>2.5</td>\n",
              "      <td>cat</td>\n",
              "      <td>cat</td>\n",
              "      <td>'horses'</td>\n",
              "      <td>'Cat'</td>\n",
              "      <td>'dog, pigeon, butterfly, elephant, horse, snak...</td>\n",
              "      <td>'Cat'</td>\n",
              "    </tr>\n",
              "    <tr>\n",
              "      <th>2</th>\n",
              "      <td>IllusionAnimals_3</td>\n",
              "      <td>Jaguar (Panthera Onca) patrolling South Americ...</td>\n",
              "      <td>low quality</td>\n",
              "      <td>2.5</td>\n",
              "      <td>cat</td>\n",
              "      <td>cat</td>\n",
              "      <td>'pig'</td>\n",
              "      <td>'elephant'</td>\n",
              "      <td>cat</td>\n",
              "      <td>cat</td>\n",
              "    </tr>\n",
              "    <tr>\n",
              "      <th>3</th>\n",
              "      <td>IllusionAnimals_4</td>\n",
              "      <td>Flowing lava illuminates cavern walls, ancient...</td>\n",
              "      <td>low quality</td>\n",
              "      <td>2.5</td>\n",
              "      <td>cat</td>\n",
              "      <td>cat</td>\n",
              "      <td>'Cat'</td>\n",
              "      <td>'horses'</td>\n",
              "      <td>cat</td>\n",
              "      <td>'Cat'</td>\n",
              "    </tr>\n",
              "    <tr>\n",
              "      <th>4</th>\n",
              "      <td>IllusionAnimals_5</td>\n",
              "      <td>Dense forest canopy, sunlight filters through,...</td>\n",
              "      <td>low quality</td>\n",
              "      <td>2.5</td>\n",
              "      <td>cat</td>\n",
              "      <td>cat</td>\n",
              "      <td>'Cat'</td>\n",
              "      <td>'horses'</td>\n",
              "      <td>'Cat'</td>\n",
              "      <td>'Cat'</td>\n",
              "    </tr>\n",
              "    <tr>\n",
              "      <th>...</th>\n",
              "      <td>...</td>\n",
              "      <td>...</td>\n",
              "      <td>...</td>\n",
              "      <td>...</td>\n",
              "      <td>...</td>\n",
              "      <td>...</td>\n",
              "      <td>...</td>\n",
              "      <td>...</td>\n",
              "      <td>...</td>\n",
              "      <td>...</td>\n",
              "    </tr>\n",
              "    <tr>\n",
              "      <th>995</th>\n",
              "      <td>IllusionAnimals_996</td>\n",
              "      <td>Saharan sandstorm turning daytime into darkness</td>\n",
              "      <td>low quality</td>\n",
              "      <td>2.5</td>\n",
              "      <td>rooster</td>\n",
              "      <td>rooster</td>\n",
              "      <td>'horses'</td>\n",
              "      <td>'horses'</td>\n",
              "      <td>The rooster</td>\n",
              "      <td>'Cat'</td>\n",
              "    </tr>\n",
              "    <tr>\n",
              "      <th>996</th>\n",
              "      <td>IllusionAnimals_997</td>\n",
              "      <td>Urban city with skyscrapers and traffic</td>\n",
              "      <td>low quality</td>\n",
              "      <td>2.5</td>\n",
              "      <td>rooster</td>\n",
              "      <td>rooster</td>\n",
              "      <td>'Cat'</td>\n",
              "      <td>'pig'</td>\n",
              "      <td>The rooster</td>\n",
              "      <td>'horses'</td>\n",
              "    </tr>\n",
              "    <tr>\n",
              "      <th>997</th>\n",
              "      <td>IllusionAnimals_998</td>\n",
              "      <td>A serene meadow with wildflowers and butterflies</td>\n",
              "      <td>low quality</td>\n",
              "      <td>2.5</td>\n",
              "      <td>rooster</td>\n",
              "      <td>rooster</td>\n",
              "      <td>'Cat'</td>\n",
              "      <td>'Cat'</td>\n",
              "      <td>The image is a black and white picture.</td>\n",
              "      <td>'Cat'</td>\n",
              "    </tr>\n",
              "    <tr>\n",
              "      <th>998</th>\n",
              "      <td>IllusionAnimals_999</td>\n",
              "      <td>Elk bugling in crisp autumn air</td>\n",
              "      <td>low quality</td>\n",
              "      <td>2.5</td>\n",
              "      <td>rooster</td>\n",
              "      <td>rooster</td>\n",
              "      <td>'Cat'</td>\n",
              "      <td>The elk</td>\n",
              "      <td>'Cat'</td>\n",
              "      <td>'horses'</td>\n",
              "    </tr>\n",
              "    <tr>\n",
              "      <th>999</th>\n",
              "      <td>IllusionAnimals_1000</td>\n",
              "      <td>Misty waterfall cascading, mossy rocks glow, s...</td>\n",
              "      <td>low quality</td>\n",
              "      <td>2.5</td>\n",
              "      <td>rooster</td>\n",
              "      <td>rooster</td>\n",
              "      <td>'Cat'</td>\n",
              "      <td>'Cat'</td>\n",
              "      <td>'cat'</td>\n",
              "      <td>'Cat'</td>\n",
              "    </tr>\n",
              "  </tbody>\n",
              "</table>\n",
              "<p>1000 rows × 10 columns</p>\n",
              "</div>"
            ],
            "text/plain": [
              "               image_name                                            Pprompt  \\\n",
              "0       IllusionAnimals_1  A raging river flowing through a dense jungle ...   \n",
              "1       IllusionAnimals_2            A starry night sky over a tranquil lake   \n",
              "2       IllusionAnimals_3  Jaguar (Panthera Onca) patrolling South Americ...   \n",
              "3       IllusionAnimals_4  Flowing lava illuminates cavern walls, ancient...   \n",
              "4       IllusionAnimals_5  Dense forest canopy, sunlight filters through,...   \n",
              "..                    ...                                                ...   \n",
              "995   IllusionAnimals_996    Saharan sandstorm turning daytime into darkness   \n",
              "996   IllusionAnimals_997            Urban city with skyscrapers and traffic   \n",
              "997   IllusionAnimals_998   A serene meadow with wildflowers and butterflies   \n",
              "998   IllusionAnimals_999                    Elk bugling in crisp autumn air   \n",
              "999  IllusionAnimals_1000  Misty waterfall cascading, mossy rocks glow, s...   \n",
              "\n",
              "         Nprompt  illusion_strength    label raw_answer ill_answer  \\\n",
              "0    low quality                2.5      cat        cat   'horses'   \n",
              "1    low quality                2.5      cat        cat   'horses'   \n",
              "2    low quality                2.5      cat        cat      'pig'   \n",
              "3    low quality                2.5      cat        cat      'Cat'   \n",
              "4    low quality                2.5      cat        cat      'Cat'   \n",
              "..           ...                ...      ...        ...        ...   \n",
              "995  low quality                2.5  rooster    rooster   'horses'   \n",
              "996  low quality                2.5  rooster    rooster      'Cat'   \n",
              "997  low quality                2.5  rooster    rooster      'Cat'   \n",
              "998  low quality                2.5  rooster    rooster      'Cat'   \n",
              "999  low quality                2.5  rooster    rooster      'Cat'   \n",
              "\n",
              "    illless_answer                                  ill_fliter_answer  \\\n",
              "0         'horses'                                              'Cat'   \n",
              "1            'Cat'  'dog, pigeon, butterfly, elephant, horse, snak...   \n",
              "2       'elephant'                                                cat   \n",
              "3         'horses'                                                cat   \n",
              "4         'horses'                                              'Cat'   \n",
              "..             ...                                                ...   \n",
              "995       'horses'                                        The rooster   \n",
              "996          'pig'                                        The rooster   \n",
              "997          'Cat'            The image is a black and white picture.   \n",
              "998        The elk                                              'Cat'   \n",
              "999          'Cat'                                              'cat'   \n",
              "\n",
              "    illless_filter_answer  \n",
              "0                'horses'  \n",
              "1                   'Cat'  \n",
              "2                     cat  \n",
              "3                   'Cat'  \n",
              "4                   'Cat'  \n",
              "..                    ...  \n",
              "995                 'Cat'  \n",
              "996              'horses'  \n",
              "997                 'Cat'  \n",
              "998              'horses'  \n",
              "999                 'Cat'  \n",
              "\n",
              "[1000 rows x 10 columns]"
            ]
          },
          "execution_count": 47,
          "metadata": {},
          "output_type": "execute_result"
        }
      ],
      "source": [
        "df"
      ]
    },
    {
      "cell_type": "code",
      "execution_count": 48,
      "metadata": {},
      "outputs": [],
      "source": [
        "# import torch\n",
        "import numpy as np\n",
        "import random\n",
        "\n",
        "# Make reproducible code\n",
        "GLOBAL_SEED = 10\n",
        "\n",
        "np.random.seed(GLOBAL_SEED)\n",
        "random.seed(GLOBAL_SEED)\n",
        "# torch.manual_seed(GLOBAL_SEED)\n",
        "# torch.use_deterministic_algorithms(True)\n",
        "# %env CUBLAS_WORKSPACE_CONFIG=:4096:8\n",
        "\n",
        "# torch.backends.cudnn.deterministic = True\n",
        "# torch.backends.cudnn.benchmark = False\n",
        "\n",
        "illusionless_indexes = random.sample(range(len(df)), int(len(df)*0.1))"
      ]
    },
    {
      "cell_type": "code",
      "execution_count": 49,
      "metadata": {
        "id": "Kb7xw2TXIbp4"
      },
      "outputs": [],
      "source": [
        "raw_classes = {\n",
        "    'FashionMnist': ['T-shirt/top', 'Trouser', 'Pullover', 'Dress', 'Coat', 'Sandal', 'Shirt', 'Sneaker', 'Bag', 'Ankle boot'],\n",
        "    'Mnist': ['digit 0', 'digit 1', 'digit 2', 'digit 3', 'digit 4', 'digit 5', 'digit 6', 'digit 7', 'digit 8', 'digit 9'],\n",
        "    'IllusionAnimals': ['cat', 'dog', 'pigeon', 'butterfly', 'elephant', 'horse', 'deer', 'snake', 'fish', 'rooster' ],\n",
        "}\n",
        "\n",
        "classes = {\n",
        "    'FashionMnist': ['T-shirt/top', 'Trouser', 'Pullover', 'Dress', 'Coat', 'Sandal', 'Shirt', 'Sneaker', 'Bag', 'Ankle boot', 'No illusion'],\n",
        "    'Mnist': ['digit 0', 'digit 1', 'digit 2', 'digit 3', 'digit 4', 'digit 5', 'digit 6', 'digit 7', 'digit 8', 'digit 9', 'No illusion'],\n",
        "    'IllusionAnimals': ['cat', 'dog', 'pigeon', 'butterfly', 'elephant', 'horse', 'deer', 'snake', 'fish', 'rooster', 'No illusion' ],\n",
        "}\n"
      ]
    },
    {
      "cell_type": "code",
      "execution_count": 50,
      "metadata": {
        "colab": {
          "base_uri": "https://localhost:8080/"
        },
        "id": "0SNnAWHGIbp5",
        "outputId": "8637ef3b-0c5b-4f63-da65-28468a540b2b"
      },
      "outputs": [
        {
          "data": {
            "text/plain": [
              "{'a baby deer',\n",
              " 'a bird',\n",
              " 'a butterfly',\n",
              " 'a deer',\n",
              " 'a dog',\n",
              " 'a fish',\n",
              " 'a horse',\n",
              " 'a rooster',\n",
              " 'a snake',\n",
              " 'beagle',\n",
              " 'butterfly',\n",
              " 'cat',\n",
              " 'deer',\n",
              " 'dog',\n",
              " 'dog, butterfly, elephant, duck, horse, snake, duck',\n",
              " 'dog, pigeon, butterfly, elephant, deer, snake, bird, rooster, duck, and snake. the image shows a brown cat sitting on the floor.',\n",
              " 'dog, pigeon, butterfly, elephant, deer, snake, bird, rooster, duck, duckling, duck',\n",
              " 'dog, pigeon, butterfly, elephant, deer, snake, bird, rooster, duck, horse, duck',\n",
              " 'dog, pigeon, butterfly, elephant, horse, deer, snake, duck, rooster',\n",
              " 'dog, pigeon, butterfly, elephant, horse, snake, duck, rooster, deer, snake',\n",
              " 'dog, pigeon, elephant, horse, snake, duck, bird, frog, and rooster.',\n",
              " 'dog, pigeon, elephant, horse, snake, duck, bird, frog, and rooster. the image shows a picture of a butterfly on a wooden surface.',\n",
              " 'elephant',\n",
              " 'fish',\n",
              " 'horse',\n",
              " 'horse.',\n",
              " 'horses',\n",
              " 'pigeon',\n",
              " 'rooster',\n",
              " 'snake',\n",
              " 'snakes',\n",
              " 'the class is animal',\n",
              " 'the class is animals.',\n",
              " 'the class is cats',\n",
              " 'the class is cats.',\n",
              " 'the class is horses',\n",
              " 'the class is horses.',\n",
              " 'the class issnakes.',\n",
              " 'the deer',\n",
              " 'the deer is in a class called cats.',\n",
              " 'the deer is in a class of cats.',\n",
              " 'the dog',\n",
              " 'the dog is a dog breed.',\n",
              " 'the fish is a cat.',\n",
              " 'the fish is a fish.',\n",
              " 'the fish is in a class of cats.',\n",
              " 'the horse',\n",
              " 'the horse is a horse.',\n",
              " 'the horse is in a class called cats.',\n",
              " 'the horse is in a class called horses.',\n",
              " 'the image is a greyscale photograph of a fish.',\n",
              " 'the image shows a group of animals, including a fish, a bird, a pig, a butterfly, and a snake.',\n",
              " 'the image shows a group of animals, including a fish, a bird, a pig, a horse, a snake, and a duck.',\n",
              " 'the picture is a fish.',\n",
              " 'the picture is a picture of a fish.',\n",
              " 'the picture is a still life of a fish on a grey background.',\n",
              " 'the picture is a still life of a fish.',\n",
              " 'the picture is a still life of two snakes intertwined.',\n",
              " 'the picture is a still life painting of a fish.',\n",
              " 'the snake is a snake.',\n",
              " 'the snake is in a class of animals called reptiles.',\n",
              " 'the snake is in a class of cats.',\n",
              " 'the two deer are in the class of cats.'}"
            ]
          },
          "execution_count": 50,
          "metadata": {},
          "output_type": "execute_result"
        }
      ],
      "source": [
        "{item.strip().replace('\\'', '').lower() for item in df[f'raw_answer'].unique()}"
      ]
    },
    {
      "cell_type": "code",
      "execution_count": 51,
      "metadata": {
        "colab": {
          "base_uri": "https://localhost:8080/"
        },
        "id": "hNL-5yoKIbp5",
        "outputId": "314d2de3-5e08-4b56-e7a5-94e93bc53de6"
      },
      "outputs": [
        {
          "data": {
            "text/plain": [
              "['cat',\n",
              " 'dog',\n",
              " 'pigeon',\n",
              " 'butterfly',\n",
              " 'elephant',\n",
              " 'horse',\n",
              " 'deer',\n",
              " 'snake',\n",
              " 'fish',\n",
              " 'rooster']"
            ]
          },
          "execution_count": 51,
          "metadata": {},
          "output_type": "execute_result"
        }
      ],
      "source": [
        "raw_classes[dataset]"
      ]
    },
    {
      "cell_type": "code",
      "execution_count": 52,
      "metadata": {
        "id": "3TBHklokIbp5"
      },
      "outputs": [],
      "source": [
        "def find_class(x, classes):\n",
        "    for item in classes:\n",
        "        if item.lower() in x.lower():\n",
        "            return item\n",
        "    return x\n",
        "\n",
        "# def find_class(x, correct_label, classes):\n",
        "#     lower_x = x.lower()\n",
        "#     lower_classes = [item.lower() for item in classes]\n",
        "    \n",
        "#     found_classes = []\n",
        "#     for item in classes:\n",
        "#         if item.lower() == 'T-shirt/top'.lower():\n",
        "#             if 'T-shirt'.lower() in x.lower() or 'top'.lower() in x.lower():\n",
        "#                 found_classes.append(item.lower())\n",
        "#         elif item.lower() in x.lower():\n",
        "#             found_classes.append(item.lower())\n",
        "\n",
        "#     if len(found_classes) == len(classes):\n",
        "#         return 'all'\n",
        "#     elif correct_label.lower() in lower_classes and any(item.lower() == correct_label.lower() for item in found_classes):\n",
        "#         return correct_label\n",
        "#     elif found_classes:\n",
        "#         return found_classes[0]\n",
        "#     else:\n",
        "#         return x"
      ]
    },
    {
      "cell_type": "code",
      "execution_count": 53,
      "metadata": {
        "id": "T-oMlhrGIbp5"
      },
      "outputs": [],
      "source": [
        "# idx2label = {idx: label.strip().lower() for idx, label in enumerate(classes[dataset])}\n",
        "\n",
        "# df['raw_answer'] = df.apply(lambda row: find_class(row['raw_answer'], row['label'].strip().lower(), classes[dataset]), axis=1)\n",
        "\n",
        "df['raw_answer'] = df['raw_answer'].apply(lambda x: find_class(x, raw_classes[dataset]))"
      ]
    },
    {
      "cell_type": "code",
      "execution_count": 54,
      "metadata": {
        "colab": {
          "base_uri": "https://localhost:8080/"
        },
        "id": "stC7Ckr0Ibp5",
        "outputId": "0c0b6535-6f97-497d-9a7d-5a24e78e3ab9"
      },
      "outputs": [
        {
          "data": {
            "text/plain": [
              "{'a bird',\n",
              " 'beagle',\n",
              " 'butterfly',\n",
              " 'cat',\n",
              " 'deer',\n",
              " 'dog',\n",
              " 'elephant',\n",
              " 'fish',\n",
              " 'horse',\n",
              " 'pigeon',\n",
              " 'rooster',\n",
              " 'snake',\n",
              " 'the class is animal',\n",
              " 'the class is animals.'}"
            ]
          },
          "execution_count": 54,
          "metadata": {},
          "output_type": "execute_result"
        }
      ],
      "source": [
        "{item.strip().replace('\\'', '').lower() for item in df[f'raw_answer'].unique()}"
      ]
    },
    {
      "cell_type": "markdown",
      "metadata": {
        "id": "U5pQTHnYIbp5"
      },
      "source": [
        "## Raw"
      ]
    },
    {
      "cell_type": "code",
      "execution_count": 55,
      "metadata": {
        "id": "XsX7MHwEIbp6"
      },
      "outputs": [],
      "source": [
        "idx2label = {idx: label.strip().lower() for idx, label in enumerate(classes[dataset])}\n",
        "if dataset == 'IllusionAnimals':\n",
        "    y_true = df['label'].apply(lambda x: x.strip().lower())\n",
        "else:\n",
        "    y_true = df['label'].apply(lambda x: idx2label[x].strip().lower())\n",
        "y_pred = df[f'raw_answer'].apply(lambda x: x.strip().replace('\\'', '').lower())"
      ]
    },
    {
      "cell_type": "code",
      "execution_count": 56,
      "metadata": {
        "colab": {
          "base_uri": "https://localhost:8080/"
        },
        "id": "fwlhLPYqIbp6",
        "outputId": "84d0dfc0-0f6d-41e9-eed7-bf79a40ff954"
      },
      "outputs": [
        {
          "data": {
            "text/plain": [
              "{'a bird',\n",
              " 'beagle',\n",
              " 'butterfly',\n",
              " 'cat',\n",
              " 'deer',\n",
              " 'dog',\n",
              " 'elephant',\n",
              " 'fish',\n",
              " 'horse',\n",
              " 'pigeon',\n",
              " 'rooster',\n",
              " 'snake',\n",
              " 'the class is animal',\n",
              " 'the class is animals.'}"
            ]
          },
          "execution_count": 56,
          "metadata": {},
          "output_type": "execute_result"
        }
      ],
      "source": [
        "set(list(y_pred))"
      ]
    },
    {
      "cell_type": "code",
      "execution_count": 57,
      "metadata": {},
      "outputs": [
        {
          "data": {
            "text/plain": [
              "{'butterfly',\n",
              " 'cat',\n",
              " 'deer',\n",
              " 'dog',\n",
              " 'elephant',\n",
              " 'fish',\n",
              " 'horse',\n",
              " 'pigeon',\n",
              " 'rooster',\n",
              " 'snake'}"
            ]
          },
          "execution_count": 57,
          "metadata": {},
          "output_type": "execute_result"
        }
      ],
      "source": [
        "set(list(y_true))"
      ]
    },
    {
      "cell_type": "code",
      "execution_count": 58,
      "metadata": {
        "colab": {
          "base_uri": "https://localhost:8080/"
        },
        "id": "x2UTx4cJIbp6",
        "outputId": "5d248ac8-cd11-4584-9381-e508fe0da9b3"
      },
      "outputs": [
        {
          "name": "stdout",
          "output_type": "stream",
          "text": [
            "Accuracy: 92.4\n",
            "Precision: 67.79\n",
            "Recall: 66.0\n",
            "F1 score: 66.35\n"
          ]
        },
        {
          "name": "stderr",
          "output_type": "stream",
          "text": [
            "d:\\anaconda3\\lib\\site-packages\\sklearn\\metrics\\_classification.py:1221: UndefinedMetricWarning: Recall is ill-defined and being set to 0.0 in labels with no true samples. Use `zero_division` parameter to control this behavior.\n",
            "  _warn_prf(average, modifier, msg_start, len(result))\n"
          ]
        }
      ],
      "source": [
        "accuracy = accuracy_score(y_true, y_pred)\n",
        "precision = precision_score(y_true, y_pred, average='macro')\n",
        "recall = recall_score(y_true, y_pred, average='macro')\n",
        "f1 = f1_score(y_true, y_pred, average='macro')\n",
        "\n",
        "print(\"Accuracy:\", round(accuracy*100, 2))\n",
        "print(\"Precision:\", round(precision*100,2))\n",
        "print(\"Recall:\", round(recall*100,2))\n",
        "print(\"F1 score:\", round(f1*100, 2))\n",
        "# Accuracy: 0.924\n",
        "# Precision: 0.6778594035556222\n",
        "# Recall: 0.66\n",
        "# F1 score: 0.6635174049590837\n",
        "# \n",
        "# Accuracy: 0.966\n",
        "# Precision: 0.6962096986823693\n",
        "# Recall: 0.6900000000000001\n",
        "# F1 score: 0.6918295969465518"
      ]
    },
    {
      "cell_type": "markdown",
      "metadata": {
        "id": "lMLR5J0rIbp6"
      },
      "source": [
        "## Illusion"
      ]
    },
    {
      "cell_type": "code",
      "execution_count": 59,
      "metadata": {
        "id": "9g07tOKNIbp6"
      },
      "outputs": [],
      "source": [
        "classes = {\n",
        "    'FashionMnist': ['T-shirt/top', 'Trouser', 'Pullover', 'Dress', 'Coat', 'Sandal', 'Shirt', 'Sneaker', 'Bag', 'Ankle boot', 'no illusion'],\n",
        "    'Mnist': ['digit 0', 'digit 1', 'digit 2', 'digit 3', 'digit 4', 'digit 5', 'digit 6', 'digit 7', 'digit 8', 'digit 9', 'no illusion'],\n",
        "    'IllusionAnimals': ['cat', 'dog', 'pigeon', 'butterfly', 'elephant', 'horse', 'deer', 'snake', 'fish', 'rooster' , 'no illusion'],\n",
        "}\n",
        "# idx2label = {idx: label.strip().lower() for idx, label in enumerate(classes[dataset])}\n",
        "# if dataset == 'IllusionAnimals':\n",
        "#     y_true = list(df['label'].apply(lambda x: x.strip().lower())) + list(df['label'].apply(lambda x: 'no illusion'))\n",
        "# else:\n",
        "#     y_true = list(df['label'].apply(lambda x: idx2label[x].strip().lower())) + list(df['label'].apply(lambda x: 'no illusion'))\n",
        "\n",
        "# # y_true = list(df['label'].apply(lambda x: idx2label[x].strip().lower())) + list(df['label'].apply(lambda x: 'no illusion'))\n",
        "\n",
        "# # y_pred = list(df[f'ill_images'].apply(lambda x: x.strip().replace('\\'', '').lower())) + list(df[f'illusionless_images'].apply(lambda x: x.strip().replace('\\'', '').lower()))\n",
        "# # y_pred = list(df[f'ill_answer'].apply(lambda x: find_class(x, classes[dataset]).strip().replace('\\'', '').lower())) + list(df[f'illless_answer'].apply(lambda x: find_class(x, classes[dataset]).strip().replace('\\'', '').lower()))\n",
        "\n",
        "# y_pred = list(df.apply(lambda row: find_class(row['ill_answer'], row['label'].strip().lower(), classes[dataset]).strip().replace('\\'', '').lower(), axis=1)) \\\n",
        "#     + list(df.apply(lambda row: find_class(row['illless_answer'], row['label'].strip().lower(), classes[dataset]).strip().replace('\\'', '').lower(), axis=1)) \n",
        "\n",
        "\n",
        "\n",
        "idx2label = {idx: label.strip().lower() for idx, label in enumerate(classes[dataset])}\n",
        "if dataset == 'IllusionAnimals':\n",
        "    # y_true = list(df['label'].apply(lambda x: x.strip().lower())) + list(df['label'].apply(lambda x: 'no illusion'))\n",
        "    y_true = list(df['label'].apply(lambda x: x.strip().lower())) + list(df.filter(items=illusionless_indexes, axis=0)['label'].apply(lambda x: 'no illusion'))\n",
        "else:\n",
        "    # y_true = list(df['label'].apply(lambda x: idx2label[x].strip().lower())) + list(df['label'].apply(lambda x: 'no illusion'))\n",
        "    y_true = list(df['label'].apply(lambda x: idx2label[x].strip().lower())) + list(df.filter(items=illusionless_indexes, axis=0)['label'].apply(lambda x: 'no illusion'))\n",
        "\n",
        "# y_pred = list(df[f'ill_answer'].apply(lambda x: find_class(x, classes[dataset]).strip().replace('\\'', '').lower())) \\\n",
        "#     + list(df[f'ill_less_answer'].apply(lambda x: find_class(x, classes[dataset]).strip().replace('\\'', '').lower()))\n",
        "y_pred = list(df[f'ill_answer'].apply(lambda x: find_class(x, classes[dataset]).strip().replace('\\'', '').lower())) \\\n",
        "    + list(df.filter(items=illusionless_indexes, axis=0)[f'illless_answer'].apply(lambda x: find_class(x, classes[dataset]).strip().replace('\\'', '').lower()))\n"
      ]
    },
    {
      "cell_type": "code",
      "execution_count": 60,
      "metadata": {
        "colab": {
          "base_uri": "https://localhost:8080/"
        },
        "id": "6DgpZ_MNIbp6",
        "outputId": "77b8fd03-d694-4bc5-bc7e-f0a6574de0b7"
      },
      "outputs": [
        {
          "data": {
            "text/plain": [
              "['cat',\n",
              " 'dog',\n",
              " 'pigeon',\n",
              " 'butterfly',\n",
              " 'elephant',\n",
              " 'horse',\n",
              " 'deer',\n",
              " 'snake',\n",
              " 'fish',\n",
              " 'rooster',\n",
              " 'no illusion']"
            ]
          },
          "execution_count": 60,
          "metadata": {},
          "output_type": "execute_result"
        }
      ],
      "source": [
        "classes[dataset]"
      ]
    },
    {
      "cell_type": "code",
      "execution_count": 61,
      "metadata": {
        "colab": {
          "base_uri": "https://localhost:8080/"
        },
        "id": "eHSJo2usIbp6",
        "outputId": "c352eb52-6e9c-491a-a7dd-facf0d920556"
      },
      "outputs": [
        {
          "data": {
            "text/plain": [
              "{'a goat',\n",
              " 'a house',\n",
              " 'an iceberg',\n",
              " 'bear',\n",
              " 'bird',\n",
              " 'butterflies',\n",
              " 'butterfly',\n",
              " 'camel',\n",
              " 'cat',\n",
              " 'chicken',\n",
              " 'clouds',\n",
              " 'dog',\n",
              " 'elefant',\n",
              " 'elephant',\n",
              " 'fish',\n",
              " 'giraffes',\n",
              " 'horse',\n",
              " 'hummingbird',\n",
              " 'lion',\n",
              " 'octopus',\n",
              " 'osprey',\n",
              " 'pig',\n",
              " 'sloth',\n",
              " 'snake',\n",
              " 'tents',\n",
              " 'the carousel',\n",
              " 'the cars are driving on a road that is curved.',\n",
              " 'the castle is a castle.',\n",
              " 'the elk',\n",
              " 'the giant sequoias',\n",
              " 'the icebergs are all floating in the water.',\n",
              " 'the image is a cave with a large rock formation and a cave that has a large cave with many stalactites and stalagmites.',\n",
              " 'the image is a cityscape with a bridge and a river.',\n",
              " 'the image is a cityscape with a tall building in the middle of the city.',\n",
              " 'the image is a desert landscape with a large rock formation in the middle of the scene.',\n",
              " 'the image is a desert landscape with a rock formation in the middle of the desert.',\n",
              " 'the image is a desert landscape with a rock formation that looks like a face.',\n",
              " 'the image is a desert landscape with sand dunes.',\n",
              " 'the image is a field of wheat.',\n",
              " 'the image is a painting of a field of wheat.',\n",
              " 'the image is a still image of a coral reef with a large group of corals.',\n",
              " 'the image is an aerial view of a desert with a large building in the middle of the desert.',\n",
              " 'the image is an aerial view of a desert with a large sand dune in the foreground.',\n",
              " 'the image is an aerial view of a desert with a large, old, and abandoned building.',\n",
              " 'the image is an aerial view of a desert with a mountain in the middle.',\n",
              " 'the image is an aerial view of a desert with sand dunes.',\n",
              " 'the image is an aerial view of a frozen lake with a large tree in the middle of the ice.',\n",
              " 'the image is an aerial view of a green field with a cluster of houses in the middle.',\n",
              " 'the image is an aerial view of a lake with a man-made figure in it.',\n",
              " 'the image is an aerial view of a resort island with a row of white buildings on the water.',\n",
              " 'the image is an aerial view of a village in the countryside.',\n",
              " 'the image is an illusion.',\n",
              " 'the image is an image of an iceberg in the ocean.',\n",
              " 'the image is of a field of purple flowers.',\n",
              " 'the image is of a forest with a house in the middle of it.',\n",
              " 'the image is of a pink rose.',\n",
              " 'the rock formation is a rock formation.',\n",
              " 'the tree is a tree with a bird nest.',\n",
              " 'the white fox',\n",
              " 'umbrella',\n",
              " 'wildebeest'}"
            ]
          },
          "execution_count": 61,
          "metadata": {},
          "output_type": "execute_result"
        }
      ],
      "source": [
        "set(y_pred)"
      ]
    },
    {
      "cell_type": "code",
      "execution_count": 62,
      "metadata": {
        "colab": {
          "base_uri": "https://localhost:8080/"
        },
        "id": "UGm1adLcIbp7",
        "outputId": "85f483fe-4849-43c6-a9d1-658a48a5c682"
      },
      "outputs": [
        {
          "data": {
            "text/plain": [
              "{'butterfly',\n",
              " 'cat',\n",
              " 'deer',\n",
              " 'dog',\n",
              " 'elephant',\n",
              " 'fish',\n",
              " 'horse',\n",
              " 'no illusion',\n",
              " 'pigeon',\n",
              " 'rooster',\n",
              " 'snake'}"
            ]
          },
          "execution_count": 62,
          "metadata": {},
          "output_type": "execute_result"
        }
      ],
      "source": [
        "set(y_true)"
      ]
    },
    {
      "cell_type": "code",
      "execution_count": 63,
      "metadata": {
        "colab": {
          "base_uri": "https://localhost:8080/"
        },
        "id": "XCOPYcmEIbp7",
        "outputId": "167fcb1d-88c8-49ad-bd0a-fd0996498722"
      },
      "outputs": [
        {
          "name": "stdout",
          "output_type": "stream",
          "text": [
            "Accuracy: 8.64\n",
            "Precision: 2.3\n",
            "Recall: 1.46\n",
            "F1 score: 0.71\n"
          ]
        },
        {
          "name": "stderr",
          "output_type": "stream",
          "text": [
            "d:\\anaconda3\\lib\\site-packages\\sklearn\\metrics\\_classification.py:1221: UndefinedMetricWarning: Precision is ill-defined and being set to 0.0 in labels with no predicted samples. Use `zero_division` parameter to control this behavior.\n",
            "  _warn_prf(average, modifier, msg_start, len(result))\n",
            "d:\\anaconda3\\lib\\site-packages\\sklearn\\metrics\\_classification.py:1221: UndefinedMetricWarning: Recall is ill-defined and being set to 0.0 in labels with no true samples. Use `zero_division` parameter to control this behavior.\n",
            "  _warn_prf(average, modifier, msg_start, len(result))\n"
          ]
        }
      ],
      "source": [
        "accuracy = accuracy_score(y_true, y_pred)\n",
        "precision = precision_score(y_true, y_pred, average='macro')\n",
        "recall = recall_score(y_true, y_pred, average='macro')\n",
        "f1 = f1_score(y_true, y_pred, average='macro')\n",
        "\n",
        "print(\"Accuracy:\", round(accuracy*100, 2))\n",
        "print(\"Precision:\", round(precision*100,2))\n",
        "print(\"Recall:\", round(recall*100,2))\n",
        "print(\"F1 score:\", round(f1*100, 2))\n",
        "# Accuracy: 0.0475\n",
        "# Precision: 0.01324468880378424\n",
        "# Recall: 0.0095\n",
        "# F1 score: 0.0031888410029258635\n",
        "\n",
        "# Accuracy: 0.059\n",
        "# Precision: 0.03621398608692367\n",
        "# Recall: 0.011683168316831685\n",
        "# F1 score: 0.0063056449923167696"
      ]
    },
    {
      "cell_type": "markdown",
      "metadata": {
        "id": "2l1nhDehIbp7"
      },
      "source": [
        "## Illusion Filtered"
      ]
    },
    {
      "cell_type": "code",
      "execution_count": 64,
      "metadata": {
        "id": "nexJjSNUIbp7"
      },
      "outputs": [],
      "source": [
        "classes = {\n",
        "    'FashionMnist': ['T-shirt/top', 'Trouser', 'Pullover', 'Dress', 'Coat', 'Sandal', 'Shirt', 'Sneaker', 'Bag', 'Ankle boot', 'no illusion'],\n",
        "    'Mnist': ['digit 0', 'digit 1', 'digit 2', 'digit 3', 'digit 4', 'digit 5', 'digit 6', 'digit 7', 'digit 8', 'digit 9', 'no illusion'],\n",
        "    'IllusionAnimals': ['cat', 'dog', 'pigeon', 'butterfly', 'elephant', 'horse', 'deer', 'snake', 'fish', 'rooster' , 'no illusion'],\n",
        "}\n",
        "# idx2label = {idx: label.strip().lower() for idx, label in enumerate(classes[dataset])}\n",
        "# # y_true = list(df['label'].apply(lambda x: idx2label[x].strip().lower())) + list(df['label'].apply(lambda x: 'no illusion'))\n",
        "# if dataset == 'IllusionAnimals':\n",
        "#     y_true = list(df['label'].apply(lambda x: x.strip().lower())) + list(df['label'].apply(lambda x: 'no illusion'))\n",
        "# else:\n",
        "#     y_true = list(df['label'].apply(lambda x: idx2label[x].strip().lower())) + list(df['label'].apply(lambda x: 'no illusion'))\n",
        "\n",
        "\n",
        "# # y_pred = list(df[f'ill_fliter_answer'].apply(lambda x: find_class(x, classes[dataset]).strip().replace('\\'', '').lower())) + list(df[f'illless_filter_answer'].apply(lambda x: find_class(x, classes[dataset]).strip().replace('\\'', '').lower()))\n",
        "# y_pred = list(df.apply(lambda row: find_class(row['ill_fliter_answer'], row['label'].strip().lower(), classes[dataset]).strip().replace('\\'', '').lower(), axis=1)) \\\n",
        "#     + list(df.apply(lambda row: find_class(row['illless_filter_answer'], row['label'].strip().lower(), classes[dataset]).strip().replace('\\'', '').lower(), axis=1)) \n",
        "\n",
        "\n",
        "idx2label = {idx: label.strip().lower() for idx, label in enumerate(classes[dataset])}\n",
        "if dataset == 'IllusionAnimals':\n",
        "    # y_true = list(df['label'].apply(lambda x: x.strip().lower())) + list(df['label'].apply(lambda x: 'no illusion'))\n",
        "    y_true = list(df['label'].apply(lambda x: x.strip().lower())) + list(df.filter(items=illusionless_indexes, axis=0)['label'].apply(lambda x: 'no illusion'))\n",
        "else:\n",
        "    # y_true = list(df['label'].apply(lambda x: idx2label[x].strip().lower())) + list(df['label'].apply(lambda x: 'no illusion'))\n",
        "    y_true = list(df['label'].apply(lambda x: idx2label[x].strip().lower())) + list(df.filter(items=illusionless_indexes, axis=0)['label'].apply(lambda x: 'no illusion'))\n",
        "\n",
        "# y_pred = list(df[f'ill_answer'].apply(lambda x: find_class(x, classes[dataset]).strip().replace('\\'', '').lower())) \\\n",
        "#     + list(df[f'ill_less_answer'].apply(lambda x: find_class(x, classes[dataset]).strip().replace('\\'', '').lower()))\n",
        "y_pred = list(df[f'ill_fliter_answer'].apply(lambda x: find_class(x, classes[dataset]).strip().replace('\\'', '').lower())) \\\n",
        "    + list(df.filter(items=illusionless_indexes, axis=0)[f'illless_filter_answer'].apply(lambda x: find_class(x, classes[dataset]).strip().replace('\\'', '').lower()))\n"
      ]
    },
    {
      "cell_type": "code",
      "execution_count": 65,
      "metadata": {
        "colab": {
          "base_uri": "https://localhost:8080/"
        },
        "id": "5hO7bbshIbp7",
        "outputId": "5425ef2c-ab3b-4823-93f0-a603e7cb1796"
      },
      "outputs": [
        {
          "data": {
            "text/plain": [
              "{'butterflies',\n",
              " 'cat',\n",
              " 'dog',\n",
              " 'elefant',\n",
              " 'elephant',\n",
              " 'horse',\n",
              " 'pigeon',\n",
              " 'rooster',\n",
              " 'the image is a black and white photo.',\n",
              " 'the image is a black and white photograph.',\n",
              " 'the image is a black and white picture.'}"
            ]
          },
          "execution_count": 65,
          "metadata": {},
          "output_type": "execute_result"
        }
      ],
      "source": [
        "set(y_pred)"
      ]
    },
    {
      "cell_type": "code",
      "execution_count": 66,
      "metadata": {
        "colab": {
          "base_uri": "https://localhost:8080/"
        },
        "id": "BwS8pIKsIbp7",
        "outputId": "bbc47b3e-4cca-4b12-82c6-0f5b3187a8b5"
      },
      "outputs": [
        {
          "name": "stdout",
          "output_type": "stream",
          "text": [
            "Accuracy: 23.0\n",
            "Precision: 25.11\n",
            "Recall: 15.81\n",
            "F1 score: 13.17\n"
          ]
        },
        {
          "name": "stderr",
          "output_type": "stream",
          "text": [
            "d:\\anaconda3\\lib\\site-packages\\sklearn\\metrics\\_classification.py:1221: UndefinedMetricWarning: Precision is ill-defined and being set to 0.0 in labels with no predicted samples. Use `zero_division` parameter to control this behavior.\n",
            "  _warn_prf(average, modifier, msg_start, len(result))\n",
            "d:\\anaconda3\\lib\\site-packages\\sklearn\\metrics\\_classification.py:1221: UndefinedMetricWarning: Recall is ill-defined and being set to 0.0 in labels with no true samples. Use `zero_division` parameter to control this behavior.\n",
            "  _warn_prf(average, modifier, msg_start, len(result))\n"
          ]
        }
      ],
      "source": [
        "accuracy = accuracy_score(y_true, y_pred)\n",
        "precision = precision_score(y_true, y_pred, average='macro')\n",
        "recall = recall_score(y_true, y_pred, average='macro')\n",
        "f1 = f1_score(y_true, y_pred, average='macro')\n",
        "\n",
        "print(\"Accuracy:\", round(accuracy*100, 2))\n",
        "print(\"Precision:\", round(precision*100,2))\n",
        "print(\"Recall:\", round(recall*100,2))\n",
        "print(\"F1 score:\", round(f1*100, 2))\n",
        "# Accuracy: 0.1265\n",
        "# Precision: 0.19963953754114397\n",
        "# Recall: 0.14055555555555557\n",
        "# F1 score: 0.10223505339378192\n",
        "\n",
        "# Accuracy: 0.1265\n",
        "# Precision: 0.19747727823534764\n",
        "# Recall: 0.14055555555555557\n",
        "# F1 score: 0.10249803371486947"
      ]
    }
  ],
  "metadata": {
    "colab": {
      "provenance": []
    },
    "kernelspec": {
      "display_name": "Python 3",
      "name": "python3"
    },
    "language_info": {
      "codemirror_mode": {
        "name": "ipython",
        "version": 3
      },
      "file_extension": ".py",
      "mimetype": "text/x-python",
      "name": "python",
      "nbconvert_exporter": "python",
      "pygments_lexer": "ipython3",
      "version": "3.8.3"
    }
  },
  "nbformat": 4,
  "nbformat_minor": 0
}
